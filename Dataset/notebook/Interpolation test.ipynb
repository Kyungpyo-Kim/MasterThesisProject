{
 "cells": [
  {
   "cell_type": "markdown",
   "metadata": {},
   "source": [
    "# Interpolation test"
   ]
  },
  {
   "cell_type": "code",
   "execution_count": 2,
   "metadata": {},
   "outputs": [],
   "source": [
    "import os, sys\n",
    "\n",
    "import pcl\n",
    "\n",
    "import numpy as np\n",
    "\n",
    "from tqdm import tqdm\n",
    "\n",
    "sys.path.append(os.path.abspath('../scripts') )\n",
    "from utils import *"
   ]
  },
  {
   "cell_type": "code",
   "execution_count": 7,
   "metadata": {},
   "outputs": [
    {
     "name": "stderr",
     "output_type": "stream",
     "text": [
      "100%|██████████| 81/81 [00:00<00:00, 381.31it/s]"
     ]
    },
    {
     "name": "stdout",
     "output_type": "stream",
     "text": [
      "34\n"
     ]
    },
    {
     "name": "stderr",
     "output_type": "stream",
     "text": [
      "\n"
     ]
    }
   ],
   "source": [
    "\"\"\" Load data \"\"\"\n",
    "\n",
    "data_path = os.path.abspath('../interpolation/data')\n",
    "\n",
    "pcd_file_list = []\n",
    "for root, dirs, files in os.walk(data_path):\n",
    "    rootpath = os.path.join(os.path.abspath(data_path), root)\n",
    "\n",
    "    for file in files:\n",
    "        if file.split('.')[-1] == 'pcd':\n",
    "\n",
    "            filepath = os.path.join(rootpath, file)\n",
    "            pcd_file_list.append(filepath)\n",
    "\n",
    "data = []\n",
    "for pcd_file in tqdm(pcd_file_list):\n",
    "    cloud = np.asarray(pcl.load(pcd_file))\n",
    "    \n",
    "    if cloud.shape[0] >= 256:\n",
    "        data.append(cloud)\n",
    "        \n",
    "sys.stdout.flush()\n",
    "print len(data)"
   ]
  },
  {
   "cell_type": "code",
   "execution_count": 15,
   "metadata": {},
   "outputs": [],
   "source": [
    "\"\"\" Data visualization \"\"\"\n",
    "%matplotlib qt\n",
    "\n",
    "idx = 3\n",
    "\n",
    "start_idx = (6 * 6) * idx\n",
    "end_idx = start_idx + 6*6\n",
    "\n",
    "clouds = data[start_idx:end_idx]\n",
    "\n",
    "plt.close('all')\n",
    "fig = plt.figure()\n",
    "\n",
    "fig.subplots_adjust(left=0.02,top= 0.98,bottom=0.02,right=0.98,wspace=0.1,hspace=0.5)\n",
    "\n",
    "ax=fig.add_subplot(111, projection='3d')\n",
    "ax = display_point_cloud_box_ax(ax, data[idx]) \n",
    "\n",
    "point_num = data[idx].shape[0]\n",
    "\n",
    "ax.set_title('idx: {} point_num: {}'.format(idx, point_num))\n",
    "\n",
    "figManager = plt.get_current_fig_manager()\n",
    "figManager.window.showMaximized()\n",
    "plt.show()"
   ]
  },
  {
   "cell_type": "code",
   "execution_count": null,
   "metadata": {},
   "outputs": [],
   "source": []
  }
 ],
 "metadata": {
  "kernelspec": {
   "display_name": "Python 2",
   "language": "python",
   "name": "python2"
  },
  "language_info": {
   "codemirror_mode": {
    "name": "ipython",
    "version": 2
   },
   "file_extension": ".py",
   "mimetype": "text/x-python",
   "name": "python",
   "nbconvert_exporter": "python",
   "pygments_lexer": "ipython2",
   "version": "2.7.12"
  }
 },
 "nbformat": 4,
 "nbformat_minor": 2
}
