{
 "cells": [
  {
   "cell_type": "markdown",
   "metadata": {},
   "source": [
    "# H5 generation - random sampling , normalization\n",
    "\n",
    "## Revision\n",
    "#### 20181031\n",
    "* resampling 방식 수정 --> Scale 과 offset 이 물체의 크기비율을 반영할 수 있도록 수정\n",
    "```python\n",
    "\n",
    "x_min = float(data[:,0].min())\n",
    "x_max = float(data[:,0].max())\n",
    "y_min = float(data[:,1].min())\n",
    "y_max = float(data[:,1].max())\n",
    "z_min = float(data[:,2].min())\n",
    "z_max = float(data[:,2].max())\n",
    "\n",
    "scale_val = np.max([ x_max - x_min , y_max - y_min , z_max - z_min ])\n",
    "offset_val = np.min([x_min, y_min, z_min])\n",
    "\n",
    "data[:,0] = data[:,0] - min_val\n",
    "data[:,1] = data[:,1] - min_val\n",
    "data[:,2] = data[:,2] - min_val\n",
    "\n",
    "data[:,0] = data[:,0] / float(scale_val)\n",
    "data[:,1] = data[:,1] / float(scale_val)\n",
    "data[:,2] = data[:,2] / float(scale_val)\n",
    "```\n",
    "\n",
    "#### 20181102\n",
    "* Re-arrange for running by one click \n",
    "\n",
    "## Dataset\n",
    "#### 20181102\n",
    "* [dataset_20181102_001](https://drive.google.com/open?id=18EmELMDij5CTaOdiWWUv2qxAYUkj1oQI)\n",
    " - db_aug_v4_20181031_ndb_aug_v2_20181020_rs2\n",
    " - db_aug_v4_v_100_20181031_ndb_aug_v2_20181020_rs2\n",
    " - db_aug_v4_v_200_20181031_ndb_aug_v2_20181020_rs2\n",
    " - db_aug_v4_v_300_20181031_ndb_aug_v2_20181020_rs2\n",
    " - db_aug_v4_v_400_20181031_ndb_aug_v2_20181020_rs2\n",
    " - db_aug_v4_v_500_20181031_ndb_aug_v2_20181020_rs2\n"
   ]
  },
  {
   "cell_type": "code",
   "execution_count": 19,
   "metadata": {},
   "outputs": [],
   "source": [
    "\"\"\" path \"\"\"\n",
    "load_data_path = '../dataset/db_aug_v4_v_500_20181031.pickle'\n",
    "load_ndata_path = '../dataset/ndb_aug_v2_20181020.pickle'"
   ]
  },
  {
   "cell_type": "code",
   "execution_count": 20,
   "metadata": {},
   "outputs": [
    {
     "name": "stdout",
     "output_type": "stream",
     "text": [
      "world_RangeRoverSportSVRSimple 1\n"
     ]
    },
    {
     "name": "stderr",
     "output_type": "stream",
     "text": [
      "100%|██████████| 480/480 [00:00<00:00, 7660.28it/s]"
     ]
    },
    {
     "name": "stdout",
     "output_type": "stream",
     "text": [
      "world_BmwX5Simple 1\n"
     ]
    },
    {
     "name": "stderr",
     "output_type": "stream",
     "text": [
      "\n",
      "100%|██████████| 480/480 [00:00<00:00, 4265.23it/s]"
     ]
    },
    {
     "name": "stdout",
     "output_type": "stream",
     "text": [
      "world_CitroenCZeroSimple 1\n"
     ]
    },
    {
     "name": "stderr",
     "output_type": "stream",
     "text": [
      "\n",
      "100%|██████████| 480/480 [00:00<00:00, 4258.19it/s]"
     ]
    },
    {
     "name": "stdout",
     "output_type": "stream",
     "text": [
      "world_LincolnMKZSimple 1\n"
     ]
    },
    {
     "name": "stderr",
     "output_type": "stream",
     "text": [
      "\n",
      "100%|██████████| 480/480 [00:00<00:00, 7616.52it/s]"
     ]
    },
    {
     "name": "stdout",
     "output_type": "stream",
     "text": [
      "world_ToyotaPriusSimple 1\n"
     ]
    },
    {
     "name": "stderr",
     "output_type": "stream",
     "text": [
      "\n",
      "100%|██████████| 480/480 [00:00<00:00, 4271.42it/s]"
     ]
    },
    {
     "name": "stdout",
     "output_type": "stream",
     "text": [
      "world_BusSimple 2\n"
     ]
    },
    {
     "name": "stderr",
     "output_type": "stream",
     "text": [
      "\n",
      "100%|██████████| 480/480 [00:00<00:00, 4262.65it/s]"
     ]
    },
    {
     "name": "stdout",
     "output_type": "stream",
     "text": [
      "world_TruckSimple 2\n"
     ]
    },
    {
     "name": "stderr",
     "output_type": "stream",
     "text": [
      "\n",
      "100%|██████████| 480/480 [00:00<00:00, 3932.53it/s]"
     ]
    },
    {
     "name": "stdout",
     "output_type": "stream",
     "text": [
      "world_Pedestrian 3\n"
     ]
    },
    {
     "name": "stderr",
     "output_type": "stream",
     "text": [
      "\n",
      "100%|██████████| 480/480 [00:00<00:00, 4154.88it/s]"
     ]
    },
    {
     "name": "stdout",
     "output_type": "stream",
     "text": [
      "world_MotorbikeSimple 4\n"
     ]
    },
    {
     "name": "stderr",
     "output_type": "stream",
     "text": [
      "\n",
      "100%|██████████| 480/480 [00:00<00:00, 7660.01it/s]"
     ]
    },
    {
     "name": "stdout",
     "output_type": "stream",
     "text": [
      "world_ScooterSimple 4\n"
     ]
    },
    {
     "name": "stderr",
     "output_type": "stream",
     "text": [
      "\n",
      "100%|██████████| 480/480 [00:00<00:00, 4264.01it/s]"
     ]
    },
    {
     "name": "stdout",
     "output_type": "stream",
     "text": [
      "Only positive:\n",
      "data: 9600\n",
      "label: 9600\n"
     ]
    },
    {
     "name": "stderr",
     "output_type": "stream",
     "text": [
      "\n",
      "100%|██████████| 3948/3948 [00:00<00:00, 6424.88it/s]"
     ]
    },
    {
     "name": "stdout",
     "output_type": "stream",
     "text": [
      "With negative:\n",
      "data: 17496\n",
      "label: 17496\n"
     ]
    },
    {
     "name": "stderr",
     "output_type": "stream",
     "text": [
      "\n"
     ]
    },
    {
     "name": "stdout",
     "output_type": "stream",
     "text": [
      "load_data_path: /media/kyungpyo/SmartCarContest/MasterThesisProject/Dataset/dataset/db_aug_v4_v_500_20181031.pickle\n",
      "load_ndata_path: /media/kyungpyo/SmartCarContest/MasterThesisProject/Dataset/dataset/ndb_aug_v2_20181020.pickle\n",
      "out_path: /media/kyungpyo/SmartCarContest/MasterThesisProject/Dataset/dataset/db_aug_v4_v_500_20181031_ndb_aug_v2_20181020_rs2\n",
      "Total data: 17496\n",
      "Total label: 17496\n",
      "0\n",
      "np_data_filtered.shape (7896, 256, 3)\n",
      "data_train.shape (4737, 256, 3)\n",
      "data_test.shape (1579, 256, 3)\n",
      "data_vali.shape (1580, 256, 3)\n",
      "1\n",
      "np_data_filtered.shape (4800, 256, 3)\n",
      "data_train.shape (2880, 256, 3)\n",
      "data_test.shape (960, 256, 3)\n",
      "data_vali.shape (960, 256, 3)\n",
      "2\n",
      "np_data_filtered.shape (1920, 256, 3)\n",
      "data_train.shape (1152, 256, 3)\n",
      "data_test.shape (384, 256, 3)\n",
      "data_vali.shape (384, 256, 3)\n",
      "3\n",
      "np_data_filtered.shape (960, 256, 3)\n",
      "data_train.shape (576, 256, 3)\n",
      "data_test.shape (192, 256, 3)\n",
      "data_vali.shape (192, 256, 3)\n",
      "4\n",
      "np_data_filtered.shape (1920, 256, 3)\n",
      "data_train.shape (1152, 256, 3)\n",
      "data_test.shape (384, 256, 3)\n",
      "data_vali.shape (384, 256, 3)\n",
      "[Generate] path: /media/kyungpyo/SmartCarContest/MasterThesisProject/Dataset/dataset/db_aug_v4_v_500_20181031_ndb_aug_v2_20181020_rs2/train.h5, \n",
      "data shape: (10497, 256, 3), label shape: (10497,)\n",
      "[Generate] path: /media/kyungpyo/SmartCarContest/MasterThesisProject/Dataset/dataset/db_aug_v4_v_500_20181031_ndb_aug_v2_20181020_rs2/test.h5, \n",
      "data shape: (3499, 256, 3), label shape: (3499,)\n",
      "[Generate] path: /media/kyungpyo/SmartCarContest/MasterThesisProject/Dataset/dataset/db_aug_v4_v_500_20181031_ndb_aug_v2_20181020_rs2/vali.h5, \n",
      "data shape: (3500, 256, 3), label shape: (3500,)\n"
     ]
    }
   ],
   "source": [
    "import numpy as np\n",
    "\n",
    "import pickle\n",
    "\n",
    "import os, sys\n",
    "\n",
    "import h5py\n",
    "\n",
    "import os, sys\n",
    "\n",
    "from tqdm import tqdm, trange\n",
    "\n",
    "sys.path.append( os.path.abspath('../scripts') )\n",
    "from utils import *\n",
    "\n",
    "num_sample = 256\n",
    "num_random_sample = 2\n",
    "\n",
    "load_data_path = os.path.abspath(load_data_path)\n",
    "load_ndata_path = os.path.abspath(load_ndata_path)\n",
    "\n",
    "\"\"\" load data and resampling \"\"\"\n",
    "\n",
    "object_list = []\n",
    "object_list.append('world_RangeRoverSportSVRSimple')\n",
    "object_list.append('world_BmwX5Simple')\n",
    "object_list.append('world_CitroenCZeroSimple')\n",
    "object_list.append('world_LincolnMKZSimple')\n",
    "object_list.append('world_ToyotaPriusSimple')\n",
    "object_list.append('world_BusSimple')\n",
    "object_list.append('world_TruckSimple')\n",
    "object_list.append('world_Pedestrian')\n",
    "object_list.append('world_MotorbikeSimple')\n",
    "object_list.append('world_ScooterSimple')\n",
    "\n",
    "object_label_list = [1,1,1,1,1, 2,2, 3, 4,4]\n",
    "\n",
    "\"\"\"\n",
    "unkown: 0\n",
    "cars: 1\n",
    "trucks: 2\n",
    "pedestrians: 3\n",
    "bikes: 4\n",
    "\"\"\" \n",
    "\n",
    "## Load positive data\n",
    "# load_data_path = os.path.abspath('../dataset/db_aug_v2_20181019.pickle')\n",
    "# load_data_path = os.path.abspath('../dataset/db_aug_v2_v_500_20181019.pickle')\n",
    "# load_data_path = os.path.abspath('../dataset/db_aug_v4_20181031.pickle')\n",
    "\n",
    "with open(load_data_path, 'rb') as f:\n",
    "    db_aug_test = pickle.load(f)   \n",
    "    \n",
    "## Load negative data\n",
    "\n",
    "with open(load_ndata_path, 'rb') as f:\n",
    "    ndb = pickle.load(f)   \n",
    "    \n",
    "\"\"\" data / label parsing from db \"\"\"\n",
    "\n",
    "## Positive data\n",
    "data = []\n",
    "label = []\n",
    "\n",
    "for i in range(len(object_list)):\n",
    "    \n",
    "    key = object_list[i]\n",
    "    cls = object_label_list[i]\n",
    "    \n",
    "    print key, cls\n",
    "    sys.stdout.flush()\n",
    "    \n",
    "    i = 0\n",
    "    for cloud in tqdm(db_aug_test[key]):\n",
    "        \n",
    "        for _ in range(num_random_sample): \n",
    "            \n",
    "            data.append(NormalizeResample(cloud, num_sample))\n",
    "            label.append(cls)\n",
    "            \n",
    "sys.stdout.flush()\n",
    "print \"Only positive:\"\n",
    "print \"data:\", len(data)\n",
    "print \"label:\", len(label)\n",
    "sys.stdout.flush()\n",
    "\n",
    "## Negative data\n",
    "for i in trange(  len( ndb['unknown'] )  ):\n",
    "    \n",
    "    cloud = ndb['unknown'][i]\n",
    "    cls = 0\n",
    "        \n",
    "    for _ in range(num_random_sample): \n",
    "\n",
    "        data.append(NormalizeResample(cloud, num_sample))\n",
    "        label.append(cls)\n",
    "\n",
    "sys.stdout.flush()\n",
    "print \"With negative:\"\n",
    "print \"data:\", len(data)\n",
    "print \"label:\", len(label)\n",
    "sys.stdout.flush()\n",
    "\n",
    "out_path = load_data_path.split('.')[0] + \"_\" + load_ndata_path.split('/')[-1].split('.')[0] + \"_rs2\"\n",
    "if not os.path.exists(out_path):\n",
    "    os.mkdir(out_path)\n",
    "\n",
    "## save h5 file    \n",
    "print \"load_data_path:\", load_data_path\n",
    "print \"load_ndata_path:\", load_ndata_path\n",
    "print \"out_path:\", out_path\n",
    "save_h5_files(data, label, out_path, data_dtype, label_dtype)"
   ]
  },
  {
   "cell_type": "code",
   "execution_count": null,
   "metadata": {},
   "outputs": [],
   "source": []
  }
 ],
 "metadata": {
  "kernelspec": {
   "display_name": "Python 2",
   "language": "python",
   "name": "python2"
  },
  "language_info": {
   "codemirror_mode": {
    "name": "ipython",
    "version": 2
   },
   "file_extension": ".py",
   "mimetype": "text/x-python",
   "name": "python",
   "nbconvert_exporter": "python",
   "pygments_lexer": "ipython2",
   "version": "2.7.12"
  }
 },
 "nbformat": 4,
 "nbformat_minor": 2
}
