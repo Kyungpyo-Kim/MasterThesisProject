{
 "cells": [
  {
   "cell_type": "markdown",
   "metadata": {},
   "source": [
    "# H5 generation - random sampling , normalization\n",
    "\n",
    "## Revision\n",
    "#### 20181031\n",
    "* resampling 방식 수정 --> Scale 과 offset 이 물체의 크기비율을 반영할 수 있도록 수정\n",
    "```python\n",
    "\n",
    "x_min = float(data[:,0].min())\n",
    "x_max = float(data[:,0].max())\n",
    "y_min = float(data[:,1].min())\n",
    "y_max = float(data[:,1].max())\n",
    "z_min = float(data[:,2].min())\n",
    "z_max = float(data[:,2].max())\n",
    "\n",
    "scale_val = np.max([ x_max - x_min , y_max - y_min , z_max - z_min ])\n",
    "offset_val = np.min([x_min, y_min, z_min])\n",
    "\n",
    "data[:,0] = data[:,0] - min_val\n",
    "data[:,1] = data[:,1] - min_val\n",
    "data[:,2] = data[:,2] - min_val\n",
    "\n",
    "data[:,0] = data[:,0] / float(scale_val)\n",
    "data[:,1] = data[:,1] / float(scale_val)\n",
    "data[:,2] = data[:,2] / float(scale_val)\n",
    "```\n",
    "\n",
    "## Dataset list\n",
    "#### 20181020\n",
    "* dataset/[db_aug_v2_20181019_ndb_aug_v2_20181020](https://drive.google.com/open?id=1mAEHXeOxb8jMM9mEy1bComWdxjk3cyCS)\n",
    "* dataset/[db_aug_v2_v_050_20181019_ndb_aug_v2_20181020](https://drive.google.com/open?id=1n1c4dt_92ww0SUUKGZ-uZ5e0LDOAT9FO)\n",
    "* dataset/[db_aug_v2_v_100_20181019_ndb_aug_v2_20181020](https://drive.google.com/open?id=1aH3MIDQ7WPn-BJVhORSRXvSKjFjC1DCm)\n",
    "* dataset/[db_aug_v2_v_200_20181019_ndb_aug_v2_20181020](https://drive.google.com/open?id=1fn8XaLs7q60KXMXoMR9-4XcmpdGsfyPy)\n",
    "* dataset/[db_aug_v2_v_500_20181019_ndb_aug_v2_20181020](https://drive.google.com/open?id=1vG1FQt54Mgc7IkR0i-p6b_4Og9Zit0g7)\n",
    "#### 20181022\n",
    "* dataset/[db_aug_v2_v_100_20181022_ndb_aug_v2_20181020](https://drive.google.com/open?id=1eLiTpjTuPnwWsJEIKR9jdDmbDArcfuhp)\n",
    "* dataset/[db_aug_v2_v_200_20181022_ndb_aug_v2_20181020](https://drive.google.com/open?id=1MnXCirEozU2FVm2D0Xx7wCFYbeY8KHv3)\n",
    "* dataset/[db_aug_v2_v_300_20181022_ndb_aug_v2_20181020](https://drive.google.com/open?id=1gWS7D3KI-i6l3t9JLanI6BppPwviW_Hs)\n",
    "* dataset/[db_aug_v2_v_400_20181022_ndb_aug_v2_20181020](https://drive.google.com/open?id=11PiIsQfoKZhikkJb8wVor2g_UZQERxCv)\n",
    "* dataset/[db_aug_v2_v_500_20181022_ndb_aug_v2_20181020](https://drive.google.com/open?id=1Vo9BOXSeqXs-Zi30eWJ-fXDzog3Me1HL)\n",
    "\n",
    "#### 20181031\n",
    "* dataset/[db_aug_v4_20181031_ndb_aug_v2_20181020](https://drive.google.com/open?id=1BGGPkoy3e-6eTb7mfF70vmso2lo-Rxot)\n",
    "* dataset/[db_aug_v4_v_100_20181031_ndb_aug_v2_20181020](https://drive.google.com/open?id=1CHaDn-BSKfc1RFvEpdBNcru_gSCjxV8p)\n",
    "* dataset/[db_aug_v4_v_200_20181031_ndb_aug_v2_20181020](https://drive.google.com/open?id=1UWsmYPABjj5rVDx96hKON89p_0FdSHai)\n",
    "* dataset/[db_aug_v4_v_300_20181031_ndb_aug_v2_20181020](https://drive.google.com/open?id=1hLJtiP3PF2GT4_phmZbp9lnk4JAL6k8m)\n",
    "* dataset/[db_aug_v4_v_400_20181031_ndb_aug_v2_20181020](https://drive.google.com/open?id=15Zv1Kpw99gzNcHUUoqhR4aWQ1cMxO89H)\n",
    "* dataset/[db_aug_v4_v_500_20181031_ndb_aug_v2_20181020](https://drive.google.com/open?id=1G5bsUNdeB00jdSGZdtW2NDSHM-rhEZtG)\n",
    "\n",
    "\n"
   ]
  },
  {
   "cell_type": "code",
   "execution_count": 1,
   "metadata": {},
   "outputs": [],
   "source": [
    "import numpy as np\n",
    "\n",
    "import pickle\n",
    "\n",
    "import os, sys\n",
    "\n",
    "import h5py\n",
    "\n",
    "import os, sys\n",
    "\n",
    "from tqdm import tqdm, trange\n",
    "\n",
    "sys.path.append( os.path.abspath('../scripts') )\n",
    "from utils import *\n"
   ]
  },
  {
   "cell_type": "code",
   "execution_count": 2,
   "metadata": {},
   "outputs": [],
   "source": [
    "num_sample = 256\n",
    "num_random_sample = 10\n"
   ]
  },
  {
   "cell_type": "code",
   "execution_count": 23,
   "metadata": {},
   "outputs": [],
   "source": [
    "\"\"\" load data and resampling \"\"\"\n",
    "\n",
    "object_list = []\n",
    "object_list.append('world_RangeRoverSportSVRSimple')\n",
    "object_list.append('world_BmwX5Simple')\n",
    "object_list.append('world_CitroenCZeroSimple')\n",
    "object_list.append('world_LincolnMKZSimple')\n",
    "object_list.append('world_ToyotaPriusSimple')\n",
    "object_list.append('world_BusSimple')\n",
    "object_list.append('world_TruckSimple')\n",
    "object_list.append('world_Pedestrian')\n",
    "object_list.append('world_MotorbikeSimple')\n",
    "object_list.append('world_ScooterSimple')\n",
    "\n",
    "object_label_list = [1,1,1,1,1, 2,2, 3, 4,4]\n",
    "\n",
    "\"\"\"\n",
    "unkown: 0\n",
    "cars: 1\n",
    "trucks: 2\n",
    "pedestrians: 3\n",
    "bikes: 4\n",
    "\"\"\" \n",
    "\n",
    "## Load positive data\n",
    "# load_data_path = os.path.abspath('../dataset/db_aug_v2_20181019.pickle')\n",
    "# load_data_path = os.path.abspath('../dataset/db_aug_v2_v_500_20181019.pickle')\n",
    "# load_data_path = os.path.abspath('../dataset/db_aug_v4_20181031.pickle')\n",
    "load_data_path = os.path.abspath('../dataset/db_aug_v4_v_500_20181031.pickle')\n",
    "\n",
    "with open(load_data_path, 'rb') as f:\n",
    "    db_aug_test = pickle.load(f)   \n",
    "    \n",
    "## Load negative data\n",
    "load_ndata_path = os.path.abspath('../dataset/ndb_aug_v2_20181020.pickle')\n",
    "with open(load_ndata_path, 'rb') as f:\n",
    "    ndb = pickle.load(f)   \n"
   ]
  },
  {
   "cell_type": "code",
   "execution_count": 24,
   "metadata": {},
   "outputs": [
    {
     "name": "stdout",
     "output_type": "stream",
     "text": [
      "world_RangeRoverSportSVRSimple 1\n"
     ]
    },
    {
     "name": "stderr",
     "output_type": "stream",
     "text": [
      "100%|██████████| 480/480 [00:00<00:00, 1534.04it/s]"
     ]
    },
    {
     "name": "stdout",
     "output_type": "stream",
     "text": [
      "world_BmwX5Simple 1\n"
     ]
    },
    {
     "name": "stderr",
     "output_type": "stream",
     "text": [
      "\n",
      "100%|██████████| 480/480 [00:00<00:00, 1533.43it/s]"
     ]
    },
    {
     "name": "stdout",
     "output_type": "stream",
     "text": [
      "world_CitroenCZeroSimple 1\n"
     ]
    },
    {
     "name": "stderr",
     "output_type": "stream",
     "text": [
      "\n",
      "100%|██████████| 480/480 [00:00<00:00, 1533.19it/s]"
     ]
    },
    {
     "name": "stdout",
     "output_type": "stream",
     "text": [
      "world_LincolnMKZSimple 1\n"
     ]
    },
    {
     "name": "stderr",
     "output_type": "stream",
     "text": [
      "\n",
      "100%|██████████| 480/480 [00:00<00:00, 1532.55it/s]"
     ]
    },
    {
     "name": "stdout",
     "output_type": "stream",
     "text": [
      "world_ToyotaPriusSimple 1\n"
     ]
    },
    {
     "name": "stderr",
     "output_type": "stream",
     "text": [
      "\n",
      "100%|██████████| 480/480 [00:00<00:00, 1535.65it/s]"
     ]
    },
    {
     "name": "stdout",
     "output_type": "stream",
     "text": [
      "world_BusSimple 2\n"
     ]
    },
    {
     "name": "stderr",
     "output_type": "stream",
     "text": [
      "\n",
      "100%|██████████| 480/480 [00:00<00:00, 1532.15it/s]"
     ]
    },
    {
     "name": "stdout",
     "output_type": "stream",
     "text": [
      "world_TruckSimple 2\n"
     ]
    },
    {
     "name": "stderr",
     "output_type": "stream",
     "text": [
      "\n",
      "100%|██████████| 480/480 [00:00<00:00, 1533.33it/s]"
     ]
    },
    {
     "name": "stdout",
     "output_type": "stream",
     "text": [
      "world_Pedestrian 3\n"
     ]
    },
    {
     "name": "stderr",
     "output_type": "stream",
     "text": [
      "\n",
      "100%|██████████| 480/480 [00:00<00:00, 1533.95it/s]"
     ]
    },
    {
     "name": "stdout",
     "output_type": "stream",
     "text": [
      "world_MotorbikeSimple 4\n"
     ]
    },
    {
     "name": "stderr",
     "output_type": "stream",
     "text": [
      "\n",
      "100%|██████████| 480/480 [00:00<00:00, 1532.11it/s]"
     ]
    },
    {
     "name": "stdout",
     "output_type": "stream",
     "text": [
      "world_ScooterSimple 4\n"
     ]
    },
    {
     "name": "stderr",
     "output_type": "stream",
     "text": [
      "\n",
      "100%|██████████| 480/480 [00:00<00:00, 1533.37it/s]"
     ]
    },
    {
     "name": "stdout",
     "output_type": "stream",
     "text": [
      "Only positive:\n",
      "data: 48000\n",
      "label: 48000\n"
     ]
    },
    {
     "name": "stderr",
     "output_type": "stream",
     "text": [
      "\n",
      "100%|██████████| 3948/3948 [00:02<00:00, 1426.19it/s]"
     ]
    },
    {
     "name": "stdout",
     "output_type": "stream",
     "text": [
      "With negative:\n",
      "data: 87480\n",
      "label: 87480\n"
     ]
    },
    {
     "name": "stderr",
     "output_type": "stream",
     "text": [
      "\n"
     ]
    }
   ],
   "source": [
    "\"\"\" data / label parsing from db \"\"\"\n",
    "\n",
    "## Positive data\n",
    "data = []\n",
    "label = []\n",
    "\n",
    "for i in range(len(object_list)):\n",
    "    \n",
    "    key = object_list[i]\n",
    "    cls = object_label_list[i]\n",
    "    \n",
    "    print key, cls\n",
    "    sys.stdout.flush()\n",
    "    \n",
    "    i = 0\n",
    "    for cloud in tqdm(db_aug_test[key]):\n",
    "        \n",
    "        for _ in range(num_random_sample): \n",
    "            \n",
    "            data.append(NormalizeResample(cloud, num_sample))\n",
    "            label.append(cls)\n",
    "            \n",
    "sys.stdout.flush()\n",
    "print \"Only positive:\"\n",
    "print \"data:\", len(data)\n",
    "print \"label:\", len(label)\n",
    "sys.stdout.flush()\n",
    "\n",
    "## Negative data\n",
    "for i in trange(  len( ndb['unknown'] )  ):\n",
    "    \n",
    "    cloud = ndb['unknown'][i]\n",
    "    cls = 0\n",
    "        \n",
    "    for _ in range(num_random_sample): \n",
    "\n",
    "        data.append(NormalizeResample(cloud, num_sample))\n",
    "        label.append(cls)\n",
    "\n",
    "sys.stdout.flush()\n",
    "print \"With negative:\"\n",
    "print \"data:\", len(data)\n",
    "print \"label:\", len(label)\n",
    "sys.stdout.flush()"
   ]
  },
  {
   "cell_type": "code",
   "execution_count": null,
   "metadata": {},
   "outputs": [
    {
     "name": "stdout",
     "output_type": "stream",
     "text": [
      "load_data_path: /media/kyungpyo/SmartCarContest/MasterThesisProject/Dataset/dataset/db_aug_v4_v_500_20181031.pickle\n",
      "load_ndata_path: /media/kyungpyo/SmartCarContest/MasterThesisProject/Dataset/dataset/ndb_aug_v2_20181020.pickle\n",
      "out_path: /media/kyungpyo/SmartCarContest/MasterThesisProject/Dataset/dataset/db_aug_v4_v_500_20181031_ndb_aug_v2_20181020\n",
      "Total data: 87480\n",
      "Total label: 87480\n",
      "0\n",
      "np_data_filtered.shape (39480, 256, 3)\n",
      "data_train.shape (23688, 256, 3)\n",
      "data_test.shape (7896, 256, 3)\n",
      "data_vali.shape (7896, 256, 3)\n",
      "1\n",
      "np_data_filtered.shape (24000, 256, 3)\n",
      "data_train.shape (14400, 256, 3)\n",
      "data_test.shape (4800, 256, 3)\n",
      "data_vali.shape (4800, 256, 3)\n",
      "2\n",
      "np_data_filtered.shape (9600, 256, 3)\n",
      "data_train.shape (5760, 256, 3)\n",
      "data_test.shape (1920, 256, 3)\n",
      "data_vali.shape (1920, 256, 3)\n",
      "3\n",
      "np_data_filtered.shape (4800, 256, 3)\n",
      "data_train.shape (2880, 256, 3)\n",
      "data_test.shape (960, 256, 3)\n",
      "data_vali.shape (960, 256, 3)\n",
      "4\n",
      "np_data_filtered.shape (9600, 256, 3)\n",
      "data_train.shape (5760, 256, 3)\n",
      "data_test.shape (1920, 256, 3)\n",
      "data_vali.shape (1920, 256, 3)\n"
     ]
    }
   ],
   "source": [
    "out_path = load_data_path.split('.')[0] + \"_\" + load_ndata_path.split('/')[-1].split('.')[0]\n",
    "if not os.path.exists(out_path):\n",
    "    os.mkdir(out_path)\n",
    "\n",
    "## save h5 file    \n",
    "print \"load_data_path:\", load_data_path\n",
    "print \"load_ndata_path:\", load_ndata_path\n",
    "print \"out_path:\", out_path\n",
    "save_h5_files(data, label, out_path, data_dtype, label_dtype)"
   ]
  }
 ],
 "metadata": {
  "kernelspec": {
   "display_name": "Python 2",
   "language": "python",
   "name": "python2"
  },
  "language_info": {
   "codemirror_mode": {
    "name": "ipython",
    "version": 2
   },
   "file_extension": ".py",
   "mimetype": "text/x-python",
   "name": "python",
   "nbconvert_exporter": "python",
   "pygments_lexer": "ipython2",
   "version": "2.7.12"
  }
 },
 "nbformat": 4,
 "nbformat_minor": 2
}
