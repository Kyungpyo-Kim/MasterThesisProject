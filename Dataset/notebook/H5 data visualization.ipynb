{
 "cells": [
  {
   "cell_type": "markdown",
   "metadata": {},
   "source": [
    "# H5 data visualization"
   ]
  },
  {
   "cell_type": "code",
   "execution_count": 2,
   "metadata": {},
   "outputs": [],
   "source": [
    "import h5py\n",
    "\n",
    "import os, sys\n",
    "\n",
    "sys.path.append(os.path.abspath('../scripts'))\n",
    "from utils import *"
   ]
  },
  {
   "cell_type": "code",
   "execution_count": 3,
   "metadata": {},
   "outputs": [],
   "source": [
    "data = []\n",
    "label = []\n",
    "\n",
    "# data_train_path = os.path.abspath('../dataset/db_aug_v2_20181019_ndb_aug_v2_20181020/train.h5')\n",
    "# data_test_path = os.path.abspath('../dataset/db_aug_v2_20181019_ndb_aug_v2_20181020/test.h5')\n",
    "# data_vali_path = os.path.abspath('../dataset/db_aug_v2_20181019_ndb_aug_v2_20181020/vali.h5')\n",
    "\n",
    "data_train_path = os.path.abspath('../dataset/db_aug_v2_v_050_20181019_ndb_aug_v2_20181020/test.h5')\n",
    "data_test_path = os.path.abspath('../dataset/db_aug_v2_v_100_20181019_ndb_aug_v2_20181020/test.h5')\n",
    "data_vali_path = os.path.abspath('../dataset/db_aug_v2_v_500_20181019_ndb_aug_v2_20181020/vali.h5')\n",
    "\n",
    "\n",
    "data_train, label_train = load_h5(data_train_path)\n",
    "data_test, label_test = load_h5(data_test_path)\n",
    "data_vali, label_vali = load_h5(data_vali_path)\n",
    "\n",
    "data.append(data_train)\n",
    "data.append(data_vali)\n",
    "data.append(data_test)\n",
    "\n",
    "label.append(label_train)\n",
    "label.append(label_vali)\n",
    "label.append(label_test)\n"
   ]
  },
  {
   "cell_type": "code",
   "execution_count": 4,
   "metadata": {},
   "outputs": [
    {
     "data": {
      "image/png": "[encoded data removed]",
      "text/plain": [
       "<Figure size 1080x360 with 1 Axes>"
      ]
     },
     "metadata": {
      "needs_background": "light"
     },
     "output_type": "display_data"
    }
   ],
   "source": [
    "\"\"\" Data statistics\"\"\"\n",
    "\n",
    "label_list = [0,1,2]\n",
    "\n",
    "import numpy as np\n",
    "import matplotlib.pyplot as plt\n",
    "\n",
    "y_val = []\n",
    "for i in range( len ( data) ):\n",
    "    for j in range ( len ( label_list ) ):\n",
    "        y_val.append(np.sum(label[i] == label_list[j]))\n",
    "\n",
    "x_name=('unknown-train', 'cars-train', 'trucks-train', \n",
    "        'unknown-test', 'cars-test', 'trucks-test', \n",
    "        'unknown-vali', 'cars-vali', 'trucks-vali')\n",
    "\n",
    "index = range( len(x_name) )\n",
    "\n",
    "plt.figure(figsize=(15,5))\n",
    "plt.bar(index, y_val, tick_label=x_name, align='center')\n",
    "plt.ylabel('Number of dataset')\n",
    "plt.title('Label distribution')\n",
    "plt.xlim( -1, len(x_name))\n",
    "plt.ylim( 0, np.max(y_val) * 1.1 )\n",
    "plt.show()"
   ]
  },
  {
   "cell_type": "code",
   "execution_count": 11,
   "metadata": {},
   "outputs": [],
   "source": [
    "\"\"\" Visualization \"\"\"\n",
    "\n",
    "data_sel = 0 ## train: 0, test: 1, vali: 2\n",
    "j = 0 ## index\n",
    "\n",
    "label_dict = ['unknown', 'cars', 'trucks']\n",
    "\n",
    "idx_list = []\n",
    "\n",
    "for k in range( len(label_dict) ):\n",
    "\n",
    "    idx = np.array(   range(  len( data[data_sel] )  )   )\n",
    "    idx = idx[label[data_sel] == k]\n",
    "    idx = idx[j]\n",
    "    \n",
    "    idx_list.append(idx)\n",
    "\n",
    "cloud_list = []\n",
    "label_list = []\n",
    "for idx in idx_list:\n",
    "    cloud_list.append(data[data_sel][idx])\n",
    "    label_list.append(label[data_sel][idx])\n",
    "\n",
    "\n",
    "%matplotlib qt\n",
    "\n",
    "fig = plt.figure(figsize=(15,5))\n",
    "    \n",
    "# display point cloud\n",
    "for i, cloud in enumerate(cloud_list):\n",
    "\n",
    "    ax = fig.add_subplot(131 + i, projection='3d')\n",
    "    ax = display_point_cloud_box_ax(ax, cloud)\n",
    "    ax.set_title(\"class: {}\".format(label_dict[label_list[i]]))\n",
    "    ax.set_xlabel('X')\n",
    "    ax.set_ylabel('Y')\n",
    "    ax.set_zlabel('Z')\n",
    "    \n",
    "plt.show()\n",
    "\n"
   ]
  },
  {
   "cell_type": "code",
   "execution_count": 8,
   "metadata": {},
   "outputs": [],
   "source": [
    "j += 1\n",
    "\n",
    "idx_list = []\n",
    "\n",
    "for k in range( len(label_dict) ):\n",
    "\n",
    "    idx = np.array(   range(  len( data[data_sel] )  )   )\n",
    "    idx = idx[label[data_sel] == k]\n",
    "    idx = idx[j]\n",
    "    \n",
    "    idx_list.append(idx)\n",
    "\n",
    "cloud_list = []\n",
    "label_list = []\n",
    "for idx in idx_list:\n",
    "    cloud_list.append(data[data_sel][idx])\n",
    "    label_list.append(label[data_sel][idx])\n",
    "\n",
    "%matplotlib qt\n",
    "\n",
    "fig = plt.figure(figsize=(15,5))\n",
    "    \n",
    "# display point cloud\n",
    "for i, cloud in enumerate(cloud_list):\n",
    "\n",
    "    ax = fig.add_subplot(131 + i, projection='3d')\n",
    "    ax = display_point_cloud_box_ax(ax, cloud)\n",
    "    ax.set_title(\"class: {}\".format(label_dict[label_list[i]]))\n",
    "    ax.set_xlabel('X')\n",
    "    ax.set_ylabel('Y')\n",
    "    ax.set_zlabel('Z')\n",
    "    \n",
    "plt.show()\n"
   ]
  }
 ],
 "metadata": {
  "kernelspec": {
   "display_name": "Python 2",
   "language": "python",
   "name": "python2"
  },
  "language_info": {
   "codemirror_mode": {
    "name": "ipython",
    "version": 2
   },
   "file_extension": ".py",
   "mimetype": "text/x-python",
   "name": "python",
   "nbconvert_exporter": "python",
   "pygments_lexer": "ipython2",
   "version": "2.7.12"
  }
 },
 "nbformat": 4,
 "nbformat_minor": 2
}
