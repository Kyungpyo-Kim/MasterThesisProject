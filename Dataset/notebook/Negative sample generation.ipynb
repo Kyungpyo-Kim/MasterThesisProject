{
 "cells": [
  {
   "cell_type": "markdown",
   "metadata": {},
   "source": [
    "# Negative sample generation\n",
    "\n",
    "## Extracted from Velodyne VLP-16\n",
    "\n",
    "#### Sensor data\n",
    "![sensor data](../image/sensor_point_cloud.png)\n",
    "\n",
    "#### Detected samples\n",
    "![sensor data](../image/sensor_point_cloud_clusters.png)\n",
    "\n",
    "#### Data visualization\n",
    "![sensor_data](../image/ndb.png)\n",
    "\n",
    "## Data log\n",
    "* ndb_v1_20181020.pickle: __1810__\n",
    "* ndb_v2_20181020.pickle: __987__ --> filtering object with small point cloud ( < 256 )\n",
    "* ndb_aug_v2_20181020.pickle: 987 * 4 = __3948__ --> filtering object with small point cloud ( < 256 )"
   ]
  },
  {
   "cell_type": "raw",
   "metadata": {},
   "source": [
    "import os, sys\n",
    "\n",
    "import pcl\n",
    "\n",
    "import numpy as np\n",
    "\n",
    "from tqdm import tqdm\n",
    "\n",
    "sys.path.append(os.path.abspath('../scripts') )\n",
    "from utils import *\n",
    "\n"
   ]
  },
  {
   "cell_type": "raw",
   "metadata": {},
   "source": [
    "\"\"\" Load data \"\"\"\n",
    "\n",
    "data_path = os.path.abspath('../negative_sample')\n",
    "\n",
    "pcd_file_list = []\n",
    "for root, dirs, files in os.walk(data_path):\n",
    "    rootpath = os.path.join(os.path.abspath(data_path), root)\n",
    "\n",
    "    for file in files:\n",
    "        if file.split('.')[-1] == 'pcd':\n",
    "\n",
    "            filepath = os.path.join(rootpath, file)\n",
    "            pcd_file_list.append(filepath)\n",
    "\n",
    "data = []\n",
    "for pcd_file in tqdm(pcd_file_list):\n",
    "    cloud = np.asarray(pcl.load(pcd_file))\n",
    "    \n",
    "    if cloud.shape[0] >= 256:\n",
    "        data.append(cloud)\n",
    "        \n",
    "print len(data)"
   ]
  },
  {
   "cell_type": "raw",
   "metadata": {},
   "source": [
    "\"\"\" Data visualization \"\"\"\n",
    "%matplotlib qt\n",
    "\n",
    "idx = 0\n",
    "\n",
    "start_idx = (6 * 6) * idx\n",
    "end_idx = start_idx + 6*6\n",
    "\n",
    "clouds = data[start_idx:end_idx]\n",
    "\n",
    "plt.close('all')\n",
    "fig = plt.figure()\n",
    "\n",
    "fig.subplots_adjust(left=0.02,top= 0.98,bottom=0.02,right=0.98,wspace=0.1,hspace=0.5)\n",
    "\n",
    "for i,pc in enumerate(clouds):\n",
    "    ctr=i+1\n",
    "    ax=fig.add_subplot(6,6,ctr, projection='3d')\n",
    "    ax = display_point_cloud_box_ax(ax, pc) \n",
    "    point_num = pc.shape[0]\n",
    "    \n",
    "    ax.set_title('idx: {} point_num: {}'.format(i, point_num))\n",
    "\n",
    "figManager = plt.get_current_fig_manager()\n",
    "figManager.window.showMaximized()\n",
    "plt.show()"
   ]
  },
  {
   "cell_type": "raw",
   "metadata": {},
   "source": [
    "idx +=1\n",
    "\n",
    "start_idx = (6 * 6) * idx\n",
    "end_idx = start_idx + 6*6\n",
    "\n",
    "clouds = data[start_idx:end_idx]\n",
    "\n",
    "plt.close('all')\n",
    "fig = plt.figure()\n",
    "\n",
    "fig.subplots_adjust(left=0.02,top= 0.98,bottom=0.02,right=0.98,wspace=0.1,hspace=0.5)\n",
    "\n",
    "for i,pc in enumerate(clouds):\n",
    "    ctr=i+1\n",
    "    ax=fig.add_subplot(6,6,ctr, projection='3d')\n",
    "    ax = display_point_cloud_box_ax(ax, pc) \n",
    "    point_num = pc.shape[0]\n",
    "    \n",
    "    ax.set_title('idx: {} point_num: {}'.format(i, point_num))\n",
    "\n",
    "figManager = plt.get_current_fig_manager()\n",
    "figManager.window.showMaximized()\n",
    "plt.show()"
   ]
  },
  {
   "cell_type": "raw",
   "metadata": {},
   "source": [
    "\"\"\" Save pickle\"\"\"\n",
    "ndb = {}\n",
    "ndb['unknown'] = []\n",
    "for cloud in data:\n",
    "    ndb['unknown'].append(cloud)\n",
    "\n",
    "## Save pickle\n",
    "with open('ndb_v2_20181020.pickle', 'wb') as f:\n",
    "    pickle.dump(ndb, f)\n"
   ]
  },
  {
   "cell_type": "code",
   "execution_count": null,
   "metadata": {},
   "outputs": [],
   "source": []
  }
 ],
 "metadata": {
  "kernelspec": {
   "display_name": "Python 2",
   "language": "python",
   "name": "python2"
  },
  "language_info": {
   "codemirror_mode": {
    "name": "ipython",
    "version": 2
   },
   "file_extension": ".py",
   "mimetype": "text/x-python",
   "name": "python",
   "nbconvert_exporter": "python",
   "pygments_lexer": "ipython2",
   "version": "2.7.12"
  }
 },
 "nbformat": 4,
 "nbformat_minor": 2
}
