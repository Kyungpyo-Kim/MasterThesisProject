{
 "cells": [
  {
   "cell_type": "markdown",
   "metadata": {},
   "source": [
    "# Pickle data visualization"
   ]
  },
  {
   "cell_type": "code",
   "execution_count": 31,
   "metadata": {},
   "outputs": [],
   "source": [
    "import os, sys\n",
    "\n",
    "import pickle\n",
    "\n",
    "sys.path.append( os.path.abspath(\"../scripts\") )\n",
    "from utils import *\n"
   ]
  },
  {
   "cell_type": "code",
   "execution_count": 32,
   "metadata": {},
   "outputs": [],
   "source": [
    "object_list = []\n",
    "object_list.append('world_RangeRoverSportSVRSimple')\n",
    "object_list.append('world_BmwX5Simple')\n",
    "object_list.append('world_CitroenCZeroSimple')\n",
    "object_list.append('world_LincolnMKZSimple')\n",
    "object_list.append('world_ToyotaPriusSimple')\n",
    "object_list.append('world_BusSimple')\n",
    "object_list.append('world_TruckSimple')\n",
    "\n",
    "data_path = os.path.abspath('../dataset/db_aug_v2_v_050_20181019.pickle')"
   ]
  },
  {
   "cell_type": "code",
   "execution_count": 33,
   "metadata": {},
   "outputs": [],
   "source": [
    "## Load pickle\n",
    "with open(data_path, 'rb') as f:\n",
    "    db = pickle.load(f)    "
   ]
  },
  {
   "cell_type": "code",
   "execution_count": 60,
   "metadata": {},
   "outputs": [],
   "source": [
    "key_sel = 6\n",
    "\n",
    "\n",
    "\"\"\" Display augmenation results - yaw direction \"\"\"\n",
    "%matplotlib qt\n",
    "\n",
    "cloud = db[object_list[key_sel]]\n",
    "\n",
    "plt.close('all')\n",
    "fig = plt.figure()\n",
    "\n",
    "fig.subplots_adjust(left=0.02,top= 0.98,bottom=0.02,right=0.98,wspace=0.1,hspace=0.1)\n",
    "\n",
    "k = 4\n",
    "idx_start = 0\n",
    "\n",
    "for i,pc in enumerate(cloud[idx_start * k*k: (idx_start+1) * k*k]):\n",
    "    \n",
    "    ax=fig.add_subplot(k, k, i+1, projection='3d')\n",
    "    ax = display_point_cloud_box_ax(ax, pc) \n",
    "    ax.set_title('idx: {}'.format(i + idx_start))\n",
    "    \n",
    "figManager = plt.get_current_fig_manager()\n",
    "figManager.window.showMaximized()\n",
    "plt.show()"
   ]
  },
  {
   "cell_type": "code",
   "execution_count": 58,
   "metadata": {},
   "outputs": [],
   "source": [
    "plt.close('all')\n",
    "fig = plt.figure()\n",
    "\n",
    "fig.subplots_adjust(left=0.02,top= 0.98,bottom=0.02,right=0.98,wspace=0.1,hspace=0.1)\n",
    "\n",
    "idx_start +=1\n",
    "\n",
    "for i,pc in enumerate(cloud[idx_start * k*k: (idx_start+1) * k*k]):\n",
    "    \n",
    "    ax=fig.add_subplot(k, k, i+1, projection='3d')\n",
    "    ax = display_point_cloud_box_ax(ax, pc) \n",
    "    ax.set_title('idx: {}'.format(i + idx_start))\n",
    "    \n",
    "figManager = plt.get_current_fig_manager()\n",
    "figManager.window.showMaximized()\n",
    "plt.show()"
   ]
  }
 ],
 "metadata": {
  "kernelspec": {
   "display_name": "Python 2",
   "language": "python",
   "name": "python2"
  },
  "language_info": {
   "codemirror_mode": {
    "name": "ipython",
    "version": 2
   },
   "file_extension": ".py",
   "mimetype": "text/x-python",
   "name": "python",
   "nbconvert_exporter": "python",
   "pygments_lexer": "ipython2",
   "version": "2.7.12"
  }
 },
 "nbformat": 4,
 "nbformat_minor": 2
}
