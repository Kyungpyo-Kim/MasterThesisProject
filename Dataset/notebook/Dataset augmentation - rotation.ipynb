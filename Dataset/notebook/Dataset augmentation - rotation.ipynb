{
 "cells": [
  {
   "cell_type": "markdown",
   "metadata": {},
   "source": [
    "# Dataset augmentation\n",
    "\n",
    "## Rotation\n",
    "* Yaw direction: 0 ~ 342, -- 20 steps\n",
    "* Pitch direction: -1, 0, 1, -- 3 steps\n",
    "\n",
    "![example](../image/aug_rot_example.png)\n",
    "\n",
    "## Rotation - Negative sample\n",
    "* Yaw direction: 0, 90, -- 2 steps\n",
    "* Pitch direction: -1, 0, -- 2 steps\n",
    "\n",
    "![example](../image/ndb_aug.png)"
   ]
  },
  {
   "cell_type": "raw",
   "metadata": {},
   "source": [
    "import os, sys\n",
    "\n",
    "import pickle\n",
    "\n",
    "sys.path.append( os.path.abspath(\"../scripts\") )\n",
    "from utils import *"
   ]
  },
  {
   "cell_type": "raw",
   "metadata": {},
   "source": [
    "\"\"\" Load dataset \"\"\"\n",
    "\n",
    "db_path = '/media/kyungpyo/SmartCarContest/MasterThesisProject/Webots/dataset/db_v1_20181019.pickle'\n",
    "\n",
    "cars_list = []\n",
    "cars_list.append('world_RangeRoverSportSVRSimple')\n",
    "cars_list.append('world_BmwX5Simple')\n",
    "cars_list.append('world_CitroenCZeroSimple')\n",
    "cars_list.append('world_LincolnMKZSimple')\n",
    "cars_list.append('world_ToyotaPriusSimple')\n",
    "\n",
    "## Load pickle\n",
    "with open('dataset/db_v1_20181019.pickle', 'rb') as f:\n",
    "    db = pickle.load(f)    \n",
    "    \n",
    "idx = 0\n",
    "\n",
    "cloud = db[cars_list[idx]][0]"
   ]
  },
  {
   "cell_type": "raw",
   "metadata": {},
   "source": [
    "\"\"\" Augmentation - rotation (yaw) \"\"\"\n",
    "\n",
    "yaw_rotate_from = 0.\n",
    "yaw_rotate_to = 360.\n",
    "yaw_step = 20.\n",
    "\n",
    "pitch_rotate_from = -1.\n",
    "pitch_rotate_to = 1.\n",
    "pitch_step = 3.\n",
    "\n",
    "# numpy.linspace(start, stop, num=50, endpoint=True, retstep=False, dtype=None)[source]\n",
    "\n",
    "yaw_iter = np.linspace(yaw_rotate_from, yaw_rotate_to, yaw_step, endpoint = False)\n",
    "pitch_iter = np.linspace(pitch_rotate_from, pitch_rotate_to, pitch_step)\n",
    "   \n",
    "cloud_aug = []\n",
    "yp = []\n",
    "\n",
    "for yaw in yaw_iter:\n",
    "\n",
    "    yaw = yaw * np.pi / 180.0\n",
    "\n",
    "    for pitch in pitch_iter:                       \n",
    "\n",
    "        pitch = pitch * np.pi / 180.0\n",
    "\n",
    "        yawMatrix = np.matrix([[np.cos(yaw), -np.sin(yaw), 0.],\n",
    "                            [np.sin(yaw), np.cos(yaw), 0.],\n",
    "                            [0., 0., 1.]])\n",
    "\n",
    "        pitchMatrix = np.matrix([[np.cos(pitch), 0., np.sin(pitch)],\n",
    "                                [0., 1., 0.],\n",
    "                                [-np.sin(pitch), 0., np.cos(pitch)]])\n",
    "\n",
    "        p_mean = np.mean(cloud, axis = 0)\n",
    "        \n",
    "        cloud[:,0] -= p_mean[0]\n",
    "        cloud[:,1] -= p_mean[1]\n",
    "        cloud[:,2] -= p_mean[2]\n",
    "\n",
    "        np_pc_aug = np.array((pitchMatrix*yawMatrix*cloud.T).T)                                                    \n",
    "        cloud_aug.append(np_pc_aug)\n",
    "        \n",
    "        yp.append([yaw * 180. / np.pi, pitch * 180. / np.pi])\n",
    "        \n",
    "\n"
   ]
  },
  {
   "cell_type": "raw",
   "metadata": {},
   "source": [
    "\"\"\" Display augmenation results - yaw direction \"\"\"\n",
    "%matplotlib qt\n",
    "\n",
    "plt.close('all')\n",
    "fig = plt.figure()\n",
    "\n",
    "fig.subplots_adjust(left=0.02,top= 0.98,bottom=0.02,right=0.98,wspace=0.1,hspace=0.5)\n",
    "\n",
    "ax = fig.add_subplot(881, projection='3d')\n",
    "ax = display_point_cloud_box_ax(ax, cloud)\n",
    "ax.set_title('Original data')\n",
    "\n",
    "for i,pc in enumerate(cloud_aug):\n",
    "    ctr=i+2\n",
    "    ax=fig.add_subplot(8,8,ctr, projection='3d')\n",
    "    ax = display_point_cloud_box_ax(ax, pc) \n",
    "    ax.axis('off')\n",
    "    ax.set_title(\"y:{:.0f} p:{:.0f}\".format(yp[i][0], yp[i][1]))\n",
    "\n",
    "plt.show()"
   ]
  },
  {
   "cell_type": "code",
   "execution_count": 8,
   "metadata": {},
   "outputs": [
    {
     "name": "stdout",
     "output_type": "stream",
     "text": [
      "world_RangeRoverSportSVRSimple\n"
     ]
    },
    {
     "name": "stderr",
     "output_type": "stream",
     "text": [
      "  0%|          | 0/8 [00:00<?, ?it/s]/usr/local/lib/python2.7/dist-packages/ipykernel_launcher.py:63: DeprecationWarning: object of type <type 'float'> cannot be safely interpreted as an integer.\n",
      "/usr/local/lib/python2.7/dist-packages/ipykernel_launcher.py:64: DeprecationWarning: object of type <type 'float'> cannot be safely interpreted as an integer.\n",
      "100%|██████████| 8/8 [00:00<00:00, 128.77it/s]"
     ]
    },
    {
     "name": "stdout",
     "output_type": "stream",
     "text": [
      "world_BmwX5Simple\n"
     ]
    },
    {
     "name": "stderr",
     "output_type": "stream",
     "text": [
      "\n",
      "100%|██████████| 8/8 [00:00<00:00, 123.57it/s]"
     ]
    },
    {
     "name": "stdout",
     "output_type": "stream",
     "text": [
      "world_CitroenCZeroSimple\n"
     ]
    },
    {
     "name": "stderr",
     "output_type": "stream",
     "text": [
      "\n",
      "100%|██████████| 8/8 [00:00<00:00, 128.07it/s]"
     ]
    },
    {
     "name": "stdout",
     "output_type": "stream",
     "text": [
      "world_LincolnMKZSimple\n"
     ]
    },
    {
     "name": "stderr",
     "output_type": "stream",
     "text": [
      "\n",
      "100%|██████████| 8/8 [00:00<00:00, 128.40it/s]"
     ]
    },
    {
     "name": "stdout",
     "output_type": "stream",
     "text": [
      "world_ToyotaPriusSimple\n"
     ]
    },
    {
     "name": "stderr",
     "output_type": "stream",
     "text": [
      "\n",
      "100%|██████████| 8/8 [00:00<00:00, 127.96it/s]"
     ]
    },
    {
     "name": "stdout",
     "output_type": "stream",
     "text": [
      "world_BusSimple\n"
     ]
    },
    {
     "name": "stderr",
     "output_type": "stream",
     "text": [
      "\n",
      "100%|██████████| 8/8 [00:00<00:00, 71.10it/s]"
     ]
    },
    {
     "name": "stdout",
     "output_type": "stream",
     "text": [
      "world_TruckSimple\n"
     ]
    },
    {
     "name": "stderr",
     "output_type": "stream",
     "text": [
      "\n",
      "100%|██████████| 8/8 [00:00<00:00, 71.10it/s]"
     ]
    },
    {
     "name": "stdout",
     "output_type": "stream",
     "text": [
      "world_Pedestrian\n"
     ]
    },
    {
     "name": "stderr",
     "output_type": "stream",
     "text": [
      "\n",
      "100%|██████████| 8/8 [00:00<00:00, 120.84it/s]"
     ]
    },
    {
     "name": "stdout",
     "output_type": "stream",
     "text": [
      "world_MotorbikeSimple\n"
     ]
    },
    {
     "name": "stderr",
     "output_type": "stream",
     "text": [
      "\n",
      "100%|██████████| 8/8 [00:00<00:00, 126.47it/s]"
     ]
    },
    {
     "name": "stdout",
     "output_type": "stream",
     "text": [
      "world_ScooterSimple\n"
     ]
    },
    {
     "name": "stderr",
     "output_type": "stream",
     "text": [
      "\n",
      "100%|██████████| 8/8 [00:00<00:00, 125.20it/s]\n"
     ]
    }
   ],
   "source": [
    "\"\"\" All data processing \"\"\"\n",
    "\n",
    "import os\n",
    "\n",
    "import pickle\n",
    "\n",
    "from utils import *\n",
    "\n",
    "from tqdm import trange, tqdm\n",
    "\n",
    "\"\"\" Load dataset \"\"\"\n",
    "\"\"\" v1 \"\"\"\n",
    "# db_path = '/media/kyungpyo/SmartCarContest/MasterThesisProject/Webots/dataset/db_v1_20181019.pickle'\n",
    "\n",
    "\"\"\" Load dataset \"\"\"\n",
    "\"\"\" v2 \"\"\"\n",
    "# db_path = '/media/kyungpyo/SmartCarContest/MasterThesisProject/Webots/dataset/db_v2_20181019.pickle'\n",
    "\n",
    "\"\"\" Load dataset \"\"\"\n",
    "\"\"\" v4 \"\"\"\n",
    "db_path = os.path.abspath('../dataset/db_v4_20181031.pickle')\n",
    "\n",
    "\n",
    "object_list = []\n",
    "object_list.append('world_RangeRoverSportSVRSimple')\n",
    "object_list.append('world_BmwX5Simple')\n",
    "object_list.append('world_CitroenCZeroSimple')\n",
    "object_list.append('world_LincolnMKZSimple')\n",
    "object_list.append('world_ToyotaPriusSimple')\n",
    "object_list.append('world_BusSimple')\n",
    "object_list.append('world_TruckSimple')\n",
    "object_list.append('world_Pedestrian')\n",
    "object_list.append('world_MotorbikeSimple')\n",
    "object_list.append('world_ScooterSimple')\n",
    "\n",
    "\n",
    "## Load pickle\n",
    "with open(db_path, 'rb') as f:\n",
    "    db = pickle.load(f)    \n",
    "\n",
    "db_aug = {}\n",
    "\n",
    "for idx in range( len(object_list) ):\n",
    "    \n",
    "    cloud_list = db[object_list[idx]]\n",
    "    db_aug[object_list[idx]] = []\n",
    "    \n",
    "    print (object_list[idx])\n",
    "    sys.stdout.flush()\n",
    "    \n",
    "    for cloud in tqdm(cloud_list):\n",
    "        \"\"\" Augmentation - rotation (yaw) \"\"\"\n",
    "        yaw_rotate_from = 0.\n",
    "        yaw_rotate_to = 360.\n",
    "        yaw_step = 20.\n",
    "\n",
    "        pitch_rotate_from = -1.\n",
    "        pitch_rotate_to = 1.\n",
    "        pitch_step = 3.\n",
    "\n",
    "        # numpy.linspace(start, stop, num=50, endpoint=True, retstep=False, dtype=None)[source]\n",
    "\n",
    "        yaw_iter = np.linspace(yaw_rotate_from, yaw_rotate_to, yaw_step, endpoint = False)\n",
    "        pitch_iter = np.linspace(pitch_rotate_from, pitch_rotate_to, pitch_step)\n",
    "\n",
    "        cloud_aug = []\n",
    "        \n",
    "        i = 0\n",
    "        \n",
    "        for yaw in yaw_iter:\n",
    "\n",
    "            yaw = yaw * np.pi / 180.0\n",
    "\n",
    "            for pitch in pitch_iter:                       \n",
    "                i += 1\n",
    "                \n",
    "                pitch = pitch * np.pi / 180.0\n",
    "\n",
    "                yawMatrix = np.matrix([[np.cos(yaw), -np.sin(yaw), 0.],\n",
    "                                    [np.sin(yaw), np.cos(yaw), 0.],\n",
    "                                    [0., 0., 1.]])\n",
    "\n",
    "                pitchMatrix = np.matrix([[np.cos(pitch), 0., np.sin(pitch)],\n",
    "                                        [0., 1., 0.],\n",
    "                                        [-np.sin(pitch), 0., np.cos(pitch)]])\n",
    "\n",
    "                p_mean = np.mean(cloud, axis = 0)\n",
    "\n",
    "                cloud[:,0] -= p_mean[0]\n",
    "                cloud[:,1] -= p_mean[1]\n",
    "                cloud[:,2] -= p_mean[2]\n",
    "\n",
    "                np_pc_aug = np.array((pitchMatrix*yawMatrix*cloud.T).T)                                                    \n",
    "                db_aug[object_list[idx]].append(np_pc_aug)      "
   ]
  },
  {
   "cell_type": "code",
   "execution_count": 9,
   "metadata": {},
   "outputs": [
    {
     "name": "stdout",
     "output_type": "stream",
     "text": [
      "world_RangeRoverSportSVRSimple 480\n",
      "world_BmwX5Simple 480\n",
      "world_CitroenCZeroSimple 480\n",
      "world_LincolnMKZSimple 480\n",
      "world_ToyotaPriusSimple 480\n",
      "world_BusSimple 480\n",
      "world_TruckSimple 480\n",
      "world_Pedestrian 480\n",
      "world_MotorbikeSimple 480\n",
      "world_ScooterSimple 480\n"
     ]
    }
   ],
   "source": [
    "for key in object_list:\n",
    "    print key, len(db_aug[key])"
   ]
  },
  {
   "cell_type": "code",
   "execution_count": 10,
   "metadata": {},
   "outputs": [],
   "source": [
    "## Save pickle\n",
    "with open('db_aug_v4_20181031.pickle', 'wb') as f:\n",
    "    pickle.dump(db_aug, f)"
   ]
  },
  {
   "cell_type": "code",
   "execution_count": 15,
   "metadata": {},
   "outputs": [],
   "source": [
    "## Load pickle\n",
    "data_path = os.path.abspath('../dataset/db_aug_v4_20181031.pickle')\n",
    "with open(data_path, 'rb') as f:\n",
    "    db_aug_test = pickle.load(f)   \n",
    "\n",
    "\"\"\" Display augmenation results - yaw direction \"\"\"\n",
    "%matplotlib qt\n",
    "\n",
    "cloud_aug = db_aug_test[object_list[-1]][:60]\n",
    "\n",
    "plt.close('all')\n",
    "fig = plt.figure()\n",
    "\n",
    "fig.subplots_adjust(left=0.02,top= 0.98,bottom=0.02,right=0.98,wspace=0.1,hspace=0.5)\n",
    "\n",
    "ax = fig.add_subplot(881, projection='3d')\n",
    "ax = display_point_cloud_box_ax(ax, cloud_aug[1])\n",
    "ax.set_title('Original data')\n",
    "\n",
    "for i,pc in enumerate(cloud_aug):\n",
    "    ctr=i+2\n",
    "    ax=fig.add_subplot(8,8,ctr, projection='3d')\n",
    "    ax = display_point_cloud_box_ax(ax, pc) \n",
    "    ax.axis('off')\n",
    "\n",
    "plt.show()"
   ]
  },
  {
   "cell_type": "raw",
   "metadata": {},
   "source": [
    "\"\"\" All data processing \"\"\"\n",
    "\"\"\" Negative sample \"\"\"\n",
    "\n",
    "import os\n",
    "\n",
    "import pickle\n",
    "\n",
    "from utils import *\n",
    "\n",
    "from tqdm import trange, tqdm\n",
    "\n",
    "\"\"\" Load dataset \"\"\"\n",
    "db_path = os.path.abspath('../dataset/ndb_v2_20181020.pickle')\n",
    "\n",
    "## Load pickle\n",
    "with open(db_path, 'rb') as f:\n",
    "    db = pickle.load(f)    \n",
    "\n",
    "db_aug = {}\n",
    " \n",
    "cloud_list = db['unknown']\n",
    "db_aug['unknown'] = []\n",
    "\n",
    "for cloud in tqdm(cloud_list):\n",
    "    \n",
    "    \"\"\" Augmentation - rotation (yaw) \"\"\"\n",
    "    yaw_rotate_from = 0.\n",
    "    yaw_rotate_to = 90.\n",
    "    yaw_step = 2.\n",
    "\n",
    "    pitch_rotate_from = -1.\n",
    "    pitch_rotate_to = 0.\n",
    "    pitch_step = 2.\n",
    "\n",
    "    # numpy.linspace(start, stop, num=50, endpoint=True, retstep=False, dtype=None)[source]\n",
    "\n",
    "    yaw_iter = np.linspace(yaw_rotate_from, yaw_rotate_to, yaw_step)\n",
    "    pitch_iter = np.linspace(pitch_rotate_from, pitch_rotate_to, pitch_step)\n",
    "\n",
    "    cloud_aug = []\n",
    "\n",
    "    i = 0\n",
    "\n",
    "    for yaw in yaw_iter:\n",
    "\n",
    "        yaw = yaw * np.pi / 180.0\n",
    "\n",
    "        for pitch in pitch_iter:                       \n",
    "            i += 1\n",
    "\n",
    "            pitch = pitch * np.pi / 180.0\n",
    "\n",
    "            yawMatrix = np.matrix([[np.cos(yaw), -np.sin(yaw), 0.],\n",
    "                                [np.sin(yaw), np.cos(yaw), 0.],\n",
    "                                [0., 0., 1.]])\n",
    "\n",
    "            pitchMatrix = np.matrix([[np.cos(pitch), 0., np.sin(pitch)],\n",
    "                                    [0., 1., 0.],\n",
    "                                    [-np.sin(pitch), 0., np.cos(pitch)]])\n",
    "\n",
    "            p_mean = np.mean(cloud, axis = 0)\n",
    "\n",
    "            cloud[:,0] -= p_mean[0]\n",
    "            cloud[:,1] -= p_mean[1]\n",
    "            cloud[:,2] -= p_mean[2]\n",
    "\n",
    "            np_pc_aug = np.array((pitchMatrix*yawMatrix*cloud.T).T)                                                    \n",
    "            db_aug['unknown'].append(np_pc_aug)      \n",
    "            "
   ]
  },
  {
   "cell_type": "raw",
   "metadata": {},
   "source": [
    "print 'unknown', len(db_aug['unknown'])"
   ]
  },
  {
   "cell_type": "raw",
   "metadata": {},
   "source": [
    "## Save pickle\n",
    "with open('ndb_aug_v2_20181020.pickle', 'wb') as f:\n",
    "    pickle.dump(db_aug, f)"
   ]
  },
  {
   "cell_type": "code",
   "execution_count": 16,
   "metadata": {},
   "outputs": [],
   "source": [
    "## Load pickle\n",
    "with open('../dataset/ndb_aug_v2_20181020.pickle', 'rb') as f:\n",
    "    db_aug_test = pickle.load(f)   \n",
    "\n",
    "\"\"\" Display augmenation results - yaw direction \"\"\"\n",
    "%matplotlib qt\n",
    "\n",
    "cloud_aug = db_aug_test['unknown'][:4]\n",
    "\n",
    "plt.close('all')\n",
    "fig = plt.figure()\n",
    "\n",
    "fig.subplots_adjust(left=0.02,top= 0.98,bottom=0.02,right=0.98,wspace=0.1,hspace=0.5)\n",
    "\n",
    "ax = fig.add_subplot(231, projection='3d')\n",
    "ax = display_point_cloud_box_ax(ax, cloud_aug[1])\n",
    "ax.set_title('Original data')\n",
    "\n",
    "for i,pc in enumerate(cloud_aug):\n",
    "    ctr=i+2\n",
    "    ax=fig.add_subplot(2,3,ctr, projection='3d')\n",
    "    ax = display_point_cloud_box_ax(ax, pc) \n",
    "    ax.axis('off')\n",
    "    \n",
    "figManager = plt.get_current_fig_manager()\n",
    "figManager.window.showMaximized()\n",
    "plt.show()"
   ]
  }
 ],
 "metadata": {
  "kernelspec": {
   "display_name": "Python 2",
   "language": "python",
   "name": "python2"
  },
  "language_info": {
   "codemirror_mode": {
    "name": "ipython",
    "version": 2
   },
   "file_extension": ".py",
   "mimetype": "text/x-python",
   "name": "python",
   "nbconvert_exporter": "python",
   "pygments_lexer": "ipython2",
   "version": "2.7.12"
  }
 },
 "nbformat": 4,
 "nbformat_minor": 2
}
