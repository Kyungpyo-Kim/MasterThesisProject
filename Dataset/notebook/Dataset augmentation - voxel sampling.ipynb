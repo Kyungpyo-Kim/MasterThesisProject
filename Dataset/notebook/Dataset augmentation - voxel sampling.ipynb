{
 "cells": [
  {
   "cell_type": "markdown",
   "metadata": {},
   "source": [
    "# Dataset augmentation - voxel sampling\n",
    "\n",
    "## Voxel filtering using filter of PCL\n",
    "\n",
    "#### Voxel size\n",
    "* voxel_size_list = [0.05, 0.1, 0.2, 0.5]\n",
    "\n",
    "#### Example\n",
    "![voxel](../image/voxel_filter.png)"
   ]
  },
  {
   "cell_type": "code",
   "execution_count": 22,
   "metadata": {},
   "outputs": [],
   "source": [
    "import os, sys\n",
    "\n",
    "import pcl\n",
    "\n",
    "import pickle\n",
    "\n",
    "import copy\n",
    "\n",
    "from tqdm import tqdm\n",
    "\n",
    "sys.path.append( os.path.abspath(\"../scripts\") )\n",
    "from utils import *\n"
   ]
  },
  {
   "cell_type": "code",
   "execution_count": 23,
   "metadata": {},
   "outputs": [],
   "source": [
    "object_list = []\n",
    "object_list.append('world_RangeRoverSportSVRSimple')\n",
    "object_list.append('world_BmwX5Simple')\n",
    "object_list.append('world_CitroenCZeroSimple')\n",
    "object_list.append('world_LincolnMKZSimple')\n",
    "object_list.append('world_ToyotaPriusSimple')\n",
    "object_list.append('world_BusSimple')\n",
    "object_list.append('world_TruckSimple')\n",
    "\n",
    "data_path = os.path.abspath('../dataset/db_aug_v2_20181019.pickle')"
   ]
  },
  {
   "cell_type": "code",
   "execution_count": 32,
   "metadata": {},
   "outputs": [],
   "source": [
    "## Load pickle\n",
    "with open(data_path, 'rb') as f:\n",
    "    db = pickle.load(f)      \n"
   ]
  },
  {
   "cell_type": "code",
   "execution_count": 34,
   "metadata": {},
   "outputs": [],
   "source": [
    "cloud = db[object_list[1]][301]\n",
    "\n",
    "pcl_cloud = pcl.PointCloud(cloud.astype(np.float32))\n",
    "\n",
    "voxel_size_list = [0.05, 0.1, 0.2, 0.5]\n",
    "\n",
    "pcl_cloud_list = []\n",
    "for i in range(len(voxel_size_list)) : pcl_cloud_list.append(copy.deepcopy(pcl_cloud))\n",
    "\n",
    "%matplotlib qt\n",
    "plt.close('all')\n",
    "fig = plt.figure()\n",
    "\n",
    "fig.subplots_adjust(left=0.02,top= 0.95,bottom=0.02,right=0.98,wspace=0.5,hspace=0.5)\n",
    "\n",
    "ax = fig.add_subplot(331, projection='3d')\n",
    "ax = display_point_cloud_box_ax(ax, cloud)\n",
    "ax.set_title('Original data\\npoint: {}'.format(len(cloud)))\n",
    "\n",
    "for i, pc in enumerate(pcl_cloud_list):\n",
    "    \n",
    "    vgf = pc.make_voxel_grid_filter()\n",
    "    vgf.set_leaf_size(voxel_size_list[i], voxel_size_list[i], voxel_size_list[i])\n",
    "\n",
    "    pc_filtered = vgf.filter()\n",
    "    \n",
    "    np_pc = np.asarray(pc_filtered)\n",
    "    \n",
    "    ctr=i+4\n",
    "    ax = fig.add_subplot(3,3,ctr, projection='3d')\n",
    "    ax = display_point_cloud_box_ax(ax, np_pc) \n",
    "    ax.set_title(\"voxel_size: {}\\npoint: {}\".format(voxel_size_list[i], np_pc.shape[0]))\n",
    "\n",
    "figManager = plt.get_current_fig_manager()\n",
    "figManager.window.showMaximized()\n",
    "plt.show()"
   ]
  },
  {
   "cell_type": "code",
   "execution_count": 40,
   "metadata": {},
   "outputs": [
    {
     "name": "stdout",
     "output_type": "stream",
     "text": [
      "voxel filtering: world_RangeRoverSportSVRSimple\n"
     ]
    },
    {
     "name": "stderr",
     "output_type": "stream",
     "text": [
      "100%|██████████| 480/480 [00:00<00:00, 4998.90it/s]"
     ]
    },
    {
     "name": "stdout",
     "output_type": "stream",
     "text": [
      "voxel filtering: world_BmwX5Simple\n"
     ]
    },
    {
     "name": "stderr",
     "output_type": "stream",
     "text": [
      "\n",
      "100%|██████████| 480/480 [00:00<00:00, 7636.28it/s]"
     ]
    },
    {
     "name": "stdout",
     "output_type": "stream",
     "text": [
      "voxel filtering: world_CitroenCZeroSimple\n"
     ]
    },
    {
     "name": "stderr",
     "output_type": "stream",
     "text": [
      "\n",
      "100%|██████████| 480/480 [00:00<00:00, 7644.16it/s]"
     ]
    },
    {
     "name": "stdout",
     "output_type": "stream",
     "text": [
      "voxel filtering: world_LincolnMKZSimple\n"
     ]
    },
    {
     "name": "stderr",
     "output_type": "stream",
     "text": [
      "\n",
      "100%|██████████| 480/480 [00:00<00:00, 4173.84it/s]"
     ]
    },
    {
     "name": "stdout",
     "output_type": "stream",
     "text": [
      "voxel filtering: world_ToyotaPriusSimple\n"
     ]
    },
    {
     "name": "stderr",
     "output_type": "stream",
     "text": [
      "\n",
      "100%|██████████| 480/480 [00:00<00:00, 6876.99it/s]"
     ]
    },
    {
     "name": "stdout",
     "output_type": "stream",
     "text": [
      "voxel filtering: world_BusSimple\n"
     ]
    },
    {
     "name": "stderr",
     "output_type": "stream",
     "text": [
      "\n",
      "100%|██████████| 480/480 [00:00<00:00, 2940.22it/s]"
     ]
    },
    {
     "name": "stdout",
     "output_type": "stream",
     "text": [
      "voxel filtering: world_TruckSimple\n"
     ]
    },
    {
     "name": "stderr",
     "output_type": "stream",
     "text": [
      "\n",
      "100%|██████████| 480/480 [00:00<00:00, 2763.98it/s]"
     ]
    },
    {
     "name": "stdout",
     "output_type": "stream",
     "text": [
      "voxel filtering: world_RangeRoverSportSVRSimple\n"
     ]
    },
    {
     "name": "stderr",
     "output_type": "stream",
     "text": [
      "\n",
      "100%|██████████| 480/480 [00:00<00:00, 4355.44it/s]"
     ]
    },
    {
     "name": "stdout",
     "output_type": "stream",
     "text": [
      "voxel filtering: world_BmwX5Simple\n"
     ]
    },
    {
     "name": "stderr",
     "output_type": "stream",
     "text": [
      "\n",
      "100%|██████████| 480/480 [00:00<00:00, 7271.63it/s]"
     ]
    },
    {
     "name": "stdout",
     "output_type": "stream",
     "text": [
      "voxel filtering: world_CitroenCZeroSimple\n"
     ]
    },
    {
     "name": "stderr",
     "output_type": "stream",
     "text": [
      "\n",
      "100%|██████████| 480/480 [00:00<00:00, 7028.85it/s]"
     ]
    },
    {
     "name": "stdout",
     "output_type": "stream",
     "text": [
      "voxel filtering: world_LincolnMKZSimple\n"
     ]
    },
    {
     "name": "stderr",
     "output_type": "stream",
     "text": [
      "\n",
      "100%|██████████| 480/480 [00:00<00:00, 6639.18it/s]"
     ]
    },
    {
     "name": "stdout",
     "output_type": "stream",
     "text": [
      "voxel filtering: world_ToyotaPriusSimple\n"
     ]
    },
    {
     "name": "stderr",
     "output_type": "stream",
     "text": [
      "\n",
      "100%|██████████| 480/480 [00:00<00:00, 7482.70it/s]"
     ]
    },
    {
     "name": "stdout",
     "output_type": "stream",
     "text": [
      "voxel filtering: world_BusSimple\n"
     ]
    },
    {
     "name": "stderr",
     "output_type": "stream",
     "text": [
      "\n",
      "100%|██████████| 480/480 [00:00<00:00, 2799.11it/s]"
     ]
    },
    {
     "name": "stdout",
     "output_type": "stream",
     "text": [
      "voxel filtering: world_TruckSimple\n"
     ]
    },
    {
     "name": "stderr",
     "output_type": "stream",
     "text": [
      "\n",
      "100%|██████████| 480/480 [00:00<00:00, 2829.00it/s]"
     ]
    },
    {
     "name": "stdout",
     "output_type": "stream",
     "text": [
      "voxel filtering: world_RangeRoverSportSVRSimple\n"
     ]
    },
    {
     "name": "stderr",
     "output_type": "stream",
     "text": [
      "\n",
      "100%|██████████| 480/480 [00:00<00:00, 7674.96it/s]"
     ]
    },
    {
     "name": "stdout",
     "output_type": "stream",
     "text": [
      "voxel filtering: world_BmwX5Simple\n"
     ]
    },
    {
     "name": "stderr",
     "output_type": "stream",
     "text": [
      "\n",
      "100%|██████████| 480/480 [00:00<00:00, 7543.85it/s]"
     ]
    },
    {
     "name": "stdout",
     "output_type": "stream",
     "text": [
      "voxel filtering: world_CitroenCZeroSimple\n"
     ]
    },
    {
     "name": "stderr",
     "output_type": "stream",
     "text": [
      "\n",
      "100%|██████████| 480/480 [00:00<00:00, 7370.09it/s]"
     ]
    },
    {
     "name": "stdout",
     "output_type": "stream",
     "text": [
      "voxel filtering: world_LincolnMKZSimple\n"
     ]
    },
    {
     "name": "stderr",
     "output_type": "stream",
     "text": [
      "\n",
      "100%|██████████| 480/480 [00:00<00:00, 7489.10it/s]"
     ]
    },
    {
     "name": "stdout",
     "output_type": "stream",
     "text": [
      "voxel filtering: world_ToyotaPriusSimple\n"
     ]
    },
    {
     "name": "stderr",
     "output_type": "stream",
     "text": [
      "\n",
      "100%|██████████| 480/480 [00:00<00:00, 7401.58it/s]"
     ]
    },
    {
     "name": "stdout",
     "output_type": "stream",
     "text": [
      "voxel filtering: world_BusSimple\n"
     ]
    },
    {
     "name": "stderr",
     "output_type": "stream",
     "text": [
      "\n",
      "100%|██████████| 480/480 [00:00<00:00, 4221.93it/s]"
     ]
    },
    {
     "name": "stdout",
     "output_type": "stream",
     "text": [
      "voxel filtering: world_TruckSimple\n"
     ]
    },
    {
     "name": "stderr",
     "output_type": "stream",
     "text": [
      "\n",
      "100%|██████████| 480/480 [00:00<00:00, 4185.71it/s]"
     ]
    },
    {
     "name": "stdout",
     "output_type": "stream",
     "text": [
      "voxel filtering: world_RangeRoverSportSVRSimple\n"
     ]
    },
    {
     "name": "stderr",
     "output_type": "stream",
     "text": [
      "\n",
      "100%|██████████| 480/480 [00:00<00:00, 7455.49it/s]"
     ]
    },
    {
     "name": "stdout",
     "output_type": "stream",
     "text": [
      "voxel filtering: world_BmwX5Simple\n"
     ]
    },
    {
     "name": "stderr",
     "output_type": "stream",
     "text": [
      "\n",
      "100%|██████████| 480/480 [00:00<00:00, 7381.79it/s]"
     ]
    },
    {
     "name": "stdout",
     "output_type": "stream",
     "text": [
      "voxel filtering: world_CitroenCZeroSimple\n"
     ]
    },
    {
     "name": "stderr",
     "output_type": "stream",
     "text": [
      "\n",
      "100%|██████████| 480/480 [00:00<00:00, 7690.94it/s]"
     ]
    },
    {
     "name": "stdout",
     "output_type": "stream",
     "text": [
      "voxel filtering: world_LincolnMKZSimple\n"
     ]
    },
    {
     "name": "stderr",
     "output_type": "stream",
     "text": [
      "\n",
      "100%|██████████| 480/480 [00:00<00:00, 7599.38it/s]"
     ]
    },
    {
     "name": "stdout",
     "output_type": "stream",
     "text": [
      "voxel filtering: world_ToyotaPriusSimple\n"
     ]
    },
    {
     "name": "stderr",
     "output_type": "stream",
     "text": [
      "\n",
      "100%|██████████| 480/480 [00:00<00:00, 7668.71it/s]"
     ]
    },
    {
     "name": "stdout",
     "output_type": "stream",
     "text": [
      "voxel filtering: world_BusSimple\n"
     ]
    },
    {
     "name": "stderr",
     "output_type": "stream",
     "text": [
      "\n",
      "100%|██████████| 480/480 [00:00<00:00, 4145.15it/s]"
     ]
    },
    {
     "name": "stdout",
     "output_type": "stream",
     "text": [
      "voxel filtering: world_TruckSimple\n"
     ]
    },
    {
     "name": "stderr",
     "output_type": "stream",
     "text": [
      "\n",
      "100%|██████████| 480/480 [00:00<00:00, 4068.35it/s]\n"
     ]
    }
   ],
   "source": [
    "voxel_size_list = [0.05, 0.1, 0.2, 0.5]\n",
    "\n",
    "db_list = []\n",
    "\n",
    "for v_size in voxel_size_list:\n",
    "    \n",
    "    db_tmp = {}\n",
    "\n",
    "    for key in object_list:\n",
    "        \n",
    "        db_tmp[key] = []\n",
    "\n",
    "        print 'voxel filtering: {}'.format(key)\n",
    "        sys.stdout.flush()\n",
    "\n",
    "        for cloud in tqdm(db[key]):\n",
    "\n",
    "            ## voxel filtering data\n",
    "            pcl_cloud = pcl.PointCloud(cloud.astype(np.float32))\n",
    "            \n",
    "            vgf = pcl_cloud.make_voxel_grid_filter()\n",
    "            vgf.set_leaf_size(v_size, v_size, v_size)\n",
    "\n",
    "            pc_filtered = vgf.filter()\n",
    "\n",
    "            np_pc = np.asarray(pc_filtered)\n",
    "\n",
    "            db_tmp[key].append(np_pc)\n",
    "            \n",
    "            del pcl_cloud, vgf, np_pc\n",
    "            \n",
    "    db_list.append(db_tmp)\n",
    "            "
   ]
  },
  {
   "cell_type": "code",
   "execution_count": 45,
   "metadata": {},
   "outputs": [
    {
     "name": "stdout",
     "output_type": "stream",
     "text": [
      "Original data\n",
      "world_RangeRoverSportSVRSimple 480\n",
      "world_BmwX5Simple 480\n",
      "world_BusSimple 480\n",
      "world_TruckSimple 480\n",
      "world_LincolnMKZSimple 480\n",
      "world_ToyotaPriusSimple 480\n",
      "world_CitroenCZeroSimple 480\n",
      "filtered data\n",
      "- voxel size: 0.05\n",
      "world_TruckSimple 480\n",
      "world_BmwX5Simple 480\n",
      "world_BusSimple 480\n",
      "world_RangeRoverSportSVRSimple 480\n",
      "world_LincolnMKZSimple 480\n",
      "world_ToyotaPriusSimple 480\n",
      "world_CitroenCZeroSimple 480\n",
      "- voxel size: 0.1\n",
      "world_TruckSimple 480\n",
      "world_BmwX5Simple 480\n",
      "world_BusSimple 480\n",
      "world_RangeRoverSportSVRSimple 480\n",
      "world_LincolnMKZSimple 480\n",
      "world_ToyotaPriusSimple 480\n",
      "world_CitroenCZeroSimple 480\n",
      "- voxel size: 0.2\n",
      "world_TruckSimple 480\n",
      "world_BmwX5Simple 480\n",
      "world_BusSimple 480\n",
      "world_RangeRoverSportSVRSimple 480\n",
      "world_LincolnMKZSimple 480\n",
      "world_ToyotaPriusSimple 480\n",
      "world_CitroenCZeroSimple 480\n",
      "- voxel size: 0.5\n",
      "world_TruckSimple 480\n",
      "world_BmwX5Simple 480\n",
      "world_BusSimple 480\n",
      "world_RangeRoverSportSVRSimple 480\n",
      "world_LincolnMKZSimple 480\n",
      "world_ToyotaPriusSimple 480\n",
      "world_CitroenCZeroSimple 480\n"
     ]
    }
   ],
   "source": [
    "print \"Original data\"\n",
    "\n",
    "for k, v in db_aug_test.items():\n",
    "    print k, len(v)\n",
    "    \n",
    "print \"filtered data\"\n",
    "\n",
    "for i, v_size in enumerate(voxel_size_list):\n",
    "    \n",
    "    print \"- voxel size:\", v_size\n",
    "    \n",
    "    for k, v in db_list[i].items():\n",
    "        print k, len(v)\n",
    "    \n",
    "    ## Save pickle\n",
    "    with open('db_aug_v2_v_{:03}_20181019.pickle'.format( int(v_size * 1000) ), 'wb') as f:\n",
    "        pickle.dump(db_list[i], f)\n",
    "    \n",
    "\n",
    "    "
   ]
  },
  {
   "cell_type": "code",
   "execution_count": 44,
   "metadata": {},
   "outputs": [],
   "source": [
    "key_sel = -3\n",
    "db_sel = 0\n",
    "\n",
    "db_disp = db_list[db_sel]\n",
    "\n",
    "\"\"\" Display augmenation results - yaw direction \"\"\"\n",
    "%matplotlib qt\n",
    "\n",
    "cloud = db_disp[object_list[key_sel]]\n",
    "\n",
    "plt.close('all')\n",
    "fig = plt.figure()\n",
    "\n",
    "fig.subplots_adjust(left=0.02,top= 0.98,bottom=0.02,right=0.98,wspace=0.1,hspace=0.1)\n",
    "\n",
    "k = 4\n",
    "idx_start = 0\n",
    "\n",
    "for i,pc in enumerate(cloud[idx_start * k*k: (idx_start+1) * k*k]):\n",
    "    \n",
    "    ax=fig.add_subplot(k, k, i+1, projection='3d')\n",
    "    ax = display_point_cloud_box_ax(ax, pc) \n",
    "    ax.set_title('idx: {}'.format(i + idx_start))\n",
    "    \n",
    "figManager = plt.get_current_fig_manager()\n",
    "figManager.window.showMaximized()\n",
    "plt.show()"
   ]
  }
 ],
 "metadata": {
  "kernelspec": {
   "display_name": "Python 2",
   "language": "python",
   "name": "python2"
  },
  "language_info": {
   "codemirror_mode": {
    "name": "ipython",
    "version": 2
   },
   "file_extension": ".py",
   "mimetype": "text/x-python",
   "name": "python",
   "nbconvert_exporter": "python",
   "pygments_lexer": "ipython2",
   "version": "2.7.12"
  }
 },
 "nbformat": 4,
 "nbformat_minor": 2
}
