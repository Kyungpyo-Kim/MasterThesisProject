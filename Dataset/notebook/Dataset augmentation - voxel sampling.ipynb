{
 "cells": [
  {
   "cell_type": "markdown",
   "metadata": {},
   "source": [
    "# Dataset augmentation - voxel sampling\n",
    "\n",
    "## Voxel filtering using filter of PCL\n",
    "\n",
    "#### Voxel size\n",
    "* voxel_size_list = [0.1, 0.2, 0.3, 0.4, 0.5]\n",
    "\n",
    "#### Example\n",
    "![voxel](../image/voxel_filter.png)"
   ]
  },
  {
   "cell_type": "code",
   "execution_count": 1,
   "metadata": {},
   "outputs": [],
   "source": [
    "import os, sys\n",
    "\n",
    "import pcl\n",
    "\n",
    "import pickle\n",
    "\n",
    "import copy\n",
    "\n",
    "from tqdm import tqdm\n",
    "\n",
    "sys.path.append( os.path.abspath(\"../scripts\") )\n",
    "from utils import *\n"
   ]
  },
  {
   "cell_type": "code",
   "execution_count": 2,
   "metadata": {},
   "outputs": [],
   "source": [
    "object_list = []\n",
    "object_list.append('world_RangeRoverSportSVRSimple')\n",
    "object_list.append('world_BmwX5Simple')\n",
    "object_list.append('world_CitroenCZeroSimple')\n",
    "object_list.append('world_LincolnMKZSimple')\n",
    "object_list.append('world_ToyotaPriusSimple')\n",
    "object_list.append('world_BusSimple')\n",
    "object_list.append('world_TruckSimple')\n",
    "object_list.append('world_Pedestrian')\n",
    "object_list.append('world_MotorbikeSimple')\n",
    "object_list.append('world_ScooterSimple')\n",
    "\n",
    "data_path = os.path.abspath('../dataset/db_aug_v4_20181031.pickle')"
   ]
  },
  {
   "cell_type": "code",
   "execution_count": 3,
   "metadata": {},
   "outputs": [],
   "source": [
    "## Load pickle\n",
    "with open(data_path, 'rb') as f:\n",
    "    db = pickle.load(f)      \n"
   ]
  },
  {
   "cell_type": "code",
   "execution_count": 8,
   "metadata": {},
   "outputs": [],
   "source": [
    "cloud = db[object_list[-4]][301]\n",
    "\n",
    "pcl_cloud = pcl.PointCloud(cloud.astype(np.float32))\n",
    "\n",
    "voxel_size_list = [0.1, 0.2, 0.3, 0.4, 0.5]\n",
    "\n",
    "pcl_cloud_list = []\n",
    "for i in range(len(voxel_size_list)) : pcl_cloud_list.append(copy.deepcopy(pcl_cloud))\n",
    "\n",
    "%matplotlib qt\n",
    "plt.close('all')\n",
    "fig = plt.figure()\n",
    "\n",
    "fig.subplots_adjust(left=0.02,top= 0.95,bottom=0.02,right=0.98,wspace=0.5,hspace=0.5)\n",
    "\n",
    "ax = fig.add_subplot(331, projection='3d')\n",
    "ax = display_point_cloud_box_ax(ax, cloud)\n",
    "ax.set_title('Original data\\npoint: {}'.format(len(cloud)))\n",
    "\n",
    "for i, pc in enumerate(pcl_cloud_list):\n",
    "    \n",
    "    vgf = pc.make_voxel_grid_filter()\n",
    "    vgf.set_leaf_size(voxel_size_list[i], voxel_size_list[i], voxel_size_list[i])\n",
    "\n",
    "    pc_filtered = vgf.filter()\n",
    "    \n",
    "    np_pc = np.asarray(pc_filtered)\n",
    "    \n",
    "    ctr=i+4\n",
    "    ax = fig.add_subplot(3,3,ctr, projection='3d')\n",
    "    ax = display_point_cloud_box_ax(ax, np_pc) \n",
    "    ax.set_title(\"voxel_size: {}\\npoint: {}\".format(voxel_size_list[i], np_pc.shape[0]))\n",
    "\n",
    "figManager = plt.get_current_fig_manager()\n",
    "figManager.window.showMaximized()\n",
    "plt.show()"
   ]
  },
  {
   "cell_type": "code",
   "execution_count": 9,
   "metadata": {},
   "outputs": [
    {
     "name": "stdout",
     "output_type": "stream",
     "text": [
      "voxel filtering: world_RangeRoverSportSVRSimple voxel size: 0.1\n"
     ]
    },
    {
     "name": "stderr",
     "output_type": "stream",
     "text": [
      "100%|██████████| 480/480 [00:00<00:00, 7605.52it/s]"
     ]
    },
    {
     "name": "stdout",
     "output_type": "stream",
     "text": [
      "voxel filtering: world_BmwX5Simple voxel size: 0.1\n"
     ]
    },
    {
     "name": "stderr",
     "output_type": "stream",
     "text": [
      "\n",
      "100%|██████████| 480/480 [00:00<00:00, 7507.14it/s]"
     ]
    },
    {
     "name": "stdout",
     "output_type": "stream",
     "text": [
      "voxel filtering: world_CitroenCZeroSimple voxel size: 0.1\n"
     ]
    },
    {
     "name": "stderr",
     "output_type": "stream",
     "text": [
      "\n",
      "100%|██████████| 480/480 [00:00<00:00, 7547.30it/s]"
     ]
    },
    {
     "name": "stdout",
     "output_type": "stream",
     "text": [
      "voxel filtering: world_LincolnMKZSimple voxel size: 0.1\n"
     ]
    },
    {
     "name": "stderr",
     "output_type": "stream",
     "text": [
      "\n",
      "100%|██████████| 480/480 [00:00<00:00, 7537.10it/s]"
     ]
    },
    {
     "name": "stdout",
     "output_type": "stream",
     "text": [
      "voxel filtering: world_ToyotaPriusSimple voxel size: 0.1\n"
     ]
    },
    {
     "name": "stderr",
     "output_type": "stream",
     "text": [
      "\n",
      "100%|██████████| 480/480 [00:00<00:00, 7590.01it/s]"
     ]
    },
    {
     "name": "stdout",
     "output_type": "stream",
     "text": [
      "voxel filtering: world_BusSimple voxel size: 0.1\n"
     ]
    },
    {
     "name": "stderr",
     "output_type": "stream",
     "text": [
      "\n",
      "100%|██████████| 480/480 [00:00<00:00, 4218.90it/s]"
     ]
    },
    {
     "name": "stdout",
     "output_type": "stream",
     "text": [
      "voxel filtering: world_TruckSimple voxel size: 0.1\n"
     ]
    },
    {
     "name": "stderr",
     "output_type": "stream",
     "text": [
      "\n",
      "100%|██████████| 480/480 [00:00<00:00, 4191.70it/s]"
     ]
    },
    {
     "name": "stdout",
     "output_type": "stream",
     "text": [
      "voxel filtering: world_Pedestrian voxel size: 0.1\n"
     ]
    },
    {
     "name": "stderr",
     "output_type": "stream",
     "text": [
      "\n",
      "100%|██████████| 480/480 [00:00<00:00, 33831.28it/s]"
     ]
    },
    {
     "name": "stdout",
     "output_type": "stream",
     "text": [
      "voxel filtering: world_MotorbikeSimple voxel size: 0.1\n"
     ]
    },
    {
     "name": "stderr",
     "output_type": "stream",
     "text": [
      "\n",
      "100%|██████████| 480/480 [00:00<00:00, 33463.52it/s]"
     ]
    },
    {
     "name": "stdout",
     "output_type": "stream",
     "text": [
      "voxel filtering: world_ScooterSimple voxel size: 0.1\n"
     ]
    },
    {
     "name": "stderr",
     "output_type": "stream",
     "text": [
      "\n",
      "100%|██████████| 480/480 [00:00<00:00, 15616.40it/s]"
     ]
    },
    {
     "name": "stdout",
     "output_type": "stream",
     "text": [
      "voxel filtering: world_RangeRoverSportSVRSimple voxel size: 0.2\n"
     ]
    },
    {
     "name": "stderr",
     "output_type": "stream",
     "text": [
      "\n",
      "100%|██████████| 480/480 [00:00<00:00, 7636.13it/s]"
     ]
    },
    {
     "name": "stdout",
     "output_type": "stream",
     "text": [
      "voxel filtering: world_BmwX5Simple voxel size: 0.2\n"
     ]
    },
    {
     "name": "stderr",
     "output_type": "stream",
     "text": [
      "\n",
      "100%|██████████| 480/480 [00:00<00:00, 7634.45it/s]"
     ]
    },
    {
     "name": "stdout",
     "output_type": "stream",
     "text": [
      "voxel filtering: world_CitroenCZeroSimple voxel size: 0.2\n"
     ]
    },
    {
     "name": "stderr",
     "output_type": "stream",
     "text": [
      "\n",
      "100%|██████████| 480/480 [00:00<00:00, 7595.31it/s]"
     ]
    },
    {
     "name": "stdout",
     "output_type": "stream",
     "text": [
      "voxel filtering: world_LincolnMKZSimple voxel size: 0.2\n"
     ]
    },
    {
     "name": "stderr",
     "output_type": "stream",
     "text": [
      "\n",
      "100%|██████████| 480/480 [00:00<00:00, 7350.91it/s]"
     ]
    },
    {
     "name": "stdout",
     "output_type": "stream",
     "text": [
      "voxel filtering: world_ToyotaPriusSimple voxel size: 0.2\n"
     ]
    },
    {
     "name": "stderr",
     "output_type": "stream",
     "text": [
      "\n",
      "100%|██████████| 480/480 [00:00<00:00, 7468.27it/s]"
     ]
    },
    {
     "name": "stdout",
     "output_type": "stream",
     "text": [
      "voxel filtering: world_BusSimple voxel size: 0.2\n"
     ]
    },
    {
     "name": "stderr",
     "output_type": "stream",
     "text": [
      "\n",
      "100%|██████████| 480/480 [00:00<00:00, 2863.17it/s]"
     ]
    },
    {
     "name": "stdout",
     "output_type": "stream",
     "text": [
      "voxel filtering: world_TruckSimple voxel size: 0.2\n"
     ]
    },
    {
     "name": "stderr",
     "output_type": "stream",
     "text": [
      "\n",
      "100%|██████████| 480/480 [00:00<00:00, 4228.89it/s]"
     ]
    },
    {
     "name": "stdout",
     "output_type": "stream",
     "text": [
      "voxel filtering: world_Pedestrian voxel size: 0.2\n"
     ]
    },
    {
     "name": "stderr",
     "output_type": "stream",
     "text": [
      "\n",
      "100%|██████████| 480/480 [00:00<00:00, 32015.04it/s]"
     ]
    },
    {
     "name": "stdout",
     "output_type": "stream",
     "text": [
      "voxel filtering: world_MotorbikeSimple voxel size: 0.2\n"
     ]
    },
    {
     "name": "stderr",
     "output_type": "stream",
     "text": [
      "\n",
      "100%|██████████| 480/480 [00:00<00:00, 5036.88it/s]"
     ]
    },
    {
     "name": "stdout",
     "output_type": "stream",
     "text": [
      "voxel filtering: world_ScooterSimple voxel size: 0.2\n"
     ]
    },
    {
     "name": "stderr",
     "output_type": "stream",
     "text": [
      "\n",
      "100%|██████████| 480/480 [00:00<00:00, 32305.81it/s]"
     ]
    },
    {
     "name": "stdout",
     "output_type": "stream",
     "text": [
      "voxel filtering: world_RangeRoverSportSVRSimple voxel size: 0.3\n"
     ]
    },
    {
     "name": "stderr",
     "output_type": "stream",
     "text": [
      "\n",
      "100%|██████████| 480/480 [00:00<00:00, 7675.46it/s]"
     ]
    },
    {
     "name": "stdout",
     "output_type": "stream",
     "text": [
      "voxel filtering: world_BmwX5Simple voxel size: 0.3\n"
     ]
    },
    {
     "name": "stderr",
     "output_type": "stream",
     "text": [
      "\n",
      "100%|██████████| 480/480 [00:00<00:00, 7555.38it/s]"
     ]
    },
    {
     "name": "stdout",
     "output_type": "stream",
     "text": [
      "voxel filtering: world_CitroenCZeroSimple voxel size: 0.3\n"
     ]
    },
    {
     "name": "stderr",
     "output_type": "stream",
     "text": [
      "\n",
      "100%|██████████| 480/480 [00:00<00:00, 7630.66it/s]"
     ]
    },
    {
     "name": "stdout",
     "output_type": "stream",
     "text": [
      "voxel filtering: world_LincolnMKZSimple voxel size: 0.3\n"
     ]
    },
    {
     "name": "stderr",
     "output_type": "stream",
     "text": [
      "\n",
      "100%|██████████| 480/480 [00:00<00:00, 7347.10it/s]"
     ]
    },
    {
     "name": "stdout",
     "output_type": "stream",
     "text": [
      "voxel filtering: world_ToyotaPriusSimple voxel size: 0.3\n"
     ]
    },
    {
     "name": "stderr",
     "output_type": "stream",
     "text": [
      "\n",
      "100%|██████████| 480/480 [00:00<00:00, 7481.90it/s]"
     ]
    },
    {
     "name": "stdout",
     "output_type": "stream",
     "text": [
      "voxel filtering: world_BusSimple voxel size: 0.3\n"
     ]
    },
    {
     "name": "stderr",
     "output_type": "stream",
     "text": [
      "\n",
      "100%|██████████| 480/480 [00:00<00:00, 4237.44it/s]"
     ]
    },
    {
     "name": "stdout",
     "output_type": "stream",
     "text": [
      "voxel filtering: world_TruckSimple voxel size: 0.3\n"
     ]
    },
    {
     "name": "stderr",
     "output_type": "stream",
     "text": [
      "\n",
      "100%|██████████| 480/480 [00:00<00:00, 4237.44it/s]"
     ]
    },
    {
     "name": "stdout",
     "output_type": "stream",
     "text": [
      "voxel filtering: world_Pedestrian voxel size: 0.3\n"
     ]
    },
    {
     "name": "stderr",
     "output_type": "stream",
     "text": [
      "\n",
      "100%|██████████| 480/480 [00:00<00:00, 33174.58it/s]"
     ]
    },
    {
     "name": "stdout",
     "output_type": "stream",
     "text": [
      "voxel filtering: world_MotorbikeSimple voxel size: 0.3\n"
     ]
    },
    {
     "name": "stderr",
     "output_type": "stream",
     "text": [
      "\n",
      "100%|██████████| 480/480 [00:00<00:00, 33468.53it/s]"
     ]
    },
    {
     "name": "stdout",
     "output_type": "stream",
     "text": [
      "voxel filtering: world_ScooterSimple voxel size: 0.3\n"
     ]
    },
    {
     "name": "stderr",
     "output_type": "stream",
     "text": [
      "\n",
      "100%|██████████| 480/480 [00:00<00:00, 33112.93it/s]"
     ]
    },
    {
     "name": "stdout",
     "output_type": "stream",
     "text": [
      "voxel filtering: world_RangeRoverSportSVRSimple voxel size: 0.4\n"
     ]
    },
    {
     "name": "stderr",
     "output_type": "stream",
     "text": [
      "\n",
      "100%|██████████| 480/480 [00:00<00:00, 7604.09it/s]"
     ]
    },
    {
     "name": "stdout",
     "output_type": "stream",
     "text": [
      "voxel filtering: world_BmwX5Simple voxel size: 0.4\n"
     ]
    },
    {
     "name": "stderr",
     "output_type": "stream",
     "text": [
      "\n",
      "100%|██████████| 480/480 [00:00<00:00, 7594.11it/s]"
     ]
    },
    {
     "name": "stdout",
     "output_type": "stream",
     "text": [
      "voxel filtering: world_CitroenCZeroSimple voxel size: 0.4\n"
     ]
    },
    {
     "name": "stderr",
     "output_type": "stream",
     "text": [
      "\n",
      "100%|██████████| 480/480 [00:00<00:00, 15554.14it/s]"
     ]
    },
    {
     "name": "stdout",
     "output_type": "stream",
     "text": [
      "voxel filtering: world_LincolnMKZSimple voxel size: 0.4\n"
     ]
    },
    {
     "name": "stderr",
     "output_type": "stream",
     "text": [
      "\n",
      "100%|██████████| 480/480 [00:00<00:00, 7747.83it/s]"
     ]
    },
    {
     "name": "stdout",
     "output_type": "stream",
     "text": [
      "voxel filtering: world_ToyotaPriusSimple voxel size: 0.4\n"
     ]
    },
    {
     "name": "stderr",
     "output_type": "stream",
     "text": [
      "\n",
      "100%|██████████| 480/480 [00:00<00:00, 7481.98it/s]"
     ]
    },
    {
     "name": "stdout",
     "output_type": "stream",
     "text": [
      "voxel filtering: world_BusSimple voxel size: 0.4\n"
     ]
    },
    {
     "name": "stderr",
     "output_type": "stream",
     "text": [
      "\n",
      "100%|██████████| 480/480 [00:00<00:00, 4210.05it/s]"
     ]
    },
    {
     "name": "stdout",
     "output_type": "stream",
     "text": [
      "voxel filtering: world_TruckSimple voxel size: 0.4\n"
     ]
    },
    {
     "name": "stderr",
     "output_type": "stream",
     "text": [
      "\n",
      "100%|██████████| 480/480 [00:00<00:00, 4297.42it/s]"
     ]
    },
    {
     "name": "stdout",
     "output_type": "stream",
     "text": [
      "voxel filtering: world_Pedestrian voxel size: 0.4\n"
     ]
    },
    {
     "name": "stderr",
     "output_type": "stream",
     "text": [
      "\n",
      "100%|██████████| 480/480 [00:00<00:00, 32802.17it/s]"
     ]
    },
    {
     "name": "stdout",
     "output_type": "stream",
     "text": [
      "voxel filtering: world_MotorbikeSimple voxel size: 0.4\n"
     ]
    },
    {
     "name": "stderr",
     "output_type": "stream",
     "text": [
      "\n",
      "100%|██████████| 480/480 [00:00<00:00, 32406.17it/s]"
     ]
    },
    {
     "name": "stdout",
     "output_type": "stream",
     "text": [
      "voxel filtering: world_ScooterSimple voxel size: 0.4\n"
     ]
    },
    {
     "name": "stderr",
     "output_type": "stream",
     "text": [
      "\n",
      "100%|██████████| 480/480 [00:00<00:00, 32946.57it/s]"
     ]
    },
    {
     "name": "stdout",
     "output_type": "stream",
     "text": [
      "voxel filtering: world_RangeRoverSportSVRSimple voxel size: 0.5\n"
     ]
    },
    {
     "name": "stderr",
     "output_type": "stream",
     "text": [
      "\n",
      "100%|██████████| 480/480 [00:00<00:00, 7581.87it/s]"
     ]
    },
    {
     "name": "stdout",
     "output_type": "stream",
     "text": [
      "voxel filtering: world_BmwX5Simple voxel size: 0.5\n"
     ]
    },
    {
     "name": "stderr",
     "output_type": "stream",
     "text": [
      "\n",
      "100%|██████████| 480/480 [00:00<00:00, 7631.41it/s]"
     ]
    },
    {
     "name": "stdout",
     "output_type": "stream",
     "text": [
      "voxel filtering: world_CitroenCZeroSimple voxel size: 0.5\n"
     ]
    },
    {
     "name": "stderr",
     "output_type": "stream",
     "text": [
      "\n",
      "100%|██████████| 480/480 [00:00<00:00, 15851.99it/s]"
     ]
    },
    {
     "name": "stdout",
     "output_type": "stream",
     "text": [
      "voxel filtering: world_LincolnMKZSimple voxel size: 0.5\n"
     ]
    },
    {
     "name": "stderr",
     "output_type": "stream",
     "text": [
      "\n",
      "100%|██████████| 480/480 [00:00<00:00, 7507.65it/s]"
     ]
    },
    {
     "name": "stdout",
     "output_type": "stream",
     "text": [
      "voxel filtering: world_ToyotaPriusSimple voxel size: 0.5\n"
     ]
    },
    {
     "name": "stderr",
     "output_type": "stream",
     "text": [
      "\n",
      "100%|██████████| 480/480 [00:00<00:00, 7581.24it/s]"
     ]
    },
    {
     "name": "stdout",
     "output_type": "stream",
     "text": [
      "voxel filtering: world_BusSimple voxel size: 0.5\n"
     ]
    },
    {
     "name": "stderr",
     "output_type": "stream",
     "text": [
      "\n",
      "100%|██████████| 480/480 [00:00<00:00, 4248.80it/s]"
     ]
    },
    {
     "name": "stdout",
     "output_type": "stream",
     "text": [
      "voxel filtering: world_TruckSimple voxel size: 0.5\n"
     ]
    },
    {
     "name": "stderr",
     "output_type": "stream",
     "text": [
      "\n",
      "100%|██████████| 480/480 [00:00<00:00, 4245.69it/s]"
     ]
    },
    {
     "name": "stdout",
     "output_type": "stream",
     "text": [
      "voxel filtering: world_Pedestrian voxel size: 0.5\n"
     ]
    },
    {
     "name": "stderr",
     "output_type": "stream",
     "text": [
      "\n",
      "100%|██████████| 480/480 [00:00<00:00, 32478.32it/s]"
     ]
    },
    {
     "name": "stdout",
     "output_type": "stream",
     "text": [
      "voxel filtering: world_MotorbikeSimple voxel size: 0.5\n"
     ]
    },
    {
     "name": "stderr",
     "output_type": "stream",
     "text": [
      "\n",
      "100%|██████████| 480/480 [00:00<00:00, 32393.14it/s]"
     ]
    },
    {
     "name": "stdout",
     "output_type": "stream",
     "text": [
      "voxel filtering: world_ScooterSimple voxel size: 0.5\n"
     ]
    },
    {
     "name": "stderr",
     "output_type": "stream",
     "text": [
      "\n",
      "100%|██████████| 480/480 [00:00<00:00, 32978.41it/s]\n"
     ]
    }
   ],
   "source": [
    "db_list = []\n",
    "\n",
    "for v_size in voxel_size_list:\n",
    "    \n",
    "    db_tmp = {}\n",
    "\n",
    "    for key in object_list:\n",
    "        \n",
    "        db_tmp[key] = []\n",
    "\n",
    "        print 'voxel filtering: {} voxel size: {}'.format(key, v_size)\n",
    "        sys.stdout.flush()\n",
    "\n",
    "        for cloud in tqdm(db[key]):\n",
    "\n",
    "            ## voxel filtering data\n",
    "            pcl_cloud = pcl.PointCloud(cloud.astype(np.float32))\n",
    "            \n",
    "            vgf = pcl_cloud.make_voxel_grid_filter()\n",
    "            vgf.set_leaf_size(v_size, v_size, v_size)\n",
    "\n",
    "            pc_filtered = vgf.filter()\n",
    "\n",
    "            np_pc = np.asarray(pc_filtered)\n",
    "\n",
    "            db_tmp[key].append(np_pc)\n",
    "            \n",
    "            del pcl_cloud, vgf, np_pc\n",
    "            \n",
    "    db_list.append(db_tmp)\n",
    "            "
   ]
  },
  {
   "cell_type": "code",
   "execution_count": 12,
   "metadata": {},
   "outputs": [
    {
     "name": "stdout",
     "output_type": "stream",
     "text": [
      "Original data\n",
      "world_Pedestrian 480\n",
      "world_RangeRoverSportSVRSimple 480\n",
      "world_MotorbikeSimple 480\n",
      "world_BmwX5Simple 480\n",
      "world_BusSimple 480\n",
      "world_TruckSimple 480\n",
      "world_LincolnMKZSimple 480\n",
      "world_ToyotaPriusSimple 480\n",
      "world_CitroenCZeroSimple 480\n",
      "world_ScooterSimple 480\n",
      "filtered data\n",
      "- voxel size: 0.1\n",
      "world_Pedestrian 480\n",
      "world_TruckSimple 480\n",
      "world_MotorbikeSimple 480\n",
      "world_BmwX5Simple 480\n",
      "world_BusSimple 480\n",
      "world_RangeRoverSportSVRSimple 480\n",
      "world_LincolnMKZSimple 480\n",
      "world_ToyotaPriusSimple 480\n",
      "world_CitroenCZeroSimple 480\n",
      "world_ScooterSimple 480\n",
      "- voxel size: 0.2\n",
      "world_Pedestrian 480\n",
      "world_TruckSimple 480\n",
      "world_MotorbikeSimple 480\n",
      "world_BmwX5Simple 480\n",
      "world_BusSimple 480\n",
      "world_RangeRoverSportSVRSimple 480\n",
      "world_LincolnMKZSimple 480\n",
      "world_ToyotaPriusSimple 480\n",
      "world_CitroenCZeroSimple 480\n",
      "world_ScooterSimple 480\n",
      "- voxel size: 0.3\n",
      "world_Pedestrian 480\n",
      "world_TruckSimple 480\n",
      "world_MotorbikeSimple 480\n",
      "world_BmwX5Simple 480\n",
      "world_BusSimple 480\n",
      "world_RangeRoverSportSVRSimple 480\n",
      "world_LincolnMKZSimple 480\n",
      "world_ToyotaPriusSimple 480\n",
      "world_CitroenCZeroSimple 480\n",
      "world_ScooterSimple 480\n",
      "- voxel size: 0.4\n",
      "world_Pedestrian 480\n",
      "world_TruckSimple 480\n",
      "world_MotorbikeSimple 480\n",
      "world_BmwX5Simple 480\n",
      "world_BusSimple 480\n",
      "world_RangeRoverSportSVRSimple 480\n",
      "world_LincolnMKZSimple 480\n",
      "world_ToyotaPriusSimple 480\n",
      "world_CitroenCZeroSimple 480\n",
      "world_ScooterSimple 480\n",
      "- voxel size: 0.5\n",
      "world_Pedestrian 480\n",
      "world_TruckSimple 480\n",
      "world_MotorbikeSimple 480\n",
      "world_BmwX5Simple 480\n",
      "world_BusSimple 480\n",
      "world_RangeRoverSportSVRSimple 480\n",
      "world_LincolnMKZSimple 480\n",
      "world_ToyotaPriusSimple 480\n",
      "world_CitroenCZeroSimple 480\n",
      "world_ScooterSimple 480\n"
     ]
    }
   ],
   "source": [
    "print \"Original data\"\n",
    "\n",
    "for k, v in db.items():\n",
    "    print k, len(v)\n",
    "    \n",
    "print \"filtered data\"\n",
    "\n",
    "for i, v_size in enumerate(voxel_size_list):\n",
    "    \n",
    "    print \"- voxel size:\", v_size\n",
    "    \n",
    "    for k, v in db_list[i].items():\n",
    "        print k, len(v)\n",
    "    \n",
    "    ## Save pickle\n",
    "    with open('db_aug_v4_v_{:03}_20181031.pickle'.format( int(v_size * 1000) ), 'wb') as f:\n",
    "        pickle.dump(db_list[i], f)\n",
    "    \n",
    "\n",
    "    "
   ]
  },
  {
   "cell_type": "code",
   "execution_count": 11,
   "metadata": {},
   "outputs": [],
   "source": [
    "key_sel = -1\n",
    "db_sel = 0\n",
    "\n",
    "db_disp = db_list[db_sel]\n",
    "\n",
    "\"\"\" Display augmenation results \"\"\"\n",
    "%matplotlib qt\n",
    "\n",
    "cloud = db_disp[object_list[key_sel]]\n",
    "\n",
    "plt.close('all')\n",
    "fig = plt.figure()\n",
    "\n",
    "fig.subplots_adjust(left=0.02,top= 0.98,bottom=0.02,right=0.98,wspace=0.1,hspace=0.1)\n",
    "\n",
    "k = 4\n",
    "idx_start = 0\n",
    "\n",
    "for i,pc in enumerate(cloud[idx_start * k*k: (idx_start+1) * k*k]):\n",
    "    \n",
    "    ax=fig.add_subplot(k, k, i+1, projection='3d')\n",
    "    ax = display_point_cloud_box_ax(ax, pc) \n",
    "    ax.set_title('idx: {}'.format(i + idx_start))\n",
    "    \n",
    "figManager = plt.get_current_fig_manager()\n",
    "figManager.window.showMaximized()\n",
    "plt.show()"
   ]
  }
 ],
 "metadata": {
  "kernelspec": {
   "display_name": "Python 2",
   "language": "python",
   "name": "python2"
  },
  "language_info": {
   "codemirror_mode": {
    "name": "ipython",
    "version": 2
   },
   "file_extension": ".py",
   "mimetype": "text/x-python",
   "name": "python",
   "nbconvert_exporter": "python",
   "pygments_lexer": "ipython2",
   "version": "2.7.12"
  }
 },
 "nbformat": 4,
 "nbformat_minor": 2
}
