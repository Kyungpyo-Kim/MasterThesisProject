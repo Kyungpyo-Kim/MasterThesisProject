{
 "cells": [
  {
   "cell_type": "markdown",
   "metadata": {},
   "source": [
    "# Dataset augmentation - voxel sampling\n",
    "\n",
    "## Voxel filtering using filter of PCL\n",
    "\n",
    "#### Voxel size\n",
    "* voxel_size_list = [0.05, 0.1, 0.2, 0.5]\n",
    "\n",
    "#### Example\n",
    "![voxel](../image/voxel_filter.png)"
   ]
  },
  {
   "cell_type": "code",
   "execution_count": 2,
   "metadata": {},
   "outputs": [],
   "source": [
    "import os, sys\n",
    "\n",
    "import pcl\n",
    "\n",
    "import pickle\n",
    "\n",
    "import copy\n",
    "\n",
    "sys.path.append( os.path.abspath(\"../scripts\") )\n",
    "from utils import *\n"
   ]
  },
  {
   "cell_type": "raw",
   "metadata": {},
   "source": [
    "object_list = []\n",
    "object_list.append('world_RangeRoverSportSVRSimple')\n",
    "object_list.append('world_BmwX5Simple')\n",
    "object_list.append('world_CitroenCZeroSimple')\n",
    "object_list.append('world_LincolnMKZSimple')\n",
    "object_list.append('world_ToyotaPriusSimple')\n",
    "object_list.append('world_BusSimple')\n",
    "object_list.append('world_TruckSimple')\n",
    "\n",
    "## Load pickle\n",
    "with open('dataset/db_aug_v2_20181019.pickle', 'rb') as f:\n",
    "    db_aug_test = pickle.load(f)      \n",
    "    \n",
    "cloud = db_aug_test[object_list[0]][0]"
   ]
  },
  {
   "cell_type": "raw",
   "metadata": {},
   "source": [
    "pcl_cloud = pcl.PointCloud(cloud.astype(np.float32))\n",
    "\n",
    "voxel_size_list = [0.05, 0.1, 0.2, 0.5]\n",
    "\n",
    "pcl_cloud_list = []\n",
    "for i in range(len(voxel_size_list)) : pcl_cloud_list.append(copy.deepcopy(pcl_cloud))\n",
    "\n",
    "%matplotlib qt\n",
    "plt.close('all')\n",
    "fig = plt.figure()\n",
    "\n",
    "fig.subplots_adjust(left=0.02,top= 0.95,bottom=0.02,right=0.98,wspace=0.5,hspace=0.5)\n",
    "\n",
    "ax = fig.add_subplot(331, projection='3d')\n",
    "ax = display_point_cloud_box_ax(ax, cloud)\n",
    "ax.set_title('Original data\\npoint: {}'.format(len(cloud)))\n",
    "\n",
    "for i, pc in enumerate(pcl_cloud_list):\n",
    "    \n",
    "    vgf = pc.make_voxel_grid_filter()\n",
    "    vgf.set_leaf_size(voxel_size_list[i], voxel_size_list[i], voxel_size_list[i])\n",
    "\n",
    "    pc_filtered = vgf.filter()\n",
    "    \n",
    "    np_pc = np.asarray(pc_filtered)\n",
    "    \n",
    "    ctr=i+4\n",
    "    ax = fig.add_subplot(3,3,ctr, projection='3d')\n",
    "    ax = display_point_cloud_box_ax(ax, np_pc) \n",
    "    ax.set_title(\"voxel_size: {}\\npoint: {}\".format(voxel_size_list[i], np_pc.shape[0]))\n",
    "    \n",
    "plt.show()"
   ]
  },
  {
   "cell_type": "raw",
   "metadata": {},
   "source": [
    "voxel_size_list = [0.05, 0.1, 0.2, 0.5]\n",
    "\n",
    "db_list = []\n",
    "\n",
    "for _ in range( len(voxel_size_list) ): db_list.append({})\n",
    "\n",
    "for i, v_size in enumerate(voxel_size_list):\n",
    "\n",
    "    for key in object_list:\n",
    "\n",
    "        db_list[i][key] = []\n",
    "\n",
    "        for cloud in db_aug_test[key]:\n",
    "\n",
    "            ## voxel filtering data\n",
    "            pcl_cloud = pcl.PointCloud(cloud.astype(np.float32))\n",
    "            \n",
    "            vgf = pc.make_voxel_grid_filter()\n",
    "            vgf.set_leaf_size(v_size, v_size, v_size)\n",
    "\n",
    "            pc_filtered = vgf.filter()\n",
    "\n",
    "            np_pc = np.asarray(pc_filtered)\n",
    "\n",
    "            db_list[i][key].append(np_pc)"
   ]
  },
  {
   "cell_type": "raw",
   "metadata": {},
   "source": [
    "print \"Original data\"\n",
    "\n",
    "for k, v in db_aug_test.items():\n",
    "    print k, len(v)\n",
    "    \n",
    "print \"filtered data\"\n",
    "\n",
    "for i, v_size in enumerate(voxel_size_list):\n",
    "    \n",
    "    print \"- voxel size:\", v_size\n",
    "    \n",
    "    for k, v in db_list[i].items():\n",
    "        print k, len(v)\n",
    "    \n",
    "    ## Save pickle\n",
    "    with open('db_aug_v2_v_{:03}_20181019.pickle'.format( int(v_size * 1000) ), 'wb') as f:\n",
    "        pickle.dump(db_list[i], f)\n",
    "    \n",
    "\n",
    "    "
   ]
  }
 ],
 "metadata": {
  "kernelspec": {
   "display_name": "Python 2",
   "language": "python",
   "name": "python2"
  },
  "language_info": {
   "codemirror_mode": {
    "name": "ipython",
    "version": 2
   },
   "file_extension": ".py",
   "mimetype": "text/x-python",
   "name": "python",
   "nbconvert_exporter": "python",
   "pygments_lexer": "ipython2",
   "version": "2.7.12"
  }
 },
 "nbformat": 4,
 "nbformat_minor": 2
}
