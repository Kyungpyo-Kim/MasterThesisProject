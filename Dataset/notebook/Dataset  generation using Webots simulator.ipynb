{
 "cells": [
  {
   "cell_type": "markdown",
   "metadata": {},
   "source": [
    "# Dataset  generation using Webots simulator\n",
    "\n",
    "## List of Instances \n",
    "\n",
    "#### Car\n",
    "* world_BmwX5Simple\n",
    "* world_ToyotaPriusSimple\n",
    "* world_CitroenCZeroSimple\n",
    "* world_LincolnMKZSimple\n",
    "* world_RangeRoverSportSVRSimple\n",
    "  - Vehicle1: 5.5 / 0.3 / -7\n",
    "  - Vehicle1: 5.5 / 0.3 / 0\n",
    "  - Vehicle1: 5.5 / 0.3 / 7\n",
    "  - Vehicle1: 0 / 0.3 / -7\n",
    "  - Vehicle1: 0 / 0.3 / 7\n",
    "  - Vehicle1: -5.5 / 0.3 / -7\n",
    "  - Vehicle1: -5.5 / 0.3 / 0\n",
    "  - Vehicle1: -5.5 / 0.3 / 7\n",
    "\n",
    "--> (5) X (8)\n",
    "\n",
    "###### Webot data\n",
    "![image](../image/vehicle.png)\n",
    "\n",
    "###### Point cloud data\n",
    "![image](../image/pointcloud.png)\n",
    "\n",
    "#### Truck\n",
    "Updated in version 2\n",
    "* world_TruckSimple\n",
    "* world_BusSimple\n",
    "\n",
    "###### Webot data\n",
    "![image](../image/bus.png)\n",
    "\n",
    "###### Point cloud data\n",
    "![image](../image/truck.png)\n",
    "\n"
   ]
  },
  {
   "cell_type": "markdown",
   "metadata": {},
   "source": [
    "#### Pedestrian\n",
    "* world_Pedestrian (TODO)\n",
    "\n",
    "#### Bike\n",
    "* world_ScooterSimple (TODO)\n",
    "* world_MotorbikeSimple (TODO)"
   ]
  },
  {
   "cell_type": "markdown",
   "metadata": {},
   "source": [
    "## Data log\n",
    "* db_v1_20181019.pickle: 5 X 8 = __40__\n",
    "* db_aug_v1_20181019.pickle: 5 X 8 X 20 X 3 = __2400__ -- augment by rotation (yaw, pitch)\n",
    "* db_v2_20181019.pickle: 7 X 8 = __56__ -- add bus and truck data\n",
    "* db_aug_v2_20181019.pickle: 7 X 8 X 20 X 3 = __3360__ -- augment by rotation (yaw, pitch)\n",
    "* db_aug_v2_v_050_20181019.pickle: 7 X 8 X 20 X 3 = __3360__ -- voxel filter size: 0.05\n",
    "* db_aug_v2_v_100_20181019.pickle: 7 X 8 X 20 X 3 = __3360__ -- voxel filter size: 0.10\n",
    "* db_aug_v2_v_200_20181019.pickle: 7 X 8 X 20 X 3 = __3360__ -- voxel filter size: 0.20\n",
    "* db_aug_v2_v_500_20181019.pickle: 7 X 8 X 20 X 3 = __3360__ -- voxel filter size: 0.50\n"
   ]
  },
  {
   "cell_type": "raw",
   "metadata": {},
   "source": [
    "# localization data parser\n",
    "import os, sys\n",
    "\n",
    "import pcl\n",
    "\n",
    "import numpy as np\n",
    "\n",
    "import matplotlib.pyplot as plt\n",
    "from mpl_toolkits.mplot3d import Axes3D\n",
    "\n",
    "sys.path.append( os.path.abspath(\"../scripts\") )\n",
    "from utils import *\n",
    "\n",
    "%matplotlib qt\n",
    "\n",
    "import pickle\n",
    "\n",
    "import cv2"
   ]
  },
  {
   "cell_type": "raw",
   "metadata": {},
   "source": [
    "\"\"\" Car \"\"\"\n",
    "root_path = '/media/kyungpyo/SmartCarContest/MasterThesisProject/Webots/cars/'\n",
    "\n",
    "cars_list = []\n",
    "cars_list.append('world_RangeRoverSportSVRSimple')\n",
    "cars_list.append('world_BmwX5Simple')\n",
    "cars_list.append('world_CitroenCZeroSimple')\n",
    "cars_list.append('world_LincolnMKZSimple')\n",
    "cars_list.append('world_ToyotaPriusSimple')\n",
    "\n",
    "idx = 0\n",
    "file_path = os.path.join(root_path, cars_list[idx])\n",
    "image_path = os.path.join(file_path, 'image.png')"
   ]
  },
  {
   "cell_type": "raw",
   "metadata": {},
   "source": [
    "\"\"\" Truck \"\"\"\n",
    "root_path = '/media/kyungpyo/SmartCarContest/MasterThesisProject/Dataset/webots/trucks'\n",
    "\n",
    "trucks_list = []\n",
    "trucks_list.append('world_BusSimple')\n",
    "trucks_list.append('world_TruckSimple')\n",
    "\n",
    "idx = 1\n",
    "\n",
    "file_path = os.path.join(root_path, trucks_list[idx])\n",
    "image_path = os.path.join(file_path, 'image.png')"
   ]
  },
  {
   "cell_type": "raw",
   "metadata": {},
   "source": [
    "point_cloud_path = os.path.join(file_path, 'PointCloud_0.bin')\n",
    "\n",
    "file_p_list = FnParsePointCloudFile( point_cloud_path )\n",
    "\n",
    "pcl_cloud = GetPointCloudFromFile(point_cloud_path, file_p_list, 0)"
   ]
  },
  {
   "cell_type": "raw",
   "metadata": {},
   "source": [
    "tree = pcl_cloud.make_kdtree()\n",
    "\n",
    "ec = pcl_cloud.make_EuclideanClusterExtraction()\n",
    "# ec.set_ClusterTolerance(0.2)\n",
    "ec.set_ClusterTolerance(0.6) # --> for world_TruckSimple\n",
    "ec.set_MinClusterSize(500)\n",
    "ec.set_MaxClusterSize(25000)\n",
    "ec.set_SearchMethod(tree)\n",
    "cluster_indices = ec.Extract()\n",
    "\n",
    "clusters = []\n",
    "\n",
    "for j, indices in enumerate(cluster_indices):\n",
    "\n",
    "    points = np.zeros((len(indices), 3), dtype=np.float32)\n",
    "    \n",
    "    cluster = pcl.PointCloud()\n",
    "\n",
    "    for i, indice in enumerate(indices):\n",
    "        points[i,0] = pcl_cloud[indice][0] * -1.\n",
    "        points[i,1] = pcl_cloud[indice][1]\n",
    "        points[i,2] = pcl_cloud[indice][2]\n",
    "               \n",
    "    clusters.append(points)\n",
    "        "
   ]
  },
  {
   "cell_type": "raw",
   "metadata": {},
   "source": [
    "image = cv2.imread(image_path)\n",
    "cv2.imshow('img', image)\n",
    "%matplotlib qt\n",
    "\n",
    "plt.close(\"all\")\n",
    "display_point_cloud_8_image(clusters, 0.1, image)"
   ]
  },
  {
   "cell_type": "raw",
   "metadata": {},
   "source": [
    "\"\"\" Car \"\"\"\n",
    "\"\"\" Data arrangement \"\"\"\n",
    "%matplotlib qt\n",
    "plt.close(\"all\")\n",
    "image = cv2.imread(image_path)\n",
    "# clusters_to_save = np.array(clusters)[[6, 3, 7, 1, 0, 5, 2, 4]]\n",
    "# clusters_to_save = np.array(clusters)[[7, 3, 6, 1, 0, 4, 2, 5]]\n",
    "# clusters_to_save = np.array(clusters)[[7, 4, 6, 1, 0, 5, 2, 3]]\n",
    "# clusters_to_save = np.array(clusters)[[7, 3, 6, 1, 0, 4, 2, 5]]\n",
    "clusters_to_save = np.array(clusters)[[6, 4, 7, 1, 0, 5, 2, 3]]\n",
    "\n",
    "display_point_cloud_8_image(clusters_to_save, 1.0, image)"
   ]
  },
  {
   "cell_type": "raw",
   "metadata": {},
   "source": [
    "\"\"\" Truck \"\"\"\n",
    "\"\"\" Data arrangement \"\"\"\n",
    "%matplotlib qt\n",
    "plt.close(\"all\")\n",
    "image = cv2.imread(image_path)\n",
    "clusters_to_save = np.array(clusters)[[5, 2, 4, 1, 0, 7, 3, 6]]\n",
    "\n",
    "display_point_cloud_8_image(clusters_to_save, 1.0, image)"
   ]
  },
  {
   "cell_type": "raw",
   "metadata": {},
   "source": [
    "\"\"\" Car \"\"\"\n",
    "\"\"\" Save pickle\"\"\"\n",
    "db = {}\n",
    "db[cars_list[idx]] = []\n",
    "for cloud in clusters_to_save:\n",
    "    db[cars_list[idx]].append(cloud)\n",
    "\n",
    "## Save pickle\n",
    "with open('db_v1_20181019.pickle', 'wb') as f:\n",
    "    pickle.dump(db, f)"
   ]
  },
  {
   "cell_type": "raw",
   "metadata": {},
   "source": [
    "\"\"\" Car \"\"\"\n",
    "\"\"\" Load and save pickle \"\"\"\n",
    "\n",
    "## Load pickle\n",
    "with open('db_v1_20181019.pickle', 'rb') as f:\n",
    "    db = pickle.load(f)\n",
    "    \n",
    "db[cars_list[idx]] = []\n",
    "for cloud in clusters_to_save:\n",
    "    db[cars_list[idx]].append(cloud)\n",
    "    \n",
    "with open('db_v1_20181019.pickle', 'wb') as f:\n",
    "    pickle.dump(db, f)"
   ]
  },
  {
   "cell_type": "raw",
   "metadata": {},
   "source": [
    "\"\"\" Truck \"\"\"\n",
    "\"\"\" Load and save pickle \"\"\"\n",
    "\n",
    "## Load pickle\n",
    "with open('./dataset/db_v1_20181019.pickle', 'rb') as f:\n",
    "    db = pickle.load(f)\n",
    "    \n",
    "db_add_truck = db\n",
    "\n",
    "db_add_truck[trucks_list[idx]] = []\n",
    "for cloud in clusters_to_save:\n",
    "    db_add_truck[trucks_list[idx]].append(cloud)\n",
    "    \n",
    "with open('db_v2_20181019.pickle', 'wb') as f:\n",
    "    pickle.dump(db_add_truck, f)"
   ]
  },
  {
   "cell_type": "raw",
   "metadata": {},
   "source": [
    "\"\"\" Truck \"\"\"\n",
    "\"\"\" Load and save pickle \"\"\"\n",
    "\n",
    "## Load pickle\n",
    "with open('db_v2_20181019.pickle', 'rb') as f:\n",
    "    db = pickle.load(f)\n",
    "    \n",
    "db_add_truck = db\n",
    "\n",
    "db_add_truck[trucks_list[idx]] = []\n",
    "for cloud in clusters_to_save:\n",
    "    db_add_truck[trucks_list[idx]].append(cloud)\n",
    "    \n",
    "with open('db_v2_20181019.pickle', 'wb') as f:\n",
    "    pickle.dump(db_add_truck, f)"
   ]
  },
  {
   "cell_type": "raw",
   "metadata": {},
   "source": [
    "\n",
    "%matplotlib qt\n",
    "## Load pickle\n",
    "with open('db_v1_20181019.pickle', 'rb') as f:\n",
    "    db = pickle.load(f)\n",
    "    \n",
    "plt.close('all')\n",
    "for key, value in db.iteritems():\n",
    "    \n",
    "    fig = plt.figure()\n",
    "    num_plot = 331\n",
    "    for i in range(8):\n",
    "        j = i\n",
    "        \n",
    "        resample_data = resample_point_cloud(value[i],0.1)\n",
    "        \n",
    "        p = resample_data[0,:]\n",
    "        if p[0] > 3.5\n",
    "        \n",
    "        ax = fig.add_subplot(331 + i, projection='3d')    \n",
    "        ax.scatter(resample_data[:,0], resample_data[:,1], resample_data[:,2])\n",
    "        ax.set_xlabel('X Label')\n",
    "        ax.set_ylabel('Y Label')\n",
    "        ax.set_zlabel('Z Label')\n",
    "        ax.invert_xaxis()\n",
    "        ax.invert_yaxis()\n",
    "    \n",
    "    plt.show()"
   ]
  },
  {
   "cell_type": "raw",
   "metadata": {},
   "source": [
    "\"\"\" Load pickle and display \"\"\"\n",
    "\n",
    "image = cv2.imread(image_path)\n",
    "\n",
    "# %matplotlib inline\n",
    "## Load pickle\n",
    "with open('dataset/db_v2_20181019.pickle', 'rb') as f:\n",
    "    db = pickle.load(f)\n",
    "%matplotlib qt\n",
    "\n",
    "# display_point_cloud_8_image(db[cars_list[idx]], 0.1, image)\n",
    "# for i in range(len(db)):\n",
    "plt.close('all')\n",
    "display_point_cloud_8_image(db[trucks_list[0]], 1., image)"
   ]
  },
  {
   "cell_type": "raw",
   "metadata": {},
   "source": [
    "for key, value in db.items():\n",
    "    print key, \": \", len(value)"
   ]
  }
 ],
 "metadata": {
  "kernelspec": {
   "display_name": "Python 2",
   "language": "python",
   "name": "python2"
  },
  "language_info": {
   "codemirror_mode": {
    "name": "ipython",
    "version": 2
   },
   "file_extension": ".py",
   "mimetype": "text/x-python",
   "name": "python",
   "nbconvert_exporter": "python",
   "pygments_lexer": "ipython2",
   "version": "2.7.12"
  }
 },
 "nbformat": 4,
 "nbformat_minor": 2
}
