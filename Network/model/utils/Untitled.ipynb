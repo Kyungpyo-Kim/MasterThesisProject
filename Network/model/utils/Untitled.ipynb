{
 "cells": [
  {
   "cell_type": "markdown",
   "metadata": {},
   "source": [
    "# Data provider\n",
    "\n",
    "\n",
    "## Current structure\n",
    "\n",
    "TRAIN_FILES = provider.getDataAllFiles(  os.path.abspath( os.path.join(BASE_DIR, FLAGS.data_train_dir) )  )\n",
    "\n",
    "\"data/train\" --> getDataAllFiles() -->  list of the h5 files\n",
    "\n",
    "\n",
    "```train.py\n",
    "...\n",
    "current_data, current_label = provider.loadDataFile(TRAIN_FILES[train_file_idxs[fn]])\n",
    "    current_data = current_data[:,0:NUM_POINT,:]\n",
    "    current_data, current_label, _ = provider.shuffle_data(current_data, np.squeeze(current_label))            \n",
    "    current_label = np.squeeze(current_label)\n",
    "\n",
    "    file_size = current_data.shape[0]\n",
    "    num_batches = file_size // BATCH_SIZE\n",
    "\n",
    "    total_correct = 0\n",
    "    total_seen = 0\n",
    "    loss_sum = 0\n",
    "\n",
    "    for batch_idx in range(num_batches):\n",
    "        start_idx = batch_idx * BATCH_SIZE\n",
    "        end_idx = (batch_idx+1) * BATCH_SIZE\n",
    "        ...\n",
    "```\n",
    "\n",
    "```provider.py\n",
    "\n",
    "def load_h5(h5_filename):\n",
    "    f = h5py.File(h5_filename)\n",
    "    data = f['data'][:]\n",
    "    label = f['label'][:]\n",
    "    return (data, label)\n",
    "\n",
    "def loadDataFile(filename):\n",
    "    return load_h5(filename)\n",
    "\n",
    "```\n",
    "\n"
   ]
  },
  {
   "cell_type": "code",
   "execution_count": null,
   "metadata": {},
   "outputs": [],
   "source": []
  }
 ],
 "metadata": {
  "kernelspec": {
   "display_name": "Python 2",
   "language": "python",
   "name": "python2"
  },
  "language_info": {
   "codemirror_mode": {
    "name": "ipython",
    "version": 2
   },
   "file_extension": ".py",
   "mimetype": "text/x-python",
   "name": "python",
   "nbconvert_exporter": "python",
   "pygments_lexer": "ipython2",
   "version": "2.7.12"
  }
 },
 "nbformat": 4,
 "nbformat_minor": 2
}
