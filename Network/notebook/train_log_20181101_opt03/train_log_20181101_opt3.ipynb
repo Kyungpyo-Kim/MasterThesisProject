{
 "cells": [
  {
   "cell_type": "markdown",
   "metadata": {},
   "source": [
    "# Train Log 20181101\n",
    "\n",
    "## Results\n",
    "```\n",
    "2018-11-01 15:05:13.085018   Train one epoch  10 /  10\n",
    "\n",
    "\n",
    "100%|██████████| 1679/1679 [14:06<00:00,  1.98it/s]\n",
    "\n",
    "2018-11-01 15:19:21.371140  [Epoch 9] mean loss: 0.000096\n",
    "2018-11-01 15:19:21.372052  [Epoch 9] accuracy: 0.992507\n",
    "2018-11-01 15:19:21.372533  [Epoch 9] avg class acc: 0.993750\n",
    "2018-11-01 15:19:21.372845  [Epoch 9] indivisual [0] class recall: 1.000000\n",
    "2018-11-01 15:19:21.373116  [Epoch 9] indivisual [0] class precision: 0.990654\n",
    "2018-11-01 15:19:21.373273  [Epoch 9] indivisual [1] class recall: 1.000000\n",
    "2018-11-01 15:19:21.373510  [Epoch 9] indivisual [1] class precision: 1.000000\n",
    "2018-11-01 15:19:21.373751  [Epoch 9] indivisual [2] class recall: 0.968750\n",
    "2018-11-01 15:19:21.374255  [Epoch 9] indivisual [2] class precision: 1.000000\n",
    "2018-11-01 15:19:21.374603  [Epoch 9] indivisual [3] class recall: 1.000000\n",
    "2018-11-01 15:19:21.374692  [Epoch 9] indivisual [3] class precision: 1.000000\n",
    "2018-11-01 15:19:21.374905  [Epoch 9] indivisual [4] class recall: 1.000000\n",
    "2018-11-01 15:19:21.375216  [Epoch 9] indivisual [4] class precision: 1.000000\n",
    "2018-11-01 15:19:21.375341   Evaluation one (validation set) epoch  10 /  10\n",
    "\n",
    "\n",
    "100%|██████████| 419/419 [00:48<00:00,  8.68it/s]\n",
    "\n",
    "2018-11-01 15:20:10.118467  [Epoch 9] vali mean loss: 0.000383\n",
    "2018-11-01 15:20:10.119219  [Epoch 9] vali accuracy: 0.998654\n",
    "2018-11-01 15:20:10.119738  [Epoch 9] vali avg class acc: 1.000000\n",
    "2018-11-01 15:20:10.120112  [Epoch 9] vali indivisual [0] class recall: 1.000000\n",
    "2018-11-01 15:20:10.120275  [Epoch 9] vali indivisual [0] class precision: 1.000000\n",
    "2018-11-01 15:20:10.120738  [Epoch 9] vali indivisual [1] class recall: 1.000000\n",
    "2018-11-01 15:20:10.121181  [Epoch 9] vali indivisual [1] class precision: 1.000000\n",
    "2018-11-01 15:20:10.121445  [Epoch 9] vali indivisual [2] class recall: 1.000000\n",
    "2018-11-01 15:20:10.121546  [Epoch 9] vali indivisual [2] class precision: 1.000000\n",
    "2018-11-01 15:20:10.121966  [Epoch 9] vali indivisual [3] class recall: 1.000000\n",
    "2018-11-01 15:20:10.122061  [Epoch 9] vali indivisual [3] class precision: 1.000000\n",
    "2018-11-01 15:20:10.122185  [Epoch 9] vali indivisual [4] class recall: 1.000000\n",
    "2018-11-01 15:20:10.122400  [Epoch 9] vali indivisual [4] class precision: 1.000000\n",
    "2018-11-01 15:20:10.122583   Evaluation one (test set) epoch  10 /  10\n",
    "\n",
    "\n",
    "100%|██████████| 419/419 [00:48<00:00,  8.64it/s]\n",
    "\n",
    "2018-11-01 15:20:59.056914  [Epoch 9] test mean loss: 0.000383\n",
    "2018-11-01 15:20:59.057342  [Epoch 9] test accuracy: 0.998788\n",
    "2018-11-01 15:20:59.057723  [Epoch 9] test avg class acc: 1.000000\n",
    "2018-11-01 15:20:59.058428  [Epoch 9] test indivisual [0] class recall: 1.000000\n",
    "2018-11-01 15:20:59.058727  [Epoch 9] test indivisual [0] class precision: 1.000000\n",
    "2018-11-01 15:20:59.059148  [Epoch 9] test indivisual [1] class recall: 1.000000\n",
    "2018-11-01 15:20:59.059252  [Epoch 9] test indivisual [1] class precision: 1.000000\n",
    "2018-11-01 15:20:59.059705  [Epoch 9] test indivisual [2] class recall: 1.000000\n",
    "2018-11-01 15:20:59.059807  [Epoch 9] test indivisual [2] class precision: 1.000000\n",
    "2018-11-01 15:20:59.060009  [Epoch 9] test indivisual [3] class recall: 1.000000\n",
    "2018-11-01 15:20:59.060160  [Epoch 9] test indivisual [3] class precision: 1.000000\n",
    "2018-11-01 15:20:59.060288  [Epoch 9] test indivisual [4] class recall: 1.000000\n",
    "2018-11-01 15:20:59.060729  [Epoch 9] test indivisual [4] class precision: 1.000000\n",
    "2018-11-01 15:20:59.793572  Model saved in file: /home/gozilla/kyungpyo/git/MasterThesisProject/Network/notebook/train_log_20181101_opt03/model/model.ckpt\n",
    "\n",
    "```\n",
    "\n",
    "## Trained model\n",
    "* [Download link](https://drive.google.com/open?id=1VJ0mXUZ04Z6hfoJd7DrRwgDlRI67byNv)\n",
    "\n",
    "## Evaluation\n",
    "* Incorrect sample\n",
    "![results]()"
   ]
  },
  {
   "cell_type": "code",
   "execution_count": 1,
   "metadata": {},
   "outputs": [],
   "source": [
    "import os, sys\n",
    "import numpy as np\n",
    "import matplotlib.pyplot as plt\n",
    "import time , datetime\n",
    "\n",
    "sys.path.append( os.path.abspath('../../../Dataset/scripts'))\n",
    "from utils import *\n",
    "\n",
    "sys.path.append( os.path.abspath('../../model') )\n",
    "from train import *\n",
    "import model_opt3 as MODEL"
   ]
  },
  {
   "cell_type": "code",
   "execution_count": 2,
   "metadata": {},
   "outputs": [],
   "source": [
    "\"\"\" Path \"\"\"\n",
    "\n",
    "data_train_path_list = []\n",
    "data_test_path_list = []\n",
    "data_vali_path_list = []\n",
    "\n",
    "data_train_path = os.path.abspath('../../../Dataset/dataset/db_aug_v4_20181031_ndb_aug_v2_20181020/train.h5')\n",
    "data_test_path = os.path.abspath('../../../Dataset/dataset/db_aug_v4_20181031_ndb_aug_v2_20181020/test.h5')\n",
    "data_vali_path = os.path.abspath('../../../Dataset/dataset/db_aug_v4_20181031_ndb_aug_v2_20181020/vali.h5')\n",
    "data_train_path_list.append(data_train_path)\n",
    "data_test_path_list.append(data_test_path)\n",
    "data_vali_path_list.append(data_vali_path)\n",
    "\n",
    "data_train_path = os.path.abspath('../../../Dataset/dataset/db_aug_v4_v_500_20181031_ndb_aug_v2_20181020/train.h5')\n",
    "data_test_path = os.path.abspath('../../../Dataset/dataset/db_aug_v4_v_500_20181031_ndb_aug_v2_20181020/test.h5')\n",
    "data_vali_path = os.path.abspath('../../../Dataset/dataset/db_aug_v4_v_500_20181031_ndb_aug_v2_20181020/vali.h5')\n",
    "data_train_path_list.append(data_train_path)\n",
    "data_test_path_list.append(data_test_path)\n",
    "data_vali_path_list.append(data_vali_path)\n",
    "\n",
    "data_train_path = os.path.abspath('../../../Dataset/dataset/db_aug_v4_v_400_20181031_ndb_aug_v2_20181020/train.h5')\n",
    "data_test_path = os.path.abspath('../../../Dataset/dataset/db_aug_v4_v_400_20181031_ndb_aug_v2_20181020/test.h5')\n",
    "data_vali_path = os.path.abspath('../../../Dataset/dataset/db_aug_v4_v_400_20181031_ndb_aug_v2_20181020/vali.h5')\n",
    "data_train_path_list.append(data_train_path)\n",
    "data_test_path_list.append(data_test_path)\n",
    "data_vali_path_list.append(data_vali_path)\n",
    "\n",
    "data_train_path = os.path.abspath('../../../Dataset/dataset/db_aug_v4_v_300_20181031_ndb_aug_v2_20181020/train.h5')\n",
    "data_test_path = os.path.abspath('../../../Dataset/dataset/db_aug_v4_v_300_20181031_ndb_aug_v2_20181020/test.h5')\n",
    "data_vali_path = os.path.abspath('../../../Dataset/dataset/db_aug_v4_v_300_20181031_ndb_aug_v2_20181020/vali.h5')\n",
    "data_train_path_list.append(data_train_path)\n",
    "data_test_path_list.append(data_test_path)\n",
    "data_vali_path_list.append(data_vali_path)\n",
    "\n",
    "data_train_path = os.path.abspath('../../../Dataset/dataset/db_aug_v4_v_200_20181031_ndb_aug_v2_20181020/train.h5')\n",
    "data_test_path = os.path.abspath('../../../Dataset/dataset/db_aug_v4_v_200_20181031_ndb_aug_v2_20181020/test.h5')\n",
    "data_vali_path = os.path.abspath('../../../Dataset/dataset/db_aug_v4_v_200_20181031_ndb_aug_v2_20181020/vali.h5')\n",
    "data_train_path_list.append(data_train_path)\n",
    "data_test_path_list.append(data_test_path)\n",
    "data_vali_path_list.append(data_vali_path)\n",
    "\n",
    "data_train_path = os.path.abspath('../../../Dataset/dataset/db_aug_v4_v_100_20181031_ndb_aug_v2_20181020/train.h5')\n",
    "data_test_path = os.path.abspath('../../../Dataset/dataset/db_aug_v4_v_100_20181031_ndb_aug_v2_20181020/test.h5')\n",
    "data_vali_path = os.path.abspath('../../../Dataset/dataset/db_aug_v4_v_100_20181031_ndb_aug_v2_20181020/vali.h5')\n",
    "data_train_path_list.append(data_train_path)\n",
    "data_test_path_list.append(data_test_path)\n",
    "data_vali_path_list.append(data_vali_path)\n",
    "\n",
    "\n",
    "\n",
    "log_path = os.path.abspath('./train_log_20181101.txt')\n",
    "\n",
    "model_save_path = os.path.abspath('./model')\n",
    "if not os.path.isdir(model_save_path) : os.mkdir(model_save_path)\n",
    "\n",
    "\"\"\" Parameters \"\"\"\n",
    "GPU_INDEX = 0\n",
    "NUM_POINT = 256\n",
    "NUM_CLASSES = 5\n",
    "\n",
    "BN_INIT_DECAY = 0.5\n",
    "BN_DECAY_DECAY_RATE = 0.5\n",
    "BN_DECAY_DECAY_STEP = float(200000)\n",
    "BN_DECAY_CLIP = 0.99\n",
    "DECAY_STEP = BN_DECAY_DECAY_STEP\n",
    "DECAY_RATE = BN_DECAY_DECAY_RATE\n",
    "\n",
    "BATCH_SIZE = 250\n",
    "\n",
    "MOMENTUM = 0.9\n",
    "\n",
    "BASE_LEARNING_RATE = 0.001\n",
    "\n",
    "OPTIMIZER = 'adam'\n",
    "\n",
    "MAX_EPOCH = 10"
   ]
  },
  {
   "cell_type": "code",
   "execution_count": 3,
   "metadata": {},
   "outputs": [
    {
     "data": {
      "image/png": "[encoded data removed]",
      "text/plain": [
       "<Figure size 1080x360 with 1 Axes>"
      ]
     },
     "metadata": {
      "needs_background": "light"
     },
     "output_type": "display_data"
    }
   ],
   "source": [
    "\"\"\" Load dataset\"\"\"\n",
    "\n",
    "data = []\n",
    "label = []\n",
    "\n",
    "data_train, label_train = load_h5(data_train_path_list[0])\n",
    "data_vali, label_vali = load_h5(data_vali_path_list[0])\n",
    "data_test, label_test = load_h5(data_test_path_list[0])\n",
    "    \n",
    "for i in range( 1, len(data_train_path_list) ):\n",
    "\n",
    "    d_train, l_train = load_h5(data_train_path_list[i])\n",
    "    d_vali, l_vali = load_h5(data_vali_path_list[i])\n",
    "    d_test, l_test = load_h5(data_test_path_list[i])\n",
    "    \n",
    "    data_train = np.concatenate( (data_train, d_train), axis = 0 )\n",
    "    data_vali = np.concatenate( (data_vali, d_vali), axis = 0 )\n",
    "    data_test = np.concatenate( (data_test, d_test), axis = 0 )\n",
    "    \n",
    "    label_train = np.concatenate( (label_train, l_train), axis = 0 )\n",
    "    label_vali = np.concatenate( (label_vali, l_vali), axis = 0 )\n",
    "    label_test = np.concatenate( (label_test, l_test), axis = 0 )\n",
    "    \n",
    "\n",
    "data.append(data_train)\n",
    "data.append(data_vali)\n",
    "data.append(data_test)\n",
    "\n",
    "label.append(label_train)\n",
    "label.append(label_vali)\n",
    "label.append(label_test)\n",
    "\n",
    "\"\"\" Data statistics \"\"\"\n",
    "\n",
    "label_list = [0,1,2,3,4]\n",
    "\n",
    "y_val = []\n",
    "for i in range( len ( data) ):\n",
    "    for j in range ( len ( label_list ) ):\n",
    "        y_val.append(np.sum(label[i] == label_list[j]))\n",
    "\n",
    "x_name=('unknown-train', 'cars-train', 'trucks-train', 'pedestrian-train', 'bike-train',\n",
    "        'unknown-test', 'cars-test', 'trucks-test', 'pedestrian-test', 'bike-test',\n",
    "        'unknown-vali', 'cars-vali', 'trucks-vali', 'pedestrian-vali', 'bike-vali')\n",
    "\n",
    "index = range( len(x_name) )\n",
    "\n",
    "plt.figure(figsize=(15,5))\n",
    "plt.bar(index, y_val, tick_label=x_name, align='center')\n",
    "plt.ylabel('Number of dataset')\n",
    "plt.title('Label distribution')\n",
    "plt.xlim( -1, len(x_name))\n",
    "plt.ylim( 0, np.max(y_val) * 1.1 )\n",
    "plt.show()"
   ]
  },
  {
   "cell_type": "code",
   "execution_count": 4,
   "metadata": {},
   "outputs": [
    {
     "name": "stdout",
     "output_type": "stream",
     "text": [
      "Tensor(\"Placeholder_2:0\", shape=(), dtype=bool, device=/device:GPU:0)\n",
      "INFO:tensorflow:Summary name classify loss is illegal; using classify_loss instead.\n",
      "INFO:tensorflow:Summary name mat loss is illegal; using mat_loss instead.\n",
      "(419904, 256, 3)\n",
      "(419904,)\n",
      "2018-11-01 12:43:17.826230   Train one epoch   1 /  10\n"
     ]
    },
    {
     "name": "stderr",
     "output_type": "stream",
     "text": [
      "100%|██████████| 1679/1679 [14:08<00:00,  1.98it/s]"
     ]
    },
    {
     "name": "stdout",
     "output_type": "stream",
     "text": [
      "2018-11-01 12:57:27.395606  [Epoch 0] mean loss: 0.001464\n",
      "2018-11-01 12:57:27.395964  [Epoch 0] accuracy: 0.869510\n",
      "2018-11-01 12:57:27.396665  [Epoch 0] avg class acc: 0.913871\n",
      "2018-11-01 12:57:27.397005  [Epoch 0] indivisual [0] class recall: 0.944000\n",
      "2018-11-01 12:57:27.397379  [Epoch 0] indivisual [0] class precision: 0.921875\n",
      "2018-11-01 12:57:27.397642  [Epoch 0] indivisual [1] class recall: 1.000000\n",
      "2018-11-01 12:57:27.397932  [Epoch 0] indivisual [1] class precision: 0.984615\n",
      "2018-11-01 12:57:27.398221  [Epoch 0] indivisual [2] class recall: 0.740741\n",
      "2018-11-01 12:57:27.398382  [Epoch 0] indivisual [2] class precision: 0.869565\n",
      "2018-11-01 12:57:27.398600  [Epoch 0] indivisual [3] class recall: 1.000000\n",
      "2018-11-01 12:57:27.398755  [Epoch 0] indivisual [3] class precision: 0.800000\n",
      "2018-11-01 12:57:27.398887  [Epoch 0] indivisual [4] class recall: 0.884615\n",
      "2018-11-01 12:57:27.399010  [Epoch 0] indivisual [4] class precision: 0.958333\n",
      "2018-11-01 12:57:27.399890   Evaluation one (validation set) epoch   1 /  10\n"
     ]
    },
    {
     "name": "stderr",
     "output_type": "stream",
     "text": [
      "\n",
      "100%|██████████| 419/419 [00:48<00:00,  8.63it/s]"
     ]
    },
    {
     "name": "stdout",
     "output_type": "stream",
     "text": [
      "2018-11-01 12:58:16.591189  [Epoch 0] vali mean loss: 0.005867\n",
      "2018-11-01 12:58:16.591489  [Epoch 0] vali accuracy: 0.983379\n",
      "2018-11-01 12:58:16.591908  [Epoch 0] vali avg class acc: 0.400000\n",
      "2018-11-01 12:58:16.592663  [Epoch 0] vali indivisual [0] class recall: 0.975410\n",
      "2018-11-01 12:58:16.592815  [Epoch 0] vali indivisual [0] class precision: 0.983471\n",
      "2018-11-01 12:58:16.592954  [Epoch 0] vali indivisual [1] class recall: 1.000000\n",
      "2018-11-01 12:58:16.593101  [Epoch 0] vali indivisual [1] class precision: 1.000000\n",
      "2018-11-01 12:58:16.593826  [Epoch 0] vali indivisual [2] class recall: 0.950000\n",
      "2018-11-01 12:58:16.593923  [Epoch 0] vali indivisual [2] class precision: 0.950000\n",
      "2018-11-01 12:58:16.594049  [Epoch 0] vali indivisual [3] class recall: 0.933333\n",
      "2018-11-01 12:58:16.594640  [Epoch 0] vali indivisual [3] class precision: 1.000000\n",
      "2018-11-01 12:58:16.594820  [Epoch 0] vali indivisual [4] class recall: 1.000000\n",
      "2018-11-01 12:58:16.595133  [Epoch 0] vali indivisual [4] class precision: 0.945946\n",
      "2018-11-01 12:58:16.595426   Evaluation one (test set) epoch   1 /  10\n"
     ]
    },
    {
     "name": "stderr",
     "output_type": "stream",
     "text": [
      "\n",
      "100%|██████████| 419/419 [00:48<00:00,  8.63it/s]"
     ]
    },
    {
     "name": "stdout",
     "output_type": "stream",
     "text": [
      "2018-11-01 12:59:05.553761  [Epoch 0] test mean loss: 0.005867\n",
      "2018-11-01 12:59:05.554326  [Epoch 0] test accuracy: 0.982807\n",
      "2018-11-01 12:59:05.554866  [Epoch 0] test avg class acc: 0.994059\n",
      "2018-11-01 12:59:05.555194  [Epoch 0] test indivisual [0] class recall: 0.970297\n",
      "2018-11-01 12:59:05.555573  [Epoch 0] test indivisual [0] class precision: 1.000000\n",
      "2018-11-01 12:59:05.555855  [Epoch 0] test indivisual [1] class recall: 1.000000\n",
      "2018-11-01 12:59:05.556019  [Epoch 0] test indivisual [1] class precision: 1.000000\n",
      "2018-11-01 12:59:05.556225  [Epoch 0] test indivisual [2] class recall: 1.000000\n",
      "2018-11-01 12:59:05.556590  [Epoch 0] test indivisual [2] class precision: 0.906250\n",
      "2018-11-01 12:59:05.556817  [Epoch 0] test indivisual [3] class recall: 1.000000\n",
      "2018-11-01 12:59:05.557197  [Epoch 0] test indivisual [3] class precision: 1.000000\n",
      "2018-11-01 12:59:05.557329  [Epoch 0] test indivisual [4] class recall: 1.000000\n",
      "2018-11-01 12:59:05.557549  [Epoch 0] test indivisual [4] class precision: 1.000000\n",
      "2018-11-01 12:59:05.557708   Train one epoch   2 /  10\n"
     ]
    },
    {
     "name": "stderr",
     "output_type": "stream",
     "text": [
      "\n",
      "100%|██████████| 1679/1679 [14:05<00:00,  1.99it/s]"
     ]
    },
    {
     "name": "stdout",
     "output_type": "stream",
     "text": [
      "2018-11-01 13:13:12.277099  [Epoch 1] mean loss: 0.000293\n",
      "2018-11-01 13:13:12.278037  [Epoch 1] accuracy: 0.975959\n",
      "2018-11-01 13:13:12.278901  [Epoch 1] avg class acc: 0.991667\n",
      "2018-11-01 13:13:12.279143  [Epoch 1] indivisual [0] class recall: 0.958333\n",
      "2018-11-01 13:13:12.279686  [Epoch 1] indivisual [0] class precision: 1.000000\n",
      "2018-11-01 13:13:12.279864  [Epoch 1] indivisual [1] class recall: 1.000000\n",
      "2018-11-01 13:13:12.280171  [Epoch 1] indivisual [1] class precision: 1.000000\n",
      "2018-11-01 13:13:12.280425  [Epoch 1] indivisual [2] class recall: 1.000000\n",
      "2018-11-01 13:13:12.280549  [Epoch 1] indivisual [2] class precision: 0.875000\n",
      "2018-11-01 13:13:12.280726  [Epoch 1] indivisual [3] class recall: 1.000000\n",
      "2018-11-01 13:13:12.281040  [Epoch 1] indivisual [3] class precision: 0.857143\n",
      "2018-11-01 13:13:12.281444  [Epoch 1] indivisual [4] class recall: 1.000000\n",
      "2018-11-01 13:13:12.281704  [Epoch 1] indivisual [4] class precision: 1.000000\n",
      "2018-11-01 13:13:12.282118   Evaluation one (validation set) epoch   2 /  10\n"
     ]
    },
    {
     "name": "stderr",
     "output_type": "stream",
     "text": [
      "\n",
      "100%|██████████| 419/419 [00:48<00:00,  8.68it/s]"
     ]
    },
    {
     "name": "stdout",
     "output_type": "stream",
     "text": [
      "2018-11-01 13:14:01.284614  [Epoch 1] vali mean loss: 0.001173\n",
      "2018-11-01 13:14:01.284933  [Epoch 1] vali accuracy: 0.996926\n",
      "2018-11-01 13:14:01.285344  [Epoch 1] vali avg class acc: 0.800000\n",
      "2018-11-01 13:14:01.286034  [Epoch 1] vali indivisual [0] class recall: 0.991453\n",
      "2018-11-01 13:14:01.286219  [Epoch 1] vali indivisual [0] class precision: 1.000000\n",
      "2018-11-01 13:14:01.286616  [Epoch 1] vali indivisual [1] class recall: 1.000000\n",
      "2018-11-01 13:14:01.286849  [Epoch 1] vali indivisual [1] class precision: 1.000000\n",
      "2018-11-01 13:14:01.286933  [Epoch 1] vali indivisual [2] class recall: 1.000000\n",
      "2018-11-01 13:14:01.287573  [Epoch 1] vali indivisual [2] class precision: 0.960000\n",
      "2018-11-01 13:14:01.288001  [Epoch 1] vali indivisual [3] class recall: 1.000000\n",
      "2018-11-01 13:14:01.288101  [Epoch 1] vali indivisual [3] class precision: 1.000000\n",
      "2018-11-01 13:14:01.288327  [Epoch 1] vali indivisual [4] class recall: 1.000000\n",
      "2018-11-01 13:14:01.288630  [Epoch 1] vali indivisual [4] class precision: 1.000000\n",
      "2018-11-01 13:14:01.288768   Evaluation one (test set) epoch   2 /  10\n"
     ]
    },
    {
     "name": "stderr",
     "output_type": "stream",
     "text": [
      "\n",
      "100%|██████████| 419/419 [00:48<00:00,  8.65it/s]"
     ]
    },
    {
     "name": "stdout",
     "output_type": "stream",
     "text": [
      "2018-11-01 13:14:50.205089  [Epoch 1] test mean loss: 0.001173\n",
      "2018-11-01 13:14:50.205932  [Epoch 1] test accuracy: 0.996811\n",
      "2018-11-01 13:14:50.206536  [Epoch 1] test avg class acc: 0.998437\n",
      "2018-11-01 13:14:50.206888  [Epoch 1] test indivisual [0] class recall: 0.992188\n",
      "2018-11-01 13:14:50.207364  [Epoch 1] test indivisual [0] class precision: 1.000000\n",
      "2018-11-01 13:14:50.207472  [Epoch 1] test indivisual [1] class recall: 1.000000\n",
      "2018-11-01 13:14:50.207816  [Epoch 1] test indivisual [1] class precision: 1.000000\n",
      "2018-11-01 13:14:50.208182  [Epoch 1] test indivisual [2] class recall: 1.000000\n",
      "2018-11-01 13:14:50.208279  [Epoch 1] test indivisual [2] class precision: 0.937500\n",
      "2018-11-01 13:14:50.208670  [Epoch 1] test indivisual [3] class recall: 1.000000\n",
      "2018-11-01 13:14:50.208827  [Epoch 1] test indivisual [3] class precision: 1.000000\n",
      "2018-11-01 13:14:50.209086  [Epoch 1] test indivisual [4] class recall: 1.000000\n",
      "2018-11-01 13:14:50.209299  [Epoch 1] test indivisual [4] class precision: 1.000000\n",
      "2018-11-01 13:14:50.209545   Train one epoch   3 /  10\n"
     ]
    },
    {
     "name": "stderr",
     "output_type": "stream",
     "text": [
      "\n",
      "100%|██████████| 1679/1679 [14:05<00:00,  1.98it/s]"
     ]
    },
    {
     "name": "stdout",
     "output_type": "stream",
     "text": [
      "2018-11-01 13:28:57.837867  [Epoch 2] mean loss: 0.000157\n",
      "2018-11-01 13:28:57.838312  [Epoch 2] accuracy: 0.987659\n",
      "2018-11-01 13:28:57.838844  [Epoch 2] avg class acc: 0.992308\n",
      "2018-11-01 13:28:57.839498  [Epoch 2] indivisual [0] class recall: 1.000000\n",
      "2018-11-01 13:28:57.839668  [Epoch 2] indivisual [0] class precision: 0.990291\n",
      "2018-11-01 13:28:57.839930  [Epoch 2] indivisual [1] class recall: 1.000000\n",
      "2018-11-01 13:28:57.840203  [Epoch 2] indivisual [1] class precision: 1.000000\n",
      "2018-11-01 13:28:57.840461  [Epoch 2] indivisual [2] class recall: 0.961538\n",
      "2018-11-01 13:28:57.840829  [Epoch 2] indivisual [2] class precision: 1.000000\n",
      "2018-11-01 13:28:57.841028  [Epoch 2] indivisual [3] class recall: 1.000000\n",
      "2018-11-01 13:28:57.841184  [Epoch 2] indivisual [3] class precision: 1.000000\n",
      "2018-11-01 13:28:57.841416  [Epoch 2] indivisual [4] class recall: 1.000000\n",
      "2018-11-01 13:28:57.841576  [Epoch 2] indivisual [4] class precision: 1.000000\n",
      "2018-11-01 13:28:57.842079   Evaluation one (validation set) epoch   3 /  10\n"
     ]
    },
    {
     "name": "stderr",
     "output_type": "stream",
     "text": [
      "\n",
      "100%|██████████| 419/419 [00:48<00:00,  8.71it/s]"
     ]
    },
    {
     "name": "stdout",
     "output_type": "stream",
     "text": [
      "2018-11-01 13:29:46.535138  [Epoch 2] vali mean loss: 0.000628\n",
      "2018-11-01 13:29:46.535877  [Epoch 2] vali accuracy: 0.997451\n",
      "2018-11-01 13:29:46.536193  [Epoch 2] vali avg class acc: 0.800000\n",
      "2018-11-01 13:29:46.536633  [Epoch 2] vali indivisual [0] class recall: 0.990099\n",
      "2018-11-01 13:29:46.536852  [Epoch 2] vali indivisual [0] class precision: 1.000000\n",
      "2018-11-01 13:29:46.537065  [Epoch 2] vali indivisual [1] class recall: 1.000000\n",
      "2018-11-01 13:29:46.537216  [Epoch 2] vali indivisual [1] class precision: 1.000000\n",
      "2018-11-01 13:29:46.537628  [Epoch 2] vali indivisual [2] class recall: 1.000000\n",
      "2018-11-01 13:29:46.537717  [Epoch 2] vali indivisual [2] class precision: 0.969697\n",
      "2018-11-01 13:29:46.538143  [Epoch 2] vali indivisual [3] class recall: 1.000000\n",
      "2018-11-01 13:29:46.538366  [Epoch 2] vali indivisual [3] class precision: 1.000000\n",
      "2018-11-01 13:29:46.538689  [Epoch 2] vali indivisual [4] class recall: 1.000000\n",
      "2018-11-01 13:29:46.538913  [Epoch 2] vali indivisual [4] class precision: 1.000000\n",
      "2018-11-01 13:29:46.539334   Evaluation one (test set) epoch   3 /  10\n"
     ]
    },
    {
     "name": "stderr",
     "output_type": "stream",
     "text": [
      "\n",
      "100%|██████████| 419/419 [00:48<00:00,  8.65it/s]"
     ]
    },
    {
     "name": "stdout",
     "output_type": "stream",
     "text": [
      "2018-11-01 13:30:35.717794  [Epoch 2] test mean loss: 0.000628\n",
      "2018-11-01 13:30:35.718599  [Epoch 2] test accuracy: 0.997613\n",
      "2018-11-01 13:30:35.718973  [Epoch 2] test avg class acc: 0.991304\n",
      "2018-11-01 13:30:35.719475  [Epoch 2] test indivisual [0] class recall: 1.000000\n",
      "2018-11-01 13:30:35.719757  [Epoch 2] test indivisual [0] class precision: 0.990654\n",
      "2018-11-01 13:30:35.719883  [Epoch 2] test indivisual [1] class recall: 1.000000\n",
      "2018-11-01 13:30:35.720272  [Epoch 2] test indivisual [1] class precision: 1.000000\n",
      "2018-11-01 13:30:35.720545  [Epoch 2] test indivisual [2] class recall: 1.000000\n",
      "2018-11-01 13:30:35.720670  [Epoch 2] test indivisual [2] class precision: 1.000000\n",
      "2018-11-01 13:30:35.721190  [Epoch 2] test indivisual [3] class recall: 0.956522\n",
      "2018-11-01 13:30:35.721283  [Epoch 2] test indivisual [3] class precision: 1.000000\n",
      "2018-11-01 13:30:35.721543  [Epoch 2] test indivisual [4] class recall: 1.000000\n",
      "2018-11-01 13:30:35.721801  [Epoch 2] test indivisual [4] class precision: 1.000000\n",
      "2018-11-01 13:30:35.722208   Train one epoch   4 /  10\n"
     ]
    },
    {
     "name": "stderr",
     "output_type": "stream",
     "text": [
      "\n",
      "100%|██████████| 1679/1679 [14:06<00:00,  1.98it/s]"
     ]
    },
    {
     "name": "stdout",
     "output_type": "stream",
     "text": [
      "2018-11-01 13:44:44.286212  [Epoch 3] mean loss: 0.000124\n",
      "2018-11-01 13:44:44.286918  [Epoch 3] accuracy: 0.990375\n",
      "2018-11-01 13:44:44.287512  [Epoch 3] avg class acc: 0.964996\n",
      "2018-11-01 13:44:44.287699  [Epoch 3] indivisual [0] class recall: 0.981651\n",
      "2018-11-01 13:44:44.287905  [Epoch 3] indivisual [0] class precision: 0.963964\n",
      "2018-11-01 13:44:44.288073  [Epoch 3] indivisual [1] class recall: 1.000000\n",
      "2018-11-01 13:44:44.288532  [Epoch 3] indivisual [1] class precision: 1.000000\n",
      "2018-11-01 13:44:44.288720  [Epoch 3] indivisual [2] class recall: 0.935484\n",
      "2018-11-01 13:44:44.289265  [Epoch 3] indivisual [2] class precision: 0.935484\n",
      "2018-11-01 13:44:44.289359  [Epoch 3] indivisual [3] class recall: 0.941176\n",
      "2018-11-01 13:44:44.289707  [Epoch 3] indivisual [3] class precision: 1.000000\n",
      "2018-11-01 13:44:44.289974  [Epoch 3] indivisual [4] class recall: 0.966667\n",
      "2018-11-01 13:44:44.290415  [Epoch 3] indivisual [4] class precision: 1.000000\n",
      "2018-11-01 13:44:44.290676   Evaluation one (validation set) epoch   4 /  10\n"
     ]
    },
    {
     "name": "stderr",
     "output_type": "stream",
     "text": [
      "\n",
      "100%|██████████| 419/419 [00:48<00:00,  8.67it/s]"
     ]
    },
    {
     "name": "stdout",
     "output_type": "stream",
     "text": [
      "2018-11-01 13:45:33.168989  [Epoch 3] vali mean loss: 0.000496\n",
      "2018-11-01 13:45:33.169789  [Epoch 3] vali accuracy: 0.997862\n",
      "2018-11-01 13:45:33.170183  [Epoch 3] vali avg class acc: 1.000000\n",
      "2018-11-01 13:45:33.170786  [Epoch 3] vali indivisual [0] class recall: 1.000000\n",
      "2018-11-01 13:45:33.171228  [Epoch 3] vali indivisual [0] class precision: 1.000000\n",
      "2018-11-01 13:45:33.171530  [Epoch 3] vali indivisual [1] class recall: 1.000000\n",
      "2018-11-01 13:45:33.171634  [Epoch 3] vali indivisual [1] class precision: 1.000000\n",
      "2018-11-01 13:45:33.172044  [Epoch 3] vali indivisual [2] class recall: 1.000000\n",
      "2018-11-01 13:45:33.172254  [Epoch 3] vali indivisual [2] class precision: 1.000000\n",
      "2018-11-01 13:45:33.172386  [Epoch 3] vali indivisual [3] class recall: 1.000000\n",
      "2018-11-01 13:45:33.172597  [Epoch 3] vali indivisual [3] class precision: 1.000000\n",
      "2018-11-01 13:45:33.173111  [Epoch 3] vali indivisual [4] class recall: 1.000000\n",
      "2018-11-01 13:45:33.173282  [Epoch 3] vali indivisual [4] class precision: 1.000000\n",
      "2018-11-01 13:45:33.173686   Evaluation one (test set) epoch   4 /  10\n"
     ]
    },
    {
     "name": "stderr",
     "output_type": "stream",
     "text": [
      "\n",
      "100%|██████████| 419/419 [00:48<00:00,  8.65it/s]"
     ]
    },
    {
     "name": "stdout",
     "output_type": "stream",
     "text": [
      "2018-11-01 13:46:22.069470  [Epoch 3] test mean loss: 0.000496\n",
      "2018-11-01 13:46:22.069921  [Epoch 3] test accuracy: 0.997881\n",
      "2018-11-01 13:46:22.070737  [Epoch 3] test avg class acc: 1.000000\n",
      "2018-11-01 13:46:22.070884  [Epoch 3] test indivisual [0] class recall: 1.000000\n",
      "2018-11-01 13:46:22.071190  [Epoch 3] test indivisual [0] class precision: 1.000000\n",
      "2018-11-01 13:46:22.071462  [Epoch 3] test indivisual [1] class recall: 1.000000\n",
      "2018-11-01 13:46:22.071876  [Epoch 3] test indivisual [1] class precision: 1.000000\n",
      "2018-11-01 13:46:22.071973  [Epoch 3] test indivisual [2] class recall: 1.000000\n",
      "2018-11-01 13:46:22.072236  [Epoch 3] test indivisual [2] class precision: 1.000000\n",
      "2018-11-01 13:46:22.072501  [Epoch 3] test indivisual [3] class recall: 1.000000\n",
      "2018-11-01 13:46:22.072910  [Epoch 3] test indivisual [3] class precision: 1.000000\n",
      "2018-11-01 13:46:22.073158  [Epoch 3] test indivisual [4] class recall: 1.000000\n",
      "2018-11-01 13:46:22.073252  [Epoch 3] test indivisual [4] class precision: 1.000000\n",
      "2018-11-01 13:46:22.073510   Train one epoch   5 /  10\n"
     ]
    },
    {
     "name": "stderr",
     "output_type": "stream",
     "text": [
      "\n",
      "100%|██████████| 1679/1679 [14:07<00:00,  1.98it/s]"
     ]
    },
    {
     "name": "stdout",
     "output_type": "stream",
     "text": [
      "2018-11-01 14:00:30.639982  [Epoch 4] mean loss: 0.000115\n",
      "2018-11-01 14:00:30.640310  [Epoch 4] accuracy: 0.990940\n",
      "2018-11-01 14:00:30.642540  [Epoch 4] avg class acc: 0.985840\n",
      "2018-11-01 14:00:30.642827  [Epoch 4] indivisual [0] class recall: 0.964912\n",
      "2018-11-01 14:00:30.642976  [Epoch 4] indivisual [0] class precision: 0.990991\n",
      "2018-11-01 14:00:30.643307  [Epoch 4] indivisual [1] class recall: 1.000000\n",
      "2018-11-01 14:00:30.643811  [Epoch 4] indivisual [1] class precision: 1.000000\n",
      "2018-11-01 14:00:30.644183  [Epoch 4] indivisual [2] class recall: 0.964286\n",
      "2018-11-01 14:00:30.644279  [Epoch 4] indivisual [2] class precision: 0.931034\n",
      "2018-11-01 14:00:30.644550  [Epoch 4] indivisual [3] class recall: 1.000000\n",
      "2018-11-01 14:00:30.644819  [Epoch 4] indivisual [3] class precision: 0.916667\n",
      "2018-11-01 14:00:30.644945  [Epoch 4] indivisual [4] class recall: 1.000000\n",
      "2018-11-01 14:00:30.645118  [Epoch 4] indivisual [4] class precision: 0.956522\n",
      "2018-11-01 14:00:30.645301   Evaluation one (validation set) epoch   5 /  10\n"
     ]
    },
    {
     "name": "stderr",
     "output_type": "stream",
     "text": [
      "\n",
      "100%|██████████| 419/419 [00:48<00:00,  8.66it/s]"
     ]
    },
    {
     "name": "stdout",
     "output_type": "stream",
     "text": [
      "2018-11-01 14:01:19.545061  [Epoch 4] vali mean loss: 0.000462\n",
      "2018-11-01 14:01:19.545769  [Epoch 4] vali accuracy: 0.998625\n",
      "2018-11-01 14:01:19.546284  [Epoch 4] vali avg class acc: 0.800000\n",
      "2018-11-01 14:01:19.546790  [Epoch 4] vali indivisual [0] class recall: 1.000000\n",
      "2018-11-01 14:01:19.547062  [Epoch 4] vali indivisual [0] class precision: 0.991228\n",
      "2018-11-01 14:01:19.547315  [Epoch 4] vali indivisual [1] class recall: 1.000000\n",
      "2018-11-01 14:01:19.547580  [Epoch 4] vali indivisual [1] class precision: 1.000000\n",
      "2018-11-01 14:01:19.547909  [Epoch 4] vali indivisual [2] class recall: 0.965517\n",
      "2018-11-01 14:01:19.548265  [Epoch 4] vali indivisual [2] class precision: 1.000000\n",
      "2018-11-01 14:01:19.548359  [Epoch 4] vali indivisual [3] class recall: 1.000000\n",
      "2018-11-01 14:01:19.548621  [Epoch 4] vali indivisual [3] class precision: 1.000000\n",
      "2018-11-01 14:01:19.548871  [Epoch 4] vali indivisual [4] class recall: 1.000000\n",
      "2018-11-01 14:01:19.549265  [Epoch 4] vali indivisual [4] class precision: 1.000000\n",
      "2018-11-01 14:01:19.549368   Evaluation one (test set) epoch   5 /  10\n"
     ]
    },
    {
     "name": "stderr",
     "output_type": "stream",
     "text": [
      "\n",
      "100%|██████████| 419/419 [00:48<00:00,  8.63it/s]"
     ]
    },
    {
     "name": "stdout",
     "output_type": "stream",
     "text": [
      "2018-11-01 14:02:08.532377  [Epoch 4] test mean loss: 0.000462\n",
      "2018-11-01 14:02:08.533257  [Epoch 4] test accuracy: 0.998616\n",
      "2018-11-01 14:02:08.533613  [Epoch 4] test avg class acc: 1.000000\n",
      "2018-11-01 14:02:08.533940  [Epoch 4] test indivisual [0] class recall: 1.000000\n",
      "2018-11-01 14:02:08.534193  [Epoch 4] test indivisual [0] class precision: 1.000000\n",
      "2018-11-01 14:02:08.534664  [Epoch 4] test indivisual [1] class recall: 1.000000\n",
      "2018-11-01 14:02:08.534794  [Epoch 4] test indivisual [1] class precision: 1.000000\n",
      "2018-11-01 14:02:08.535107  [Epoch 4] test indivisual [2] class recall: 1.000000\n",
      "2018-11-01 14:02:08.535282  [Epoch 4] test indivisual [2] class precision: 1.000000\n",
      "2018-11-01 14:02:08.535696  [Epoch 4] test indivisual [3] class recall: 1.000000\n",
      "2018-11-01 14:02:08.535785  [Epoch 4] test indivisual [3] class precision: 1.000000\n",
      "2018-11-01 14:02:08.536197  [Epoch 4] test indivisual [4] class recall: 1.000000\n",
      "2018-11-01 14:02:08.536395  [Epoch 4] test indivisual [4] class precision: 1.000000\n",
      "2018-11-01 14:02:08.536544   Train one epoch   6 /  10\n"
     ]
    },
    {
     "name": "stderr",
     "output_type": "stream",
     "text": [
      "\n",
      "100%|██████████| 1679/1679 [14:06<00:00,  1.98it/s]"
     ]
    },
    {
     "name": "stdout",
     "output_type": "stream",
     "text": [
      "2018-11-01 14:16:16.816170  [Epoch 5] mean loss: 0.000113\n",
      "2018-11-01 14:16:16.816502  [Epoch 5] accuracy: 0.991183\n",
      "2018-11-01 14:16:16.817446  [Epoch 5] avg class acc: 0.988304\n",
      "2018-11-01 14:16:16.817648  [Epoch 5] indivisual [0] class recall: 0.990566\n",
      "2018-11-01 14:16:16.817885  [Epoch 5] indivisual [0] class precision: 0.990566\n",
      "2018-11-01 14:16:16.818147  [Epoch 5] indivisual [1] class recall: 0.986667\n",
      "2018-11-01 14:16:16.818647  [Epoch 5] indivisual [1] class precision: 1.000000\n",
      "2018-11-01 14:16:16.818940  [Epoch 5] indivisual [2] class recall: 1.000000\n",
      "2018-11-01 14:16:16.819446  [Epoch 5] indivisual [2] class precision: 0.925926\n",
      "2018-11-01 14:16:16.819566  [Epoch 5] indivisual [3] class recall: 1.000000\n",
      "2018-11-01 14:16:16.819848  [Epoch 5] indivisual [3] class precision: 1.000000\n",
      "2018-11-01 14:16:16.820124  [Epoch 5] indivisual [4] class recall: 0.964286\n",
      "2018-11-01 14:16:16.820563  [Epoch 5] indivisual [4] class precision: 1.000000\n",
      "2018-11-01 14:16:16.820681   Evaluation one (validation set) epoch   6 /  10\n"
     ]
    },
    {
     "name": "stderr",
     "output_type": "stream",
     "text": [
      "\n",
      "100%|██████████| 419/419 [00:48<00:00,  8.68it/s]"
     ]
    },
    {
     "name": "stdout",
     "output_type": "stream",
     "text": [
      "2018-11-01 14:17:05.632479  [Epoch 5] vali mean loss: 0.000454\n",
      "2018-11-01 14:17:05.633230  [Epoch 5] vali accuracy: 0.998234\n",
      "2018-11-01 14:17:05.634044  [Epoch 5] vali avg class acc: 0.600000\n",
      "2018-11-01 14:17:05.634242  [Epoch 5] vali indivisual [0] class recall: 0.991736\n",
      "2018-11-01 14:17:05.634537  [Epoch 5] vali indivisual [0] class precision: 0.991736\n",
      "2018-11-01 14:17:05.634713  [Epoch 5] vali indivisual [1] class recall: 1.000000\n",
      "2018-11-01 14:17:05.635231  [Epoch 5] vali indivisual [1] class precision: 1.000000\n",
      "2018-11-01 14:17:05.635692  [Epoch 5] vali indivisual [2] class recall: 0.954545\n",
      "2018-11-01 14:17:05.635807  [Epoch 5] vali indivisual [2] class precision: 0.954545\n",
      "2018-11-01 14:17:05.636094  [Epoch 5] vali indivisual [3] class recall: 1.000000\n",
      "2018-11-01 14:17:05.636195  [Epoch 5] vali indivisual [3] class precision: 1.000000\n",
      "2018-11-01 14:17:05.636367  [Epoch 5] vali indivisual [4] class recall: 1.000000\n",
      "2018-11-01 14:17:05.637011  [Epoch 5] vali indivisual [4] class precision: 1.000000\n",
      "2018-11-01 14:17:05.637157   Evaluation one (test set) epoch   6 /  10\n"
     ]
    },
    {
     "name": "stderr",
     "output_type": "stream",
     "text": [
      "\n",
      "100%|██████████| 419/419 [00:48<00:00,  8.64it/s]"
     ]
    },
    {
     "name": "stdout",
     "output_type": "stream",
     "text": [
      "2018-11-01 14:17:54.579179  [Epoch 5] test mean loss: 0.000454\n",
      "2018-11-01 14:17:54.579981  [Epoch 5] test accuracy: 0.998329\n",
      "2018-11-01 14:17:54.580445  [Epoch 5] test avg class acc: 0.998261\n",
      "2018-11-01 14:17:54.580922  [Epoch 5] test indivisual [0] class recall: 0.991304\n",
      "2018-11-01 14:17:54.581057  [Epoch 5] test indivisual [0] class precision: 1.000000\n",
      "2018-11-01 14:17:54.581192  [Epoch 5] test indivisual [1] class recall: 1.000000\n",
      "2018-11-01 14:17:54.581745  [Epoch 5] test indivisual [1] class precision: 1.000000\n",
      "2018-11-01 14:17:54.582014  [Epoch 5] test indivisual [2] class recall: 1.000000\n",
      "2018-11-01 14:17:54.582168  [Epoch 5] test indivisual [2] class precision: 0.952381\n",
      "2018-11-01 14:17:54.582311  [Epoch 5] test indivisual [3] class recall: 1.000000\n",
      "2018-11-01 14:17:54.582432  [Epoch 5] test indivisual [3] class precision: 1.000000\n",
      "2018-11-01 14:17:54.583048  [Epoch 5] test indivisual [4] class recall: 1.000000\n",
      "2018-11-01 14:17:54.583322  [Epoch 5] test indivisual [4] class precision: 1.000000\n",
      "2018-11-01 14:17:54.583482   Train one epoch   7 /  10\n"
     ]
    },
    {
     "name": "stderr",
     "output_type": "stream",
     "text": [
      "\n",
      "100%|██████████| 1679/1679 [14:06<00:00,  1.98it/s]"
     ]
    },
    {
     "name": "stdout",
     "output_type": "stream",
     "text": [
      "2018-11-01 14:32:02.907735  [Epoch 6] mean loss: 0.000105\n",
      "2018-11-01 14:32:02.908445  [Epoch 6] accuracy: 0.991974\n",
      "2018-11-01 14:32:02.908870  [Epoch 6] avg class acc: 0.991334\n",
      "2018-11-01 14:32:02.909473  [Epoch 6] indivisual [0] class recall: 0.991150\n",
      "2018-11-01 14:32:02.909713  [Epoch 6] indivisual [0] class precision: 0.991150\n",
      "2018-11-01 14:32:02.909896  [Epoch 6] indivisual [1] class recall: 1.000000\n",
      "2018-11-01 14:32:02.910155  [Epoch 6] indivisual [1] class precision: 1.000000\n",
      "2018-11-01 14:32:02.910570  [Epoch 6] indivisual [2] class recall: 0.965517\n",
      "2018-11-01 14:32:02.910859  [Epoch 6] indivisual [2] class precision: 0.965517\n",
      "2018-11-01 14:32:02.911236  [Epoch 6] indivisual [3] class recall: 1.000000\n",
      "2018-11-01 14:32:02.911626  [Epoch 6] indivisual [3] class precision: 1.000000\n",
      "2018-11-01 14:32:02.911885  [Epoch 6] indivisual [4] class recall: 1.000000\n",
      "2018-11-01 14:32:02.912170  [Epoch 6] indivisual [4] class precision: 1.000000\n",
      "2018-11-01 14:32:02.912445   Evaluation one (validation set) epoch   7 /  10\n"
     ]
    },
    {
     "name": "stderr",
     "output_type": "stream",
     "text": [
      "\n",
      "100%|██████████| 419/419 [00:48<00:00,  8.67it/s]"
     ]
    },
    {
     "name": "stdout",
     "output_type": "stream",
     "text": [
      "2018-11-01 14:32:51.727698  [Epoch 6] vali mean loss: 0.000422\n",
      "2018-11-01 14:32:51.728593  [Epoch 6] vali accuracy: 0.998683\n",
      "2018-11-01 14:32:51.729157  [Epoch 6] vali avg class acc: 0.800000\n",
      "2018-11-01 14:32:51.729355  [Epoch 6] vali indivisual [0] class recall: 0.983333\n",
      "2018-11-01 14:32:51.729740  [Epoch 6] vali indivisual [0] class precision: 1.000000\n",
      "2018-11-01 14:32:51.729962  [Epoch 6] vali indivisual [1] class recall: 1.000000\n",
      "2018-11-01 14:32:51.730630  [Epoch 6] vali indivisual [1] class precision: 1.000000\n",
      "2018-11-01 14:32:51.731021  [Epoch 6] vali indivisual [2] class recall: 1.000000\n",
      "2018-11-01 14:32:51.731156  [Epoch 6] vali indivisual [2] class precision: 0.937500\n",
      "2018-11-01 14:32:51.731402  [Epoch 6] vali indivisual [3] class recall: 1.000000\n",
      "2018-11-01 14:32:51.731745  [Epoch 6] vali indivisual [3] class precision: 1.000000\n",
      "2018-11-01 14:32:51.732136  [Epoch 6] vali indivisual [4] class recall: 1.000000\n",
      "2018-11-01 14:32:51.732283  [Epoch 6] vali indivisual [4] class precision: 1.000000\n",
      "2018-11-01 14:32:51.732482   Evaluation one (test set) epoch   7 /  10\n"
     ]
    },
    {
     "name": "stderr",
     "output_type": "stream",
     "text": [
      "\n",
      "100%|██████████| 419/419 [00:48<00:00,  8.64it/s]"
     ]
    },
    {
     "name": "stdout",
     "output_type": "stream",
     "text": [
      "2018-11-01 14:33:40.669267  [Epoch 6] test mean loss: 0.000422\n",
      "2018-11-01 14:33:40.669568  [Epoch 6] test accuracy: 0.998864\n",
      "2018-11-01 14:33:40.670277  [Epoch 6] test avg class acc: 1.000000\n",
      "2018-11-01 14:33:40.670547  [Epoch 6] test indivisual [0] class recall: 1.000000\n",
      "2018-11-01 14:33:40.670748  [Epoch 6] test indivisual [0] class precision: 1.000000\n",
      "2018-11-01 14:33:40.670897  [Epoch 6] test indivisual [1] class recall: 1.000000\n",
      "2018-11-01 14:33:40.671053  [Epoch 6] test indivisual [1] class precision: 1.000000\n",
      "2018-11-01 14:33:40.671900  [Epoch 6] test indivisual [2] class recall: 1.000000\n",
      "2018-11-01 14:33:40.672043  [Epoch 6] test indivisual [2] class precision: 1.000000\n",
      "2018-11-01 14:33:40.672224  [Epoch 6] test indivisual [3] class recall: 1.000000\n",
      "2018-11-01 14:33:40.672498  [Epoch 6] test indivisual [3] class precision: 1.000000\n",
      "2018-11-01 14:33:40.672706  [Epoch 6] test indivisual [4] class recall: 1.000000\n",
      "2018-11-01 14:33:40.673245  [Epoch 6] test indivisual [4] class precision: 1.000000\n",
      "2018-11-01 14:33:40.673520   Train one epoch   8 /  10\n"
     ]
    },
    {
     "name": "stderr",
     "output_type": "stream",
     "text": [
      "\n",
      "100%|██████████| 1679/1679 [14:07<00:00,  1.98it/s]"
     ]
    },
    {
     "name": "stdout",
     "output_type": "stream",
     "text": [
      "2018-11-01 14:47:49.242044  [Epoch 7] mean loss: 0.000102\n",
      "2018-11-01 14:47:49.242625  [Epoch 7] accuracy: 0.992088\n",
      "2018-11-01 14:47:49.243230  [Epoch 7] avg class acc: 0.968123\n",
      "2018-11-01 14:47:49.243527  [Epoch 7] indivisual [0] class recall: 0.983471\n",
      "2018-11-01 14:47:49.244059  [Epoch 7] indivisual [0] class precision: 1.000000\n",
      "2018-11-01 14:47:49.244234  [Epoch 7] indivisual [1] class recall: 1.000000\n",
      "2018-11-01 14:47:49.244615  [Epoch 7] indivisual [1] class precision: 1.000000\n",
      "2018-11-01 14:47:49.244924  [Epoch 7] indivisual [2] class recall: 1.000000\n",
      "2018-11-01 14:47:49.245157  [Epoch 7] indivisual [2] class precision: 0.966667\n",
      "2018-11-01 14:47:49.245424  [Epoch 7] indivisual [3] class recall: 0.857143\n",
      "2018-11-01 14:47:49.245683  [Epoch 7] indivisual [3] class precision: 1.000000\n",
      "2018-11-01 14:47:49.246095  [Epoch 7] indivisual [4] class recall: 1.000000\n",
      "2018-11-01 14:47:49.246191  [Epoch 7] indivisual [4] class precision: 0.875000\n",
      "2018-11-01 14:47:49.246418   Evaluation one (validation set) epoch   8 /  10\n"
     ]
    },
    {
     "name": "stderr",
     "output_type": "stream",
     "text": [
      "\n",
      "100%|██████████| 419/419 [00:48<00:00,  8.68it/s]"
     ]
    },
    {
     "name": "stdout",
     "output_type": "stream",
     "text": [
      "2018-11-01 14:48:38.061227  [Epoch 7] vali mean loss: 0.000409\n",
      "2018-11-01 14:48:38.062080  [Epoch 7] vali accuracy: 0.998778\n",
      "2018-11-01 14:48:38.062653  [Epoch 7] vali avg class acc: 1.000000\n",
      "2018-11-01 14:48:38.062894  [Epoch 7] vali indivisual [0] class recall: 1.000000\n",
      "2018-11-01 14:48:38.063291  [Epoch 7] vali indivisual [0] class precision: 1.000000\n",
      "2018-11-01 14:48:38.063606  [Epoch 7] vali indivisual [1] class recall: 1.000000\n",
      "2018-11-01 14:48:38.064004  [Epoch 7] vali indivisual [1] class precision: 1.000000\n",
      "2018-11-01 14:48:38.064399  [Epoch 7] vali indivisual [2] class recall: 1.000000\n",
      "2018-11-01 14:48:38.064678  [Epoch 7] vali indivisual [2] class precision: 1.000000\n",
      "2018-11-01 14:48:38.064772  [Epoch 7] vali indivisual [3] class recall: 1.000000\n",
      "2018-11-01 14:48:38.065172  [Epoch 7] vali indivisual [3] class precision: 1.000000\n",
      "2018-11-01 14:48:38.065376  [Epoch 7] vali indivisual [4] class recall: 1.000000\n",
      "2018-11-01 14:48:38.065503  [Epoch 7] vali indivisual [4] class precision: 1.000000\n",
      "2018-11-01 14:48:38.065922   Evaluation one (test set) epoch   8 /  10\n"
     ]
    },
    {
     "name": "stderr",
     "output_type": "stream",
     "text": [
      "\n",
      "100%|██████████| 419/419 [00:48<00:00,  8.63it/s]"
     ]
    },
    {
     "name": "stdout",
     "output_type": "stream",
     "text": [
      "2018-11-01 14:49:27.050554  [Epoch 7] test mean loss: 0.000409\n",
      "2018-11-01 14:49:27.051177  [Epoch 7] test accuracy: 0.998778\n",
      "2018-11-01 14:49:27.051886  [Epoch 7] test avg class acc: 1.000000\n",
      "2018-11-01 14:49:27.052067  [Epoch 7] test indivisual [0] class recall: 1.000000\n",
      "2018-11-01 14:49:27.052291  [Epoch 7] test indivisual [0] class precision: 1.000000\n",
      "2018-11-01 14:49:27.052464  [Epoch 7] test indivisual [1] class recall: 1.000000\n",
      "2018-11-01 14:49:27.052953  [Epoch 7] test indivisual [1] class precision: 1.000000\n",
      "2018-11-01 14:49:27.053306  [Epoch 7] test indivisual [2] class recall: 1.000000\n",
      "2018-11-01 14:49:27.053435  [Epoch 7] test indivisual [2] class precision: 1.000000\n",
      "2018-11-01 14:49:27.053672  [Epoch 7] test indivisual [3] class recall: 1.000000\n",
      "2018-11-01 14:49:27.053821  [Epoch 7] test indivisual [3] class precision: 1.000000\n",
      "2018-11-01 14:49:27.054264  [Epoch 7] test indivisual [4] class recall: 1.000000\n",
      "2018-11-01 14:49:27.054613  [Epoch 7] test indivisual [4] class precision: 1.000000\n",
      "2018-11-01 14:49:27.054746   Train one epoch   9 /  10\n"
     ]
    },
    {
     "name": "stderr",
     "output_type": "stream",
     "text": [
      "\n",
      "100%|██████████| 1679/1679 [14:06<00:00,  1.98it/s]"
     ]
    },
    {
     "name": "stdout",
     "output_type": "stream",
     "text": [
      "2018-11-01 15:03:35.456988  [Epoch 8] mean loss: 0.000098\n",
      "2018-11-01 15:03:35.458078  [Epoch 8] accuracy: 0.992379\n",
      "2018-11-01 15:03:35.458740  [Epoch 8] avg class acc: 0.998305\n",
      "2018-11-01 15:03:35.458948  [Epoch 8] indivisual [0] class recall: 0.991525\n",
      "2018-11-01 15:03:35.459222  [Epoch 8] indivisual [0] class precision: 1.000000\n",
      "2018-11-01 15:03:35.459699  [Epoch 8] indivisual [1] class recall: 1.000000\n",
      "2018-11-01 15:03:35.460109  [Epoch 8] indivisual [1] class precision: 1.000000\n",
      "2018-11-01 15:03:35.460209  [Epoch 8] indivisual [2] class recall: 1.000000\n",
      "2018-11-01 15:03:35.460499  [Epoch 8] indivisual [2] class precision: 0.969697\n",
      "2018-11-01 15:03:35.460784  [Epoch 8] indivisual [3] class recall: 1.000000\n",
      "2018-11-01 15:03:35.461003  [Epoch 8] indivisual [3] class precision: 1.000000\n",
      "2018-11-01 15:03:35.461164  [Epoch 8] indivisual [4] class recall: 1.000000\n",
      "2018-11-01 15:03:35.461551  [Epoch 8] indivisual [4] class precision: 1.000000\n",
      "2018-11-01 15:03:35.461794   Evaluation one (validation set) epoch   9 /  10\n"
     ]
    },
    {
     "name": "stderr",
     "output_type": "stream",
     "text": [
      "\n",
      "100%|██████████| 419/419 [00:48<00:00,  8.68it/s]"
     ]
    },
    {
     "name": "stdout",
     "output_type": "stream",
     "text": [
      "2018-11-01 15:04:24.222278  [Epoch 8] vali mean loss: 0.000393\n",
      "2018-11-01 15:04:24.222716  [Epoch 8] vali accuracy: 0.998558\n",
      "2018-11-01 15:04:24.223297  [Epoch 8] vali avg class acc: 1.000000\n",
      "2018-11-01 15:04:24.223580  [Epoch 8] vali indivisual [0] class recall: 1.000000\n",
      "2018-11-01 15:04:24.223921  [Epoch 8] vali indivisual [0] class precision: 1.000000\n",
      "2018-11-01 15:04:24.224188  [Epoch 8] vali indivisual [1] class recall: 1.000000\n",
      "2018-11-01 15:04:24.224447  [Epoch 8] vali indivisual [1] class precision: 1.000000\n",
      "2018-11-01 15:04:24.224707  [Epoch 8] vali indivisual [2] class recall: 1.000000\n",
      "2018-11-01 15:04:24.224965  [Epoch 8] vali indivisual [2] class precision: 1.000000\n",
      "2018-11-01 15:04:24.225213  [Epoch 8] vali indivisual [3] class recall: 1.000000\n",
      "2018-11-01 15:04:24.225365  [Epoch 8] vali indivisual [3] class precision: 1.000000\n",
      "2018-11-01 15:04:24.225591  [Epoch 8] vali indivisual [4] class recall: 1.000000\n",
      "2018-11-01 15:04:24.225840  [Epoch 8] vali indivisual [4] class precision: 1.000000\n",
      "2018-11-01 15:04:24.226257   Evaluation one (test set) epoch   9 /  10\n"
     ]
    },
    {
     "name": "stderr",
     "output_type": "stream",
     "text": [
      "\n",
      "100%|██████████| 419/419 [00:48<00:00,  8.66it/s]"
     ]
    },
    {
     "name": "stdout",
     "output_type": "stream",
     "text": [
      "2018-11-01 15:05:13.074374  [Epoch 8] test mean loss: 0.000393\n",
      "2018-11-01 15:05:13.081199  [Epoch 8] test accuracy: 0.998368\n",
      "2018-11-01 15:05:13.081857  [Epoch 8] test avg class acc: 1.000000\n",
      "2018-11-01 15:05:13.082055  [Epoch 8] test indivisual [0] class recall: 1.000000\n",
      "2018-11-01 15:05:13.082206  [Epoch 8] test indivisual [0] class precision: 1.000000\n",
      "2018-11-01 15:05:13.082879  [Epoch 8] test indivisual [1] class recall: 1.000000\n",
      "2018-11-01 15:05:13.083014  [Epoch 8] test indivisual [1] class precision: 1.000000\n",
      "2018-11-01 15:05:13.083217  [Epoch 8] test indivisual [2] class recall: 1.000000\n",
      "2018-11-01 15:05:13.083414  [Epoch 8] test indivisual [2] class precision: 1.000000\n",
      "2018-11-01 15:05:13.083654  [Epoch 8] test indivisual [3] class recall: 1.000000\n",
      "2018-11-01 15:05:13.084220  [Epoch 8] test indivisual [3] class precision: 1.000000\n",
      "2018-11-01 15:05:13.084481  [Epoch 8] test indivisual [4] class recall: 1.000000\n",
      "2018-11-01 15:05:13.084891  [Epoch 8] test indivisual [4] class precision: 1.000000\n",
      "2018-11-01 15:05:13.085018   Train one epoch  10 /  10\n"
     ]
    },
    {
     "name": "stderr",
     "output_type": "stream",
     "text": [
      "\n",
      "100%|██████████| 1679/1679 [14:06<00:00,  1.98it/s]"
     ]
    },
    {
     "name": "stdout",
     "output_type": "stream",
     "text": [
      "2018-11-01 15:19:21.371140  [Epoch 9] mean loss: 0.000096\n",
      "2018-11-01 15:19:21.372052  [Epoch 9] accuracy: 0.992507\n",
      "2018-11-01 15:19:21.372533  [Epoch 9] avg class acc: 0.993750\n",
      "2018-11-01 15:19:21.372845  [Epoch 9] indivisual [0] class recall: 1.000000\n",
      "2018-11-01 15:19:21.373116  [Epoch 9] indivisual [0] class precision: 0.990654\n",
      "2018-11-01 15:19:21.373273  [Epoch 9] indivisual [1] class recall: 1.000000\n",
      "2018-11-01 15:19:21.373510  [Epoch 9] indivisual [1] class precision: 1.000000\n",
      "2018-11-01 15:19:21.373751  [Epoch 9] indivisual [2] class recall: 0.968750\n",
      "2018-11-01 15:19:21.374255  [Epoch 9] indivisual [2] class precision: 1.000000\n",
      "2018-11-01 15:19:21.374603  [Epoch 9] indivisual [3] class recall: 1.000000\n",
      "2018-11-01 15:19:21.374692  [Epoch 9] indivisual [3] class precision: 1.000000\n",
      "2018-11-01 15:19:21.374905  [Epoch 9] indivisual [4] class recall: 1.000000\n",
      "2018-11-01 15:19:21.375216  [Epoch 9] indivisual [4] class precision: 1.000000\n",
      "2018-11-01 15:19:21.375341   Evaluation one (validation set) epoch  10 /  10\n"
     ]
    },
    {
     "name": "stderr",
     "output_type": "stream",
     "text": [
      "\n",
      "100%|██████████| 419/419 [00:48<00:00,  8.68it/s]"
     ]
    },
    {
     "name": "stdout",
     "output_type": "stream",
     "text": [
      "2018-11-01 15:20:10.118467  [Epoch 9] vali mean loss: 0.000383\n",
      "2018-11-01 15:20:10.119219  [Epoch 9] vali accuracy: 0.998654\n",
      "2018-11-01 15:20:10.119738  [Epoch 9] vali avg class acc: 1.000000\n",
      "2018-11-01 15:20:10.120112  [Epoch 9] vali indivisual [0] class recall: 1.000000\n",
      "2018-11-01 15:20:10.120275  [Epoch 9] vali indivisual [0] class precision: 1.000000\n",
      "2018-11-01 15:20:10.120738  [Epoch 9] vali indivisual [1] class recall: 1.000000\n",
      "2018-11-01 15:20:10.121181  [Epoch 9] vali indivisual [1] class precision: 1.000000\n",
      "2018-11-01 15:20:10.121445  [Epoch 9] vali indivisual [2] class recall: 1.000000\n",
      "2018-11-01 15:20:10.121546  [Epoch 9] vali indivisual [2] class precision: 1.000000\n",
      "2018-11-01 15:20:10.121966  [Epoch 9] vali indivisual [3] class recall: 1.000000\n",
      "2018-11-01 15:20:10.122061  [Epoch 9] vali indivisual [3] class precision: 1.000000\n",
      "2018-11-01 15:20:10.122185  [Epoch 9] vali indivisual [4] class recall: 1.000000\n",
      "2018-11-01 15:20:10.122400  [Epoch 9] vali indivisual [4] class precision: 1.000000\n",
      "2018-11-01 15:20:10.122583   Evaluation one (test set) epoch  10 /  10\n"
     ]
    },
    {
     "name": "stderr",
     "output_type": "stream",
     "text": [
      "\n",
      "100%|██████████| 419/419 [00:48<00:00,  8.64it/s]\n"
     ]
    },
    {
     "name": "stdout",
     "output_type": "stream",
     "text": [
      "2018-11-01 15:20:59.056914  [Epoch 9] test mean loss: 0.000383\n",
      "2018-11-01 15:20:59.057342  [Epoch 9] test accuracy: 0.998788\n",
      "2018-11-01 15:20:59.057723  [Epoch 9] test avg class acc: 1.000000\n",
      "2018-11-01 15:20:59.058428  [Epoch 9] test indivisual [0] class recall: 1.000000\n",
      "2018-11-01 15:20:59.058727  [Epoch 9] test indivisual [0] class precision: 1.000000\n",
      "2018-11-01 15:20:59.059148  [Epoch 9] test indivisual [1] class recall: 1.000000\n",
      "2018-11-01 15:20:59.059252  [Epoch 9] test indivisual [1] class precision: 1.000000\n",
      "2018-11-01 15:20:59.059705  [Epoch 9] test indivisual [2] class recall: 1.000000\n",
      "2018-11-01 15:20:59.059807  [Epoch 9] test indivisual [2] class precision: 1.000000\n",
      "2018-11-01 15:20:59.060009  [Epoch 9] test indivisual [3] class recall: 1.000000\n",
      "2018-11-01 15:20:59.060160  [Epoch 9] test indivisual [3] class precision: 1.000000\n",
      "2018-11-01 15:20:59.060288  [Epoch 9] test indivisual [4] class recall: 1.000000\n",
      "2018-11-01 15:20:59.060729  [Epoch 9] test indivisual [4] class precision: 1.000000\n",
      "2018-11-01 15:20:59.793572  Model saved in file: /home/gozilla/kyungpyo/git/MasterThesisProject/Network/notebook/train_log_20181101_opt03/model/model.ckpt\n"
     ]
    }
   ],
   "source": [
    "\"\"\" log file \"\"\"\n",
    "LOG_FOUT = open(log_path, 'w')\n",
    "\n",
    "def log_string(out_str):\n",
    "    out_str = str( datetime.datetime.fromtimestamp( time.time() ) ) + \"  \" + out_str\n",
    "    LOG_FOUT.write(out_str+'\\n')\n",
    "    LOG_FOUT.flush()\n",
    "    print(out_str)\n",
    "    \n",
    "    \n",
    "def get_learning_rate(batch):\n",
    "    learning_rate = tf.train.exponential_decay(\n",
    "                        BASE_LEARNING_RATE,  # Base learning rate.\n",
    "                        batch * BATCH_SIZE,  # Current index into the dataset.\n",
    "                        DECAY_STEP,          # Decay step.\n",
    "                        DECAY_RATE,          # Decay rate.\n",
    "                        staircase=True)\n",
    "    learning_rate = tf.maximum(learning_rate, 0.00001) # CLIP THE LEARNING RATE!\n",
    "    return learning_rate        \n",
    "\n",
    "def get_bn_decay(batch):\n",
    "    bn_momentum = tf.train.exponential_decay(\n",
    "                      BN_INIT_DECAY,\n",
    "                      batch * BATCH_SIZE,\n",
    "                      BN_DECAY_DECAY_STEP,\n",
    "                      BN_DECAY_DECAY_RATE,\n",
    "                      staircase=True)\n",
    "    bn_decay = tf.minimum(BN_DECAY_CLIP, 1 - bn_momentum)\n",
    "    return bn_decay\n",
    "\n",
    "\"\"\" load traing model \"\"\"\n",
    "with tf.Graph().as_default():\n",
    "    with tf.device('/gpu:'+str(GPU_INDEX)):\n",
    "        pointclouds_pl, labels_pl = MODEL.placeholder_inputs(BATCH_SIZE, NUM_POINT)\n",
    "        is_training_pl = tf.placeholder(tf.bool, shape=())\n",
    "        print(is_training_pl)\n",
    "\n",
    "        # Note the global_step=batch parameter to minimize. \n",
    "        # That tells the optimizer to helpfully increment the 'batch' parameter for you every time it trains.\n",
    "        batch = tf.Variable(0)\n",
    "        bn_decay = get_bn_decay(batch)\n",
    "        tf.summary.scalar('bn_decay', bn_decay)\n",
    "\n",
    "        # Get model and loss \n",
    "        pred, end_points = MODEL.get_model(pointclouds_pl, is_training_pl, bn_decay=bn_decay)\n",
    "        loss = MODEL.get_loss(pred, labels_pl, end_points)\n",
    "        tf.summary.scalar('loss', loss)\n",
    "\n",
    "        correct = tf.equal(tf.argmax(pred, 1), tf.to_int64(labels_pl))\n",
    "        accuracy = tf.reduce_sum(tf.cast(correct, tf.float32)) / float(BATCH_SIZE)\n",
    "        tf.summary.scalar('accuracy', accuracy)\n",
    "\n",
    "        # Get training operator\n",
    "        learning_rate = get_learning_rate(batch)\n",
    "        tf.summary.scalar('learning_rate', learning_rate)\n",
    "        if OPTIMIZER == 'momentum':\n",
    "            optimizer = tf.train.MomentumOptimizer(learning_rate, momentum=MOMENTUM)\n",
    "        elif OPTIMIZER == 'adam':\n",
    "            optimizer = tf.train.AdamOptimizer(learning_rate)\n",
    "        train_op = optimizer.minimize(loss, global_step=batch)\n",
    "\n",
    "        # Add ops to save and restore all the variables.\n",
    "        saver = tf.train.Saver()\n",
    "\n",
    "    # Create a session\n",
    "    config = tf.ConfigProto()\n",
    "    config.gpu_options.allow_growth = True\n",
    "    config.allow_soft_placement = True\n",
    "    config.log_device_placement = False\n",
    "    sess = tf.Session(config=config)\n",
    "\n",
    "    # Add summary writers\n",
    "    #merged = tf.merge_all_summaries()\n",
    "    merged = tf.summary.merge_all()\n",
    "\n",
    "    train_writer_path = os.path.abspath('./train')\n",
    "    if os.path.isdir(train_writer_path): os.system('rm -r {}'.format(train_writer_path))\n",
    "    os.mkdir(train_writer_path)\n",
    "        \n",
    "    test_writer_path = os.path.abspath('./test')\n",
    "    if os.path.isdir(test_writer_path): os.system('rm -r {}'.format(test_writer_path))\n",
    "    os.mkdir(test_writer_path)\n",
    "    \n",
    "    \n",
    "    train_writer = tf.summary.FileWriter(train_writer_path, sess.graph)\n",
    "    test_writer = tf.summary.FileWriter(test_writer_path)\n",
    "    \n",
    "    \n",
    "    # Init variables\n",
    "    init = tf.global_variables_initializer()\n",
    "    # To fix the bug introduced in TF 0.12.1 as in\n",
    "    # http://stackoverflow.com/questions/41543774/invalidargumenterror-for-tensor-bool-tensorflow-0-12-1\n",
    "    #sess.run(init)\n",
    "    sess.run(init, {is_training_pl: True})\n",
    "\n",
    "    ops = {'pointclouds_pl': pointclouds_pl,\n",
    "           'labels_pl': labels_pl,\n",
    "           'is_training_pl': is_training_pl,\n",
    "           'pred': pred,\n",
    "           'loss': loss,\n",
    "           'train_op': train_op,\n",
    "           'merged': merged,\n",
    "           'step': batch}\n",
    "    \n",
    "    data_train = np.concatenate(data[:2])\n",
    "    print data_train.shape\n",
    "    label_train = np.concatenate(label[:2])\n",
    "    print label_train.shape\n",
    "        \n",
    "    data_vali = data[1]\n",
    "    label_vali = label[1]\n",
    "    \n",
    "    data_test = data[2]\n",
    "    label_test = label[2]\n",
    "    \n",
    "        \n",
    "    for epoch in range(MAX_EPOCH):\n",
    "        \n",
    "        ## Training\n",
    "        log_string ( \" Train one epoch %3d / %3d\" % (epoch+1, MAX_EPOCH) )\n",
    "        sys.stdout.flush()\n",
    "        \n",
    "        is_training = True\n",
    "        \n",
    "        # Shuffle train files\n",
    "        train_file_idxs = np.arange(0, data_train.shape[0])\n",
    "        np.random.shuffle(train_file_idxs)\n",
    "        \n",
    "        current_data = data_train[train_file_idxs] \n",
    "        current_label = label_train[train_file_idxs]\n",
    "              \n",
    "        ## Evaluation metric\n",
    "        total_correct = 0\n",
    "        total_seen = 0\n",
    "        loss_sum = 0\n",
    "        \n",
    "        total_class = [0 for _ in range(NUM_CLASSES)]\n",
    "        total_detect_class = [0 for _ in range(NUM_CLASSES)]\n",
    "        total_correct_class = [0 for _ in range(NUM_CLASSES)]\n",
    "            \n",
    "        num_batches = current_data.shape[0] // BATCH_SIZE\n",
    "               \n",
    "        for batch_idx in trange(num_batches):\n",
    "            \n",
    "            start_idx = batch_idx * BATCH_SIZE\n",
    "            end_idx = (batch_idx+1) * BATCH_SIZE           \n",
    "\n",
    "            # Augment batched point clouds by rotation and jittering\n",
    "            rotated_data = provider.rotate_point_cloud(current_data[start_idx:end_idx, :, :])\n",
    "            jittered_data = provider.jitter_point_cloud(rotated_data)\n",
    "            \n",
    "            feed_dict = {ops['pointclouds_pl']: jittered_data,\n",
    "                         ops['labels_pl']: current_label[start_idx:end_idx],\n",
    "                         ops['is_training_pl']: is_training,}\n",
    "            \n",
    "            summary, step, _, loss_val, pred_val = sess.run([ops['merged'], ops['step'],\n",
    "                ops['train_op'], ops['loss'], ops['pred']], feed_dict=feed_dict)\n",
    "            \n",
    "            train_writer.add_summary(summary, step)\n",
    "            \n",
    "            pred_val = np.argmax(pred_val, 1)\n",
    "            correct = np.sum(pred_val == current_label[start_idx:end_idx])\n",
    "            total_correct += correct\n",
    "            total_seen += BATCH_SIZE\n",
    "            loss_sum += loss_val\n",
    "            \n",
    "            for i in range(NUM_CLASSES):\n",
    "                total_class[i] = np.sum( np.ones(BATCH_SIZE) * i == current_label[start_idx:end_idx] )\n",
    "                total_detect_class[i] = np.sum( np.ones(BATCH_SIZE) * i == pred_val )\n",
    "                total_correct_class[i] = np.sum( (np.ones(BATCH_SIZE) * i == current_label[start_idx:end_idx]) * \\\n",
    "                                                    (np.ones(BATCH_SIZE) * i == pred_val) )\n",
    "                                \n",
    "        log_string(  '[Epoch %d] mean loss: %f' % \\\n",
    "                   (  epoch, loss_sum / float(total_seen)  )   )\n",
    "        log_string(  '[Epoch %d] accuracy: %f'% \\\n",
    "                   (  epoch, total_correct / float(total_seen)  )   )\n",
    "        log_string(  '[Epoch %d] avg class acc: %f' % \\\n",
    "                   (  epoch, np.mean( np.array(total_correct_class)/np.array(total_class,dtype=np.float) )  )   )\n",
    "        \n",
    "        for i_cls in range(NUM_CLASSES):\n",
    "            log_string(  '[Epoch %d] indivisual [%d] class recall: %f' % \\\n",
    "                       (  epoch, i_cls, float(total_correct_class[i_cls])/float(total_class[i_cls])))    \n",
    "            log_string(  '[Epoch %d] indivisual [%d] class precision: %f' % \\\n",
    "                       (  epoch, i_cls, float(total_correct_class[i_cls])/float(total_detect_class[i_cls])))    \n",
    "\n",
    "\n",
    "        ## Evaluation using validation set    \n",
    "        log_string ( \" Evaluation one (validation set) epoch %3d / %3d\" % (epoch+1, MAX_EPOCH) )\n",
    "        sys.stdout.flush()\n",
    "        \n",
    "        is_training = False\n",
    "        total_correct = 0\n",
    "        total_seen = 0\n",
    "        total_seen_class = [0 for _ in range(NUM_CLASSES)]\n",
    "        total_correct_class = [0 for _ in range(NUM_CLASSES)]\n",
    "        total_detect_class = [0 for _ in range(NUM_CLASSES)]\n",
    "        total_detect_true_class = [0 for _ in range(NUM_CLASSES)]\n",
    "        \n",
    "        # Shuffle validation files\n",
    "        file_idxs = np.arange(0, data_vali.shape[0])\n",
    "        np.random.shuffle(file_idxs)\n",
    "        \n",
    "        current_data = data_vali[file_idxs]\n",
    "        current_label = label_vali[file_idxs]\n",
    "        \n",
    "        num_batches = current_data.shape[0] // BATCH_SIZE\n",
    "               \n",
    "        for batch_idx in trange(num_batches):\n",
    "            start_idx = batch_idx * BATCH_SIZE\n",
    "            end_idx = (batch_idx+1) * BATCH_SIZE\n",
    "\n",
    "            feed_dict = {ops['pointclouds_pl']: current_data[start_idx:end_idx, :, :],\n",
    "                         ops['labels_pl']: current_label[start_idx:end_idx],\n",
    "                         ops['is_training_pl']: is_training}\n",
    "            summary, step, loss_val, pred_val = sess.run([ops['merged'], ops['step'],\n",
    "                ops['loss'], ops['pred']], feed_dict=feed_dict)\n",
    "            \n",
    "            # test_writer.add_summary(summary, step)\n",
    "            \n",
    "            pred_val = np.argmax(pred_val, 1)\n",
    "            correct = np.sum(pred_val == current_label[start_idx:end_idx])\n",
    "            total_correct += correct\n",
    "            total_seen += BATCH_SIZE\n",
    "            \n",
    "            for i in range(NUM_CLASSES):\n",
    "                total_class[i] = np.sum( np.ones(BATCH_SIZE) * i == current_label[start_idx:end_idx] )\n",
    "                total_detect_class[i] = np.sum( np.ones(BATCH_SIZE) * i == pred_val )\n",
    "                total_correct_class[i] = np.sum( (np.ones(BATCH_SIZE) * i == current_label[start_idx:end_idx]) * \\\n",
    "                                                    (np.ones(BATCH_SIZE) * i == pred_val) )\n",
    "                                \n",
    "        log_string(  '[Epoch %d] vali mean loss: %f' % \\\n",
    "                   (  epoch, loss_sum / float(total_seen)  )   )\n",
    "        log_string(  '[Epoch %d] vali accuracy: %f'% \\\n",
    "                   (  epoch, total_correct / float(total_seen)  )   )\n",
    "        log_string(  '[Epoch %d] vali avg class acc: %f' % \\\n",
    "                   (  epoch, np.mean( np.array(total_correct_class) / np.array(total_class) )  )   )\n",
    "        \n",
    "        for i_cls in range(NUM_CLASSES):\n",
    "            log_string(  '[Epoch %d] vali indivisual [%d] class recall: %f' % \\\n",
    "                       (  epoch, i_cls, float(total_correct_class[i_cls])/float(total_class[i_cls])))    \n",
    "            log_string(  '[Epoch %d] vali indivisual [%d] class precision: %f' % \\\n",
    "                       (  epoch, i_cls, float(total_correct_class[i_cls])/float(total_detect_class[i_cls])))    \n",
    "            \n",
    "        ## Evaluation using test set    \n",
    "        log_string ( \" Evaluation one (test set) epoch %3d / %3d\" % (epoch+1, MAX_EPOCH) )\n",
    "        sys.stdout.flush()\n",
    "        \n",
    "        is_training = False\n",
    "        total_correct = 0\n",
    "        total_seen = 0\n",
    "        total_seen_class = [0 for _ in range(NUM_CLASSES)]\n",
    "        total_correct_class = [0 for _ in range(NUM_CLASSES)]\n",
    "        total_detect_class = [0 for _ in range(NUM_CLASSES)]\n",
    "        total_detect_true_class = [0 for _ in range(NUM_CLASSES)]\n",
    "        \n",
    "        # Shuffle test files\n",
    "        file_idxs = np.arange(0, data_test.shape[0])\n",
    "        np.random.shuffle(file_idxs)\n",
    "        \n",
    "        current_data = data_test[file_idxs]\n",
    "        current_label = label_test[file_idxs]\n",
    "        \n",
    "        \n",
    "        num_batches = current_data.shape[0] // BATCH_SIZE\n",
    "               \n",
    "        for batch_idx in trange(num_batches):\n",
    "            start_idx = batch_idx * BATCH_SIZE\n",
    "            end_idx = (batch_idx+1) * BATCH_SIZE\n",
    "\n",
    "            feed_dict = {ops['pointclouds_pl']: current_data[start_idx:end_idx, :, :],\n",
    "                         ops['labels_pl']: current_label[start_idx:end_idx],\n",
    "                         ops['is_training_pl']: is_training}\n",
    "            summary, step, loss_val, pred_val = sess.run([ops['merged'], ops['step'],\n",
    "                ops['loss'], ops['pred']], feed_dict=feed_dict)\n",
    "            \n",
    "            test_writer.add_summary(summary, step)\n",
    "            \n",
    "            pred_val = np.argmax(pred_val, 1)\n",
    "            correct = np.sum(pred_val == current_label[start_idx:end_idx])\n",
    "            total_correct += correct\n",
    "            total_seen += BATCH_SIZE\n",
    "            \n",
    "            for i in range(NUM_CLASSES):\n",
    "                total_class[i] = np.sum( np.ones(BATCH_SIZE) * i == current_label[start_idx:end_idx] )\n",
    "                total_detect_class[i] = np.sum( np.ones(BATCH_SIZE) * i == pred_val )\n",
    "                total_correct_class[i] = np.sum( (np.ones(BATCH_SIZE) * i == current_label[start_idx:end_idx]) * \\\n",
    "                                                    (np.ones(BATCH_SIZE) * i == pred_val) )\n",
    "                                \n",
    "        log_string(  '[Epoch %d] test mean loss: %f' % \\\n",
    "                   (  epoch, loss_sum / float(total_seen)  )   )\n",
    "        log_string(  '[Epoch %d] test accuracy: %f'% \\\n",
    "                   (  epoch, total_correct / float(total_seen)  )   )\n",
    "        log_string(  '[Epoch %d] test avg class acc: %f' % \\\n",
    "                   (  epoch, np.mean( np.array(total_correct_class)/np.array(total_class,dtype=np.float) )  )   )\n",
    "        \n",
    "        for i_cls in range(NUM_CLASSES):\n",
    "            log_string(  '[Epoch %d] test indivisual [%d] class recall: %f' % \\\n",
    "                       (  epoch, i_cls, float(total_correct_class[i_cls])/float(total_class[i_cls])))    \n",
    "            log_string(  '[Epoch %d] test indivisual [%d] class precision: %f' % \\\n",
    "                       (  epoch, i_cls, float(total_correct_class[i_cls])/float(total_detect_class[i_cls])))    \n",
    " \n",
    "        # Save the variables to disk.\n",
    "        if ( epoch + 1 ) % 10 == 0:\n",
    "            save_path = saver.save(sess, os.path.join(model_save_path, \"model.ckpt\"))\n",
    "            log_string(\"Model saved in file: %s\" % save_path)\n",
    "                "
   ]
  },
  {
   "cell_type": "code",
   "execution_count": null,
   "metadata": {},
   "outputs": [],
   "source": []
  }
 ],
 "metadata": {
  "kernelspec": {
   "display_name": "Python 2",
   "language": "python",
   "name": "python2"
  },
  "language_info": {
   "codemirror_mode": {
    "name": "ipython",
    "version": 2
   },
   "file_extension": ".py",
   "mimetype": "text/x-python",
   "name": "python",
   "nbconvert_exporter": "python",
   "pygments_lexer": "ipython2",
   "version": "2.7.12"
  }
 },
 "nbformat": 4,
 "nbformat_minor": 2
}
