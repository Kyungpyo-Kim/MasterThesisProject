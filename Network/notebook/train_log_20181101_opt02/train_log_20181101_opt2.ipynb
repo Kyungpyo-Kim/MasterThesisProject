{
 "cells": [
  {
   "cell_type": "markdown",
   "metadata": {},
   "source": [
    "# Train Log 20181101\n",
    "\n",
    "## Results\n",
    "```\n",
    "2018-11-01 10:44:22.441958   Train one epoch  10 /  10\n",
    "\n",
    "\n",
    "100%|██████████| 1679/1679 [19:04<00:00,  1.47it/s]\n",
    "\n",
    "2018-11-01 11:03:28.020728  [Epoch 9] mean loss: 0.000088\n",
    "2018-11-01 11:03:28.021146  [Epoch 9] accuracy: 0.992577\n",
    "2018-11-01 11:03:28.021821  [Epoch 9] avg class acc: 0.996429\n",
    "2018-11-01 11:03:28.022169  [Epoch 9] indivisual [0] class recall: 0.982143\n",
    "2018-11-01 11:03:28.022478  [Epoch 9] indivisual [0] class precision: 1.000000\n",
    "2018-11-01 11:03:28.022651  [Epoch 9] indivisual [1] class recall: 1.000000\n",
    "2018-11-01 11:03:28.022808  [Epoch 9] indivisual [1] class precision: 0.986111\n",
    "2018-11-01 11:03:28.023295  [Epoch 9] indivisual [2] class recall: 1.000000\n",
    "2018-11-01 11:03:28.023833  [Epoch 9] indivisual [2] class precision: 1.000000\n",
    "2018-11-01 11:03:28.023938  [Epoch 9] indivisual [3] class recall: 1.000000\n",
    "2018-11-01 11:03:28.024204  [Epoch 9] indivisual [3] class precision: 0.944444\n",
    "2018-11-01 11:03:28.024369  [Epoch 9] indivisual [4] class recall: 1.000000\n",
    "2018-11-01 11:03:28.024676  [Epoch 9] indivisual [4] class precision: 1.000000\n",
    "2018-11-01 11:03:28.024837   Evaluation one (validation set) epoch  10 /  10\n",
    "\n",
    "\n",
    "100%|██████████| 419/419 [01:07<00:00,  6.23it/s]\n",
    "\n",
    "2018-11-01 11:04:35.801793  [Epoch 9] vali mean loss: 0.000355\n",
    "2018-11-01 11:04:35.802525  [Epoch 9] vali accuracy: 0.998568\n",
    "2018-11-01 11:04:35.803177  [Epoch 9] vali avg class acc: 1.000000\n",
    "2018-11-01 11:04:35.803497  [Epoch 9] vali indivisual [0] class recall: 1.000000\n",
    "2018-11-01 11:04:35.803647  [Epoch 9] vali indivisual [0] class precision: 1.000000\n",
    "2018-11-01 11:04:35.804146  [Epoch 9] vali indivisual [1] class recall: 1.000000\n",
    "2018-11-01 11:04:35.804525  [Epoch 9] vali indivisual [1] class precision: 1.000000\n",
    "2018-11-01 11:04:35.804666  [Epoch 9] vali indivisual [2] class recall: 1.000000\n",
    "2018-11-01 11:04:35.804924  [Epoch 9] vali indivisual [2] class precision: 1.000000\n",
    "2018-11-01 11:04:35.805266  [Epoch 9] vali indivisual [3] class recall: 1.000000\n",
    "2018-11-01 11:04:35.805543  [Epoch 9] vali indivisual [3] class precision: 1.000000\n",
    "2018-11-01 11:04:35.805909  [Epoch 9] vali indivisual [4] class recall: 1.000000\n",
    "2018-11-01 11:04:35.806045  [Epoch 9] vali indivisual [4] class precision: 1.000000\n",
    "2018-11-01 11:04:35.806368   Evaluation one (test set) epoch  10 /  10\n",
    "\n",
    "\n",
    "100%|██████████| 419/419 [01:07<00:00,  6.17it/s]\n",
    "\n",
    "2018-11-01 11:05:44.131975  [Epoch 9] test mean loss: 0.000355\n",
    "2018-11-01 11:05:44.132336  [Epoch 9] test accuracy: 0.998368\n",
    "2018-11-01 11:05:44.132984  [Epoch 9] test avg class acc: 0.996581\n",
    "2018-11-01 11:05:44.133280  [Epoch 9] test indivisual [0] class recall: 0.982906\n",
    "2018-11-01 11:05:44.133873  [Epoch 9] test indivisual [0] class precision: 1.000000\n",
    "2018-11-01 11:05:44.134143  [Epoch 9] test indivisual [1] class recall: 1.000000\n",
    "2018-11-01 11:05:44.134341  [Epoch 9] test indivisual [1] class precision: 1.000000\n",
    "2018-11-01 11:05:44.134591  [Epoch 9] test indivisual [2] class recall: 1.000000\n",
    "2018-11-01 11:05:44.135001  [Epoch 9] test indivisual [2] class precision: 1.000000\n",
    "2018-11-01 11:05:44.135155  [Epoch 9] test indivisual [3] class recall: 1.000000\n",
    "2018-11-01 11:05:44.135470  [Epoch 9] test indivisual [3] class precision: 1.000000\n",
    "2018-11-01 11:05:44.135786  [Epoch 9] test indivisual [4] class recall: 1.000000\n",
    "2018-11-01 11:05:44.136011  [Epoch 9] test indivisual [4] class precision: 0.937500\n",
    "2018-11-01 11:05:44.865462  Model saved in file: /home/gozilla/kyungpyo/git/MasterThesisProject/Network/notebook/train_log_20181101_opt02/model/model.ckpt\n",
    "\n",
    "```\n",
    "\n",
    "## Trained model\n",
    "* [Download link](https://drive.google.com/open?id=1dLci2fhAG7IBA2TdYFBYygSZ1-FQ5r3G)\n",
    "\n",
    "## Evaluation\n",
    "* Incorrect sample\n",
    "![results]()"
   ]
  },
  {
   "cell_type": "code",
   "execution_count": 1,
   "metadata": {},
   "outputs": [],
   "source": [
    "import os, sys\n",
    "import numpy as np\n",
    "import matplotlib.pyplot as plt\n",
    "import time , datetime\n",
    "\n",
    "sys.path.append( os.path.abspath('../../../Dataset/scripts'))\n",
    "from utils import *\n",
    "\n",
    "sys.path.append( os.path.abspath('../../model') )\n",
    "from train import *\n",
    "import model_opt2 as MODEL"
   ]
  },
  {
   "cell_type": "code",
   "execution_count": 2,
   "metadata": {},
   "outputs": [],
   "source": [
    "\"\"\" Path \"\"\"\n",
    "\n",
    "data_train_path_list = []\n",
    "data_test_path_list = []\n",
    "data_vali_path_list = []\n",
    "\n",
    "data_train_path = os.path.abspath('../../../Dataset/dataset/db_aug_v4_20181031_ndb_aug_v2_20181020/train.h5')\n",
    "data_test_path = os.path.abspath('../../../Dataset/dataset/db_aug_v4_20181031_ndb_aug_v2_20181020/test.h5')\n",
    "data_vali_path = os.path.abspath('../../../Dataset/dataset/db_aug_v4_20181031_ndb_aug_v2_20181020/vali.h5')\n",
    "data_train_path_list.append(data_train_path)\n",
    "data_test_path_list.append(data_test_path)\n",
    "data_vali_path_list.append(data_vali_path)\n",
    "\n",
    "data_train_path = os.path.abspath('../../../Dataset/dataset/db_aug_v4_v_500_20181031_ndb_aug_v2_20181020/train.h5')\n",
    "data_test_path = os.path.abspath('../../../Dataset/dataset/db_aug_v4_v_500_20181031_ndb_aug_v2_20181020/test.h5')\n",
    "data_vali_path = os.path.abspath('../../../Dataset/dataset/db_aug_v4_v_500_20181031_ndb_aug_v2_20181020/vali.h5')\n",
    "data_train_path_list.append(data_train_path)\n",
    "data_test_path_list.append(data_test_path)\n",
    "data_vali_path_list.append(data_vali_path)\n",
    "\n",
    "data_train_path = os.path.abspath('../../../Dataset/dataset/db_aug_v4_v_400_20181031_ndb_aug_v2_20181020/train.h5')\n",
    "data_test_path = os.path.abspath('../../../Dataset/dataset/db_aug_v4_v_400_20181031_ndb_aug_v2_20181020/test.h5')\n",
    "data_vali_path = os.path.abspath('../../../Dataset/dataset/db_aug_v4_v_400_20181031_ndb_aug_v2_20181020/vali.h5')\n",
    "data_train_path_list.append(data_train_path)\n",
    "data_test_path_list.append(data_test_path)\n",
    "data_vali_path_list.append(data_vali_path)\n",
    "\n",
    "data_train_path = os.path.abspath('../../../Dataset/dataset/db_aug_v4_v_300_20181031_ndb_aug_v2_20181020/train.h5')\n",
    "data_test_path = os.path.abspath('../../../Dataset/dataset/db_aug_v4_v_300_20181031_ndb_aug_v2_20181020/test.h5')\n",
    "data_vali_path = os.path.abspath('../../../Dataset/dataset/db_aug_v4_v_300_20181031_ndb_aug_v2_20181020/vali.h5')\n",
    "data_train_path_list.append(data_train_path)\n",
    "data_test_path_list.append(data_test_path)\n",
    "data_vali_path_list.append(data_vali_path)\n",
    "\n",
    "data_train_path = os.path.abspath('../../../Dataset/dataset/db_aug_v4_v_200_20181031_ndb_aug_v2_20181020/train.h5')\n",
    "data_test_path = os.path.abspath('../../../Dataset/dataset/db_aug_v4_v_200_20181031_ndb_aug_v2_20181020/test.h5')\n",
    "data_vali_path = os.path.abspath('../../../Dataset/dataset/db_aug_v4_v_200_20181031_ndb_aug_v2_20181020/vali.h5')\n",
    "data_train_path_list.append(data_train_path)\n",
    "data_test_path_list.append(data_test_path)\n",
    "data_vali_path_list.append(data_vali_path)\n",
    "\n",
    "data_train_path = os.path.abspath('../../../Dataset/dataset/db_aug_v4_v_100_20181031_ndb_aug_v2_20181020/train.h5')\n",
    "data_test_path = os.path.abspath('../../../Dataset/dataset/db_aug_v4_v_100_20181031_ndb_aug_v2_20181020/test.h5')\n",
    "data_vali_path = os.path.abspath('../../../Dataset/dataset/db_aug_v4_v_100_20181031_ndb_aug_v2_20181020/vali.h5')\n",
    "data_train_path_list.append(data_train_path)\n",
    "data_test_path_list.append(data_test_path)\n",
    "data_vali_path_list.append(data_vali_path)\n",
    "\n",
    "\n",
    "\n",
    "log_path = os.path.abspath('./train_log_20181101.txt')\n",
    "\n",
    "model_save_path = os.path.abspath('./model')\n",
    "if not os.path.isdir(model_save_path) : os.mkdir(model_save_path)\n",
    "\n",
    "\"\"\" Parameters \"\"\"\n",
    "GPU_INDEX = 0\n",
    "NUM_POINT = 256\n",
    "NUM_CLASSES = 5\n",
    "\n",
    "BN_INIT_DECAY = 0.5\n",
    "BN_DECAY_DECAY_RATE = 0.5\n",
    "BN_DECAY_DECAY_STEP = float(200000)\n",
    "BN_DECAY_CLIP = 0.99\n",
    "DECAY_STEP = BN_DECAY_DECAY_STEP\n",
    "DECAY_RATE = BN_DECAY_DECAY_RATE\n",
    "\n",
    "BATCH_SIZE = 250\n",
    "\n",
    "MOMENTUM = 0.9\n",
    "\n",
    "BASE_LEARNING_RATE = 0.001\n",
    "\n",
    "OPTIMIZER = 'adam'\n",
    "\n",
    "MAX_EPOCH = 10"
   ]
  },
  {
   "cell_type": "code",
   "execution_count": 3,
   "metadata": {},
   "outputs": [
    {
     "data": {
      "image/png": "[encoded data removed]",
      "text/plain": [
       "<Figure size 1080x360 with 1 Axes>"
      ]
     },
     "metadata": {
      "needs_background": "light"
     },
     "output_type": "display_data"
    }
   ],
   "source": [
    "\"\"\" Load dataset\"\"\"\n",
    "\n",
    "data = []\n",
    "label = []\n",
    "\n",
    "data_train, label_train = load_h5(data_train_path_list[0])\n",
    "data_vali, label_vali = load_h5(data_vali_path_list[0])\n",
    "data_test, label_test = load_h5(data_test_path_list[0])\n",
    "    \n",
    "for i in range( 1, len(data_train_path_list) ):\n",
    "\n",
    "    d_train, l_train = load_h5(data_train_path_list[i])\n",
    "    d_vali, l_vali = load_h5(data_vali_path_list[i])\n",
    "    d_test, l_test = load_h5(data_test_path_list[i])\n",
    "    \n",
    "    data_train = np.concatenate( (data_train, d_train), axis = 0 )\n",
    "    data_vali = np.concatenate( (data_vali, d_vali), axis = 0 )\n",
    "    data_test = np.concatenate( (data_test, d_test), axis = 0 )\n",
    "    \n",
    "    label_train = np.concatenate( (label_train, l_train), axis = 0 )\n",
    "    label_vali = np.concatenate( (label_vali, l_vali), axis = 0 )\n",
    "    label_test = np.concatenate( (label_test, l_test), axis = 0 )\n",
    "    \n",
    "\n",
    "data.append(data_train)\n",
    "data.append(data_vali)\n",
    "data.append(data_test)\n",
    "\n",
    "label.append(label_train)\n",
    "label.append(label_vali)\n",
    "label.append(label_test)\n",
    "\n",
    "\"\"\" Data statistics \"\"\"\n",
    "\n",
    "label_list = [0,1,2,3,4]\n",
    "\n",
    "y_val = []\n",
    "for i in range( len ( data) ):\n",
    "    for j in range ( len ( label_list ) ):\n",
    "        y_val.append(np.sum(label[i] == label_list[j]))\n",
    "\n",
    "x_name=('unknown-train', 'cars-train', 'trucks-train', 'pedestrian-train', 'bike-train',\n",
    "        'unknown-test', 'cars-test', 'trucks-test', 'pedestrian-test', 'bike-test',\n",
    "        'unknown-vali', 'cars-vali', 'trucks-vali', 'pedestrian-vali', 'bike-vali')\n",
    "\n",
    "index = range( len(x_name) )\n",
    "\n",
    "plt.figure(figsize=(15,5))\n",
    "plt.bar(index, y_val, tick_label=x_name, align='center')\n",
    "plt.ylabel('Number of dataset')\n",
    "plt.title('Label distribution')\n",
    "plt.xlim( -1, len(x_name))\n",
    "plt.ylim( 0, np.max(y_val) * 1.1 )\n",
    "plt.show()"
   ]
  },
  {
   "cell_type": "code",
   "execution_count": 4,
   "metadata": {},
   "outputs": [
    {
     "name": "stdout",
     "output_type": "stream",
     "text": [
      "Tensor(\"Placeholder_2:0\", shape=(), dtype=bool, device=/device:GPU:0)\n",
      "INFO:tensorflow:Summary name classify loss is illegal; using classify_loss instead.\n",
      "INFO:tensorflow:Summary name mat loss is illegal; using mat_loss instead.\n",
      "(419904, 256, 3)\n",
      "(419904,)\n",
      "2018-11-01 07:32:16.589991   Train one epoch   1 /  10\n"
     ]
    },
    {
     "name": "stderr",
     "output_type": "stream",
     "text": [
      "100%|██████████| 1679/1679 [19:20<00:00,  1.45it/s]"
     ]
    },
    {
     "name": "stdout",
     "output_type": "stream",
     "text": [
      "2018-11-01 07:51:38.342381  [Epoch 0] mean loss: 0.001629\n",
      "2018-11-01 07:51:38.342903  [Epoch 0] accuracy: 0.858244\n",
      "2018-11-01 07:51:38.343598  [Epoch 0] avg class acc: 0.952655\n",
      "2018-11-01 07:51:38.343981  [Epoch 0] indivisual [0] class recall: 0.954128\n",
      "2018-11-01 07:51:38.344335  [Epoch 0] indivisual [0] class precision: 0.954128\n",
      "2018-11-01 07:51:38.344776  [Epoch 0] indivisual [1] class recall: 0.986486\n",
      "2018-11-01 07:51:38.345141  [Epoch 0] indivisual [1] class precision: 0.973333\n",
      "2018-11-01 07:51:38.345241  [Epoch 0] indivisual [2] class recall: 0.857143\n",
      "2018-11-01 07:51:38.345506  [Epoch 0] indivisual [2] class precision: 0.857143\n",
      "2018-11-01 07:51:38.345780  [Epoch 0] indivisual [3] class recall: 1.000000\n",
      "2018-11-01 07:51:38.345904  [Epoch 0] indivisual [3] class precision: 1.000000\n",
      "2018-11-01 07:51:38.346119  [Epoch 0] indivisual [4] class recall: 0.965517\n",
      "2018-11-01 07:51:38.346336  [Epoch 0] indivisual [4] class precision: 1.000000\n",
      "2018-11-01 07:51:38.346811   Evaluation one (validation set) epoch   1 /  10\n"
     ]
    },
    {
     "name": "stderr",
     "output_type": "stream",
     "text": [
      "\n",
      "100%|██████████| 419/419 [01:07<00:00,  6.25it/s]"
     ]
    },
    {
     "name": "stdout",
     "output_type": "stream",
     "text": [
      "2018-11-01 07:52:45.960015  [Epoch 0] vali mean loss: 0.006527\n",
      "2018-11-01 07:52:45.960355  [Epoch 0] vali accuracy: 0.967064\n",
      "2018-11-01 07:52:45.960902  [Epoch 0] vali avg class acc: 0.800000\n",
      "2018-11-01 07:52:45.961570  [Epoch 0] vali indivisual [0] class recall: 0.956140\n",
      "2018-11-01 07:52:45.961744  [Epoch 0] vali indivisual [0] class precision: 1.000000\n",
      "2018-11-01 07:52:45.962004  [Epoch 0] vali indivisual [1] class recall: 1.000000\n",
      "2018-11-01 07:52:45.962288  [Epoch 0] vali indivisual [1] class precision: 0.957143\n",
      "2018-11-01 07:52:45.962627  [Epoch 0] vali indivisual [2] class recall: 1.000000\n",
      "2018-11-01 07:52:45.962991  [Epoch 0] vali indivisual [2] class precision: 0.958333\n",
      "2018-11-01 07:52:45.963120  [Epoch 0] vali indivisual [3] class recall: 1.000000\n",
      "2018-11-01 07:52:45.963461  [Epoch 0] vali indivisual [3] class precision: 1.000000\n",
      "2018-11-01 07:52:45.963722  [Epoch 0] vali indivisual [4] class recall: 1.000000\n",
      "2018-11-01 07:52:45.963855  [Epoch 0] vali indivisual [4] class precision: 0.968750\n",
      "2018-11-01 07:52:45.964090   Evaluation one (test set) epoch   1 /  10\n"
     ]
    },
    {
     "name": "stderr",
     "output_type": "stream",
     "text": [
      "\n",
      "100%|██████████| 419/419 [01:07<00:00,  6.25it/s]"
     ]
    },
    {
     "name": "stdout",
     "output_type": "stream",
     "text": [
      "2018-11-01 07:53:53.440591  [Epoch 0] test mean loss: 0.006527\n",
      "2018-11-01 07:53:53.441636  [Epoch 0] test accuracy: 0.967399\n",
      "2018-11-01 07:53:53.442081  [Epoch 0] test avg class acc: 0.986916\n",
      "2018-11-01 07:53:53.442279  [Epoch 0] test indivisual [0] class recall: 0.934579\n",
      "2018-11-01 07:53:53.442513  [Epoch 0] test indivisual [0] class precision: 1.000000\n",
      "2018-11-01 07:53:53.442910  [Epoch 0] test indivisual [1] class recall: 1.000000\n",
      "2018-11-01 07:53:53.443224  [Epoch 0] test indivisual [1] class precision: 0.971831\n",
      "2018-11-01 07:53:53.443428  [Epoch 0] test indivisual [2] class recall: 1.000000\n",
      "2018-11-01 07:53:53.443608  [Epoch 0] test indivisual [2] class precision: 0.928571\n",
      "2018-11-01 07:53:53.443980  [Epoch 0] test indivisual [3] class recall: 1.000000\n",
      "2018-11-01 07:53:53.444067  [Epoch 0] test indivisual [3] class precision: 0.888889\n",
      "2018-11-01 07:53:53.444463  [Epoch 0] test indivisual [4] class recall: 1.000000\n",
      "2018-11-01 07:53:53.444806  [Epoch 0] test indivisual [4] class precision: 0.964286\n",
      "2018-11-01 07:53:53.445022   Train one epoch   2 /  10\n"
     ]
    },
    {
     "name": "stderr",
     "output_type": "stream",
     "text": [
      "\n",
      "100%|██████████| 1679/1679 [19:02<00:00,  1.47it/s]"
     ]
    },
    {
     "name": "stdout",
     "output_type": "stream",
     "text": [
      "2018-11-01 08:12:57.154863  [Epoch 1] mean loss: 0.000317\n",
      "2018-11-01 08:12:57.155909  [Epoch 1] accuracy: 0.972407\n",
      "2018-11-01 08:12:57.156481  [Epoch 1] avg class acc: 0.963929\n",
      "2018-11-01 08:12:57.156854  [Epoch 1] indivisual [0] class recall: 0.991071\n",
      "2018-11-01 08:12:57.157250  [Epoch 1] indivisual [0] class precision: 0.948718\n",
      "2018-11-01 08:12:57.157520  [Epoch 1] indivisual [1] class recall: 1.000000\n",
      "2018-11-01 08:12:57.157726  [Epoch 1] indivisual [1] class precision: 1.000000\n",
      "2018-11-01 08:12:57.157922  [Epoch 1] indivisual [2] class recall: 0.828571\n",
      "2018-11-01 08:12:57.158043  [Epoch 1] indivisual [2] class precision: 0.966667\n",
      "2018-11-01 08:12:57.158433  [Epoch 1] indivisual [3] class recall: 1.000000\n",
      "2018-11-01 08:12:57.158813  [Epoch 1] indivisual [3] class precision: 1.000000\n",
      "2018-11-01 08:12:57.158905  [Epoch 1] indivisual [4] class recall: 1.000000\n",
      "2018-11-01 08:12:57.159019  [Epoch 1] indivisual [4] class precision: 1.000000\n",
      "2018-11-01 08:12:57.159517   Evaluation one (validation set) epoch   2 /  10\n"
     ]
    },
    {
     "name": "stderr",
     "output_type": "stream",
     "text": [
      "\n",
      "100%|██████████| 419/419 [01:06<00:00,  6.26it/s]"
     ]
    },
    {
     "name": "stdout",
     "output_type": "stream",
     "text": [
      "2018-11-01 08:14:04.589940  [Epoch 1] vali mean loss: 0.001270\n",
      "2018-11-01 08:14:04.590563  [Epoch 1] vali accuracy: 0.992067\n",
      "2018-11-01 08:14:04.591271  [Epoch 1] vali avg class acc: 0.600000\n",
      "2018-11-01 08:14:04.591594  [Epoch 1] vali indivisual [0] class recall: 0.991304\n",
      "2018-11-01 08:14:04.591983  [Epoch 1] vali indivisual [0] class precision: 0.982759\n",
      "2018-11-01 08:14:04.592272  [Epoch 1] vali indivisual [1] class recall: 1.000000\n",
      "2018-11-01 08:14:04.592706  [Epoch 1] vali indivisual [1] class precision: 1.000000\n",
      "2018-11-01 08:14:04.592972  [Epoch 1] vali indivisual [2] class recall: 0.944444\n",
      "2018-11-01 08:14:04.593079  [Epoch 1] vali indivisual [2] class precision: 0.971429\n",
      "2018-11-01 08:14:04.593346  [Epoch 1] vali indivisual [3] class recall: 1.000000\n",
      "2018-11-01 08:14:04.593551  [Epoch 1] vali indivisual [3] class precision: 1.000000\n",
      "2018-11-01 08:14:04.593703  [Epoch 1] vali indivisual [4] class recall: 1.000000\n",
      "2018-11-01 08:14:04.594054  [Epoch 1] vali indivisual [4] class precision: 1.000000\n",
      "2018-11-01 08:14:04.594294   Evaluation one (test set) epoch   2 /  10\n"
     ]
    },
    {
     "name": "stderr",
     "output_type": "stream",
     "text": [
      "\n",
      "100%|██████████| 419/419 [01:07<00:00,  6.22it/s]"
     ]
    },
    {
     "name": "stdout",
     "output_type": "stream",
     "text": [
      "2018-11-01 08:15:12.381534  [Epoch 1] test mean loss: 0.001270\n",
      "2018-11-01 08:15:12.382154  [Epoch 1] test accuracy: 0.991971\n",
      "2018-11-01 08:15:12.382793  [Epoch 1] test avg class acc: 0.998198\n",
      "2018-11-01 08:15:12.383113  [Epoch 1] test indivisual [0] class recall: 0.990991\n",
      "2018-11-01 08:15:12.383362  [Epoch 1] test indivisual [0] class precision: 1.000000\n",
      "2018-11-01 08:15:12.383467  [Epoch 1] test indivisual [1] class recall: 1.000000\n",
      "2018-11-01 08:15:12.383724  [Epoch 1] test indivisual [1] class precision: 1.000000\n",
      "2018-11-01 08:15:12.384070  [Epoch 1] test indivisual [2] class recall: 1.000000\n",
      "2018-11-01 08:15:12.384342  [Epoch 1] test indivisual [2] class precision: 0.967742\n",
      "2018-11-01 08:15:12.384573  [Epoch 1] test indivisual [3] class recall: 1.000000\n",
      "2018-11-01 08:15:12.384671  [Epoch 1] test indivisual [3] class precision: 1.000000\n",
      "2018-11-01 08:15:12.384854  [Epoch 1] test indivisual [4] class recall: 1.000000\n",
      "2018-11-01 08:15:12.384955  [Epoch 1] test indivisual [4] class precision: 1.000000\n",
      "2018-11-01 08:15:12.385056   Train one epoch   3 /  10\n"
     ]
    },
    {
     "name": "stderr",
     "output_type": "stream",
     "text": [
      "\n",
      "100%|██████████| 1679/1679 [19:05<00:00,  1.47it/s]"
     ]
    },
    {
     "name": "stdout",
     "output_type": "stream",
     "text": [
      "2018-11-01 08:34:19.082676  [Epoch 2] mean loss: 0.000164\n",
      "2018-11-01 08:34:19.083282  [Epoch 2] accuracy: 0.986135\n",
      "2018-11-01 08:34:19.084005  [Epoch 2] avg class acc: 0.983714\n",
      "2018-11-01 08:34:19.084359  [Epoch 2] indivisual [0] class recall: 0.990000\n",
      "2018-11-01 08:34:19.084799  [Epoch 2] indivisual [0] class precision: 0.980198\n",
      "2018-11-01 08:34:19.085109  [Epoch 2] indivisual [1] class recall: 1.000000\n",
      "2018-11-01 08:34:19.085208  [Epoch 2] indivisual [1] class precision: 1.000000\n",
      "2018-11-01 08:34:19.085474  [Epoch 2] indivisual [2] class recall: 0.928571\n",
      "2018-11-01 08:34:19.085738  [Epoch 2] indivisual [2] class precision: 0.962963\n",
      "2018-11-01 08:34:19.086144  [Epoch 2] indivisual [3] class recall: 1.000000\n",
      "2018-11-01 08:34:19.086237  [Epoch 2] indivisual [3] class precision: 1.000000\n",
      "2018-11-01 08:34:19.086486  [Epoch 2] indivisual [4] class recall: 1.000000\n",
      "2018-11-01 08:34:19.086737  [Epoch 2] indivisual [4] class precision: 1.000000\n",
      "2018-11-01 08:34:19.086937   Evaluation one (validation set) epoch   3 /  10\n"
     ]
    },
    {
     "name": "stderr",
     "output_type": "stream",
     "text": [
      "\n",
      "100%|██████████| 419/419 [01:07<00:00,  6.25it/s]"
     ]
    },
    {
     "name": "stdout",
     "output_type": "stream",
     "text": [
      "2018-11-01 08:35:26.609878  [Epoch 2] vali mean loss: 0.000656\n",
      "2018-11-01 08:35:26.610783  [Epoch 2] vali accuracy: 0.995704\n",
      "2018-11-01 08:35:26.611285  [Epoch 2] vali avg class acc: 0.600000\n",
      "2018-11-01 08:35:26.611506  [Epoch 2] vali indivisual [0] class recall: 0.981651\n",
      "2018-11-01 08:35:26.611776  [Epoch 2] vali indivisual [0] class precision: 0.990741\n",
      "2018-11-01 08:35:26.612049  [Epoch 2] vali indivisual [1] class recall: 1.000000\n",
      "2018-11-01 08:35:26.612257  [Epoch 2] vali indivisual [1] class precision: 1.000000\n",
      "2018-11-01 08:35:26.612594  [Epoch 2] vali indivisual [2] class recall: 0.969697\n",
      "2018-11-01 08:35:26.613024  [Epoch 2] vali indivisual [2] class precision: 1.000000\n",
      "2018-11-01 08:35:26.613294  [Epoch 2] vali indivisual [3] class recall: 1.000000\n",
      "2018-11-01 08:35:26.613709  [Epoch 2] vali indivisual [3] class precision: 0.882353\n",
      "2018-11-01 08:35:26.613815  [Epoch 2] vali indivisual [4] class recall: 1.000000\n",
      "2018-11-01 08:35:26.614081  [Epoch 2] vali indivisual [4] class precision: 1.000000\n",
      "2018-11-01 08:35:26.614349   Evaluation one (test set) epoch   3 /  10\n"
     ]
    },
    {
     "name": "stderr",
     "output_type": "stream",
     "text": [
      "\n",
      "100%|██████████| 419/419 [01:07<00:00,  6.24it/s]\n"
     ]
    },
    {
     "name": "stdout",
     "output_type": "stream",
     "text": [
      "2018-11-01 08:36:34.238276  [Epoch 2] test mean loss: 0.000656\n",
      "2018-11-01 08:36:34.238779  [Epoch 2] test accuracy: 0.995580\n",
      "2018-11-01 08:36:34.240984  [Epoch 2] test avg class acc: 0.988850\n",
      "2018-11-01 08:36:34.241899  [Epoch 2] test indivisual [0] class recall: 0.991870\n",
      "2018-11-01 08:36:34.242172  [Epoch 2] test indivisual [0] class precision: 0.991870\n",
      "2018-11-01 08:36:34.242466  [Epoch 2] test indivisual [1] class recall: 1.000000\n",
      "2018-11-01 08:36:34.242809  [Epoch 2] test indivisual [1] class precision: 1.000000\n",
      "2018-11-01 08:36:34.243111  [Epoch 2] test indivisual [2] class recall: 0.952381\n",
      "2018-11-01 08:36:34.243568  [Epoch 2] test indivisual [2] class precision: 0.952381\n",
      "2018-11-01 08:36:34.243703  [Epoch 2] test indivisual [3] class recall: 1.000000\n",
      "2018-11-01 08:36:34.243833  [Epoch 2] test indivisual [3] class precision: 1.000000\n",
      "2018-11-01 08:36:34.244070  [Epoch 2] test indivisual [4] class recall: 1.000000\n",
      "2018-11-01 08:36:34.244237  [Epoch 2] test indivisual [4] class precision: 1.000000\n",
      "2018-11-01 08:36:34.244988   Train one epoch   4 /  10\n"
     ]
    },
    {
     "name": "stderr",
     "output_type": "stream",
     "text": [
      "100%|██████████| 1679/1679 [19:04<00:00,  1.47it/s]"
     ]
    },
    {
     "name": "stdout",
     "output_type": "stream",
     "text": [
      "2018-11-01 08:55:40.167817  [Epoch 3] mean loss: 0.000126\n",
      "2018-11-01 08:55:40.168485  [Epoch 3] accuracy: 0.989427\n",
      "2018-11-01 08:55:40.169175  [Epoch 3] avg class acc: 0.998182\n",
      "2018-11-01 08:55:40.169503  [Epoch 3] indivisual [0] class recall: 0.990909\n",
      "2018-11-01 08:55:40.169802  [Epoch 3] indivisual [0] class precision: 1.000000\n",
      "2018-11-01 08:55:40.169946  [Epoch 3] indivisual [1] class recall: 1.000000\n",
      "2018-11-01 08:55:40.170171  [Epoch 3] indivisual [1] class precision: 0.985714\n",
      "2018-11-01 08:55:40.170457  [Epoch 3] indivisual [2] class recall: 1.000000\n",
      "2018-11-01 08:55:40.170578  [Epoch 3] indivisual [2] class precision: 1.000000\n",
      "2018-11-01 08:55:40.171144  [Epoch 3] indivisual [3] class recall: 1.000000\n",
      "2018-11-01 08:55:40.171417  [Epoch 3] indivisual [3] class precision: 1.000000\n",
      "2018-11-01 08:55:40.171545  [Epoch 3] indivisual [4] class recall: 1.000000\n",
      "2018-11-01 08:55:40.172112  [Epoch 3] indivisual [4] class precision: 1.000000\n",
      "2018-11-01 08:55:40.172371   Evaluation one (validation set) epoch   4 /  10\n"
     ]
    },
    {
     "name": "stderr",
     "output_type": "stream",
     "text": [
      "\n",
      "100%|██████████| 419/419 [01:06<00:00,  6.26it/s]"
     ]
    },
    {
     "name": "stdout",
     "output_type": "stream",
     "text": [
      "2018-11-01 08:56:47.553109  [Epoch 3] vali mean loss: 0.000506\n",
      "2018-11-01 08:56:47.553904  [Epoch 3] vali accuracy: 0.997098\n",
      "2018-11-01 08:56:47.554509  [Epoch 3] vali avg class acc: 0.800000\n",
      "2018-11-01 08:56:47.554814  [Epoch 3] vali indivisual [0] class recall: 0.991667\n",
      "2018-11-01 08:56:47.555122  [Epoch 3] vali indivisual [0] class precision: 1.000000\n",
      "2018-11-01 08:56:47.555620  [Epoch 3] vali indivisual [1] class recall: 1.000000\n",
      "2018-11-01 08:56:47.555895  [Epoch 3] vali indivisual [1] class precision: 1.000000\n",
      "2018-11-01 08:56:47.555997  [Epoch 3] vali indivisual [2] class recall: 1.000000\n",
      "2018-11-01 08:56:47.556271  [Epoch 3] vali indivisual [2] class precision: 1.000000\n",
      "2018-11-01 08:56:47.556603  [Epoch 3] vali indivisual [3] class recall: 1.000000\n",
      "2018-11-01 08:56:47.556953  [Epoch 3] vali indivisual [3] class precision: 1.000000\n",
      "2018-11-01 08:56:47.557053  [Epoch 3] vali indivisual [4] class recall: 1.000000\n",
      "2018-11-01 08:56:47.557312  [Epoch 3] vali indivisual [4] class precision: 0.966667\n",
      "2018-11-01 08:56:47.557594   Evaluation one (test set) epoch   4 /  10\n"
     ]
    },
    {
     "name": "stderr",
     "output_type": "stream",
     "text": [
      "\n",
      "100%|██████████| 419/419 [01:07<00:00,  6.24it/s]"
     ]
    },
    {
     "name": "stdout",
     "output_type": "stream",
     "text": [
      "2018-11-01 08:57:55.134828  [Epoch 3] test mean loss: 0.000506\n",
      "2018-11-01 08:57:55.135728  [Epoch 3] test accuracy: 0.996955\n",
      "2018-11-01 08:57:55.136218  [Epoch 3] test avg class acc: 1.000000\n",
      "2018-11-01 08:57:55.136458  [Epoch 3] test indivisual [0] class recall: 1.000000\n",
      "2018-11-01 08:57:55.136787  [Epoch 3] test indivisual [0] class precision: 1.000000\n",
      "2018-11-01 08:57:55.136921  [Epoch 3] test indivisual [1] class recall: 1.000000\n",
      "2018-11-01 08:57:55.137137  [Epoch 3] test indivisual [1] class precision: 1.000000\n",
      "2018-11-01 08:57:55.137256  [Epoch 3] test indivisual [2] class recall: 1.000000\n",
      "2018-11-01 08:57:55.137590  [Epoch 3] test indivisual [2] class precision: 1.000000\n",
      "2018-11-01 08:57:55.137950  [Epoch 3] test indivisual [3] class recall: 1.000000\n",
      "2018-11-01 08:57:55.138337  [Epoch 3] test indivisual [3] class precision: 1.000000\n",
      "2018-11-01 08:57:55.138460  [Epoch 3] test indivisual [4] class recall: 1.000000\n",
      "2018-11-01 08:57:55.138988  [Epoch 3] test indivisual [4] class precision: 1.000000\n",
      "2018-11-01 08:57:55.139114   Train one epoch   5 /  10\n"
     ]
    },
    {
     "name": "stderr",
     "output_type": "stream",
     "text": [
      "\n",
      "100%|██████████| 1679/1679 [19:04<00:00,  1.47it/s]"
     ]
    },
    {
     "name": "stdout",
     "output_type": "stream",
     "text": [
      "2018-11-01 09:17:00.670777  [Epoch 4] mean loss: 0.000113\n",
      "2018-11-01 09:17:00.672139  [Epoch 4] accuracy: 0.990618\n",
      "2018-11-01 09:17:00.672560  [Epoch 4] avg class acc: 0.981481\n",
      "2018-11-01 09:17:00.672911  [Epoch 4] indivisual [0] class recall: 1.000000\n",
      "2018-11-01 09:17:00.673060  [Epoch 4] indivisual [0] class precision: 0.979798\n",
      "2018-11-01 09:17:00.673295  [Epoch 4] indivisual [1] class recall: 1.000000\n",
      "2018-11-01 09:17:00.673510  [Epoch 4] indivisual [1] class precision: 1.000000\n",
      "2018-11-01 09:17:00.673806  [Epoch 4] indivisual [2] class recall: 0.962963\n",
      "2018-11-01 09:17:00.674320  [Epoch 4] indivisual [2] class precision: 1.000000\n",
      "2018-11-01 09:17:00.674588  [Epoch 4] indivisual [3] class recall: 0.944444\n",
      "2018-11-01 09:17:00.675003  [Epoch 4] indivisual [3] class precision: 1.000000\n",
      "2018-11-01 09:17:00.675124  [Epoch 4] indivisual [4] class recall: 1.000000\n",
      "2018-11-01 09:17:00.675218  [Epoch 4] indivisual [4] class precision: 1.000000\n",
      "2018-11-01 09:17:00.675639   Evaluation one (validation set) epoch   5 /  10\n"
     ]
    },
    {
     "name": "stderr",
     "output_type": "stream",
     "text": [
      "\n",
      "100%|██████████| 419/419 [01:06<00:00,  6.28it/s]"
     ]
    },
    {
     "name": "stdout",
     "output_type": "stream",
     "text": [
      "2018-11-01 09:18:07.873752  [Epoch 4] vali mean loss: 0.000452\n",
      "2018-11-01 09:18:07.874737  [Epoch 4] vali accuracy: 0.997737\n",
      "2018-11-01 09:18:07.875173  [Epoch 4] vali avg class acc: 1.000000\n",
      "2018-11-01 09:18:07.875360  [Epoch 4] vali indivisual [0] class recall: 1.000000\n",
      "2018-11-01 09:18:07.875790  [Epoch 4] vali indivisual [0] class precision: 1.000000\n",
      "2018-11-01 09:18:07.876076  [Epoch 4] vali indivisual [1] class recall: 1.000000\n",
      "2018-11-01 09:18:07.876557  [Epoch 4] vali indivisual [1] class precision: 1.000000\n",
      "2018-11-01 09:18:07.876830  [Epoch 4] vali indivisual [2] class recall: 1.000000\n",
      "2018-11-01 09:18:07.876930  [Epoch 4] vali indivisual [2] class precision: 1.000000\n",
      "2018-11-01 09:18:07.877358  [Epoch 4] vali indivisual [3] class recall: 1.000000\n",
      "2018-11-01 09:18:07.877457  [Epoch 4] vali indivisual [3] class precision: 1.000000\n",
      "2018-11-01 09:18:07.877812  [Epoch 4] vali indivisual [4] class recall: 1.000000\n",
      "2018-11-01 09:18:07.877946  [Epoch 4] vali indivisual [4] class precision: 1.000000\n",
      "2018-11-01 09:18:07.878200   Evaluation one (test set) epoch   5 /  10\n"
     ]
    },
    {
     "name": "stderr",
     "output_type": "stream",
     "text": [
      "\n",
      "100%|██████████| 419/419 [01:07<00:00,  6.24it/s]"
     ]
    },
    {
     "name": "stdout",
     "output_type": "stream",
     "text": [
      "2018-11-01 09:19:15.402139  [Epoch 4] test mean loss: 0.000452\n",
      "2018-11-01 09:19:15.402872  [Epoch 4] test accuracy: 0.997566\n",
      "2018-11-01 09:19:15.403624  [Epoch 4] test avg class acc: 0.992423\n",
      "2018-11-01 09:19:15.403806  [Epoch 4] test indivisual [0] class recall: 0.991525\n",
      "2018-11-01 09:19:15.403944  [Epoch 4] test indivisual [0] class precision: 0.991525\n",
      "2018-11-01 09:19:15.404109  [Epoch 4] test indivisual [1] class recall: 1.000000\n",
      "2018-11-01 09:19:15.404321  [Epoch 4] test indivisual [1] class precision: 1.000000\n",
      "2018-11-01 09:19:15.405394  [Epoch 4] test indivisual [2] class recall: 0.970588\n",
      "2018-11-01 09:19:15.405734  [Epoch 4] test indivisual [2] class precision: 0.970588\n",
      "2018-11-01 09:19:15.405915  [Epoch 4] test indivisual [3] class recall: 1.000000\n",
      "2018-11-01 09:19:15.406135  [Epoch 4] test indivisual [3] class precision: 1.000000\n",
      "2018-11-01 09:19:15.406539  [Epoch 4] test indivisual [4] class recall: 1.000000\n",
      "2018-11-01 09:19:15.406813  [Epoch 4] test indivisual [4] class precision: 1.000000\n",
      "2018-11-01 09:19:15.407113   Train one epoch   6 /  10\n"
     ]
    },
    {
     "name": "stderr",
     "output_type": "stream",
     "text": [
      "\n",
      "100%|██████████| 1679/1679 [19:02<00:00,  1.47it/s]"
     ]
    },
    {
     "name": "stdout",
     "output_type": "stream",
     "text": [
      "2018-11-01 09:38:18.964014  [Epoch 5] mean loss: 0.000107\n",
      "2018-11-01 09:38:18.964819  [Epoch 5] accuracy: 0.991190\n",
      "2018-11-01 09:38:18.965206  [Epoch 5] avg class acc: 0.990953\n",
      "2018-11-01 09:38:18.965771  [Epoch 5] indivisual [0] class recall: 0.991803\n",
      "2018-11-01 09:38:18.965992  [Epoch 5] indivisual [0] class precision: 0.991803\n",
      "2018-11-01 09:38:18.966416  [Epoch 5] indivisual [1] class recall: 1.000000\n",
      "2018-11-01 09:38:18.966545  [Epoch 5] indivisual [1] class precision: 1.000000\n",
      "2018-11-01 09:38:18.966968  [Epoch 5] indivisual [2] class recall: 0.962963\n",
      "2018-11-01 09:38:18.967141  [Epoch 5] indivisual [2] class precision: 0.962963\n",
      "2018-11-01 09:38:18.967269  [Epoch 5] indivisual [3] class recall: 1.000000\n",
      "2018-11-01 09:38:18.967484  [Epoch 5] indivisual [3] class precision: 1.000000\n",
      "2018-11-01 09:38:18.967657  [Epoch 5] indivisual [4] class recall: 1.000000\n",
      "2018-11-01 09:38:18.967780  [Epoch 5] indivisual [4] class precision: 1.000000\n",
      "2018-11-01 09:38:18.968402   Evaluation one (validation set) epoch   6 /  10\n"
     ]
    },
    {
     "name": "stderr",
     "output_type": "stream",
     "text": [
      "\n",
      "100%|██████████| 419/419 [01:06<00:00,  6.26it/s]"
     ]
    },
    {
     "name": "stdout",
     "output_type": "stream",
     "text": [
      "2018-11-01 09:39:26.359750  [Epoch 5] vali mean loss: 0.000429\n",
      "2018-11-01 09:39:26.360047  [Epoch 5] vali accuracy: 0.996582\n",
      "2018-11-01 09:39:26.360633  [Epoch 5] vali avg class acc: 1.000000\n",
      "2018-11-01 09:39:26.361017  [Epoch 5] vali indivisual [0] class recall: 1.000000\n",
      "2018-11-01 09:39:26.361163  [Epoch 5] vali indivisual [0] class precision: 1.000000\n",
      "2018-11-01 09:39:26.361328  [Epoch 5] vali indivisual [1] class recall: 1.000000\n",
      "2018-11-01 09:39:26.361451  [Epoch 5] vali indivisual [1] class precision: 1.000000\n",
      "2018-11-01 09:39:26.362279  [Epoch 5] vali indivisual [2] class recall: 1.000000\n",
      "2018-11-01 09:39:26.362636  [Epoch 5] vali indivisual [2] class precision: 1.000000\n",
      "2018-11-01 09:39:26.362729  [Epoch 5] vali indivisual [3] class recall: 1.000000\n",
      "2018-11-01 09:39:26.363170  [Epoch 5] vali indivisual [3] class precision: 1.000000\n",
      "2018-11-01 09:39:26.363273  [Epoch 5] vali indivisual [4] class recall: 1.000000\n",
      "2018-11-01 09:39:26.363397  [Epoch 5] vali indivisual [4] class precision: 1.000000\n",
      "2018-11-01 09:39:26.363923   Evaluation one (test set) epoch   6 /  10\n"
     ]
    },
    {
     "name": "stderr",
     "output_type": "stream",
     "text": [
      "\n",
      "100%|██████████| 419/419 [01:07<00:00,  6.25it/s]\n"
     ]
    },
    {
     "name": "stdout",
     "output_type": "stream",
     "text": [
      "2018-11-01 09:40:33.841562  [Epoch 5] test mean loss: 0.000429\n",
      "2018-11-01 09:40:33.842268  [Epoch 5] test accuracy: 0.996525\n",
      "2018-11-01 09:40:33.843014  [Epoch 5] test avg class acc: 1.000000\n",
      "2018-11-01 09:40:33.843333  [Epoch 5] test indivisual [0] class recall: 1.000000\n",
      "2018-11-01 09:40:33.843441  [Epoch 5] test indivisual [0] class precision: 1.000000\n",
      "2018-11-01 09:40:33.843899  [Epoch 5] test indivisual [1] class recall: 1.000000\n",
      "2018-11-01 09:40:33.844324  [Epoch 5] test indivisual [1] class precision: 1.000000\n",
      "2018-11-01 09:40:33.844420  [Epoch 5] test indivisual [2] class recall: 1.000000\n",
      "2018-11-01 09:40:33.844849  [Epoch 5] test indivisual [2] class precision: 1.000000\n",
      "2018-11-01 09:40:33.845156  [Epoch 5] test indivisual [3] class recall: 1.000000\n",
      "2018-11-01 09:40:33.845383  [Epoch 5] test indivisual [3] class precision: 1.000000\n",
      "2018-11-01 09:40:33.845627  [Epoch 5] test indivisual [4] class recall: 1.000000\n",
      "2018-11-01 09:40:33.846452  [Epoch 5] test indivisual [4] class precision: 1.000000\n",
      "2018-11-01 09:40:33.846692   Train one epoch   7 /  10\n"
     ]
    },
    {
     "name": "stderr",
     "output_type": "stream",
     "text": [
      "100%|██████████| 1679/1679 [19:01<00:00,  1.47it/s]"
     ]
    },
    {
     "name": "stdout",
     "output_type": "stream",
     "text": [
      "2018-11-01 09:59:36.790541  [Epoch 6] mean loss: 0.000103\n",
      "2018-11-01 09:59:36.791457  [Epoch 6] accuracy: 0.991385\n",
      "2018-11-01 09:59:36.792005  [Epoch 6] avg class acc: 0.988571\n",
      "2018-11-01 09:59:36.792347  [Epoch 6] indivisual [0] class recall: 1.000000\n",
      "2018-11-01 09:59:36.792570  [Epoch 6] indivisual [0] class precision: 0.980198\n",
      "2018-11-01 09:59:36.792765  [Epoch 6] indivisual [1] class recall: 1.000000\n",
      "2018-11-01 09:59:36.793151  [Epoch 6] indivisual [1] class precision: 1.000000\n",
      "2018-11-01 09:59:36.793521  [Epoch 6] indivisual [2] class recall: 0.942857\n",
      "2018-11-01 09:59:36.793887  [Epoch 6] indivisual [2] class precision: 1.000000\n",
      "2018-11-01 09:59:36.793983  [Epoch 6] indivisual [3] class recall: 1.000000\n",
      "2018-11-01 09:59:36.794241  [Epoch 6] indivisual [3] class precision: 1.000000\n",
      "2018-11-01 09:59:36.794400  [Epoch 6] indivisual [4] class recall: 1.000000\n",
      "2018-11-01 09:59:36.794768  [Epoch 6] indivisual [4] class precision: 1.000000\n",
      "2018-11-01 09:59:36.794926   Evaluation one (validation set) epoch   7 /  10\n"
     ]
    },
    {
     "name": "stderr",
     "output_type": "stream",
     "text": [
      "\n",
      "100%|██████████| 419/419 [01:07<00:00,  6.25it/s]"
     ]
    },
    {
     "name": "stdout",
     "output_type": "stream",
     "text": [
      "2018-11-01 10:00:44.269466  [Epoch 6] vali mean loss: 0.000413\n",
      "2018-11-01 10:00:44.270014  [Epoch 6] vali accuracy: 0.997069\n",
      "2018-11-01 10:00:44.270511  [Epoch 6] vali avg class acc: 0.800000\n",
      "2018-11-01 10:00:44.270877  [Epoch 6] vali indivisual [0] class recall: 1.000000\n",
      "2018-11-01 10:00:44.271259  [Epoch 6] vali indivisual [0] class precision: 0.991150\n",
      "2018-11-01 10:00:44.271691  [Epoch 6] vali indivisual [1] class recall: 1.000000\n",
      "2018-11-01 10:00:44.271961  [Epoch 6] vali indivisual [1] class precision: 1.000000\n",
      "2018-11-01 10:00:44.272373  [Epoch 6] vali indivisual [2] class recall: 0.967742\n",
      "2018-11-01 10:00:44.272468  [Epoch 6] vali indivisual [2] class precision: 1.000000\n",
      "2018-11-01 10:00:44.272888  [Epoch 6] vali indivisual [3] class recall: 1.000000\n",
      "2018-11-01 10:00:44.273117  [Epoch 6] vali indivisual [3] class precision: 1.000000\n",
      "2018-11-01 10:00:44.273417  [Epoch 6] vali indivisual [4] class recall: 1.000000\n",
      "2018-11-01 10:00:44.273543  [Epoch 6] vali indivisual [4] class precision: 1.000000\n",
      "2018-11-01 10:00:44.273772   Evaluation one (test set) epoch   7 /  10\n"
     ]
    },
    {
     "name": "stderr",
     "output_type": "stream",
     "text": [
      "\n",
      "100%|██████████| 419/419 [01:07<00:00,  6.24it/s]\n"
     ]
    },
    {
     "name": "stdout",
     "output_type": "stream",
     "text": [
      "2018-11-01 10:01:51.899814  [Epoch 6] test mean loss: 0.000413\n",
      "2018-11-01 10:01:51.900463  [Epoch 6] test accuracy: 0.997050\n",
      "2018-11-01 10:01:51.902545  [Epoch 6] test avg class acc: 1.000000\n",
      "2018-11-01 10:01:51.902763  [Epoch 6] test indivisual [0] class recall: 1.000000\n",
      "2018-11-01 10:01:51.902878  [Epoch 6] test indivisual [0] class precision: 1.000000\n",
      "2018-11-01 10:01:51.903083  [Epoch 6] test indivisual [1] class recall: 1.000000\n",
      "2018-11-01 10:01:51.903933  [Epoch 6] test indivisual [1] class precision: 1.000000\n",
      "2018-11-01 10:01:51.904111  [Epoch 6] test indivisual [2] class recall: 1.000000\n",
      "2018-11-01 10:01:51.904298  [Epoch 6] test indivisual [2] class precision: 1.000000\n",
      "2018-11-01 10:01:51.905173  [Epoch 6] test indivisual [3] class recall: 1.000000\n",
      "2018-11-01 10:01:51.905291  [Epoch 6] test indivisual [3] class precision: 1.000000\n",
      "2018-11-01 10:01:51.905412  [Epoch 6] test indivisual [4] class recall: 1.000000\n",
      "2018-11-01 10:01:51.905693  [Epoch 6] test indivisual [4] class precision: 1.000000\n",
      "2018-11-01 10:01:51.906825   Train one epoch   8 /  10\n"
     ]
    },
    {
     "name": "stderr",
     "output_type": "stream",
     "text": [
      "100%|██████████| 1679/1679 [18:59<00:00,  1.47it/s]"
     ]
    },
    {
     "name": "stdout",
     "output_type": "stream",
     "text": [
      "2018-11-01 10:20:53.088649  [Epoch 7] mean loss: 0.000100\n",
      "2018-11-01 10:20:53.088949  [Epoch 7] accuracy: 0.991802\n",
      "2018-11-01 10:20:53.089528  [Epoch 7] avg class acc: 0.975153\n",
      "2018-11-01 10:20:53.090181  [Epoch 7] indivisual [0] class recall: 0.991150\n",
      "2018-11-01 10:20:53.090468  [Epoch 7] indivisual [0] class precision: 0.973913\n",
      "2018-11-01 10:20:53.090578  [Epoch 7] indivisual [1] class recall: 1.000000\n",
      "2018-11-01 10:20:53.090915  [Epoch 7] indivisual [1] class precision: 1.000000\n",
      "2018-11-01 10:20:53.091314  [Epoch 7] indivisual [2] class recall: 0.884615\n",
      "2018-11-01 10:20:53.091418  [Epoch 7] indivisual [2] class precision: 0.958333\n",
      "2018-11-01 10:20:53.091690  [Epoch 7] indivisual [3] class recall: 1.000000\n",
      "2018-11-01 10:20:53.092027  [Epoch 7] indivisual [3] class precision: 1.000000\n",
      "2018-11-01 10:20:53.092387  [Epoch 7] indivisual [4] class recall: 1.000000\n",
      "2018-11-01 10:20:53.092480  [Epoch 7] indivisual [4] class precision: 1.000000\n",
      "2018-11-01 10:20:53.092849   Evaluation one (validation set) epoch   8 /  10\n"
     ]
    },
    {
     "name": "stderr",
     "output_type": "stream",
     "text": [
      "\n",
      "100%|██████████| 419/419 [01:06<00:00,  6.26it/s]"
     ]
    },
    {
     "name": "stdout",
     "output_type": "stream",
     "text": [
      "2018-11-01 10:22:00.522739  [Epoch 7] vali mean loss: 0.000400\n",
      "2018-11-01 10:22:00.531417  [Epoch 7] vali accuracy: 0.998434\n",
      "2018-11-01 10:22:00.531867  [Epoch 7] vali avg class acc: 0.800000\n",
      "2018-11-01 10:22:00.532390  [Epoch 7] vali indivisual [0] class recall: 0.990909\n",
      "2018-11-01 10:22:00.533011  [Epoch 7] vali indivisual [0] class precision: 1.000000\n",
      "2018-11-01 10:22:00.533302  [Epoch 7] vali indivisual [1] class recall: 1.000000\n",
      "2018-11-01 10:22:00.533720  [Epoch 7] vali indivisual [1] class precision: 1.000000\n",
      "2018-11-01 10:22:00.533818  [Epoch 7] vali indivisual [2] class recall: 1.000000\n",
      "2018-11-01 10:22:00.534077  [Epoch 7] vali indivisual [2] class precision: 0.970588\n",
      "2018-11-01 10:22:00.534337  [Epoch 7] vali indivisual [3] class recall: 1.000000\n",
      "2018-11-01 10:22:00.534534  [Epoch 7] vali indivisual [3] class precision: 1.000000\n",
      "2018-11-01 10:22:00.534682  [Epoch 7] vali indivisual [4] class recall: 1.000000\n",
      "2018-11-01 10:22:00.535123  [Epoch 7] vali indivisual [4] class precision: 1.000000\n",
      "2018-11-01 10:22:00.535380   Evaluation one (test set) epoch   8 /  10\n"
     ]
    },
    {
     "name": "stderr",
     "output_type": "stream",
     "text": [
      "\n",
      "100%|██████████| 419/419 [01:06<00:00,  6.27it/s]"
     ]
    },
    {
     "name": "stdout",
     "output_type": "stream",
     "text": [
      "2018-11-01 10:23:07.811416  [Epoch 7] test mean loss: 0.000400\n",
      "2018-11-01 10:23:07.812293  [Epoch 7] test accuracy: 0.998434\n",
      "2018-11-01 10:23:07.814036  [Epoch 7] test avg class acc: 0.998198\n",
      "2018-11-01 10:23:07.814200  [Epoch 7] test indivisual [0] class recall: 0.990991\n",
      "2018-11-01 10:23:07.814940  [Epoch 7] test indivisual [0] class precision: 1.000000\n",
      "2018-11-01 10:23:07.815228  [Epoch 7] test indivisual [1] class recall: 1.000000\n",
      "2018-11-01 10:23:07.815461  [Epoch 7] test indivisual [1] class precision: 1.000000\n",
      "2018-11-01 10:23:07.815563  [Epoch 7] test indivisual [2] class recall: 1.000000\n",
      "2018-11-01 10:23:07.815964  [Epoch 7] test indivisual [2] class precision: 1.000000\n",
      "2018-11-01 10:23:07.816158  [Epoch 7] test indivisual [3] class recall: 1.000000\n",
      "2018-11-01 10:23:07.816302  [Epoch 7] test indivisual [3] class precision: 1.000000\n",
      "2018-11-01 10:23:07.816565  [Epoch 7] test indivisual [4] class recall: 1.000000\n",
      "2018-11-01 10:23:07.816709  [Epoch 7] test indivisual [4] class precision: 0.969697\n",
      "2018-11-01 10:23:07.817305   Train one epoch   9 /  10\n"
     ]
    },
    {
     "name": "stderr",
     "output_type": "stream",
     "text": [
      "\n",
      "100%|██████████| 1679/1679 [18:58<00:00,  1.48it/s]"
     ]
    },
    {
     "name": "stdout",
     "output_type": "stream",
     "text": [
      "2018-11-01 10:42:07.418609  [Epoch 8] mean loss: 0.000093\n",
      "2018-11-01 10:42:07.419251  [Epoch 8] accuracy: 0.992305\n",
      "2018-11-01 10:42:07.419735  [Epoch 8] avg class acc: 0.997183\n",
      "2018-11-01 10:42:07.420404  [Epoch 8] indivisual [0] class recall: 1.000000\n",
      "2018-11-01 10:42:07.420864  [Epoch 8] indivisual [0] class precision: 0.991525\n",
      "2018-11-01 10:42:07.421138  [Epoch 8] indivisual [1] class recall: 0.985915\n",
      "2018-11-01 10:42:07.421301  [Epoch 8] indivisual [1] class precision: 1.000000\n",
      "2018-11-01 10:42:07.421514  [Epoch 8] indivisual [2] class recall: 1.000000\n",
      "2018-11-01 10:42:07.421778  [Epoch 8] indivisual [2] class precision: 1.000000\n",
      "2018-11-01 10:42:07.422186  [Epoch 8] indivisual [3] class recall: 1.000000\n",
      "2018-11-01 10:42:07.422279  [Epoch 8] indivisual [3] class precision: 1.000000\n",
      "2018-11-01 10:42:07.422536  [Epoch 8] indivisual [4] class recall: 1.000000\n",
      "2018-11-01 10:42:07.422803  [Epoch 8] indivisual [4] class precision: 1.000000\n",
      "2018-11-01 10:42:07.423006   Evaluation one (validation set) epoch   9 /  10\n"
     ]
    },
    {
     "name": "stderr",
     "output_type": "stream",
     "text": [
      "\n",
      "100%|██████████| 419/419 [01:06<00:00,  6.27it/s]"
     ]
    },
    {
     "name": "stdout",
     "output_type": "stream",
     "text": [
      "2018-11-01 10:43:14.750217  [Epoch 8] vali mean loss: 0.000374\n",
      "2018-11-01 10:43:14.751066  [Epoch 8] vali accuracy: 0.998005\n",
      "2018-11-01 10:43:14.752705  [Epoch 8] vali avg class acc: 0.800000\n",
      "2018-11-01 10:43:14.753202  [Epoch 8] vali indivisual [0] class recall: 0.972973\n",
      "2018-11-01 10:43:14.753318  [Epoch 8] vali indivisual [0] class precision: 1.000000\n",
      "2018-11-01 10:43:14.753421  [Epoch 8] vali indivisual [1] class recall: 1.000000\n",
      "2018-11-01 10:43:14.753547  [Epoch 8] vali indivisual [1] class precision: 1.000000\n",
      "2018-11-01 10:43:14.754289  [Epoch 8] vali indivisual [2] class recall: 1.000000\n",
      "2018-11-01 10:43:14.754433  [Epoch 8] vali indivisual [2] class precision: 0.970588\n",
      "2018-11-01 10:43:14.754696  [Epoch 8] vali indivisual [3] class recall: 1.000000\n",
      "2018-11-01 10:43:14.754851  [Epoch 8] vali indivisual [3] class precision: 1.000000\n",
      "2018-11-01 10:43:14.755426  [Epoch 8] vali indivisual [4] class recall: 1.000000\n",
      "2018-11-01 10:43:14.755697  [Epoch 8] vali indivisual [4] class precision: 0.920000\n",
      "2018-11-01 10:43:14.755864   Evaluation one (test set) epoch   9 /  10\n"
     ]
    },
    {
     "name": "stderr",
     "output_type": "stream",
     "text": [
      "\n",
      "100%|██████████| 419/419 [01:07<00:00,  6.23it/s]"
     ]
    },
    {
     "name": "stdout",
     "output_type": "stream",
     "text": [
      "2018-11-01 10:44:22.437407  [Epoch 8] test mean loss: 0.000374\n",
      "2018-11-01 10:44:22.438292  [Epoch 8] test accuracy: 0.998091\n",
      "2018-11-01 10:44:22.438822  [Epoch 8] test avg class acc: 1.000000\n",
      "2018-11-01 10:44:22.438960  [Epoch 8] test indivisual [0] class recall: 1.000000\n",
      "2018-11-01 10:44:22.439119  [Epoch 8] test indivisual [0] class precision: 1.000000\n",
      "2018-11-01 10:44:22.439433  [Epoch 8] test indivisual [1] class recall: 1.000000\n",
      "2018-11-01 10:44:22.439946  [Epoch 8] test indivisual [1] class precision: 1.000000\n",
      "2018-11-01 10:44:22.440166  [Epoch 8] test indivisual [2] class recall: 1.000000\n",
      "2018-11-01 10:44:22.440647  [Epoch 8] test indivisual [2] class precision: 1.000000\n",
      "2018-11-01 10:44:22.440745  [Epoch 8] test indivisual [3] class recall: 1.000000\n",
      "2018-11-01 10:44:22.441183  [Epoch 8] test indivisual [3] class precision: 1.000000\n",
      "2018-11-01 10:44:22.441283  [Epoch 8] test indivisual [4] class recall: 1.000000\n",
      "2018-11-01 10:44:22.441487  [Epoch 8] test indivisual [4] class precision: 1.000000\n",
      "2018-11-01 10:44:22.441958   Train one epoch  10 /  10\n"
     ]
    },
    {
     "name": "stderr",
     "output_type": "stream",
     "text": [
      "\n",
      "100%|██████████| 1679/1679 [19:04<00:00,  1.47it/s]"
     ]
    },
    {
     "name": "stdout",
     "output_type": "stream",
     "text": [
      "2018-11-01 11:03:28.020728  [Epoch 9] mean loss: 0.000088\n",
      "2018-11-01 11:03:28.021146  [Epoch 9] accuracy: 0.992577\n",
      "2018-11-01 11:03:28.021821  [Epoch 9] avg class acc: 0.996429\n",
      "2018-11-01 11:03:28.022169  [Epoch 9] indivisual [0] class recall: 0.982143\n",
      "2018-11-01 11:03:28.022478  [Epoch 9] indivisual [0] class precision: 1.000000\n",
      "2018-11-01 11:03:28.022651  [Epoch 9] indivisual [1] class recall: 1.000000\n",
      "2018-11-01 11:03:28.022808  [Epoch 9] indivisual [1] class precision: 0.986111\n",
      "2018-11-01 11:03:28.023295  [Epoch 9] indivisual [2] class recall: 1.000000\n",
      "2018-11-01 11:03:28.023833  [Epoch 9] indivisual [2] class precision: 1.000000\n",
      "2018-11-01 11:03:28.023938  [Epoch 9] indivisual [3] class recall: 1.000000\n",
      "2018-11-01 11:03:28.024204  [Epoch 9] indivisual [3] class precision: 0.944444\n",
      "2018-11-01 11:03:28.024369  [Epoch 9] indivisual [4] class recall: 1.000000\n",
      "2018-11-01 11:03:28.024676  [Epoch 9] indivisual [4] class precision: 1.000000\n",
      "2018-11-01 11:03:28.024837   Evaluation one (validation set) epoch  10 /  10\n"
     ]
    },
    {
     "name": "stderr",
     "output_type": "stream",
     "text": [
      "\n",
      "100%|██████████| 419/419 [01:07<00:00,  6.23it/s]"
     ]
    },
    {
     "name": "stdout",
     "output_type": "stream",
     "text": [
      "2018-11-01 11:04:35.801793  [Epoch 9] vali mean loss: 0.000355\n",
      "2018-11-01 11:04:35.802525  [Epoch 9] vali accuracy: 0.998568\n",
      "2018-11-01 11:04:35.803177  [Epoch 9] vali avg class acc: 1.000000\n",
      "2018-11-01 11:04:35.803497  [Epoch 9] vali indivisual [0] class recall: 1.000000\n",
      "2018-11-01 11:04:35.803647  [Epoch 9] vali indivisual [0] class precision: 1.000000\n",
      "2018-11-01 11:04:35.804146  [Epoch 9] vali indivisual [1] class recall: 1.000000\n",
      "2018-11-01 11:04:35.804525  [Epoch 9] vali indivisual [1] class precision: 1.000000\n",
      "2018-11-01 11:04:35.804666  [Epoch 9] vali indivisual [2] class recall: 1.000000\n",
      "2018-11-01 11:04:35.804924  [Epoch 9] vali indivisual [2] class precision: 1.000000\n",
      "2018-11-01 11:04:35.805266  [Epoch 9] vali indivisual [3] class recall: 1.000000\n",
      "2018-11-01 11:04:35.805543  [Epoch 9] vali indivisual [3] class precision: 1.000000\n",
      "2018-11-01 11:04:35.805909  [Epoch 9] vali indivisual [4] class recall: 1.000000\n",
      "2018-11-01 11:04:35.806045  [Epoch 9] vali indivisual [4] class precision: 1.000000\n",
      "2018-11-01 11:04:35.806368   Evaluation one (test set) epoch  10 /  10\n"
     ]
    },
    {
     "name": "stderr",
     "output_type": "stream",
     "text": [
      "\n",
      "100%|██████████| 419/419 [01:07<00:00,  6.17it/s]\n"
     ]
    },
    {
     "name": "stdout",
     "output_type": "stream",
     "text": [
      "2018-11-01 11:05:44.131975  [Epoch 9] test mean loss: 0.000355\n",
      "2018-11-01 11:05:44.132336  [Epoch 9] test accuracy: 0.998368\n",
      "2018-11-01 11:05:44.132984  [Epoch 9] test avg class acc: 0.996581\n",
      "2018-11-01 11:05:44.133280  [Epoch 9] test indivisual [0] class recall: 0.982906\n",
      "2018-11-01 11:05:44.133873  [Epoch 9] test indivisual [0] class precision: 1.000000\n",
      "2018-11-01 11:05:44.134143  [Epoch 9] test indivisual [1] class recall: 1.000000\n",
      "2018-11-01 11:05:44.134341  [Epoch 9] test indivisual [1] class precision: 1.000000\n",
      "2018-11-01 11:05:44.134591  [Epoch 9] test indivisual [2] class recall: 1.000000\n",
      "2018-11-01 11:05:44.135001  [Epoch 9] test indivisual [2] class precision: 1.000000\n",
      "2018-11-01 11:05:44.135155  [Epoch 9] test indivisual [3] class recall: 1.000000\n",
      "2018-11-01 11:05:44.135470  [Epoch 9] test indivisual [3] class precision: 1.000000\n",
      "2018-11-01 11:05:44.135786  [Epoch 9] test indivisual [4] class recall: 1.000000\n",
      "2018-11-01 11:05:44.136011  [Epoch 9] test indivisual [4] class precision: 0.937500\n",
      "2018-11-01 11:05:44.865462  Model saved in file: /home/gozilla/kyungpyo/git/MasterThesisProject/Network/notebook/train_log_20181101_opt02/model/model.ckpt\n"
     ]
    }
   ],
   "source": [
    "\"\"\" log file \"\"\"\n",
    "LOG_FOUT = open(log_path, 'w')\n",
    "\n",
    "def log_string(out_str):\n",
    "    out_str = str( datetime.datetime.fromtimestamp( time.time() ) ) + \"  \" + out_str\n",
    "    LOG_FOUT.write(out_str+'\\n')\n",
    "    LOG_FOUT.flush()\n",
    "    print(out_str)\n",
    "    \n",
    "    \n",
    "def get_learning_rate(batch):\n",
    "    learning_rate = tf.train.exponential_decay(\n",
    "                        BASE_LEARNING_RATE,  # Base learning rate.\n",
    "                        batch * BATCH_SIZE,  # Current index into the dataset.\n",
    "                        DECAY_STEP,          # Decay step.\n",
    "                        DECAY_RATE,          # Decay rate.\n",
    "                        staircase=True)\n",
    "    learning_rate = tf.maximum(learning_rate, 0.00001) # CLIP THE LEARNING RATE!\n",
    "    return learning_rate        \n",
    "\n",
    "def get_bn_decay(batch):\n",
    "    bn_momentum = tf.train.exponential_decay(\n",
    "                      BN_INIT_DECAY,\n",
    "                      batch * BATCH_SIZE,\n",
    "                      BN_DECAY_DECAY_STEP,\n",
    "                      BN_DECAY_DECAY_RATE,\n",
    "                      staircase=True)\n",
    "    bn_decay = tf.minimum(BN_DECAY_CLIP, 1 - bn_momentum)\n",
    "    return bn_decay\n",
    "\n",
    "\"\"\" load traing model \"\"\"\n",
    "with tf.Graph().as_default():\n",
    "    with tf.device('/gpu:'+str(GPU_INDEX)):\n",
    "        pointclouds_pl, labels_pl = MODEL.placeholder_inputs(BATCH_SIZE, NUM_POINT)\n",
    "        is_training_pl = tf.placeholder(tf.bool, shape=())\n",
    "        print(is_training_pl)\n",
    "\n",
    "        # Note the global_step=batch parameter to minimize. \n",
    "        # That tells the optimizer to helpfully increment the 'batch' parameter for you every time it trains.\n",
    "        batch = tf.Variable(0)\n",
    "        bn_decay = get_bn_decay(batch)\n",
    "        tf.summary.scalar('bn_decay', bn_decay)\n",
    "\n",
    "        # Get model and loss \n",
    "        pred, end_points = MODEL.get_model(pointclouds_pl, is_training_pl, bn_decay=bn_decay)\n",
    "        loss = MODEL.get_loss(pred, labels_pl, end_points)\n",
    "        tf.summary.scalar('loss', loss)\n",
    "\n",
    "        correct = tf.equal(tf.argmax(pred, 1), tf.to_int64(labels_pl))\n",
    "        accuracy = tf.reduce_sum(tf.cast(correct, tf.float32)) / float(BATCH_SIZE)\n",
    "        tf.summary.scalar('accuracy', accuracy)\n",
    "\n",
    "        # Get training operator\n",
    "        learning_rate = get_learning_rate(batch)\n",
    "        tf.summary.scalar('learning_rate', learning_rate)\n",
    "        if OPTIMIZER == 'momentum':\n",
    "            optimizer = tf.train.MomentumOptimizer(learning_rate, momentum=MOMENTUM)\n",
    "        elif OPTIMIZER == 'adam':\n",
    "            optimizer = tf.train.AdamOptimizer(learning_rate)\n",
    "        train_op = optimizer.minimize(loss, global_step=batch)\n",
    "\n",
    "        # Add ops to save and restore all the variables.\n",
    "        saver = tf.train.Saver()\n",
    "\n",
    "    # Create a session\n",
    "    config = tf.ConfigProto()\n",
    "    config.gpu_options.allow_growth = True\n",
    "    config.allow_soft_placement = True\n",
    "    config.log_device_placement = False\n",
    "    sess = tf.Session(config=config)\n",
    "\n",
    "    # Add summary writers\n",
    "    #merged = tf.merge_all_summaries()\n",
    "    merged = tf.summary.merge_all()\n",
    "\n",
    "    train_writer_path = os.path.abspath('./train')\n",
    "    if os.path.isdir(train_writer_path): os.system('rm -r {}'.format(train_writer_path))\n",
    "    os.mkdir(train_writer_path)\n",
    "        \n",
    "    test_writer_path = os.path.abspath('./test')\n",
    "    if os.path.isdir(test_writer_path): os.system('rm -r {}'.format(test_writer_path))\n",
    "    os.mkdir(test_writer_path)\n",
    "    \n",
    "    \n",
    "    train_writer = tf.summary.FileWriter(train_writer_path, sess.graph)\n",
    "    test_writer = tf.summary.FileWriter(test_writer_path)\n",
    "    \n",
    "    \n",
    "    # Init variables\n",
    "    init = tf.global_variables_initializer()\n",
    "    # To fix the bug introduced in TF 0.12.1 as in\n",
    "    # http://stackoverflow.com/questions/41543774/invalidargumenterror-for-tensor-bool-tensorflow-0-12-1\n",
    "    #sess.run(init)\n",
    "    sess.run(init, {is_training_pl: True})\n",
    "\n",
    "    ops = {'pointclouds_pl': pointclouds_pl,\n",
    "           'labels_pl': labels_pl,\n",
    "           'is_training_pl': is_training_pl,\n",
    "           'pred': pred,\n",
    "           'loss': loss,\n",
    "           'train_op': train_op,\n",
    "           'merged': merged,\n",
    "           'step': batch}\n",
    "    \n",
    "    data_train = np.concatenate(data[:2])\n",
    "    print data_train.shape\n",
    "    label_train = np.concatenate(label[:2])\n",
    "    print label_train.shape\n",
    "        \n",
    "    data_vali = data[1]\n",
    "    label_vali = label[1]\n",
    "    \n",
    "    data_test = data[2]\n",
    "    label_test = label[2]\n",
    "    \n",
    "        \n",
    "    for epoch in range(MAX_EPOCH):\n",
    "        \n",
    "        ## Training\n",
    "        log_string ( \" Train one epoch %3d / %3d\" % (epoch+1, MAX_EPOCH) )\n",
    "        sys.stdout.flush()\n",
    "        \n",
    "        is_training = True\n",
    "        \n",
    "        # Shuffle train files\n",
    "        train_file_idxs = np.arange(0, data_train.shape[0])\n",
    "        np.random.shuffle(train_file_idxs)\n",
    "        \n",
    "        current_data = data_train[train_file_idxs] \n",
    "        current_label = label_train[train_file_idxs]\n",
    "              \n",
    "        ## Evaluation metric\n",
    "        total_correct = 0\n",
    "        total_seen = 0\n",
    "        loss_sum = 0\n",
    "        \n",
    "        total_class = [0 for _ in range(NUM_CLASSES)]\n",
    "        total_detect_class = [0 for _ in range(NUM_CLASSES)]\n",
    "        total_correct_class = [0 for _ in range(NUM_CLASSES)]\n",
    "            \n",
    "        num_batches = current_data.shape[0] // BATCH_SIZE\n",
    "               \n",
    "        for batch_idx in trange(num_batches):\n",
    "            \n",
    "            start_idx = batch_idx * BATCH_SIZE\n",
    "            end_idx = (batch_idx+1) * BATCH_SIZE           \n",
    "\n",
    "            # Augment batched point clouds by rotation and jittering\n",
    "            rotated_data = provider.rotate_point_cloud(current_data[start_idx:end_idx, :, :])\n",
    "            jittered_data = provider.jitter_point_cloud(rotated_data)\n",
    "            \n",
    "            feed_dict = {ops['pointclouds_pl']: jittered_data,\n",
    "                         ops['labels_pl']: current_label[start_idx:end_idx],\n",
    "                         ops['is_training_pl']: is_training,}\n",
    "            \n",
    "            summary, step, _, loss_val, pred_val = sess.run([ops['merged'], ops['step'],\n",
    "                ops['train_op'], ops['loss'], ops['pred']], feed_dict=feed_dict)\n",
    "            \n",
    "            train_writer.add_summary(summary, step)\n",
    "            \n",
    "            pred_val = np.argmax(pred_val, 1)\n",
    "            correct = np.sum(pred_val == current_label[start_idx:end_idx])\n",
    "            total_correct += correct\n",
    "            total_seen += BATCH_SIZE\n",
    "            loss_sum += loss_val\n",
    "            \n",
    "            for i in range(NUM_CLASSES):\n",
    "                total_class[i] = np.sum( np.ones(BATCH_SIZE) * i == current_label[start_idx:end_idx] )\n",
    "                total_detect_class[i] = np.sum( np.ones(BATCH_SIZE) * i == pred_val )\n",
    "                total_correct_class[i] = np.sum( (np.ones(BATCH_SIZE) * i == current_label[start_idx:end_idx]) * \\\n",
    "                                                    (np.ones(BATCH_SIZE) * i == pred_val) )\n",
    "                                \n",
    "        log_string(  '[Epoch %d] mean loss: %f' % \\\n",
    "                   (  epoch, loss_sum / float(total_seen)  )   )\n",
    "        log_string(  '[Epoch %d] accuracy: %f'% \\\n",
    "                   (  epoch, total_correct / float(total_seen)  )   )\n",
    "        log_string(  '[Epoch %d] avg class acc: %f' % \\\n",
    "                   (  epoch, np.mean( np.array(total_correct_class)/np.array(total_class,dtype=np.float) )  )   )\n",
    "        \n",
    "        for i_cls in range(NUM_CLASSES):\n",
    "            log_string(  '[Epoch %d] indivisual [%d] class recall: %f' % \\\n",
    "                       (  epoch, i_cls, float(total_correct_class[i_cls])/float(total_class[i_cls])))    \n",
    "            log_string(  '[Epoch %d] indivisual [%d] class precision: %f' % \\\n",
    "                       (  epoch, i_cls, float(total_correct_class[i_cls])/float(total_detect_class[i_cls])))    \n",
    "\n",
    "\n",
    "        ## Evaluation using validation set    \n",
    "        log_string ( \" Evaluation one (validation set) epoch %3d / %3d\" % (epoch+1, MAX_EPOCH) )\n",
    "        sys.stdout.flush()\n",
    "        \n",
    "        is_training = False\n",
    "        total_correct = 0\n",
    "        total_seen = 0\n",
    "        total_seen_class = [0 for _ in range(NUM_CLASSES)]\n",
    "        total_correct_class = [0 for _ in range(NUM_CLASSES)]\n",
    "        total_detect_class = [0 for _ in range(NUM_CLASSES)]\n",
    "        total_detect_true_class = [0 for _ in range(NUM_CLASSES)]\n",
    "        \n",
    "        # Shuffle validation files\n",
    "        file_idxs = np.arange(0, data_vali.shape[0])\n",
    "        np.random.shuffle(file_idxs)\n",
    "        \n",
    "        current_data = data_vali[file_idxs]\n",
    "        current_label = label_vali[file_idxs]\n",
    "        \n",
    "        num_batches = current_data.shape[0] // BATCH_SIZE\n",
    "               \n",
    "        for batch_idx in trange(num_batches):\n",
    "            start_idx = batch_idx * BATCH_SIZE\n",
    "            end_idx = (batch_idx+1) * BATCH_SIZE\n",
    "\n",
    "            feed_dict = {ops['pointclouds_pl']: current_data[start_idx:end_idx, :, :],\n",
    "                         ops['labels_pl']: current_label[start_idx:end_idx],\n",
    "                         ops['is_training_pl']: is_training}\n",
    "            summary, step, loss_val, pred_val = sess.run([ops['merged'], ops['step'],\n",
    "                ops['loss'], ops['pred']], feed_dict=feed_dict)\n",
    "            \n",
    "            # test_writer.add_summary(summary, step)\n",
    "            \n",
    "            pred_val = np.argmax(pred_val, 1)\n",
    "            correct = np.sum(pred_val == current_label[start_idx:end_idx])\n",
    "            total_correct += correct\n",
    "            total_seen += BATCH_SIZE\n",
    "            \n",
    "            for i in range(NUM_CLASSES):\n",
    "                total_class[i] = np.sum( np.ones(BATCH_SIZE) * i == current_label[start_idx:end_idx] )\n",
    "                total_detect_class[i] = np.sum( np.ones(BATCH_SIZE) * i == pred_val )\n",
    "                total_correct_class[i] = np.sum( (np.ones(BATCH_SIZE) * i == current_label[start_idx:end_idx]) * \\\n",
    "                                                    (np.ones(BATCH_SIZE) * i == pred_val) )\n",
    "                                \n",
    "        log_string(  '[Epoch %d] vali mean loss: %f' % \\\n",
    "                   (  epoch, loss_sum / float(total_seen)  )   )\n",
    "        log_string(  '[Epoch %d] vali accuracy: %f'% \\\n",
    "                   (  epoch, total_correct / float(total_seen)  )   )\n",
    "        log_string(  '[Epoch %d] vali avg class acc: %f' % \\\n",
    "                   (  epoch, np.mean( np.array(total_correct_class) / np.array(total_class) )  )   )\n",
    "        \n",
    "        for i_cls in range(NUM_CLASSES):\n",
    "            log_string(  '[Epoch %d] vali indivisual [%d] class recall: %f' % \\\n",
    "                       (  epoch, i_cls, float(total_correct_class[i_cls])/float(total_class[i_cls])))    \n",
    "            log_string(  '[Epoch %d] vali indivisual [%d] class precision: %f' % \\\n",
    "                       (  epoch, i_cls, float(total_correct_class[i_cls])/float(total_detect_class[i_cls])))    \n",
    "            \n",
    "        ## Evaluation using test set    \n",
    "        log_string ( \" Evaluation one (test set) epoch %3d / %3d\" % (epoch+1, MAX_EPOCH) )\n",
    "        sys.stdout.flush()\n",
    "        \n",
    "        is_training = False\n",
    "        total_correct = 0\n",
    "        total_seen = 0\n",
    "        total_seen_class = [0 for _ in range(NUM_CLASSES)]\n",
    "        total_correct_class = [0 for _ in range(NUM_CLASSES)]\n",
    "        total_detect_class = [0 for _ in range(NUM_CLASSES)]\n",
    "        total_detect_true_class = [0 for _ in range(NUM_CLASSES)]\n",
    "        \n",
    "        # Shuffle test files\n",
    "        file_idxs = np.arange(0, data_test.shape[0])\n",
    "        np.random.shuffle(file_idxs)\n",
    "        \n",
    "        current_data = data_test[file_idxs]\n",
    "        current_label = label_test[file_idxs]\n",
    "        \n",
    "        \n",
    "        num_batches = current_data.shape[0] // BATCH_SIZE\n",
    "               \n",
    "        for batch_idx in trange(num_batches):\n",
    "            start_idx = batch_idx * BATCH_SIZE\n",
    "            end_idx = (batch_idx+1) * BATCH_SIZE\n",
    "\n",
    "            feed_dict = {ops['pointclouds_pl']: current_data[start_idx:end_idx, :, :],\n",
    "                         ops['labels_pl']: current_label[start_idx:end_idx],\n",
    "                         ops['is_training_pl']: is_training}\n",
    "            summary, step, loss_val, pred_val = sess.run([ops['merged'], ops['step'],\n",
    "                ops['loss'], ops['pred']], feed_dict=feed_dict)\n",
    "            \n",
    "            test_writer.add_summary(summary, step)\n",
    "            \n",
    "            pred_val = np.argmax(pred_val, 1)\n",
    "            correct = np.sum(pred_val == current_label[start_idx:end_idx])\n",
    "            total_correct += correct\n",
    "            total_seen += BATCH_SIZE\n",
    "            \n",
    "            for i in range(NUM_CLASSES):\n",
    "                total_class[i] = np.sum( np.ones(BATCH_SIZE) * i == current_label[start_idx:end_idx] )\n",
    "                total_detect_class[i] = np.sum( np.ones(BATCH_SIZE) * i == pred_val )\n",
    "                total_correct_class[i] = np.sum( (np.ones(BATCH_SIZE) * i == current_label[start_idx:end_idx]) * \\\n",
    "                                                    (np.ones(BATCH_SIZE) * i == pred_val) )\n",
    "                                \n",
    "        log_string(  '[Epoch %d] test mean loss: %f' % \\\n",
    "                   (  epoch, loss_sum / float(total_seen)  )   )\n",
    "        log_string(  '[Epoch %d] test accuracy: %f'% \\\n",
    "                   (  epoch, total_correct / float(total_seen)  )   )\n",
    "        log_string(  '[Epoch %d] test avg class acc: %f' % \\\n",
    "                   (  epoch, np.mean( np.array(total_correct_class)/np.array(total_class,dtype=np.float) )  )   )\n",
    "        \n",
    "        for i_cls in range(NUM_CLASSES):\n",
    "            log_string(  '[Epoch %d] test indivisual [%d] class recall: %f' % \\\n",
    "                       (  epoch, i_cls, float(total_correct_class[i_cls])/float(total_class[i_cls])))    \n",
    "            log_string(  '[Epoch %d] test indivisual [%d] class precision: %f' % \\\n",
    "                       (  epoch, i_cls, float(total_correct_class[i_cls])/float(total_detect_class[i_cls])))    \n",
    " \n",
    "        # Save the variables to disk.\n",
    "        if ( epoch + 1 ) % 10 == 0:\n",
    "            save_path = saver.save(sess, os.path.join(model_save_path, \"model.ckpt\"))\n",
    "            log_string(\"Model saved in file: %s\" % save_path)\n",
    "                "
   ]
  },
  {
   "cell_type": "code",
   "execution_count": null,
   "metadata": {},
   "outputs": [],
   "source": []
  }
 ],
 "metadata": {
  "kernelspec": {
   "display_name": "Python 2",
   "language": "python",
   "name": "python2"
  },
  "language_info": {
   "codemirror_mode": {
    "name": "ipython",
    "version": 2
   },
   "file_extension": ".py",
   "mimetype": "text/x-python",
   "name": "python",
   "nbconvert_exporter": "python",
   "pygments_lexer": "ipython2",
   "version": "2.7.12"
  }
 },
 "nbformat": 4,
 "nbformat_minor": 2
}
