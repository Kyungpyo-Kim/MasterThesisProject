{
 "cells": [
  {
   "cell_type": "markdown",
   "metadata": {},
   "source": [
    "# Train Log 20181130\n",
    "\n",
    "## Results\n",
    "```\n",
    "\n",
    "```\n",
    "\n",
    "## Trained model\n",
    "* [Download link]()\n",
    "\n",
    "## Evaluation\n",
    "* Incorrect sample\n",
    "![results]()"
   ]
  },
  {
   "cell_type": "code",
   "execution_count": 1,
   "metadata": {},
   "outputs": [],
   "source": [
    "import os, sys\n",
    "import numpy as np\n",
    "import matplotlib.pyplot as plt\n",
    "import time , datetime\n",
    "\n",
    "sys.path.append( os.path.abspath('../../../Dataset/scripts'))\n",
    "from utils import *\n",
    "\n",
    "sys.path.append( os.path.abspath('../../model') )\n",
    "from train import *\n",
    "import model_out_5 as MODEL"
   ]
  },
  {
   "cell_type": "code",
   "execution_count": 2,
   "metadata": {},
   "outputs": [],
   "source": [
    "\"\"\" Path \"\"\"\n",
    "data_train_path = os.path.abspath('../../../Dataset_ver2/dataset/db_v8_aug_20181129_ndb_v2_20181020/train.h5')\n",
    "data_vali_path = os.path.abspath('../../../Dataset_ver2/dataset/db_v8_aug_20181129_ndb_v2_20181020/vali.h5')\n"
   ]
  },
  {
   "cell_type": "code",
   "execution_count": 3,
   "metadata": {},
   "outputs": [
    {
     "data": {
      "image/png": "[encoded data removed]",
      "text/plain": [
       "<Figure size 1080x360 with 1 Axes>"
      ]
     },
     "metadata": {
      "needs_background": "light"
     },
     "output_type": "display_data"
    }
   ],
   "source": [
    "\"\"\" Load dataset\"\"\"\n",
    "\n",
    "data = []\n",
    "label = []\n",
    "\n",
    "data_train, label_train = load_h5(data_train_path)\n",
    "data_vali, label_vali = load_h5(data_vali_path)\n",
    "\n",
    "data.append(data_train)\n",
    "data.append(data_vali)\n",
    "label.append(label_train)\n",
    "label.append(label_vali)\n",
    "\n",
    "\"\"\" Data statistics \"\"\"\n",
    "\n",
    "label_list = [0,1,2,3,4]\n",
    "\n",
    "y_val = []\n",
    "for i in range( len ( data) ):\n",
    "    for j in range ( len ( label_list ) ):\n",
    "        y_val.append(np.sum(label[i] == label_list[j]))\n",
    "\n",
    "x_name=('unknown-train', 'cars-train', 'trucks-train', 'pedestrian-train', 'bike-train',\n",
    "        'unknown-vali', 'cars-vali', 'trucks-vali', 'pedestrian-vali', 'bike-vali')\n",
    "\n",
    "index = range( len(x_name) )\n",
    "\n",
    "plt.figure(figsize=(15,5))\n",
    "plt.bar(index, y_val, tick_label=x_name, align='center')\n",
    "plt.ylabel('Number of dataset')\n",
    "plt.title('Label distribution')\n",
    "plt.xlim( -1, len(x_name))\n",
    "plt.ylim( 0, np.max(y_val) * 1.1 )\n",
    "plt.show()"
   ]
  },
  {
   "cell_type": "code",
   "execution_count": 4,
   "metadata": {
    "scrolled": false
   },
   "outputs": [
    {
     "name": "stdout",
     "output_type": "stream",
     "text": [
      "Tensor(\"Placeholder_2:0\", shape=(), dtype=bool, device=/device:GPU:0)\n",
      "INFO:tensorflow:Summary name classify loss is illegal; using classify_loss instead.\n",
      "INFO:tensorflow:Summary name mat loss is illegal; using mat_loss instead.\n",
      "2018-11-30 21:15:37.040102   Train one epoch   1 /  10\n"
     ]
    },
    {
     "name": "stderr",
     "output_type": "stream",
     "text": [
      "100%|██████████| 2124/2124 [12:37<00:00,  2.80it/s]"
     ]
    },
    {
     "name": "stdout",
     "output_type": "stream",
     "text": [
      "2018-11-30 21:28:16.174598  [Epoch 0] mean loss: 0.013721\n",
      "2018-11-30 21:28:16.175302  [Epoch 0] accuracy: 0.727768\n",
      "2018-11-30 21:28:16.175936  [Epoch 0] avg class acc: 0.727768\n",
      "2018-11-30 21:28:16.176585  [Epoch 0] indivisual [0] class recall: 0.953202\n",
      "2018-11-30 21:28:16.176715  [Epoch 0] indivisual [0] class precision: 0.951410\n",
      "2018-11-30 21:28:16.177022  [Epoch 0] indivisual [1] class recall: 0.687147\n",
      "2018-11-30 21:28:16.177237  [Epoch 0] indivisual [1] class precision: 0.630508\n",
      "2018-11-30 21:28:16.177446  [Epoch 0] indivisual [2] class recall: 0.568691\n",
      "2018-11-30 21:28:16.177618  [Epoch 0] indivisual [2] class precision: 0.664667\n",
      "2018-11-30 21:28:16.178137  [Epoch 0] indivisual [3] class recall: 0.695904\n",
      "2018-11-30 21:28:16.178272  [Epoch 0] indivisual [3] class precision: 0.659130\n",
      "2018-11-30 21:28:16.178447  [Epoch 0] indivisual [4] class recall: 0.733898\n",
      "2018-11-30 21:28:16.178907  [Epoch 0] indivisual [4] class precision: 0.736186\n",
      "2018-11-30 21:28:16.179185   Evaluation one (validation set) epoch   1 /  10\n"
     ]
    },
    {
     "name": "stderr",
     "output_type": "stream",
     "text": [
      "\n",
      "100%|██████████| 287/287 [00:24<00:00, 11.81it/s]"
     ]
    },
    {
     "name": "stdout",
     "output_type": "stream",
     "text": [
      "2018-11-30 21:28:40.759437  [Epoch 0] vali mean loss: 0.101546\n",
      "2018-11-30 21:28:40.760376  [Epoch 0] vali accuracy: 0.921742\n",
      "2018-11-30 21:28:40.760847  [Epoch 0] vali avg class acc: 0.000000\n",
      "2018-11-30 21:28:40.761191  [Epoch 0] vali indivisual [1] class recall: 0.960000\n",
      "2018-11-30 21:28:40.761359  [Epoch 0] vali indivisual [1] class precision: 1.000000\n",
      "2018-11-30 21:28:40.761586  [Epoch 0] vali indivisual [2] class recall: 0.923077\n",
      "2018-11-30 21:28:40.762062  [Epoch 0] vali indivisual [2] class precision: 1.000000\n",
      "2018-11-30 21:28:40.762521  [Epoch 0] vali indivisual [3] class recall: 0.888889\n",
      "2018-11-30 21:28:40.762676  [Epoch 0] vali indivisual [3] class precision: 0.800000\n",
      "2018-11-30 21:28:40.762884  [Epoch 0] vali indivisual [4] class recall: 0.666667\n",
      "2018-11-30 21:28:40.763192  [Epoch 0] vali indivisual [4] class precision: 0.500000\n",
      "2018-11-30 21:28:40.763335   Train one epoch   2 /  10\n"
     ]
    },
    {
     "name": "stderr",
     "output_type": "stream",
     "text": [
      "\n",
      "100%|██████████| 2124/2124 [12:36<00:00,  2.81it/s]"
     ]
    },
    {
     "name": "stdout",
     "output_type": "stream",
     "text": [
      "2018-11-30 21:41:18.989256  [Epoch 1] mean loss: 0.002475\n",
      "2018-11-30 21:41:18.989825  [Epoch 1] accuracy: 0.959539\n",
      "2018-11-30 21:41:18.990545  [Epoch 1] avg class acc: 0.959539\n",
      "2018-11-30 21:41:18.990850  [Epoch 1] indivisual [0] class recall: 0.994209\n",
      "2018-11-30 21:41:18.991311  [Epoch 1] indivisual [0] class precision: 0.990897\n",
      "2018-11-30 21:41:18.991481  [Epoch 1] indivisual [1] class recall: 0.948211\n",
      "2018-11-30 21:41:18.991747  [Epoch 1] indivisual [1] class precision: 0.944077\n",
      "2018-11-30 21:41:18.991880  [Epoch 1] indivisual [2] class recall: 0.957957\n",
      "2018-11-30 21:41:18.992549  [Epoch 1] indivisual [2] class precision: 0.953200\n",
      "2018-11-30 21:41:18.992916  [Epoch 1] indivisual [3] class recall: 0.961017\n",
      "2018-11-30 21:41:18.993017  [Epoch 1] indivisual [3] class precision: 0.961651\n",
      "2018-11-30 21:41:18.993286  [Epoch 1] indivisual [4] class recall: 0.936299\n",
      "2018-11-30 21:41:18.993417  [Epoch 1] indivisual [4] class precision: 0.947722\n",
      "2018-11-30 21:41:18.993542   Evaluation one (validation set) epoch   2 /  10\n"
     ]
    },
    {
     "name": "stderr",
     "output_type": "stream",
     "text": [
      "\n",
      "100%|██████████| 287/287 [00:24<00:00, 11.82it/s]"
     ]
    },
    {
     "name": "stdout",
     "output_type": "stream",
     "text": [
      "2018-11-30 21:41:43.531926  [Epoch 1] vali mean loss: 0.018315\n",
      "2018-11-30 21:41:43.532807  [Epoch 1] vali accuracy: 0.995331\n",
      "2018-11-30 21:41:43.533145  [Epoch 1] vali avg class acc: 0.800000\n",
      "2018-11-30 21:41:43.533598  [Epoch 1] vali indivisual [0] class recall: 1.000000\n",
      "2018-11-30 21:41:43.534015  [Epoch 1] vali indivisual [0] class precision: 1.000000\n",
      "2018-11-30 21:41:43.534132  [Epoch 1] vali indivisual [1] class recall: 0.967742\n",
      "2018-11-30 21:41:43.534416  [Epoch 1] vali indivisual [1] class precision: 1.000000\n",
      "2018-11-30 21:41:43.534704  [Epoch 1] vali indivisual [2] class recall: 1.000000\n",
      "2018-11-30 21:41:43.534839  [Epoch 1] vali indivisual [2] class precision: 1.000000\n",
      "2018-11-30 21:41:43.535088  [Epoch 1] vali indivisual [3] class recall: 1.000000\n",
      "2018-11-30 21:41:43.535215  [Epoch 1] vali indivisual [3] class precision: 1.000000\n",
      "2018-11-30 21:41:43.535929  [Epoch 1] vali indivisual [4] class recall: 1.000000\n",
      "2018-11-30 21:41:43.536294  [Epoch 1] vali indivisual [4] class precision: 0.833333\n",
      "2018-11-30 21:41:43.536405   Train one epoch   3 /  10\n"
     ]
    },
    {
     "name": "stderr",
     "output_type": "stream",
     "text": [
      "\n",
      "100%|██████████| 2124/2124 [12:37<00:00,  2.80it/s]"
     ]
    },
    {
     "name": "stdout",
     "output_type": "stream",
     "text": [
      "2018-11-30 21:54:22.077642  [Epoch 2] mean loss: 0.000842\n",
      "2018-11-30 21:54:22.077967  [Epoch 2] accuracy: 0.987345\n",
      "2018-11-30 21:54:22.078610  [Epoch 2] avg class acc: 0.987345\n",
      "2018-11-30 21:54:22.078762  [Epoch 2] indivisual [0] class recall: 0.997505\n",
      "2018-11-30 21:54:22.079026  [Epoch 2] indivisual [0] class precision: 0.996754\n",
      "2018-11-30 21:54:22.079170  [Epoch 2] indivisual [1] class recall: 0.983004\n",
      "2018-11-30 21:54:22.079913  [Epoch 2] indivisual [1] class precision: 0.983467\n",
      "2018-11-30 21:54:22.080056  [Epoch 2] indivisual [2] class recall: 0.986770\n",
      "2018-11-30 21:54:22.080303  [Epoch 2] indivisual [2] class precision: 0.985193\n",
      "2018-11-30 21:54:22.080432  [Epoch 2] indivisual [3] class recall: 0.989407\n",
      "2018-11-30 21:54:22.081081  [Epoch 2] indivisual [3] class precision: 0.988476\n",
      "2018-11-30 21:54:22.081440  [Epoch 2] indivisual [4] class recall: 0.980038\n",
      "2018-11-30 21:54:22.081543  [Epoch 2] indivisual [4] class precision: 0.982814\n",
      "2018-11-30 21:54:22.081801   Evaluation one (validation set) epoch   3 /  10\n"
     ]
    },
    {
     "name": "stderr",
     "output_type": "stream",
     "text": [
      "\n",
      "100%|██████████| 287/287 [00:24<00:00, 11.87it/s]"
     ]
    },
    {
     "name": "stdout",
     "output_type": "stream",
     "text": [
      "2018-11-30 21:54:46.517791  [Epoch 2] vali mean loss: 0.006228\n",
      "2018-11-30 21:54:46.518365  [Epoch 2] vali accuracy: 0.997143\n",
      "2018-11-30 21:54:46.518681  [Epoch 2] vali avg class acc: 1.000000\n",
      "2018-11-30 21:54:46.518993  [Epoch 2] vali indivisual [0] class recall: 1.000000\n",
      "2018-11-30 21:54:46.519793  [Epoch 2] vali indivisual [0] class precision: 1.000000\n",
      "2018-11-30 21:54:46.520162  [Epoch 2] vali indivisual [1] class recall: 1.000000\n",
      "2018-11-30 21:54:46.520262  [Epoch 2] vali indivisual [1] class precision: 1.000000\n",
      "2018-11-30 21:54:46.520526  [Epoch 2] vali indivisual [2] class recall: 1.000000\n",
      "2018-11-30 21:54:46.520653  [Epoch 2] vali indivisual [2] class precision: 1.000000\n",
      "2018-11-30 21:54:46.520749  [Epoch 2] vali indivisual [3] class recall: 1.000000\n",
      "2018-11-30 21:54:46.520978  [Epoch 2] vali indivisual [3] class precision: 1.000000\n",
      "2018-11-30 21:54:46.521593  [Epoch 2] vali indivisual [4] class recall: 1.000000\n",
      "2018-11-30 21:54:46.521721  [Epoch 2] vali indivisual [4] class precision: 1.000000\n",
      "2018-11-30 21:54:46.522283   Train one epoch   4 /  10\n"
     ]
    },
    {
     "name": "stderr",
     "output_type": "stream",
     "text": [
      "\n",
      "100%|██████████| 2124/2124 [12:37<00:00,  2.81it/s]"
     ]
    },
    {
     "name": "stdout",
     "output_type": "stream",
     "text": [
      "2018-11-30 22:07:24.969064  [Epoch 3] mean loss: 0.000560\n",
      "2018-11-30 22:07:24.969456  [Epoch 3] accuracy: 0.991780\n",
      "2018-11-30 22:07:24.970034  [Epoch 3] avg class acc: 0.991780\n",
      "2018-11-30 22:07:24.970362  [Epoch 3] indivisual [0] class recall: 0.998305\n",
      "2018-11-30 22:07:24.970580  [Epoch 3] indivisual [0] class precision: 0.997835\n",
      "2018-11-30 22:07:24.971032  [Epoch 3] indivisual [1] class recall: 0.989030\n",
      "2018-11-30 22:07:24.971167  [Epoch 3] indivisual [1] class precision: 0.988844\n",
      "2018-11-30 22:07:24.971414  [Epoch 3] indivisual [2] class recall: 0.990678\n",
      "2018-11-30 22:07:24.971713  [Epoch 3] indivisual [2] class precision: 0.989793\n",
      "2018-11-30 22:07:24.972130  [Epoch 3] indivisual [3] class recall: 0.993409\n",
      "2018-11-30 22:07:24.972259  [Epoch 3] indivisual [3] class precision: 0.993362\n",
      "2018-11-30 22:07:24.972811  [Epoch 3] indivisual [4] class recall: 0.987476\n",
      "2018-11-30 22:07:24.972908  [Epoch 3] indivisual [4] class precision: 0.989060\n",
      "2018-11-30 22:07:24.973162   Evaluation one (validation set) epoch   4 /  10\n"
     ]
    },
    {
     "name": "stderr",
     "output_type": "stream",
     "text": [
      "\n",
      "100%|██████████| 287/287 [00:23<00:00, 12.02it/s]"
     ]
    },
    {
     "name": "stdout",
     "output_type": "stream",
     "text": [
      "2018-11-30 22:07:49.109693  [Epoch 3] vali mean loss: 0.004144\n",
      "2018-11-30 22:07:49.110272  [Epoch 3] vali accuracy: 0.997770\n",
      "2018-11-30 22:07:49.110652  [Epoch 3] vali avg class acc: 0.800000\n",
      "2018-11-30 22:07:49.111239  [Epoch 3] vali indivisual [1] class recall: 1.000000\n",
      "2018-11-30 22:07:49.111443  [Epoch 3] vali indivisual [1] class precision: 1.000000\n",
      "2018-11-30 22:07:49.111614  [Epoch 3] vali indivisual [2] class recall: 1.000000\n",
      "2018-11-30 22:07:49.112227  [Epoch 3] vali indivisual [2] class precision: 1.000000\n",
      "2018-11-30 22:07:49.112596  [Epoch 3] vali indivisual [3] class recall: 1.000000\n",
      "2018-11-30 22:07:49.112704  [Epoch 3] vali indivisual [3] class precision: 1.000000\n",
      "2018-11-30 22:07:49.112974  [Epoch 3] vali indivisual [4] class recall: 1.000000\n",
      "2018-11-30 22:07:49.113106  [Epoch 3] vali indivisual [4] class precision: 1.000000\n",
      "2018-11-30 22:07:49.113361   Train one epoch   5 /  10\n"
     ]
    },
    {
     "name": "stderr",
     "output_type": "stream",
     "text": [
      "\n",
      "100%|██████████| 2124/2124 [12:36<00:00,  2.81it/s]"
     ]
    },
    {
     "name": "stdout",
     "output_type": "stream",
     "text": [
      "2018-11-30 22:20:27.379828  [Epoch 4] mean loss: 0.000251\n",
      "2018-11-30 22:20:27.380456  [Epoch 4] accuracy: 0.996516\n",
      "2018-11-30 22:20:27.381090  [Epoch 4] avg class acc: 0.996516\n",
      "2018-11-30 22:20:27.381417  [Epoch 4] indivisual [0] class recall: 0.999388\n",
      "2018-11-30 22:20:27.381589  [Epoch 4] indivisual [0] class precision: 0.999106\n",
      "2018-11-30 22:20:27.381838  [Epoch 4] indivisual [1] class recall: 0.994727\n",
      "2018-11-30 22:20:27.381960  [Epoch 4] indivisual [1] class precision: 0.994961\n",
      "2018-11-30 22:20:27.382489  [Epoch 4] indivisual [2] class recall: 0.995763\n",
      "2018-11-30 22:20:27.382616  [Epoch 4] indivisual [2] class precision: 0.995247\n",
      "2018-11-30 22:20:27.382784  [Epoch 4] indivisual [3] class recall: 0.997458\n",
      "2018-11-30 22:20:27.382988  [Epoch 4] indivisual [3] class precision: 0.997739\n",
      "2018-11-30 22:20:27.383534  [Epoch 4] indivisual [4] class recall: 0.995245\n",
      "2018-11-30 22:20:27.383794  [Epoch 4] indivisual [4] class precision: 0.995526\n",
      "2018-11-30 22:20:27.383916   Evaluation one (validation set) epoch   5 /  10\n"
     ]
    },
    {
     "name": "stderr",
     "output_type": "stream",
     "text": [
      "\n",
      "100%|██████████| 287/287 [00:23<00:00, 12.02it/s]"
     ]
    },
    {
     "name": "stdout",
     "output_type": "stream",
     "text": [
      "2018-11-30 22:20:51.513761  [Epoch 4] vali mean loss: 0.001858\n",
      "2018-11-30 22:20:51.514340  [Epoch 4] vali accuracy: 0.997003\n",
      "2018-11-30 22:20:51.514892  [Epoch 4] vali avg class acc: 1.000000\n",
      "2018-11-30 22:20:51.515357  [Epoch 4] vali indivisual [0] class recall: 1.000000\n",
      "2018-11-30 22:20:51.515968  [Epoch 4] vali indivisual [0] class precision: 1.000000\n",
      "2018-11-30 22:20:51.516380  [Epoch 4] vali indivisual [1] class recall: 1.000000\n",
      "2018-11-30 22:20:51.516582  [Epoch 4] vali indivisual [1] class precision: 1.000000\n",
      "2018-11-30 22:20:51.516847  [Epoch 4] vali indivisual [2] class recall: 1.000000\n",
      "2018-11-30 22:20:51.517431  [Epoch 4] vali indivisual [2] class precision: 1.000000\n",
      "2018-11-30 22:20:51.517531  [Epoch 4] vali indivisual [3] class recall: 1.000000\n",
      "2018-11-30 22:20:51.517717  [Epoch 4] vali indivisual [3] class precision: 1.000000\n",
      "2018-11-30 22:20:51.518063  [Epoch 4] vali indivisual [4] class recall: 1.000000\n",
      "2018-11-30 22:20:51.518161  [Epoch 4] vali indivisual [4] class precision: 1.000000\n",
      "2018-11-30 22:20:51.518850   Train one epoch   6 /  10\n"
     ]
    },
    {
     "name": "stderr",
     "output_type": "stream",
     "text": [
      "\n",
      "100%|██████████| 2124/2124 [12:36<00:00,  2.81it/s]"
     ]
    },
    {
     "name": "stdout",
     "output_type": "stream",
     "text": [
      "2018-11-30 22:33:29.686865  [Epoch 5] mean loss: 0.002653\n",
      "2018-11-30 22:33:29.687754  [Epoch 5] accuracy: 0.992034\n",
      "2018-11-30 22:33:29.688088  [Epoch 5] avg class acc: 0.992034\n",
      "2018-11-30 22:33:29.688577  [Epoch 5] indivisual [0] class recall: 0.998023\n",
      "2018-11-30 22:33:29.688691  [Epoch 5] indivisual [0] class precision: 0.996802\n",
      "2018-11-30 22:33:29.688935  [Epoch 5] indivisual [1] class recall: 0.990019\n",
      "2018-11-30 22:33:29.689148  [Epoch 5] indivisual [1] class precision: 0.990065\n",
      "2018-11-30 22:33:29.689291  [Epoch 5] indivisual [2] class recall: 0.991902\n",
      "2018-11-30 22:33:29.689422  [Epoch 5] indivisual [2] class precision: 0.990456\n",
      "2018-11-30 22:33:29.690202  [Epoch 5] indivisual [3] class recall: 0.991902\n",
      "2018-11-30 22:33:29.690328  [Epoch 5] indivisual [3] class precision: 0.992790\n",
      "2018-11-30 22:33:29.690447  [Epoch 5] indivisual [4] class recall: 0.988324\n",
      "2018-11-30 22:33:29.690584  [Epoch 5] indivisual [4] class precision: 0.990049\n",
      "2018-11-30 22:33:29.691192   Evaluation one (validation set) epoch   6 /  10\n"
     ]
    },
    {
     "name": "stderr",
     "output_type": "stream",
     "text": [
      "\n",
      "100%|██████████| 287/287 [00:23<00:00, 12.02it/s]"
     ]
    },
    {
     "name": "stdout",
     "output_type": "stream",
     "text": [
      "2018-11-30 22:33:53.822816  [Epoch 5] vali mean loss: 0.019631\n",
      "2018-11-30 22:33:53.823347  [Epoch 5] vali accuracy: 0.996167\n",
      "2018-11-30 22:33:53.823810  [Epoch 5] vali avg class acc: 0.800000\n",
      "2018-11-30 22:33:53.824449  [Epoch 5] vali indivisual [1] class recall: 1.000000\n",
      "2018-11-30 22:33:53.824690  [Epoch 5] vali indivisual [1] class precision: 1.000000\n",
      "2018-11-30 22:33:53.824858  [Epoch 5] vali indivisual [2] class recall: 1.000000\n",
      "2018-11-30 22:33:53.825113  [Epoch 5] vali indivisual [2] class precision: 1.000000\n",
      "2018-11-30 22:33:53.825579  [Epoch 5] vali indivisual [3] class recall: 1.000000\n",
      "2018-11-30 22:33:53.825975  [Epoch 5] vali indivisual [3] class precision: 1.000000\n",
      "2018-11-30 22:33:53.826198  [Epoch 5] vali indivisual [4] class recall: 1.000000\n",
      "2018-11-30 22:33:53.826485  [Epoch 5] vali indivisual [4] class precision: 1.000000\n",
      "2018-11-30 22:33:53.826629   Train one epoch   7 /  10\n"
     ]
    },
    {
     "name": "stderr",
     "output_type": "stream",
     "text": [
      "\n",
      "100%|██████████| 2124/2124 [12:36<00:00,  2.81it/s]"
     ]
    },
    {
     "name": "stdout",
     "output_type": "stream",
     "text": [
      "2018-11-30 22:46:32.077167  [Epoch 6] mean loss: 0.000308\n",
      "2018-11-30 22:46:32.077999  [Epoch 6] accuracy: 0.996064\n",
      "2018-11-30 22:46:32.078541  [Epoch 6] avg class acc: 0.996064\n",
      "2018-11-30 22:46:32.078871  [Epoch 6] indivisual [0] class recall: 0.999011\n",
      "2018-11-30 22:46:32.079050  [Epoch 6] indivisual [0] class precision: 0.998400\n",
      "2018-11-30 22:46:32.079287  [Epoch 6] indivisual [1] class recall: 0.994492\n",
      "2018-11-30 22:46:32.079513  [Epoch 6] indivisual [1] class precision: 0.995101\n",
      "2018-11-30 22:46:32.079977  [Epoch 6] indivisual [2] class recall: 0.995621\n",
      "2018-11-30 22:46:32.080207  [Epoch 6] indivisual [2] class precision: 0.994685\n",
      "2018-11-30 22:46:32.080420  [Epoch 6] indivisual [3] class recall: 0.996704\n",
      "2018-11-30 22:46:32.080546  [Epoch 6] indivisual [3] class precision: 0.996939\n",
      "2018-11-30 22:46:32.081126  [Epoch 6] indivisual [4] class recall: 0.994492\n",
      "2018-11-30 22:46:32.081491  [Epoch 6] indivisual [4] class precision: 0.995194\n",
      "2018-11-30 22:46:32.081631   Evaluation one (validation set) epoch   7 /  10\n"
     ]
    },
    {
     "name": "stderr",
     "output_type": "stream",
     "text": [
      "\n",
      "100%|██████████| 287/287 [00:23<00:00, 12.00it/s]"
     ]
    },
    {
     "name": "stdout",
     "output_type": "stream",
     "text": [
      "2018-11-30 22:46:56.273412  [Epoch 6] vali mean loss: 0.002281\n",
      "2018-11-30 22:46:56.274234  [Epoch 6] vali accuracy: 0.999024\n",
      "2018-11-30 22:46:56.274578  [Epoch 6] vali avg class acc: 1.000000\n",
      "2018-11-30 22:46:56.274949  [Epoch 6] vali indivisual [0] class recall: 1.000000\n",
      "2018-11-30 22:46:56.275127  [Epoch 6] vali indivisual [0] class precision: 1.000000\n",
      "2018-11-30 22:46:56.275509  [Epoch 6] vali indivisual [1] class recall: 1.000000\n",
      "2018-11-30 22:46:56.275721  [Epoch 6] vali indivisual [1] class precision: 1.000000\n",
      "2018-11-30 22:46:56.275868  [Epoch 6] vali indivisual [2] class recall: 1.000000\n",
      "2018-11-30 22:46:56.275992  [Epoch 6] vali indivisual [2] class precision: 1.000000\n",
      "2018-11-30 22:46:56.276534  [Epoch 6] vali indivisual [3] class recall: 1.000000\n",
      "2018-11-30 22:46:56.276662  [Epoch 6] vali indivisual [3] class precision: 1.000000\n",
      "2018-11-30 22:46:56.276785  [Epoch 6] vali indivisual [4] class recall: 1.000000\n",
      "2018-11-30 22:46:56.276925  [Epoch 6] vali indivisual [4] class precision: 1.000000\n",
      "2018-11-30 22:46:56.277533   Train one epoch   8 /  10\n"
     ]
    },
    {
     "name": "stderr",
     "output_type": "stream",
     "text": [
      "\n",
      "100%|██████████| 2124/2124 [12:37<00:00,  2.80it/s]"
     ]
    },
    {
     "name": "stdout",
     "output_type": "stream",
     "text": [
      "2018-11-30 22:59:34.840043  [Epoch 7] mean loss: 0.000177\n",
      "2018-11-30 22:59:34.840628  [Epoch 7] accuracy: 0.997863\n",
      "2018-11-30 22:59:34.840987  [Epoch 7] avg class acc: 0.997863\n",
      "2018-11-30 22:59:34.841661  [Epoch 7] indivisual [0] class recall: 0.999529\n",
      "2018-11-30 22:59:34.841793  [Epoch 7] indivisual [0] class precision: 0.999153\n",
      "2018-11-30 22:59:34.842057  [Epoch 7] indivisual [1] class recall: 0.996704\n",
      "2018-11-30 22:59:34.842189  [Epoch 7] indivisual [1] class precision: 0.997174\n",
      "2018-11-30 22:59:34.842397  [Epoch 7] indivisual [2] class recall: 0.997646\n",
      "2018-11-30 22:59:34.842835  [Epoch 7] indivisual [2] class precision: 0.996707\n",
      "2018-11-30 22:59:34.843026  [Epoch 7] indivisual [3] class recall: 0.998635\n",
      "2018-11-30 22:59:34.843263  [Epoch 7] indivisual [3] class precision: 0.998400\n",
      "2018-11-30 22:59:34.843532  [Epoch 7] indivisual [4] class recall: 0.996798\n",
      "2018-11-30 22:59:34.843775  [Epoch 7] indivisual [4] class precision: 0.997879\n",
      "2018-11-30 22:59:34.844021   Evaluation one (validation set) epoch   8 /  10\n"
     ]
    },
    {
     "name": "stderr",
     "output_type": "stream",
     "text": [
      "\n",
      "100%|██████████| 287/287 [00:23<00:00, 12.02it/s]"
     ]
    },
    {
     "name": "stdout",
     "output_type": "stream",
     "text": [
      "2018-11-30 22:59:58.985124  [Epoch 7] vali mean loss: 0.001308\n",
      "2018-11-30 22:59:58.985568  [Epoch 7] vali accuracy: 0.998815\n",
      "2018-11-30 22:59:58.986206  [Epoch 7] vali avg class acc: 0.800000\n",
      "2018-11-30 22:59:58.986523  [Epoch 7] vali indivisual [1] class recall: 1.000000\n",
      "2018-11-30 22:59:58.986871  [Epoch 7] vali indivisual [1] class precision: 1.000000\n",
      "2018-11-30 22:59:58.987094  [Epoch 7] vali indivisual [2] class recall: 1.000000\n",
      "2018-11-30 22:59:58.987282  [Epoch 7] vali indivisual [2] class precision: 1.000000\n",
      "2018-11-30 22:59:58.987464  [Epoch 7] vali indivisual [3] class recall: 1.000000\n",
      "2018-11-30 22:59:58.987959  [Epoch 7] vali indivisual [3] class precision: 1.000000\n",
      "2018-11-30 22:59:58.988185  [Epoch 7] vali indivisual [4] class recall: 1.000000\n",
      "2018-11-30 22:59:58.988336  [Epoch 7] vali indivisual [4] class precision: 1.000000\n",
      "2018-11-30 22:59:58.988465   Train one epoch   9 /  10\n"
     ]
    },
    {
     "name": "stderr",
     "output_type": "stream",
     "text": [
      "\n",
      "100%|██████████| 2124/2124 [12:37<00:00,  2.80it/s]"
     ]
    },
    {
     "name": "stdout",
     "output_type": "stream",
     "text": [
      "2018-11-30 23:12:37.816549  [Epoch 8] mean loss: 0.000115\n",
      "2018-11-30 23:12:37.817458  [Epoch 8] accuracy: 0.998569\n",
      "2018-11-30 23:12:37.817928  [Epoch 8] avg class acc: 0.998569\n",
      "2018-11-30 23:12:37.818148  [Epoch 8] indivisual [0] class recall: 0.999812\n",
      "2018-11-30 23:12:37.818445  [Epoch 8] indivisual [0] class precision: 0.999435\n",
      "2018-11-30 23:12:37.818726  [Epoch 8] indivisual [1] class recall: 0.997552\n",
      "2018-11-30 23:12:37.819125  [Epoch 8] indivisual [1] class precision: 0.998492\n",
      "2018-11-30 23:12:37.819230  [Epoch 8] indivisual [2] class recall: 0.998588\n",
      "2018-11-30 23:12:37.819507  [Epoch 8] indivisual [2] class precision: 0.997836\n",
      "2018-11-30 23:12:37.819710  [Epoch 8] indivisual [3] class recall: 0.998635\n",
      "2018-11-30 23:12:37.819858  [Epoch 8] indivisual [3] class precision: 0.998964\n",
      "2018-11-30 23:12:37.820099  [Epoch 8] indivisual [4] class recall: 0.998258\n",
      "2018-11-30 23:12:37.820584  [Epoch 8] indivisual [4] class precision: 0.998117\n",
      "2018-11-30 23:12:37.820931   Evaluation one (validation set) epoch   9 /  10\n"
     ]
    },
    {
     "name": "stderr",
     "output_type": "stream",
     "text": [
      "\n",
      "100%|██████████| 287/287 [00:23<00:00, 11.97it/s]"
     ]
    },
    {
     "name": "stdout",
     "output_type": "stream",
     "text": [
      "2018-11-30 23:13:02.061490  [Epoch 8] vali mean loss: 0.000853\n",
      "2018-11-30 23:13:02.062098  [Epoch 8] vali accuracy: 0.999303\n",
      "2018-11-30 23:13:02.062456  [Epoch 8] vali avg class acc: 0.800000\n",
      "2018-11-30 23:13:02.062635  [Epoch 8] vali indivisual [1] class recall: 1.000000\n",
      "2018-11-30 23:13:02.062959  [Epoch 8] vali indivisual [1] class precision: 1.000000\n",
      "2018-11-30 23:13:02.063449  [Epoch 8] vali indivisual [2] class recall: 1.000000\n",
      "2018-11-30 23:13:02.063723  [Epoch 8] vali indivisual [2] class precision: 1.000000\n",
      "2018-11-30 23:13:02.063886  [Epoch 8] vali indivisual [3] class recall: 1.000000\n",
      "2018-11-30 23:13:02.064032  [Epoch 8] vali indivisual [3] class precision: 1.000000\n",
      "2018-11-30 23:13:02.064490  [Epoch 8] vali indivisual [4] class recall: 1.000000\n",
      "2018-11-30 23:13:02.064621  [Epoch 8] vali indivisual [4] class precision: 1.000000\n",
      "2018-11-30 23:13:02.064844   Train one epoch  10 /  10\n"
     ]
    },
    {
     "name": "stderr",
     "output_type": "stream",
     "text": [
      "\n",
      "100%|██████████| 2124/2124 [12:37<00:00,  2.81it/s]"
     ]
    },
    {
     "name": "stdout",
     "output_type": "stream",
     "text": [
      "2018-11-30 23:25:40.460558  [Epoch 9] mean loss: 0.000090\n",
      "2018-11-30 23:25:40.461390  [Epoch 9] accuracy: 0.998795\n",
      "2018-11-30 23:25:40.461944  [Epoch 9] avg class acc: 0.998795\n",
      "2018-11-30 23:25:40.462166  [Epoch 9] indivisual [0] class recall: 0.999812\n",
      "2018-11-30 23:25:40.462464  [Epoch 9] indivisual [0] class precision: 0.999623\n",
      "2018-11-30 23:25:40.462599  [Epoch 9] indivisual [1] class recall: 0.997976\n",
      "2018-11-30 23:25:40.462764  [Epoch 9] indivisual [1] class precision: 0.998211\n",
      "2018-11-30 23:25:40.463320  [Epoch 9] indivisual [2] class recall: 0.998446\n",
      "2018-11-30 23:25:40.463545  [Epoch 9] indivisual [2] class precision: 0.998070\n",
      "2018-11-30 23:25:40.463697  [Epoch 9] indivisual [3] class recall: 0.999294\n",
      "2018-11-30 23:25:40.463865  [Epoch 9] indivisual [3] class precision: 0.999388\n",
      "2018-11-30 23:25:40.464397  [Epoch 9] indivisual [4] class recall: 0.998446\n",
      "2018-11-30 23:25:40.464533  [Epoch 9] indivisual [4] class precision: 0.998681\n",
      "2018-11-30 23:25:40.464714   Evaluation one (validation set) epoch  10 /  10\n"
     ]
    },
    {
     "name": "stderr",
     "output_type": "stream",
     "text": [
      "\n",
      "100%|██████████| 287/287 [00:23<00:00, 12.00it/s]\n"
     ]
    },
    {
     "name": "stdout",
     "output_type": "stream",
     "text": [
      "2018-11-30 23:26:04.657362  [Epoch 9] vali mean loss: 0.000663\n",
      "2018-11-30 23:26:04.657867  [Epoch 9] vali accuracy: 0.999652\n",
      "2018-11-30 23:26:04.658352  [Epoch 9] vali avg class acc: 0.800000\n",
      "2018-11-30 23:26:04.658970  [Epoch 9] vali indivisual [1] class recall: 1.000000\n",
      "2018-11-30 23:26:04.659085  [Epoch 9] vali indivisual [1] class precision: 1.000000\n",
      "2018-11-30 23:26:04.659371  [Epoch 9] vali indivisual [2] class recall: 1.000000\n",
      "2018-11-30 23:26:04.659677  [Epoch 9] vali indivisual [2] class precision: 1.000000\n",
      "2018-11-30 23:26:04.659803  [Epoch 9] vali indivisual [3] class recall: 1.000000\n",
      "2018-11-30 23:26:04.660012  [Epoch 9] vali indivisual [3] class precision: 1.000000\n",
      "2018-11-30 23:26:04.660488  [Epoch 9] vali indivisual [4] class recall: 1.000000\n",
      "2018-11-30 23:26:04.660748  [Epoch 9] vali indivisual [4] class precision: 1.000000\n",
      "2018-11-30 23:26:05.511090  Model saved in file: /home/gozilla/kyungpyo/git/MasterThesisProject/Network/notebook/train_log_20181130_1/model/model.ckpt\n"
     ]
    }
   ],
   "source": [
    "\"\"\" Path \"\"\"\n",
    "log_path = os.path.abspath('./train_log_20181130.txt')\n",
    "\n",
    "model_save_path = os.path.abspath('./model')\n",
    "if not os.path.isdir(model_save_path) : os.mkdir(model_save_path)\n",
    "\n",
    "\"\"\" Parameters \"\"\"\n",
    "GPU_INDEX = 0\n",
    "NUM_POINT = 1024\n",
    "NUM_CLASSES = 5\n",
    "\n",
    "BN_INIT_DECAY = 0.5\n",
    "BN_DECAY_DECAY_RATE = 0.5\n",
    "BN_DECAY_DECAY_STEP = float(200000)\n",
    "BN_DECAY_CLIP = 0.99\n",
    "DECAY_STEP = BN_DECAY_DECAY_STEP\n",
    "DECAY_RATE = BN_DECAY_DECAY_RATE\n",
    "\n",
    "BATCH_SIZE = 50\n",
    "\n",
    "MOMENTUM = 0.9\n",
    "\n",
    "BASE_LEARNING_RATE = 0.001\n",
    "\n",
    "OPTIMIZER = 'adam'\n",
    "\n",
    "MAX_EPOCH = 10\n",
    "\n",
    "\"\"\" log file \"\"\"\n",
    "LOG_FOUT = open(log_path, 'w')\n",
    "\n",
    "def log_string(out_str):\n",
    "    out_str = str( datetime.datetime.fromtimestamp( time.time() ) ) + \"  \" + out_str\n",
    "    LOG_FOUT.write(out_str+'\\n')\n",
    "    LOG_FOUT.flush()\n",
    "    print(out_str)\n",
    "    \n",
    "    \n",
    "def get_learning_rate(batch):\n",
    "    learning_rate = tf.train.exponential_decay(\n",
    "                        BASE_LEARNING_RATE,  # Base learning rate.\n",
    "                        batch * BATCH_SIZE,  # Current index into the dataset.\n",
    "                        DECAY_STEP,          # Decay step.\n",
    "                        DECAY_RATE,          # Decay rate.\n",
    "                        staircase=True)\n",
    "    learning_rate = tf.maximum(learning_rate, 0.00001) # CLIP THE LEARNING RATE!\n",
    "    return learning_rate        \n",
    "\n",
    "def get_bn_decay(batch):\n",
    "    bn_momentum = tf.train.exponential_decay(\n",
    "                      BN_INIT_DECAY,\n",
    "                      batch * BATCH_SIZE,\n",
    "                      BN_DECAY_DECAY_STEP,\n",
    "                      BN_DECAY_DECAY_RATE,\n",
    "                      staircase=True)\n",
    "    bn_decay = tf.minimum(BN_DECAY_CLIP, 1 - bn_momentum)\n",
    "    return bn_decay\n",
    "\n",
    "\"\"\" load traing model \"\"\"\n",
    "with tf.Graph().as_default():\n",
    "    with tf.device('/gpu:'+str(GPU_INDEX)):\n",
    "        pointclouds_pl, labels_pl = MODEL.placeholder_inputs(BATCH_SIZE, NUM_POINT)\n",
    "        is_training_pl = tf.placeholder(tf.bool, shape=())\n",
    "        print(is_training_pl)\n",
    "\n",
    "        # Note the global_step=batch parameter to minimize. \n",
    "        # That tells the optimizer to helpfully increment the 'batch' parameter for you every time it trains.\n",
    "        batch = tf.Variable(0)\n",
    "        bn_decay = get_bn_decay(batch)\n",
    "        tf.summary.scalar('bn_decay', bn_decay)\n",
    "\n",
    "        # Get model and loss \n",
    "        pred, end_points = MODEL.get_model(pointclouds_pl, is_training_pl, bn_decay=bn_decay)\n",
    "        loss = MODEL.get_loss(pred, labels_pl, end_points)\n",
    "        tf.summary.scalar('loss', loss)\n",
    "\n",
    "        correct = tf.equal(tf.argmax(pred, 1), tf.to_int64(labels_pl))\n",
    "        accuracy = tf.reduce_sum(tf.cast(correct, tf.float32)) / float(BATCH_SIZE)\n",
    "        tf.summary.scalar('accuracy', accuracy)\n",
    "\n",
    "        # Get training operator\n",
    "        learning_rate = get_learning_rate(batch)\n",
    "        tf.summary.scalar('learning_rate', learning_rate)\n",
    "        if OPTIMIZER == 'momentum':\n",
    "            optimizer = tf.train.MomentumOptimizer(learning_rate, momentum=MOMENTUM)\n",
    "        elif OPTIMIZER == 'adam':\n",
    "            optimizer = tf.train.AdamOptimizer(learning_rate)\n",
    "        train_op = optimizer.minimize(loss, global_step=batch)\n",
    "\n",
    "        # Add ops to save and restore all the variables.\n",
    "        saver = tf.train.Saver()\n",
    "\n",
    "    # Create a session\n",
    "    config = tf.ConfigProto()\n",
    "    config.gpu_options.allow_growth = True\n",
    "    config.allow_soft_placement = True\n",
    "    config.log_device_placement = False\n",
    "    sess = tf.Session(config=config)\n",
    "\n",
    "    # Add summary writers\n",
    "    #merged = tf.merge_all_summaries()\n",
    "    merged = tf.summary.merge_all()\n",
    "\n",
    "    train_writer_path = os.path.abspath( os.path.join(model_save_path, 'train') )\n",
    "    if os.path.isdir(train_writer_path): os.system('rm -r {}'.format(train_writer_path))\n",
    "    os.mkdir(train_writer_path)\n",
    "        \n",
    "    test_writer_path = os.path.abspath( os.path.join(model_save_path, 'test') )\n",
    "    if os.path.isdir(test_writer_path): os.system('rm -r {}'.format(test_writer_path))\n",
    "    os.mkdir(test_writer_path)\n",
    "    \n",
    "    \n",
    "    train_writer = tf.summary.FileWriter(train_writer_path, sess.graph)\n",
    "    test_writer = tf.summary.FileWriter(test_writer_path)\n",
    "    \n",
    "    \n",
    "    # Init variables\n",
    "    init = tf.global_variables_initializer()\n",
    "    # To fix the bug introduced in TF 0.12.1 as in\n",
    "    # http://stackoverflow.com/questions/41543774/invalidargumenterror-for-tensor-bool-tensorflow-0-12-1\n",
    "    #sess.run(init)\n",
    "    sess.run(init, {is_training_pl: True})\n",
    "\n",
    "    ops = {'pointclouds_pl': pointclouds_pl,\n",
    "           'labels_pl': labels_pl,\n",
    "           'is_training_pl': is_training_pl,\n",
    "           'pred': pred,\n",
    "           'loss': loss,\n",
    "           'train_op': train_op,\n",
    "           'merged': merged,\n",
    "           'step': batch}\n",
    "    \n",
    "            \n",
    "    for epoch in range(MAX_EPOCH):\n",
    "        \n",
    "        ## Training\n",
    "        log_string ( \" Train one epoch %3d / %3d\" % (epoch+1, MAX_EPOCH) )\n",
    "        sys.stdout.flush()\n",
    "        \n",
    "        is_training = True\n",
    "        \n",
    "        # Shuffle train files\n",
    "        train_file_idxs = np.arange(0, data_train.shape[0])\n",
    "        np.random.shuffle(train_file_idxs)\n",
    "        \n",
    "        current_data = data_train[train_file_idxs] \n",
    "        current_label = label_train[train_file_idxs]\n",
    "        current_label.reshape((data_train.shape[0],))\n",
    "              \n",
    "        ## Evaluation metric\n",
    "        total_correct = 0\n",
    "        total_seen = 0\n",
    "        loss_sum = 0\n",
    "        \n",
    "        total_class = [0 for _ in range(NUM_CLASSES)]\n",
    "        total_detect_class = [0 for _ in range(NUM_CLASSES)]\n",
    "        total_correct_class = [0 for _ in range(NUM_CLASSES)]\n",
    "            \n",
    "        num_batches = current_data.shape[0] // BATCH_SIZE\n",
    "               \n",
    "        for batch_idx in trange(num_batches):\n",
    "            \n",
    "            start_idx = batch_idx * BATCH_SIZE\n",
    "            end_idx = (batch_idx+1) * BATCH_SIZE           \n",
    "\n",
    "            # Augment batched point clouds by rotation and jittering\n",
    "            rotated_data = provider.rotate_point_cloud(current_data[start_idx:end_idx, :, :])\n",
    "            jittered_data = provider.jitter_point_cloud(rotated_data)\n",
    "            \n",
    "            # Reashape\n",
    "            current_label_reshape = current_label[start_idx:end_idx].reshape((BATCH_SIZE,))\n",
    "            \n",
    "            feed_dict = {ops['pointclouds_pl']: jittered_data,\n",
    "                         ops['labels_pl']: current_label_reshape,\n",
    "                         ops['is_training_pl']: is_training,}\n",
    "            \n",
    "            summary, step, _, loss_val, pred_val = sess.run([ops['merged'], ops['step'],\n",
    "                ops['train_op'], ops['loss'], ops['pred']], feed_dict=feed_dict)\n",
    "            \n",
    "            train_writer.add_summary(summary, step)\n",
    "            \n",
    "            pred_val = np.argmax(pred_val, 1)\n",
    "            correct = np.sum(pred_val == current_label_reshape)\n",
    "            total_correct += correct\n",
    "            total_seen += BATCH_SIZE\n",
    "            loss_sum += loss_val\n",
    "            \n",
    "            for i in range(NUM_CLASSES):\n",
    "                total_class[i] += np.sum( np.ones(BATCH_SIZE) * i == current_label_reshape )\n",
    "                total_detect_class[i] += np.sum( np.ones(BATCH_SIZE) * i == pred_val )\n",
    "                total_correct_class[i] += np.sum( (np.ones(BATCH_SIZE) * i == current_label_reshape) * \\\n",
    "                                                    (np.ones(BATCH_SIZE) * i == pred_val) )\n",
    "                        \n",
    "        log_string(  '[Epoch %d] mean loss: %f' % \\\n",
    "                   (  epoch, loss_sum / float(total_seen)  )   )\n",
    "        log_string(  '[Epoch %d] accuracy: %f'% \\\n",
    "                   (  epoch, total_correct / float(total_seen)  )   )\n",
    "        log_string(  '[Epoch %d] avg class acc: %f' % \\\n",
    "                   (  epoch, np.mean( np.array(total_correct_class)/np.array(total_class,dtype=np.float) )  )   )\n",
    "        \n",
    "        for i_cls in range(NUM_CLASSES):\n",
    "            if not float(total_class[i_cls]) == 0:\n",
    "                log_string(  '[Epoch %d] indivisual [%d] class recall: %f' % \\\n",
    "                       (  epoch, i_cls, float(total_correct_class[i_cls])/float(total_class[i_cls])))    \n",
    "            if not float(total_detect_class[i_cls]) == 0:\n",
    "                log_string(  '[Epoch %d] indivisual [%d] class precision: %f' % \\\n",
    "                       (  epoch, i_cls, float(total_correct_class[i_cls])/float(total_detect_class[i_cls])))    \n",
    "\n",
    "\n",
    "        ## Evaluation using validation set    \n",
    "        log_string ( \" Evaluation one (validation set) epoch %3d / %3d\" % (epoch+1, MAX_EPOCH) )\n",
    "        sys.stdout.flush()\n",
    "        \n",
    "        is_training = False\n",
    "        total_correct = 0\n",
    "        total_seen = 0\n",
    "        total_seen_class = [0 for _ in range(NUM_CLASSES)]\n",
    "        total_correct_class = [0 for _ in range(NUM_CLASSES)]\n",
    "        total_detect_class = [0 for _ in range(NUM_CLASSES)]\n",
    "        total_detect_true_class = [0 for _ in range(NUM_CLASSES)]\n",
    "        \n",
    "        # Shuffle validation files\n",
    "        file_idxs = np.arange(0, data_vali.shape[0])\n",
    "        np.random.shuffle(file_idxs)\n",
    "        \n",
    "        current_data = data_vali[file_idxs]\n",
    "        current_label = label_vali[file_idxs]\n",
    "        \n",
    "        num_batches = current_data.shape[0] // BATCH_SIZE\n",
    "               \n",
    "        for batch_idx in trange(num_batches):\n",
    "            \n",
    "            start_idx = batch_idx * BATCH_SIZE\n",
    "            end_idx = (batch_idx+1) * BATCH_SIZE\n",
    "            \n",
    "            # Reashape\n",
    "            current_label_reshape = current_label[start_idx:end_idx].reshape((BATCH_SIZE,))\n",
    "            \n",
    "            feed_dict = {ops['pointclouds_pl']: current_data[start_idx:end_idx, :, :],\n",
    "                         ops['labels_pl']: current_label_reshape,\n",
    "                         ops['is_training_pl']: is_training}\n",
    "            summary, step, loss_val, pred_val = sess.run([ops['merged'], ops['step'],\n",
    "                ops['loss'], ops['pred']], feed_dict=feed_dict)\n",
    "            \n",
    "            # test_writer.add_summary(summary, step)\n",
    "            \n",
    "            pred_val = np.argmax(pred_val, 1)\n",
    "            correct = np.sum(pred_val == current_label_reshape)\n",
    "            total_correct += correct\n",
    "            total_seen += BATCH_SIZE\n",
    "            \n",
    "            for i in range(NUM_CLASSES):\n",
    "                total_class[i] = np.sum( np.ones(BATCH_SIZE) * i == current_label_reshape )\n",
    "                total_detect_class[i] = np.sum( np.ones(BATCH_SIZE) * i == pred_val )\n",
    "                total_correct_class[i] = np.sum( (np.ones(BATCH_SIZE) * i == current_label_reshape) * \\\n",
    "                                                    (np.ones(BATCH_SIZE) * i == pred_val) )\n",
    "                                \n",
    "        log_string(  '[Epoch %d] vali mean loss: %f' % \\\n",
    "                   (  epoch, loss_sum / float(total_seen)  )   )\n",
    "        log_string(  '[Epoch %d] vali accuracy: %f'% \\\n",
    "                   (  epoch, total_correct / float(total_seen)  )   )\n",
    "        log_string(  '[Epoch %d] vali avg class acc: %f' % \\\n",
    "                   (  epoch, np.mean( np.array(total_correct_class) / np.array(total_class) )  )   )\n",
    "        \n",
    "        for i_cls in range(NUM_CLASSES):\n",
    "            if not float(total_class[i_cls]) == 0:\n",
    "                log_string(  '[Epoch %d] vali indivisual [%d] class recall: %f' % \\\n",
    "                       (  epoch, i_cls, float(total_correct_class[i_cls])/float(total_class[i_cls])))    \n",
    "            if not float(total_detect_class[i_cls]) == 0:\n",
    "                log_string(  '[Epoch %d] vali indivisual [%d] class precision: %f' % \\\n",
    "                       (  epoch, i_cls, float(total_correct_class[i_cls])/float(total_detect_class[i_cls])))    \n",
    "             \n",
    " \n",
    "        # Save the variables to disk.\n",
    "        if ( epoch + 1 ) % 10 == 0:\n",
    "            save_path = saver.save(sess, os.path.join(model_save_path, \"model.ckpt\"))\n",
    "            log_string(\"Model saved in file: %s\" % save_path)\n",
    "                "
   ]
  },
  {
   "cell_type": "code",
   "execution_count": null,
   "metadata": {},
   "outputs": [],
   "source": []
  },
  {
   "cell_type": "code",
   "execution_count": 9,
   "metadata": {},
   "outputs": [],
   "source": []
  }
 ],
 "metadata": {
  "kernelspec": {
   "display_name": "Python 2",
   "language": "python",
   "name": "python2"
  },
  "language_info": {
   "codemirror_mode": {
    "name": "ipython",
    "version": 2
   },
   "file_extension": ".py",
   "mimetype": "text/x-python",
   "name": "python",
   "nbconvert_exporter": "python",
   "pygments_lexer": "ipython2",
   "version": "2.7.12"
  }
 },
 "nbformat": 4,
 "nbformat_minor": 2
}
