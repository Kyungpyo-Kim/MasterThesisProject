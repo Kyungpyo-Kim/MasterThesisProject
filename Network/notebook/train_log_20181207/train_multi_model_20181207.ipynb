{
 "cells": [
  {
   "cell_type": "markdown",
   "metadata": {},
   "source": [
    "# Train Log 20181207\n",
    "\n",
    "\n",
    "* Add multi-model training structure\n",
    "\n",
    "## Results\n",
    "```\n",
    "\n",
    "```\n",
    "\n",
    "## Trained model\n",
    "* [/home/gozilla/kyungpyo/git/MasterThesisProject/Network/notebook/train_log_20181207/model_out_3/model004.ckpt](https://drive.google.com/open?id=1MykABY5Q9vRkLdKuuCbeqqwAa7Qd-ajg)\n",
    "\n",
    "## Evaluation\n",
    "* Incorrect sample\n",
    "![results]()"
   ]
  },
  {
   "cell_type": "code",
   "execution_count": 1,
   "metadata": {},
   "outputs": [],
   "source": [
    "import os, sys\n",
    "import numpy as np\n",
    "import matplotlib.pyplot as plt\n",
    "import time , datetime\n",
    "\n",
    "# sys.path.append( os.path.abspath('../../../Dataset/scripts'))\n",
    "# from utils import *\n",
    "\n",
    "sys.path.append( os.path.abspath('../../model') )\n",
    "from train import *\n",
    "\n",
    "import tensorflow as tf\n"
   ]
  },
  {
   "cell_type": "code",
   "execution_count": 2,
   "metadata": {},
   "outputs": [],
   "source": [
    "\"\"\" Path \"\"\"\n",
    "data_train_path = os.path.abspath('../../../new_dataset/dataset/dataset_20181207/train.h5')\n",
    "data_vali_path = os.path.abspath('../../../new_dataset/dataset/dataset_20181207/vali.h5')\n"
   ]
  },
  {
   "cell_type": "code",
   "execution_count": 3,
   "metadata": {},
   "outputs": [
    {
     "data": {
      "image/png": "[encoded data removed]",
      "text/plain": [
       "<Figure size 1080x360 with 1 Axes>"
      ]
     },
     "metadata": {
      "needs_background": "light"
     },
     "output_type": "display_data"
    }
   ],
   "source": [
    "\"\"\" Load dataset\"\"\"\n",
    "\n",
    "data = []\n",
    "class_label = []\n",
    "heading_label = []\n",
    "\n",
    "def load_h5(h5_filename):\n",
    "    f = h5py.File(h5_filename)\n",
    "    data = f['data'][:]\n",
    "    class_label = f['class'][:]\n",
    "    heading_label = f['heading'][:]\n",
    "    return (data, class_label, heading_label)\n",
    "\n",
    "data_train, class_label_train, heading_label_train = load_h5(data_train_path)\n",
    "data_vali, class_label_vali, heading_label_vali = load_h5(data_vali_path)\n",
    "\n",
    "data.append(data_train)\n",
    "data.append(data_vali)\n",
    "class_label.append(class_label_train)\n",
    "class_label.append(class_label_vali)\n",
    "heading_label.append(heading_label_train)\n",
    "heading_label.append(heading_label_vali)\n",
    "\n",
    "\"\"\" Data statistics \"\"\"\n",
    "\n",
    "label_list = [0,1,2]\n",
    "\n",
    "y_val = []\n",
    "for i in range( len ( data) ):\n",
    "    for j in range ( len ( label_list ) ):\n",
    "        y_val.append(np.sum(class_label[i] == label_list[j]))\n",
    "\n",
    "x_name=('unknown-train', 'cars-train','pedestrian-train',\n",
    "        'unknown-vali', 'cars-vali', 'pedestrian-vali')\n",
    "\n",
    "index = range( len(x_name) )\n",
    "\n",
    "plt.figure(figsize=(15,5))\n",
    "plt.bar(index, y_val, tick_label=x_name, align='center')\n",
    "plt.ylabel('Number of dataset')\n",
    "plt.title('Label distribution')\n",
    "plt.xlim( -1, len(x_name))\n",
    "plt.ylim( 0, np.max(y_val) * 1.1 )\n",
    "plt.show()"
   ]
  },
  {
   "cell_type": "code",
   "execution_count": 5,
   "metadata": {
    "scrolled": false
   },
   "outputs": [],
   "source": [
    "import os, sys\n",
    "\n",
    "from sklearn.metrics import confusion_matrix\n",
    "from sklearn.metrics import classification_report\n",
    "from sklearn.metrics import explained_variance_score, mean_squared_error, mean_absolute_error, r2_score\n",
    "\n",
    "\"\"\"\n",
    "Import model \n",
    "\"\"\"\n",
    "sys.path.append( os.path.abspath('../../model') )\n",
    "\n",
    "from train import *\n",
    "import model_out_5_heading_3_relu as MODEL\n",
    "\n",
    "\n",
    "\n",
    "def run_training(out_path, trained_model = None, hlw = 1.0, max_epoch = 1, lr = 0.001):\n",
    "    \n",
    "    \"\"\" Path \"\"\"\n",
    "    model_save_path = os.path.abspath(out_path)\n",
    "    if not os.path.isdir(model_save_path) : os.mkdir(model_save_path)\n",
    "        \n",
    "    \"\"\" Parameters \"\"\"\n",
    "    GPU_INDEX = 0\n",
    "    NUM_POINT = 1024\n",
    "    NUM_CLASSES = 3\n",
    "\n",
    "    BN_INIT_DECAY = 0.5\n",
    "    BN_DECAY_DECAY_RATE = 0.5\n",
    "    BN_DECAY_DECAY_STEP = float(200000000)\n",
    "    BN_DECAY_CLIP = 0.99\n",
    "    DECAY_STEP = BN_DECAY_DECAY_STEP\n",
    "    DECAY_RATE = BN_DECAY_DECAY_RATE\n",
    "\n",
    "    BATCH_SIZE = 50\n",
    "\n",
    "    MOMENTUM = 0.9\n",
    "\n",
    "    BASE_LEARNING_RATE = lr\n",
    "\n",
    "    OPTIMIZER = 'adam'\n",
    "\n",
    "    MAX_EPOCH = max_epoch\n",
    "    \n",
    "    HEADING_LOSS_WEIGHT = hlw\n",
    "\n",
    "\n",
    "    \n",
    "    def get_learning_rate(batch):\n",
    "        learning_rate = tf.train.exponential_decay(\n",
    "                            BASE_LEARNING_RATE,  # Base learning rate.\n",
    "                            batch * BATCH_SIZE,  # Current index into the dataset.\n",
    "                            DECAY_STEP,          # Decay step.\n",
    "                            DECAY_RATE,          # Decay rate.\n",
    "                            staircase=True)\n",
    "        learning_rate = tf.maximum(learning_rate, 0.00001) # CLIP THE LEARNING RATE!\n",
    "        return learning_rate        \n",
    "\n",
    "    def get_bn_decay(batch):\n",
    "        bn_momentum = tf.train.exponential_decay(\n",
    "                          BN_INIT_DECAY,\n",
    "                          batch * BATCH_SIZE,\n",
    "                          BN_DECAY_DECAY_STEP,\n",
    "                          BN_DECAY_DECAY_RATE,\n",
    "                          staircase=True)\n",
    "        bn_decay = tf.minimum(BN_DECAY_CLIP, 1 - bn_momentum)\n",
    "        return bn_decay\n",
    "\n",
    "    \n",
    "    \"\"\"\n",
    "    load traing model\n",
    "    \"\"\"\n",
    "    with tf.Graph().as_default():\n",
    "        with tf.device('/gpu:'+str(GPU_INDEX)):\n",
    "            \n",
    "            \n",
    "            \"\"\"\n",
    "            Placeholder\n",
    "            \"\"\"\n",
    "            pointclouds_pl, class_labels_pl, heading_labels_pl = MODEL.placeholder_inputs(BATCH_SIZE, NUM_POINT)\n",
    "            is_training_pl = tf.placeholder(tf.bool, shape=())\n",
    "            print(is_training_pl)\n",
    "\n",
    "            \n",
    "            \"\"\"\n",
    "            decay\n",
    "            \"\"\"\n",
    "            # Note the global_step=batch parameter to minimize. \n",
    "            # That tells the optimizer to helpfully increment the 'batch' parameter for you every time it trains.\n",
    "            batch = tf.Variable(0)\n",
    "            bn_decay = get_bn_decay(batch)\n",
    "            tf.summary.scalar('bn_decay', bn_decay)\n",
    "            \n",
    "            \n",
    "            \"\"\"\n",
    "            Get model and loss \n",
    "            \"\"\"\n",
    "            pred, end_points = MODEL.get_model(pointclouds_pl, is_training_pl, bn_decay=bn_decay)\n",
    "            loss = MODEL.get_loss(pred, class_labels_pl, heading_labels_pl, end_points, h_reg_weight=HEADING_LOSS_WEIGHT)\n",
    "            tf.summary.scalar('loss', loss)\n",
    "            \n",
    "            classify_loss = MODEL.get_classify_loss(pred, class_labels_pl)\n",
    "            mat_diff_loss = MODEL.get_mat_diff_loss(end_points)\n",
    "            heading_loss = MODEL.get_heading_loss(pred, heading_labels_pl)\n",
    "            \n",
    "            tf.summary.scalar('classify_loss', classify_loss)\n",
    "            tf.summary.scalar('mat_diff_loss', mat_diff_loss)\n",
    "            tf.summary.scalar('heading_loss', heading_loss)\n",
    "\n",
    "            \n",
    "            \"\"\"\n",
    "            Get accuracy \n",
    "            \"\"\"\n",
    "            correct = tf.equal(tf.argmax(tf.slice(pred, [0,0], [BATCH_SIZE,3]), 1), tf.to_int64(class_labels_pl))\n",
    "            accuracy = tf.reduce_sum(tf.cast(correct, tf.float32)) / float(BATCH_SIZE)\n",
    "            tf.summary.scalar('accuracy', accuracy)\n",
    "\n",
    "            \n",
    "            \"\"\"\n",
    "            Get training operator\n",
    "            \"\"\"\n",
    "            learning_rate = get_learning_rate(batch)\n",
    "            tf.summary.scalar('learning_rate', learning_rate)\n",
    "            if OPTIMIZER == 'momentum':\n",
    "                optimizer = tf.train.MomentumOptimizer(learning_rate, momentum=MOMENTUM)\n",
    "            elif OPTIMIZER == 'adam':\n",
    "                optimizer = tf.train.AdamOptimizer(learning_rate)\n",
    "            train_op = optimizer.minimize(loss, global_step=batch)\n",
    "\n",
    "            \n",
    "            \"\"\"\n",
    "            Add ops to save and restore all the variables.\n",
    "            \"\"\"\n",
    "            saver = tf.train.Saver()\n",
    "            \n",
    "            \n",
    "            \n",
    "        \"\"\"\n",
    "        Create a session\n",
    "        \"\"\"\n",
    "        config = tf.ConfigProto()\n",
    "        config.gpu_options.allow_growth = True\n",
    "        config.allow_soft_placement = True\n",
    "        config.log_device_placement = False\n",
    "        sess = tf.Session(config=config)\n",
    "\n",
    "        \n",
    "        \"\"\"\n",
    "        Add summary writers\n",
    "        merged = tf.merge_all_summaries()\n",
    "        \"\"\"\n",
    "        merged = tf.summary.merge_all()\n",
    "\n",
    "        train_writer_path = os.path.abspath( os.path.join(model_save_path, 'train') )\n",
    "        if os.path.isdir(train_writer_path): os.system('rm -r {}'.format(train_writer_path))\n",
    "        os.mkdir(train_writer_path)\n",
    "\n",
    "        test_writer_path = os.path.abspath( os.path.join(model_save_path, 'test') )\n",
    "        if os.path.isdir(test_writer_path): os.system('rm -r {}'.format(test_writer_path))\n",
    "        os.mkdir(test_writer_path)\n",
    "\n",
    "\n",
    "        train_writer = tf.summary.FileWriter(train_writer_path, sess.graph)\n",
    "        test_writer = tf.summary.FileWriter(test_writer_path)\n",
    "        \n",
    "        print \"\\n\"\n",
    "        print \"Tensorboard command:\"\n",
    "        print \" - train: tensorboard --logdir {}\".format(train_writer_path)\n",
    "        print \" - test: tensorboard --logdir {}\".format(test_writer_path)\n",
    "\n",
    "        \n",
    "        \"\"\"\n",
    "        Init variables\n",
    "        \"\"\"\n",
    "        init = tf.global_variables_initializer()\n",
    "        # To fix the bug introduced in TF 0.12.1 as in\n",
    "        # http://stackoverflow.com/questions/41543774/invalidargumenterror-for-tensor-bool-tensorflow-0-12-1\n",
    "        #sess.run(init)\n",
    "        sess.run(init, {is_training_pl: True})\n",
    "        \n",
    "        \"\"\"\n",
    "        Restore model\n",
    "        \"\"\"\n",
    "        if not trained_model == None:\n",
    "            # Restore variables from disk.\n",
    "            saver.restore(sess, trained_model)\n",
    "            print \"\\n\\nModel restored from \\n{}\\n\".format(trained_model) \n",
    "\n",
    "        \n",
    "\n",
    "        ops = {'pointclouds_pl': pointclouds_pl,\n",
    "               'class_labels_pl': class_labels_pl,\n",
    "               'heading_labels_pl': heading_labels_pl,\n",
    "               'is_training_pl': is_training_pl,\n",
    "               'pred': pred,\n",
    "               'loss': loss,\n",
    "               'classify_loss': classify_loss,\n",
    "               'mat_diff_loss': mat_diff_loss,\n",
    "               'heading_loss': heading_loss,\n",
    "               'train_op': train_op,\n",
    "               'merged': merged,\n",
    "               'step': batch}\n",
    "\n",
    "\n",
    "        for epoch in range(MAX_EPOCH):\n",
    "\n",
    "            ## Training\n",
    "            print \"\\n\\n Train one epoch %3d / %3d\" % (epoch+1, MAX_EPOCH)\n",
    "            sys.stdout.flush()\n",
    "\n",
    "            is_training = True\n",
    "\n",
    "            \n",
    "            \"\"\"\n",
    "            Shuffle train files\n",
    "            \"\"\"\n",
    "            train_file_idxs = np.arange(0, data_train.shape[0])\n",
    "            np.random.shuffle(train_file_idxs)\n",
    "\n",
    "            current_data = data_train[train_file_idxs] \n",
    "            current_class_label = class_label_train[train_file_idxs]\n",
    "            current_heading_label = heading_label_train[train_file_idxs]\n",
    "            \n",
    "            current_class_label.reshape((data_train.shape[0],))\n",
    "            current_heading_label.reshape((data_train.shape[0],))\n",
    "\n",
    "            \n",
    "            \"\"\"\n",
    "            Evaluation metric\n",
    "            \"\"\"\n",
    "            class_results = []\n",
    "            heading_results = []\n",
    "            \n",
    "\n",
    "            \"\"\"\n",
    "            Run batch training\n",
    "            \"\"\"\n",
    "            num_batches = current_data.shape[0] // BATCH_SIZE\n",
    "\n",
    "            for batch_idx in trange(num_batches):\n",
    "\n",
    "                start_idx = batch_idx * BATCH_SIZE\n",
    "                end_idx = (batch_idx+1) * BATCH_SIZE           \n",
    "\n",
    "                # Augment batched point clouds by rotation and jittering\n",
    "                rotated_data = provider.rotate_point_cloud(current_data[start_idx:end_idx, :, :])\n",
    "                jittered_data = provider.jitter_point_cloud(rotated_data)\n",
    "\n",
    "                # Reashape\n",
    "                current_class_label_reshape = current_class_label[start_idx:end_idx].reshape((BATCH_SIZE,))\n",
    "                current_heading_label_reshape = current_heading_label[start_idx:end_idx].reshape((BATCH_SIZE,))\n",
    "\n",
    "                feed_dict = {ops['pointclouds_pl']: jittered_data,\n",
    "                             ops['class_labels_pl']: current_class_label_reshape,\n",
    "                             ops['heading_labels_pl']: current_heading_label_reshape,\n",
    "                             ops['is_training_pl']: is_training,}\n",
    "\n",
    "                summary, step, _, loss_val,loss_cls,loss_mat,loss_hea, pred_val = sess.run([ops['merged'], \n",
    "                                                                 ops['step'],\n",
    "                                                                 ops['train_op'], \n",
    "                                                                 ops['loss'], \n",
    "                                                                 ops['classify_loss'],\n",
    "                                                                 ops['mat_diff_loss'],\n",
    "                                                                 ops['heading_loss'],\n",
    "                                                                 ops['pred']], feed_dict=feed_dict)\n",
    "\n",
    "                train_writer.add_summary(summary, step)\n",
    "                \n",
    "                \"\"\"\n",
    "                Evaluation\n",
    "                \"\"\"\n",
    "                # heading\n",
    "                heading_results.extend(pred_val[:,3])\n",
    "                # class\n",
    "                pred_val_class = np.argmax(pred_val[:,:3], 1)\n",
    "                class_results.extend(pred_val_class)\n",
    "            \n",
    "            \"\"\"\n",
    "            Results\n",
    "            \"\"\"\n",
    "            ## Loss\n",
    "            print \"Total loss: {}\".format(np.mean(loss_val))\n",
    "            print \"- cls loss: {}\".format(np.mean(loss_cls))\n",
    "            print \"- mat loss: {}\".format(np.mean(loss_mat))\n",
    "            print \"- heading loss: {}\".format(np.mean(loss_hea))\n",
    "            \n",
    "            \n",
    "            \n",
    "            ## Classification\n",
    "            prediction = np.array(class_results)\n",
    "            ground_truth = np.array(current_class_label[:num_batches*BATCH_SIZE])\n",
    "            cm = confusion_matrix(ground_truth, prediction)\n",
    "            label_list = ['unknown', 'car', 'pedes']\n",
    "            print(classification_report(ground_truth, prediction, target_names=label_list))\n",
    "            \n",
    "            ## Heading\n",
    "            y_pred = np.asarray(heading_results)\n",
    "            y_true = np.asarray(current_heading_label[:num_batches*BATCH_SIZE])\n",
    "            y_pred = y_pred.reshape(y_true.shape)\n",
    "\n",
    "            error = np.abs(y_true - y_pred)\n",
    "            rmse = np.square( np.mean (error**2) )\n",
    "        #     print('- Explained_variance_score: {}'.format(explained_variance_score(y_true, y_pred)))\n",
    "        #     print('- R2_score: {}'.format(r2_score(y_true, y_pred)))\n",
    "            print('- Root mean_squared_errors [deg]: {}'.format(rmse * 360.))\n",
    "            plt.plot(y_true, label = 'truth')\n",
    "            plt.plot(y_pred, label = 'prediction')\n",
    "            plt.legend()\n",
    "            plt.show()    \n",
    "            \n",
    "            \"\"\"\n",
    "            Evaluation using validation set    \n",
    "            \"\"\"\n",
    "            \n",
    "            print \" Evaluation one (validation set) epoch %3d / %3d\" % (epoch+1, MAX_EPOCH)\n",
    "            sys.stdout.flush()\n",
    "\n",
    "            is_training = False\n",
    "\n",
    "\n",
    "            \"\"\"\n",
    "            Evaluation metric\n",
    "            \"\"\"\n",
    "            class_results = []\n",
    "            heading_results = []\n",
    "                       \n",
    "            \n",
    "            \"\"\"\n",
    "            Shuffle validation files\n",
    "            \"\"\"\n",
    "            file_idxs = np.arange(0, data_vali.shape[0])\n",
    "            np.random.shuffle(file_idxs)\n",
    "\n",
    "            current_data = data_vali[file_idxs]\n",
    "            current_class_label = class_label_vali[file_idxs]\n",
    "            current_heading_label = heading_label_vali[file_idxs]\n",
    "\n",
    "            num_batches = current_data.shape[0] // BATCH_SIZE\n",
    "\n",
    "            \n",
    "            \"\"\"\n",
    "            Run batch validation\n",
    "            \"\"\"\n",
    "            num_batches = current_data.shape[0] // BATCH_SIZE\n",
    "\n",
    "            for batch_idx in trange(num_batches):\n",
    "\n",
    "                start_idx = batch_idx * BATCH_SIZE\n",
    "                end_idx = (batch_idx+1) * BATCH_SIZE\n",
    "\n",
    "                \n",
    "                \"\"\"\n",
    "                Reashape\n",
    "                \"\"\"\n",
    "                current_class_label_reshape = current_class_label[start_idx:end_idx].reshape((BATCH_SIZE,))\n",
    "                current_heading_label_reshape = current_heading_label[start_idx:end_idx].reshape((BATCH_SIZE,))\n",
    "\n",
    "                \n",
    "                \"\"\"\n",
    "                Feed dict\n",
    "                \"\"\"\n",
    "                feed_dict = {ops['pointclouds_pl']: current_data[start_idx:end_idx, :, :],\n",
    "                             ops['class_labels_pl']: current_class_label_reshape,\n",
    "                             ops['heading_labels_pl']: current_heading_label_reshape,\n",
    "                             ops['is_training_pl']: is_training}\n",
    "                \n",
    "                \"\"\"\n",
    "                Run session\n",
    "                \"\"\"\n",
    "                summary, step, loss_val, loss_cls, loss_mat, loss_hea, pred_val = sess.run([ops['merged'], ops['step'],\n",
    "                                                              ops['loss'], \n",
    "                                                              ops['classify_loss'], \n",
    "                                                              ops['mat_diff_loss'], \n",
    "                                                              ops['heading_loss'], \n",
    "                                                              ops['pred']], feed_dict=feed_dict)\n",
    "\n",
    "                test_writer.add_summary(summary, step)\n",
    "\n",
    "                \"\"\"\n",
    "                Evaluation\n",
    "                \"\"\"\n",
    "                # heading\n",
    "                heading_results.extend(pred_val[:,3])\n",
    "\n",
    "                pred_val_class = np.argmax(pred_val[:,:3], 1)\n",
    "                class_results.extend(pred_val_class)\n",
    "            \n",
    "            ## Loss\n",
    "            print \"Total loss: {}\".format(np.mean(loss_val))\n",
    "            print \"- cls loss: {}\".format(np.mean(loss_cls))\n",
    "            print \"- mat loss: {}\".format(np.mean(loss_mat))\n",
    "            print \"- heading loss: {}\".format(np.mean(loss_hea))\n",
    "            \n",
    "            \n",
    "            ## Classification\n",
    "            prediction = np.array(class_results)\n",
    "            ground_truth = np.array(current_class_label[:num_batches*BATCH_SIZE])\n",
    "            cm = confusion_matrix(ground_truth, prediction)\n",
    "            label_list = ['unknown', 'car', 'pedes']\n",
    "            print(classification_report(ground_truth, prediction, target_names=label_list))\n",
    "            \n",
    "            ## Heading\n",
    "            y_pred = np.asarray(heading_results)\n",
    "            y_true = np.asarray(current_heading_label[:num_batches*BATCH_SIZE])\n",
    "            y_pred = y_pred.reshape(y_true.shape)\n",
    "\n",
    "            error = np.abs(y_true - y_pred)\n",
    "            rmse = np.square( np.mean (error**2) )\n",
    "        #     print('- Explained_variance_score: {}'.format(explained_variance_score(y_true, y_pred)))\n",
    "        #     print('- R2_score: {}'.format(r2_score(y_true, y_pred)))\n",
    "            print('- Root mean_squared_errors [deg]: {}'.format(rmse * 360.))\n",
    "            plt.plot(y_true, label = 'truth')\n",
    "            plt.plot(y_pred, label = 'prediction')\n",
    "            plt.legend()\n",
    "            plt.show() \n",
    "                \n",
    "            \"\"\"\n",
    "            Save the variables to disk.\n",
    "            \"\"\"\n",
    "#             if ( epoch + 1 ) % 10 == 0:\n",
    "            save_path = saver.save(sess, os.path.join(model_save_path, \"model{:03d}.ckpt\".format(epoch)))\n",
    "            print \"Model saved in file: %s\" % save_path"
   ]
  },
  {
   "cell_type": "code",
   "execution_count": null,
   "metadata": {
    "scrolled": false
   },
   "outputs": [
    {
     "name": "stdout",
     "output_type": "stream",
     "text": [
      "Tensor(\"Placeholder_3:0\", shape=(), dtype=bool, device=/device:GPU:0)\n",
      "\n",
      "\n",
      "Tensorboard command:\n",
      " - train: tensorboard --logdir /home/gozilla/kyungpyo/git/MasterThesisProject/Network/notebook/train_log_20181207/model_out_3/train\n",
      " - test: tensorboard --logdir /home/gozilla/kyungpyo/git/MasterThesisProject/Network/notebook/train_log_20181207/model_out_3/test\n",
      "\n",
      "\n",
      " Train one epoch   1 / 100\n"
     ]
    },
    {
     "name": "stderr",
     "output_type": "stream",
     "text": [
      "100%|██████████| 8988/8988 [53:51<00:00,  2.78it/s]\n"
     ]
    },
    {
     "name": "stdout",
     "output_type": "stream",
     "text": [
      "Total loss: 0.317593604326\n",
      "- cls loss: 0.221662521362\n",
      "- mat loss: 2.27930736542\n",
      "- heading loss: 0.093651778996\n",
      "             precision    recall  f1-score   support\n",
      "\n",
      "    unknown       0.87      0.87      0.87    213180\n",
      "        car       0.89      0.88      0.89    203640\n",
      "      pedes       0.84      0.87      0.85     32580\n",
      "\n",
      "avg / total       0.88      0.88      0.88    449400\n",
      "\n",
      "- Root mean_squared_errors [deg]: 3.21421477944\n"
     ]
    },
    {
     "data": {
      "image/png": "[encoded data removed]",
      "text/plain": [
       "<Figure size 432x288 with 1 Axes>"
      ]
     },
     "metadata": {
      "needs_background": "light"
     },
     "output_type": "display_data"
    },
    {
     "name": "stdout",
     "output_type": "stream",
     "text": [
      " Evaluation one (validation set) epoch   1 / 100\n"
     ]
    },
    {
     "name": "stderr",
     "output_type": "stream",
     "text": [
      "100%|██████████| 2996/2996 [04:11<00:00, 11.90it/s]\n"
     ]
    },
    {
     "name": "stdout",
     "output_type": "stream",
     "text": [
      "Total loss: 0.127463519573\n",
      "- cls loss: 0.033954448998\n",
      "- mat loss: 1.94846487045\n",
      "- heading loss: 0.0915606096387\n",
      "             precision    recall  f1-score   support\n",
      "\n",
      "    unknown       0.96      0.98      0.97     71027\n",
      "        car       0.99      0.97      0.98     67915\n",
      "      pedes       0.94      0.93      0.94     10858\n",
      "\n",
      "avg / total       0.97      0.97      0.97    149800\n",
      "\n",
      "- Root mean_squared_errors [deg]: 2.65645746142\n"
     ]
    },
    {
     "data": {
      "image/png": "[encoded data removed]",
      "text/plain": [
       "<Figure size 432x288 with 1 Axes>"
      ]
     },
     "metadata": {
      "needs_background": "light"
     },
     "output_type": "display_data"
    },
    {
     "name": "stdout",
     "output_type": "stream",
     "text": [
      "Model saved in file: /home/gozilla/kyungpyo/git/MasterThesisProject/Network/notebook/train_log_20181207/model_out_3/model000.ckpt\n",
      "\n",
      "\n",
      " Train one epoch   2 / 100\n"
     ]
    },
    {
     "name": "stderr",
     "output_type": "stream",
     "text": [
      "100%|██████████| 8988/8988 [53:57<00:00,  2.78it/s]\n"
     ]
    },
    {
     "name": "stdout",
     "output_type": "stream",
     "text": [
      "Total loss: 0.0972007960081\n",
      "- cls loss: 0.0094632031396\n",
      "- mat loss: 2.65269804001\n",
      "- heading loss: 0.0850848928094\n",
      "             precision    recall  f1-score   support\n",
      "\n",
      "    unknown       0.97      0.97      0.97    213180\n",
      "        car       0.98      0.98      0.98    203640\n",
      "      pedes       0.92      0.95      0.93     32580\n",
      "\n",
      "avg / total       0.97      0.97      0.97    449400\n",
      "\n",
      "- Root mean_squared_errors [deg]: 2.57691085339\n"
     ]
    },
    {
     "data": {
      "image/png": "[encoded data removed]",
      "text/plain": [
       "<Figure size 432x288 with 1 Axes>"
      ]
     },
     "metadata": {
      "needs_background": "light"
     },
     "output_type": "display_data"
    },
    {
     "name": "stdout",
     "output_type": "stream",
     "text": [
      " Evaluation one (validation set) epoch   2 / 100\n"
     ]
    },
    {
     "name": "stderr",
     "output_type": "stream",
     "text": [
      "100%|██████████| 2996/2996 [04:12<00:00, 11.86it/s]\n"
     ]
    },
    {
     "name": "stdout",
     "output_type": "stream",
     "text": [
      "Total loss: 0.0828128457069\n",
      "- cls loss: 0.00510048819706\n",
      "- mat loss: 3.23638367653\n",
      "- heading loss: 0.0744759738445\n",
      "             precision    recall  f1-score   support\n",
      "\n",
      "    unknown       0.99      0.98      0.99     71029\n",
      "        car       1.00      0.99      0.99     67911\n",
      "      pedes       0.91      0.99      0.95     10860\n",
      "\n",
      "avg / total       0.99      0.99      0.99    149800\n",
      "\n",
      "- Root mean_squared_errors [deg]: 2.47856263071\n"
     ]
    },
    {
     "data": {
      "image/png": "[encoded data removed]",
      "text/plain": [
       "<Figure size 432x288 with 1 Axes>"
      ]
     },
     "metadata": {
      "needs_background": "light"
     },
     "output_type": "display_data"
    },
    {
     "name": "stdout",
     "output_type": "stream",
     "text": [
      "Model saved in file: /home/gozilla/kyungpyo/git/MasterThesisProject/Network/notebook/train_log_20181207/model_out_3/model001.ckpt\n",
      "\n",
      "\n",
      " Train one epoch   3 / 100\n"
     ]
    },
    {
     "name": "stderr",
     "output_type": "stream",
     "text": [
      "100%|██████████| 8988/8988 [53:54<00:00,  2.78it/s]\n"
     ]
    },
    {
     "name": "stdout",
     "output_type": "stream",
     "text": [
      "Total loss: 0.132274135947\n",
      "- cls loss: 0.054021447897\n",
      "- mat loss: 2.57059431076\n",
      "- heading loss: 0.0756820887327\n",
      "             precision    recall  f1-score   support\n",
      "\n",
      "    unknown       0.98      0.98      0.98    213180\n",
      "        car       0.99      0.99      0.99    203640\n",
      "      pedes       0.95      0.97      0.96     32580\n",
      "\n",
      "avg / total       0.98      0.98      0.98    449400\n",
      "\n",
      "- Root mean_squared_errors [deg]: 2.5510028936\n"
     ]
    },
    {
     "data": {
      "image/png": "[encoded data removed]",
      "text/plain": [
       "<Figure size 432x288 with 1 Axes>"
      ]
     },
     "metadata": {
      "needs_background": "light"
     },
     "output_type": "display_data"
    },
    {
     "name": "stdout",
     "output_type": "stream",
     "text": [
      " Evaluation one (validation set) epoch   3 / 100\n"
     ]
    },
    {
     "name": "stderr",
     "output_type": "stream",
     "text": [
      "100%|██████████| 2996/2996 [04:11<00:00, 11.92it/s]\n"
     ]
    },
    {
     "name": "stdout",
     "output_type": "stream",
     "text": [
      "Total loss: 0.168085187674\n",
      "- cls loss: 0.0943575799465\n",
      "- mat loss: 2.59689331055\n",
      "- heading loss: 0.0711307153106\n",
      "             precision    recall  f1-score   support\n",
      "\n",
      "    unknown       1.00      0.99      0.99     71034\n",
      "        car       1.00      1.00      1.00     67908\n",
      "      pedes       0.95      0.99      0.97     10858\n",
      "\n",
      "avg / total       0.99      0.99      0.99    149800\n",
      "\n",
      "- Root mean_squared_errors [deg]: 2.51491930336\n"
     ]
    },
    {
     "data": {
      "image/png": "[encoded data removed]",
      "text/plain": [
       "<Figure size 432x288 with 1 Axes>"
      ]
     },
     "metadata": {
      "needs_background": "light"
     },
     "output_type": "display_data"
    },
    {
     "name": "stdout",
     "output_type": "stream",
     "text": [
      "Model saved in file: /home/gozilla/kyungpyo/git/MasterThesisProject/Network/notebook/train_log_20181207/model_out_3/model002.ckpt\n",
      "\n",
      "\n",
      " Train one epoch   4 / 100\n"
     ]
    },
    {
     "name": "stderr",
     "output_type": "stream",
     "text": [
      "100%|██████████| 8988/8988 [53:56<00:00,  2.78it/s]\n"
     ]
    },
    {
     "name": "stdout",
     "output_type": "stream",
     "text": [
      "Total loss: 0.121548615396\n",
      "- cls loss: 0.0488718561828\n",
      "- mat loss: 2.85943937302\n",
      "- heading loss: 0.0698173195124\n",
      "             precision    recall  f1-score   support\n",
      "\n",
      "    unknown       0.99      0.99      0.99    213180\n",
      "        car       0.99      0.99      0.99    203640\n",
      "      pedes       0.97      0.97      0.97     32580\n",
      "\n",
      "avg / total       0.99      0.99      0.99    449400\n",
      "\n",
      "- Root mean_squared_errors [deg]: 2.54217674956\n"
     ]
    },
    {
     "data": {
      "image/png": "[encoded data removed]",
      "text/plain": [
       "<Figure size 432x288 with 1 Axes>"
      ]
     },
     "metadata": {
      "needs_background": "light"
     },
     "output_type": "display_data"
    },
    {
     "name": "stdout",
     "output_type": "stream",
     "text": [
      " Evaluation one (validation set) epoch   4 / 100\n"
     ]
    },
    {
     "name": "stderr",
     "output_type": "stream",
     "text": [
      "100%|██████████| 2996/2996 [04:11<00:00, 11.90it/s]\n"
     ]
    },
    {
     "name": "stdout",
     "output_type": "stream",
     "text": [
      "Total loss: 0.121973104775\n",
      "- cls loss: 0.0431537814438\n",
      "- mat loss: 4.07014369965\n",
      "- heading loss: 0.0747491791844\n",
      "             precision    recall  f1-score   support\n",
      "\n",
      "    unknown       0.99      0.98      0.99     71031\n",
      "        car       1.00      0.99      0.99     67911\n",
      "      pedes       0.90      0.97      0.94     10858\n",
      "\n",
      "avg / total       0.99      0.99      0.99    149800\n",
      "\n",
      "- Root mean_squared_errors [deg]: 2.52892110497\n"
     ]
    },
    {
     "data": {
      "image/png": "[encoded data removed]",
      "text/plain": [
       "<Figure size 432x288 with 1 Axes>"
      ]
     },
     "metadata": {
      "needs_background": "light"
     },
     "output_type": "display_data"
    },
    {
     "name": "stdout",
     "output_type": "stream",
     "text": [
      "Model saved in file: /home/gozilla/kyungpyo/git/MasterThesisProject/Network/notebook/train_log_20181207/model_out_3/model003.ckpt\n",
      "\n",
      "\n",
      " Train one epoch   5 / 100\n"
     ]
    },
    {
     "name": "stderr",
     "output_type": "stream",
     "text": [
      "100%|██████████| 8988/8988 [54:04<00:00,  2.77it/s]\n"
     ]
    },
    {
     "name": "stdout",
     "output_type": "stream",
     "text": [
      "Total loss: 0.0887274444103\n",
      "- cls loss: 0.00448080804199\n",
      "- mat loss: 3.71420192719\n",
      "- heading loss: 0.0805324316025\n",
      "             precision    recall  f1-score   support\n",
      "\n",
      "    unknown       0.99      0.99      0.99    213180\n",
      "        car       0.99      0.99      0.99    203640\n",
      "      pedes       0.98      0.98      0.98     32580\n",
      "\n",
      "avg / total       0.99      0.99      0.99    449400\n",
      "\n",
      "- Root mean_squared_errors [deg]: 2.54024874419\n"
     ]
    },
    {
     "data": {
      "image/png": "[encoded data removed]",
      "text/plain": [
       "<Figure size 432x288 with 1 Axes>"
      ]
     },
     "metadata": {
      "needs_background": "light"
     },
     "output_type": "display_data"
    },
    {
     "name": "stdout",
     "output_type": "stream",
     "text": [
      " Evaluation one (validation set) epoch   5 / 100\n"
     ]
    },
    {
     "name": "stderr",
     "output_type": "stream",
     "text": [
      "100%|██████████| 2996/2996 [04:11<00:00, 11.89it/s]\n"
     ]
    },
    {
     "name": "stdout",
     "output_type": "stream",
     "text": [
      "Total loss: 0.157689720392\n",
      "- cls loss: 0.0642457231879\n",
      "- mat loss: 4.61450958252\n",
      "- heading loss: 0.0888294950128\n",
      "             precision    recall  f1-score   support\n",
      "\n",
      "    unknown       0.99      0.97      0.98     71031\n",
      "        car       0.99      0.98      0.99     67910\n",
      "      pedes       0.85      1.00      0.92     10859\n",
      "\n",
      "avg / total       0.98      0.98      0.98    149800\n",
      "\n",
      "- Root mean_squared_errors [deg]: 2.51378607005\n"
     ]
    },
    {
     "data": {
      "image/png": "[encoded data removed]",
      "text/plain": [
       "<Figure size 432x288 with 1 Axes>"
      ]
     },
     "metadata": {
      "needs_background": "light"
     },
     "output_type": "display_data"
    },
    {
     "name": "stdout",
     "output_type": "stream",
     "text": [
      "Model saved in file: /home/gozilla/kyungpyo/git/MasterThesisProject/Network/notebook/train_log_20181207/model_out_3/model004.ckpt\n",
      "\n",
      "\n",
      " Train one epoch   6 / 100\n"
     ]
    },
    {
     "name": "stderr",
     "output_type": "stream",
     "text": [
      " 91%|█████████ | 8145/8988 [48:53<05:03,  2.78it/s]"
     ]
    }
   ],
   "source": [
    "import multiprocessing\n",
    "\n",
    "# option 1: execute code with extra process\n",
    "\n",
    "## arguments: out_path, trained_model = None, hlw = 0.1, max_epoch = 1):\n",
    "out_path = './model_out_3'\n",
    "trained_model = None\n",
    "hlw = 1.\n",
    "max_epoch = 100\n",
    "lr = 0.001\n",
    "p = multiprocessing.Process( target=run_training, args = (out_path, trained_model, hlw, max_epoch,lr) )\n",
    "\n",
    "p.start()\n",
    "p.join()\n"
   ]
  },
  {
   "cell_type": "code",
   "execution_count": null,
   "metadata": {},
   "outputs": [],
   "source": []
  }
 ],
 "metadata": {
  "kernelspec": {
   "display_name": "Python 2",
   "language": "python",
   "name": "python2"
  },
  "language_info": {
   "codemirror_mode": {
    "name": "ipython",
    "version": 2
   },
   "file_extension": ".py",
   "mimetype": "text/x-python",
   "name": "python",
   "nbconvert_exporter": "python",
   "pygments_lexer": "ipython2",
   "version": "2.7.12"
  }
 },
 "nbformat": 4,
 "nbformat_minor": 2
}
