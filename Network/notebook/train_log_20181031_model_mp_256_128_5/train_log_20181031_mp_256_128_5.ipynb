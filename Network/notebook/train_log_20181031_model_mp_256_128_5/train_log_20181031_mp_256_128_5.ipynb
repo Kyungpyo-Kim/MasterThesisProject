{
 "cells": [
  {
   "cell_type": "markdown",
   "metadata": {},
   "source": [
    "# Train Log 20181031\n",
    "\n",
    "## Results\n",
    "```\n",
    "2018-10-31 11:43:31.351654   Train one epoch  10 /  10\n",
    "\n",
    "\n",
    "100%|██████████| 935/935 [14:01<00:00,  1.11it/s]\n",
    "\n",
    "2018-10-31 11:57:33.431432  [Epoch 9] mean loss: 0.000103\n",
    "2018-10-31 11:57:33.432124  [Epoch 9] accuracy: 0.991055\n",
    "2018-10-31 11:57:33.432840  [Epoch 9] avg class acc: 1.000000\n",
    "2018-10-31 11:57:33.433224  [Epoch 9] indivisual [0] class recall: 1.000000\n",
    "2018-10-31 11:57:33.433608  [Epoch 9] indivisual [0] class precision: 1.000000\n",
    "2018-10-31 11:57:33.433714  [Epoch 9] indivisual [1] class recall: 1.000000\n",
    "2018-10-31 11:57:33.433806  [Epoch 9] indivisual [1] class precision: 1.000000\n",
    "2018-10-31 11:57:33.433965  [Epoch 9] indivisual [2] class recall: 1.000000\n",
    "2018-10-31 11:57:33.434206  [Epoch 9] indivisual [2] class precision: 1.000000\n",
    "2018-10-31 11:57:33.434870   Evaluation one (validation set) epoch  10 /  10\n",
    "\n",
    "\n",
    "100%|██████████| 233/233 [00:49<00:00,  4.74it/s]\n",
    "\n",
    "2018-10-31 11:58:22.881342  [Epoch 9] vali mean loss: 0.000411\n",
    "2018-10-31 11:58:22.882070  [Epoch 9] vali accuracy: 0.998558\n",
    "2018-10-31 11:58:22.882452  [Epoch 9] vali avg class acc: 1.000000\n",
    "2018-10-31 11:58:22.883168  [Epoch 9] vali indivisual [0] class recall: 1.000000\n",
    "2018-10-31 11:58:22.883577  [Epoch 9] vali indivisual [0] class precision: 1.000000\n",
    "2018-10-31 11:58:22.883685  [Epoch 9] vali indivisual [1] class recall: 1.000000\n",
    "2018-10-31 11:58:22.883972  [Epoch 9] vali indivisual [1] class precision: 1.000000\n",
    "2018-10-31 11:58:22.884244  [Epoch 9] vali indivisual [2] class recall: 1.000000\n",
    "2018-10-31 11:58:22.884663  [Epoch 9] vali indivisual [2] class precision: 1.000000\n",
    "2018-10-31 11:58:22.884766   Evaluation one (test set) epoch  10 /  10\n",
    "\n",
    "\n",
    "100%|██████████| 233/233 [00:49<00:00,  4.73it/s]\n",
    "\n",
    "2018-10-31 11:59:12.415426  [Epoch 9] test mean loss: 0.000411\n",
    "2018-10-31 11:59:12.415868  [Epoch 9] test accuracy: 0.998438\n",
    "2018-10-31 11:59:12.417942  [Epoch 9] test avg class acc: 0.988095\n",
    "2018-10-31 11:59:12.418625  [Epoch 9] test indivisual [0] class recall: 1.000000\n",
    "2018-10-31 11:59:12.419085  [Epoch 9] test indivisual [0] class precision: 0.992701\n",
    "2018-10-31 11:59:12.419205  [Epoch 9] test indivisual [1] class recall: 1.000000\n",
    "2018-10-31 11:59:12.419514  [Epoch 9] test indivisual [1] class precision: 1.000000\n",
    "2018-10-31 11:59:12.419860  [Epoch 9] test indivisual [2] class recall: 0.964286\n",
    "2018-10-31 11:59:12.420232  [Epoch 9] test indivisual [2] class precision: 1.000000\n",
    "2018-10-31 11:59:13.465514  Model saved in file: /home/gozilla/kyungpyo/git/MasterThesisProject/Network/notebook/train_log_20181031/model/model.ckpt\n",
    "\n",
    "```\n",
    "\n",
    "## Trained model\n",
    "* [Download link]()\n",
    "\n",
    "## Evaluation\n",
    "* Incorrect sample\n",
    "![results]()"
   ]
  },
  {
   "cell_type": "code",
   "execution_count": 3,
   "metadata": {},
   "outputs": [],
   "source": [
    "import os, sys\n",
    "import numpy as np\n",
    "import matplotlib.pyplot as plt\n",
    "import time , datetime\n",
    "\n",
    "sys.path.append( os.path.abspath('../../../Dataset/scripts'))\n",
    "from utils import *\n",
    "\n",
    "sys.path.append( os.path.abspath('../../model') )\n",
    "from train import *\n",
    "import model_mp_256_128_5 as MODEL"
   ]
  },
  {
   "cell_type": "code",
   "execution_count": 4,
   "metadata": {},
   "outputs": [],
   "source": [
    "\"\"\" Path \"\"\"\n",
    "\n",
    "data_train_path_list = []\n",
    "data_test_path_list = []\n",
    "data_vali_path_list = []\n",
    "\n",
    "data_train_path = os.path.abspath('../../../Dataset/dataset/db_aug_v2_20181019_ndb_aug_v2_20181020/train.h5')\n",
    "data_test_path = os.path.abspath('../../../Dataset/dataset/db_aug_v2_20181019_ndb_aug_v2_20181020/test.h5')\n",
    "data_vali_path = os.path.abspath('../../../Dataset/dataset/db_aug_v2_20181019_ndb_aug_v2_20181020/vali.h5')\n",
    "data_train_path_list.append(data_train_path)\n",
    "data_test_path_list.append(data_test_path)\n",
    "data_vali_path_list.append(data_vali_path)\n",
    "\n",
    "data_train_path = os.path.abspath('../../../Dataset/dataset/db_aug_v2_v_100_20181022_ndb_aug_v2_20181020/train.h5')\n",
    "data_test_path = os.path.abspath('../../../Dataset/dataset/db_aug_v2_v_100_20181022_ndb_aug_v2_20181020/test.h5')\n",
    "data_vali_path = os.path.abspath('../../../Dataset/dataset/db_aug_v2_v_100_20181022_ndb_aug_v2_20181020/vali.h5')\n",
    "data_train_path_list.append(data_train_path)\n",
    "data_test_path_list.append(data_test_path)\n",
    "data_vali_path_list.append(data_vali_path)\n",
    "\n",
    "data_train_path = os.path.abspath('../../../Dataset/dataset/db_aug_v2_v_200_20181022_ndb_aug_v2_20181020/train.h5')\n",
    "data_test_path = os.path.abspath('../../../Dataset/dataset/db_aug_v2_v_200_20181022_ndb_aug_v2_20181020/test.h5')\n",
    "data_vali_path = os.path.abspath('../../../Dataset/dataset/db_aug_v2_v_200_20181022_ndb_aug_v2_20181020/vali.h5')\n",
    "data_train_path_list.append(data_train_path)\n",
    "data_test_path_list.append(data_test_path)\n",
    "data_vali_path_list.append(data_vali_path)\n",
    "\n",
    "data_train_path = os.path.abspath('../../../Dataset/dataset/db_aug_v2_v_300_20181022_ndb_aug_v2_20181020/train.h5')\n",
    "data_test_path = os.path.abspath('../../../Dataset/dataset/db_aug_v2_v_300_20181022_ndb_aug_v2_20181020/test.h5')\n",
    "data_vali_path = os.path.abspath('../../../Dataset/dataset/db_aug_v2_v_300_20181022_ndb_aug_v2_20181020/vali.h5')\n",
    "data_train_path_list.append(data_train_path)\n",
    "data_test_path_list.append(data_test_path)\n",
    "data_vali_path_list.append(data_vali_path)\n",
    "\n",
    "# data_train_path = os.path.abspath('../../../Dataset/dataset/db_aug_v2_v_400_20181022_ndb_aug_v2_20181020/train.h5')\n",
    "# data_test_path = os.path.abspath('../../../Dataset/dataset/db_aug_v2_v_400_20181022_ndb_aug_v2_20181020/test.h5')\n",
    "# data_vali_path = os.path.abspath('../../../Dataset/dataset/db_aug_v2_v_400_20181022_ndb_aug_v2_20181020/vali.h5')\n",
    "# data_train_path_list.append(data_train_path)\n",
    "# data_test_path_list.append(data_test_path)\n",
    "# data_test_path_list.append(data_vali_path)\n",
    "\n",
    "# data_train_path = os.path.abspath('../../../Dataset/dataset/db_aug_v2_v_500_20181022_ndb_aug_v2_20181020/train.h5')\n",
    "# data_test_path = os.path.abspath('../../../Dataset/dataset/db_aug_v2_v_500_20181022_ndb_aug_v2_20181020/test.h5')\n",
    "# data_vali_path = os.path.abspath('../../../Dataset/dataset/db_aug_v2_v_500_20181022_ndb_aug_v2_20181020/vali.h5')\n",
    "# data_train_path_list.append(data_train_path)\n",
    "# data_test_path_list.append(data_test_path)\n",
    "# data_test_path_list.append(data_vali_path)\n",
    "\n",
    "\n",
    "\n",
    "log_path = os.path.abspath('./train_log_20181025.txt')\n",
    "\n",
    "model_save_path = os.path.abspath('./model')\n",
    "if not os.path.isdir(model_save_path) : os.mkdir(model_save_path)\n",
    "\n",
    "\"\"\" Parameters \"\"\"\n",
    "GPU_INDEX = 0\n",
    "NUM_POINT = 256\n",
    "NUM_CLASSES = 3\n",
    "\n",
    "BN_INIT_DECAY = 0.5\n",
    "BN_DECAY_DECAY_RATE = 0.5\n",
    "BN_DECAY_DECAY_STEP = float(200000)\n",
    "BN_DECAY_CLIP = 0.99\n",
    "DECAY_STEP = BN_DECAY_DECAY_STEP\n",
    "DECAY_RATE = BN_DECAY_DECAY_RATE\n",
    "\n",
    "BATCH_SIZE = 250\n",
    "\n",
    "MOMENTUM = 0.9\n",
    "\n",
    "BASE_LEARNING_RATE = 0.001\n",
    "\n",
    "OPTIMIZER = 'adam'\n",
    "\n",
    "MAX_EPOCH = 10"
   ]
  },
  {
   "cell_type": "code",
   "execution_count": 5,
   "metadata": {},
   "outputs": [
    {
     "data": {
      "image/png": "[encoded data removed]",
      "text/plain": [
       "<Figure size 1080x360 with 1 Axes>"
      ]
     },
     "metadata": {
      "needs_background": "light"
     },
     "output_type": "display_data"
    }
   ],
   "source": [
    "\"\"\" Load dataset\"\"\"\n",
    "\n",
    "data = []\n",
    "label = []\n",
    "\n",
    "data_train, label_train = load_h5(data_train_path_list[0])\n",
    "data_vali, label_vali = load_h5(data_vali_path_list[0])\n",
    "data_test, label_test = load_h5(data_test_path_list[0])\n",
    "    \n",
    "for i in range( 1, len(data_train_path_list) ):\n",
    "\n",
    "    d_train, l_train = load_h5(data_train_path_list[i])\n",
    "    d_vali, l_vali = load_h5(data_vali_path_list[i])\n",
    "    d_test, l_test = load_h5(data_test_path_list[i])\n",
    "    \n",
    "    data_train = np.concatenate( (data_train, d_train), axis = 0 )\n",
    "    data_vali = np.concatenate( (data_vali, d_vali), axis = 0 )\n",
    "    data_test = np.concatenate( (data_test, d_test), axis = 0 )\n",
    "    \n",
    "    label_train = np.concatenate( (label_train, l_train), axis = 0 )\n",
    "    label_vali = np.concatenate( (label_vali, l_vali), axis = 0 )\n",
    "    label_test = np.concatenate( (label_test, l_test), axis = 0 )\n",
    "    \n",
    "\n",
    "data.append(data_train)\n",
    "data.append(data_vali)\n",
    "data.append(data_test)\n",
    "\n",
    "label.append(label_train)\n",
    "label.append(label_vali)\n",
    "label.append(label_test)\n",
    "\n",
    "\"\"\" Data statistics\"\"\"\n",
    "\n",
    "label_list = [0,1,2]\n",
    "\n",
    "y_val = []\n",
    "for i in range( len ( data) ):\n",
    "    for j in range ( len ( label_list ) ):\n",
    "        y_val.append(np.sum(label[i] == label_list[j]))\n",
    "\n",
    "x_name=('unknown-train', 'cars-train', 'trucks-train', \n",
    "        'unknown-test', 'cars-test', 'trucks-test', \n",
    "        'unknown-vali', 'cars-vali', 'trucks-vali')\n",
    "\n",
    "index = range( len(x_name) )\n",
    "\n",
    "plt.figure(figsize=(15,5))\n",
    "plt.bar(index, y_val, tick_label=x_name, align='center')\n",
    "plt.ylabel('Number of dataset')\n",
    "plt.title('Label distribution')\n",
    "plt.xlim( -1, len(x_name))\n",
    "plt.ylim( 0, np.max(y_val) * 1.1 )\n",
    "plt.show()"
   ]
  },
  {
   "cell_type": "code",
   "execution_count": 6,
   "metadata": {},
   "outputs": [
    {
     "name": "stdout",
     "output_type": "stream",
     "text": [
      "Tensor(\"Placeholder_2:0\", shape=(), dtype=bool, device=/device:GPU:0)\n",
      "INFO:tensorflow:Summary name classify loss is illegal; using classify_loss instead.\n",
      "INFO:tensorflow:Summary name mat loss is illegal; using mat_loss instead.\n",
      "(233856, 256, 3)\n",
      "(233856,)\n",
      "2018-10-31 09:21:01.452396   Train one epoch   1 /  10\n"
     ]
    },
    {
     "name": "stderr",
     "output_type": "stream",
     "text": [
      "100%|██████████| 935/935 [14:20<00:00,  1.09it/s]"
     ]
    },
    {
     "name": "stdout",
     "output_type": "stream",
     "text": [
      "2018-10-31 09:35:22.185351  [Epoch 0] mean loss: 0.001476\n",
      "2018-10-31 09:35:22.185720  [Epoch 0] accuracy: 0.880967\n",
      "2018-10-31 09:35:22.186300  [Epoch 0] avg class acc: 0.968789\n",
      "2018-10-31 09:35:22.186489  [Epoch 0] indivisual [0] class recall: 0.944828\n",
      "2018-10-31 09:35:22.186747  [Epoch 0] indivisual [0] class precision: 0.992754\n",
      "2018-10-31 09:35:22.186881  [Epoch 0] indivisual [1] class recall: 1.000000\n",
      "2018-10-31 09:35:22.187209  [Epoch 0] indivisual [1] class precision: 0.987500\n",
      "2018-10-31 09:35:22.187881  [Epoch 0] indivisual [2] class recall: 0.961538\n",
      "2018-10-31 09:35:22.188016  [Epoch 0] indivisual [2] class precision: 0.781250\n",
      "2018-10-31 09:35:22.188245   Evaluation one (validation set) epoch   1 /  10\n"
     ]
    },
    {
     "name": "stderr",
     "output_type": "stream",
     "text": [
      "\n",
      "100%|██████████| 233/233 [00:50<00:00,  4.62it/s]"
     ]
    },
    {
     "name": "stdout",
     "output_type": "stream",
     "text": [
      "2018-10-31 09:36:12.909831  [Epoch 0] vali mean loss: 0.005921\n",
      "2018-10-31 09:36:12.910136  [Epoch 0] vali accuracy: 0.977425\n",
      "2018-10-31 09:36:12.910557  [Epoch 0] vali avg class acc: 0.333333\n",
      "2018-10-31 09:36:12.911219  [Epoch 0] vali indivisual [0] class recall: 0.963235\n",
      "2018-10-31 09:36:12.911437  [Epoch 0] vali indivisual [0] class precision: 0.970370\n",
      "2018-10-31 09:36:12.911668  [Epoch 0] vali indivisual [1] class recall: 1.000000\n",
      "2018-10-31 09:36:12.912076  [Epoch 0] vali indivisual [1] class precision: 1.000000\n",
      "2018-10-31 09:36:12.912357  [Epoch 0] vali indivisual [2] class recall: 0.862069\n",
      "2018-10-31 09:36:12.912690  [Epoch 0] vali indivisual [2] class precision: 0.833333\n",
      "2018-10-31 09:36:12.913049   Evaluation one (test set) epoch   1 /  10\n"
     ]
    },
    {
     "name": "stderr",
     "output_type": "stream",
     "text": [
      "\n",
      "100%|██████████| 233/233 [00:50<00:00,  4.63it/s]"
     ]
    },
    {
     "name": "stdout",
     "output_type": "stream",
     "text": [
      "2018-10-31 09:37:03.459402  [Epoch 0] test mean loss: 0.005921\n",
      "2018-10-31 09:37:03.460429  [Epoch 0] test accuracy: 0.977751\n",
      "2018-10-31 09:37:03.460978  [Epoch 0] test avg class acc: 0.967913\n",
      "2018-10-31 09:37:03.461164  [Epoch 0] test indivisual [0] class recall: 0.968254\n",
      "2018-10-31 09:37:03.461368  [Epoch 0] test indivisual [0] class precision: 0.983871\n",
      "2018-10-31 09:37:03.461537  [Epoch 0] test indivisual [1] class recall: 1.000000\n",
      "2018-10-31 09:37:03.462301  [Epoch 0] test indivisual [1] class precision: 1.000000\n",
      "2018-10-31 09:37:03.462613  [Epoch 0] test indivisual [2] class recall: 0.935484\n",
      "2018-10-31 09:37:03.463084  [Epoch 0] test indivisual [2] class precision: 0.878788\n",
      "2018-10-31 09:37:03.463585   Train one epoch   2 /  10\n"
     ]
    },
    {
     "name": "stderr",
     "output_type": "stream",
     "text": [
      "\n",
      "100%|██████████| 935/935 [14:18<00:00,  1.09it/s]"
     ]
    },
    {
     "name": "stdout",
     "output_type": "stream",
     "text": [
      "2018-10-31 09:51:22.664824  [Epoch 1] mean loss: 0.000430\n",
      "2018-10-31 09:51:22.665148  [Epoch 1] accuracy: 0.959863\n",
      "2018-10-31 09:51:22.665763  [Epoch 1] avg class acc: 0.971889\n",
      "2018-10-31 09:51:22.666246  [Epoch 1] indivisual [0] class recall: 0.971223\n",
      "2018-10-31 09:51:22.666404  [Epoch 1] indivisual [0] class precision: 0.985401\n",
      "2018-10-31 09:51:22.666644  [Epoch 1] indivisual [1] class recall: 1.000000\n",
      "2018-10-31 09:51:22.666908  [Epoch 1] indivisual [1] class precision: 0.986842\n",
      "2018-10-31 09:51:22.667194  [Epoch 1] indivisual [2] class recall: 0.944444\n",
      "2018-10-31 09:51:22.667553  [Epoch 1] indivisual [2] class precision: 0.918919\n",
      "2018-10-31 09:51:22.667753   Evaluation one (validation set) epoch   2 /  10\n"
     ]
    },
    {
     "name": "stderr",
     "output_type": "stream",
     "text": [
      "\n",
      "100%|██████████| 233/233 [00:50<00:00,  4.63it/s]"
     ]
    },
    {
     "name": "stdout",
     "output_type": "stream",
     "text": [
      "2018-10-31 09:52:13.249401  [Epoch 1] vali mean loss: 0.001724\n",
      "2018-10-31 09:52:13.249940  [Epoch 1] vali accuracy: 0.988996\n",
      "2018-10-31 09:52:13.250555  [Epoch 1] vali avg class acc: 1.000000\n",
      "2018-10-31 09:52:13.250727  [Epoch 1] vali indivisual [0] class recall: 1.000000\n",
      "2018-10-31 09:52:13.250993  [Epoch 1] vali indivisual [0] class precision: 1.000000\n",
      "2018-10-31 09:52:13.251479  [Epoch 1] vali indivisual [1] class recall: 1.000000\n",
      "2018-10-31 09:52:13.251755  [Epoch 1] vali indivisual [1] class precision: 1.000000\n",
      "2018-10-31 09:52:13.251912  [Epoch 1] vali indivisual [2] class recall: 1.000000\n",
      "2018-10-31 09:52:13.252146  [Epoch 1] vali indivisual [2] class precision: 1.000000\n",
      "2018-10-31 09:52:13.252351   Evaluation one (test set) epoch   2 /  10\n"
     ]
    },
    {
     "name": "stderr",
     "output_type": "stream",
     "text": [
      "\n",
      "100%|██████████| 233/233 [00:50<00:00,  4.64it/s]"
     ]
    },
    {
     "name": "stdout",
     "output_type": "stream",
     "text": [
      "2018-10-31 09:53:03.753302  [Epoch 1] test mean loss: 0.001724\n",
      "2018-10-31 09:53:03.753567  [Epoch 1] test accuracy: 0.988275\n",
      "2018-10-31 09:53:03.754272  [Epoch 1] test avg class acc: 0.968750\n",
      "2018-10-31 09:53:03.754593  [Epoch 1] test indivisual [0] class recall: 1.000000\n",
      "2018-10-31 09:53:03.754821  [Epoch 1] test indivisual [0] class precision: 0.977444\n",
      "2018-10-31 09:53:03.754983  [Epoch 1] test indivisual [1] class recall: 1.000000\n",
      "2018-10-31 09:53:03.755150  [Epoch 1] test indivisual [1] class precision: 1.000000\n",
      "2018-10-31 09:53:03.755328  [Epoch 1] test indivisual [2] class recall: 0.906250\n",
      "2018-10-31 09:53:03.756113  [Epoch 1] test indivisual [2] class precision: 1.000000\n",
      "2018-10-31 09:53:03.756384   Train one epoch   3 /  10\n"
     ]
    },
    {
     "name": "stderr",
     "output_type": "stream",
     "text": [
      "\n",
      "100%|██████████| 935/935 [14:18<00:00,  1.09it/s]"
     ]
    },
    {
     "name": "stdout",
     "output_type": "stream",
     "text": [
      "2018-10-31 10:07:23.303315  [Epoch 2] mean loss: 0.000251\n",
      "2018-10-31 10:07:23.304293  [Epoch 2] accuracy: 0.976911\n",
      "2018-10-31 10:07:23.304616  [Epoch 2] avg class acc: 0.985570\n",
      "2018-10-31 10:07:23.304886  [Epoch 2] indivisual [0] class recall: 0.992424\n",
      "2018-10-31 10:07:23.305153  [Epoch 2] indivisual [0] class precision: 0.992424\n",
      "2018-10-31 10:07:23.305317  [Epoch 2] indivisual [1] class recall: 1.000000\n",
      "2018-10-31 10:07:23.305786  [Epoch 2] indivisual [1] class precision: 1.000000\n",
      "2018-10-31 10:07:23.306038  [Epoch 2] indivisual [2] class recall: 0.964286\n",
      "2018-10-31 10:07:23.306677  [Epoch 2] indivisual [2] class precision: 0.964286\n",
      "2018-10-31 10:07:23.306778   Evaluation one (validation set) epoch   3 /  10\n"
     ]
    },
    {
     "name": "stderr",
     "output_type": "stream",
     "text": [
      "\n",
      "100%|██████████| 233/233 [00:50<00:00,  4.64it/s]"
     ]
    },
    {
     "name": "stdout",
     "output_type": "stream",
     "text": [
      "2018-10-31 10:08:13.828069  [Epoch 2] vali mean loss: 0.001006\n",
      "2018-10-31 10:08:13.828773  [Epoch 2] vali accuracy: 0.995039\n",
      "2018-10-31 10:08:13.829354  [Epoch 2] vali avg class acc: 1.000000\n",
      "2018-10-31 10:08:13.829590  [Epoch 2] vali indivisual [0] class recall: 1.000000\n",
      "2018-10-31 10:08:13.829781  [Epoch 2] vali indivisual [0] class precision: 1.000000\n",
      "2018-10-31 10:08:13.829928  [Epoch 2] vali indivisual [1] class recall: 1.000000\n",
      "2018-10-31 10:08:13.830069  [Epoch 2] vali indivisual [1] class precision: 1.000000\n",
      "2018-10-31 10:08:13.831167  [Epoch 2] vali indivisual [2] class recall: 1.000000\n",
      "2018-10-31 10:08:13.831270  [Epoch 2] vali indivisual [2] class precision: 1.000000\n",
      "2018-10-31 10:08:13.831414   Evaluation one (test set) epoch   3 /  10\n"
     ]
    },
    {
     "name": "stderr",
     "output_type": "stream",
     "text": [
      "\n",
      "100%|██████████| 233/233 [00:50<00:00,  4.62it/s]"
     ]
    },
    {
     "name": "stdout",
     "output_type": "stream",
     "text": [
      "2018-10-31 10:09:04.479971  [Epoch 2] test mean loss: 0.001006\n",
      "2018-10-31 10:09:04.480820  [Epoch 2] test accuracy: 0.994798\n",
      "2018-10-31 10:09:04.481364  [Epoch 2] test avg class acc: 0.977778\n",
      "2018-10-31 10:09:04.481698  [Epoch 2] test indivisual [0] class recall: 1.000000\n",
      "2018-10-31 10:09:04.482138  [Epoch 2] test indivisual [0] class precision: 0.983871\n",
      "2018-10-31 10:09:04.482249  [Epoch 2] test indivisual [1] class recall: 1.000000\n",
      "2018-10-31 10:09:04.482531  [Epoch 2] test indivisual [1] class precision: 1.000000\n",
      "2018-10-31 10:09:04.482798  [Epoch 2] test indivisual [2] class recall: 0.933333\n",
      "2018-10-31 10:09:04.483241  [Epoch 2] test indivisual [2] class precision: 1.000000\n",
      "2018-10-31 10:09:04.483349   Train one epoch   4 /  10\n"
     ]
    },
    {
     "name": "stderr",
     "output_type": "stream",
     "text": [
      "\n",
      "100%|██████████| 935/935 [14:20<00:00,  1.09it/s]"
     ]
    },
    {
     "name": "stdout",
     "output_type": "stream",
     "text": [
      "2018-10-31 10:23:25.647930  [Epoch 3] mean loss: 0.000253\n",
      "2018-10-31 10:23:25.648229  [Epoch 3] accuracy: 0.978798\n",
      "2018-10-31 10:23:25.648630  [Epoch 3] avg class acc: 0.964352\n",
      "2018-10-31 10:23:25.649294  [Epoch 3] indivisual [0] class recall: 0.993056\n",
      "2018-10-31 10:23:25.649454  [Epoch 3] indivisual [0] class precision: 0.979452\n",
      "2018-10-31 10:23:25.649867  [Epoch 3] indivisual [1] class recall: 1.000000\n",
      "2018-10-31 10:23:25.650144  [Epoch 3] indivisual [1] class precision: 1.000000\n",
      "2018-10-31 10:23:25.650697  [Epoch 3] indivisual [2] class recall: 0.900000\n",
      "2018-10-31 10:23:25.650969  [Epoch 3] indivisual [2] class precision: 0.964286\n",
      "2018-10-31 10:23:25.651097   Evaluation one (validation set) epoch   4 /  10\n"
     ]
    },
    {
     "name": "stderr",
     "output_type": "stream",
     "text": [
      "\n",
      "100%|██████████| 233/233 [00:50<00:00,  4.59it/s]"
     ]
    },
    {
     "name": "stdout",
     "output_type": "stream",
     "text": [
      "2018-10-31 10:24:16.732936  [Epoch 3] vali mean loss: 0.001013\n",
      "2018-10-31 10:24:16.733728  [Epoch 3] vali accuracy: 0.994232\n",
      "2018-10-31 10:24:16.734071  [Epoch 3] vali avg class acc: 1.000000\n",
      "2018-10-31 10:24:16.734654  [Epoch 3] vali indivisual [0] class recall: 1.000000\n",
      "2018-10-31 10:24:16.735059  [Epoch 3] vali indivisual [0] class precision: 1.000000\n",
      "2018-10-31 10:24:16.735184  [Epoch 3] vali indivisual [1] class recall: 1.000000\n",
      "2018-10-31 10:24:16.735290  [Epoch 3] vali indivisual [1] class precision: 1.000000\n",
      "2018-10-31 10:24:16.735452  [Epoch 3] vali indivisual [2] class recall: 1.000000\n",
      "2018-10-31 10:24:16.736074  [Epoch 3] vali indivisual [2] class precision: 1.000000\n",
      "2018-10-31 10:24:16.736210   Evaluation one (test set) epoch   4 /  10\n"
     ]
    },
    {
     "name": "stderr",
     "output_type": "stream",
     "text": [
      "\n",
      "100%|██████████| 233/233 [00:50<00:00,  4.60it/s]"
     ]
    },
    {
     "name": "stdout",
     "output_type": "stream",
     "text": [
      "2018-10-31 10:25:07.688614  [Epoch 3] test mean loss: 0.001013\n",
      "2018-10-31 10:25:07.689440  [Epoch 3] test accuracy: 0.993648\n",
      "2018-10-31 10:25:07.689881  [Epoch 3] test avg class acc: 1.000000\n",
      "2018-10-31 10:25:07.690220  [Epoch 3] test indivisual [0] class recall: 1.000000\n",
      "2018-10-31 10:25:07.690459  [Epoch 3] test indivisual [0] class precision: 1.000000\n",
      "2018-10-31 10:25:07.690586  [Epoch 3] test indivisual [1] class recall: 1.000000\n",
      "2018-10-31 10:25:07.691155  [Epoch 3] test indivisual [1] class precision: 1.000000\n",
      "2018-10-31 10:25:07.691511  [Epoch 3] test indivisual [2] class recall: 1.000000\n",
      "2018-10-31 10:25:07.691741  [Epoch 3] test indivisual [2] class precision: 1.000000\n",
      "2018-10-31 10:25:07.691966   Train one epoch   5 /  10\n"
     ]
    },
    {
     "name": "stderr",
     "output_type": "stream",
     "text": [
      "\n",
      "100%|██████████| 935/935 [14:03<00:00,  1.11it/s]"
     ]
    },
    {
     "name": "stdout",
     "output_type": "stream",
     "text": [
      "2018-10-31 10:39:11.775368  [Epoch 4] mean loss: 0.000152\n",
      "2018-10-31 10:39:11.775697  [Epoch 4] accuracy: 0.986430\n",
      "2018-10-31 10:39:11.776140  [Epoch 4] avg class acc: 0.989177\n",
      "2018-10-31 10:39:11.776668  [Epoch 4] indivisual [0] class recall: 0.967532\n",
      "2018-10-31 10:39:11.776821  [Epoch 4] indivisual [0] class precision: 1.000000\n",
      "2018-10-31 10:39:11.777171  [Epoch 4] indivisual [1] class recall: 1.000000\n",
      "2018-10-31 10:39:11.777384  [Epoch 4] indivisual [1] class precision: 1.000000\n",
      "2018-10-31 10:39:11.777760  [Epoch 4] indivisual [2] class recall: 1.000000\n",
      "2018-10-31 10:39:11.777891  [Epoch 4] indivisual [2] class precision: 0.843750\n",
      "2018-10-31 10:39:11.778188   Evaluation one (validation set) epoch   5 /  10\n"
     ]
    },
    {
     "name": "stderr",
     "output_type": "stream",
     "text": [
      "\n",
      "100%|██████████| 233/233 [00:49<00:00,  4.75it/s]"
     ]
    },
    {
     "name": "stdout",
     "output_type": "stream",
     "text": [
      "2018-10-31 10:40:01.131537  [Epoch 4] vali mean loss: 0.000608\n",
      "2018-10-31 10:40:01.132276  [Epoch 4] vali accuracy: 0.998163\n",
      "2018-10-31 10:40:01.132910  [Epoch 4] vali avg class acc: 0.666667\n",
      "2018-10-31 10:40:01.133146  [Epoch 4] vali indivisual [0] class recall: 1.000000\n",
      "2018-10-31 10:40:01.133285  [Epoch 4] vali indivisual [0] class precision: 0.993151\n",
      "2018-10-31 10:40:01.133769  [Epoch 4] vali indivisual [1] class recall: 1.000000\n",
      "2018-10-31 10:40:01.134193  [Epoch 4] vali indivisual [1] class precision: 1.000000\n",
      "2018-10-31 10:40:01.134453  [Epoch 4] vali indivisual [2] class recall: 0.964286\n",
      "2018-10-31 10:40:01.134548  [Epoch 4] vali indivisual [2] class precision: 1.000000\n",
      "2018-10-31 10:40:01.134812   Evaluation one (test set) epoch   5 /  10\n"
     ]
    },
    {
     "name": "stderr",
     "output_type": "stream",
     "text": [
      "\n",
      "100%|██████████| 233/233 [00:49<00:00,  4.75it/s]"
     ]
    },
    {
     "name": "stdout",
     "output_type": "stream",
     "text": [
      "2018-10-31 10:40:50.449477  [Epoch 4] test mean loss: 0.000608\n",
      "2018-10-31 10:40:50.450461  [Epoch 4] test accuracy: 0.998129\n",
      "2018-10-31 10:40:50.451795  [Epoch 4] test avg class acc: 0.990476\n",
      "2018-10-31 10:40:50.452113  [Epoch 4] test indivisual [0] class recall: 1.000000\n",
      "2018-10-31 10:40:50.452370  [Epoch 4] test indivisual [0] class precision: 0.992593\n",
      "2018-10-31 10:40:50.452480  [Epoch 4] test indivisual [1] class recall: 1.000000\n",
      "2018-10-31 10:40:50.453072  [Epoch 4] test indivisual [1] class precision: 1.000000\n",
      "2018-10-31 10:40:50.453284  [Epoch 4] test indivisual [2] class recall: 0.971429\n",
      "2018-10-31 10:40:50.453663  [Epoch 4] test indivisual [2] class precision: 1.000000\n",
      "2018-10-31 10:40:50.453934   Train one epoch   6 /  10\n"
     ]
    },
    {
     "name": "stderr",
     "output_type": "stream",
     "text": [
      "\n",
      "100%|██████████| 935/935 [14:00<00:00,  1.11it/s]"
     ]
    },
    {
     "name": "stdout",
     "output_type": "stream",
     "text": [
      "2018-10-31 10:54:52.193878  [Epoch 5] mean loss: 0.000126\n",
      "2018-10-31 10:54:52.194865  [Epoch 5] accuracy: 0.988787\n",
      "2018-10-31 10:54:52.195265  [Epoch 5] avg class acc: 0.958096\n",
      "2018-10-31 10:54:52.195708  [Epoch 5] indivisual [0] class recall: 0.991935\n",
      "2018-10-31 10:54:52.195822  [Epoch 5] indivisual [0] class precision: 0.968504\n",
      "2018-10-31 10:54:52.195919  [Epoch 5] indivisual [1] class recall: 1.000000\n",
      "2018-10-31 10:54:52.196465  [Epoch 5] indivisual [1] class precision: 1.000000\n",
      "2018-10-31 10:54:52.196751  [Epoch 5] indivisual [2] class recall: 0.882353\n",
      "2018-10-31 10:54:52.196844  [Epoch 5] indivisual [2] class precision: 0.967742\n",
      "2018-10-31 10:54:52.197089   Evaluation one (validation set) epoch   6 /  10\n"
     ]
    },
    {
     "name": "stderr",
     "output_type": "stream",
     "text": [
      "\n",
      "100%|██████████| 233/233 [00:49<00:00,  4.75it/s]"
     ]
    },
    {
     "name": "stdout",
     "output_type": "stream",
     "text": [
      "2018-10-31 10:55:41.488478  [Epoch 5] vali mean loss: 0.000507\n",
      "2018-10-31 10:55:41.489260  [Epoch 5] vali accuracy: 0.996910\n",
      "2018-10-31 10:55:41.489974  [Epoch 5] vali avg class acc: 1.000000\n",
      "2018-10-31 10:55:41.490136  [Epoch 5] vali indivisual [0] class recall: 1.000000\n",
      "2018-10-31 10:55:41.490433  [Epoch 5] vali indivisual [0] class precision: 1.000000\n",
      "2018-10-31 10:55:41.490655  [Epoch 5] vali indivisual [1] class recall: 1.000000\n",
      "2018-10-31 10:55:41.490853  [Epoch 5] vali indivisual [1] class precision: 1.000000\n",
      "2018-10-31 10:55:41.491308  [Epoch 5] vali indivisual [2] class recall: 1.000000\n",
      "2018-10-31 10:55:41.491476  [Epoch 5] vali indivisual [2] class precision: 1.000000\n",
      "2018-10-31 10:55:41.491984   Evaluation one (test set) epoch   6 /  10\n"
     ]
    },
    {
     "name": "stderr",
     "output_type": "stream",
     "text": [
      "\n",
      "100%|██████████| 233/233 [00:49<00:00,  4.75it/s]"
     ]
    },
    {
     "name": "stdout",
     "output_type": "stream",
     "text": [
      "2018-10-31 10:56:30.849141  [Epoch 5] test mean loss: 0.000507\n",
      "2018-10-31 10:56:30.849438  [Epoch 5] test accuracy: 0.996773\n",
      "2018-10-31 10:56:30.851518  [Epoch 5] test avg class acc: 1.000000\n",
      "2018-10-31 10:56:30.851975  [Epoch 5] test indivisual [0] class recall: 1.000000\n",
      "2018-10-31 10:56:30.852242  [Epoch 5] test indivisual [0] class precision: 1.000000\n",
      "2018-10-31 10:56:30.852413  [Epoch 5] test indivisual [1] class recall: 1.000000\n",
      "2018-10-31 10:56:30.852652  [Epoch 5] test indivisual [1] class precision: 1.000000\n",
      "2018-10-31 10:56:30.852780  [Epoch 5] test indivisual [2] class recall: 1.000000\n",
      "2018-10-31 10:56:30.853405  [Epoch 5] test indivisual [2] class precision: 1.000000\n",
      "2018-10-31 10:56:30.853688   Train one epoch   7 /  10\n"
     ]
    },
    {
     "name": "stderr",
     "output_type": "stream",
     "text": [
      "\n",
      "100%|██████████| 935/935 [14:00<00:00,  1.11it/s]"
     ]
    },
    {
     "name": "stdout",
     "output_type": "stream",
     "text": [
      "2018-10-31 11:10:31.919473  [Epoch 6] mean loss: 0.000117\n",
      "2018-10-31 11:10:31.920167  [Epoch 6] accuracy: 0.989861\n",
      "2018-10-31 11:10:31.920526  [Epoch 6] avg class acc: 0.975560\n",
      "2018-10-31 11:10:31.921018  [Epoch 6] indivisual [0] class recall: 0.979310\n",
      "2018-10-31 11:10:31.921289  [Epoch 6] indivisual [0] class precision: 0.986111\n",
      "2018-10-31 11:10:31.921692  [Epoch 6] indivisual [1] class recall: 1.000000\n",
      "2018-10-31 11:10:31.921789  [Epoch 6] indivisual [1] class precision: 1.000000\n",
      "2018-10-31 11:10:31.922064  [Epoch 6] indivisual [2] class recall: 0.947368\n",
      "2018-10-31 11:10:31.922379  [Epoch 6] indivisual [2] class precision: 0.923077\n",
      "2018-10-31 11:10:31.922713   Evaluation one (validation set) epoch   7 /  10\n"
     ]
    },
    {
     "name": "stderr",
     "output_type": "stream",
     "text": [
      "\n",
      "100%|██████████| 233/233 [00:49<00:00,  4.75it/s]"
     ]
    },
    {
     "name": "stdout",
     "output_type": "stream",
     "text": [
      "2018-10-31 11:11:21.263776  [Epoch 6] vali mean loss: 0.000468\n",
      "2018-10-31 11:11:21.264664  [Epoch 6] vali accuracy: 0.998764\n",
      "2018-10-31 11:11:21.265038  [Epoch 6] vali avg class acc: 1.000000\n",
      "2018-10-31 11:11:21.265555  [Epoch 6] vali indivisual [0] class recall: 1.000000\n",
      "2018-10-31 11:11:21.265731  [Epoch 6] vali indivisual [0] class precision: 1.000000\n",
      "2018-10-31 11:11:21.266050  [Epoch 6] vali indivisual [1] class recall: 1.000000\n",
      "2018-10-31 11:11:21.266172  [Epoch 6] vali indivisual [1] class precision: 1.000000\n",
      "2018-10-31 11:11:21.266644  [Epoch 6] vali indivisual [2] class recall: 1.000000\n",
      "2018-10-31 11:11:21.266780  [Epoch 6] vali indivisual [2] class precision: 1.000000\n",
      "2018-10-31 11:11:21.266961   Evaluation one (test set) epoch   7 /  10\n"
     ]
    },
    {
     "name": "stderr",
     "output_type": "stream",
     "text": [
      "\n",
      "100%|██████████| 233/233 [00:49<00:00,  4.74it/s]"
     ]
    },
    {
     "name": "stdout",
     "output_type": "stream",
     "text": [
      "2018-10-31 11:12:10.684944  [Epoch 6] test mean loss: 0.000468\n",
      "2018-10-31 11:12:10.685688  [Epoch 6] test accuracy: 0.998558\n",
      "2018-10-31 11:12:10.687921  [Epoch 6] test avg class acc: 1.000000\n",
      "2018-10-31 11:12:10.688439  [Epoch 6] test indivisual [0] class recall: 1.000000\n",
      "2018-10-31 11:12:10.688766  [Epoch 6] test indivisual [0] class precision: 1.000000\n",
      "2018-10-31 11:12:10.689059  [Epoch 6] test indivisual [1] class recall: 1.000000\n",
      "2018-10-31 11:12:10.689474  [Epoch 6] test indivisual [1] class precision: 1.000000\n",
      "2018-10-31 11:12:10.689574  [Epoch 6] test indivisual [2] class recall: 1.000000\n",
      "2018-10-31 11:12:10.689677  [Epoch 6] test indivisual [2] class precision: 1.000000\n",
      "2018-10-31 11:12:10.690081   Train one epoch   8 /  10\n"
     ]
    },
    {
     "name": "stderr",
     "output_type": "stream",
     "text": [
      "\n",
      "100%|██████████| 935/935 [14:00<00:00,  1.11it/s]"
     ]
    },
    {
     "name": "stdout",
     "output_type": "stream",
     "text": [
      "2018-10-31 11:26:12.090332  [Epoch 7] mean loss: 0.000113\n",
      "2018-10-31 11:26:12.091108  [Epoch 7] accuracy: 0.990130\n",
      "2018-10-31 11:26:12.091540  [Epoch 7] avg class acc: 1.000000\n",
      "2018-10-31 11:26:12.092183  [Epoch 7] indivisual [0] class recall: 1.000000\n",
      "2018-10-31 11:26:12.092384  [Epoch 7] indivisual [0] class precision: 1.000000\n",
      "2018-10-31 11:26:12.092527  [Epoch 7] indivisual [1] class recall: 1.000000\n",
      "2018-10-31 11:26:12.093212  [Epoch 7] indivisual [1] class precision: 1.000000\n",
      "2018-10-31 11:26:12.093414  [Epoch 7] indivisual [2] class recall: 1.000000\n",
      "2018-10-31 11:26:12.093754  [Epoch 7] indivisual [2] class precision: 1.000000\n",
      "2018-10-31 11:26:12.094121   Evaluation one (validation set) epoch   8 /  10\n"
     ]
    },
    {
     "name": "stderr",
     "output_type": "stream",
     "text": [
      "\n",
      "100%|██████████| 233/233 [00:49<00:00,  4.74it/s]"
     ]
    },
    {
     "name": "stdout",
     "output_type": "stream",
     "text": [
      "2018-10-31 11:27:01.599612  [Epoch 7] vali mean loss: 0.000453\n",
      "2018-10-31 11:27:01.600191  [Epoch 7] vali accuracy: 0.998592\n",
      "2018-10-31 11:27:01.601285  [Epoch 7] vali avg class acc: 0.666667\n",
      "2018-10-31 11:27:01.601545  [Epoch 7] vali indivisual [0] class recall: 0.992754\n",
      "2018-10-31 11:27:01.601833  [Epoch 7] vali indivisual [0] class precision: 1.000000\n",
      "2018-10-31 11:27:01.602002  [Epoch 7] vali indivisual [1] class recall: 1.000000\n",
      "2018-10-31 11:27:01.602534  [Epoch 7] vali indivisual [1] class precision: 1.000000\n",
      "2018-10-31 11:27:01.602945  [Epoch 7] vali indivisual [2] class recall: 1.000000\n",
      "2018-10-31 11:27:01.603115  [Epoch 7] vali indivisual [2] class precision: 0.969697\n",
      "2018-10-31 11:27:01.603386   Evaluation one (test set) epoch   8 /  10\n"
     ]
    },
    {
     "name": "stderr",
     "output_type": "stream",
     "text": [
      "\n",
      "100%|██████████| 233/233 [00:49<00:00,  4.73it/s]"
     ]
    },
    {
     "name": "stdout",
     "output_type": "stream",
     "text": [
      "2018-10-31 11:27:51.131274  [Epoch 7] test mean loss: 0.000453\n",
      "2018-10-31 11:27:51.132088  [Epoch 7] test accuracy: 0.998558\n",
      "2018-10-31 11:27:51.132547  [Epoch 7] test avg class acc: 1.000000\n",
      "2018-10-31 11:27:51.133118  [Epoch 7] test indivisual [0] class recall: 1.000000\n",
      "2018-10-31 11:27:51.133340  [Epoch 7] test indivisual [0] class precision: 1.000000\n",
      "2018-10-31 11:27:51.133512  [Epoch 7] test indivisual [1] class recall: 1.000000\n",
      "2018-10-31 11:27:51.133820  [Epoch 7] test indivisual [1] class precision: 1.000000\n",
      "2018-10-31 11:27:51.133974  [Epoch 7] test indivisual [2] class recall: 1.000000\n",
      "2018-10-31 11:27:51.134427  [Epoch 7] test indivisual [2] class precision: 1.000000\n",
      "2018-10-31 11:27:51.134755   Train one epoch   9 /  10\n"
     ]
    },
    {
     "name": "stderr",
     "output_type": "stream",
     "text": [
      "\n",
      "100%|██████████| 935/935 [14:00<00:00,  1.11it/s]"
     ]
    },
    {
     "name": "stdout",
     "output_type": "stream",
     "text": [
      "2018-10-31 11:41:52.375335  [Epoch 8] mean loss: 0.000108\n",
      "2018-10-31 11:41:52.376089  [Epoch 8] accuracy: 0.990439\n",
      "2018-10-31 11:41:52.377375  [Epoch 8] avg class acc: 1.000000\n",
      "2018-10-31 11:41:52.377554  [Epoch 8] indivisual [0] class recall: 1.000000\n",
      "2018-10-31 11:41:52.377877  [Epoch 8] indivisual [0] class precision: 1.000000\n",
      "2018-10-31 11:41:52.378026  [Epoch 8] indivisual [1] class recall: 1.000000\n",
      "2018-10-31 11:41:52.378381  [Epoch 8] indivisual [1] class precision: 1.000000\n",
      "2018-10-31 11:41:52.378523  [Epoch 8] indivisual [2] class recall: 1.000000\n",
      "2018-10-31 11:41:52.378655  [Epoch 8] indivisual [2] class precision: 1.000000\n",
      "2018-10-31 11:41:52.379422   Evaluation one (validation set) epoch   9 /  10\n"
     ]
    },
    {
     "name": "stderr",
     "output_type": "stream",
     "text": [
      "\n",
      "100%|██████████| 233/233 [00:49<00:00,  4.74it/s]"
     ]
    },
    {
     "name": "stdout",
     "output_type": "stream",
     "text": [
      "2018-10-31 11:42:41.825064  [Epoch 8] vali mean loss: 0.000433\n",
      "2018-10-31 11:42:41.825810  [Epoch 8] vali accuracy: 0.998541\n",
      "2018-10-31 11:42:41.826446  [Epoch 8] vali avg class acc: 1.000000\n",
      "2018-10-31 11:42:41.826810  [Epoch 8] vali indivisual [0] class recall: 1.000000\n",
      "2018-10-31 11:42:41.827173  [Epoch 8] vali indivisual [0] class precision: 1.000000\n",
      "2018-10-31 11:42:41.827478  [Epoch 8] vali indivisual [1] class recall: 1.000000\n",
      "2018-10-31 11:42:41.827852  [Epoch 8] vali indivisual [1] class precision: 1.000000\n",
      "2018-10-31 11:42:41.827985  [Epoch 8] vali indivisual [2] class recall: 1.000000\n",
      "2018-10-31 11:42:41.828227  [Epoch 8] vali indivisual [2] class precision: 1.000000\n",
      "2018-10-31 11:42:41.828438   Evaluation one (test set) epoch   9 /  10\n"
     ]
    },
    {
     "name": "stderr",
     "output_type": "stream",
     "text": [
      "\n",
      "100%|██████████| 233/233 [00:49<00:00,  4.73it/s]"
     ]
    },
    {
     "name": "stdout",
     "output_type": "stream",
     "text": [
      "2018-10-31 11:43:31.346786  [Epoch 8] test mean loss: 0.000433\n",
      "2018-10-31 11:43:31.347456  [Epoch 8] test accuracy: 0.998541\n",
      "2018-10-31 11:43:31.349569  [Epoch 8] test avg class acc: 1.000000\n",
      "2018-10-31 11:43:31.350033  [Epoch 8] test indivisual [0] class recall: 1.000000\n",
      "2018-10-31 11:43:31.350246  [Epoch 8] test indivisual [0] class precision: 1.000000\n",
      "2018-10-31 11:43:31.350513  [Epoch 8] test indivisual [1] class recall: 1.000000\n",
      "2018-10-31 11:43:31.350946  [Epoch 8] test indivisual [1] class precision: 1.000000\n",
      "2018-10-31 11:43:31.351347  [Epoch 8] test indivisual [2] class recall: 1.000000\n",
      "2018-10-31 11:43:31.351515  [Epoch 8] test indivisual [2] class precision: 1.000000\n",
      "2018-10-31 11:43:31.351654   Train one epoch  10 /  10\n"
     ]
    },
    {
     "name": "stderr",
     "output_type": "stream",
     "text": [
      "\n",
      "100%|██████████| 935/935 [14:01<00:00,  1.11it/s]"
     ]
    },
    {
     "name": "stdout",
     "output_type": "stream",
     "text": [
      "2018-10-31 11:57:33.431432  [Epoch 9] mean loss: 0.000103\n",
      "2018-10-31 11:57:33.432124  [Epoch 9] accuracy: 0.991055\n",
      "2018-10-31 11:57:33.432840  [Epoch 9] avg class acc: 1.000000\n",
      "2018-10-31 11:57:33.433224  [Epoch 9] indivisual [0] class recall: 1.000000\n",
      "2018-10-31 11:57:33.433608  [Epoch 9] indivisual [0] class precision: 1.000000\n",
      "2018-10-31 11:57:33.433714  [Epoch 9] indivisual [1] class recall: 1.000000\n",
      "2018-10-31 11:57:33.433806  [Epoch 9] indivisual [1] class precision: 1.000000\n",
      "2018-10-31 11:57:33.433965  [Epoch 9] indivisual [2] class recall: 1.000000\n",
      "2018-10-31 11:57:33.434206  [Epoch 9] indivisual [2] class precision: 1.000000\n",
      "2018-10-31 11:57:33.434870   Evaluation one (validation set) epoch  10 /  10\n"
     ]
    },
    {
     "name": "stderr",
     "output_type": "stream",
     "text": [
      "\n",
      "100%|██████████| 233/233 [00:49<00:00,  4.74it/s]"
     ]
    },
    {
     "name": "stdout",
     "output_type": "stream",
     "text": [
      "2018-10-31 11:58:22.881342  [Epoch 9] vali mean loss: 0.000411\n",
      "2018-10-31 11:58:22.882070  [Epoch 9] vali accuracy: 0.998558\n",
      "2018-10-31 11:58:22.882452  [Epoch 9] vali avg class acc: 1.000000\n",
      "2018-10-31 11:58:22.883168  [Epoch 9] vali indivisual [0] class recall: 1.000000\n",
      "2018-10-31 11:58:22.883577  [Epoch 9] vali indivisual [0] class precision: 1.000000\n",
      "2018-10-31 11:58:22.883685  [Epoch 9] vali indivisual [1] class recall: 1.000000\n",
      "2018-10-31 11:58:22.883972  [Epoch 9] vali indivisual [1] class precision: 1.000000\n",
      "2018-10-31 11:58:22.884244  [Epoch 9] vali indivisual [2] class recall: 1.000000\n",
      "2018-10-31 11:58:22.884663  [Epoch 9] vali indivisual [2] class precision: 1.000000\n",
      "2018-10-31 11:58:22.884766   Evaluation one (test set) epoch  10 /  10\n"
     ]
    },
    {
     "name": "stderr",
     "output_type": "stream",
     "text": [
      "\n",
      "100%|██████████| 233/233 [00:49<00:00,  4.73it/s]\n"
     ]
    },
    {
     "name": "stdout",
     "output_type": "stream",
     "text": [
      "2018-10-31 11:59:12.415426  [Epoch 9] test mean loss: 0.000411\n",
      "2018-10-31 11:59:12.415868  [Epoch 9] test accuracy: 0.998438\n",
      "2018-10-31 11:59:12.417942  [Epoch 9] test avg class acc: 0.988095\n",
      "2018-10-31 11:59:12.418625  [Epoch 9] test indivisual [0] class recall: 1.000000\n",
      "2018-10-31 11:59:12.419085  [Epoch 9] test indivisual [0] class precision: 0.992701\n",
      "2018-10-31 11:59:12.419205  [Epoch 9] test indivisual [1] class recall: 1.000000\n",
      "2018-10-31 11:59:12.419514  [Epoch 9] test indivisual [1] class precision: 1.000000\n",
      "2018-10-31 11:59:12.419860  [Epoch 9] test indivisual [2] class recall: 0.964286\n",
      "2018-10-31 11:59:12.420232  [Epoch 9] test indivisual [2] class precision: 1.000000\n",
      "2018-10-31 11:59:13.465514  Model saved in file: /home/gozilla/kyungpyo/git/MasterThesisProject/Network/notebook/train_log_20181031/model/model.ckpt\n"
     ]
    }
   ],
   "source": [
    "\"\"\" log file \"\"\"\n",
    "LOG_FOUT = open(log_path, 'w')\n",
    "\n",
    "def log_string(out_str):\n",
    "    out_str = str( datetime.datetime.fromtimestamp( time.time() ) ) + \"  \" + out_str\n",
    "    LOG_FOUT.write(out_str+'\\n')\n",
    "    LOG_FOUT.flush()\n",
    "    print(out_str)\n",
    "    \n",
    "    \n",
    "def get_learning_rate(batch):\n",
    "    learning_rate = tf.train.exponential_decay(\n",
    "                        BASE_LEARNING_RATE,  # Base learning rate.\n",
    "                        batch * BATCH_SIZE,  # Current index into the dataset.\n",
    "                        DECAY_STEP,          # Decay step.\n",
    "                        DECAY_RATE,          # Decay rate.\n",
    "                        staircase=True)\n",
    "    learning_rate = tf.maximum(learning_rate, 0.00001) # CLIP THE LEARNING RATE!\n",
    "    return learning_rate        \n",
    "\n",
    "def get_bn_decay(batch):\n",
    "    bn_momentum = tf.train.exponential_decay(\n",
    "                      BN_INIT_DECAY,\n",
    "                      batch * BATCH_SIZE,\n",
    "                      BN_DECAY_DECAY_STEP,\n",
    "                      BN_DECAY_DECAY_RATE,\n",
    "                      staircase=True)\n",
    "    bn_decay = tf.minimum(BN_DECAY_CLIP, 1 - bn_momentum)\n",
    "    return bn_decay\n",
    "\n",
    "\"\"\" load traing model \"\"\"\n",
    "with tf.Graph().as_default():\n",
    "    with tf.device('/gpu:'+str(GPU_INDEX)):\n",
    "        pointclouds_pl, labels_pl = MODEL.placeholder_inputs(BATCH_SIZE, NUM_POINT)\n",
    "        is_training_pl = tf.placeholder(tf.bool, shape=())\n",
    "        print(is_training_pl)\n",
    "\n",
    "        # Note the global_step=batch parameter to minimize. \n",
    "        # That tells the optimizer to helpfully increment the 'batch' parameter for you every time it trains.\n",
    "        batch = tf.Variable(0)\n",
    "        bn_decay = get_bn_decay(batch)\n",
    "        tf.summary.scalar('bn_decay', bn_decay)\n",
    "\n",
    "        # Get model and loss \n",
    "        pred, end_points = MODEL.get_model(pointclouds_pl, is_training_pl, bn_decay=bn_decay)\n",
    "        loss = MODEL.get_loss(pred, labels_pl, end_points)\n",
    "        tf.summary.scalar('loss', loss)\n",
    "\n",
    "        correct = tf.equal(tf.argmax(pred, 1), tf.to_int64(labels_pl))\n",
    "        accuracy = tf.reduce_sum(tf.cast(correct, tf.float32)) / float(BATCH_SIZE)\n",
    "        tf.summary.scalar('accuracy', accuracy)\n",
    "\n",
    "        # Get training operator\n",
    "        learning_rate = get_learning_rate(batch)\n",
    "        tf.summary.scalar('learning_rate', learning_rate)\n",
    "        if OPTIMIZER == 'momentum':\n",
    "            optimizer = tf.train.MomentumOptimizer(learning_rate, momentum=MOMENTUM)\n",
    "        elif OPTIMIZER == 'adam':\n",
    "            optimizer = tf.train.AdamOptimizer(learning_rate)\n",
    "        train_op = optimizer.minimize(loss, global_step=batch)\n",
    "\n",
    "        # Add ops to save and restore all the variables.\n",
    "        saver = tf.train.Saver()\n",
    "\n",
    "    # Create a session\n",
    "    config = tf.ConfigProto()\n",
    "    config.gpu_options.allow_growth = True\n",
    "    config.allow_soft_placement = True\n",
    "    config.log_device_placement = False\n",
    "    sess = tf.Session(config=config)\n",
    "\n",
    "    # Add summary writers\n",
    "    #merged = tf.merge_all_summaries()\n",
    "    merged = tf.summary.merge_all()\n",
    "\n",
    "    train_writer_path = os.path.abspath('./train')\n",
    "    if os.path.isdir(train_writer_path): os.system('rm -r {}'.format(train_writer_path))\n",
    "    os.mkdir(train_writer_path)\n",
    "        \n",
    "    test_writer_path = os.path.abspath('./test')\n",
    "    if os.path.isdir(test_writer_path): os.system('rm -r {}'.format(test_writer_path))\n",
    "    os.mkdir(test_writer_path)\n",
    "    \n",
    "    \n",
    "    train_writer = tf.summary.FileWriter(train_writer_path, sess.graph)\n",
    "    test_writer = tf.summary.FileWriter(test_writer_path)\n",
    "    \n",
    "    \n",
    "    # Init variables\n",
    "    init = tf.global_variables_initializer()\n",
    "    # To fix the bug introduced in TF 0.12.1 as in\n",
    "    # http://stackoverflow.com/questions/41543774/invalidargumenterror-for-tensor-bool-tensorflow-0-12-1\n",
    "    #sess.run(init)\n",
    "    sess.run(init, {is_training_pl: True})\n",
    "\n",
    "    ops = {'pointclouds_pl': pointclouds_pl,\n",
    "           'labels_pl': labels_pl,\n",
    "           'is_training_pl': is_training_pl,\n",
    "           'pred': pred,\n",
    "           'loss': loss,\n",
    "           'train_op': train_op,\n",
    "           'merged': merged,\n",
    "           'step': batch}\n",
    "    \n",
    "    data_train = np.concatenate(data[:2])\n",
    "    print data_train.shape\n",
    "    label_train = np.concatenate(label[:2])\n",
    "    print label_train.shape\n",
    "        \n",
    "    data_vali = data[1]\n",
    "    label_vali = label[1]\n",
    "    \n",
    "    data_test = data[2]\n",
    "    label_test = label[2]\n",
    "    \n",
    "        \n",
    "    for epoch in range(MAX_EPOCH):\n",
    "        \n",
    "        ## Training\n",
    "        log_string ( \" Train one epoch %3d / %3d\" % (epoch+1, MAX_EPOCH) )\n",
    "        sys.stdout.flush()\n",
    "        \n",
    "        is_training = True\n",
    "        \n",
    "        # Shuffle train files\n",
    "        train_file_idxs = np.arange(0, data_train.shape[0])\n",
    "        np.random.shuffle(train_file_idxs)\n",
    "        \n",
    "        current_data = data_train[train_file_idxs] \n",
    "        current_label = label_train[train_file_idxs]\n",
    "              \n",
    "        ## Evaluation metric\n",
    "        total_correct = 0\n",
    "        total_seen = 0\n",
    "        loss_sum = 0\n",
    "        \n",
    "        total_class = [0 for _ in range(NUM_CLASSES)]\n",
    "        total_detect_class = [0 for _ in range(NUM_CLASSES)]\n",
    "        total_correct_class = [0 for _ in range(NUM_CLASSES)]\n",
    "            \n",
    "        num_batches = current_data.shape[0] // BATCH_SIZE\n",
    "               \n",
    "        for batch_idx in trange(num_batches):\n",
    "            \n",
    "            start_idx = batch_idx * BATCH_SIZE\n",
    "            end_idx = (batch_idx+1) * BATCH_SIZE           \n",
    "\n",
    "            # Augment batched point clouds by rotation and jittering\n",
    "            rotated_data = provider.rotate_point_cloud(current_data[start_idx:end_idx, :, :])\n",
    "            jittered_data = provider.jitter_point_cloud(rotated_data)\n",
    "            \n",
    "            feed_dict = {ops['pointclouds_pl']: jittered_data,\n",
    "                         ops['labels_pl']: current_label[start_idx:end_idx],\n",
    "                         ops['is_training_pl']: is_training,}\n",
    "            \n",
    "            summary, step, _, loss_val, pred_val = sess.run([ops['merged'], ops['step'],\n",
    "                ops['train_op'], ops['loss'], ops['pred']], feed_dict=feed_dict)\n",
    "            \n",
    "            train_writer.add_summary(summary, step)\n",
    "            \n",
    "            pred_val = np.argmax(pred_val, 1)\n",
    "            correct = np.sum(pred_val == current_label[start_idx:end_idx])\n",
    "            total_correct += correct\n",
    "            total_seen += BATCH_SIZE\n",
    "            loss_sum += loss_val\n",
    "            \n",
    "            for i in range(NUM_CLASSES):\n",
    "                total_class[i] = np.sum( np.ones(BATCH_SIZE) * i == current_label[start_idx:end_idx] )\n",
    "                total_detect_class[i] = np.sum( np.ones(BATCH_SIZE) * i == pred_val )\n",
    "                total_correct_class[i] = np.sum( (np.ones(BATCH_SIZE) * i == current_label[start_idx:end_idx]) * \\\n",
    "                                                    (np.ones(BATCH_SIZE) * i == pred_val) )\n",
    "                                \n",
    "        log_string(  '[Epoch %d] mean loss: %f' % \\\n",
    "                   (  epoch, loss_sum / float(total_seen)  )   )\n",
    "        log_string(  '[Epoch %d] accuracy: %f'% \\\n",
    "                   (  epoch, total_correct / float(total_seen)  )   )\n",
    "        log_string(  '[Epoch %d] avg class acc: %f' % \\\n",
    "                   (  epoch, np.mean( np.array(total_correct_class)/np.array(total_class,dtype=np.float) )  )   )\n",
    "        \n",
    "        for i_cls in range(NUM_CLASSES):\n",
    "            log_string(  '[Epoch %d] indivisual [%d] class recall: %f' % \\\n",
    "                       (  epoch, i_cls, float(total_correct_class[i_cls])/float(total_class[i_cls])))    \n",
    "            log_string(  '[Epoch %d] indivisual [%d] class precision: %f' % \\\n",
    "                       (  epoch, i_cls, float(total_correct_class[i_cls])/float(total_detect_class[i_cls])))    \n",
    "\n",
    "\n",
    "        ## Evaluation using validation set    \n",
    "        log_string ( \" Evaluation one (validation set) epoch %3d / %3d\" % (epoch+1, MAX_EPOCH) )\n",
    "        sys.stdout.flush()\n",
    "        \n",
    "        is_training = False\n",
    "        total_correct = 0\n",
    "        total_seen = 0\n",
    "        total_seen_class = [0 for _ in range(NUM_CLASSES)]\n",
    "        total_correct_class = [0 for _ in range(NUM_CLASSES)]\n",
    "        total_detect_class = [0 for _ in range(NUM_CLASSES)]\n",
    "        total_detect_true_class = [0 for _ in range(NUM_CLASSES)]\n",
    "        \n",
    "        # Shuffle validation files\n",
    "        file_idxs = np.arange(0, data_vali.shape[0])\n",
    "        np.random.shuffle(file_idxs)\n",
    "        \n",
    "        current_data = data_vali[file_idxs]\n",
    "        current_label = label_vali[file_idxs]\n",
    "        \n",
    "        num_batches = current_data.shape[0] // BATCH_SIZE\n",
    "               \n",
    "        for batch_idx in trange(num_batches):\n",
    "            start_idx = batch_idx * BATCH_SIZE\n",
    "            end_idx = (batch_idx+1) * BATCH_SIZE\n",
    "\n",
    "            feed_dict = {ops['pointclouds_pl']: current_data[start_idx:end_idx, :, :],\n",
    "                         ops['labels_pl']: current_label[start_idx:end_idx],\n",
    "                         ops['is_training_pl']: is_training}\n",
    "            summary, step, loss_val, pred_val = sess.run([ops['merged'], ops['step'],\n",
    "                ops['loss'], ops['pred']], feed_dict=feed_dict)\n",
    "            \n",
    "            # test_writer.add_summary(summary, step)\n",
    "            \n",
    "            pred_val = np.argmax(pred_val, 1)\n",
    "            correct = np.sum(pred_val == current_label[start_idx:end_idx])\n",
    "            total_correct += correct\n",
    "            total_seen += BATCH_SIZE\n",
    "            \n",
    "            for i in range(NUM_CLASSES):\n",
    "                total_class[i] = np.sum( np.ones(BATCH_SIZE) * i == current_label[start_idx:end_idx] )\n",
    "                total_detect_class[i] = np.sum( np.ones(BATCH_SIZE) * i == pred_val )\n",
    "                total_correct_class[i] = np.sum( (np.ones(BATCH_SIZE) * i == current_label[start_idx:end_idx]) * \\\n",
    "                                                    (np.ones(BATCH_SIZE) * i == pred_val) )\n",
    "                                \n",
    "        log_string(  '[Epoch %d] vali mean loss: %f' % \\\n",
    "                   (  epoch, loss_sum / float(total_seen)  )   )\n",
    "        log_string(  '[Epoch %d] vali accuracy: %f'% \\\n",
    "                   (  epoch, total_correct / float(total_seen)  )   )\n",
    "        log_string(  '[Epoch %d] vali avg class acc: %f' % \\\n",
    "                   (  epoch, np.mean( np.array(total_correct_class) / np.array(total_class) )  )   )\n",
    "        \n",
    "        for i_cls in range(NUM_CLASSES):\n",
    "            log_string(  '[Epoch %d] vali indivisual [%d] class recall: %f' % \\\n",
    "                       (  epoch, i_cls, float(total_correct_class[i_cls])/float(total_class[i_cls])))    \n",
    "            log_string(  '[Epoch %d] vali indivisual [%d] class precision: %f' % \\\n",
    "                       (  epoch, i_cls, float(total_correct_class[i_cls])/float(total_detect_class[i_cls])))    \n",
    "            \n",
    "        ## Evaluation using test set    \n",
    "        log_string ( \" Evaluation one (test set) epoch %3d / %3d\" % (epoch+1, MAX_EPOCH) )\n",
    "        sys.stdout.flush()\n",
    "        \n",
    "        is_training = False\n",
    "        total_correct = 0\n",
    "        total_seen = 0\n",
    "        total_seen_class = [0 for _ in range(NUM_CLASSES)]\n",
    "        total_correct_class = [0 for _ in range(NUM_CLASSES)]\n",
    "        total_detect_class = [0 for _ in range(NUM_CLASSES)]\n",
    "        total_detect_true_class = [0 for _ in range(NUM_CLASSES)]\n",
    "        \n",
    "        # Shuffle test files\n",
    "        file_idxs = np.arange(0, data_test.shape[0])\n",
    "        np.random.shuffle(file_idxs)\n",
    "        \n",
    "        current_data = data_test[file_idxs]\n",
    "        current_label = label_test[file_idxs]\n",
    "        \n",
    "        \n",
    "        num_batches = current_data.shape[0] // BATCH_SIZE\n",
    "               \n",
    "        for batch_idx in trange(num_batches):\n",
    "            start_idx = batch_idx * BATCH_SIZE\n",
    "            end_idx = (batch_idx+1) * BATCH_SIZE\n",
    "\n",
    "            feed_dict = {ops['pointclouds_pl']: current_data[start_idx:end_idx, :, :],\n",
    "                         ops['labels_pl']: current_label[start_idx:end_idx],\n",
    "                         ops['is_training_pl']: is_training}\n",
    "            summary, step, loss_val, pred_val = sess.run([ops['merged'], ops['step'],\n",
    "                ops['loss'], ops['pred']], feed_dict=feed_dict)\n",
    "            \n",
    "            test_writer.add_summary(summary, step)\n",
    "            \n",
    "            pred_val = np.argmax(pred_val, 1)\n",
    "            correct = np.sum(pred_val == current_label[start_idx:end_idx])\n",
    "            total_correct += correct\n",
    "            total_seen += BATCH_SIZE\n",
    "            \n",
    "            for i in range(NUM_CLASSES):\n",
    "                total_class[i] = np.sum( np.ones(BATCH_SIZE) * i == current_label[start_idx:end_idx] )\n",
    "                total_detect_class[i] = np.sum( np.ones(BATCH_SIZE) * i == pred_val )\n",
    "                total_correct_class[i] = np.sum( (np.ones(BATCH_SIZE) * i == current_label[start_idx:end_idx]) * \\\n",
    "                                                    (np.ones(BATCH_SIZE) * i == pred_val) )\n",
    "                                \n",
    "        log_string(  '[Epoch %d] test mean loss: %f' % \\\n",
    "                   (  epoch, loss_sum / float(total_seen)  )   )\n",
    "        log_string(  '[Epoch %d] test accuracy: %f'% \\\n",
    "                   (  epoch, total_correct / float(total_seen)  )   )\n",
    "        log_string(  '[Epoch %d] test avg class acc: %f' % \\\n",
    "                   (  epoch, np.mean( np.array(total_correct_class)/np.array(total_class,dtype=np.float) )  )   )\n",
    "        \n",
    "        for i_cls in range(NUM_CLASSES):\n",
    "            log_string(  '[Epoch %d] test indivisual [%d] class recall: %f' % \\\n",
    "                       (  epoch, i_cls, float(total_correct_class[i_cls])/float(total_class[i_cls])))    \n",
    "            log_string(  '[Epoch %d] test indivisual [%d] class precision: %f' % \\\n",
    "                       (  epoch, i_cls, float(total_correct_class[i_cls])/float(total_detect_class[i_cls])))    \n",
    " \n",
    "        # Save the variables to disk.\n",
    "        if ( epoch + 1 ) % 10 == 0:\n",
    "            save_path = saver.save(sess, os.path.join(model_save_path, \"model.ckpt\"))\n",
    "            log_string(\"Model saved in file: %s\" % save_path)\n",
    "                "
   ]
  },
  {
   "cell_type": "code",
   "execution_count": null,
   "metadata": {},
   "outputs": [],
   "source": []
  }
 ],
 "metadata": {
  "kernelspec": {
   "display_name": "Python 2",
   "language": "python",
   "name": "python2"
  },
  "language_info": {
   "codemirror_mode": {
    "name": "ipython",
    "version": 2
   },
   "file_extension": ".py",
   "mimetype": "text/x-python",
   "name": "python",
   "nbconvert_exporter": "python",
   "pygments_lexer": "ipython2",
   "version": "2.7.12"
  }
 },
 "nbformat": 4,
 "nbformat_minor": 2
}
