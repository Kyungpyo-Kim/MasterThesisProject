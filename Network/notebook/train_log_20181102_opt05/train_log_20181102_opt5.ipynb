{
 "cells": [
  {
   "cell_type": "markdown",
   "metadata": {},
   "source": [
    "# Train Log 20181102\n",
    "\n",
    "## Results\n",
    "```\n",
    "\n",
    "```\n",
    "\n",
    "## Trained model\n",
    "* [Download link]()\n",
    "\n",
    "## Evaluation\n",
    "* Incorrect sample\n",
    "![results]()"
   ]
  },
  {
   "cell_type": "code",
   "execution_count": 1,
   "metadata": {},
   "outputs": [],
   "source": [
    "import os, sys\n",
    "import numpy as np\n",
    "import matplotlib.pyplot as plt\n",
    "import time , datetime\n",
    "\n",
    "sys.path.append( os.path.abspath('../../../Dataset/scripts'))\n",
    "from utils import *\n",
    "\n",
    "sys.path.append( os.path.abspath('../../model') )\n",
    "from train import *\n",
    "import model_opt5 as MODEL"
   ]
  },
  {
   "cell_type": "code",
   "execution_count": 2,
   "metadata": {},
   "outputs": [],
   "source": [
    "\"\"\" Path \"\"\"\n",
    "\n",
    "data_train_path_list = []\n",
    "data_test_path_list = []\n",
    "data_vali_path_list = []\n",
    "\n",
    "data_train_path = os.path.abspath('../../../Dataset/dataset/db_aug_v4_20181031_ndb_aug_v2_20181020/train.h5')\n",
    "data_vali_path = os.path.abspath('../../../Dataset/dataset/db_aug_v4_20181031_ndb_aug_v2_20181020/vali.h5')\n",
    "data_train_path_list.append(data_train_path)\n",
    "data_vali_path_list.append(data_vali_path)\n",
    "\n",
    "data_train_path = os.path.abspath('../../../Dataset/dataset/db_aug_v4_v_500_20181031_ndb_aug_v2_20181020/train.h5')\n",
    "data_vali_path = os.path.abspath('../../../Dataset/dataset/db_aug_v4_v_500_20181031_ndb_aug_v2_20181020/vali.h5')\n",
    "data_train_path_list.append(data_train_path)\n",
    "data_vali_path_list.append(data_vali_path)\n",
    "\n",
    "data_train_path = os.path.abspath('../../../Dataset/dataset/db_aug_v4_v_400_20181031_ndb_aug_v2_20181020/train.h5')\n",
    "data_vali_path = os.path.abspath('../../../Dataset/dataset/db_aug_v4_v_400_20181031_ndb_aug_v2_20181020/vali.h5')\n",
    "data_train_path_list.append(data_train_path)\n",
    "data_vali_path_list.append(data_vali_path)\n",
    "\n",
    "data_train_path = os.path.abspath('../../../Dataset/dataset/db_aug_v4_v_300_20181031_ndb_aug_v2_20181020/train.h5')\n",
    "data_vali_path = os.path.abspath('../../../Dataset/dataset/db_aug_v4_v_300_20181031_ndb_aug_v2_20181020/vali.h5')\n",
    "data_train_path_list.append(data_train_path)\n",
    "data_vali_path_list.append(data_vali_path)\n",
    "\n",
    "data_train_path = os.path.abspath('../../../Dataset/dataset/db_aug_v4_v_200_20181031_ndb_aug_v2_20181020/train.h5')\n",
    "data_vali_path = os.path.abspath('../../../Dataset/dataset/db_aug_v4_v_200_20181031_ndb_aug_v2_20181020/vali.h5')\n",
    "data_train_path_list.append(data_train_path)\n",
    "data_vali_path_list.append(data_vali_path)\n",
    "\n",
    "data_train_path = os.path.abspath('../../../Dataset/dataset/db_aug_v4_v_100_20181031_ndb_aug_v2_20181020/train.h5')\n",
    "data_vali_path = os.path.abspath('../../../Dataset/dataset/db_aug_v4_v_100_20181031_ndb_aug_v2_20181020/vali.h5')\n",
    "data_train_path_list.append(data_train_path)\n",
    "data_vali_path_list.append(data_vali_path)\n",
    "\n",
    "log_path = os.path.abspath('./train_log_20181101.txt')\n",
    "\n",
    "model_save_path = os.path.abspath('./model')\n",
    "if not os.path.isdir(model_save_path) : os.mkdir(model_save_path)\n",
    "\n",
    "\"\"\" Parameters \"\"\"\n",
    "GPU_INDEX = 0\n",
    "NUM_POINT = 256\n",
    "NUM_CLASSES = 5\n",
    "\n",
    "BN_INIT_DECAY = 0.5\n",
    "BN_DECAY_DECAY_RATE = 0.5\n",
    "BN_DECAY_DECAY_STEP = float(200000)\n",
    "BN_DECAY_CLIP = 0.99\n",
    "DECAY_STEP = BN_DECAY_DECAY_STEP\n",
    "DECAY_RATE = BN_DECAY_DECAY_RATE\n",
    "\n",
    "BATCH_SIZE = 250\n",
    "\n",
    "MOMENTUM = 0.9\n",
    "\n",
    "BASE_LEARNING_RATE = 0.001\n",
    "\n",
    "OPTIMIZER = 'adam'\n",
    "\n",
    "MAX_EPOCH = 10"
   ]
  },
  {
   "cell_type": "code",
   "execution_count": 3,
   "metadata": {},
   "outputs": [
    {
     "data": {
      "image/png": "[encoded data removed]",
      "text/plain": [
       "<Figure size 1080x360 with 1 Axes>"
      ]
     },
     "metadata": {
      "needs_background": "light"
     },
     "output_type": "display_data"
    }
   ],
   "source": [
    "\"\"\" Load dataset\"\"\"\n",
    "\n",
    "data = []\n",
    "label = []\n",
    "\n",
    "data_train, label_train = load_h5(data_train_path_list[0])\n",
    "data_vali, label_vali = load_h5(data_vali_path_list[0])\n",
    "    \n",
    "for i in range( 1, len(data_train_path_list) ):\n",
    "\n",
    "    d_train, l_train = load_h5(data_train_path_list[i])\n",
    "    d_vali, l_vali = load_h5(data_vali_path_list[i])\n",
    "    \n",
    "    data_train = np.concatenate( (data_train, d_train), axis = 0 )\n",
    "    data_vali = np.concatenate( (data_vali, d_vali), axis = 0 )\n",
    "    \n",
    "    label_train = np.concatenate( (label_train, l_train), axis = 0 )\n",
    "    label_vali = np.concatenate( (label_vali, l_vali), axis = 0 )\n",
    "    \n",
    "\n",
    "data.append(data_train)\n",
    "data.append(data_vali)\n",
    "\n",
    "label.append(label_train)\n",
    "label.append(label_vali)\n",
    "\n",
    "\"\"\" Data statistics \"\"\"\n",
    "\n",
    "label_list = [0,1,2,3,4]\n",
    "\n",
    "y_val = []\n",
    "for i in range( len ( data) ):\n",
    "    for j in range ( len ( label_list ) ):\n",
    "        y_val.append(np.sum(label[i] == label_list[j]))\n",
    "\n",
    "x_name=('unknown-train', 'cars-train', 'trucks-train', 'pedestrian-train', 'bike-train',\n",
    "        'unknown-vali', 'cars-vali', 'trucks-vali', 'pedestrian-vali', 'bike-vali')\n",
    "\n",
    "index = range( len(x_name) )\n",
    "\n",
    "plt.figure(figsize=(15,5))\n",
    "plt.bar(index, y_val, tick_label=x_name, align='center')\n",
    "plt.ylabel('Number of dataset')\n",
    "plt.title('Label distribution')\n",
    "plt.xlim( -1, len(x_name))\n",
    "plt.ylim( 0, np.max(y_val) * 1.1 )\n",
    "plt.show()"
   ]
  },
  {
   "cell_type": "code",
   "execution_count": 4,
   "metadata": {},
   "outputs": [
    {
     "name": "stdout",
     "output_type": "stream",
     "text": [
      "Tensor(\"Placeholder_2:0\", shape=(), dtype=bool, device=/device:GPU:0)\n",
      "INFO:tensorflow:Summary name classify loss is illegal; using classify_loss instead.\n",
      "INFO:tensorflow:Summary name mat loss is illegal; using mat_loss instead.\n",
      "2018-11-02 08:53:19.504458   Train one epoch   1 /  10\n"
     ]
    },
    {
     "name": "stderr",
     "output_type": "stream",
     "text": [
      "100%|██████████| 1259/1259 [04:56<00:00,  4.24it/s]"
     ]
    },
    {
     "name": "stdout",
     "output_type": "stream",
     "text": [
      "2018-11-02 08:58:17.684060  [Epoch 0] mean loss: 0.002170\n",
      "2018-11-02 08:58:17.684453  [Epoch 0] accuracy: 0.823574\n",
      "2018-11-02 08:58:17.685106  [Epoch 0] avg class acc: 0.912352\n",
      "2018-11-02 08:58:17.685289  [Epoch 0] indivisual [0] class recall: 0.900901\n",
      "2018-11-02 08:58:17.685435  [Epoch 0] indivisual [0] class precision: 0.909091\n",
      "2018-11-02 08:58:17.685689  [Epoch 0] indivisual [1] class recall: 0.930556\n",
      "2018-11-02 08:58:17.685808  [Epoch 0] indivisual [1] class precision: 0.957143\n",
      "2018-11-02 08:58:17.686638  [Epoch 0] indivisual [2] class recall: 0.863636\n",
      "2018-11-02 08:58:17.686727  [Epoch 0] indivisual [2] class precision: 0.760000\n",
      "2018-11-02 08:58:17.687188  [Epoch 0] indivisual [3] class recall: 0.933333\n",
      "2018-11-02 08:58:17.687378  [Epoch 0] indivisual [3] class precision: 0.875000\n",
      "2018-11-02 08:58:17.687497  [Epoch 0] indivisual [4] class recall: 0.933333\n",
      "2018-11-02 08:58:17.687697  [Epoch 0] indivisual [4] class precision: 0.965517\n",
      "2018-11-02 08:58:17.688268   Evaluation one (validation set) epoch   1 /  10\n"
     ]
    },
    {
     "name": "stderr",
     "output_type": "stream",
     "text": [
      "\n",
      "100%|██████████| 419/419 [00:20<00:00, 20.31it/s]"
     ]
    },
    {
     "name": "stdout",
     "output_type": "stream",
     "text": [
      "2018-11-02 08:58:38.791235  [Epoch 0] vali mean loss: 0.006519\n",
      "2018-11-02 08:58:38.792311  [Epoch 0] vali accuracy: 0.914033\n",
      "2018-11-02 08:58:38.792811  [Epoch 0] vali avg class acc: 0.200000\n",
      "2018-11-02 08:58:38.793312  [Epoch 0] vali indivisual [0] class recall: 0.974576\n",
      "2018-11-02 08:58:38.793435  [Epoch 0] vali indivisual [0] class precision: 0.912698\n",
      "2018-11-02 08:58:38.793898  [Epoch 0] vali indivisual [1] class recall: 0.944444\n",
      "2018-11-02 08:58:38.794047  [Epoch 0] vali indivisual [1] class precision: 1.000000\n",
      "2018-11-02 08:58:38.794215  [Epoch 0] vali indivisual [2] class recall: 0.833333\n",
      "2018-11-02 08:58:38.794454  [Epoch 0] vali indivisual [2] class precision: 0.892857\n",
      "2018-11-02 08:58:38.794703  [Epoch 0] vali indivisual [3] class recall: 0.750000\n",
      "2018-11-02 08:58:38.798040  [Epoch 0] vali indivisual [3] class precision: 1.000000\n",
      "2018-11-02 08:58:38.798535  [Epoch 0] vali indivisual [4] class recall: 1.000000\n",
      "2018-11-02 08:58:38.798975  [Epoch 0] vali indivisual [4] class precision: 1.000000\n",
      "2018-11-02 08:58:38.799272   Train one epoch   2 /  10\n"
     ]
    },
    {
     "name": "stderr",
     "output_type": "stream",
     "text": [
      "\n",
      "100%|██████████| 1259/1259 [04:55<00:00,  4.26it/s]"
     ]
    },
    {
     "name": "stdout",
     "output_type": "stream",
     "text": [
      "2018-11-02 09:03:35.688859  [Epoch 1] mean loss: 0.000797\n",
      "2018-11-02 09:03:35.689631  [Epoch 1] accuracy: 0.935778\n",
      "2018-11-02 09:03:35.690030  [Epoch 1] avg class acc: 0.960058\n",
      "2018-11-02 09:03:35.690597  [Epoch 1] indivisual [0] class recall: 0.972222\n",
      "2018-11-02 09:03:35.691055  [Epoch 1] indivisual [0] class precision: 0.945946\n",
      "2018-11-02 09:03:35.691335  [Epoch 1] indivisual [1] class recall: 1.000000\n",
      "2018-11-02 09:03:35.691438  [Epoch 1] indivisual [1] class precision: 0.966667\n",
      "2018-11-02 09:03:35.691700  [Epoch 1] indivisual [2] class recall: 0.894737\n",
      "2018-11-02 09:03:35.691828  [Epoch 1] indivisual [2] class precision: 0.971429\n",
      "2018-11-02 09:03:35.691999  [Epoch 1] indivisual [3] class recall: 1.000000\n",
      "2018-11-02 09:03:35.692144  [Epoch 1] indivisual [3] class precision: 1.000000\n",
      "2018-11-02 09:03:35.692404  [Epoch 1] indivisual [4] class recall: 0.933333\n",
      "2018-11-02 09:03:35.692623  [Epoch 1] indivisual [4] class precision: 1.000000\n",
      "2018-11-02 09:03:35.693289   Evaluation one (validation set) epoch   2 /  10\n"
     ]
    },
    {
     "name": "stderr",
     "output_type": "stream",
     "text": [
      "\n",
      "100%|██████████| 419/419 [00:20<00:00, 20.52it/s]\n"
     ]
    },
    {
     "name": "stdout",
     "output_type": "stream",
     "text": [
      "2018-11-02 09:03:56.615837  [Epoch 1] vali mean loss: 0.002396\n",
      "2018-11-02 09:03:56.616227  [Epoch 1] vali accuracy: 0.976878\n",
      "2018-11-02 09:03:56.617186  [Epoch 1] vali avg class acc: 0.200000\n",
      "2018-11-02 09:03:56.617375  [Epoch 1] vali indivisual [0] class recall: 0.959350\n",
      "2018-11-02 09:03:56.617569  [Epoch 1] vali indivisual [0] class precision: 0.975207\n",
      "2018-11-02 09:03:56.617823  [Epoch 1] vali indivisual [1] class recall: 1.000000\n",
      "2018-11-02 09:03:56.618286  [Epoch 1] vali indivisual [1] class precision: 0.983333\n",
      "2018-11-02 09:03:56.618453  [Epoch 1] vali indivisual [2] class recall: 0.969697\n",
      "2018-11-02 09:03:56.618693  [Epoch 1] vali indivisual [2] class precision: 0.969697\n",
      "2018-11-02 09:03:56.619109  [Epoch 1] vali indivisual [3] class recall: 0.909091\n",
      "2018-11-02 09:03:56.619816  [Epoch 1] vali indivisual [3] class precision: 1.000000\n",
      "2018-11-02 09:03:56.620098  [Epoch 1] vali indivisual [4] class recall: 0.958333\n",
      "2018-11-02 09:03:56.620219  [Epoch 1] vali indivisual [4] class precision: 0.884615\n",
      "2018-11-02 09:03:56.620346   Train one epoch   3 /  10\n"
     ]
    },
    {
     "name": "stderr",
     "output_type": "stream",
     "text": [
      "100%|██████████| 1259/1259 [05:00<00:00,  4.19it/s]"
     ]
    },
    {
     "name": "stdout",
     "output_type": "stream",
     "text": [
      "2018-11-02 09:08:58.507772  [Epoch 2] mean loss: 0.000479\n",
      "2018-11-02 09:08:58.508494  [Epoch 2] accuracy: 0.963114\n",
      "2018-11-02 09:08:58.509408  [Epoch 2] avg class acc: 0.971515\n",
      "2018-11-02 09:08:58.509615  [Epoch 2] indivisual [0] class recall: 0.924242\n",
      "2018-11-02 09:08:58.509803  [Epoch 2] indivisual [0] class precision: 0.983871\n",
      "2018-11-02 09:08:58.510017  [Epoch 2] indivisual [1] class recall: 1.000000\n",
      "2018-11-02 09:08:58.510166  [Epoch 2] indivisual [1] class precision: 1.000000\n",
      "2018-11-02 09:08:58.510391  [Epoch 2] indivisual [2] class recall: 1.000000\n",
      "2018-11-02 09:08:58.510513  [Epoch 2] indivisual [2] class precision: 0.766667\n",
      "2018-11-02 09:08:58.510629  [Epoch 2] indivisual [3] class recall: 1.000000\n",
      "2018-11-02 09:08:58.511627  [Epoch 2] indivisual [3] class precision: 0.923077\n",
      "2018-11-02 09:08:58.511902  [Epoch 2] indivisual [4] class recall: 0.933333\n",
      "2018-11-02 09:08:58.512103  [Epoch 2] indivisual [4] class precision: 0.933333\n",
      "2018-11-02 09:08:58.512308   Evaluation one (validation set) epoch   3 /  10\n"
     ]
    },
    {
     "name": "stderr",
     "output_type": "stream",
     "text": [
      "\n",
      "100%|██████████| 419/419 [00:21<00:00, 19.89it/s]"
     ]
    },
    {
     "name": "stdout",
     "output_type": "stream",
     "text": [
      "2018-11-02 09:09:20.024017  [Epoch 2] vali mean loss: 0.001439\n",
      "2018-11-02 09:09:20.024521  [Epoch 2] vali accuracy: 0.980229\n",
      "2018-11-02 09:09:20.025192  [Epoch 2] vali avg class acc: 0.400000\n",
      "2018-11-02 09:09:20.025518  [Epoch 2] vali indivisual [0] class recall: 0.981481\n",
      "2018-11-02 09:09:20.025764  [Epoch 2] vali indivisual [0] class precision: 0.972477\n",
      "2018-11-02 09:09:20.026104  [Epoch 2] vali indivisual [1] class recall: 0.986111\n",
      "2018-11-02 09:09:20.026433  [Epoch 2] vali indivisual [1] class precision: 1.000000\n",
      "2018-11-02 09:09:20.026662  [Epoch 2] vali indivisual [2] class recall: 0.923077\n",
      "2018-11-02 09:09:20.026887  [Epoch 2] vali indivisual [2] class precision: 0.923077\n",
      "2018-11-02 09:09:20.027172  [Epoch 2] vali indivisual [3] class recall: 1.000000\n",
      "2018-11-02 09:09:20.027497  [Epoch 2] vali indivisual [3] class precision: 1.000000\n",
      "2018-11-02 09:09:20.027846  [Epoch 2] vali indivisual [4] class recall: 1.000000\n",
      "2018-11-02 09:09:20.027941  [Epoch 2] vali indivisual [4] class precision: 1.000000\n",
      "2018-11-02 09:09:20.028239   Train one epoch   4 /  10\n"
     ]
    },
    {
     "name": "stderr",
     "output_type": "stream",
     "text": [
      "\n",
      "100%|██████████| 1259/1259 [04:55<00:00,  4.25it/s]"
     ]
    },
    {
     "name": "stdout",
     "output_type": "stream",
     "text": [
      "2018-11-02 09:14:17.151342  [Epoch 3] mean loss: 0.000364\n",
      "2018-11-02 09:14:17.152024  [Epoch 3] accuracy: 0.973061\n",
      "2018-11-02 09:14:17.152386  [Epoch 3] avg class acc: 0.975758\n",
      "2018-11-02 09:14:17.152973  [Epoch 3] indivisual [0] class recall: 1.000000\n",
      "2018-11-02 09:14:17.153179  [Epoch 3] indivisual [0] class precision: 0.964602\n",
      "2018-11-02 09:14:17.153292  [Epoch 3] indivisual [1] class recall: 1.000000\n",
      "2018-11-02 09:14:17.153766  [Epoch 3] indivisual [1] class precision: 1.000000\n",
      "2018-11-02 09:14:17.153902  [Epoch 3] indivisual [2] class recall: 0.878788\n",
      "2018-11-02 09:14:17.154044  [Epoch 3] indivisual [2] class precision: 1.000000\n",
      "2018-11-02 09:14:17.154162  [Epoch 3] indivisual [3] class recall: 1.000000\n",
      "2018-11-02 09:14:17.154765  [Epoch 3] indivisual [3] class precision: 1.000000\n",
      "2018-11-02 09:14:17.154877  [Epoch 3] indivisual [4] class recall: 1.000000\n",
      "2018-11-02 09:14:17.155069  [Epoch 3] indivisual [4] class precision: 1.000000\n",
      "2018-11-02 09:14:17.155352   Evaluation one (validation set) epoch   4 /  10\n"
     ]
    },
    {
     "name": "stderr",
     "output_type": "stream",
     "text": [
      "\n",
      "100%|██████████| 419/419 [00:20<00:00, 20.47it/s]"
     ]
    },
    {
     "name": "stdout",
     "output_type": "stream",
     "text": [
      "2018-11-02 09:14:38.133249  [Epoch 3] vali mean loss: 0.001093\n",
      "2018-11-02 09:14:38.134123  [Epoch 3] vali accuracy: 0.985890\n",
      "2018-11-02 09:14:38.134712  [Epoch 3] vali avg class acc: 0.800000\n",
      "2018-11-02 09:14:38.135176  [Epoch 3] vali indivisual [0] class recall: 0.966667\n",
      "2018-11-02 09:14:38.135602  [Epoch 3] vali indivisual [0] class precision: 1.000000\n",
      "2018-11-02 09:14:38.135717  [Epoch 3] vali indivisual [1] class recall: 1.000000\n",
      "2018-11-02 09:14:38.135959  [Epoch 3] vali indivisual [1] class precision: 0.985714\n",
      "2018-11-02 09:14:38.136271  [Epoch 3] vali indivisual [2] class recall: 1.000000\n",
      "2018-11-02 09:14:38.136404  [Epoch 3] vali indivisual [2] class precision: 1.000000\n",
      "2018-11-02 09:14:38.136626  [Epoch 3] vali indivisual [3] class recall: 1.000000\n",
      "2018-11-02 09:14:38.136803  [Epoch 3] vali indivisual [3] class precision: 0.727273\n",
      "2018-11-02 09:14:38.137357  [Epoch 3] vali indivisual [4] class recall: 1.000000\n",
      "2018-11-02 09:14:38.137574  [Epoch 3] vali indivisual [4] class precision: 1.000000\n",
      "2018-11-02 09:14:38.138017   Train one epoch   5 /  10\n"
     ]
    },
    {
     "name": "stderr",
     "output_type": "stream",
     "text": [
      "\n",
      "100%|██████████| 1259/1259 [04:56<00:00,  4.25it/s]"
     ]
    },
    {
     "name": "stdout",
     "output_type": "stream",
     "text": [
      "2018-11-02 09:19:35.590339  [Epoch 4] mean loss: 0.000326\n",
      "2018-11-02 09:19:35.591085  [Epoch 4] accuracy: 0.976264\n",
      "2018-11-02 09:19:35.591782  [Epoch 4] avg class acc: 0.983304\n",
      "2018-11-02 09:19:35.592016  [Epoch 4] indivisual [0] class recall: 0.960000\n",
      "2018-11-02 09:19:35.592376  [Epoch 4] indivisual [0] class precision: 0.991736\n",
      "2018-11-02 09:19:35.592660  [Epoch 4] indivisual [1] class recall: 1.000000\n",
      "2018-11-02 09:19:35.592794  [Epoch 4] indivisual [1] class precision: 1.000000\n",
      "2018-11-02 09:19:35.593260  [Epoch 4] indivisual [2] class recall: 1.000000\n",
      "2018-11-02 09:19:35.593455  [Epoch 4] indivisual [2] class precision: 0.913043\n",
      "2018-11-02 09:19:35.593738  [Epoch 4] indivisual [3] class recall: 1.000000\n",
      "2018-11-02 09:19:35.593959  [Epoch 4] indivisual [3] class precision: 0.944444\n",
      "2018-11-02 09:19:35.594220  [Epoch 4] indivisual [4] class recall: 0.956522\n",
      "2018-11-02 09:19:35.594540  [Epoch 4] indivisual [4] class precision: 0.916667\n",
      "2018-11-02 09:19:35.594885   Evaluation one (validation set) epoch   5 /  10\n"
     ]
    },
    {
     "name": "stderr",
     "output_type": "stream",
     "text": [
      "\n",
      "100%|██████████| 419/419 [00:20<00:00, 20.63it/s]"
     ]
    },
    {
     "name": "stdout",
     "output_type": "stream",
     "text": [
      "2018-11-02 09:19:56.343785  [Epoch 4] vali mean loss: 0.000980\n",
      "2018-11-02 09:19:56.344338  [Epoch 4] vali accuracy: 0.986807\n",
      "2018-11-02 09:19:56.344973  [Epoch 4] vali avg class acc: 0.200000\n",
      "2018-11-02 09:19:56.345410  [Epoch 4] vali indivisual [0] class recall: 0.983051\n",
      "2018-11-02 09:19:56.345651  [Epoch 4] vali indivisual [0] class precision: 0.974790\n",
      "2018-11-02 09:19:56.346186  [Epoch 4] vali indivisual [1] class recall: 1.000000\n",
      "2018-11-02 09:19:56.346360  [Epoch 4] vali indivisual [1] class precision: 1.000000\n",
      "2018-11-02 09:19:56.346887  [Epoch 4] vali indivisual [2] class recall: 0.966667\n",
      "2018-11-02 09:19:56.347116  [Epoch 4] vali indivisual [2] class precision: 0.966667\n",
      "2018-11-02 09:19:56.347247  [Epoch 4] vali indivisual [3] class recall: 0.947368\n",
      "2018-11-02 09:19:56.347651  [Epoch 4] vali indivisual [3] class precision: 1.000000\n",
      "2018-11-02 09:19:56.348022  [Epoch 4] vali indivisual [4] class recall: 0.954545\n",
      "2018-11-02 09:19:56.348280  [Epoch 4] vali indivisual [4] class precision: 0.954545\n",
      "2018-11-02 09:19:56.348433   Train one epoch   6 /  10\n"
     ]
    },
    {
     "name": "stderr",
     "output_type": "stream",
     "text": [
      "\n",
      "100%|██████████| 1259/1259 [04:56<00:00,  4.25it/s]"
     ]
    },
    {
     "name": "stdout",
     "output_type": "stream",
     "text": [
      "2018-11-02 09:24:53.474580  [Epoch 5] mean loss: 0.000314\n",
      "2018-11-02 09:24:53.475422  [Epoch 5] accuracy: 0.976972\n",
      "2018-11-02 09:24:53.476065  [Epoch 5] avg class acc: 0.963567\n",
      "2018-11-02 09:24:53.476394  [Epoch 5] indivisual [0] class recall: 0.935484\n",
      "2018-11-02 09:24:53.476543  [Epoch 5] indivisual [0] class precision: 0.983051\n",
      "2018-11-02 09:24:53.477092  [Epoch 5] indivisual [1] class recall: 1.000000\n",
      "2018-11-02 09:24:53.477197  [Epoch 5] indivisual [1] class precision: 0.984375\n",
      "2018-11-02 09:24:53.477286  [Epoch 5] indivisual [2] class recall: 1.000000\n",
      "2018-11-02 09:24:53.477441  [Epoch 5] indivisual [2] class precision: 0.960000\n",
      "2018-11-02 09:24:53.477948  [Epoch 5] indivisual [3] class recall: 0.882353\n",
      "2018-11-02 09:24:53.478100  [Epoch 5] indivisual [3] class precision: 0.882353\n",
      "2018-11-02 09:24:53.478330  [Epoch 5] indivisual [4] class recall: 1.000000\n",
      "2018-11-02 09:24:53.478535  [Epoch 5] indivisual [4] class precision: 0.846154\n",
      "2018-11-02 09:24:53.478974   Evaluation one (validation set) epoch   6 /  10\n"
     ]
    },
    {
     "name": "stderr",
     "output_type": "stream",
     "text": [
      "\n",
      "100%|██████████| 419/419 [00:20<00:00, 20.33it/s]"
     ]
    },
    {
     "name": "stdout",
     "output_type": "stream",
     "text": [
      "2018-11-02 09:25:14.535291  [Epoch 5] vali mean loss: 0.000943\n",
      "2018-11-02 09:25:14.535794  [Epoch 5] vali accuracy: 0.986988\n",
      "2018-11-02 09:25:14.536386  [Epoch 5] vali avg class acc: 0.800000\n",
      "2018-11-02 09:25:14.536771  [Epoch 5] vali indivisual [0] class recall: 0.990385\n",
      "2018-11-02 09:25:14.537373  [Epoch 5] vali indivisual [0] class precision: 1.000000\n",
      "2018-11-02 09:25:14.537761  [Epoch 5] vali indivisual [1] class recall: 1.000000\n",
      "2018-11-02 09:25:14.537868  [Epoch 5] vali indivisual [1] class precision: 1.000000\n",
      "2018-11-02 09:25:14.538105  [Epoch 5] vali indivisual [2] class recall: 1.000000\n",
      "2018-11-02 09:25:14.538417  [Epoch 5] vali indivisual [2] class precision: 0.964286\n",
      "2018-11-02 09:25:14.538549  [Epoch 5] vali indivisual [3] class recall: 1.000000\n",
      "2018-11-02 09:25:14.539112  [Epoch 5] vali indivisual [3] class precision: 1.000000\n",
      "2018-11-02 09:25:14.539382  [Epoch 5] vali indivisual [4] class recall: 1.000000\n",
      "2018-11-02 09:25:14.539480  [Epoch 5] vali indivisual [4] class precision: 1.000000\n",
      "2018-11-02 09:25:14.539744   Train one epoch   7 /  10\n"
     ]
    },
    {
     "name": "stderr",
     "output_type": "stream",
     "text": [
      "\n",
      "100%|██████████| 1259/1259 [04:56<00:00,  4.25it/s]"
     ]
    },
    {
     "name": "stdout",
     "output_type": "stream",
     "text": [
      "2018-11-02 09:30:11.857111  [Epoch 6] mean loss: 0.000308\n",
      "2018-11-02 09:30:11.857433  [Epoch 6] accuracy: 0.977503\n",
      "2018-11-02 09:30:11.858128  [Epoch 6] avg class acc: 0.981885\n",
      "2018-11-02 09:30:11.858319  [Epoch 6] indivisual [0] class recall: 0.972477\n",
      "2018-11-02 09:30:11.858554  [Epoch 6] indivisual [0] class precision: 0.981481\n",
      "2018-11-02 09:30:11.859208  [Epoch 6] indivisual [1] class recall: 1.000000\n",
      "2018-11-02 09:30:11.859329  [Epoch 6] indivisual [1] class precision: 0.971014\n",
      "2018-11-02 09:30:11.859483  [Epoch 6] indivisual [2] class recall: 0.965517\n",
      "2018-11-02 09:30:11.859715  [Epoch 6] indivisual [2] class precision: 1.000000\n",
      "2018-11-02 09:30:11.859953  [Epoch 6] indivisual [3] class recall: 1.000000\n",
      "2018-11-02 09:30:11.860363  [Epoch 6] indivisual [3] class precision: 0.909091\n",
      "2018-11-02 09:30:11.860620  [Epoch 6] indivisual [4] class recall: 0.971429\n",
      "2018-11-02 09:30:11.860772  [Epoch 6] indivisual [4] class precision: 1.000000\n",
      "2018-11-02 09:30:11.860969   Evaluation one (validation set) epoch   7 /  10\n"
     ]
    },
    {
     "name": "stderr",
     "output_type": "stream",
     "text": [
      "\n",
      "100%|██████████| 419/419 [00:20<00:00, 20.74it/s]"
     ]
    },
    {
     "name": "stdout",
     "output_type": "stream",
     "text": [
      "2018-11-02 09:30:32.521251  [Epoch 6] vali mean loss: 0.000924\n",
      "2018-11-02 09:30:32.521981  [Epoch 6] vali accuracy: 0.988124\n",
      "2018-11-02 09:30:32.522344  [Epoch 6] vali avg class acc: 0.800000\n",
      "2018-11-02 09:30:32.522874  [Epoch 6] vali indivisual [0] class recall: 0.980769\n",
      "2018-11-02 09:30:32.523005  [Epoch 6] vali indivisual [0] class precision: 1.000000\n",
      "2018-11-02 09:30:32.523337  [Epoch 6] vali indivisual [1] class recall: 1.000000\n",
      "2018-11-02 09:30:32.523700  [Epoch 6] vali indivisual [1] class precision: 1.000000\n",
      "2018-11-02 09:30:32.524064  [Epoch 6] vali indivisual [2] class recall: 1.000000\n",
      "2018-11-02 09:30:32.524166  [Epoch 6] vali indivisual [2] class precision: 0.972222\n",
      "2018-11-02 09:30:32.524260  [Epoch 6] vali indivisual [3] class recall: 1.000000\n",
      "2018-11-02 09:30:32.524418  [Epoch 6] vali indivisual [3] class precision: 0.875000\n",
      "2018-11-02 09:30:32.524989  [Epoch 6] vali indivisual [4] class recall: 1.000000\n",
      "2018-11-02 09:30:32.525262  [Epoch 6] vali indivisual [4] class precision: 1.000000\n",
      "2018-11-02 09:30:32.525527   Train one epoch   8 /  10\n"
     ]
    },
    {
     "name": "stderr",
     "output_type": "stream",
     "text": [
      "\n",
      "100%|██████████| 1259/1259 [04:56<00:00,  4.25it/s]"
     ]
    },
    {
     "name": "stdout",
     "output_type": "stream",
     "text": [
      "2018-11-02 09:35:29.684922  [Epoch 7] mean loss: 0.000296\n",
      "2018-11-02 09:35:29.685400  [Epoch 7] accuracy: 0.978434\n",
      "2018-11-02 09:35:29.685794  [Epoch 7] avg class acc: 0.989770\n",
      "2018-11-02 09:35:29.686000  [Epoch 7] indivisual [0] class recall: 0.983333\n",
      "2018-11-02 09:35:29.686356  [Epoch 7] indivisual [0] class precision: 0.991597\n",
      "2018-11-02 09:35:29.687061  [Epoch 7] indivisual [1] class recall: 1.000000\n",
      "2018-11-02 09:35:29.687360  [Epoch 7] indivisual [1] class precision: 1.000000\n",
      "2018-11-02 09:35:29.687572  [Epoch 7] indivisual [2] class recall: 1.000000\n",
      "2018-11-02 09:35:29.687726  [Epoch 7] indivisual [2] class precision: 0.923077\n",
      "2018-11-02 09:35:29.687986  [Epoch 7] indivisual [3] class recall: 1.000000\n",
      "2018-11-02 09:35:29.688107  [Epoch 7] indivisual [3] class precision: 1.000000\n",
      "2018-11-02 09:35:29.688792  [Epoch 7] indivisual [4] class recall: 0.965517\n",
      "2018-11-02 09:35:29.689154  [Epoch 7] indivisual [4] class precision: 1.000000\n",
      "2018-11-02 09:35:29.689256   Evaluation one (validation set) epoch   8 /  10\n"
     ]
    },
    {
     "name": "stderr",
     "output_type": "stream",
     "text": [
      "\n",
      "100%|██████████| 419/419 [00:20<00:00, 20.75it/s]"
     ]
    },
    {
     "name": "stdout",
     "output_type": "stream",
     "text": [
      "2018-11-02 09:35:50.349000  [Epoch 7] vali mean loss: 0.000889\n",
      "2018-11-02 09:35:50.350098  [Epoch 7] vali accuracy: 0.988124\n",
      "2018-11-02 09:35:50.350466  [Epoch 7] vali avg class acc: 0.800000\n",
      "2018-11-02 09:35:50.350692  [Epoch 7] vali indivisual [0] class recall: 0.974359\n",
      "2018-11-02 09:35:50.351280  [Epoch 7] vali indivisual [0] class precision: 1.000000\n",
      "2018-11-02 09:35:50.351684  [Epoch 7] vali indivisual [1] class recall: 1.000000\n",
      "2018-11-02 09:35:50.351797  [Epoch 7] vali indivisual [1] class precision: 1.000000\n",
      "2018-11-02 09:35:50.352223  [Epoch 7] vali indivisual [2] class recall: 1.000000\n",
      "2018-11-02 09:35:50.352344  [Epoch 7] vali indivisual [2] class precision: 0.925926\n",
      "2018-11-02 09:35:50.352542  [Epoch 7] vali indivisual [3] class recall: 1.000000\n",
      "2018-11-02 09:35:50.352687  [Epoch 7] vali indivisual [3] class precision: 1.000000\n",
      "2018-11-02 09:35:50.352859  [Epoch 7] vali indivisual [4] class recall: 1.000000\n",
      "2018-11-02 09:35:50.353046  [Epoch 7] vali indivisual [4] class precision: 0.972222\n",
      "2018-11-02 09:35:50.353722   Train one epoch   9 /  10\n"
     ]
    },
    {
     "name": "stderr",
     "output_type": "stream",
     "text": [
      "\n",
      "100%|██████████| 1259/1259 [04:55<00:00,  4.25it/s]"
     ]
    },
    {
     "name": "stdout",
     "output_type": "stream",
     "text": [
      "2018-11-02 09:40:47.533601  [Epoch 8] mean loss: 0.000288\n",
      "2018-11-02 09:40:47.534498  [Epoch 8] accuracy: 0.978993\n",
      "2018-11-02 09:40:47.535319  [Epoch 8] avg class acc: 0.972834\n",
      "2018-11-02 09:40:47.535583  [Epoch 8] indivisual [0] class recall: 0.981818\n",
      "2018-11-02 09:40:47.535890  [Epoch 8] indivisual [0] class precision: 0.964286\n",
      "2018-11-02 09:40:47.536313  [Epoch 8] indivisual [1] class recall: 1.000000\n",
      "2018-11-02 09:40:47.536420  [Epoch 8] indivisual [1] class precision: 1.000000\n",
      "2018-11-02 09:40:47.536511  [Epoch 8] indivisual [2] class recall: 1.000000\n",
      "2018-11-02 09:40:47.536667  [Epoch 8] indivisual [2] class precision: 0.961538\n",
      "2018-11-02 09:40:47.537247  [Epoch 8] indivisual [3] class recall: 1.000000\n",
      "2018-11-02 09:40:47.537479  [Epoch 8] indivisual [3] class precision: 0.937500\n",
      "2018-11-02 09:40:47.537649  [Epoch 8] indivisual [4] class recall: 0.882353\n",
      "2018-11-02 09:40:47.537897  [Epoch 8] indivisual [4] class precision: 1.000000\n",
      "2018-11-02 09:40:47.538236   Evaluation one (validation set) epoch   9 /  10\n"
     ]
    },
    {
     "name": "stderr",
     "output_type": "stream",
     "text": [
      "\n",
      "100%|██████████| 419/419 [00:20<00:00, 20.73it/s]"
     ]
    },
    {
     "name": "stdout",
     "output_type": "stream",
     "text": [
      "2018-11-02 09:41:08.190419  [Epoch 8] vali mean loss: 0.000864\n",
      "2018-11-02 09:41:08.191337  [Epoch 8] vali accuracy: 0.989604\n",
      "2018-11-02 09:41:08.191769  [Epoch 8] vali avg class acc: 0.600000\n",
      "2018-11-02 09:41:08.192315  [Epoch 8] vali indivisual [0] class recall: 0.980952\n",
      "2018-11-02 09:41:08.192490  [Epoch 8] vali indivisual [0] class precision: 0.990385\n",
      "2018-11-02 09:41:08.192750  [Epoch 8] vali indivisual [1] class recall: 1.000000\n",
      "2018-11-02 09:41:08.193021  [Epoch 8] vali indivisual [1] class precision: 1.000000\n",
      "2018-11-02 09:41:08.193290  [Epoch 8] vali indivisual [2] class recall: 0.960000\n",
      "2018-11-02 09:41:08.193704  [Epoch 8] vali indivisual [2] class precision: 0.923077\n",
      "2018-11-02 09:41:08.193803  [Epoch 8] vali indivisual [3] class recall: 1.000000\n",
      "2018-11-02 09:41:08.193893  [Epoch 8] vali indivisual [3] class precision: 1.000000\n",
      "2018-11-02 09:41:08.194312  [Epoch 8] vali indivisual [4] class recall: 1.000000\n",
      "2018-11-02 09:41:08.194510  [Epoch 8] vali indivisual [4] class precision: 1.000000\n",
      "2018-11-02 09:41:08.194662   Train one epoch  10 /  10\n"
     ]
    },
    {
     "name": "stderr",
     "output_type": "stream",
     "text": [
      "\n",
      "100%|██████████| 1259/1259 [04:56<00:00,  4.25it/s]"
     ]
    },
    {
     "name": "stdout",
     "output_type": "stream",
     "text": [
      "2018-11-02 09:46:05.354508  [Epoch 9] mean loss: 0.000282\n",
      "2018-11-02 09:46:05.355109  [Epoch 9] accuracy: 0.979609\n",
      "2018-11-02 09:46:05.356040  [Epoch 9] avg class acc: 0.979644\n",
      "2018-11-02 09:46:05.356191  [Epoch 9] indivisual [0] class recall: 0.966387\n",
      "2018-11-02 09:46:05.356442  [Epoch 9] indivisual [0] class precision: 0.974576\n",
      "2018-11-02 09:46:05.356735  [Epoch 9] indivisual [1] class recall: 0.971831\n",
      "2018-11-02 09:46:05.357078  [Epoch 9] indivisual [1] class precision: 0.985714\n",
      "2018-11-02 09:46:05.357345  [Epoch 9] indivisual [2] class recall: 0.960000\n",
      "2018-11-02 09:46:05.357689  [Epoch 9] indivisual [2] class precision: 0.960000\n",
      "2018-11-02 09:46:05.357959  [Epoch 9] indivisual [3] class recall: 1.000000\n",
      "2018-11-02 09:46:05.358365  [Epoch 9] indivisual [3] class precision: 1.000000\n",
      "2018-11-02 09:46:05.358466  [Epoch 9] indivisual [4] class recall: 1.000000\n",
      "2018-11-02 09:46:05.358720  [Epoch 9] indivisual [4] class precision: 0.916667\n",
      "2018-11-02 09:46:05.358976   Evaluation one (validation set) epoch  10 /  10\n"
     ]
    },
    {
     "name": "stderr",
     "output_type": "stream",
     "text": [
      "\n",
      "100%|██████████| 419/419 [00:20<00:00, 20.68it/s]\n"
     ]
    },
    {
     "name": "stdout",
     "output_type": "stream",
     "text": [
      "2018-11-02 09:46:26.141176  [Epoch 9] vali mean loss: 0.000848\n",
      "2018-11-02 09:46:26.141648  [Epoch 9] vali accuracy: 0.989251\n",
      "2018-11-02 09:46:26.142548  [Epoch 9] vali avg class acc: 0.800000\n",
      "2018-11-02 09:46:26.142776  [Epoch 9] vali indivisual [0] class recall: 0.968000\n",
      "2018-11-02 09:46:26.142952  [Epoch 9] vali indivisual [0] class precision: 1.000000\n",
      "2018-11-02 09:46:26.143120  [Epoch 9] vali indivisual [1] class recall: 1.000000\n",
      "2018-11-02 09:46:26.143727  [Epoch 9] vali indivisual [1] class precision: 1.000000\n",
      "2018-11-02 09:46:26.144079  [Epoch 9] vali indivisual [2] class recall: 1.000000\n",
      "2018-11-02 09:46:26.144449  [Epoch 9] vali indivisual [2] class precision: 0.916667\n",
      "2018-11-02 09:46:26.144547  [Epoch 9] vali indivisual [3] class recall: 1.000000\n",
      "2018-11-02 09:46:26.144822  [Epoch 9] vali indivisual [3] class precision: 1.000000\n",
      "2018-11-02 09:46:26.145088  [Epoch 9] vali indivisual [4] class recall: 1.000000\n",
      "2018-11-02 09:46:26.145503  [Epoch 9] vali indivisual [4] class precision: 0.920000\n",
      "2018-11-02 09:46:26.627327  Model saved in file: /home/gozilla/kyungpyo/git/MasterThesisProject/Network/notebook/train_log_20181102_opt05/model/model.ckpt\n"
     ]
    }
   ],
   "source": [
    "\"\"\" log file \"\"\"\n",
    "LOG_FOUT = open(log_path, 'w')\n",
    "\n",
    "def log_string(out_str):\n",
    "    out_str = str( datetime.datetime.fromtimestamp( time.time() ) ) + \"  \" + out_str\n",
    "    LOG_FOUT.write(out_str+'\\n')\n",
    "    LOG_FOUT.flush()\n",
    "    print(out_str)\n",
    "    \n",
    "    \n",
    "def get_learning_rate(batch):\n",
    "    learning_rate = tf.train.exponential_decay(\n",
    "                        BASE_LEARNING_RATE,  # Base learning rate.\n",
    "                        batch * BATCH_SIZE,  # Current index into the dataset.\n",
    "                        DECAY_STEP,          # Decay step.\n",
    "                        DECAY_RATE,          # Decay rate.\n",
    "                        staircase=True)\n",
    "    learning_rate = tf.maximum(learning_rate, 0.00001) # CLIP THE LEARNING RATE!\n",
    "    return learning_rate        \n",
    "\n",
    "def get_bn_decay(batch):\n",
    "    bn_momentum = tf.train.exponential_decay(\n",
    "                      BN_INIT_DECAY,\n",
    "                      batch * BATCH_SIZE,\n",
    "                      BN_DECAY_DECAY_STEP,\n",
    "                      BN_DECAY_DECAY_RATE,\n",
    "                      staircase=True)\n",
    "    bn_decay = tf.minimum(BN_DECAY_CLIP, 1 - bn_momentum)\n",
    "    return bn_decay\n",
    "\n",
    "\"\"\" load traing model \"\"\"\n",
    "with tf.Graph().as_default():\n",
    "    with tf.device('/gpu:'+str(GPU_INDEX)):\n",
    "        pointclouds_pl, labels_pl = MODEL.placeholder_inputs(BATCH_SIZE, NUM_POINT)\n",
    "        is_training_pl = tf.placeholder(tf.bool, shape=())\n",
    "        print(is_training_pl)\n",
    "\n",
    "        # Note the global_step=batch parameter to minimize. \n",
    "        # That tells the optimizer to helpfully increment the 'batch' parameter for you every time it trains.\n",
    "        batch = tf.Variable(0)\n",
    "        bn_decay = get_bn_decay(batch)\n",
    "        tf.summary.scalar('bn_decay', bn_decay)\n",
    "\n",
    "        # Get model and loss \n",
    "        pred, end_points = MODEL.get_model(pointclouds_pl, is_training_pl, bn_decay=bn_decay)\n",
    "        loss = MODEL.get_loss(pred, labels_pl, end_points)\n",
    "        tf.summary.scalar('loss', loss)\n",
    "\n",
    "        correct = tf.equal(tf.argmax(pred, 1), tf.to_int64(labels_pl))\n",
    "        accuracy = tf.reduce_sum(tf.cast(correct, tf.float32)) / float(BATCH_SIZE)\n",
    "        tf.summary.scalar('accuracy', accuracy)\n",
    "\n",
    "        # Get training operator\n",
    "        learning_rate = get_learning_rate(batch)\n",
    "        tf.summary.scalar('learning_rate', learning_rate)\n",
    "        if OPTIMIZER == 'momentum':\n",
    "            optimizer = tf.train.MomentumOptimizer(learning_rate, momentum=MOMENTUM)\n",
    "        elif OPTIMIZER == 'adam':\n",
    "            optimizer = tf.train.AdamOptimizer(learning_rate)\n",
    "        train_op = optimizer.minimize(loss, global_step=batch)\n",
    "\n",
    "        # Add ops to save and restore all the variables.\n",
    "        saver = tf.train.Saver()\n",
    "\n",
    "    # Create a session\n",
    "    config = tf.ConfigProto()\n",
    "    config.gpu_options.allow_growth = True\n",
    "    config.allow_soft_placement = True\n",
    "    config.log_device_placement = False\n",
    "    sess = tf.Session(config=config)\n",
    "\n",
    "    # Add summary writers\n",
    "    #merged = tf.merge_all_summaries()\n",
    "    merged = tf.summary.merge_all()\n",
    "\n",
    "    train_writer_path = os.path.abspath('./train')\n",
    "    if os.path.isdir(train_writer_path): os.system('rm -r {}'.format(train_writer_path))\n",
    "    os.mkdir(train_writer_path)\n",
    "        \n",
    "    test_writer_path = os.path.abspath('./test')\n",
    "    if os.path.isdir(test_writer_path): os.system('rm -r {}'.format(test_writer_path))\n",
    "    os.mkdir(test_writer_path)\n",
    "    \n",
    "    \n",
    "    train_writer = tf.summary.FileWriter(train_writer_path, sess.graph)\n",
    "    test_writer = tf.summary.FileWriter(test_writer_path)\n",
    "    \n",
    "    \n",
    "    # Init variables\n",
    "    init = tf.global_variables_initializer()\n",
    "    # To fix the bug introduced in TF 0.12.1 as in\n",
    "    # http://stackoverflow.com/questions/41543774/invalidargumenterror-for-tensor-bool-tensorflow-0-12-1\n",
    "    #sess.run(init)\n",
    "    sess.run(init, {is_training_pl: True})\n",
    "\n",
    "    ops = {'pointclouds_pl': pointclouds_pl,\n",
    "           'labels_pl': labels_pl,\n",
    "           'is_training_pl': is_training_pl,\n",
    "           'pred': pred,\n",
    "           'loss': loss,\n",
    "           'train_op': train_op,\n",
    "           'merged': merged,\n",
    "           'step': batch}\n",
    "    \n",
    "    data_train = data[0]\n",
    "    label_train = label[0]\n",
    "        \n",
    "    data_vali = data[1]\n",
    "    label_vali = label[1]\n",
    "            \n",
    "    for epoch in range(MAX_EPOCH):\n",
    "        \n",
    "        ## Training\n",
    "        log_string ( \" Train one epoch %3d / %3d\" % (epoch+1, MAX_EPOCH) )\n",
    "        sys.stdout.flush()\n",
    "        \n",
    "        is_training = True\n",
    "        \n",
    "        # Shuffle train files\n",
    "        train_file_idxs = np.arange(0, data_train.shape[0])\n",
    "        np.random.shuffle(train_file_idxs)\n",
    "        \n",
    "        current_data = data_train[train_file_idxs] \n",
    "        current_label = label_train[train_file_idxs]\n",
    "              \n",
    "        ## Evaluation metric\n",
    "        total_correct = 0\n",
    "        total_seen = 0\n",
    "        loss_sum = 0\n",
    "        \n",
    "        total_class = [0 for _ in range(NUM_CLASSES)]\n",
    "        total_detect_class = [0 for _ in range(NUM_CLASSES)]\n",
    "        total_correct_class = [0 for _ in range(NUM_CLASSES)]\n",
    "            \n",
    "        num_batches = current_data.shape[0] // BATCH_SIZE\n",
    "               \n",
    "        for batch_idx in trange(num_batches):\n",
    "            \n",
    "            start_idx = batch_idx * BATCH_SIZE\n",
    "            end_idx = (batch_idx+1) * BATCH_SIZE           \n",
    "\n",
    "            # Augment batched point clouds by rotation and jittering\n",
    "            rotated_data = provider.rotate_point_cloud(current_data[start_idx:end_idx, :, :])\n",
    "            jittered_data = provider.jitter_point_cloud(rotated_data)\n",
    "            \n",
    "            feed_dict = {ops['pointclouds_pl']: jittered_data,\n",
    "                         ops['labels_pl']: current_label[start_idx:end_idx],\n",
    "                         ops['is_training_pl']: is_training,}\n",
    "            \n",
    "            summary, step, _, loss_val, pred_val = sess.run([ops['merged'], ops['step'],\n",
    "                ops['train_op'], ops['loss'], ops['pred']], feed_dict=feed_dict)\n",
    "            \n",
    "            train_writer.add_summary(summary, step)\n",
    "            \n",
    "            pred_val = np.argmax(pred_val, 1)\n",
    "            correct = np.sum(pred_val == current_label[start_idx:end_idx])\n",
    "            total_correct += correct\n",
    "            total_seen += BATCH_SIZE\n",
    "            loss_sum += loss_val\n",
    "            \n",
    "            for i in range(NUM_CLASSES):\n",
    "                total_class[i] = np.sum( np.ones(BATCH_SIZE) * i == current_label[start_idx:end_idx] )\n",
    "                total_detect_class[i] = np.sum( np.ones(BATCH_SIZE) * i == pred_val )\n",
    "                total_correct_class[i] = np.sum( (np.ones(BATCH_SIZE) * i == current_label[start_idx:end_idx]) * \\\n",
    "                                                    (np.ones(BATCH_SIZE) * i == pred_val) )\n",
    "                                \n",
    "        log_string(  '[Epoch %d] mean loss: %f' % \\\n",
    "                   (  epoch, loss_sum / float(total_seen)  )   )\n",
    "        log_string(  '[Epoch %d] accuracy: %f'% \\\n",
    "                   (  epoch, total_correct / float(total_seen)  )   )\n",
    "        log_string(  '[Epoch %d] avg class acc: %f' % \\\n",
    "                   (  epoch, np.mean( np.array(total_correct_class)/np.array(total_class,dtype=np.float) )  )   )\n",
    "        \n",
    "        for i_cls in range(NUM_CLASSES):\n",
    "            log_string(  '[Epoch %d] indivisual [%d] class recall: %f' % \\\n",
    "                       (  epoch, i_cls, float(total_correct_class[i_cls])/float(total_class[i_cls])))    \n",
    "            log_string(  '[Epoch %d] indivisual [%d] class precision: %f' % \\\n",
    "                       (  epoch, i_cls, float(total_correct_class[i_cls])/float(total_detect_class[i_cls])))    \n",
    "\n",
    "\n",
    "        ## Evaluation using validation set    \n",
    "        log_string ( \" Evaluation one (validation set) epoch %3d / %3d\" % (epoch+1, MAX_EPOCH) )\n",
    "        sys.stdout.flush()\n",
    "        \n",
    "        is_training = False\n",
    "        total_correct = 0\n",
    "        total_seen = 0\n",
    "        total_seen_class = [0 for _ in range(NUM_CLASSES)]\n",
    "        total_correct_class = [0 for _ in range(NUM_CLASSES)]\n",
    "        total_detect_class = [0 for _ in range(NUM_CLASSES)]\n",
    "        total_detect_true_class = [0 for _ in range(NUM_CLASSES)]\n",
    "        \n",
    "        # Shuffle validation files\n",
    "        file_idxs = np.arange(0, data_vali.shape[0])\n",
    "        np.random.shuffle(file_idxs)\n",
    "        \n",
    "        current_data = data_vali[file_idxs]\n",
    "        current_label = label_vali[file_idxs]\n",
    "        \n",
    "        num_batches = current_data.shape[0] // BATCH_SIZE\n",
    "               \n",
    "        for batch_idx in trange(num_batches):\n",
    "            start_idx = batch_idx * BATCH_SIZE\n",
    "            end_idx = (batch_idx+1) * BATCH_SIZE\n",
    "\n",
    "            feed_dict = {ops['pointclouds_pl']: current_data[start_idx:end_idx, :, :],\n",
    "                         ops['labels_pl']: current_label[start_idx:end_idx],\n",
    "                         ops['is_training_pl']: is_training}\n",
    "            summary, step, loss_val, pred_val = sess.run([ops['merged'], ops['step'],\n",
    "                ops['loss'], ops['pred']], feed_dict=feed_dict)\n",
    "            \n",
    "            # test_writer.add_summary(summary, step)\n",
    "            \n",
    "            pred_val = np.argmax(pred_val, 1)\n",
    "            correct = np.sum(pred_val == current_label[start_idx:end_idx])\n",
    "            total_correct += correct\n",
    "            total_seen += BATCH_SIZE\n",
    "            \n",
    "            for i in range(NUM_CLASSES):\n",
    "                total_class[i] = np.sum( np.ones(BATCH_SIZE) * i == current_label[start_idx:end_idx] )\n",
    "                total_detect_class[i] = np.sum( np.ones(BATCH_SIZE) * i == pred_val )\n",
    "                total_correct_class[i] = np.sum( (np.ones(BATCH_SIZE) * i == current_label[start_idx:end_idx]) * \\\n",
    "                                                    (np.ones(BATCH_SIZE) * i == pred_val) )\n",
    "                                \n",
    "        log_string(  '[Epoch %d] vali mean loss: %f' % \\\n",
    "                   (  epoch, loss_sum / float(total_seen)  )   )\n",
    "        log_string(  '[Epoch %d] vali accuracy: %f'% \\\n",
    "                   (  epoch, total_correct / float(total_seen)  )   )\n",
    "        log_string(  '[Epoch %d] vali avg class acc: %f' % \\\n",
    "                   (  epoch, np.mean( np.array(total_correct_class) / np.array(total_class) )  )   )\n",
    "        \n",
    "        for i_cls in range(NUM_CLASSES):\n",
    "            log_string(  '[Epoch %d] vali indivisual [%d] class recall: %f' % \\\n",
    "                       (  epoch, i_cls, float(total_correct_class[i_cls])/float(total_class[i_cls])))    \n",
    "            log_string(  '[Epoch %d] vali indivisual [%d] class precision: %f' % \\\n",
    "                       (  epoch, i_cls, float(total_correct_class[i_cls])/float(total_detect_class[i_cls])))    \n",
    "            \n",
    "        # Save the variables to disk.\n",
    "        if ( epoch + 1 ) % 10 == 0:\n",
    "            save_path = saver.save(sess, os.path.join(model_save_path, \"model.ckpt\"))\n",
    "            log_string(\"Model saved in file: %s\" % save_path)\n",
    "                "
   ]
  },
  {
   "cell_type": "code",
   "execution_count": null,
   "metadata": {},
   "outputs": [],
   "source": []
  }
 ],
 "metadata": {
  "kernelspec": {
   "display_name": "Python 2",
   "language": "python",
   "name": "python2"
  },
  "language_info": {
   "codemirror_mode": {
    "name": "ipython",
    "version": 2
   },
   "file_extension": ".py",
   "mimetype": "text/x-python",
   "name": "python",
   "nbconvert_exporter": "python",
   "pygments_lexer": "ipython2",
   "version": "2.7.12"
  }
 },
 "nbformat": 4,
 "nbformat_minor": 2
}
