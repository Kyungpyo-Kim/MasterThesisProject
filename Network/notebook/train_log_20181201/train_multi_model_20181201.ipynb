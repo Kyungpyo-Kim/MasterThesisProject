{
 "cells": [
  {
   "cell_type": "markdown",
   "metadata": {},
   "source": [
    "# Train Log 20181201\n",
    "\n",
    "* Add multi-model training structure\n",
    "\n",
    "## Results\n",
    "```\n",
    "\n",
    "```\n",
    "\n",
    "## Trained model\n",
    "* [Download link]()\n",
    "\n",
    "## Evaluation\n",
    "* Incorrect sample\n",
    "![results]()"
   ]
  },
  {
   "cell_type": "code",
   "execution_count": 1,
   "metadata": {},
   "outputs": [],
   "source": [
    "import os, sys\n",
    "import numpy as np\n",
    "import matplotlib.pyplot as plt\n",
    "import time , datetime\n",
    "\n",
    "sys.path.append( os.path.abspath('../../../Dataset/scripts'))\n",
    "from utils import *\n",
    "\n",
    "sys.path.append( os.path.abspath('../../model') )\n",
    "from train import *\n",
    "\n",
    "import multiprocessing\n",
    "\n",
    "import tensorflow as tf\n"
   ]
  },
  {
   "cell_type": "code",
   "execution_count": 2,
   "metadata": {},
   "outputs": [],
   "source": [
    "\"\"\" Path \"\"\"\n",
    "data_train_path = os.path.abspath('../../../Dataset_ver2/dataset/db_v8_aug_20181129_ndb_v2_20181020/train.h5')\n",
    "data_vali_path = os.path.abspath('../../../Dataset_ver2/dataset/db_v8_aug_20181129_ndb_v2_20181020/vali.h5')\n"
   ]
  },
  {
   "cell_type": "code",
   "execution_count": 3,
   "metadata": {},
   "outputs": [
    {
     "data": {
      "image/png": "[encoded data removed]",
      "text/plain": [
       "<Figure size 1080x360 with 1 Axes>"
      ]
     },
     "metadata": {
      "needs_background": "light"
     },
     "output_type": "display_data"
    }
   ],
   "source": [
    "\"\"\" Load dataset\"\"\"\n",
    "\n",
    "data = []\n",
    "label = []\n",
    "\n",
    "data_train, label_train = load_h5(data_train_path)\n",
    "data_vali, label_vali = load_h5(data_vali_path)\n",
    "\n",
    "data.append(data_train)\n",
    "data.append(data_vali)\n",
    "label.append(label_train)\n",
    "label.append(label_vali)\n",
    "\n",
    "\"\"\" Data statistics \"\"\"\n",
    "\n",
    "label_list = [0,1,2,3,4]\n",
    "\n",
    "y_val = []\n",
    "for i in range( len ( data) ):\n",
    "    for j in range ( len ( label_list ) ):\n",
    "        y_val.append(np.sum(label[i] == label_list[j]))\n",
    "\n",
    "x_name=('unknown-train', 'cars-train', 'trucks-train', 'pedestrian-train', 'bike-train',\n",
    "        'unknown-vali', 'cars-vali', 'trucks-vali', 'pedestrian-vali', 'bike-vali')\n",
    "\n",
    "index = range( len(x_name) )\n",
    "\n",
    "plt.figure(figsize=(15,5))\n",
    "plt.bar(index, y_val, tick_label=x_name, align='center')\n",
    "plt.ylabel('Number of dataset')\n",
    "plt.title('Label distribution')\n",
    "plt.xlim( -1, len(x_name))\n",
    "plt.ylim( 0, np.max(y_val) * 1.1 )\n",
    "plt.show()"
   ]
  },
  {
   "cell_type": "code",
   "execution_count": 4,
   "metadata": {
    "scrolled": false
   },
   "outputs": [
    {
     "name": "stdout",
     "output_type": "stream",
     "text": [
      "Tensor(\"Placeholder_2:0\", shape=(), dtype=bool, device=/device:GPU:0)\n",
      "INFO:tensorflow:Summary name classify loss is illegal; using classify_loss instead.\n",
      "INFO:tensorflow:Summary name mat loss is illegal; using mat_loss instead.\n",
      "2018-12-01 14:02:18.560566   Train one epoch   1 /  10\n"
     ]
    },
    {
     "name": "stderr",
     "output_type": "stream",
     "text": [
      "100%|██████████| 2124/2124 [12:38<00:00,  2.80it/s]\n"
     ]
    },
    {
     "name": "stdout",
     "output_type": "stream",
     "text": [
      "2018-12-01 14:14:58.678178  [Epoch 0] mean loss: 0.012596\n",
      "2018-12-01 14:14:58.680110  [Epoch 0] accuracy: 0.751629\n",
      "2018-12-01 14:14:58.682081  [Epoch 0] avg class acc: 0.751629\n",
      "2018-12-01 14:14:58.683756  [Epoch 0] indivisual [0] class recall: 0.954284\n",
      "2018-12-01 14:14:58.685437  [Epoch 0] indivisual [0] class precision: 0.955364\n",
      "2018-12-01 14:14:58.687071  [Epoch 0] indivisual [1] class recall: 0.716290\n",
      "2018-12-01 14:14:58.689079  [Epoch 0] indivisual [1] class precision: 0.664280\n",
      "2018-12-01 14:14:58.691188  [Epoch 0] indivisual [2] class recall: 0.620198\n",
      "2018-12-01 14:14:58.692989  [Epoch 0] indivisual [2] class precision: 0.695916\n",
      "2018-12-01 14:14:58.694659  [Epoch 0] indivisual [3] class recall: 0.723352\n",
      "2018-12-01 14:14:58.696369  [Epoch 0] indivisual [3] class precision: 0.694261\n",
      "2018-12-01 14:14:58.698106  [Epoch 0] indivisual [4] class recall: 0.744021\n",
      "2018-12-01 14:14:58.699739  [Epoch 0] indivisual [4] class precision: 0.751736\n",
      "2018-12-01 14:14:58.701464   Evaluation one (validation set) epoch   1 /  10\n"
     ]
    },
    {
     "name": "stderr",
     "output_type": "stream",
     "text": [
      "100%|██████████| 287/287 [00:24<00:00, 11.78it/s]\n"
     ]
    },
    {
     "name": "stdout",
     "output_type": "stream",
     "text": [
      "2018-12-01 14:15:23.358130  [Epoch 0] vali mean loss: 0.093221\n",
      "2018-12-01 14:15:23.360027  [Epoch 0] vali accuracy: 0.973589\n",
      "2018-12-01 14:15:23.362043  [Epoch 0] vali avg class acc: 0.600000\n",
      "2018-12-01 14:15:23.363667  [Epoch 0] vali indivisual [1] class recall: 1.000000\n",
      "2018-12-01 14:15:23.365400  [Epoch 0] vali indivisual [1] class precision: 0.960000\n",
      "2018-12-01 14:15:23.367037  [Epoch 0] vali indivisual [2] class recall: 0.888889\n",
      "2018-12-01 14:15:23.368752  [Epoch 0] vali indivisual [2] class precision: 1.000000\n",
      "2018-12-01 14:15:23.370359  [Epoch 0] vali indivisual [3] class recall: 1.000000\n",
      "2018-12-01 14:15:23.372145  [Epoch 0] vali indivisual [3] class precision: 1.000000\n",
      "2018-12-01 14:15:23.373690  [Epoch 0] vali indivisual [4] class recall: 1.000000\n",
      "2018-12-01 14:15:23.375358  [Epoch 0] vali indivisual [4] class precision: 1.000000\n",
      "2018-12-01 14:15:23.377268   Train one epoch   2 /  10\n"
     ]
    },
    {
     "name": "stderr",
     "output_type": "stream",
     "text": [
      "100%|██████████| 2124/2124 [12:37<00:00,  2.80it/s]\n"
     ]
    },
    {
     "name": "stdout",
     "output_type": "stream",
     "text": [
      "2018-12-01 14:28:02.108423  [Epoch 1] mean loss: 0.002450\n",
      "2018-12-01 14:28:02.110575  [Epoch 1] accuracy: 0.960075\n",
      "2018-12-01 14:28:02.112622  [Epoch 1] avg class acc: 0.960075\n",
      "2018-12-01 14:28:02.114317  [Epoch 1] indivisual [0] class recall: 0.993409\n",
      "2018-12-01 14:28:02.116105  [Epoch 1] indivisual [0] class precision: 0.989449\n",
      "2018-12-01 14:28:02.117727  [Epoch 1] indivisual [1] class recall: 0.952260\n",
      "2018-12-01 14:28:02.119318  [Epoch 1] indivisual [1] class precision: 0.946910\n",
      "2018-12-01 14:28:02.120912  [Epoch 1] indivisual [2] class recall: 0.961252\n",
      "2018-12-01 14:28:02.122546  [Epoch 1] indivisual [2] class precision: 0.955628\n",
      "2018-12-01 14:28:02.124191  [Epoch 1] indivisual [3] class recall: 0.959228\n",
      "2018-12-01 14:28:02.125864  [Epoch 1] indivisual [3] class precision: 0.961673\n",
      "2018-12-01 14:28:02.127329  [Epoch 1] indivisual [4] class recall: 0.934228\n",
      "2018-12-01 14:28:02.129053  [Epoch 1] indivisual [4] class precision: 0.946527\n",
      "2018-12-01 14:28:02.130983   Evaluation one (validation set) epoch   2 /  10\n"
     ]
    },
    {
     "name": "stderr",
     "output_type": "stream",
     "text": [
      "100%|██████████| 287/287 [00:23<00:00, 12.10it/s]\n"
     ]
    },
    {
     "name": "stdout",
     "output_type": "stream",
     "text": [
      "2018-12-01 14:28:26.129648  [Epoch 1] vali mean loss: 0.018133\n",
      "2018-12-01 14:28:26.131480  [Epoch 1] vali accuracy: 0.989338\n",
      "2018-12-01 14:28:26.133272  [Epoch 1] vali avg class acc: 0.800000\n",
      "2018-12-01 14:28:26.134875  [Epoch 1] vali indivisual [0] class recall: 1.000000\n",
      "2018-12-01 14:28:26.136610  [Epoch 1] vali indivisual [0] class precision: 1.000000\n",
      "2018-12-01 14:28:26.138183  [Epoch 1] vali indivisual [1] class recall: 0.958333\n",
      "2018-12-01 14:28:26.139677  [Epoch 1] vali indivisual [1] class precision: 1.000000\n",
      "2018-12-01 14:28:26.141592  [Epoch 1] vali indivisual [2] class recall: 1.000000\n",
      "2018-12-01 14:28:26.143668  [Epoch 1] vali indivisual [2] class precision: 1.000000\n",
      "2018-12-01 14:28:26.145370  [Epoch 1] vali indivisual [3] class recall: 1.000000\n",
      "2018-12-01 14:28:26.147014  [Epoch 1] vali indivisual [3] class precision: 1.000000\n",
      "2018-12-01 14:28:26.148836  [Epoch 1] vali indivisual [4] class recall: 1.000000\n",
      "2018-12-01 14:28:26.150582  [Epoch 1] vali indivisual [4] class precision: 0.750000\n",
      "2018-12-01 14:28:26.152363   Train one epoch   3 /  10\n"
     ]
    },
    {
     "name": "stderr",
     "output_type": "stream",
     "text": [
      "100%|██████████| 2124/2124 [12:37<00:00,  2.80it/s]\n"
     ]
    },
    {
     "name": "stdout",
     "output_type": "stream",
     "text": [
      "2018-12-01 14:41:04.968216  [Epoch 2] mean loss: 0.000737\n",
      "2018-12-01 14:41:04.970225  [Epoch 2] accuracy: 0.988578\n",
      "2018-12-01 14:41:04.972263  [Epoch 2] avg class acc: 0.988578\n",
      "2018-12-01 14:41:04.974174  [Epoch 2] indivisual [0] class recall: 0.998399\n",
      "2018-12-01 14:41:04.976114  [Epoch 2] indivisual [0] class precision: 0.997319\n",
      "2018-12-01 14:41:04.977993  [Epoch 2] indivisual [1] class recall: 0.985452\n",
      "2018-12-01 14:41:04.979666  [Epoch 2] indivisual [1] class precision: 0.985081\n",
      "2018-12-01 14:41:04.981360  [Epoch 2] indivisual [2] class recall: 0.988465\n",
      "2018-12-01 14:41:04.982935  [Epoch 2] indivisual [2] class precision: 0.986978\n",
      "2018-12-01 14:41:04.984647  [Epoch 2] indivisual [3] class recall: 0.989501\n",
      "2018-12-01 14:41:04.986370  [Epoch 2] indivisual [3] class precision: 0.989501\n",
      "2018-12-01 14:41:04.987944  [Epoch 2] indivisual [4] class recall: 0.981073\n",
      "2018-12-01 14:41:04.989664  [Epoch 2] indivisual [4] class precision: 0.983992\n",
      "2018-12-01 14:41:04.991221   Evaluation one (validation set) epoch   3 /  10\n"
     ]
    },
    {
     "name": "stderr",
     "output_type": "stream",
     "text": [
      "100%|██████████| 287/287 [00:23<00:00, 12.02it/s]\n"
     ]
    },
    {
     "name": "stdout",
     "output_type": "stream",
     "text": [
      "2018-12-01 14:41:29.135827  [Epoch 2] vali mean loss: 0.005455\n",
      "2018-12-01 14:41:29.137777  [Epoch 2] vali accuracy: 0.995889\n",
      "2018-12-01 14:41:29.141310  [Epoch 2] vali avg class acc: 1.000000\n",
      "2018-12-01 14:41:29.143119  [Epoch 2] vali indivisual [0] class recall: 1.000000\n",
      "2018-12-01 14:41:29.144914  [Epoch 2] vali indivisual [0] class precision: 1.000000\n",
      "2018-12-01 14:41:29.146510  [Epoch 2] vali indivisual [1] class recall: 1.000000\n",
      "2018-12-01 14:41:29.148068  [Epoch 2] vali indivisual [1] class precision: 1.000000\n",
      "2018-12-01 14:41:29.149923  [Epoch 2] vali indivisual [2] class recall: 1.000000\n",
      "2018-12-01 14:41:29.151780  [Epoch 2] vali indivisual [2] class precision: 1.000000\n",
      "2018-12-01 14:41:29.153449  [Epoch 2] vali indivisual [3] class recall: 1.000000\n",
      "2018-12-01 14:41:29.155038  [Epoch 2] vali indivisual [3] class precision: 1.000000\n",
      "2018-12-01 14:41:29.156782  [Epoch 2] vali indivisual [4] class recall: 1.000000\n",
      "2018-12-01 14:41:29.158348  [Epoch 2] vali indivisual [4] class precision: 1.000000\n",
      "2018-12-01 14:41:29.159950   Train one epoch   4 /  10\n"
     ]
    },
    {
     "name": "stderr",
     "output_type": "stream",
     "text": [
      "100%|██████████| 2124/2124 [12:37<00:00,  2.80it/s]\n"
     ]
    },
    {
     "name": "stdout",
     "output_type": "stream",
     "text": [
      "2018-12-01 14:54:07.712078  [Epoch 3] mean loss: 0.000563\n",
      "2018-12-01 14:54:07.713982  [Epoch 3] accuracy: 0.991394\n",
      "2018-12-01 14:54:07.715961  [Epoch 3] avg class acc: 0.991394\n",
      "2018-12-01 14:54:07.717738  [Epoch 3] indivisual [0] class recall: 0.998493\n",
      "2018-12-01 14:54:07.719387  [Epoch 3] indivisual [0] class precision: 0.998305\n",
      "2018-12-01 14:54:07.721418  [Epoch 3] indivisual [1] class recall: 0.987853\n",
      "2018-12-01 14:54:07.723314  [Epoch 3] indivisual [1] class precision: 0.988225\n",
      "2018-12-01 14:54:07.725146  [Epoch 3] indivisual [2] class recall: 0.991149\n",
      "2018-12-01 14:54:07.726865  [Epoch 3] indivisual [2] class precision: 0.989565\n",
      "2018-12-01 14:54:07.728673  [Epoch 3] indivisual [3] class recall: 0.992467\n",
      "2018-12-01 14:54:07.730382  [Epoch 3] indivisual [3] class precision: 0.993215\n",
      "2018-12-01 14:54:07.732053  [Epoch 3] indivisual [4] class recall: 0.987006\n",
      "2018-12-01 14:54:07.733718  [Epoch 3] indivisual [4] class precision: 0.987657\n",
      "2018-12-01 14:54:07.735371   Evaluation one (validation set) epoch   4 /  10\n"
     ]
    },
    {
     "name": "stderr",
     "output_type": "stream",
     "text": [
      "100%|██████████| 287/287 [00:23<00:00, 12.02it/s]\n"
     ]
    },
    {
     "name": "stdout",
     "output_type": "stream",
     "text": [
      "2018-12-01 14:54:31.881824  [Epoch 3] vali mean loss: 0.004165\n",
      "2018-12-01 14:54:31.883779  [Epoch 3] vali accuracy: 0.998955\n",
      "2018-12-01 14:54:31.886859  [Epoch 3] vali avg class acc: 1.000000\n",
      "2018-12-01 14:54:31.888678  [Epoch 3] vali indivisual [0] class recall: 1.000000\n",
      "2018-12-01 14:54:31.890551  [Epoch 3] vali indivisual [0] class precision: 1.000000\n",
      "2018-12-01 14:54:31.892539  [Epoch 3] vali indivisual [1] class recall: 1.000000\n",
      "2018-12-01 14:54:31.894311  [Epoch 3] vali indivisual [1] class precision: 1.000000\n",
      "2018-12-01 14:54:31.896017  [Epoch 3] vali indivisual [2] class recall: 1.000000\n",
      "2018-12-01 14:54:31.897674  [Epoch 3] vali indivisual [2] class precision: 1.000000\n",
      "2018-12-01 14:54:31.900256  [Epoch 3] vali indivisual [3] class recall: 1.000000\n",
      "2018-12-01 14:54:31.902008  [Epoch 3] vali indivisual [3] class precision: 1.000000\n",
      "2018-12-01 14:54:31.903638  [Epoch 3] vali indivisual [4] class recall: 1.000000\n",
      "2018-12-01 14:54:31.905289  [Epoch 3] vali indivisual [4] class precision: 1.000000\n",
      "2018-12-01 14:54:31.906845   Train one epoch   5 /  10\n"
     ]
    },
    {
     "name": "stderr",
     "output_type": "stream",
     "text": [
      "100%|██████████| 2124/2124 [12:34<00:00,  2.81it/s]\n"
     ]
    },
    {
     "name": "stdout",
     "output_type": "stream",
     "text": [
      "2018-12-01 15:07:07.988352  [Epoch 4] mean loss: 0.000430\n",
      "2018-12-01 15:07:07.990325  [Epoch 4] accuracy: 0.994623\n",
      "2018-12-01 15:07:07.992285  [Epoch 4] avg class acc: 0.994623\n",
      "2018-12-01 15:07:07.994037  [Epoch 4] indivisual [0] class recall: 0.998917\n",
      "2018-12-01 15:07:07.995794  [Epoch 4] indivisual [0] class precision: 0.998118\n",
      "2018-12-01 15:07:07.997602  [Epoch 4] indivisual [1] class recall: 0.992279\n",
      "2018-12-01 15:07:07.999602  [Epoch 4] indivisual [1] class precision: 0.992279\n",
      "2018-12-01 15:07:08.001713  [Epoch 4] indivisual [2] class recall: 0.993644\n",
      "2018-12-01 15:07:08.003410  [Epoch 4] indivisual [2] class precision: 0.993083\n",
      "2018-12-01 15:07:08.005090  [Epoch 4] indivisual [3] class recall: 0.995998\n",
      "2018-12-01 15:07:08.006767  [Epoch 4] indivisual [3] class precision: 0.996186\n",
      "2018-12-01 15:07:08.008495  [Epoch 4] indivisual [4] class recall: 0.992279\n",
      "2018-12-01 15:07:08.010180  [Epoch 4] indivisual [4] class precision: 0.993448\n",
      "2018-12-01 15:07:08.011793   Evaluation one (validation set) epoch   5 /  10\n"
     ]
    },
    {
     "name": "stderr",
     "output_type": "stream",
     "text": [
      "100%|██████████| 287/287 [00:23<00:00, 12.05it/s]\n"
     ]
    },
    {
     "name": "stdout",
     "output_type": "stream",
     "text": [
      "2018-12-01 15:07:32.141995  [Epoch 4] vali mean loss: 0.003184\n",
      "2018-12-01 15:07:32.144017  [Epoch 4] vali accuracy: 0.999164\n",
      "2018-12-01 15:07:32.146025  [Epoch 4] vali avg class acc: 1.000000\n",
      "2018-12-01 15:07:32.147720  [Epoch 4] vali indivisual [0] class recall: 1.000000\n",
      "2018-12-01 15:07:32.149355  [Epoch 4] vali indivisual [0] class precision: 1.000000\n",
      "2018-12-01 15:07:32.151200  [Epoch 4] vali indivisual [1] class recall: 1.000000\n",
      "2018-12-01 15:07:32.153099  [Epoch 4] vali indivisual [1] class precision: 1.000000\n",
      "2018-12-01 15:07:32.154844  [Epoch 4] vali indivisual [2] class recall: 1.000000\n",
      "2018-12-01 15:07:32.156574  [Epoch 4] vali indivisual [2] class precision: 1.000000\n",
      "2018-12-01 15:07:32.158238  [Epoch 4] vali indivisual [3] class recall: 1.000000\n",
      "2018-12-01 15:07:32.159919  [Epoch 4] vali indivisual [3] class precision: 1.000000\n",
      "2018-12-01 15:07:32.161633  [Epoch 4] vali indivisual [4] class recall: 1.000000\n",
      "2018-12-01 15:07:32.163239  [Epoch 4] vali indivisual [4] class precision: 1.000000\n",
      "2018-12-01 15:07:32.164873   Train one epoch   6 /  10\n"
     ]
    },
    {
     "name": "stderr",
     "output_type": "stream",
     "text": [
      "100%|██████████| 2124/2124 [12:35<00:00,  2.81it/s]\n"
     ]
    },
    {
     "name": "stdout",
     "output_type": "stream",
     "text": [
      "2018-12-01 15:20:08.925130  [Epoch 5] mean loss: 0.000195\n",
      "2018-12-01 15:20:08.927101  [Epoch 5] accuracy: 0.997382\n",
      "2018-12-01 15:20:08.929075  [Epoch 5] avg class acc: 0.997382\n",
      "2018-12-01 15:20:08.930859  [Epoch 5] indivisual [0] class recall: 0.999670\n",
      "2018-12-01 15:20:08.932944  [Epoch 5] indivisual [0] class precision: 0.998965\n",
      "2018-12-01 15:20:08.935084  [Epoch 5] indivisual [1] class recall: 0.995857\n",
      "2018-12-01 15:20:08.936924  [Epoch 5] indivisual [1] class precision: 0.995904\n",
      "2018-12-01 15:20:08.938715  [Epoch 5] indivisual [2] class recall: 0.996751\n",
      "2018-12-01 15:20:08.940497  [Epoch 5] indivisual [2] class precision: 0.996423\n",
      "2018-12-01 15:20:08.942273  [Epoch 5] indivisual [3] class recall: 0.998211\n",
      "2018-12-01 15:20:08.943981  [Epoch 5] indivisual [3] class precision: 0.998493\n",
      "2018-12-01 15:20:08.945678  [Epoch 5] indivisual [4] class recall: 0.996422\n",
      "2018-12-01 15:20:08.947304  [Epoch 5] indivisual [4] class precision: 0.997126\n",
      "2018-12-01 15:20:08.949030   Evaluation one (validation set) epoch   6 /  10\n"
     ]
    },
    {
     "name": "stderr",
     "output_type": "stream",
     "text": [
      "100%|██████████| 287/287 [00:23<00:00, 12.07it/s]\n"
     ]
    },
    {
     "name": "stdout",
     "output_type": "stream",
     "text": [
      "2018-12-01 15:20:33.015729  [Epoch 5] vali mean loss: 0.001440\n",
      "2018-12-01 15:20:33.017685  [Epoch 5] vali accuracy: 0.999443\n",
      "2018-12-01 15:20:33.019548  [Epoch 5] vali avg class acc: 1.000000\n",
      "2018-12-01 15:20:33.021264  [Epoch 5] vali indivisual [0] class recall: 1.000000\n",
      "2018-12-01 15:20:33.022946  [Epoch 5] vali indivisual [0] class precision: 1.000000\n",
      "2018-12-01 15:20:33.024670  [Epoch 5] vali indivisual [1] class recall: 1.000000\n",
      "2018-12-01 15:20:33.026557  [Epoch 5] vali indivisual [1] class precision: 1.000000\n",
      "2018-12-01 15:20:33.028534  [Epoch 5] vali indivisual [2] class recall: 1.000000\n",
      "2018-12-01 15:20:33.030295  [Epoch 5] vali indivisual [2] class precision: 1.000000\n",
      "2018-12-01 15:20:33.031988  [Epoch 5] vali indivisual [3] class recall: 1.000000\n",
      "2018-12-01 15:20:33.033703  [Epoch 5] vali indivisual [3] class precision: 1.000000\n",
      "2018-12-01 15:20:33.035312  [Epoch 5] vali indivisual [4] class recall: 1.000000\n",
      "2018-12-01 15:20:33.036941  [Epoch 5] vali indivisual [4] class precision: 1.000000\n",
      "2018-12-01 15:20:33.038569   Train one epoch   7 /  10\n"
     ]
    },
    {
     "name": "stderr",
     "output_type": "stream",
     "text": [
      "100%|██████████| 2124/2124 [12:35<00:00,  2.81it/s]\n"
     ]
    },
    {
     "name": "stdout",
     "output_type": "stream",
     "text": [
      "2018-12-01 15:33:09.756211  [Epoch 6] mean loss: 0.000114\n",
      "2018-12-01 15:33:09.758090  [Epoch 6] accuracy: 0.998362\n",
      "2018-12-01 15:33:09.759901  [Epoch 6] avg class acc: 0.998362\n",
      "2018-12-01 15:33:09.761579  [Epoch 6] indivisual [0] class recall: 0.999529\n",
      "2018-12-01 15:33:09.763292  [Epoch 6] indivisual [0] class precision: 0.999106\n",
      "2018-12-01 15:33:09.765009  [Epoch 6] indivisual [1] class recall: 0.997599\n",
      "2018-12-01 15:33:09.766537  [Epoch 6] indivisual [1] class precision: 0.997975\n",
      "2018-12-01 15:33:09.768423  [Epoch 6] indivisual [2] class recall: 0.997928\n",
      "2018-12-01 15:33:09.770521  [Epoch 6] indivisual [2] class precision: 0.997506\n",
      "2018-12-01 15:33:09.772219  [Epoch 6] indivisual [3] class recall: 0.998917\n",
      "2018-12-01 15:33:09.773892  [Epoch 6] indivisual [3] class precision: 0.998729\n",
      "2018-12-01 15:33:09.775489  [Epoch 6] indivisual [4] class recall: 0.997834\n",
      "2018-12-01 15:33:09.777070  [Epoch 6] indivisual [4] class precision: 0.998492\n",
      "2018-12-01 15:33:09.778689   Evaluation one (validation set) epoch   7 /  10\n"
     ]
    },
    {
     "name": "stderr",
     "output_type": "stream",
     "text": [
      "100%|██████████| 287/287 [00:23<00:00, 12.07it/s]\n"
     ]
    },
    {
     "name": "stdout",
     "output_type": "stream",
     "text": [
      "2018-12-01 15:33:33.864261  [Epoch 6] vali mean loss: 0.000845\n",
      "2018-12-01 15:33:33.866137  [Epoch 6] vali accuracy: 0.999024\n",
      "2018-12-01 15:33:33.868097  [Epoch 6] vali avg class acc: 0.800000\n",
      "2018-12-01 15:33:33.869956  [Epoch 6] vali indivisual [1] class recall: 1.000000\n",
      "2018-12-01 15:33:33.871797  [Epoch 6] vali indivisual [1] class precision: 1.000000\n",
      "2018-12-01 15:33:33.873625  [Epoch 6] vali indivisual [2] class recall: 1.000000\n",
      "2018-12-01 15:33:33.875228  [Epoch 6] vali indivisual [2] class precision: 1.000000\n",
      "2018-12-01 15:33:33.876914  [Epoch 6] vali indivisual [3] class recall: 1.000000\n",
      "2018-12-01 15:33:33.878633  [Epoch 6] vali indivisual [3] class precision: 1.000000\n",
      "2018-12-01 15:33:33.883405  [Epoch 6] vali indivisual [4] class recall: 1.000000\n",
      "2018-12-01 15:33:33.885421  [Epoch 6] vali indivisual [4] class precision: 1.000000\n",
      "2018-12-01 15:33:33.887078   Train one epoch   8 /  10\n"
     ]
    },
    {
     "name": "stderr",
     "output_type": "stream",
     "text": [
      "100%|██████████| 2124/2124 [12:34<00:00,  2.81it/s]\n"
     ]
    },
    {
     "name": "stdout",
     "output_type": "stream",
     "text": [
      "2018-12-01 15:46:09.960543  [Epoch 7] mean loss: 0.000092\n",
      "2018-12-01 15:46:09.962439  [Epoch 7] accuracy: 0.998917\n",
      "2018-12-01 15:46:09.964296  [Epoch 7] avg class acc: 0.998917\n",
      "2018-12-01 15:46:09.966110  [Epoch 7] indivisual [0] class recall: 0.999812\n",
      "2018-12-01 15:46:09.967710  [Epoch 7] indivisual [0] class precision: 0.999718\n",
      "2018-12-01 15:46:09.969406  [Epoch 7] indivisual [1] class recall: 0.998117\n",
      "2018-12-01 15:46:09.971104  [Epoch 7] indivisual [1] class precision: 0.998446\n",
      "2018-12-01 15:46:09.973055  [Epoch 7] indivisual [2] class recall: 0.998540\n",
      "2018-12-01 15:46:09.975074  [Epoch 7] indivisual [2] class precision: 0.998352\n",
      "2018-12-01 15:46:09.976818  [Epoch 7] indivisual [3] class recall: 0.999435\n",
      "2018-12-01 15:46:09.978536  [Epoch 7] indivisual [3] class precision: 0.999576\n",
      "2018-12-01 15:46:09.980216  [Epoch 7] indivisual [4] class recall: 0.998682\n",
      "2018-12-01 15:46:09.981930  [Epoch 7] indivisual [4] class precision: 0.998494\n",
      "2018-12-01 15:46:09.983533   Evaluation one (validation set) epoch   8 /  10\n"
     ]
    },
    {
     "name": "stderr",
     "output_type": "stream",
     "text": [
      "100%|██████████| 287/287 [00:23<00:00, 12.07it/s]\n"
     ]
    },
    {
     "name": "stdout",
     "output_type": "stream",
     "text": [
      "2018-12-01 15:46:34.083968  [Epoch 7] vali mean loss: 0.000678\n",
      "2018-12-01 15:46:34.085857  [Epoch 7] vali accuracy: 0.999721\n",
      "2018-12-01 15:46:34.087770  [Epoch 7] vali avg class acc: 1.000000\n",
      "2018-12-01 15:46:34.089469  [Epoch 7] vali indivisual [0] class recall: 1.000000\n",
      "2018-12-01 15:46:34.091377  [Epoch 7] vali indivisual [0] class precision: 1.000000\n",
      "2018-12-01 15:46:34.093359  [Epoch 7] vali indivisual [1] class recall: 1.000000\n",
      "2018-12-01 15:46:34.095125  [Epoch 7] vali indivisual [1] class precision: 1.000000\n",
      "2018-12-01 15:46:34.096900  [Epoch 7] vali indivisual [2] class recall: 1.000000\n",
      "2018-12-01 15:46:34.098683  [Epoch 7] vali indivisual [2] class precision: 1.000000\n",
      "2018-12-01 15:46:34.100431  [Epoch 7] vali indivisual [3] class recall: 1.000000\n",
      "2018-12-01 15:46:34.102177  [Epoch 7] vali indivisual [3] class precision: 1.000000\n",
      "2018-12-01 15:46:34.103892  [Epoch 7] vali indivisual [4] class recall: 1.000000\n",
      "2018-12-01 15:46:34.105671  [Epoch 7] vali indivisual [4] class precision: 1.000000\n",
      "2018-12-01 15:46:34.107303   Train one epoch   9 /  10\n"
     ]
    },
    {
     "name": "stderr",
     "output_type": "stream",
     "text": [
      "100%|██████████| 2124/2124 [12:34<00:00,  2.81it/s]\n"
     ]
    },
    {
     "name": "stdout",
     "output_type": "stream",
     "text": [
      "2018-12-01 15:59:10.038826  [Epoch 8] mean loss: 0.000054\n",
      "2018-12-01 15:59:10.040790  [Epoch 8] accuracy: 0.999313\n",
      "2018-12-01 15:59:10.042786  [Epoch 8] avg class acc: 0.999313\n",
      "2018-12-01 15:59:10.044580  [Epoch 8] indivisual [0] class recall: 0.999765\n",
      "2018-12-01 15:59:10.046300  [Epoch 8] indivisual [0] class precision: 0.999859\n",
      "2018-12-01 15:59:10.048226  [Epoch 8] indivisual [1] class recall: 0.998964\n",
      "2018-12-01 15:59:10.050274  [Epoch 8] indivisual [1] class precision: 0.998729\n",
      "2018-12-01 15:59:10.051983  [Epoch 8] indivisual [2] class recall: 0.998964\n",
      "2018-12-01 15:59:10.053659  [Epoch 8] indivisual [2] class precision: 0.999011\n",
      "2018-12-01 15:59:10.055319  [Epoch 8] indivisual [3] class recall: 0.999623\n",
      "2018-12-01 15:59:10.056999  [Epoch 8] indivisual [3] class precision: 0.999623\n",
      "2018-12-01 15:59:10.058641  [Epoch 8] indivisual [4] class recall: 0.999247\n",
      "2018-12-01 15:59:10.060319  [Epoch 8] indivisual [4] class precision: 0.999341\n",
      "2018-12-01 15:59:10.061908   Evaluation one (validation set) epoch   9 /  10\n"
     ]
    },
    {
     "name": "stderr",
     "output_type": "stream",
     "text": [
      "100%|██████████| 287/287 [00:23<00:00, 12.07it/s]\n"
     ]
    },
    {
     "name": "stdout",
     "output_type": "stream",
     "text": [
      "2018-12-01 15:59:34.159591  [Epoch 8] vali mean loss: 0.000399\n",
      "2018-12-01 15:59:34.161412  [Epoch 8] vali accuracy: 0.999303\n",
      "2018-12-01 15:59:34.163237  [Epoch 8] vali avg class acc: 1.000000\n",
      "2018-12-01 15:59:34.165024  [Epoch 8] vali indivisual [0] class recall: 1.000000\n",
      "2018-12-01 15:59:34.166849  [Epoch 8] vali indivisual [0] class precision: 1.000000\n",
      "2018-12-01 15:59:34.168771  [Epoch 8] vali indivisual [1] class recall: 1.000000\n",
      "2018-12-01 15:59:34.170531  [Epoch 8] vali indivisual [1] class precision: 1.000000\n",
      "2018-12-01 15:59:34.172207  [Epoch 8] vali indivisual [2] class recall: 1.000000\n",
      "2018-12-01 15:59:34.173936  [Epoch 8] vali indivisual [2] class precision: 1.000000\n",
      "2018-12-01 15:59:34.175610  [Epoch 8] vali indivisual [3] class recall: 1.000000\n",
      "2018-12-01 15:59:34.179762  [Epoch 8] vali indivisual [3] class precision: 1.000000\n",
      "2018-12-01 15:59:34.181441  [Epoch 8] vali indivisual [4] class recall: 1.000000\n",
      "2018-12-01 15:59:34.183008  [Epoch 8] vali indivisual [4] class precision: 1.000000\n",
      "2018-12-01 15:59:34.184638   Train one epoch  10 /  10\n"
     ]
    },
    {
     "name": "stderr",
     "output_type": "stream",
     "text": [
      "100%|██████████| 2124/2124 [12:34<00:00,  2.81it/s]\n"
     ]
    },
    {
     "name": "stdout",
     "output_type": "stream",
     "text": [
      "2018-12-01 16:12:10.152163  [Epoch 9] mean loss: 0.000043\n",
      "2018-12-01 16:12:10.154122  [Epoch 9] accuracy: 0.999492\n",
      "2018-12-01 16:12:10.155953  [Epoch 9] avg class acc: 0.999492\n",
      "2018-12-01 16:12:10.157786  [Epoch 9] indivisual [0] class recall: 0.999859\n",
      "2018-12-01 16:12:10.159478  [Epoch 9] indivisual [0] class precision: 0.999906\n",
      "2018-12-01 16:12:10.161298  [Epoch 9] indivisual [1] class recall: 0.999247\n",
      "2018-12-01 16:12:10.162932  [Epoch 9] indivisual [1] class precision: 0.999106\n",
      "2018-12-01 16:12:10.164736  [Epoch 9] indivisual [2] class recall: 0.999200\n",
      "2018-12-01 16:12:10.166432  [Epoch 9] indivisual [2] class precision: 0.999153\n",
      "2018-12-01 16:12:10.168042  [Epoch 9] indivisual [3] class recall: 0.999859\n",
      "2018-12-01 16:12:10.169658  [Epoch 9] indivisual [3] class precision: 0.999765\n",
      "2018-12-01 16:12:10.171498  [Epoch 9] indivisual [4] class recall: 0.999294\n",
      "2018-12-01 16:12:10.173493  [Epoch 9] indivisual [4] class precision: 0.999529\n",
      "2018-12-01 16:12:10.175158   Evaluation one (validation set) epoch  10 /  10\n"
     ]
    },
    {
     "name": "stderr",
     "output_type": "stream",
     "text": [
      "100%|██████████| 287/287 [00:23<00:00, 12.05it/s]\n"
     ]
    },
    {
     "name": "stdout",
     "output_type": "stream",
     "text": [
      "2018-12-01 16:12:34.308559  [Epoch 9] vali mean loss: 0.000316\n",
      "2018-12-01 16:12:34.310814  [Epoch 9] vali accuracy: 1.000000\n",
      "2018-12-01 16:12:34.312842  [Epoch 9] vali avg class acc: 0.800000\n",
      "2018-12-01 16:12:34.314536  [Epoch 9] vali indivisual [1] class recall: 1.000000\n",
      "2018-12-01 16:12:34.316179  [Epoch 9] vali indivisual [1] class precision: 1.000000\n",
      "2018-12-01 16:12:34.318149  [Epoch 9] vali indivisual [2] class recall: 1.000000\n",
      "2018-12-01 16:12:34.320220  [Epoch 9] vali indivisual [2] class precision: 1.000000\n",
      "2018-12-01 16:12:34.321984  [Epoch 9] vali indivisual [3] class recall: 1.000000\n",
      "2018-12-01 16:12:34.323715  [Epoch 9] vali indivisual [3] class precision: 1.000000\n",
      "2018-12-01 16:12:34.325501  [Epoch 9] vali indivisual [4] class recall: 1.000000\n",
      "2018-12-01 16:12:34.327265  [Epoch 9] vali indivisual [4] class precision: 1.000000\n",
      "2018-12-01 16:12:35.183661  Model saved in file: /home/gozilla/kyungpyo/git/MasterThesisProject/Network/notebook/train_log_20181201/model_out5/model.ckpt\n"
     ]
    }
   ],
   "source": [
    "\"\"\" Import model \"\"\"\n",
    "sys.path.append( os.path.abspath('../../model') )\n",
    "\n",
    "from train import *\n",
    "import model_out_5 as MODEL\n",
    "\n",
    "def run_training(out_path):\n",
    "    \"\"\" Path \"\"\"\n",
    "    model_save_path = os.path.abspath(out_path)\n",
    "    if not os.path.isdir(model_save_path) : os.mkdir(model_save_path)\n",
    "    log_path = os.path.abspath(os.path.join(model_save_path, 'train_log.txt') )\n",
    "        \n",
    "    \"\"\" Parameters \"\"\"\n",
    "    GPU_INDEX = 0\n",
    "    NUM_POINT = 1024\n",
    "    NUM_CLASSES = 5\n",
    "\n",
    "    BN_INIT_DECAY = 0.5\n",
    "    BN_DECAY_DECAY_RATE = 0.5\n",
    "    BN_DECAY_DECAY_STEP = float(200000)\n",
    "    BN_DECAY_CLIP = 0.99\n",
    "    DECAY_STEP = BN_DECAY_DECAY_STEP\n",
    "    DECAY_RATE = BN_DECAY_DECAY_RATE\n",
    "\n",
    "    BATCH_SIZE = 50\n",
    "\n",
    "    MOMENTUM = 0.9\n",
    "\n",
    "    BASE_LEARNING_RATE = 0.001\n",
    "\n",
    "    OPTIMIZER = 'adam'\n",
    "\n",
    "    MAX_EPOCH = 10\n",
    "\n",
    "    \"\"\" log file \"\"\"\n",
    "    LOG_FOUT = open(log_path, 'w')\n",
    "\n",
    "    def log_string(out_str):\n",
    "        out_str = str( datetime.datetime.fromtimestamp( time.time() ) ) + \"  \" + out_str\n",
    "        LOG_FOUT.write(out_str+'\\n')\n",
    "        LOG_FOUT.flush()\n",
    "        print(out_str)\n",
    "\n",
    "\n",
    "    def get_learning_rate(batch):\n",
    "        learning_rate = tf.train.exponential_decay(\n",
    "                            BASE_LEARNING_RATE,  # Base learning rate.\n",
    "                            batch * BATCH_SIZE,  # Current index into the dataset.\n",
    "                            DECAY_STEP,          # Decay step.\n",
    "                            DECAY_RATE,          # Decay rate.\n",
    "                            staircase=True)\n",
    "        learning_rate = tf.maximum(learning_rate, 0.00001) # CLIP THE LEARNING RATE!\n",
    "        return learning_rate        \n",
    "\n",
    "    def get_bn_decay(batch):\n",
    "        bn_momentum = tf.train.exponential_decay(\n",
    "                          BN_INIT_DECAY,\n",
    "                          batch * BATCH_SIZE,\n",
    "                          BN_DECAY_DECAY_STEP,\n",
    "                          BN_DECAY_DECAY_RATE,\n",
    "                          staircase=True)\n",
    "        bn_decay = tf.minimum(BN_DECAY_CLIP, 1 - bn_momentum)\n",
    "        return bn_decay\n",
    "\n",
    "    \"\"\" load traing model \"\"\"\n",
    "    with tf.Graph().as_default():\n",
    "        with tf.device('/gpu:'+str(GPU_INDEX)):\n",
    "            pointclouds_pl, labels_pl = MODEL.placeholder_inputs(BATCH_SIZE, NUM_POINT)\n",
    "            is_training_pl = tf.placeholder(tf.bool, shape=())\n",
    "            print(is_training_pl)\n",
    "\n",
    "            # Note the global_step=batch parameter to minimize. \n",
    "            # That tells the optimizer to helpfully increment the 'batch' parameter for you every time it trains.\n",
    "            batch = tf.Variable(0)\n",
    "            bn_decay = get_bn_decay(batch)\n",
    "            tf.summary.scalar('bn_decay', bn_decay)\n",
    "\n",
    "            # Get model and loss \n",
    "            pred, end_points = MODEL.get_model(pointclouds_pl, is_training_pl, bn_decay=bn_decay)\n",
    "            loss = MODEL.get_loss(pred, labels_pl, end_points)\n",
    "            tf.summary.scalar('loss', loss)\n",
    "\n",
    "            correct = tf.equal(tf.argmax(pred, 1), tf.to_int64(labels_pl))\n",
    "            accuracy = tf.reduce_sum(tf.cast(correct, tf.float32)) / float(BATCH_SIZE)\n",
    "            tf.summary.scalar('accuracy', accuracy)\n",
    "\n",
    "            # Get training operator\n",
    "            learning_rate = get_learning_rate(batch)\n",
    "            tf.summary.scalar('learning_rate', learning_rate)\n",
    "            if OPTIMIZER == 'momentum':\n",
    "                optimizer = tf.train.MomentumOptimizer(learning_rate, momentum=MOMENTUM)\n",
    "            elif OPTIMIZER == 'adam':\n",
    "                optimizer = tf.train.AdamOptimizer(learning_rate)\n",
    "            train_op = optimizer.minimize(loss, global_step=batch)\n",
    "\n",
    "            # Add ops to save and restore all the variables.\n",
    "            saver = tf.train.Saver()\n",
    "\n",
    "        # Create a session\n",
    "        config = tf.ConfigProto()\n",
    "        config.gpu_options.allow_growth = True\n",
    "        config.allow_soft_placement = True\n",
    "        config.log_device_placement = False\n",
    "        sess = tf.Session(config=config)\n",
    "\n",
    "        # Add summary writers\n",
    "        #merged = tf.merge_all_summaries()\n",
    "        merged = tf.summary.merge_all()\n",
    "\n",
    "        train_writer_path = os.path.abspath( os.path.join(model_save_path, 'train') )\n",
    "        if os.path.isdir(train_writer_path): os.system('rm -r {}'.format(train_writer_path))\n",
    "        os.mkdir(train_writer_path)\n",
    "\n",
    "        test_writer_path = os.path.abspath( os.path.join(model_save_path, 'test') )\n",
    "        if os.path.isdir(test_writer_path): os.system('rm -r {}'.format(test_writer_path))\n",
    "        os.mkdir(test_writer_path)\n",
    "\n",
    "\n",
    "        train_writer = tf.summary.FileWriter(train_writer_path, sess.graph)\n",
    "        test_writer = tf.summary.FileWriter(test_writer_path)\n",
    "\n",
    "\n",
    "        # Init variables\n",
    "        init = tf.global_variables_initializer()\n",
    "        # To fix the bug introduced in TF 0.12.1 as in\n",
    "        # http://stackoverflow.com/questions/41543774/invalidargumenterror-for-tensor-bool-tensorflow-0-12-1\n",
    "        #sess.run(init)\n",
    "        sess.run(init, {is_training_pl: True})\n",
    "\n",
    "        ops = {'pointclouds_pl': pointclouds_pl,\n",
    "               'labels_pl': labels_pl,\n",
    "               'is_training_pl': is_training_pl,\n",
    "               'pred': pred,\n",
    "               'loss': loss,\n",
    "               'train_op': train_op,\n",
    "               'merged': merged,\n",
    "               'step': batch}\n",
    "\n",
    "\n",
    "        for epoch in range(MAX_EPOCH):\n",
    "\n",
    "            ## Training\n",
    "            log_string ( \" Train one epoch %3d / %3d\" % (epoch+1, MAX_EPOCH) )\n",
    "            sys.stdout.flush()\n",
    "\n",
    "            is_training = True\n",
    "\n",
    "            # Shuffle train files\n",
    "            train_file_idxs = np.arange(0, data_train.shape[0])\n",
    "            np.random.shuffle(train_file_idxs)\n",
    "\n",
    "            current_data = data_train[train_file_idxs] \n",
    "            current_label = label_train[train_file_idxs]\n",
    "            current_label.reshape((data_train.shape[0],))\n",
    "\n",
    "            ## Evaluation metric\n",
    "            total_correct = 0\n",
    "            total_seen = 0\n",
    "            loss_sum = 0\n",
    "\n",
    "            total_class = [0 for _ in range(NUM_CLASSES)]\n",
    "            total_detect_class = [0 for _ in range(NUM_CLASSES)]\n",
    "            total_correct_class = [0 for _ in range(NUM_CLASSES)]\n",
    "\n",
    "            num_batches = current_data.shape[0] // BATCH_SIZE\n",
    "\n",
    "            for batch_idx in trange(num_batches):\n",
    "\n",
    "                start_idx = batch_idx * BATCH_SIZE\n",
    "                end_idx = (batch_idx+1) * BATCH_SIZE           \n",
    "\n",
    "                # Augment batched point clouds by rotation and jittering\n",
    "                rotated_data = provider.rotate_point_cloud(current_data[start_idx:end_idx, :, :])\n",
    "                jittered_data = provider.jitter_point_cloud(rotated_data)\n",
    "\n",
    "                # Reashape\n",
    "                current_label_reshape = current_label[start_idx:end_idx].reshape((BATCH_SIZE,))\n",
    "\n",
    "                feed_dict = {ops['pointclouds_pl']: jittered_data,\n",
    "                             ops['labels_pl']: current_label_reshape,\n",
    "                             ops['is_training_pl']: is_training,}\n",
    "\n",
    "                summary, step, _, loss_val, pred_val = sess.run([ops['merged'], ops['step'],\n",
    "                    ops['train_op'], ops['loss'], ops['pred']], feed_dict=feed_dict)\n",
    "\n",
    "                train_writer.add_summary(summary, step)\n",
    "\n",
    "                pred_val = np.argmax(pred_val, 1)\n",
    "                correct = np.sum(pred_val == current_label_reshape)\n",
    "                total_correct += correct\n",
    "                total_seen += BATCH_SIZE\n",
    "                loss_sum += loss_val\n",
    "\n",
    "                for i in range(NUM_CLASSES):\n",
    "                    total_class[i] += np.sum( np.ones(BATCH_SIZE) * i == current_label_reshape )\n",
    "                    total_detect_class[i] += np.sum( np.ones(BATCH_SIZE) * i == pred_val )\n",
    "                    total_correct_class[i] += np.sum( (np.ones(BATCH_SIZE) * i == current_label_reshape) * \\\n",
    "                                                        (np.ones(BATCH_SIZE) * i == pred_val) )\n",
    "\n",
    "            log_string(  '[Epoch %d] mean loss: %f' % \\\n",
    "                       (  epoch, loss_sum / float(total_seen)  )   )\n",
    "            log_string(  '[Epoch %d] accuracy: %f'% \\\n",
    "                       (  epoch, total_correct / float(total_seen)  )   )\n",
    "            log_string(  '[Epoch %d] avg class acc: %f' % \\\n",
    "                       (  epoch, np.mean( np.array(total_correct_class)/np.array(total_class,dtype=np.float) )  )   )\n",
    "\n",
    "            for i_cls in range(NUM_CLASSES):\n",
    "                if not float(total_class[i_cls]) == 0:\n",
    "                    log_string(  '[Epoch %d] indivisual [%d] class recall: %f' % \\\n",
    "                           (  epoch, i_cls, float(total_correct_class[i_cls])/float(total_class[i_cls])))    \n",
    "                if not float(total_detect_class[i_cls]) == 0:\n",
    "                    log_string(  '[Epoch %d] indivisual [%d] class precision: %f' % \\\n",
    "                           (  epoch, i_cls, float(total_correct_class[i_cls])/float(total_detect_class[i_cls])))    \n",
    "\n",
    "\n",
    "            ## Evaluation using validation set    \n",
    "            log_string ( \" Evaluation one (validation set) epoch %3d / %3d\" % (epoch+1, MAX_EPOCH) )\n",
    "            sys.stdout.flush()\n",
    "\n",
    "            is_training = False\n",
    "            total_correct = 0\n",
    "            total_seen = 0\n",
    "            total_seen_class = [0 for _ in range(NUM_CLASSES)]\n",
    "            total_correct_class = [0 for _ in range(NUM_CLASSES)]\n",
    "            total_detect_class = [0 for _ in range(NUM_CLASSES)]\n",
    "            total_detect_true_class = [0 for _ in range(NUM_CLASSES)]\n",
    "\n",
    "            # Shuffle validation files\n",
    "            file_idxs = np.arange(0, data_vali.shape[0])\n",
    "            np.random.shuffle(file_idxs)\n",
    "\n",
    "            current_data = data_vali[file_idxs]\n",
    "            current_label = label_vali[file_idxs]\n",
    "\n",
    "            num_batches = current_data.shape[0] // BATCH_SIZE\n",
    "\n",
    "            for batch_idx in trange(num_batches):\n",
    "\n",
    "                start_idx = batch_idx * BATCH_SIZE\n",
    "                end_idx = (batch_idx+1) * BATCH_SIZE\n",
    "\n",
    "                # Reashape\n",
    "                current_label_reshape = current_label[start_idx:end_idx].reshape((BATCH_SIZE,))\n",
    "\n",
    "                feed_dict = {ops['pointclouds_pl']: current_data[start_idx:end_idx, :, :],\n",
    "                             ops['labels_pl']: current_label_reshape,\n",
    "                             ops['is_training_pl']: is_training}\n",
    "                summary, step, loss_val, pred_val = sess.run([ops['merged'], ops['step'],\n",
    "                    ops['loss'], ops['pred']], feed_dict=feed_dict)\n",
    "\n",
    "                # test_writer.add_summary(summary, step)\n",
    "\n",
    "                pred_val = np.argmax(pred_val, 1)\n",
    "                correct = np.sum(pred_val == current_label_reshape)\n",
    "                total_correct += correct\n",
    "                total_seen += BATCH_SIZE\n",
    "\n",
    "                for i in range(NUM_CLASSES):\n",
    "                    total_class[i] = np.sum( np.ones(BATCH_SIZE) * i == current_label_reshape )\n",
    "                    total_detect_class[i] = np.sum( np.ones(BATCH_SIZE) * i == pred_val )\n",
    "                    total_correct_class[i] = np.sum( (np.ones(BATCH_SIZE) * i == current_label_reshape) * \\\n",
    "                                                        (np.ones(BATCH_SIZE) * i == pred_val) )\n",
    "\n",
    "            log_string(  '[Epoch %d] vali mean loss: %f' % \\\n",
    "                       (  epoch, loss_sum / float(total_seen)  )   )\n",
    "            log_string(  '[Epoch %d] vali accuracy: %f'% \\\n",
    "                       (  epoch, total_correct / float(total_seen)  )   )\n",
    "            log_string(  '[Epoch %d] vali avg class acc: %f' % \\\n",
    "                       (  epoch, np.mean( np.array(total_correct_class) / np.array(total_class) )  )   )\n",
    "\n",
    "            for i_cls in range(NUM_CLASSES):\n",
    "                if not float(total_class[i_cls]) == 0:\n",
    "                    log_string(  '[Epoch %d] vali indivisual [%d] class recall: %f' % \\\n",
    "                           (  epoch, i_cls, float(total_correct_class[i_cls])/float(total_class[i_cls])))    \n",
    "                if not float(total_detect_class[i_cls]) == 0:\n",
    "                    log_string(  '[Epoch %d] vali indivisual [%d] class precision: %f' % \\\n",
    "                           (  epoch, i_cls, float(total_correct_class[i_cls])/float(total_detect_class[i_cls])))    \n",
    "\n",
    "\n",
    "            # Save the variables to disk.\n",
    "            if ( epoch + 1 ) % 10 == 0:\n",
    "                save_path = saver.save(sess, os.path.join(model_save_path, \"model.ckpt\"))\n",
    "                log_string(\"Model saved in file: %s\" % save_path)\n",
    "\n",
    "# option 1: execute code with extra process\n",
    "p = multiprocessing.Process(target=run_training, args = ('./model_out5',))\n",
    "p.start()\n",
    "p.join()"
   ]
  },
  {
   "cell_type": "code",
   "execution_count": 5,
   "metadata": {},
   "outputs": [
    {
     "name": "stdout",
     "output_type": "stream",
     "text": [
      "Tensor(\"Placeholder_2:0\", shape=(), dtype=bool, device=/device:GPU:0)\n",
      "INFO:tensorflow:Summary name classify loss is illegal; using classify_loss instead.\n",
      "INFO:tensorflow:Summary name mat loss is illegal; using mat_loss instead.\n",
      "2018-12-01 16:12:40.664810   Train one epoch   1 /  10\n"
     ]
    },
    {
     "name": "stderr",
     "output_type": "stream",
     "text": [
      "100%|██████████| 2124/2124 [04:37<00:00,  7.66it/s]\n"
     ]
    },
    {
     "name": "stdout",
     "output_type": "stream",
     "text": [
      "2018-12-01 16:17:19.315066  [Epoch 0] mean loss: 0.014094\n",
      "2018-12-01 16:17:19.317057  [Epoch 0] accuracy: 0.728635\n",
      "2018-12-01 16:17:19.319073  [Epoch 0] avg class acc: 0.728635\n",
      "2018-12-01 16:17:19.320926  [Epoch 0] indivisual [0] class recall: 0.952684\n",
      "2018-12-01 16:17:19.322741  [Epoch 0] indivisual [0] class precision: 0.953132\n",
      "2018-12-01 16:17:19.324538  [Epoch 0] indivisual [1] class recall: 0.681497\n",
      "2018-12-01 16:17:19.326231  [Epoch 0] indivisual [1] class precision: 0.628746\n",
      "2018-12-01 16:17:19.327941  [Epoch 0] indivisual [2] class recall: 0.569444\n",
      "2018-12-01 16:17:19.329614  [Epoch 0] indivisual [2] class precision: 0.625420\n",
      "2018-12-01 16:17:19.331157  [Epoch 0] indivisual [3] class recall: 0.704096\n",
      "2018-12-01 16:17:19.332861  [Epoch 0] indivisual [3] class precision: 0.672014\n",
      "2018-12-01 16:17:19.334480  [Epoch 0] indivisual [4] class recall: 0.735452\n",
      "2018-12-01 16:17:19.336069  [Epoch 0] indivisual [4] class precision: 0.767428\n",
      "2018-12-01 16:17:19.337670   Evaluation one (validation set) epoch   1 /  10\n"
     ]
    },
    {
     "name": "stderr",
     "output_type": "stream",
     "text": [
      "100%|██████████| 287/287 [00:06<00:00, 42.66it/s]\n"
     ]
    },
    {
     "name": "stdout",
     "output_type": "stream",
     "text": [
      "2018-12-01 16:17:26.337783  [Epoch 0] vali mean loss: 0.104307\n",
      "2018-12-01 16:17:26.339712  [Epoch 0] vali accuracy: 0.888293\n",
      "2018-12-01 16:17:26.341707  [Epoch 0] vali avg class acc: 0.000000\n",
      "2018-12-01 16:17:26.343340  [Epoch 0] vali indivisual [1] class recall: 0.875000\n",
      "2018-12-01 16:17:26.344991  [Epoch 0] vali indivisual [1] class precision: 0.913043\n",
      "2018-12-01 16:17:26.346684  [Epoch 0] vali indivisual [2] class recall: 0.777778\n",
      "2018-12-01 16:17:26.348566  [Epoch 0] vali indivisual [2] class precision: 0.636364\n",
      "2018-12-01 16:17:26.350300  [Epoch 0] vali indivisual [3] class recall: 0.777778\n",
      "2018-12-01 16:17:26.352155  [Epoch 0] vali indivisual [3] class precision: 0.875000\n",
      "2018-12-01 16:17:26.353802  [Epoch 0] vali indivisual [4] class recall: 0.750000\n",
      "2018-12-01 16:17:26.355417  [Epoch 0] vali indivisual [4] class precision: 0.750000\n",
      "2018-12-01 16:17:26.357125   Train one epoch   2 /  10\n"
     ]
    },
    {
     "name": "stderr",
     "output_type": "stream",
     "text": [
      "100%|██████████| 2124/2124 [04:35<00:00,  7.71it/s]\n"
     ]
    },
    {
     "name": "stdout",
     "output_type": "stream",
     "text": [
      "2018-12-01 16:22:03.168829  [Epoch 1] mean loss: 0.008000\n",
      "2018-12-01 16:22:03.170817  [Epoch 1] accuracy: 0.856949\n",
      "2018-12-01 16:22:03.172927  [Epoch 1] avg class acc: 0.856949\n",
      "2018-12-01 16:22:03.174746  [Epoch 1] indivisual [0] class recall: 0.979284\n",
      "2018-12-01 16:22:03.176550  [Epoch 1] indivisual [0] class precision: 0.975107\n",
      "2018-12-01 16:22:03.178218  [Epoch 1] indivisual [1] class recall: 0.818220\n",
      "2018-12-01 16:22:03.179914  [Epoch 1] indivisual [1] class precision: 0.800028\n",
      "2018-12-01 16:22:03.181623  [Epoch 1] indivisual [2] class recall: 0.813606\n",
      "2018-12-01 16:22:03.183205  [Epoch 1] indivisual [2] class precision: 0.813683\n",
      "2018-12-01 16:22:03.184828  [Epoch 1] indivisual [3] class recall: 0.859793\n",
      "2018-12-01 16:22:03.186444  [Epoch 1] indivisual [3] class precision: 0.834644\n",
      "2018-12-01 16:22:03.188042  [Epoch 1] indivisual [4] class recall: 0.813842\n",
      "2018-12-01 16:22:03.189645  [Epoch 1] indivisual [4] class precision: 0.863092\n",
      "2018-12-01 16:22:03.191129   Evaluation one (validation set) epoch   2 /  10\n"
     ]
    },
    {
     "name": "stderr",
     "output_type": "stream",
     "text": [
      "100%|██████████| 287/287 [00:06<00:00, 44.64it/s]\n"
     ]
    },
    {
     "name": "stdout",
     "output_type": "stream",
     "text": [
      "2018-12-01 16:22:09.943453  [Epoch 1] vali mean loss: 0.059202\n",
      "2018-12-01 16:22:09.945359  [Epoch 1] vali accuracy: 0.951289\n",
      "2018-12-01 16:22:09.947306  [Epoch 1] vali avg class acc: 0.800000\n",
      "2018-12-01 16:22:09.949142  [Epoch 1] vali indivisual [0] class recall: 1.000000\n",
      "2018-12-01 16:22:09.950830  [Epoch 1] vali indivisual [0] class precision: 1.000000\n",
      "2018-12-01 16:22:09.952736  [Epoch 1] vali indivisual [1] class recall: 1.000000\n",
      "2018-12-01 16:22:09.954493  [Epoch 1] vali indivisual [1] class precision: 0.960000\n",
      "2018-12-01 16:22:09.956114  [Epoch 1] vali indivisual [2] class recall: 0.909091\n",
      "2018-12-01 16:22:09.957763  [Epoch 1] vali indivisual [2] class precision: 1.000000\n",
      "2018-12-01 16:22:09.959404  [Epoch 1] vali indivisual [3] class recall: 1.000000\n",
      "2018-12-01 16:22:09.961045  [Epoch 1] vali indivisual [3] class precision: 1.000000\n",
      "2018-12-01 16:22:09.962655  [Epoch 1] vali indivisual [4] class recall: 1.000000\n",
      "2018-12-01 16:22:09.964279  [Epoch 1] vali indivisual [4] class precision: 1.000000\n",
      "2018-12-01 16:22:09.965896   Train one epoch   3 /  10\n"
     ]
    },
    {
     "name": "stderr",
     "output_type": "stream",
     "text": [
      "100%|██████████| 2124/2124 [04:35<00:00,  7.71it/s]\n"
     ]
    },
    {
     "name": "stdout",
     "output_type": "stream",
     "text": [
      "2018-12-01 16:26:46.762776  [Epoch 2] mean loss: 0.005286\n",
      "2018-12-01 16:26:46.764768  [Epoch 2] accuracy: 0.908362\n",
      "2018-12-01 16:26:46.766725  [Epoch 2] avg class acc: 0.908362\n",
      "2018-12-01 16:26:46.768780  [Epoch 2] indivisual [0] class recall: 0.989595\n",
      "2018-12-01 16:26:46.770584  [Epoch 2] indivisual [0] class precision: 0.988385\n",
      "2018-12-01 16:26:46.772303  [Epoch 2] indivisual [1] class recall: 0.885546\n",
      "2018-12-01 16:26:46.774195  [Epoch 2] indivisual [1] class precision: 0.870505\n",
      "2018-12-01 16:26:46.776029  [Epoch 2] indivisual [2] class recall: 0.893927\n",
      "2018-12-01 16:26:46.777759  [Epoch 2] indivisual [2] class precision: 0.887741\n",
      "2018-12-01 16:26:46.779450  [Epoch 2] indivisual [3] class recall: 0.911158\n",
      "2018-12-01 16:26:46.781039  [Epoch 2] indivisual [3] class precision: 0.894316\n",
      "2018-12-01 16:26:46.782633  [Epoch 2] indivisual [4] class recall: 0.861582\n",
      "2018-12-01 16:26:46.784309  [Epoch 2] indivisual [4] class precision: 0.901522\n",
      "2018-12-01 16:26:46.786008   Evaluation one (validation set) epoch   3 /  10\n"
     ]
    },
    {
     "name": "stderr",
     "output_type": "stream",
     "text": [
      "100%|██████████| 287/287 [00:06<00:00, 46.46it/s]\n"
     ]
    },
    {
     "name": "stdout",
     "output_type": "stream",
     "text": [
      "2018-12-01 16:26:53.243598  [Epoch 2] vali mean loss: 0.039123\n",
      "2018-12-01 16:26:53.245428  [Epoch 2] vali accuracy: 0.959443\n",
      "2018-12-01 16:26:53.247280  [Epoch 2] vali avg class acc: 0.400000\n",
      "2018-12-01 16:26:53.249162  [Epoch 2] vali indivisual [0] class recall: 1.000000\n",
      "2018-12-01 16:26:53.250853  [Epoch 2] vali indivisual [0] class precision: 1.000000\n",
      "2018-12-01 16:26:53.252634  [Epoch 2] vali indivisual [1] class recall: 0.964286\n",
      "2018-12-01 16:26:53.254267  [Epoch 2] vali indivisual [1] class precision: 0.964286\n",
      "2018-12-01 16:26:53.255820  [Epoch 2] vali indivisual [2] class recall: 0.857143\n",
      "2018-12-01 16:26:53.257354  [Epoch 2] vali indivisual [2] class precision: 0.857143\n",
      "2018-12-01 16:26:53.259057  [Epoch 2] vali indivisual [3] class recall: 1.000000\n",
      "2018-12-01 16:26:53.260779  [Epoch 2] vali indivisual [3] class precision: 0.923077\n",
      "2018-12-01 16:26:53.262400  [Epoch 2] vali indivisual [4] class recall: 0.500000\n",
      "2018-12-01 16:26:53.263986  [Epoch 2] vali indivisual [4] class precision: 1.000000\n",
      "2018-12-01 16:26:53.265614   Train one epoch   4 /  10\n"
     ]
    },
    {
     "name": "stderr",
     "output_type": "stream",
     "text": [
      "100%|██████████| 2124/2124 [04:35<00:00,  7.70it/s]\n"
     ]
    },
    {
     "name": "stdout",
     "output_type": "stream",
     "text": [
      "2018-12-01 16:31:30.351520  [Epoch 3] mean loss: 0.004413\n",
      "2018-12-01 16:31:30.353538  [Epoch 3] accuracy: 0.923597\n",
      "2018-12-01 16:31:30.355440  [Epoch 3] avg class acc: 0.923597\n",
      "2018-12-01 16:31:30.357169  [Epoch 3] indivisual [0] class recall: 0.991055\n",
      "2018-12-01 16:31:30.358872  [Epoch 3] indivisual [0] class precision: 0.989796\n",
      "2018-12-01 16:31:30.360597  [Epoch 3] indivisual [1] class recall: 0.901318\n",
      "2018-12-01 16:31:30.362249  [Epoch 3] indivisual [1] class precision: 0.891206\n",
      "2018-12-01 16:31:30.363892  [Epoch 3] indivisual [2] class recall: 0.912947\n",
      "2018-12-01 16:31:30.365611  [Epoch 3] indivisual [2] class precision: 0.904558\n",
      "2018-12-01 16:31:30.367207  [Epoch 3] indivisual [3] class recall: 0.928343\n",
      "2018-12-01 16:31:30.368865  [Epoch 3] indivisual [3] class precision: 0.917074\n",
      "2018-12-01 16:31:30.370408  [Epoch 3] indivisual [4] class recall: 0.884322\n",
      "2018-12-01 16:31:30.372175  [Epoch 3] indivisual [4] class precision: 0.915619\n",
      "2018-12-01 16:31:30.373976   Evaluation one (validation set) epoch   4 /  10\n"
     ]
    },
    {
     "name": "stderr",
     "output_type": "stream",
     "text": [
      "100%|██████████| 287/287 [00:06<00:00, 46.83it/s]\n"
     ]
    },
    {
     "name": "stdout",
     "output_type": "stream",
     "text": [
      "2018-12-01 16:31:36.789162  [Epoch 3] vali mean loss: 0.032661\n",
      "2018-12-01 16:31:36.791060  [Epoch 3] vali accuracy: 0.971707\n",
      "2018-12-01 16:31:36.792978  [Epoch 3] vali avg class acc: 1.000000\n",
      "2018-12-01 16:31:36.794693  [Epoch 3] vali indivisual [0] class recall: 1.000000\n",
      "2018-12-01 16:31:36.796488  [Epoch 3] vali indivisual [0] class precision: 1.000000\n",
      "2018-12-01 16:31:36.798161  [Epoch 3] vali indivisual [1] class recall: 1.000000\n",
      "2018-12-01 16:31:36.799808  [Epoch 3] vali indivisual [1] class precision: 1.000000\n",
      "2018-12-01 16:31:36.801378  [Epoch 3] vali indivisual [2] class recall: 1.000000\n",
      "2018-12-01 16:31:36.802918  [Epoch 3] vali indivisual [2] class precision: 1.000000\n",
      "2018-12-01 16:31:36.804557  [Epoch 3] vali indivisual [3] class recall: 1.000000\n",
      "2018-12-01 16:31:36.806115  [Epoch 3] vali indivisual [3] class precision: 1.000000\n",
      "2018-12-01 16:31:36.807616  [Epoch 3] vali indivisual [4] class recall: 1.000000\n",
      "2018-12-01 16:31:36.809031  [Epoch 3] vali indivisual [4] class precision: 1.000000\n",
      "2018-12-01 16:31:36.810498   Train one epoch   5 /  10\n"
     ]
    },
    {
     "name": "stderr",
     "output_type": "stream",
     "text": [
      "100%|██████████| 2124/2124 [04:35<00:00,  7.71it/s]\n"
     ]
    },
    {
     "name": "stdout",
     "output_type": "stream",
     "text": [
      "2018-12-01 16:36:13.710385  [Epoch 4] mean loss: 0.003403\n",
      "2018-12-01 16:36:13.712392  [Epoch 4] accuracy: 0.941949\n",
      "2018-12-01 16:36:13.714419  [Epoch 4] avg class acc: 0.941949\n",
      "2018-12-01 16:36:13.716131  [Epoch 4] indivisual [0] class recall: 0.994397\n",
      "2018-12-01 16:36:13.718015  [Epoch 4] indivisual [0] class precision: 0.993509\n",
      "2018-12-01 16:36:13.719656  [Epoch 4] indivisual [1] class recall: 0.925847\n",
      "2018-12-01 16:36:13.721340  [Epoch 4] indivisual [1] class precision: 0.918324\n",
      "2018-12-01 16:36:13.722919  [Epoch 4] indivisual [2] class recall: 0.942326\n",
      "2018-12-01 16:36:13.724651  [Epoch 4] indivisual [2] class precision: 0.931537\n",
      "2018-12-01 16:36:13.726257  [Epoch 4] indivisual [3] class recall: 0.942561\n",
      "2018-12-01 16:36:13.727983  [Epoch 4] indivisual [3] class precision: 0.933551\n",
      "2018-12-01 16:36:13.729794  [Epoch 4] indivisual [4] class recall: 0.904614\n",
      "2018-12-01 16:36:13.731678  [Epoch 4] indivisual [4] class precision: 0.932900\n",
      "2018-12-01 16:36:13.733455   Evaluation one (validation set) epoch   5 /  10\n"
     ]
    },
    {
     "name": "stderr",
     "output_type": "stream",
     "text": [
      "100%|██████████| 287/287 [00:06<00:00, 46.82it/s]\n"
     ]
    },
    {
     "name": "stdout",
     "output_type": "stream",
     "text": [
      "2018-12-01 16:36:20.130318  [Epoch 4] vali mean loss: 0.025182\n",
      "2018-12-01 16:36:20.132208  [Epoch 4] vali accuracy: 0.976237\n",
      "2018-12-01 16:36:20.134082  [Epoch 4] vali avg class acc: 1.000000\n",
      "2018-12-01 16:36:20.135939  [Epoch 4] vali indivisual [0] class recall: 1.000000\n",
      "2018-12-01 16:36:20.137834  [Epoch 4] vali indivisual [0] class precision: 1.000000\n",
      "2018-12-01 16:36:20.139684  [Epoch 4] vali indivisual [1] class recall: 1.000000\n",
      "2018-12-01 16:36:20.141561  [Epoch 4] vali indivisual [1] class precision: 1.000000\n",
      "2018-12-01 16:36:20.143253  [Epoch 4] vali indivisual [2] class recall: 1.000000\n",
      "2018-12-01 16:36:20.144779  [Epoch 4] vali indivisual [2] class precision: 1.000000\n",
      "2018-12-01 16:36:20.146321  [Epoch 4] vali indivisual [3] class recall: 1.000000\n",
      "2018-12-01 16:36:20.147961  [Epoch 4] vali indivisual [3] class precision: 1.000000\n",
      "2018-12-01 16:36:20.149547  [Epoch 4] vali indivisual [4] class recall: 1.000000\n",
      "2018-12-01 16:36:20.151082  [Epoch 4] vali indivisual [4] class precision: 1.000000\n",
      "2018-12-01 16:36:20.152724   Train one epoch   6 /  10\n"
     ]
    },
    {
     "name": "stderr",
     "output_type": "stream",
     "text": [
      "100%|██████████| 2124/2124 [04:35<00:00,  7.70it/s]\n"
     ]
    },
    {
     "name": "stdout",
     "output_type": "stream",
     "text": [
      "2018-12-01 16:40:57.219193  [Epoch 5] mean loss: 0.003031\n",
      "2018-12-01 16:40:57.221101  [Epoch 5] accuracy: 0.948493\n",
      "2018-12-01 16:40:57.223091  [Epoch 5] avg class acc: 0.948493\n",
      "2018-12-01 16:40:57.224864  [Epoch 5] indivisual [0] class recall: 0.995527\n",
      "2018-12-01 16:40:57.226501  [Epoch 5] indivisual [0] class precision: 0.994170\n",
      "2018-12-01 16:40:57.228380  [Epoch 5] indivisual [1] class recall: 0.932062\n",
      "2018-12-01 16:40:57.230191  [Epoch 5] indivisual [1] class precision: 0.928783\n",
      "2018-12-01 16:40:57.231880  [Epoch 5] indivisual [2] class recall: 0.948117\n",
      "2018-12-01 16:40:57.233630  [Epoch 5] indivisual [2] class precision: 0.936346\n",
      "2018-12-01 16:40:57.235269  [Epoch 5] indivisual [3] class recall: 0.948493\n",
      "2018-12-01 16:40:57.236980  [Epoch 5] indivisual [3] class precision: 0.944314\n",
      "2018-12-01 16:40:57.238641  [Epoch 5] indivisual [4] class recall: 0.918267\n",
      "2018-12-01 16:40:57.240316  [Epoch 5] indivisual [4] class precision: 0.938821\n",
      "2018-12-01 16:40:57.242142   Evaluation one (validation set) epoch   6 /  10\n"
     ]
    },
    {
     "name": "stderr",
     "output_type": "stream",
     "text": [
      "100%|██████████| 287/287 [00:06<00:00, 44.66it/s]\n"
     ]
    },
    {
     "name": "stdout",
     "output_type": "stream",
     "text": [
      "2018-12-01 16:41:03.932849  [Epoch 5] vali mean loss: 0.022428\n",
      "2018-12-01 16:41:03.934589  [Epoch 5] vali accuracy: 0.985296\n",
      "2018-12-01 16:41:03.936556  [Epoch 5] vali avg class acc: 0.800000\n",
      "2018-12-01 16:41:03.938582  [Epoch 5] vali indivisual [0] class recall: 1.000000\n",
      "2018-12-01 16:41:03.940565  [Epoch 5] vali indivisual [0] class precision: 1.000000\n",
      "2018-12-01 16:41:03.942393  [Epoch 5] vali indivisual [1] class recall: 0.916667\n",
      "2018-12-01 16:41:03.944058  [Epoch 5] vali indivisual [1] class precision: 1.000000\n",
      "2018-12-01 16:41:03.945803  [Epoch 5] vali indivisual [2] class recall: 1.000000\n",
      "2018-12-01 16:41:03.947476  [Epoch 5] vali indivisual [2] class precision: 0.800000\n",
      "2018-12-01 16:41:03.949428  [Epoch 5] vali indivisual [3] class recall: 1.000000\n",
      "2018-12-01 16:41:03.951161  [Epoch 5] vali indivisual [3] class precision: 1.000000\n",
      "2018-12-01 16:41:03.952862  [Epoch 5] vali indivisual [4] class recall: 1.000000\n",
      "2018-12-01 16:41:03.954528  [Epoch 5] vali indivisual [4] class precision: 1.000000\n",
      "2018-12-01 16:41:03.956214   Train one epoch   7 /  10\n"
     ]
    },
    {
     "name": "stderr",
     "output_type": "stream",
     "text": [
      "100%|██████████| 2124/2124 [04:35<00:00,  7.71it/s]\n"
     ]
    },
    {
     "name": "stdout",
     "output_type": "stream",
     "text": [
      "2018-12-01 16:45:40.867297  [Epoch 6] mean loss: 0.002577\n",
      "2018-12-01 16:45:40.871709  [Epoch 6] accuracy: 0.956092\n",
      "2018-12-01 16:45:40.873751  [Epoch 6] avg class acc: 0.956092\n",
      "2018-12-01 16:45:40.875393  [Epoch 6] indivisual [0] class recall: 0.995716\n",
      "2018-12-01 16:45:40.877192  [Epoch 6] indivisual [0] class precision: 0.995903\n",
      "2018-12-01 16:45:40.878899  [Epoch 6] indivisual [1] class recall: 0.945574\n",
      "2018-12-01 16:45:40.880504  [Epoch 6] indivisual [1] class precision: 0.938461\n",
      "2018-12-01 16:45:40.882183  [Epoch 6] indivisual [2] class recall: 0.958804\n",
      "2018-12-01 16:45:40.883773  [Epoch 6] indivisual [2] class precision: 0.950791\n",
      "2018-12-01 16:45:40.885471  [Epoch 6] indivisual [3] class recall: 0.955320\n",
      "2018-12-01 16:45:40.887012  [Epoch 6] indivisual [3] class precision: 0.949731\n",
      "2018-12-01 16:45:40.888750  [Epoch 6] indivisual [4] class recall: 0.925047\n",
      "2018-12-01 16:45:40.890409  [Epoch 6] indivisual [4] class precision: 0.945570\n",
      "2018-12-01 16:45:40.892061   Evaluation one (validation set) epoch   7 /  10\n"
     ]
    },
    {
     "name": "stderr",
     "output_type": "stream",
     "text": [
      "100%|██████████| 287/287 [00:06<00:00, 46.85it/s]\n"
     ]
    },
    {
     "name": "stdout",
     "output_type": "stream",
     "text": [
      "2018-12-01 16:45:47.286111  [Epoch 6] vali mean loss: 0.019070\n",
      "2018-12-01 16:45:47.287808  [Epoch 6] vali accuracy: 0.979164\n",
      "2018-12-01 16:45:47.289644  [Epoch 6] vali avg class acc: 0.800000\n",
      "2018-12-01 16:45:47.291328  [Epoch 6] vali indivisual [1] class recall: 1.000000\n",
      "2018-12-01 16:45:47.292930  [Epoch 6] vali indivisual [1] class precision: 1.000000\n",
      "2018-12-01 16:45:47.294714  [Epoch 6] vali indivisual [2] class recall: 1.000000\n",
      "2018-12-01 16:45:47.296396  [Epoch 6] vali indivisual [2] class precision: 1.000000\n",
      "2018-12-01 16:45:47.297960  [Epoch 6] vali indivisual [3] class recall: 1.000000\n",
      "2018-12-01 16:45:47.299555  [Epoch 6] vali indivisual [3] class precision: 1.000000\n",
      "2018-12-01 16:45:47.301152  [Epoch 6] vali indivisual [4] class recall: 1.000000\n",
      "2018-12-01 16:45:47.302634  [Epoch 6] vali indivisual [4] class precision: 1.000000\n",
      "2018-12-01 16:45:47.304145   Train one epoch   8 /  10\n"
     ]
    },
    {
     "name": "stderr",
     "output_type": "stream",
     "text": [
      "100%|██████████| 2124/2124 [04:35<00:00,  7.72it/s]\n"
     ]
    },
    {
     "name": "stdout",
     "output_type": "stream",
     "text": [
      "2018-12-01 16:50:23.665818  [Epoch 7] mean loss: 0.002348\n",
      "2018-12-01 16:50:23.668038  [Epoch 7] accuracy: 0.960829\n",
      "2018-12-01 16:50:23.670272  [Epoch 7] avg class acc: 0.960829\n",
      "2018-12-01 16:50:23.671953  [Epoch 7] indivisual [0] class recall: 0.996563\n",
      "2018-12-01 16:50:23.673564  [Epoch 7] indivisual [0] class precision: 0.996282\n",
      "2018-12-01 16:50:23.675190  [Epoch 7] indivisual [1] class recall: 0.950565\n",
      "2018-12-01 16:50:23.676872  [Epoch 7] indivisual [1] class precision: 0.945225\n",
      "2018-12-01 16:50:23.678485  [Epoch 7] indivisual [2] class recall: 0.964030\n",
      "2018-12-01 16:50:23.680082  [Epoch 7] indivisual [2] class precision: 0.956286\n",
      "2018-12-01 16:50:23.681728  [Epoch 7] indivisual [3] class recall: 0.959275\n",
      "2018-12-01 16:50:23.683218  [Epoch 7] indivisual [3] class precision: 0.956393\n",
      "2018-12-01 16:50:23.684902  [Epoch 7] indivisual [4] class recall: 0.933710\n",
      "2018-12-01 16:50:23.686492  [Epoch 7] indivisual [4] class precision: 0.949899\n",
      "2018-12-01 16:50:23.688088   Evaluation one (validation set) epoch   8 /  10\n"
     ]
    },
    {
     "name": "stderr",
     "output_type": "stream",
     "text": [
      "100%|██████████| 287/287 [00:06<00:00, 45.34it/s]\n"
     ]
    },
    {
     "name": "stdout",
     "output_type": "stream",
     "text": [
      "2018-12-01 16:50:30.283153  [Epoch 7] vali mean loss: 0.017379\n",
      "2018-12-01 16:50:30.285164  [Epoch 7] vali accuracy: 0.974774\n",
      "2018-12-01 16:50:30.287258  [Epoch 7] vali avg class acc: 0.800000\n",
      "2018-12-01 16:50:30.289234  [Epoch 7] vali indivisual [0] class recall: 1.000000\n",
      "2018-12-01 16:50:30.290949  [Epoch 7] vali indivisual [0] class precision: 0.500000\n",
      "2018-12-01 16:50:30.292687  [Epoch 7] vali indivisual [1] class recall: 0.920000\n",
      "2018-12-01 16:50:30.294361  [Epoch 7] vali indivisual [1] class precision: 1.000000\n",
      "2018-12-01 16:50:30.296072  [Epoch 7] vali indivisual [2] class recall: 1.000000\n",
      "2018-12-01 16:50:30.297710  [Epoch 7] vali indivisual [2] class precision: 0.916667\n",
      "2018-12-01 16:50:30.299272  [Epoch 7] vali indivisual [3] class recall: 1.000000\n",
      "2018-12-01 16:50:30.301008  [Epoch 7] vali indivisual [3] class precision: 1.000000\n",
      "2018-12-01 16:50:30.302663  [Epoch 7] vali indivisual [4] class recall: 1.000000\n",
      "2018-12-01 16:50:30.304387  [Epoch 7] vali indivisual [4] class precision: 1.000000\n",
      "2018-12-01 16:50:30.305956   Train one epoch   9 /  10\n"
     ]
    },
    {
     "name": "stderr",
     "output_type": "stream",
     "text": [
      "100%|██████████| 2124/2124 [04:35<00:00,  7.70it/s]\n"
     ]
    },
    {
     "name": "stdout",
     "output_type": "stream",
     "text": [
      "2018-12-01 16:55:07.310182  [Epoch 8] mean loss: 0.002113\n",
      "2018-12-01 16:55:07.312219  [Epoch 8] accuracy: 0.964878\n",
      "2018-12-01 16:55:07.314351  [Epoch 8] avg class acc: 0.964878\n",
      "2018-12-01 16:55:07.319412  [Epoch 8] indivisual [0] class recall: 0.997175\n",
      "2018-12-01 16:55:07.322901  [Epoch 8] indivisual [0] class precision: 0.997551\n",
      "2018-12-01 16:55:07.324704  [Epoch 8] indivisual [1] class recall: 0.956215\n",
      "2018-12-01 16:55:07.326355  [Epoch 8] indivisual [1] class precision: 0.949243\n",
      "2018-12-01 16:55:07.328002  [Epoch 8] indivisual [2] class recall: 0.968409\n",
      "2018-12-01 16:55:07.329516  [Epoch 8] indivisual [2] class precision: 0.961258\n",
      "2018-12-01 16:55:07.331000  [Epoch 8] indivisual [3] class recall: 0.963136\n",
      "2018-12-01 16:55:07.332561  [Epoch 8] indivisual [3] class precision: 0.959387\n",
      "2018-12-01 16:55:07.334072  [Epoch 8] indivisual [4] class recall: 0.939454\n",
      "2018-12-01 16:55:07.335508  [Epoch 8] indivisual [4] class precision: 0.956980\n",
      "2018-12-01 16:55:07.336955   Evaluation one (validation set) epoch   9 /  10\n"
     ]
    },
    {
     "name": "stderr",
     "output_type": "stream",
     "text": [
      "100%|██████████| 287/287 [00:06<00:00, 46.84it/s]\n"
     ]
    },
    {
     "name": "stdout",
     "output_type": "stream",
     "text": [
      "2018-12-01 16:55:13.732744  [Epoch 8] vali mean loss: 0.015635\n",
      "2018-12-01 16:55:13.734803  [Epoch 8] vali accuracy: 0.988223\n",
      "2018-12-01 16:55:13.736775  [Epoch 8] vali avg class acc: 0.800000\n",
      "2018-12-01 16:55:13.738470  [Epoch 8] vali indivisual [0] class recall: 1.000000\n",
      "2018-12-01 16:55:13.740118  [Epoch 8] vali indivisual [0] class precision: 1.000000\n",
      "2018-12-01 16:55:13.741752  [Epoch 8] vali indivisual [1] class recall: 0.935484\n",
      "2018-12-01 16:55:13.743300  [Epoch 8] vali indivisual [1] class precision: 1.000000\n",
      "2018-12-01 16:55:13.745013  [Epoch 8] vali indivisual [2] class recall: 1.000000\n",
      "2018-12-01 16:55:13.746625  [Epoch 8] vali indivisual [2] class precision: 0.833333\n",
      "2018-12-01 16:55:13.748245  [Epoch 8] vali indivisual [3] class recall: 1.000000\n",
      "2018-12-01 16:55:13.749875  [Epoch 8] vali indivisual [3] class precision: 1.000000\n",
      "2018-12-01 16:55:13.751396  [Epoch 8] vali indivisual [4] class recall: 1.000000\n",
      "2018-12-01 16:55:13.752981  [Epoch 8] vali indivisual [4] class precision: 0.833333\n",
      "2018-12-01 16:55:13.754440   Train one epoch  10 /  10\n"
     ]
    },
    {
     "name": "stderr",
     "output_type": "stream",
     "text": [
      "100%|██████████| 2124/2124 [04:35<00:00,  7.72it/s]\n"
     ]
    },
    {
     "name": "stdout",
     "output_type": "stream",
     "text": [
      "2018-12-01 16:59:50.311166  [Epoch 9] mean loss: 0.002089\n",
      "2018-12-01 16:59:50.313192  [Epoch 9] accuracy: 0.964868\n",
      "2018-12-01 16:59:50.315214  [Epoch 9] avg class acc: 0.964868\n",
      "2018-12-01 16:59:50.317072  [Epoch 9] indivisual [0] class recall: 0.997552\n",
      "2018-12-01 16:59:50.319002  [Epoch 9] indivisual [0] class precision: 0.996801\n",
      "2018-12-01 16:59:50.320893  [Epoch 9] indivisual [1] class recall: 0.957109\n",
      "2018-12-01 16:59:50.322580  [Epoch 9] indivisual [1] class precision: 0.951777\n",
      "2018-12-01 16:59:50.324189  [Epoch 9] indivisual [2] class recall: 0.967232\n",
      "2018-12-01 16:59:50.325849  [Epoch 9] indivisual [2] class precision: 0.961798\n",
      "2018-12-01 16:59:50.329189  [Epoch 9] indivisual [3] class precision: 0.960225\n",
      "2018-12-01 16:59:50.327415  [Epoch 9] indivisual [3] class recall: 0.962712\n",
      "2018-12-01 16:59:50.330869  [Epoch 9] indivisual [4] class recall: 0.939736\n",
      "2018-12-01 16:59:50.342918  [Epoch 9] indivisual [4] class precision: 0.953655\n",
      "2018-12-01 16:59:50.344840   Evaluation one (validation set) epoch  10 /  10\n"
     ]
    },
    {
     "name": "stderr",
     "output_type": "stream",
     "text": [
      "100%|██████████| 287/287 [00:06<00:00, 45.01it/s]\n"
     ]
    },
    {
     "name": "stdout",
     "output_type": "stream",
     "text": [
      "2018-12-01 16:59:57.006899  [Epoch 9] vali mean loss: 0.015458\n",
      "2018-12-01 16:59:57.009135  [Epoch 9] vali accuracy: 0.988920\n",
      "2018-12-01 16:59:57.011085  [Epoch 9] vali avg class acc: 0.800000\n",
      "2018-12-01 16:59:57.012781  [Epoch 9] vali indivisual [1] class recall: 1.000000\n",
      "2018-12-01 16:59:57.014393  [Epoch 9] vali indivisual [1] class precision: 1.000000\n",
      "2018-12-01 16:59:57.015970  [Epoch 9] vali indivisual [2] class recall: 1.000000\n",
      "2018-12-01 16:59:57.017570  [Epoch 9] vali indivisual [2] class precision: 1.000000\n",
      "2018-12-01 16:59:57.019123  [Epoch 9] vali indivisual [3] class recall: 1.000000\n",
      "2018-12-01 16:59:57.020946  [Epoch 9] vali indivisual [3] class precision: 1.000000\n",
      "2018-12-01 16:59:57.022637  [Epoch 9] vali indivisual [4] class recall: 1.000000\n",
      "2018-12-01 16:59:57.024356  [Epoch 9] vali indivisual [4] class precision: 1.000000\n",
      "2018-12-01 16:59:57.501531  Model saved in file: /home/gozilla/kyungpyo/git/MasterThesisProject/Network/notebook/train_log_20181201/model_opt5/model.ckpt\n"
     ]
    }
   ],
   "source": [
    "\"\"\" Import model \"\"\"\n",
    "sys.path.append( os.path.abspath('../../model') )\n",
    "\n",
    "from train import *\n",
    "import model_opt5 as MODEL\n",
    "\n",
    "def run_training(out_path):\n",
    "    \"\"\" Path \"\"\"\n",
    "    model_save_path = os.path.abspath(out_path)\n",
    "    if not os.path.isdir(model_save_path) : os.mkdir(model_save_path)\n",
    "    log_path = os.path.abspath(os.path.join(model_save_path, 'train_log.txt') )\n",
    "        \n",
    "    \"\"\" Parameters \"\"\"\n",
    "    GPU_INDEX = 0\n",
    "    NUM_POINT = 1024\n",
    "    NUM_CLASSES = 5\n",
    "\n",
    "    BN_INIT_DECAY = 0.5\n",
    "    BN_DECAY_DECAY_RATE = 0.5\n",
    "    BN_DECAY_DECAY_STEP = float(200000)\n",
    "    BN_DECAY_CLIP = 0.99\n",
    "    DECAY_STEP = BN_DECAY_DECAY_STEP\n",
    "    DECAY_RATE = BN_DECAY_DECAY_RATE\n",
    "\n",
    "    BATCH_SIZE = 50\n",
    "\n",
    "    MOMENTUM = 0.9\n",
    "\n",
    "    BASE_LEARNING_RATE = 0.001\n",
    "\n",
    "    OPTIMIZER = 'adam'\n",
    "\n",
    "    MAX_EPOCH = 10\n",
    "\n",
    "    \"\"\" log file \"\"\"\n",
    "    LOG_FOUT = open(log_path, 'w')\n",
    "\n",
    "    def log_string(out_str):\n",
    "        out_str = str( datetime.datetime.fromtimestamp( time.time() ) ) + \"  \" + out_str\n",
    "        LOG_FOUT.write(out_str+'\\n')\n",
    "        LOG_FOUT.flush()\n",
    "        print(out_str)\n",
    "\n",
    "\n",
    "    def get_learning_rate(batch):\n",
    "        learning_rate = tf.train.exponential_decay(\n",
    "                            BASE_LEARNING_RATE,  # Base learning rate.\n",
    "                            batch * BATCH_SIZE,  # Current index into the dataset.\n",
    "                            DECAY_STEP,          # Decay step.\n",
    "                            DECAY_RATE,          # Decay rate.\n",
    "                            staircase=True)\n",
    "        learning_rate = tf.maximum(learning_rate, 0.00001) # CLIP THE LEARNING RATE!\n",
    "        return learning_rate        \n",
    "\n",
    "    def get_bn_decay(batch):\n",
    "        bn_momentum = tf.train.exponential_decay(\n",
    "                          BN_INIT_DECAY,\n",
    "                          batch * BATCH_SIZE,\n",
    "                          BN_DECAY_DECAY_STEP,\n",
    "                          BN_DECAY_DECAY_RATE,\n",
    "                          staircase=True)\n",
    "        bn_decay = tf.minimum(BN_DECAY_CLIP, 1 - bn_momentum)\n",
    "        return bn_decay\n",
    "\n",
    "    \"\"\" load traing model \"\"\"\n",
    "    with tf.Graph().as_default():\n",
    "        with tf.device('/gpu:'+str(GPU_INDEX)):\n",
    "            pointclouds_pl, labels_pl = MODEL.placeholder_inputs(BATCH_SIZE, NUM_POINT)\n",
    "            is_training_pl = tf.placeholder(tf.bool, shape=())\n",
    "            print(is_training_pl)\n",
    "\n",
    "            # Note the global_step=batch parameter to minimize. \n",
    "            # That tells the optimizer to helpfully increment the 'batch' parameter for you every time it trains.\n",
    "            batch = tf.Variable(0)\n",
    "            bn_decay = get_bn_decay(batch)\n",
    "            tf.summary.scalar('bn_decay', bn_decay)\n",
    "\n",
    "            # Get model and loss \n",
    "            pred, end_points = MODEL.get_model(pointclouds_pl, is_training_pl, bn_decay=bn_decay)\n",
    "            loss = MODEL.get_loss(pred, labels_pl, end_points)\n",
    "            tf.summary.scalar('loss', loss)\n",
    "\n",
    "            correct = tf.equal(tf.argmax(pred, 1), tf.to_int64(labels_pl))\n",
    "            accuracy = tf.reduce_sum(tf.cast(correct, tf.float32)) / float(BATCH_SIZE)\n",
    "            tf.summary.scalar('accuracy', accuracy)\n",
    "\n",
    "            # Get training operator\n",
    "            learning_rate = get_learning_rate(batch)\n",
    "            tf.summary.scalar('learning_rate', learning_rate)\n",
    "            if OPTIMIZER == 'momentum':\n",
    "                optimizer = tf.train.MomentumOptimizer(learning_rate, momentum=MOMENTUM)\n",
    "            elif OPTIMIZER == 'adam':\n",
    "                optimizer = tf.train.AdamOptimizer(learning_rate)\n",
    "            train_op = optimizer.minimize(loss, global_step=batch)\n",
    "\n",
    "            # Add ops to save and restore all the variables.\n",
    "            saver = tf.train.Saver()\n",
    "\n",
    "        # Create a session\n",
    "        config = tf.ConfigProto()\n",
    "        config.gpu_options.allow_growth = True\n",
    "        config.allow_soft_placement = True\n",
    "        config.log_device_placement = False\n",
    "        sess = tf.Session(config=config)\n",
    "\n",
    "        # Add summary writers\n",
    "        #merged = tf.merge_all_summaries()\n",
    "        merged = tf.summary.merge_all()\n",
    "\n",
    "        train_writer_path = os.path.abspath( os.path.join(model_save_path, 'train') )\n",
    "        if os.path.isdir(train_writer_path): os.system('rm -r {}'.format(train_writer_path))\n",
    "        os.mkdir(train_writer_path)\n",
    "\n",
    "        test_writer_path = os.path.abspath( os.path.join(model_save_path, 'test') )\n",
    "        if os.path.isdir(test_writer_path): os.system('rm -r {}'.format(test_writer_path))\n",
    "        os.mkdir(test_writer_path)\n",
    "\n",
    "\n",
    "        train_writer = tf.summary.FileWriter(train_writer_path, sess.graph)\n",
    "        test_writer = tf.summary.FileWriter(test_writer_path)\n",
    "\n",
    "\n",
    "        # Init variables\n",
    "        init = tf.global_variables_initializer()\n",
    "        # To fix the bug introduced in TF 0.12.1 as in\n",
    "        # http://stackoverflow.com/questions/41543774/invalidargumenterror-for-tensor-bool-tensorflow-0-12-1\n",
    "        #sess.run(init)\n",
    "        sess.run(init, {is_training_pl: True})\n",
    "\n",
    "        ops = {'pointclouds_pl': pointclouds_pl,\n",
    "               'labels_pl': labels_pl,\n",
    "               'is_training_pl': is_training_pl,\n",
    "               'pred': pred,\n",
    "               'loss': loss,\n",
    "               'train_op': train_op,\n",
    "               'merged': merged,\n",
    "               'step': batch}\n",
    "\n",
    "\n",
    "        for epoch in range(MAX_EPOCH):\n",
    "\n",
    "            ## Training\n",
    "            log_string ( \" Train one epoch %3d / %3d\" % (epoch+1, MAX_EPOCH) )\n",
    "            sys.stdout.flush()\n",
    "\n",
    "            is_training = True\n",
    "\n",
    "            # Shuffle train files\n",
    "            train_file_idxs = np.arange(0, data_train.shape[0])\n",
    "            np.random.shuffle(train_file_idxs)\n",
    "\n",
    "            current_data = data_train[train_file_idxs] \n",
    "            current_label = label_train[train_file_idxs]\n",
    "            current_label.reshape((data_train.shape[0],))\n",
    "\n",
    "            ## Evaluation metric\n",
    "            total_correct = 0\n",
    "            total_seen = 0\n",
    "            loss_sum = 0\n",
    "\n",
    "            total_class = [0 for _ in range(NUM_CLASSES)]\n",
    "            total_detect_class = [0 for _ in range(NUM_CLASSES)]\n",
    "            total_correct_class = [0 for _ in range(NUM_CLASSES)]\n",
    "\n",
    "            num_batches = current_data.shape[0] // BATCH_SIZE\n",
    "\n",
    "            for batch_idx in trange(num_batches):\n",
    "\n",
    "                start_idx = batch_idx * BATCH_SIZE\n",
    "                end_idx = (batch_idx+1) * BATCH_SIZE           \n",
    "\n",
    "                # Augment batched point clouds by rotation and jittering\n",
    "                rotated_data = provider.rotate_point_cloud(current_data[start_idx:end_idx, :, :])\n",
    "                jittered_data = provider.jitter_point_cloud(rotated_data)\n",
    "\n",
    "                # Reashape\n",
    "                current_label_reshape = current_label[start_idx:end_idx].reshape((BATCH_SIZE,))\n",
    "\n",
    "                feed_dict = {ops['pointclouds_pl']: jittered_data,\n",
    "                             ops['labels_pl']: current_label_reshape,\n",
    "                             ops['is_training_pl']: is_training,}\n",
    "\n",
    "                summary, step, _, loss_val, pred_val = sess.run([ops['merged'], ops['step'],\n",
    "                    ops['train_op'], ops['loss'], ops['pred']], feed_dict=feed_dict)\n",
    "\n",
    "                train_writer.add_summary(summary, step)\n",
    "\n",
    "                pred_val = np.argmax(pred_val, 1)\n",
    "                correct = np.sum(pred_val == current_label_reshape)\n",
    "                total_correct += correct\n",
    "                total_seen += BATCH_SIZE\n",
    "                loss_sum += loss_val\n",
    "\n",
    "                for i in range(NUM_CLASSES):\n",
    "                    total_class[i] += np.sum( np.ones(BATCH_SIZE) * i == current_label_reshape )\n",
    "                    total_detect_class[i] += np.sum( np.ones(BATCH_SIZE) * i == pred_val )\n",
    "                    total_correct_class[i] += np.sum( (np.ones(BATCH_SIZE) * i == current_label_reshape) * \\\n",
    "                                                        (np.ones(BATCH_SIZE) * i == pred_val) )\n",
    "\n",
    "            log_string(  '[Epoch %d] mean loss: %f' % \\\n",
    "                       (  epoch, loss_sum / float(total_seen)  )   )\n",
    "            log_string(  '[Epoch %d] accuracy: %f'% \\\n",
    "                       (  epoch, total_correct / float(total_seen)  )   )\n",
    "            log_string(  '[Epoch %d] avg class acc: %f' % \\\n",
    "                       (  epoch, np.mean( np.array(total_correct_class)/np.array(total_class,dtype=np.float) )  )   )\n",
    "\n",
    "            for i_cls in range(NUM_CLASSES):\n",
    "                if not float(total_class[i_cls]) == 0:\n",
    "                    log_string(  '[Epoch %d] indivisual [%d] class recall: %f' % \\\n",
    "                           (  epoch, i_cls, float(total_correct_class[i_cls])/float(total_class[i_cls])))    \n",
    "                if not float(total_detect_class[i_cls]) == 0:\n",
    "                    log_string(  '[Epoch %d] indivisual [%d] class precision: %f' % \\\n",
    "                           (  epoch, i_cls, float(total_correct_class[i_cls])/float(total_detect_class[i_cls])))    \n",
    "\n",
    "\n",
    "            ## Evaluation using validation set    \n",
    "            log_string ( \" Evaluation one (validation set) epoch %3d / %3d\" % (epoch+1, MAX_EPOCH) )\n",
    "            sys.stdout.flush()\n",
    "\n",
    "            is_training = False\n",
    "            total_correct = 0\n",
    "            total_seen = 0\n",
    "            total_seen_class = [0 for _ in range(NUM_CLASSES)]\n",
    "            total_correct_class = [0 for _ in range(NUM_CLASSES)]\n",
    "            total_detect_class = [0 for _ in range(NUM_CLASSES)]\n",
    "            total_detect_true_class = [0 for _ in range(NUM_CLASSES)]\n",
    "\n",
    "            # Shuffle validation files\n",
    "            file_idxs = np.arange(0, data_vali.shape[0])\n",
    "            np.random.shuffle(file_idxs)\n",
    "\n",
    "            current_data = data_vali[file_idxs]\n",
    "            current_label = label_vali[file_idxs]\n",
    "\n",
    "            num_batches = current_data.shape[0] // BATCH_SIZE\n",
    "\n",
    "            for batch_idx in trange(num_batches):\n",
    " \n",
    "                start_idx = batch_idx * BATCH_SIZE\n",
    "                end_idx = (batch_idx+1) * BATCH_SIZE\n",
    "\n",
    "                # Reashape\n",
    "                current_label_reshape = current_label[start_idx:end_idx].reshape((BATCH_SIZE,))\n",
    "\n",
    "                feed_dict = {ops['pointclouds_pl']: current_data[start_idx:end_idx, :, :],\n",
    "                             ops['labels_pl']: current_label_reshape,\n",
    "                             ops['is_training_pl']: is_training}\n",
    "                summary, step, loss_val, pred_val = sess.run([ops['merged'], ops['step'],\n",
    "                    ops['loss'], ops['pred']], feed_dict=feed_dict)\n",
    "\n",
    "                # test_writer.add_summary(summary, step)\n",
    "\n",
    "                pred_val = np.argmax(pred_val, 1)\n",
    "                correct = np.sum(pred_val == current_label_reshape)\n",
    "                total_correct += correct\n",
    "                total_seen += BATCH_SIZE\n",
    "\n",
    "                for i in range(NUM_CLASSES):\n",
    "                    total_class[i] = np.sum( np.ones(BATCH_SIZE) * i == current_label_reshape )\n",
    "                    total_detect_class[i] = np.sum( np.ones(BATCH_SIZE) * i == pred_val )\n",
    "                    total_correct_class[i] = np.sum( (np.ones(BATCH_SIZE) * i == current_label_reshape) * \\\n",
    "                                                        (np.ones(BATCH_SIZE) * i == pred_val) )\n",
    "\n",
    "            log_string(  '[Epoch %d] vali mean loss: %f' % \\\n",
    "                       (  epoch, loss_sum / float(total_seen)  )   )\n",
    "            log_string(  '[Epoch %d] vali accuracy: %f'% \\\n",
    "                       (  epoch, total_correct / float(total_seen)  )   )\n",
    "            log_string(  '[Epoch %d] vali avg class acc: %f' % \\\n",
    "                       (  epoch, np.mean( np.array(total_correct_class) / np.array(total_class) )  )   )\n",
    "\n",
    "            for i_cls in range(NUM_CLASSES):\n",
    "                if not float(total_class[i_cls]) == 0:\n",
    "                    log_string(  '[Epoch %d] vali indivisual [%d] class recall: %f' % \\\n",
    "                           (  epoch, i_cls, float(total_correct_class[i_cls])/float(total_class[i_cls])))    \n",
    "                if not float(total_detect_class[i_cls]) == 0:\n",
    "                    log_string(  '[Epoch %d] vali indivisual [%d] class precision: %f' % \\\n",
    "                           (  epoch, i_cls, float(total_correct_class[i_cls])/float(total_detect_class[i_cls])))    \n",
    "\n",
    "\n",
    "            # Save the variables to disk.\n",
    "            if ( epoch + 1 ) % 10 == 0:\n",
    "                save_path = saver.save(sess, os.path.join(model_save_path, \"model.ckpt\"))\n",
    "                log_string(\"Model saved in file: %s\" % save_path)\n",
    "\n",
    "# option 1: execute code with extra process\n",
    "p = multiprocessing.Process(target=run_training, args = ('./model_opt5',))\n",
    "p.start()\n",
    "p.join()"
   ]
  },
  {
   "cell_type": "code",
   "execution_count": 6,
   "metadata": {},
   "outputs": [
    {
     "name": "stdout",
     "output_type": "stream",
     "text": [
      "Tensor(\"Placeholder_2:0\", shape=(), dtype=bool, device=/device:GPU:0)\n",
      "INFO:tensorflow:Summary name classify loss is illegal; using classify_loss instead.\n",
      "INFO:tensorflow:Summary name mat loss is illegal; using mat_loss instead.\n",
      "2018-12-01 17:00:03.894728   Train one epoch   1 /  10\n"
     ]
    },
    {
     "name": "stderr",
     "output_type": "stream",
     "text": [
      "100%|██████████| 2124/2124 [08:19<00:00,  4.26it/s]\n"
     ]
    },
    {
     "name": "stdout",
     "output_type": "stream",
     "text": [
      "2018-12-01 17:08:24.353205  [Epoch 0] mean loss: 0.014799\n",
      "2018-12-01 17:08:24.355220  [Epoch 0] accuracy: 0.704369\n",
      "2018-12-01 17:08:24.357247  [Epoch 0] avg class acc: 0.704369\n",
      "2018-12-01 17:08:24.359085  [Epoch 0] indivisual [0] class recall: 0.943456\n",
      "2018-12-01 17:08:24.360962  [Epoch 0] indivisual [0] class precision: 0.938551\n",
      "2018-12-01 17:08:24.362868  [Epoch 0] indivisual [1] class recall: 0.659934\n",
      "2018-12-01 17:08:24.364851  [Epoch 0] indivisual [1] class precision: 0.605042\n",
      "2018-12-01 17:08:24.366603  [Epoch 0] indivisual [2] class recall: 0.550235\n",
      "2018-12-01 17:08:24.368240  [Epoch 0] indivisual [2] class precision: 0.624439\n",
      "2018-12-01 17:08:24.369905  [Epoch 0] indivisual [3] class recall: 0.656215\n",
      "2018-12-01 17:08:24.371468  [Epoch 0] indivisual [3] class precision: 0.641565\n",
      "2018-12-01 17:08:24.373051  [Epoch 0] indivisual [4] class recall: 0.712006\n",
      "2018-12-01 17:08:24.374620  [Epoch 0] indivisual [4] class precision: 0.711972\n",
      "2018-12-01 17:08:24.376211   Evaluation one (validation set) epoch   1 /  10\n"
     ]
    },
    {
     "name": "stderr",
     "output_type": "stream",
     "text": [
      "100%|██████████| 287/287 [00:15<00:00, 18.32it/s]\n"
     ]
    },
    {
     "name": "stdout",
     "output_type": "stream",
     "text": [
      "2018-12-01 17:08:40.314794  [Epoch 0] vali mean loss: 0.109524\n",
      "2018-12-01 17:08:40.316801  [Epoch 0] vali accuracy: 0.778955\n",
      "2018-12-01 17:08:40.318817  [Epoch 0] vali avg class acc: 0.000000\n",
      "2018-12-01 17:08:40.320675  [Epoch 0] vali indivisual [1] class recall: 0.708333\n",
      "2018-12-01 17:08:40.322527  [Epoch 0] vali indivisual [1] class precision: 0.894737\n",
      "2018-12-01 17:08:40.324308  [Epoch 0] vali indivisual [2] class recall: 0.777778\n",
      "2018-12-01 17:08:40.326039  [Epoch 0] vali indivisual [2] class precision: 0.875000\n",
      "2018-12-01 17:08:40.327713  [Epoch 0] vali indivisual [3] class recall: 0.555556\n",
      "2018-12-01 17:08:40.329317  [Epoch 0] vali indivisual [3] class precision: 0.384615\n",
      "2018-12-01 17:08:40.330839  [Epoch 0] vali indivisual [4] class recall: 0.750000\n",
      "2018-12-01 17:08:40.332455  [Epoch 0] vali indivisual [4] class precision: 0.600000\n",
      "2018-12-01 17:08:40.334022   Train one epoch   2 /  10\n"
     ]
    },
    {
     "name": "stderr",
     "output_type": "stream",
     "text": [
      "100%|██████████| 2124/2124 [08:17<00:00,  4.27it/s]\n"
     ]
    },
    {
     "name": "stdout",
     "output_type": "stream",
     "text": [
      "2018-12-01 17:16:59.407616  [Epoch 1] mean loss: 0.008750\n",
      "2018-12-01 17:16:59.409602  [Epoch 1] accuracy: 0.841412\n",
      "2018-12-01 17:16:59.411468  [Epoch 1] avg class acc: 0.841412\n",
      "2018-12-01 17:16:59.413151  [Epoch 1] indivisual [0] class recall: 0.967797\n",
      "2018-12-01 17:16:59.415001  [Epoch 1] indivisual [0] class precision: 0.972375\n",
      "2018-12-01 17:16:59.416908  [Epoch 1] indivisual [1] class recall: 0.803437\n",
      "2018-12-01 17:16:59.418750  [Epoch 1] indivisual [1] class precision: 0.785248\n",
      "2018-12-01 17:16:59.420583  [Epoch 1] indivisual [2] class recall: 0.801460\n",
      "2018-12-01 17:16:59.422306  [Epoch 1] indivisual [2] class precision: 0.805861\n",
      "2018-12-01 17:16:59.424015  [Epoch 1] indivisual [3] class recall: 0.828249\n",
      "2018-12-01 17:16:59.425509  [Epoch 1] indivisual [3] class precision: 0.807713\n",
      "2018-12-01 17:16:59.427124  [Epoch 1] indivisual [4] class recall: 0.806121\n",
      "2018-12-01 17:16:59.428798  [Epoch 1] indivisual [4] class precision: 0.838327\n",
      "2018-12-01 17:16:59.430340   Evaluation one (validation set) epoch   2 /  10\n"
     ]
    },
    {
     "name": "stderr",
     "output_type": "stream",
     "text": [
      "100%|██████████| 287/287 [00:15<00:00, 18.25it/s]\n"
     ]
    },
    {
     "name": "stdout",
     "output_type": "stream",
     "text": [
      "2018-12-01 17:17:15.428389  [Epoch 1] vali mean loss: 0.064758\n",
      "2018-12-01 17:17:15.430203  [Epoch 1] vali accuracy: 0.904390\n",
      "2018-12-01 17:17:15.432102  [Epoch 1] vali avg class acc: 0.600000\n",
      "2018-12-01 17:17:15.433847  [Epoch 1] vali indivisual [0] class recall: 1.000000\n",
      "2018-12-01 17:17:15.435484  [Epoch 1] vali indivisual [0] class precision: 1.000000\n",
      "2018-12-01 17:17:15.437106  [Epoch 1] vali indivisual [1] class recall: 0.875000\n",
      "2018-12-01 17:17:15.438692  [Epoch 1] vali indivisual [1] class precision: 0.913043\n",
      "2018-12-01 17:17:15.440559  [Epoch 1] vali indivisual [2] class recall: 1.000000\n",
      "2018-12-01 17:17:15.442527  [Epoch 1] vali indivisual [2] class precision: 0.733333\n",
      "2018-12-01 17:17:15.444340  [Epoch 1] vali indivisual [3] class recall: 0.727273\n",
      "2018-12-01 17:17:15.446114  [Epoch 1] vali indivisual [3] class precision: 1.000000\n",
      "2018-12-01 17:17:15.447784  [Epoch 1] vali indivisual [4] class recall: 1.000000\n",
      "2018-12-01 17:17:15.449531  [Epoch 1] vali indivisual [4] class precision: 1.000000\n",
      "2018-12-01 17:17:15.451175   Train one epoch   3 /  10\n"
     ]
    },
    {
     "name": "stderr",
     "output_type": "stream",
     "text": [
      "100%|██████████| 2124/2124 [08:17<00:00,  4.27it/s]\n"
     ]
    },
    {
     "name": "stdout",
     "output_type": "stream",
     "text": [
      "2018-12-01 17:25:34.319246  [Epoch 2] mean loss: 0.006209\n",
      "2018-12-01 17:25:34.321277  [Epoch 2] accuracy: 0.889369\n",
      "2018-12-01 17:25:34.324097  [Epoch 2] avg class acc: 0.889369\n",
      "2018-12-01 17:25:34.325944  [Epoch 2] indivisual [0] class recall: 0.982721\n",
      "2018-12-01 17:25:34.327728  [Epoch 2] indivisual [0] class precision: 0.983416\n",
      "2018-12-01 17:25:34.329460  [Epoch 2] indivisual [1] class recall: 0.855508\n",
      "2018-12-01 17:25:34.331113  [Epoch 2] indivisual [1] class precision: 0.860410\n",
      "2018-12-01 17:25:34.332972  [Epoch 2] indivisual [2] class recall: 0.871469\n",
      "2018-12-01 17:25:34.334666  [Epoch 2] indivisual [2] class precision: 0.861371\n",
      "2018-12-01 17:25:34.336429  [Epoch 2] indivisual [3] class recall: 0.887665\n",
      "2018-12-01 17:25:34.338091  [Epoch 2] indivisual [3] class precision: 0.860717\n",
      "2018-12-01 17:25:34.339665  [Epoch 2] indivisual [4] class recall: 0.849482\n",
      "2018-12-01 17:25:34.341199  [Epoch 2] indivisual [4] class precision: 0.881781\n",
      "2018-12-01 17:25:34.342655   Evaluation one (validation set) epoch   3 /  10\n"
     ]
    },
    {
     "name": "stderr",
     "output_type": "stream",
     "text": [
      "100%|██████████| 287/287 [00:15<00:00, 18.31it/s]\n"
     ]
    },
    {
     "name": "stdout",
     "output_type": "stream",
     "text": [
      "2018-12-01 17:25:50.294374  [Epoch 2] vali mean loss: 0.045952\n",
      "2018-12-01 17:25:50.296184  [Epoch 2] vali accuracy: 0.916376\n",
      "2018-12-01 17:25:50.298093  [Epoch 2] vali avg class acc: 0.400000\n",
      "2018-12-01 17:25:50.299682  [Epoch 2] vali indivisual [0] class recall: 1.000000\n",
      "2018-12-01 17:25:50.301496  [Epoch 2] vali indivisual [0] class precision: 0.500000\n",
      "2018-12-01 17:25:50.303553  [Epoch 2] vali indivisual [1] class recall: 0.892857\n",
      "2018-12-01 17:25:50.305310  [Epoch 2] vali indivisual [1] class precision: 0.961538\n",
      "2018-12-01 17:25:50.307038  [Epoch 2] vali indivisual [2] class recall: 1.000000\n",
      "2018-12-01 17:25:50.308835  [Epoch 2] vali indivisual [2] class precision: 0.700000\n",
      "2018-12-01 17:25:50.310523  [Epoch 2] vali indivisual [3] class recall: 0.916667\n",
      "2018-12-01 17:25:50.312184  [Epoch 2] vali indivisual [3] class precision: 1.000000\n",
      "2018-12-01 17:25:50.313857  [Epoch 2] vali indivisual [4] class recall: 0.500000\n",
      "2018-12-01 17:25:50.317277   Train one epoch   4 /  10\n",
      "2018-12-01 17:25:50.315497  [Epoch 2] vali indivisual [4] class precision: 1.000000\n"
     ]
    },
    {
     "name": "stderr",
     "output_type": "stream",
     "text": [
      "100%|██████████| 2124/2124 [08:17<00:00,  4.27it/s]\n"
     ]
    },
    {
     "name": "stdout",
     "output_type": "stream",
     "text": [
      "2018-12-01 17:34:08.758554  [Epoch 3] mean loss: 0.005442\n",
      "2018-12-01 17:34:08.760500  [Epoch 3] accuracy: 0.904105\n",
      "2018-12-01 17:34:08.762372  [Epoch 3] avg class acc: 0.904105\n",
      "2018-12-01 17:34:08.764131  [Epoch 3] indivisual [0] class recall: 0.984840\n",
      "2018-12-01 17:34:08.765854  [Epoch 3] indivisual [0] class precision: 0.985675\n",
      "2018-12-01 17:34:08.767350  [Epoch 3] indivisual [1] class recall: 0.878343\n",
      "2018-12-01 17:34:08.770245  [Epoch 3] indivisual [1] class precision: 0.878715\n",
      "2018-12-01 17:34:08.771743  [Epoch 3] indivisual [2] class recall: 0.886205\n",
      "2018-12-01 17:34:08.773151  [Epoch 3] indivisual [2] class precision: 0.881268\n",
      "2018-12-01 17:34:08.774531  [Epoch 3] indivisual [3] class recall: 0.904284\n",
      "2018-12-01 17:34:08.775992  [Epoch 3] indivisual [3] class precision: 0.880853\n",
      "2018-12-01 17:34:08.777504  [Epoch 3] indivisual [4] class recall: 0.866855\n",
      "2018-12-01 17:34:08.778904  [Epoch 3] indivisual [4] class precision: 0.894525\n",
      "2018-12-01 17:34:08.780426   Evaluation one (validation set) epoch   4 /  10\n"
     ]
    },
    {
     "name": "stderr",
     "output_type": "stream",
     "text": [
      "100%|██████████| 287/287 [00:15<00:00, 18.61it/s]\n"
     ]
    },
    {
     "name": "stdout",
     "output_type": "stream",
     "text": [
      "2018-12-01 17:34:24.470148  [Epoch 3] vali mean loss: 0.040272\n",
      "2018-12-01 17:34:24.472053  [Epoch 3] vali accuracy: 0.935540\n",
      "2018-12-01 17:34:24.474045  [Epoch 3] vali avg class acc: 0.600000\n",
      "2018-12-01 17:34:24.475699  [Epoch 3] vali indivisual [0] class recall: 1.000000\n",
      "2018-12-01 17:34:24.477418  [Epoch 3] vali indivisual [0] class precision: 1.000000\n",
      "2018-12-01 17:34:24.479112  [Epoch 3] vali indivisual [1] class recall: 0.961538\n",
      "2018-12-01 17:34:24.481044  [Epoch 3] vali indivisual [1] class precision: 0.961538\n",
      "2018-12-01 17:34:24.482969  [Epoch 3] vali indivisual [2] class recall: 1.000000\n",
      "2018-12-01 17:34:24.484808  [Epoch 3] vali indivisual [2] class precision: 0.923077\n",
      "2018-12-01 17:34:24.486599  [Epoch 3] vali indivisual [3] class recall: 1.000000\n",
      "2018-12-01 17:34:24.488323  [Epoch 3] vali indivisual [3] class precision: 1.000000\n",
      "2018-12-01 17:34:24.489996  [Epoch 3] vali indivisual [4] class recall: 0.750000\n",
      "2018-12-01 17:34:24.491607  [Epoch 3] vali indivisual [4] class precision: 1.000000\n",
      "2018-12-01 17:34:24.493304   Train one epoch   5 /  10\n"
     ]
    },
    {
     "name": "stderr",
     "output_type": "stream",
     "text": [
      "100%|██████████| 2124/2124 [08:16<00:00,  4.28it/s]\n"
     ]
    },
    {
     "name": "stdout",
     "output_type": "stream",
     "text": [
      "2018-12-01 17:42:42.528235  [Epoch 4] mean loss: 0.004536\n",
      "2018-12-01 17:42:42.530098  [Epoch 4] accuracy: 0.920678\n",
      "2018-12-01 17:42:42.531912  [Epoch 4] avg class acc: 0.920678\n",
      "2018-12-01 17:42:42.533561  [Epoch 4] indivisual [0] class recall: 0.989548\n",
      "2018-12-01 17:42:42.535218  [Epoch 4] indivisual [0] class precision: 0.988571\n",
      "2018-12-01 17:42:42.537108  [Epoch 4] indivisual [1] class recall: 0.895951\n",
      "2018-12-01 17:42:42.539094  [Epoch 4] indivisual [1] class precision: 0.897642\n",
      "2018-12-01 17:42:42.540861  [Epoch 4] indivisual [2] class recall: 0.907910\n",
      "2018-12-01 17:42:42.542560  [Epoch 4] indivisual [2] class precision: 0.900364\n",
      "2018-12-01 17:42:42.544184  [Epoch 4] indivisual [3] class recall: 0.922505\n",
      "2018-12-01 17:42:42.545874  [Epoch 4] indivisual [3] class precision: 0.903866\n",
      "2018-12-01 17:42:42.547473  [Epoch 4] indivisual [4] class recall: 0.887476\n",
      "2018-12-01 17:42:42.549012  [Epoch 4] indivisual [4] class precision: 0.913142\n",
      "2018-12-01 17:42:42.550596   Evaluation one (validation set) epoch   5 /  10\n"
     ]
    },
    {
     "name": "stderr",
     "output_type": "stream",
     "text": [
      "100%|██████████| 287/287 [00:15<00:00, 18.49it/s]\n"
     ]
    },
    {
     "name": "stdout",
     "output_type": "stream",
     "text": [
      "2018-12-01 17:42:58.343040  [Epoch 4] vali mean loss: 0.033569\n",
      "2018-12-01 17:42:58.344956  [Epoch 4] vali accuracy: 0.934704\n",
      "2018-12-01 17:42:58.346675  [Epoch 4] vali avg class acc: 0.800000\n",
      "2018-12-01 17:42:58.348312  [Epoch 4] vali indivisual [0] class recall: 1.000000\n",
      "2018-12-01 17:42:58.349884  [Epoch 4] vali indivisual [0] class precision: 1.000000\n",
      "2018-12-01 17:42:58.351476  [Epoch 4] vali indivisual [1] class recall: 1.000000\n",
      "2018-12-01 17:42:58.353023  [Epoch 4] vali indivisual [1] class precision: 0.967742\n",
      "2018-12-01 17:42:58.354748  [Epoch 4] vali indivisual [2] class recall: 1.000000\n",
      "2018-12-01 17:42:58.356798  [Epoch 4] vali indivisual [2] class precision: 1.000000\n",
      "2018-12-01 17:42:58.358551  [Epoch 4] vali indivisual [3] class recall: 0.857143\n",
      "2018-12-01 17:42:58.360251  [Epoch 4] vali indivisual [3] class precision: 1.000000\n",
      "2018-12-01 17:42:58.361939  [Epoch 4] vali indivisual [4] class recall: 1.000000\n",
      "2018-12-01 17:42:58.363580  [Epoch 4] vali indivisual [4] class precision: 1.000000\n",
      "2018-12-01 17:42:58.365261   Train one epoch   6 /  10\n"
     ]
    },
    {
     "name": "stderr",
     "output_type": "stream",
     "text": [
      "100%|██████████| 2124/2124 [08:16<00:00,  4.28it/s]\n"
     ]
    },
    {
     "name": "stdout",
     "output_type": "stream",
     "text": [
      "2018-12-01 17:51:16.365340  [Epoch 5] mean loss: 0.004245\n",
      "2018-12-01 17:51:16.367307  [Epoch 5] accuracy: 0.926441\n",
      "2018-12-01 17:51:16.369322  [Epoch 5] avg class acc: 0.926441\n",
      "2018-12-01 17:51:16.371126  [Epoch 5] indivisual [0] class recall: 0.991055\n",
      "2018-12-01 17:51:16.373041  [Epoch 5] indivisual [0] class precision: 0.990868\n",
      "2018-12-01 17:51:16.374839  [Epoch 5] indivisual [1] class recall: 0.902213\n",
      "2018-12-01 17:51:16.376631  [Epoch 5] indivisual [1] class precision: 0.901958\n",
      "2018-12-01 17:51:16.378443  [Epoch 5] indivisual [2] class recall: 0.911347\n",
      "2018-12-01 17:51:16.380411  [Epoch 5] indivisual [2] class precision: 0.907076\n",
      "2018-12-01 17:51:16.382245  [Epoch 5] indivisual [3] class recall: 0.929190\n",
      "2018-12-01 17:51:16.384071  [Epoch 5] indivisual [3] class precision: 0.913577\n",
      "2018-12-01 17:51:16.385844  [Epoch 5] indivisual [4] class recall: 0.898399\n",
      "2018-12-01 17:51:16.387458  [Epoch 5] indivisual [4] class precision: 0.918862\n",
      "2018-12-01 17:51:16.389236   Evaluation one (validation set) epoch   6 /  10\n"
     ]
    },
    {
     "name": "stderr",
     "output_type": "stream",
     "text": [
      "100%|██████████| 287/287 [00:15<00:00, 18.55it/s]\n"
     ]
    },
    {
     "name": "stdout",
     "output_type": "stream",
     "text": [
      "2018-12-01 17:51:32.143854  [Epoch 5] vali mean loss: 0.031414\n",
      "2018-12-01 17:51:32.145640  [Epoch 5] vali accuracy: 0.936516\n",
      "2018-12-01 17:51:32.147413  [Epoch 5] vali avg class acc: 0.600000\n",
      "2018-12-01 17:51:32.148964  [Epoch 5] vali indivisual [0] class recall: 1.000000\n",
      "2018-12-01 17:51:32.150660  [Epoch 5] vali indivisual [0] class precision: 1.000000\n",
      "2018-12-01 17:51:32.152265  [Epoch 5] vali indivisual [1] class recall: 0.875000\n",
      "2018-12-01 17:51:32.153824  [Epoch 5] vali indivisual [1] class precision: 0.954545\n",
      "2018-12-01 17:51:32.155345  [Epoch 5] vali indivisual [2] class recall: 0.875000\n",
      "2018-12-01 17:51:32.156950  [Epoch 5] vali indivisual [2] class precision: 0.777778\n",
      "2018-12-01 17:51:32.158480  [Epoch 5] vali indivisual [3] class recall: 1.000000\n",
      "2018-12-01 17:51:32.159961  [Epoch 5] vali indivisual [3] class precision: 1.000000\n",
      "2018-12-01 17:51:32.161421  [Epoch 5] vali indivisual [4] class recall: 1.000000\n",
      "2018-12-01 17:51:32.162771  [Epoch 5] vali indivisual [4] class precision: 0.857143\n",
      "2018-12-01 17:51:32.164478   Train one epoch   7 /  10\n"
     ]
    },
    {
     "name": "stderr",
     "output_type": "stream",
     "text": [
      "100%|██████████| 2124/2124 [08:16<00:00,  4.28it/s]\n"
     ]
    },
    {
     "name": "stdout",
     "output_type": "stream",
     "text": [
      "2018-12-01 17:59:49.983605  [Epoch 6] mean loss: 0.003780\n",
      "2018-12-01 17:59:49.985504  [Epoch 6] accuracy: 0.934388\n",
      "2018-12-01 17:59:49.987336  [Epoch 6] avg class acc: 0.934388\n",
      "2018-12-01 17:59:49.989131  [Epoch 6] indivisual [0] class recall: 0.993267\n",
      "2018-12-01 17:59:49.990776  [Epoch 6] indivisual [0] class precision: 0.992146\n",
      "2018-12-01 17:59:49.992476  [Epoch 6] indivisual [1] class recall: 0.913277\n",
      "2018-12-01 17:59:49.994054  [Epoch 6] indivisual [1] class precision: 0.913492\n",
      "2018-12-01 17:59:49.995891  [Epoch 6] indivisual [2] class recall: 0.922646\n",
      "2018-12-01 17:59:49.997866  [Epoch 6] indivisual [2] class precision: 0.918107\n",
      "2018-12-01 17:59:49.999605  [Epoch 6] indivisual [3] class recall: 0.936911\n",
      "2018-12-01 17:59:50.001320  [Epoch 6] indivisual [3] class precision: 0.923948\n",
      "2018-12-01 17:59:50.002942  [Epoch 6] indivisual [4] class recall: 0.905838\n",
      "2018-12-01 17:59:50.004672  [Epoch 6] indivisual [4] class precision: 0.924200\n",
      "2018-12-01 17:59:50.006373   Evaluation one (validation set) epoch   7 /  10\n"
     ]
    },
    {
     "name": "stderr",
     "output_type": "stream",
     "text": [
      "100%|██████████| 287/287 [00:15<00:00, 18.48it/s]\n"
     ]
    },
    {
     "name": "stdout",
     "output_type": "stream",
     "text": [
      "2018-12-01 18:00:05.830242  [Epoch 6] vali mean loss: 0.027977\n",
      "2018-12-01 18:00:05.832130  [Epoch 6] vali accuracy: 0.942230\n",
      "2018-12-01 18:00:05.834027  [Epoch 6] vali avg class acc: 0.600000\n",
      "2018-12-01 18:00:05.835719  [Epoch 6] vali indivisual [1] class recall: 1.000000\n",
      "2018-12-01 18:00:05.837612  [Epoch 6] vali indivisual [1] class precision: 1.000000\n",
      "2018-12-01 18:00:05.839580  [Epoch 6] vali indivisual [2] class recall: 1.000000\n",
      "2018-12-01 18:00:05.841368  [Epoch 6] vali indivisual [2] class precision: 0.857143\n",
      "2018-12-01 18:00:05.843134  [Epoch 6] vali indivisual [3] class recall: 1.000000\n",
      "2018-12-01 18:00:05.844780  [Epoch 6] vali indivisual [3] class precision: 1.000000\n",
      "2018-12-01 18:00:05.846533  [Epoch 6] vali indivisual [4] class recall: 0.500000\n",
      "2018-12-01 18:00:05.848294  [Epoch 6] vali indivisual [4] class precision: 1.000000\n",
      "2018-12-01 18:00:05.849996   Train one epoch   8 /  10\n"
     ]
    },
    {
     "name": "stderr",
     "output_type": "stream",
     "text": [
      "100%|██████████| 2124/2124 [08:16<00:00,  4.28it/s]\n"
     ]
    },
    {
     "name": "stdout",
     "output_type": "stream",
     "text": [
      "2018-12-01 18:08:23.749030  [Epoch 7] mean loss: 0.003555\n",
      "2018-12-01 18:08:23.750958  [Epoch 7] accuracy: 0.938823\n",
      "2018-12-01 18:08:23.752955  [Epoch 7] avg class acc: 0.938823\n",
      "2018-12-01 18:08:23.754707  [Epoch 7] indivisual [0] class recall: 0.994962\n",
      "2018-12-01 18:08:23.756480  [Epoch 7] indivisual [0] class precision: 0.993372\n",
      "2018-12-01 18:08:23.758380  [Epoch 7] indivisual [1] class recall: 0.918597\n",
      "2018-12-01 18:08:23.760438  [Epoch 7] indivisual [1] class precision: 0.918943\n",
      "2018-12-01 18:08:23.762287  [Epoch 7] indivisual [2] class recall: 0.925847\n",
      "2018-12-01 18:08:23.763993  [Epoch 7] indivisual [2] class precision: 0.922330\n",
      "2018-12-01 18:08:23.765779  [Epoch 7] indivisual [3] class recall: 0.941996\n",
      "2018-12-01 18:08:23.767456  [Epoch 7] indivisual [3] class precision: 0.929006\n",
      "2018-12-01 18:08:23.769051  [Epoch 7] indivisual [4] class recall: 0.912712\n",
      "2018-12-01 18:08:23.770682  [Epoch 7] indivisual [4] class precision: 0.930409\n",
      "2018-12-01 18:08:23.772409   Evaluation one (validation set) epoch   8 /  10\n"
     ]
    },
    {
     "name": "stderr",
     "output_type": "stream",
     "text": [
      "100%|██████████| 287/287 [00:15<00:00, 18.55it/s]\n"
     ]
    },
    {
     "name": "stdout",
     "output_type": "stream",
     "text": [
      "2018-12-01 18:08:39.521254  [Epoch 7] vali mean loss: 0.026308\n",
      "2018-12-01 18:08:39.523061  [Epoch 7] vali accuracy: 0.950801\n",
      "2018-12-01 18:08:39.525036  [Epoch 7] vali avg class acc: 0.600000\n",
      "2018-12-01 18:08:39.526707  [Epoch 7] vali indivisual [0] class recall: 1.000000\n",
      "2018-12-01 18:08:39.528649  [Epoch 7] vali indivisual [0] class precision: 1.000000\n",
      "2018-12-01 18:08:39.530682  [Epoch 7] vali indivisual [1] class recall: 0.960000\n",
      "2018-12-01 18:08:39.532512  [Epoch 7] vali indivisual [1] class precision: 0.960000\n",
      "2018-12-01 18:08:39.534266  [Epoch 7] vali indivisual [2] class recall: 0.909091\n",
      "2018-12-01 18:08:39.535998  [Epoch 7] vali indivisual [2] class precision: 0.909091\n",
      "2018-12-01 18:08:39.537750  [Epoch 7] vali indivisual [3] class recall: 1.000000\n",
      "2018-12-01 18:08:39.539384  [Epoch 7] vali indivisual [3] class precision: 1.000000\n",
      "2018-12-01 18:08:39.541027  [Epoch 7] vali indivisual [4] class recall: 1.000000\n",
      "2018-12-01 18:08:39.542669  [Epoch 7] vali indivisual [4] class precision: 1.000000\n",
      "2018-12-01 18:08:39.544348   Train one epoch   9 /  10\n"
     ]
    },
    {
     "name": "stderr",
     "output_type": "stream",
     "text": [
      "100%|██████████| 2124/2124 [08:16<00:00,  4.27it/s]\n"
     ]
    },
    {
     "name": "stdout",
     "output_type": "stream",
     "text": [
      "2018-12-01 18:16:57.699132  [Epoch 8] mean loss: 0.003340\n",
      "2018-12-01 18:16:57.701120  [Epoch 8] accuracy: 0.941337\n",
      "2018-12-01 18:16:57.703239  [Epoch 8] avg class acc: 0.941337\n",
      "2018-12-01 18:16:57.705230  [Epoch 8] indivisual [0] class recall: 0.993974\n",
      "2018-12-01 18:16:57.707006  [Epoch 8] indivisual [0] class precision: 0.992945\n",
      "2018-12-01 18:16:57.708754  [Epoch 8] indivisual [1] class recall: 0.920198\n",
      "2018-12-01 18:16:57.710472  [Epoch 8] indivisual [1] class precision: 0.922543\n",
      "2018-12-01 18:16:57.712096  [Epoch 8] indivisual [2] class recall: 0.931497\n",
      "2018-12-01 18:16:57.713728  [Epoch 8] indivisual [2] class precision: 0.925181\n",
      "2018-12-01 18:16:57.715275  [Epoch 8] indivisual [3] class recall: 0.944492\n",
      "2018-12-01 18:16:57.716953  [Epoch 8] indivisual [3] class precision: 0.932636\n",
      "2018-12-01 18:16:57.718583  [Epoch 8] indivisual [4] class recall: 0.916525\n",
      "2018-12-01 18:16:57.720208  [Epoch 8] indivisual [4] class precision: 0.933356\n",
      "2018-12-01 18:16:57.721777   Evaluation one (validation set) epoch   9 /  10\n"
     ]
    },
    {
     "name": "stderr",
     "output_type": "stream",
     "text": [
      "100%|██████████| 287/287 [00:15<00:00, 18.55it/s]\n"
     ]
    },
    {
     "name": "stdout",
     "output_type": "stream",
     "text": [
      "2018-12-01 18:17:13.468449  [Epoch 8] vali mean loss: 0.024716\n",
      "2018-12-01 18:17:13.470349  [Epoch 8] vali accuracy: 0.954843\n",
      "2018-12-01 18:17:13.472260  [Epoch 8] vali avg class acc: 0.800000\n",
      "2018-12-01 18:17:13.474112  [Epoch 8] vali indivisual [0] class recall: 1.000000\n",
      "2018-12-01 18:17:13.476015  [Epoch 8] vali indivisual [0] class precision: 1.000000\n",
      "2018-12-01 18:17:13.477769  [Epoch 8] vali indivisual [1] class recall: 0.870968\n",
      "2018-12-01 18:17:13.479502  [Epoch 8] vali indivisual [1] class precision: 1.000000\n",
      "2018-12-01 18:17:13.481173  [Epoch 8] vali indivisual [2] class recall: 1.000000\n",
      "2018-12-01 18:17:13.482820  [Epoch 8] vali indivisual [2] class precision: 0.625000\n",
      "2018-12-01 18:17:13.484508  [Epoch 8] vali indivisual [3] class recall: 1.000000\n",
      "2018-12-01 18:17:13.486151  [Epoch 8] vali indivisual [3] class precision: 1.000000\n",
      "2018-12-01 18:17:13.487714  [Epoch 8] vali indivisual [4] class recall: 1.000000\n",
      "2018-12-01 18:17:13.489240  [Epoch 8] vali indivisual [4] class precision: 0.833333\n",
      "2018-12-01 18:17:13.490755   Train one epoch  10 /  10\n"
     ]
    },
    {
     "name": "stderr",
     "output_type": "stream",
     "text": [
      "100%|██████████| 2124/2124 [08:16<00:00,  4.28it/s]\n"
     ]
    },
    {
     "name": "stdout",
     "output_type": "stream",
     "text": [
      "2018-12-01 18:25:31.055806  [Epoch 9] mean loss: 0.003308\n",
      "2018-12-01 18:25:31.057787  [Epoch 9] accuracy: 0.942354\n",
      "2018-12-01 18:25:31.059714  [Epoch 9] avg class acc: 0.942354\n",
      "2018-12-01 18:25:31.061268  [Epoch 9] indivisual [0] class recall: 0.994021\n",
      "2018-12-01 18:25:31.062887  [Epoch 9] indivisual [0] class precision: 0.992665\n",
      "2018-12-01 18:25:31.064500  [Epoch 9] indivisual [1] class recall: 0.923776\n",
      "2018-12-01 18:25:31.066161  [Epoch 9] indivisual [1] class precision: 0.923167\n",
      "2018-12-01 18:25:31.068089  [Epoch 9] indivisual [2] class recall: 0.929426\n",
      "2018-12-01 18:25:31.070114  [Epoch 9] indivisual [2] class precision: 0.927156\n",
      "2018-12-01 18:25:31.071891  [Epoch 9] indivisual [3] class recall: 0.944444\n",
      "2018-12-01 18:25:31.073662  [Epoch 9] indivisual [3] class precision: 0.935591\n",
      "2018-12-01 18:25:31.075388  [Epoch 9] indivisual [4] class recall: 0.920104\n",
      "2018-12-01 18:25:31.077091  [Epoch 9] indivisual [4] class precision: 0.933107\n",
      "2018-12-01 18:25:31.078809   Evaluation one (validation set) epoch  10 /  10\n"
     ]
    },
    {
     "name": "stderr",
     "output_type": "stream",
     "text": [
      "100%|██████████| 287/287 [00:15<00:00, 18.49it/s]\n"
     ]
    },
    {
     "name": "stdout",
     "output_type": "stream",
     "text": [
      "2018-12-01 18:25:46.868641  [Epoch 9] vali mean loss: 0.024479\n",
      "2018-12-01 18:25:46.870598  [Epoch 9] vali accuracy: 0.946969\n",
      "2018-12-01 18:25:46.872788  [Epoch 9] vali avg class acc: 0.000000\n",
      "2018-12-01 18:25:46.874572  [Epoch 9] vali indivisual [1] class recall: 0.937500\n",
      "2018-12-01 18:25:46.876457  [Epoch 9] vali indivisual [1] class precision: 0.882353\n",
      "2018-12-01 18:25:46.878355  [Epoch 9] vali indivisual [2] class recall: 0.923077\n",
      "2018-12-01 18:25:46.880146  [Epoch 9] vali indivisual [2] class precision: 0.923077\n",
      "2018-12-01 18:25:46.881883  [Epoch 9] vali indivisual [3] class recall: 0.923077\n",
      "2018-12-01 18:25:46.883529  [Epoch 9] vali indivisual [3] class precision: 0.923077\n",
      "2018-12-01 18:25:46.885229  [Epoch 9] vali indivisual [4] class recall: 0.875000\n",
      "2018-12-01 18:25:46.886903  [Epoch 9] vali indivisual [4] class precision: 1.000000\n",
      "2018-12-01 18:25:47.460698  Model saved in file: /home/gozilla/kyungpyo/git/MasterThesisProject/Network/notebook/train_log_20181201/model_opt4/model.ckpt\n"
     ]
    }
   ],
   "source": [
    "\"\"\" Import model \"\"\"\n",
    "sys.path.append( os.path.abspath('../../model') )\n",
    "\n",
    "from train import *\n",
    "import model_opt4 as MODEL\n",
    "\n",
    "def run_training(out_path):\n",
    "    \"\"\" Path \"\"\"\n",
    "    model_save_path = os.path.abspath(out_path)\n",
    "    if not os.path.isdir(model_save_path) : os.mkdir(model_save_path)\n",
    "    log_path = os.path.abspath(os.path.join(model_save_path, 'train_log.txt') )\n",
    "        \n",
    "    \"\"\" Parameters \"\"\"\n",
    "    GPU_INDEX = 0\n",
    "    NUM_POINT = 1024\n",
    "    NUM_CLASSES = 5\n",
    "\n",
    "    BN_INIT_DECAY = 0.5\n",
    "    BN_DECAY_DECAY_RATE = 0.5\n",
    "    BN_DECAY_DECAY_STEP = float(200000)\n",
    "    BN_DECAY_CLIP = 0.99\n",
    "    DECAY_STEP = BN_DECAY_DECAY_STEP\n",
    "    DECAY_RATE = BN_DECAY_DECAY_RATE\n",
    "\n",
    "    BATCH_SIZE = 50\n",
    "\n",
    "    MOMENTUM = 0.9\n",
    "\n",
    "    BASE_LEARNING_RATE = 0.001\n",
    "\n",
    "    OPTIMIZER = 'adam'\n",
    "\n",
    "    MAX_EPOCH = 10\n",
    "\n",
    "    \"\"\" log file \"\"\"\n",
    "    LOG_FOUT = open(log_path, 'w')\n",
    "\n",
    "    def log_string(out_str):\n",
    "        out_str = str( datetime.datetime.fromtimestamp( time.time() ) ) + \"  \" + out_str\n",
    "        LOG_FOUT.write(out_str+'\\n')\n",
    "        LOG_FOUT.flush()\n",
    "        print(out_str)\n",
    "\n",
    "\n",
    "    def get_learning_rate(batch):\n",
    "        learning_rate = tf.train.exponential_decay(\n",
    "                            BASE_LEARNING_RATE,  # Base learning rate.\n",
    "                            batch * BATCH_SIZE,  # Current index into the dataset.\n",
    "                            DECAY_STEP,          # Decay step.\n",
    "                            DECAY_RATE,          # Decay rate.\n",
    "                            staircase=True)\n",
    "        learning_rate = tf.maximum(learning_rate, 0.00001) # CLIP THE LEARNING RATE!\n",
    "        return learning_rate        \n",
    "\n",
    "    def get_bn_decay(batch):\n",
    "        bn_momentum = tf.train.exponential_decay(\n",
    "                          BN_INIT_DECAY,\n",
    "                          batch * BATCH_SIZE,\n",
    "                          BN_DECAY_DECAY_STEP,\n",
    "                          BN_DECAY_DECAY_RATE,\n",
    "                          staircase=True)\n",
    "        bn_decay = tf.minimum(BN_DECAY_CLIP, 1 - bn_momentum)\n",
    "        return bn_decay\n",
    "\n",
    "    \"\"\" load traing model \"\"\"\n",
    "    with tf.Graph().as_default():\n",
    "        with tf.device('/gpu:'+str(GPU_INDEX)):\n",
    "            pointclouds_pl, labels_pl = MODEL.placeholder_inputs(BATCH_SIZE, NUM_POINT)\n",
    "            is_training_pl = tf.placeholder(tf.bool, shape=())\n",
    "            print(is_training_pl)\n",
    "\n",
    "            # Note the global_step=batch parameter to minimize. \n",
    "            # That tells the optimizer to helpfully increment the 'batch' parameter for you every time it trains.\n",
    "            batch = tf.Variable(0)\n",
    "            bn_decay = get_bn_decay(batch)\n",
    "            tf.summary.scalar('bn_decay', bn_decay)\n",
    "\n",
    "            # Get model and loss \n",
    "            pred, end_points = MODEL.get_model(pointclouds_pl, is_training_pl, bn_decay=bn_decay)\n",
    "            loss = MODEL.get_loss(pred, labels_pl, end_points)\n",
    "            tf.summary.scalar('loss', loss)\n",
    "\n",
    "            correct = tf.equal(tf.argmax(pred, 1), tf.to_int64(labels_pl))\n",
    "            accuracy = tf.reduce_sum(tf.cast(correct, tf.float32)) / float(BATCH_SIZE)\n",
    "            tf.summary.scalar('accuracy', accuracy)\n",
    "\n",
    "            # Get training operator\n",
    "            learning_rate = get_learning_rate(batch)\n",
    "            tf.summary.scalar('learning_rate', learning_rate)\n",
    "            if OPTIMIZER == 'momentum':\n",
    "                optimizer = tf.train.MomentumOptimizer(learning_rate, momentum=MOMENTUM)\n",
    "            elif OPTIMIZER == 'adam':\n",
    "                optimizer = tf.train.AdamOptimizer(learning_rate)\n",
    "            train_op = optimizer.minimize(loss, global_step=batch)\n",
    "\n",
    "            # Add ops to save and restore all the variables.\n",
    "            saver = tf.train.Saver()\n",
    "\n",
    "        # Create a session\n",
    "        config = tf.ConfigProto()\n",
    "        config.gpu_options.allow_growth = True\n",
    "        config.allow_soft_placement = True\n",
    "        config.log_device_placement = False\n",
    "        sess = tf.Session(config=config)\n",
    "\n",
    "        # Add summary writers\n",
    "        #merged = tf.merge_all_summaries()\n",
    "        merged = tf.summary.merge_all()\n",
    "\n",
    "        train_writer_path = os.path.abspath( os.path.join(model_save_path, 'train') )\n",
    "        if os.path.isdir(train_writer_path): os.system('rm -r {}'.format(train_writer_path))\n",
    "        os.mkdir(train_writer_path)\n",
    "\n",
    "        test_writer_path = os.path.abspath( os.path.join(model_save_path, 'test') )\n",
    "        if os.path.isdir(test_writer_path): os.system('rm -r {}'.format(test_writer_path))\n",
    "        os.mkdir(test_writer_path)\n",
    "\n",
    "\n",
    "        train_writer = tf.summary.FileWriter(train_writer_path, sess.graph)\n",
    "        test_writer = tf.summary.FileWriter(test_writer_path)\n",
    "\n",
    "\n",
    "        # Init variables\n",
    "        init = tf.global_variables_initializer()\n",
    "        # To fix the bug introduced in TF 0.12.1 as in\n",
    "        # http://stackoverflow.com/questions/41543774/invalidargumenterror-for-tensor-bool-tensorflow-0-12-1\n",
    "        #sess.run(init)\n",
    "        sess.run(init, {is_training_pl: True})\n",
    "\n",
    "        ops = {'pointclouds_pl': pointclouds_pl,\n",
    "               'labels_pl': labels_pl,\n",
    "               'is_training_pl': is_training_pl,\n",
    "               'pred': pred,\n",
    "               'loss': loss,\n",
    "               'train_op': train_op,\n",
    "               'merged': merged,\n",
    "               'step': batch}\n",
    "\n",
    "\n",
    "        for epoch in range(MAX_EPOCH):\n",
    "\n",
    "            ## Training\n",
    "            log_string ( \" Train one epoch %3d / %3d\" % (epoch+1, MAX_EPOCH) )\n",
    "            sys.stdout.flush()\n",
    "\n",
    "            is_training = True\n",
    "\n",
    "            # Shuffle train files\n",
    "            train_file_idxs = np.arange(0, data_train.shape[0])\n",
    "            np.random.shuffle(train_file_idxs)\n",
    "\n",
    "            current_data = data_train[train_file_idxs] \n",
    "            current_label = label_train[train_file_idxs]\n",
    "            current_label.reshape((data_train.shape[0],))\n",
    "\n",
    "            ## Evaluation metric\n",
    "            total_correct = 0\n",
    "            total_seen = 0\n",
    "            loss_sum = 0\n",
    "\n",
    "            total_class = [0 for _ in range(NUM_CLASSES)]\n",
    "            total_detect_class = [0 for _ in range(NUM_CLASSES)]\n",
    "            total_correct_class = [0 for _ in range(NUM_CLASSES)]\n",
    "\n",
    "            num_batches = current_data.shape[0] // BATCH_SIZE\n",
    "\n",
    "            for batch_idx in trange(num_batches):\n",
    "\n",
    "                start_idx = batch_idx * BATCH_SIZE\n",
    "                end_idx = (batch_idx+1) * BATCH_SIZE           \n",
    "\n",
    "                # Augment batched point clouds by rotation and jittering\n",
    "                rotated_data = provider.rotate_point_cloud(current_data[start_idx:end_idx, :, :])\n",
    "                jittered_data = provider.jitter_point_cloud(rotated_data)\n",
    "\n",
    "                # Reashape\n",
    "                current_label_reshape = current_label[start_idx:end_idx].reshape((BATCH_SIZE,))\n",
    "\n",
    "                feed_dict = {ops['pointclouds_pl']: jittered_data,\n",
    "                             ops['labels_pl']: current_label_reshape,\n",
    "                             ops['is_training_pl']: is_training,}\n",
    "\n",
    "                summary, step, _, loss_val, pred_val = sess.run([ops['merged'], ops['step'],\n",
    "                    ops['train_op'], ops['loss'], ops['pred']], feed_dict=feed_dict)\n",
    "\n",
    "                train_writer.add_summary(summary, step)\n",
    "\n",
    "                pred_val = np.argmax(pred_val, 1)\n",
    "                correct = np.sum(pred_val == current_label_reshape)\n",
    "                total_correct += correct\n",
    "                total_seen += BATCH_SIZE\n",
    "                loss_sum += loss_val\n",
    "\n",
    "                for i in range(NUM_CLASSES):\n",
    "                    total_class[i] += np.sum( np.ones(BATCH_SIZE) * i == current_label_reshape )\n",
    "                    total_detect_class[i] += np.sum( np.ones(BATCH_SIZE) * i == pred_val )\n",
    "                    total_correct_class[i] += np.sum( (np.ones(BATCH_SIZE) * i == current_label_reshape) * \\\n",
    "                                                        (np.ones(BATCH_SIZE) * i == pred_val) )\n",
    "\n",
    "            log_string(  '[Epoch %d] mean loss: %f' % \\\n",
    "                       (  epoch, loss_sum / float(total_seen)  )   )\n",
    "            log_string(  '[Epoch %d] accuracy: %f'% \\\n",
    "                       (  epoch, total_correct / float(total_seen)  )   )\n",
    "            log_string(  '[Epoch %d] avg class acc: %f' % \\\n",
    "                       (  epoch, np.mean( np.array(total_correct_class)/np.array(total_class,dtype=np.float) )  )   )\n",
    "\n",
    "            for i_cls in range(NUM_CLASSES):\n",
    "                if not float(total_class[i_cls]) == 0:\n",
    "                    log_string(  '[Epoch %d] indivisual [%d] class recall: %f' % \\\n",
    "                           (  epoch, i_cls, float(total_correct_class[i_cls])/float(total_class[i_cls])))    \n",
    "                if not float(total_detect_class[i_cls]) == 0:\n",
    "                    log_string(  '[Epoch %d] indivisual [%d] class precision: %f' % \\\n",
    "                           (  epoch, i_cls, float(total_correct_class[i_cls])/float(total_detect_class[i_cls])))    \n",
    "\n",
    "\n",
    "            ## Evaluation using validation set    \n",
    "            log_string ( \" Evaluation one (validation set) epoch %3d / %3d\" % (epoch+1, MAX_EPOCH) )\n",
    "            sys.stdout.flush()\n",
    "\n",
    "            is_training = False\n",
    "            total_correct = 0\n",
    "            total_seen = 0\n",
    "            total_seen_class = [0 for _ in range(NUM_CLASSES)]\n",
    "            total_correct_class = [0 for _ in range(NUM_CLASSES)]\n",
    "            total_detect_class = [0 for _ in range(NUM_CLASSES)]\n",
    "            total_detect_true_class = [0 for _ in range(NUM_CLASSES)]\n",
    "\n",
    "            # Shuffle validation files\n",
    "            file_idxs = np.arange(0, data_vali.shape[0])\n",
    "            np.random.shuffle(file_idxs)\n",
    "\n",
    "            current_data = data_vali[file_idxs]\n",
    "            current_label = label_vali[file_idxs]\n",
    "\n",
    "            num_batches = current_data.shape[0] // BATCH_SIZE\n",
    "\n",
    "            for batch_idx in trange(num_batches):\n",
    "\n",
    "                start_idx = batch_idx * BATCH_SIZE\n",
    "                end_idx = (batch_idx+1) * BATCH_SIZE\n",
    "\n",
    "                # Reashape\n",
    "                current_label_reshape = current_label[start_idx:end_idx].reshape((BATCH_SIZE,))\n",
    "\n",
    "                feed_dict = {ops['pointclouds_pl']: current_data[start_idx:end_idx, :, :],\n",
    "                             ops['labels_pl']: current_label_reshape,\n",
    "                             ops['is_training_pl']: is_training}\n",
    "                summary, step, loss_val, pred_val = sess.run([ops['merged'], ops['step'],\n",
    "                    ops['loss'], ops['pred']], feed_dict=feed_dict)\n",
    "\n",
    "                # test_writer.add_summary(summary, step)\n",
    "\n",
    "                pred_val = np.argmax(pred_val, 1)\n",
    "                correct = np.sum(pred_val == current_label_reshape)\n",
    "                total_correct += correct\n",
    "                total_seen += BATCH_SIZE\n",
    "\n",
    "                for i in range(NUM_CLASSES):\n",
    "                    total_class[i] = np.sum( np.ones(BATCH_SIZE) * i == current_label_reshape )\n",
    "                    total_detect_class[i] = np.sum( np.ones(BATCH_SIZE) * i == pred_val )\n",
    "                    total_correct_class[i] = np.sum( (np.ones(BATCH_SIZE) * i == current_label_reshape) * \\\n",
    "                                                        (np.ones(BATCH_SIZE) * i == pred_val) )\n",
    "\n",
    "            log_string(  '[Epoch %d] vali mean loss: %f' % \\\n",
    "                       (  epoch, loss_sum / float(total_seen)  )   )\n",
    "            log_string(  '[Epoch %d] vali accuracy: %f'% \\\n",
    "                       (  epoch, total_correct / float(total_seen)  )   )\n",
    "            log_string(  '[Epoch %d] vali avg class acc: %f' % \\\n",
    "                       (  epoch, np.mean( np.array(total_correct_class) / np.array(total_class) )  )   )\n",
    "\n",
    "            for i_cls in range(NUM_CLASSES):\n",
    "                if not float(total_class[i_cls]) == 0:\n",
    "                    log_string(  '[Epoch %d] vali indivisual [%d] class recall: %f' % \\\n",
    "                           (  epoch, i_cls, float(total_correct_class[i_cls])/float(total_class[i_cls])))    \n",
    "                if not float(total_detect_class[i_cls]) == 0:\n",
    "                    log_string(  '[Epoch %d] vali indivisual [%d] class precision: %f' % \\\n",
    "                           (  epoch, i_cls, float(total_correct_class[i_cls])/float(total_detect_class[i_cls])))    \n",
    "\n",
    "\n",
    "            # Save the variables to disk.\n",
    "            if ( epoch + 1 ) % 10 == 0:\n",
    "                save_path = saver.save(sess, os.path.join(model_save_path, \"model.ckpt\"))\n",
    "                log_string(\"Model saved in file: %s\" % save_path)\n",
    "\n",
    "# option 1: execute code with extra process\n",
    "p = multiprocessing.Process(target=run_training, args = ('./model_opt4',))\n",
    "p.start()\n",
    "p.join()"
   ]
  },
  {
   "cell_type": "code",
   "execution_count": 7,
   "metadata": {},
   "outputs": [
    {
     "name": "stdout",
     "output_type": "stream",
     "text": [
      "Tensor(\"Placeholder_2:0\", shape=(), dtype=bool, device=/device:GPU:0)\n",
      "INFO:tensorflow:Summary name classify loss is illegal; using classify_loss instead.\n",
      "INFO:tensorflow:Summary name mat loss is illegal; using mat_loss instead.\n",
      "2018-12-01 18:25:55.387901   Train one epoch   1 /  10\n"
     ]
    },
    {
     "name": "stderr",
     "output_type": "stream",
     "text": [
      "100%|██████████| 2124/2124 [07:49<00:00,  4.52it/s]\n"
     ]
    },
    {
     "name": "stdout",
     "output_type": "stream",
     "text": [
      "2018-12-01 18:33:46.936056  [Epoch 0] mean loss: 0.009380\n",
      "2018-12-01 18:33:46.938098  [Epoch 0] accuracy: 0.818578\n",
      "2018-12-01 18:33:46.940413  [Epoch 0] avg class acc: 0.818578\n",
      "2018-12-01 18:33:46.942367  [Epoch 0] indivisual [0] class recall: 0.969303\n",
      "2018-12-01 18:33:46.944187  [Epoch 0] indivisual [0] class precision: 0.964038\n",
      "2018-12-01 18:33:46.946000  [Epoch 0] indivisual [1] class recall: 0.783239\n",
      "2018-12-01 18:33:46.947668  [Epoch 0] indivisual [1] class precision: 0.740563\n",
      "2018-12-01 18:33:46.949549  [Epoch 0] indivisual [2] class recall: 0.744680\n",
      "2018-12-01 18:33:46.951444  [Epoch 0] indivisual [2] class precision: 0.796104\n",
      "2018-12-01 18:33:46.953111  [Epoch 0] indivisual [3] class recall: 0.790113\n",
      "2018-12-01 18:33:46.954761  [Epoch 0] indivisual [3] class precision: 0.800210\n",
      "2018-12-01 18:33:46.956519  [Epoch 0] indivisual [4] class recall: 0.805556\n",
      "2018-12-01 18:33:46.958214  [Epoch 0] indivisual [4] class precision: 0.794336\n",
      "2018-12-01 18:33:46.959806   Evaluation one (validation set) epoch   1 /  10\n"
     ]
    },
    {
     "name": "stderr",
     "output_type": "stream",
     "text": [
      "100%|██████████| 287/287 [00:13<00:00, 20.77it/s]\n"
     ]
    },
    {
     "name": "stdout",
     "output_type": "stream",
     "text": [
      "2018-12-01 18:34:01.073828  [Epoch 0] vali mean loss: 0.069417\n",
      "2018-12-01 18:34:01.075748  [Epoch 0] vali accuracy: 0.972962\n",
      "2018-12-01 18:34:01.078210  [Epoch 0] vali avg class acc: 0.600000\n",
      "2018-12-01 18:34:01.080038  [Epoch 0] vali indivisual [1] class recall: 0.958333\n",
      "2018-12-01 18:34:01.081883  [Epoch 0] vali indivisual [1] class precision: 1.000000\n",
      "2018-12-01 18:34:01.083511  [Epoch 0] vali indivisual [2] class recall: 1.000000\n",
      "2018-12-01 18:34:01.085165  [Epoch 0] vali indivisual [2] class precision: 1.000000\n",
      "2018-12-01 18:34:01.086776  [Epoch 0] vali indivisual [3] class recall: 1.000000\n",
      "2018-12-01 18:34:01.088501  [Epoch 0] vali indivisual [3] class precision: 1.000000\n",
      "2018-12-01 18:34:01.090181  [Epoch 0] vali indivisual [4] class recall: 1.000000\n",
      "2018-12-01 18:34:01.091853  [Epoch 0] vali indivisual [4] class precision: 0.888889\n",
      "2018-12-01 18:34:01.093408   Train one epoch   2 /  10\n"
     ]
    },
    {
     "name": "stderr",
     "output_type": "stream",
     "text": [
      "100%|██████████| 2124/2124 [07:49<00:00,  4.53it/s]\n"
     ]
    },
    {
     "name": "stdout",
     "output_type": "stream",
     "text": [
      "2018-12-01 18:41:51.463787  [Epoch 1] mean loss: 0.002850\n",
      "2018-12-01 18:41:51.465762  [Epoch 1] accuracy: 0.953154\n",
      "2018-12-01 18:41:51.467659  [Epoch 1] avg class acc: 0.953154\n",
      "2018-12-01 18:41:51.469322  [Epoch 1] indivisual [0] class recall: 0.993691\n",
      "2018-12-01 18:41:51.470832  [Epoch 1] indivisual [0] class precision: 0.991357\n",
      "2018-12-01 18:41:51.472454  [Epoch 1] indivisual [1] class recall: 0.941384\n",
      "2018-12-01 18:41:51.473948  [Epoch 1] indivisual [1] class precision: 0.935701\n",
      "2018-12-01 18:41:51.475770  [Epoch 1] indivisual [2] class recall: 0.954567\n",
      "2018-12-01 18:41:51.477798  [Epoch 1] indivisual [2] class precision: 0.947518\n",
      "2018-12-01 18:41:51.479478  [Epoch 1] indivisual [3] class recall: 0.950800\n",
      "2018-12-01 18:41:51.481138  [Epoch 1] indivisual [3] class precision: 0.953404\n",
      "2018-12-01 18:41:51.482796  [Epoch 1] indivisual [4] class recall: 0.925330\n",
      "2018-12-01 18:41:51.484477  [Epoch 1] indivisual [4] class precision: 0.937646\n",
      "2018-12-01 18:41:51.486332   Evaluation one (validation set) epoch   2 /  10\n"
     ]
    },
    {
     "name": "stderr",
     "output_type": "stream",
     "text": [
      "100%|██████████| 287/287 [00:13<00:00, 20.84it/s]\n"
     ]
    },
    {
     "name": "stdout",
     "output_type": "stream",
     "text": [
      "2018-12-01 18:42:05.565549  [Epoch 1] vali mean loss: 0.021093\n",
      "2018-12-01 18:42:05.567409  [Epoch 1] vali accuracy: 0.984599\n",
      "2018-12-01 18:42:05.569385  [Epoch 1] vali avg class acc: 0.800000\n",
      "2018-12-01 18:42:05.571125  [Epoch 1] vali indivisual [0] class recall: 1.000000\n",
      "2018-12-01 18:42:05.572974  [Epoch 1] vali indivisual [0] class precision: 1.000000\n",
      "2018-12-01 18:42:05.574767  [Epoch 1] vali indivisual [1] class recall: 0.958333\n",
      "2018-12-01 18:42:05.576544  [Epoch 1] vali indivisual [1] class precision: 1.000000\n",
      "2018-12-01 18:42:05.578246  [Epoch 1] vali indivisual [2] class recall: 1.000000\n",
      "2018-12-01 18:42:05.580111  [Epoch 1] vali indivisual [2] class precision: 0.916667\n",
      "2018-12-01 18:42:05.581944  [Epoch 1] vali indivisual [3] class recall: 1.000000\n",
      "2018-12-01 18:42:05.583549  [Epoch 1] vali indivisual [3] class precision: 1.000000\n",
      "2018-12-01 18:42:05.585264  [Epoch 1] vali indivisual [4] class recall: 1.000000\n",
      "2018-12-01 18:42:05.586930  [Epoch 1] vali indivisual [4] class precision: 1.000000\n",
      "2018-12-01 18:42:05.588707   Train one epoch   3 /  10\n"
     ]
    },
    {
     "name": "stderr",
     "output_type": "stream",
     "text": [
      "100%|██████████| 2124/2124 [07:48<00:00,  4.53it/s]\n"
     ]
    },
    {
     "name": "stdout",
     "output_type": "stream",
     "text": [
      "2018-12-01 18:49:55.734540  [Epoch 2] mean loss: 0.001279\n",
      "2018-12-01 18:49:55.736786  [Epoch 2] accuracy: 0.978710\n",
      "2018-12-01 18:49:55.739264  [Epoch 2] avg class acc: 0.978710\n",
      "2018-12-01 18:49:55.741435  [Epoch 2] indivisual [0] class recall: 0.997411\n",
      "2018-12-01 18:49:55.743368  [Epoch 2] indivisual [0] class precision: 0.996660\n",
      "2018-12-01 18:49:55.745302  [Epoch 2] indivisual [1] class recall: 0.973070\n",
      "2018-12-01 18:49:55.746984  [Epoch 2] indivisual [1] class precision: 0.971195\n",
      "2018-12-01 18:49:55.748661  [Epoch 2] indivisual [2] class recall: 0.979567\n",
      "2018-12-01 18:49:55.750349  [Epoch 2] indivisual [2] class precision: 0.977680\n",
      "2018-12-01 18:49:55.752026  [Epoch 2] indivisual [3] class recall: 0.979096\n",
      "2018-12-01 18:49:55.753604  [Epoch 2] indivisual [3] class precision: 0.980435\n",
      "2018-12-01 18:49:55.755126  [Epoch 2] indivisual [4] class recall: 0.964407\n",
      "2018-12-01 18:49:55.756750  [Epoch 2] indivisual [4] class precision: 0.967550\n",
      "2018-12-01 18:49:55.758316   Evaluation one (validation set) epoch   3 /  10\n"
     ]
    },
    {
     "name": "stderr",
     "output_type": "stream",
     "text": [
      "100%|██████████| 287/287 [00:13<00:00, 20.84it/s]\n"
     ]
    },
    {
     "name": "stdout",
     "output_type": "stream",
     "text": [
      "2018-12-01 18:50:09.810826  [Epoch 2] vali mean loss: 0.009464\n",
      "2018-12-01 18:50:09.812784  [Epoch 2] vali accuracy: 0.989408\n",
      "2018-12-01 18:50:09.815217  [Epoch 2] vali avg class acc: 1.000000\n",
      "2018-12-01 18:50:09.817248  [Epoch 2] vali indivisual [0] class recall: 1.000000\n",
      "2018-12-01 18:50:09.819177  [Epoch 2] vali indivisual [0] class precision: 1.000000\n",
      "2018-12-01 18:50:09.821013  [Epoch 2] vali indivisual [1] class recall: 1.000000\n",
      "2018-12-01 18:50:09.822692  [Epoch 2] vali indivisual [1] class precision: 1.000000\n",
      "2018-12-01 18:50:09.824389  [Epoch 2] vali indivisual [2] class recall: 1.000000\n",
      "2018-12-01 18:50:09.826050  [Epoch 2] vali indivisual [2] class precision: 1.000000\n",
      "2018-12-01 18:50:09.827633  [Epoch 2] vali indivisual [3] class recall: 1.000000\n",
      "2018-12-01 18:50:09.829139  [Epoch 2] vali indivisual [3] class precision: 1.000000\n",
      "2018-12-01 18:50:09.830689  [Epoch 2] vali indivisual [4] class recall: 1.000000\n",
      "2018-12-01 18:50:09.832533  [Epoch 2] vali indivisual [4] class precision: 1.000000\n",
      "2018-12-01 18:50:09.834125   Train one epoch   4 /  10\n"
     ]
    },
    {
     "name": "stderr",
     "output_type": "stream",
     "text": [
      "100%|██████████| 2124/2124 [07:48<00:00,  4.53it/s]\n"
     ]
    },
    {
     "name": "stdout",
     "output_type": "stream",
     "text": [
      "2018-12-01 18:57:59.814165  [Epoch 3] mean loss: 0.000965\n",
      "2018-12-01 18:57:59.816252  [Epoch 3] accuracy: 0.984435\n",
      "2018-12-01 18:57:59.818606  [Epoch 3] avg class acc: 0.984435\n",
      "2018-12-01 18:57:59.820634  [Epoch 3] indivisual [0] class recall: 0.998540\n",
      "2018-12-01 18:57:59.822518  [Epoch 3] indivisual [0] class precision: 0.997789\n",
      "2018-12-01 18:57:59.824223  [Epoch 3] indivisual [1] class recall: 0.980461\n",
      "2018-12-01 18:57:59.826017  [Epoch 3] indivisual [1] class precision: 0.979217\n",
      "2018-12-01 18:57:59.827738  [Epoch 3] indivisual [2] class recall: 0.984369\n",
      "2018-12-01 18:57:59.829484  [Epoch 3] indivisual [2] class precision: 0.982704\n",
      "2018-12-01 18:57:59.831214  [Epoch 3] indivisual [3] class recall: 0.983851\n",
      "2018-12-01 18:57:59.832953  [Epoch 3] indivisual [3] class precision: 0.985336\n",
      "2018-12-01 18:57:59.834715  [Epoch 3] indivisual [4] class recall: 0.974953\n",
      "2018-12-01 18:57:59.836459  [Epoch 3] indivisual [4] class precision: 0.977115\n",
      "2018-12-01 18:57:59.838243   Evaluation one (validation set) epoch   4 /  10\n"
     ]
    },
    {
     "name": "stderr",
     "output_type": "stream",
     "text": [
      "100%|██████████| 287/287 [00:13<00:00, 21.07it/s]\n"
     ]
    },
    {
     "name": "stdout",
     "output_type": "stream",
     "text": [
      "2018-12-01 18:58:13.732103  [Epoch 3] vali mean loss: 0.007143\n",
      "2018-12-01 18:58:13.734385  [Epoch 3] vali accuracy: 0.998049\n",
      "2018-12-01 18:58:13.736412  [Epoch 3] vali avg class acc: 1.000000\n",
      "2018-12-01 18:58:13.738181  [Epoch 3] vali indivisual [0] class recall: 1.000000\n",
      "2018-12-01 18:58:13.740073  [Epoch 3] vali indivisual [0] class precision: 1.000000\n",
      "2018-12-01 18:58:13.742037  [Epoch 3] vali indivisual [1] class recall: 1.000000\n",
      "2018-12-01 18:58:13.743723  [Epoch 3] vali indivisual [1] class precision: 1.000000\n",
      "2018-12-01 18:58:13.745456  [Epoch 3] vali indivisual [2] class recall: 1.000000\n",
      "2018-12-01 18:58:13.747191  [Epoch 3] vali indivisual [2] class precision: 1.000000\n",
      "2018-12-01 18:58:13.748963  [Epoch 3] vali indivisual [3] class recall: 1.000000\n",
      "2018-12-01 18:58:13.750669  [Epoch 3] vali indivisual [3] class precision: 1.000000\n",
      "2018-12-01 18:58:13.752400  [Epoch 3] vali indivisual [4] class recall: 1.000000\n",
      "2018-12-01 18:58:13.754087  [Epoch 3] vali indivisual [4] class precision: 1.000000\n",
      "2018-12-01 18:58:13.755751   Train one epoch   5 /  10\n"
     ]
    },
    {
     "name": "stderr",
     "output_type": "stream",
     "text": [
      "100%|██████████| 2124/2124 [07:47<00:00,  4.54it/s]\n"
     ]
    },
    {
     "name": "stdout",
     "output_type": "stream",
     "text": [
      "2018-12-01 19:06:03.055075  [Epoch 4] mean loss: 0.000510\n",
      "2018-12-01 19:06:03.057257  [Epoch 4] accuracy: 0.991911\n",
      "2018-12-01 19:06:03.059609  [Epoch 4] avg class acc: 0.991911\n",
      "2018-12-01 19:06:03.061558  [Epoch 4] indivisual [0] class recall: 0.999294\n",
      "2018-12-01 19:06:03.063468  [Epoch 4] indivisual [0] class precision: 0.999059\n",
      "2018-12-01 19:06:03.065144  [Epoch 4] indivisual [1] class recall: 0.988983\n",
      "2018-12-01 19:06:03.066819  [Epoch 4] indivisual [1] class precision: 0.988099\n",
      "2018-12-01 19:06:03.068742  [Epoch 4] indivisual [2] class recall: 0.991620\n",
      "2018-12-01 19:06:03.070699  [Epoch 4] indivisual [2] class precision: 0.991060\n",
      "2018-12-01 19:06:03.072647  [Epoch 4] indivisual [3] class recall: 0.991808\n",
      "2018-12-01 19:06:03.074505  [Epoch 4] indivisual [3] class precision: 0.993164\n",
      "2018-12-01 19:06:03.076275  [Epoch 4] indivisual [4] class recall: 0.987853\n",
      "2018-12-01 19:06:03.078025  [Epoch 4] indivisual [4] class precision: 0.988179\n",
      "2018-12-01 19:06:03.079693   Evaluation one (validation set) epoch   5 /  10\n"
     ]
    },
    {
     "name": "stderr",
     "output_type": "stream",
     "text": [
      "100%|██████████| 287/287 [00:13<00:00, 21.00it/s]\n"
     ]
    },
    {
     "name": "stdout",
     "output_type": "stream",
     "text": [
      "2018-12-01 19:06:17.030856  [Epoch 4] vali mean loss: 0.003778\n",
      "2018-12-01 19:06:17.032875  [Epoch 4] vali accuracy: 0.997631\n",
      "2018-12-01 19:06:17.034844  [Epoch 4] vali avg class acc: 1.000000\n",
      "2018-12-01 19:06:17.036651  [Epoch 4] vali indivisual [0] class recall: 1.000000\n",
      "2018-12-01 19:06:17.038331  [Epoch 4] vali indivisual [0] class precision: 1.000000\n",
      "2018-12-01 19:06:17.039988  [Epoch 4] vali indivisual [1] class recall: 1.000000\n",
      "2018-12-01 19:06:17.041550  [Epoch 4] vali indivisual [1] class precision: 1.000000\n",
      "2018-12-01 19:06:17.043116  [Epoch 4] vali indivisual [2] class recall: 1.000000\n",
      "2018-12-01 19:06:17.044640  [Epoch 4] vali indivisual [2] class precision: 1.000000\n",
      "2018-12-01 19:06:17.046145  [Epoch 4] vali indivisual [3] class recall: 1.000000\n",
      "2018-12-01 19:06:17.047891  [Epoch 4] vali indivisual [3] class precision: 1.000000\n",
      "2018-12-01 19:06:17.049763  [Epoch 4] vali indivisual [4] class recall: 1.000000\n",
      "2018-12-01 19:06:17.051494  [Epoch 4] vali indivisual [4] class precision: 1.000000\n",
      "2018-12-01 19:06:17.053202   Train one epoch   6 /  10\n"
     ]
    },
    {
     "name": "stderr",
     "output_type": "stream",
     "text": [
      "100%|██████████| 2124/2124 [07:48<00:00,  4.53it/s]\n"
     ]
    },
    {
     "name": "stdout",
     "output_type": "stream",
     "text": [
      "2018-12-01 19:14:06.769809  [Epoch 5] mean loss: 0.000430\n",
      "2018-12-01 19:14:06.771286  [Epoch 5] accuracy: 0.993418\n",
      "2018-12-01 19:14:06.772848  [Epoch 5] avg class acc: 0.993418\n",
      "2018-12-01 19:14:06.774230  [Epoch 5] indivisual [0] class recall: 0.999482\n",
      "2018-12-01 19:14:06.775593  [Epoch 5] indivisual [0] class precision: 0.999341\n",
      "2018-12-01 19:14:06.777085  [Epoch 5] indivisual [1] class recall: 0.990537\n",
      "2018-12-01 19:14:06.778416  [Epoch 5] indivisual [1] class precision: 0.991003\n",
      "2018-12-01 19:14:06.779763  [Epoch 5] indivisual [2] class recall: 0.993597\n",
      "2018-12-01 19:14:06.781186  [Epoch 5] indivisual [2] class precision: 0.992382\n",
      "2018-12-01 19:14:06.782631  [Epoch 5] indivisual [3] class recall: 0.993409\n",
      "2018-12-01 19:14:06.783932  [Epoch 5] indivisual [3] class precision: 0.994111\n",
      "2018-12-01 19:14:06.785238  [Epoch 5] indivisual [4] class recall: 0.990066\n",
      "2018-12-01 19:14:06.786482  [Epoch 5] indivisual [4] class precision: 0.990252\n",
      "2018-12-01 19:14:06.787757   Evaluation one (validation set) epoch   6 /  10\n"
     ]
    },
    {
     "name": "stderr",
     "output_type": "stream",
     "text": [
      "100%|██████████| 287/287 [00:13<00:00, 20.91it/s]\n"
     ]
    },
    {
     "name": "stdout",
     "output_type": "stream",
     "text": [
      "2018-12-01 19:14:20.819080  [Epoch 5] vali mean loss: 0.003184\n",
      "2018-12-01 19:14:20.821063  [Epoch 5] vali accuracy: 0.999233\n",
      "2018-12-01 19:14:20.822950  [Epoch 5] vali avg class acc: 1.000000\n",
      "2018-12-01 19:14:20.824648  [Epoch 5] vali indivisual [0] class recall: 1.000000\n",
      "2018-12-01 19:14:20.826129  [Epoch 5] vali indivisual [0] class precision: 1.000000\n",
      "2018-12-01 19:14:20.827634  [Epoch 5] vali indivisual [1] class recall: 1.000000\n",
      "2018-12-01 19:14:20.829356  [Epoch 5] vali indivisual [1] class precision: 1.000000\n",
      "2018-12-01 19:14:20.831171  [Epoch 5] vali indivisual [2] class recall: 1.000000\n",
      "2018-12-01 19:14:20.832907  [Epoch 5] vali indivisual [2] class precision: 1.000000\n",
      "2018-12-01 19:14:20.834669  [Epoch 5] vali indivisual [3] class recall: 1.000000\n",
      "2018-12-01 19:14:20.836406  [Epoch 5] vali indivisual [3] class precision: 1.000000\n",
      "2018-12-01 19:14:20.838054  [Epoch 5] vali indivisual [4] class recall: 1.000000\n",
      "2018-12-01 19:14:20.839636  [Epoch 5] vali indivisual [4] class precision: 1.000000\n",
      "2018-12-01 19:14:20.841345   Train one epoch   7 /  10\n"
     ]
    },
    {
     "name": "stderr",
     "output_type": "stream",
     "text": [
      "100%|██████████| 2124/2124 [07:48<00:00,  4.54it/s]\n"
     ]
    },
    {
     "name": "stdout",
     "output_type": "stream",
     "text": [
      "2018-12-01 19:22:10.427723  [Epoch 6] mean loss: 0.000275\n",
      "2018-12-01 19:22:10.429578  [Epoch 6] accuracy: 0.996017\n",
      "2018-12-01 19:22:10.431799  [Epoch 6] avg class acc: 0.996017\n",
      "2018-12-01 19:22:10.433470  [Epoch 6] indivisual [0] class recall: 0.999529\n",
      "2018-12-01 19:22:10.435103  [Epoch 6] indivisual [0] class precision: 0.999435\n",
      "2018-12-01 19:22:10.436733  [Epoch 6] indivisual [1] class recall: 0.994680\n",
      "2018-12-01 19:22:10.438250  [Epoch 6] indivisual [1] class precision: 0.993978\n",
      "2018-12-01 19:22:10.439814  [Epoch 6] indivisual [2] class recall: 0.995763\n",
      "2018-12-01 19:22:10.441696  [Epoch 6] indivisual [2] class precision: 0.995903\n",
      "2018-12-01 19:22:10.443661  [Epoch 6] indivisual [3] class recall: 0.995810\n",
      "2018-12-01 19:22:10.445291  [Epoch 6] indivisual [3] class precision: 0.996748\n",
      "2018-12-01 19:22:10.446893  [Epoch 6] indivisual [4] class recall: 0.994303\n",
      "2018-12-01 19:22:10.448578  [Epoch 6] indivisual [4] class precision: 0.994022\n",
      "2018-12-01 19:22:10.450182   Evaluation one (validation set) epoch   7 /  10\n"
     ]
    },
    {
     "name": "stderr",
     "output_type": "stream",
     "text": [
      "100%|██████████| 287/287 [00:13<00:00, 20.92it/s]\n"
     ]
    },
    {
     "name": "stdout",
     "output_type": "stream",
     "text": [
      "2018-12-01 19:22:24.454117  [Epoch 6] vali mean loss: 0.002038\n",
      "2018-12-01 19:22:24.455990  [Epoch 6] vali accuracy: 0.997909\n",
      "2018-12-01 19:22:24.457975  [Epoch 6] vali avg class acc: 0.800000\n",
      "2018-12-01 19:22:24.459675  [Epoch 6] vali indivisual [1] class recall: 1.000000\n",
      "2018-12-01 19:22:24.461543  [Epoch 6] vali indivisual [1] class precision: 1.000000\n",
      "2018-12-01 19:22:24.463412  [Epoch 6] vali indivisual [2] class recall: 1.000000\n",
      "2018-12-01 19:22:24.465152  [Epoch 6] vali indivisual [2] class precision: 1.000000\n",
      "2018-12-01 19:22:24.466845  [Epoch 6] vali indivisual [3] class recall: 1.000000\n",
      "2018-12-01 19:22:24.468515  [Epoch 6] vali indivisual [3] class precision: 1.000000\n",
      "2018-12-01 19:22:24.470228  [Epoch 6] vali indivisual [4] class recall: 1.000000\n",
      "2018-12-01 19:22:24.471915  [Epoch 6] vali indivisual [4] class precision: 1.000000\n",
      "2018-12-01 19:22:24.473580   Train one epoch   8 /  10\n"
     ]
    },
    {
     "name": "stderr",
     "output_type": "stream",
     "text": [
      "100%|██████████| 2124/2124 [07:48<00:00,  4.53it/s]\n"
     ]
    },
    {
     "name": "stdout",
     "output_type": "stream",
     "text": [
      "2018-12-01 19:30:14.491537  [Epoch 7] mean loss: 0.000235\n",
      "2018-12-01 19:30:14.493447  [Epoch 7] accuracy: 0.996620\n",
      "2018-12-01 19:30:14.495504  [Epoch 7] avg class acc: 0.996620\n",
      "2018-12-01 19:30:14.497189  [Epoch 7] indivisual [0] class recall: 0.999435\n",
      "2018-12-01 19:30:14.499033  [Epoch 7] indivisual [0] class precision: 0.999529\n",
      "2018-12-01 19:30:14.501053  [Epoch 7] indivisual [1] class recall: 0.995245\n",
      "2018-12-01 19:30:14.502743  [Epoch 7] indivisual [1] class precision: 0.995667\n",
      "2018-12-01 19:30:14.504404  [Epoch 7] indivisual [2] class recall: 0.996563\n",
      "2018-12-01 19:30:14.506053  [Epoch 7] indivisual [2] class precision: 0.996047\n",
      "2018-12-01 19:30:14.507663  [Epoch 7] indivisual [3] class recall: 0.996751\n",
      "2018-12-01 19:30:14.509384  [Epoch 7] indivisual [3] class precision: 0.997221\n",
      "2018-12-01 19:30:14.511001  [Epoch 7] indivisual [4] class recall: 0.995104\n",
      "2018-12-01 19:30:14.512775  [Epoch 7] indivisual [4] class precision: 0.994635\n",
      "2018-12-01 19:30:14.514394   Evaluation one (validation set) epoch   8 /  10\n"
     ]
    },
    {
     "name": "stderr",
     "output_type": "stream",
     "text": [
      "100%|██████████| 287/287 [00:13<00:00, 20.75it/s]\n"
     ]
    },
    {
     "name": "stdout",
     "output_type": "stream",
     "text": [
      "2018-12-01 19:30:28.696101  [Epoch 7] vali mean loss: 0.001736\n",
      "2018-12-01 19:30:28.697994  [Epoch 7] vali accuracy: 0.998328\n",
      "2018-12-01 19:30:28.699854  [Epoch 7] vali avg class acc: 0.800000\n",
      "2018-12-01 19:30:28.701694  [Epoch 7] vali indivisual [0] class recall: 1.000000\n",
      "2018-12-01 19:30:28.703401  [Epoch 7] vali indivisual [0] class precision: 0.500000\n",
      "2018-12-01 19:30:28.705176  [Epoch 7] vali indivisual [1] class recall: 0.960000\n",
      "2018-12-01 19:30:28.706833  [Epoch 7] vali indivisual [1] class precision: 1.000000\n",
      "2018-12-01 19:30:28.708543  [Epoch 7] vali indivisual [2] class recall: 1.000000\n",
      "2018-12-01 19:30:28.710209  [Epoch 7] vali indivisual [2] class precision: 1.000000\n",
      "2018-12-01 19:30:28.711787  [Epoch 7] vali indivisual [3] class recall: 1.000000\n",
      "2018-12-01 19:30:28.713414  [Epoch 7] vali indivisual [3] class precision: 1.000000\n",
      "2018-12-01 19:30:28.714989  [Epoch 7] vali indivisual [4] class recall: 1.000000\n",
      "2018-12-01 19:30:28.716803  [Epoch 7] vali indivisual [4] class precision: 1.000000\n",
      "2018-12-01 19:30:28.718366   Train one epoch   9 /  10\n"
     ]
    },
    {
     "name": "stderr",
     "output_type": "stream",
     "text": [
      "100%|██████████| 2124/2124 [07:48<00:00,  4.54it/s]\n"
     ]
    },
    {
     "name": "stdout",
     "output_type": "stream",
     "text": [
      "2018-12-01 19:38:18.119795  [Epoch 8] mean loss: 0.000171\n",
      "2018-12-01 19:38:18.121917  [Epoch 8] accuracy: 0.997787\n",
      "2018-12-01 19:38:18.124060  [Epoch 8] avg class acc: 0.997787\n",
      "2018-12-01 19:38:18.127296  [Epoch 8] indivisual [0] class recall: 0.999859\n",
      "2018-12-01 19:38:18.129107  [Epoch 8] indivisual [0] class precision: 0.999718\n",
      "2018-12-01 19:38:18.130940  [Epoch 8] indivisual [1] class recall: 0.996846\n",
      "2018-12-01 19:38:18.132848  [Epoch 8] indivisual [1] class precision: 0.996986\n",
      "2018-12-01 19:38:18.134833  [Epoch 8] indivisual [2] class recall: 0.997740\n",
      "2018-12-01 19:38:18.136689  [Epoch 8] indivisual [2] class precision: 0.997505\n",
      "2018-12-01 19:38:18.138361  [Epoch 8] indivisual [3] class recall: 0.997787\n",
      "2018-12-01 19:38:18.140089  [Epoch 8] indivisual [3] class precision: 0.997928\n",
      "2018-12-01 19:38:18.141906  [Epoch 8] indivisual [4] class recall: 0.996704\n",
      "2018-12-01 19:38:18.143755  [Epoch 8] indivisual [4] class precision: 0.996798\n",
      "2018-12-01 19:38:18.145399   Evaluation one (validation set) epoch   9 /  10\n"
     ]
    },
    {
     "name": "stderr",
     "output_type": "stream",
     "text": [
      "100%|██████████| 287/287 [00:13<00:00, 20.99it/s]\n"
     ]
    },
    {
     "name": "stdout",
     "output_type": "stream",
     "text": [
      "2018-12-01 19:38:32.112198  [Epoch 8] vali mean loss: 0.001266\n",
      "2018-12-01 19:38:32.113946  [Epoch 8] vali accuracy: 0.999233\n",
      "2018-12-01 19:38:32.115683  [Epoch 8] vali avg class acc: 1.000000\n",
      "2018-12-01 19:38:32.117322  [Epoch 8] vali indivisual [0] class recall: 1.000000\n",
      "2018-12-01 19:38:32.119205  [Epoch 8] vali indivisual [0] class precision: 1.000000\n",
      "2018-12-01 19:38:32.121131  [Epoch 8] vali indivisual [1] class recall: 1.000000\n",
      "2018-12-01 19:38:32.122886  [Epoch 8] vali indivisual [1] class precision: 1.000000\n",
      "2018-12-01 19:38:32.124622  [Epoch 8] vali indivisual [2] class recall: 1.000000\n",
      "2018-12-01 19:38:32.126371  [Epoch 8] vali indivisual [2] class precision: 1.000000\n",
      "2018-12-01 19:38:32.128019  [Epoch 8] vali indivisual [3] class recall: 1.000000\n",
      "2018-12-01 19:38:32.129688  [Epoch 8] vali indivisual [3] class precision: 1.000000\n",
      "2018-12-01 19:38:32.131302  [Epoch 8] vali indivisual [4] class recall: 1.000000\n",
      "2018-12-01 19:38:32.133017  [Epoch 8] vali indivisual [4] class precision: 1.000000\n",
      "2018-12-01 19:38:32.134655   Train one epoch  10 /  10\n"
     ]
    },
    {
     "name": "stderr",
     "output_type": "stream",
     "text": [
      "100%|██████████| 2124/2124 [07:48<00:00,  4.53it/s]\n"
     ]
    },
    {
     "name": "stdout",
     "output_type": "stream",
     "text": [
      "2018-12-01 19:46:21.968499  [Epoch 9] mean loss: 0.000149\n",
      "2018-12-01 19:46:21.970693  [Epoch 9] accuracy: 0.997947\n",
      "2018-12-01 19:46:21.972945  [Epoch 9] avg class acc: 0.997947\n",
      "2018-12-01 19:46:21.974868  [Epoch 9] indivisual [0] class recall: 0.999670\n",
      "2018-12-01 19:46:21.976698  [Epoch 9] indivisual [0] class precision: 0.999765\n",
      "2018-12-01 19:46:21.978349  [Epoch 9] indivisual [1] class recall: 0.997222\n",
      "2018-12-01 19:46:21.979902  [Epoch 9] indivisual [1] class precision: 0.997598\n",
      "2018-12-01 19:46:21.981502  [Epoch 9] indivisual [2] class recall: 0.997928\n",
      "2018-12-01 19:46:21.983025  [Epoch 9] indivisual [2] class precision: 0.997694\n",
      "2018-12-01 19:46:21.984710  [Epoch 9] indivisual [3] class recall: 0.997787\n",
      "2018-12-01 19:46:21.986285  [Epoch 9] indivisual [3] class precision: 0.997787\n",
      "2018-12-01 19:46:21.987868  [Epoch 9] indivisual [4] class recall: 0.997128\n",
      "2018-12-01 19:46:21.989426  [Epoch 9] indivisual [4] class precision: 0.996893\n",
      "2018-12-01 19:46:21.991145   Evaluation one (validation set) epoch  10 /  10\n"
     ]
    },
    {
     "name": "stderr",
     "output_type": "stream",
     "text": [
      "100%|██████████| 287/287 [00:13<00:00, 21.15it/s]\n"
     ]
    },
    {
     "name": "stdout",
     "output_type": "stream",
     "text": [
      "2018-12-01 19:46:35.849036  [Epoch 9] vali mean loss: 0.001104\n",
      "2018-12-01 19:46:35.850945  [Epoch 9] vali accuracy: 0.999443\n",
      "2018-12-01 19:46:35.853011  [Epoch 9] vali avg class acc: 0.800000\n",
      "2018-12-01 19:46:35.854854  [Epoch 9] vali indivisual [1] class recall: 1.000000\n",
      "2018-12-01 19:46:35.856593  [Epoch 9] vali indivisual [1] class precision: 1.000000\n",
      "2018-12-01 19:46:35.858306  [Epoch 9] vali indivisual [2] class recall: 1.000000\n",
      "2018-12-01 19:46:35.859882  [Epoch 9] vali indivisual [2] class precision: 1.000000\n",
      "2018-12-01 19:46:35.861516  [Epoch 9] vali indivisual [3] class recall: 1.000000\n",
      "2018-12-01 19:46:35.863123  [Epoch 9] vali indivisual [3] class precision: 1.000000\n",
      "2018-12-01 19:46:35.864774  [Epoch 9] vali indivisual [4] class recall: 1.000000\n",
      "2018-12-01 19:46:35.866383  [Epoch 9] vali indivisual [4] class precision: 1.000000\n",
      "2018-12-01 19:46:36.912406  Model saved in file: /home/gozilla/kyungpyo/git/MasterThesisProject/Network/notebook/train_log_20181201/model_opt3/model.ckpt\n"
     ]
    }
   ],
   "source": [
    "\"\"\" Import model \"\"\"\n",
    "sys.path.append( os.path.abspath('../../model') )\n",
    "\n",
    "from train import *\n",
    "import model_opt3 as MODEL\n",
    "\n",
    "def run_training(out_path):\n",
    "    \"\"\" Path \"\"\"\n",
    "    model_save_path = os.path.abspath(out_path)\n",
    "    if not os.path.isdir(model_save_path) : os.mkdir(model_save_path)\n",
    "    log_path = os.path.abspath(os.path.join(model_save_path, 'train_log.txt') )\n",
    "        \n",
    "    \"\"\" Parameters \"\"\"\n",
    "    GPU_INDEX = 0\n",
    "    NUM_POINT = 1024\n",
    "    NUM_CLASSES = 5\n",
    "\n",
    "    BN_INIT_DECAY = 0.5\n",
    "    BN_DECAY_DECAY_RATE = 0.5\n",
    "    BN_DECAY_DECAY_STEP = float(200000)\n",
    "    BN_DECAY_CLIP = 0.99\n",
    "    DECAY_STEP = BN_DECAY_DECAY_STEP\n",
    "    DECAY_RATE = BN_DECAY_DECAY_RATE\n",
    "\n",
    "    BATCH_SIZE = 50\n",
    "\n",
    "    MOMENTUM = 0.9\n",
    "\n",
    "    BASE_LEARNING_RATE = 0.001\n",
    "\n",
    "    OPTIMIZER = 'adam'\n",
    "\n",
    "    MAX_EPOCH = 10\n",
    "\n",
    "    \"\"\" log file \"\"\"\n",
    "    LOG_FOUT = open(log_path, 'w')\n",
    "\n",
    "    def log_string(out_str):\n",
    "        out_str = str( datetime.datetime.fromtimestamp( time.time() ) ) + \"  \" + out_str\n",
    "        LOG_FOUT.write(out_str+'\\n')\n",
    "        LOG_FOUT.flush()\n",
    "        print(out_str)\n",
    "\n",
    "\n",
    "    def get_learning_rate(batch):\n",
    "        learning_rate = tf.train.exponential_decay(\n",
    "                            BASE_LEARNING_RATE,  # Base learning rate.\n",
    "                            batch * BATCH_SIZE,  # Current index into the dataset.\n",
    "                            DECAY_STEP,          # Decay step.\n",
    "                            DECAY_RATE,          # Decay rate.\n",
    "                            staircase=True)\n",
    "        learning_rate = tf.maximum(learning_rate, 0.00001) # CLIP THE LEARNING RATE!\n",
    "        return learning_rate        \n",
    "\n",
    "    def get_bn_decay(batch):\n",
    "        bn_momentum = tf.train.exponential_decay(\n",
    "                          BN_INIT_DECAY,\n",
    "                          batch * BATCH_SIZE,\n",
    "                          BN_DECAY_DECAY_STEP,\n",
    "                          BN_DECAY_DECAY_RATE,\n",
    "                          staircase=True)\n",
    "        bn_decay = tf.minimum(BN_DECAY_CLIP, 1 - bn_momentum)\n",
    "        return bn_decay\n",
    "\n",
    "    \"\"\" load traing model \"\"\"\n",
    "    with tf.Graph().as_default():\n",
    "        with tf.device('/gpu:'+str(GPU_INDEX)):\n",
    "            pointclouds_pl, labels_pl = MODEL.placeholder_inputs(BATCH_SIZE, NUM_POINT)\n",
    "            is_training_pl = tf.placeholder(tf.bool, shape=())\n",
    "            print(is_training_pl)\n",
    "\n",
    "            # Note the global_step=batch parameter to minimize. \n",
    "            # That tells the optimizer to helpfully increment the 'batch' parameter for you every time it trains.\n",
    "            batch = tf.Variable(0)\n",
    "            bn_decay = get_bn_decay(batch)\n",
    "            tf.summary.scalar('bn_decay', bn_decay)\n",
    "\n",
    "            # Get model and loss \n",
    "            pred, end_points = MODEL.get_model(pointclouds_pl, is_training_pl, bn_decay=bn_decay)\n",
    "            loss = MODEL.get_loss(pred, labels_pl, end_points)\n",
    "            tf.summary.scalar('loss', loss)\n",
    "\n",
    "            correct = tf.equal(tf.argmax(pred, 1), tf.to_int64(labels_pl))\n",
    "            accuracy = tf.reduce_sum(tf.cast(correct, tf.float32)) / float(BATCH_SIZE)\n",
    "            tf.summary.scalar('accuracy', accuracy)\n",
    "\n",
    "            # Get training operator\n",
    "            learning_rate = get_learning_rate(batch)\n",
    "            tf.summary.scalar('learning_rate', learning_rate)\n",
    "            if OPTIMIZER == 'momentum':\n",
    "                optimizer = tf.train.MomentumOptimizer(learning_rate, momentum=MOMENTUM)\n",
    "            elif OPTIMIZER == 'adam':\n",
    "                optimizer = tf.train.AdamOptimizer(learning_rate)\n",
    "            train_op = optimizer.minimize(loss, global_step=batch)\n",
    "\n",
    "            # Add ops to save and restore all the variables.\n",
    "            saver = tf.train.Saver()\n",
    "\n",
    "        # Create a session\n",
    "        config = tf.ConfigProto()\n",
    "        config.gpu_options.allow_growth = True\n",
    "        config.allow_soft_placement = True\n",
    "        config.log_device_placement = False\n",
    "        sess = tf.Session(config=config)\n",
    "\n",
    "        # Add summary writers\n",
    "        #merged = tf.merge_all_summaries()\n",
    "        merged = tf.summary.merge_all()\n",
    "\n",
    "        train_writer_path = os.path.abspath( os.path.join(model_save_path, 'train') )\n",
    "        if os.path.isdir(train_writer_path): os.system('rm -r {}'.format(train_writer_path))\n",
    "        os.mkdir(train_writer_path)\n",
    "\n",
    "        test_writer_path = os.path.abspath( os.path.join(model_save_path, 'test') )\n",
    "        if os.path.isdir(test_writer_path): os.system('rm -r {}'.format(test_writer_path))\n",
    "        os.mkdir(test_writer_path)\n",
    "\n",
    "\n",
    "        train_writer = tf.summary.FileWriter(train_writer_path, sess.graph)\n",
    "        test_writer = tf.summary.FileWriter(test_writer_path)\n",
    "\n",
    "\n",
    "        # Init variables\n",
    "        init = tf.global_variables_initializer()\n",
    "        # To fix the bug introduced in TF 0.12.1 as in\n",
    "        # http://stackoverflow.com/questions/41543774/invalidargumenterror-for-tensor-bool-tensorflow-0-12-1\n",
    "        #sess.run(init)\n",
    "        sess.run(init, {is_training_pl: True})\n",
    "\n",
    "        ops = {'pointclouds_pl': pointclouds_pl,\n",
    "               'labels_pl': labels_pl,\n",
    "               'is_training_pl': is_training_pl,\n",
    "               'pred': pred,\n",
    "               'loss': loss,\n",
    "               'train_op': train_op,\n",
    "               'merged': merged,\n",
    "               'step': batch}\n",
    "\n",
    "\n",
    "        for epoch in range(MAX_EPOCH):\n",
    "\n",
    "            ## Training\n",
    "            log_string ( \" Train one epoch %3d / %3d\" % (epoch+1, MAX_EPOCH) )\n",
    "            sys.stdout.flush()\n",
    "\n",
    "            is_training = True\n",
    "\n",
    "            # Shuffle train files\n",
    "            train_file_idxs = np.arange(0, data_train.shape[0])\n",
    "            np.random.shuffle(train_file_idxs)\n",
    "\n",
    "            current_data = data_train[train_file_idxs] \n",
    "            current_label = label_train[train_file_idxs]\n",
    "            current_label.reshape((data_train.shape[0],))\n",
    "\n",
    "            ## Evaluation metric\n",
    "            total_correct = 0\n",
    "            total_seen = 0\n",
    "            loss_sum = 0\n",
    "\n",
    "            total_class = [0 for _ in range(NUM_CLASSES)]\n",
    "            total_detect_class = [0 for _ in range(NUM_CLASSES)]\n",
    "            total_correct_class = [0 for _ in range(NUM_CLASSES)]\n",
    "\n",
    "            num_batches = current_data.shape[0] // BATCH_SIZE\n",
    "\n",
    "            for batch_idx in trange(num_batches):\n",
    "\n",
    "                start_idx = batch_idx * BATCH_SIZE\n",
    "                end_idx = (batch_idx+1) * BATCH_SIZE           \n",
    "\n",
    "                # Augment batched point clouds by rotation and jittering\n",
    "                rotated_data = provider.rotate_point_cloud(current_data[start_idx:end_idx, :, :])\n",
    "                jittered_data = provider.jitter_point_cloud(rotated_data)\n",
    "\n",
    "                # Reashape\n",
    "                current_label_reshape = current_label[start_idx:end_idx].reshape((BATCH_SIZE,))\n",
    "\n",
    "                feed_dict = {ops['pointclouds_pl']: jittered_data,\n",
    "                             ops['labels_pl']: current_label_reshape,\n",
    "                             ops['is_training_pl']: is_training,}\n",
    "\n",
    "                summary, step, _, loss_val, pred_val = sess.run([ops['merged'], ops['step'],\n",
    "                    ops['train_op'], ops['loss'], ops['pred']], feed_dict=feed_dict)\n",
    "\n",
    "                train_writer.add_summary(summary, step)\n",
    "\n",
    "                pred_val = np.argmax(pred_val, 1)\n",
    "                correct = np.sum(pred_val == current_label_reshape)\n",
    "                total_correct += correct\n",
    "                total_seen += BATCH_SIZE\n",
    "                loss_sum += loss_val\n",
    "\n",
    "                for i in range(NUM_CLASSES):\n",
    "                    total_class[i] += np.sum( np.ones(BATCH_SIZE) * i == current_label_reshape )\n",
    "                    total_detect_class[i] += np.sum( np.ones(BATCH_SIZE) * i == pred_val )\n",
    "                    total_correct_class[i] += np.sum( (np.ones(BATCH_SIZE) * i == current_label_reshape) * \\\n",
    "                                                        (np.ones(BATCH_SIZE) * i == pred_val) )\n",
    "\n",
    "            log_string(  '[Epoch %d] mean loss: %f' % \\\n",
    "                       (  epoch, loss_sum / float(total_seen)  )   )\n",
    "            log_string(  '[Epoch %d] accuracy: %f'% \\\n",
    "                       (  epoch, total_correct / float(total_seen)  )   )\n",
    "            log_string(  '[Epoch %d] avg class acc: %f' % \\\n",
    "                       (  epoch, np.mean( np.array(total_correct_class)/np.array(total_class,dtype=np.float) )  )   )\n",
    "\n",
    "            for i_cls in range(NUM_CLASSES):\n",
    "                if not float(total_class[i_cls]) == 0:\n",
    "                    log_string(  '[Epoch %d] indivisual [%d] class recall: %f' % \\\n",
    "                           (  epoch, i_cls, float(total_correct_class[i_cls])/float(total_class[i_cls])))    \n",
    "                if not float(total_detect_class[i_cls]) == 0:\n",
    "                    log_string(  '[Epoch %d] indivisual [%d] class precision: %f' % \\\n",
    "                           (  epoch, i_cls, float(total_correct_class[i_cls])/float(total_detect_class[i_cls])))    \n",
    "\n",
    "\n",
    "            ## Evaluation using validation set    \n",
    "            log_string ( \" Evaluation one (validation set) epoch %3d / %3d\" % (epoch+1, MAX_EPOCH) )\n",
    "            sys.stdout.flush()\n",
    "\n",
    "            is_training = False\n",
    "            total_correct = 0\n",
    "            total_seen = 0\n",
    "            total_seen_class = [0 for _ in range(NUM_CLASSES)]\n",
    "            total_correct_class = [0 for _ in range(NUM_CLASSES)]\n",
    "            total_detect_class = [0 for _ in range(NUM_CLASSES)]\n",
    "            total_detect_true_class = [0 for _ in range(NUM_CLASSES)]\n",
    "\n",
    "            # Shuffle validation files\n",
    "            file_idxs = np.arange(0, data_vali.shape[0])\n",
    "            np.random.shuffle(file_idxs)\n",
    "\n",
    "            current_data = data_vali[file_idxs]\n",
    "            current_label = label_vali[file_idxs]\n",
    "\n",
    "            num_batches = current_data.shape[0] // BATCH_SIZE\n",
    "\n",
    "            for batch_idx in trange(num_batches):\n",
    "\n",
    "                start_idx = batch_idx * BATCH_SIZE\n",
    "                end_idx = (batch_idx+1) * BATCH_SIZE\n",
    "\n",
    "                # Reashape\n",
    "                current_label_reshape = current_label[start_idx:end_idx].reshape((BATCH_SIZE,))\n",
    "\n",
    "                feed_dict = {ops['pointclouds_pl']: current_data[start_idx:end_idx, :, :],\n",
    "                             ops['labels_pl']: current_label_reshape,\n",
    "                             ops['is_training_pl']: is_training}\n",
    "                summary, step, loss_val, pred_val = sess.run([ops['merged'], ops['step'],\n",
    "                    ops['loss'], ops['pred']], feed_dict=feed_dict)\n",
    "\n",
    "                # test_writer.add_summary(summary, step)\n",
    "\n",
    "                pred_val = np.argmax(pred_val, 1)\n",
    "                correct = np.sum(pred_val == current_label_reshape)\n",
    "                total_correct += correct\n",
    "                total_seen += BATCH_SIZE\n",
    "\n",
    "                for i in range(NUM_CLASSES):\n",
    "                    total_class[i] = np.sum( np.ones(BATCH_SIZE) * i == current_label_reshape )\n",
    "                    total_detect_class[i] = np.sum( np.ones(BATCH_SIZE) * i == pred_val )\n",
    "                    total_correct_class[i] = np.sum( (np.ones(BATCH_SIZE) * i == current_label_reshape) * \\\n",
    "                                                        (np.ones(BATCH_SIZE) * i == pred_val) )\n",
    "\n",
    "            log_string(  '[Epoch %d] vali mean loss: %f' % \\\n",
    "                       (  epoch, loss_sum / float(total_seen)  )   )\n",
    "            log_string(  '[Epoch %d] vali accuracy: %f'% \\\n",
    "                       (  epoch, total_correct / float(total_seen)  )   )\n",
    "            log_string(  '[Epoch %d] vali avg class acc: %f' % \\\n",
    "                       (  epoch, np.mean( np.array(total_correct_class) / np.array(total_class) )  )   )\n",
    "\n",
    "            for i_cls in range(NUM_CLASSES):\n",
    "                if not float(total_class[i_cls]) == 0:\n",
    "                    log_string(  '[Epoch %d] vali indivisual [%d] class recall: %f' % \\\n",
    "                           (  epoch, i_cls, float(total_correct_class[i_cls])/float(total_class[i_cls])))    \n",
    "                if not float(total_detect_class[i_cls]) == 0:\n",
    "                    log_string(  '[Epoch %d] vali indivisual [%d] class precision: %f' % \\\n",
    "                           (  epoch, i_cls, float(total_correct_class[i_cls])/float(total_detect_class[i_cls])))    \n",
    "\n",
    "\n",
    "            # Save the variables to disk.\n",
    "            if ( epoch + 1 ) % 10 == 0:\n",
    "                save_path = saver.save(sess, os.path.join(model_save_path, \"model.ckpt\"))\n",
    "                log_string(\"Model saved in file: %s\" % save_path)\n",
    "\n",
    "# option 1: execute code with extra process\n",
    "p = multiprocessing.Process(target=run_training, args = ('./model_opt3',))\n",
    "p.start()\n",
    "p.join()"
   ]
  },
  {
   "cell_type": "code",
   "execution_count": 8,
   "metadata": {},
   "outputs": [
    {
     "name": "stdout",
     "output_type": "stream",
     "text": [
      "Tensor(\"Placeholder_2:0\", shape=(), dtype=bool, device=/device:GPU:0)\n",
      "INFO:tensorflow:Summary name classify loss is illegal; using classify_loss instead.\n",
      "INFO:tensorflow:Summary name mat loss is illegal; using mat_loss instead.\n",
      "2018-12-01 19:46:44.552505   Train one epoch   1 /  10\n"
     ]
    },
    {
     "name": "stderr",
     "output_type": "stream",
     "text": [
      "100%|██████████| 2124/2124 [09:41<00:00,  3.65it/s]\n"
     ]
    },
    {
     "name": "stdout",
     "output_type": "stream",
     "text": [
      "2018-12-01 19:56:27.413967  [Epoch 0] mean loss: 0.011203\n",
      "2018-12-01 19:56:27.415987  [Epoch 0] accuracy: 0.786893\n",
      "2018-12-01 19:56:27.417966  [Epoch 0] avg class acc: 0.786893\n",
      "2018-12-01 19:56:27.419656  [Epoch 0] indivisual [0] class recall: 0.960876\n",
      "2018-12-01 19:56:27.421341  [Epoch 0] indivisual [0] class precision: 0.958124\n",
      "2018-12-01 19:56:27.422996  [Epoch 0] indivisual [1] class recall: 0.756309\n",
      "2018-12-01 19:56:27.424719  [Epoch 0] indivisual [1] class precision: 0.697858\n",
      "2018-12-01 19:56:27.426296  [Epoch 0] indivisual [2] class recall: 0.676271\n",
      "2018-12-01 19:56:27.427891  [Epoch 0] indivisual [2] class precision: 0.748437\n",
      "2018-12-01 19:56:27.429404  [Epoch 0] indivisual [3] class recall: 0.762147\n",
      "2018-12-01 19:56:27.430889  [Epoch 0] indivisual [3] class precision: 0.756131\n",
      "2018-12-01 19:56:27.432431  [Epoch 0] indivisual [4] class recall: 0.778861\n",
      "2018-12-01 19:56:27.433971  [Epoch 0] indivisual [4] class precision: 0.777433\n",
      "2018-12-01 19:56:27.435494   Evaluation one (validation set) epoch   1 /  10\n"
     ]
    },
    {
     "name": "stderr",
     "output_type": "stream",
     "text": [
      "100%|██████████| 287/287 [00:18<00:00, 15.49it/s]\n"
     ]
    },
    {
     "name": "stdout",
     "output_type": "stream",
     "text": [
      "2018-12-01 19:56:46.234726  [Epoch 0] vali mean loss: 0.082912\n",
      "2018-12-01 19:56:46.236797  [Epoch 0] vali accuracy: 0.972265\n",
      "2018-12-01 19:56:46.238735  [Epoch 0] vali avg class acc: 0.600000\n",
      "2018-12-01 19:56:46.240613  [Epoch 0] vali indivisual [1] class recall: 0.958333\n",
      "2018-12-01 19:56:46.242562  [Epoch 0] vali indivisual [1] class precision: 1.000000\n",
      "2018-12-01 19:56:46.244379  [Epoch 0] vali indivisual [2] class recall: 1.000000\n",
      "2018-12-01 19:56:46.246168  [Epoch 0] vali indivisual [2] class precision: 0.900000\n",
      "2018-12-01 19:56:46.247933  [Epoch 0] vali indivisual [3] class recall: 1.000000\n",
      "2018-12-01 19:56:46.249703  [Epoch 0] vali indivisual [3] class precision: 1.000000\n",
      "2018-12-01 19:56:46.251329  [Epoch 0] vali indivisual [4] class recall: 1.000000\n",
      "2018-12-01 19:56:46.253000  [Epoch 0] vali indivisual [4] class precision: 1.000000\n",
      "2018-12-01 19:56:46.254575   Train one epoch   2 /  10\n"
     ]
    },
    {
     "name": "stderr",
     "output_type": "stream",
     "text": [
      "100%|██████████| 2124/2124 [09:38<00:00,  3.67it/s]\n"
     ]
    },
    {
     "name": "stdout",
     "output_type": "stream",
     "text": [
      "2018-12-01 20:06:26.247826  [Epoch 1] mean loss: 0.003113\n",
      "2018-12-01 20:06:26.249970  [Epoch 1] accuracy: 0.948983\n",
      "2018-12-01 20:06:26.252170  [Epoch 1] avg class acc: 0.948983\n",
      "2018-12-01 20:06:26.254051  [Epoch 1] indivisual [0] class recall: 0.993267\n",
      "2018-12-01 20:06:26.256162  [Epoch 1] indivisual [0] class precision: 0.990702\n",
      "2018-12-01 20:06:26.258477  [Epoch 1] indivisual [1] class recall: 0.936158\n",
      "2018-12-01 20:06:26.260296  [Epoch 1] indivisual [1] class precision: 0.927945\n",
      "2018-12-01 20:06:26.262090  [Epoch 1] indivisual [2] class recall: 0.947222\n",
      "2018-12-01 20:06:26.263783  [Epoch 1] indivisual [2] class precision: 0.942784\n",
      "2018-12-01 20:06:26.265493  [Epoch 1] indivisual [3] class recall: 0.950188\n",
      "2018-12-01 20:06:26.267135  [Epoch 1] indivisual [3] class precision: 0.948090\n",
      "2018-12-01 20:06:26.268931  [Epoch 1] indivisual [4] class recall: 0.918079\n",
      "2018-12-01 20:06:26.270593  [Epoch 1] indivisual [4] class precision: 0.935252\n",
      "2018-12-01 20:06:26.272230   Evaluation one (validation set) epoch   2 /  10\n"
     ]
    },
    {
     "name": "stderr",
     "output_type": "stream",
     "text": [
      "100%|██████████| 287/287 [00:18<00:00, 15.66it/s]\n"
     ]
    },
    {
     "name": "stdout",
     "output_type": "stream",
     "text": [
      "2018-12-01 20:06:44.864498  [Epoch 1] vali mean loss: 0.023040\n",
      "2018-12-01 20:06:44.866519  [Epoch 1] vali accuracy: 0.985017\n",
      "2018-12-01 20:06:44.868495  [Epoch 1] vali avg class acc: 1.000000\n",
      "2018-12-01 20:06:44.870207  [Epoch 1] vali indivisual [0] class recall: 1.000000\n",
      "2018-12-01 20:06:44.872120  [Epoch 1] vali indivisual [0] class precision: 1.000000\n",
      "2018-12-01 20:06:44.873958  [Epoch 1] vali indivisual [1] class recall: 1.000000\n",
      "2018-12-01 20:06:44.875732  [Epoch 1] vali indivisual [1] class precision: 1.000000\n",
      "2018-12-01 20:06:44.877457  [Epoch 1] vali indivisual [2] class recall: 1.000000\n",
      "2018-12-01 20:06:44.879134  [Epoch 1] vali indivisual [2] class precision: 1.000000\n",
      "2018-12-01 20:06:44.880856  [Epoch 1] vali indivisual [3] class recall: 1.000000\n",
      "2018-12-01 20:06:44.882535  [Epoch 1] vali indivisual [3] class precision: 1.000000\n",
      "2018-12-01 20:06:44.884153  [Epoch 1] vali indivisual [4] class recall: 1.000000\n",
      "2018-12-01 20:06:44.885783  [Epoch 1] vali indivisual [4] class precision: 1.000000\n",
      "2018-12-01 20:06:44.887387   Train one epoch   3 /  10\n"
     ]
    },
    {
     "name": "stderr",
     "output_type": "stream",
     "text": [
      "100%|██████████| 2124/2124 [09:39<00:00,  3.67it/s]\n"
     ]
    },
    {
     "name": "stdout",
     "output_type": "stream",
     "text": [
      "2018-12-01 20:16:25.206796  [Epoch 2] mean loss: 0.001251\n",
      "2018-12-01 20:16:25.208831  [Epoch 2] accuracy: 0.980386\n",
      "2018-12-01 20:16:25.210887  [Epoch 2] avg class acc: 0.980386\n",
      "2018-12-01 20:16:25.212829  [Epoch 2] indivisual [0] class recall: 0.998164\n",
      "2018-12-01 20:16:25.214842  [Epoch 2] indivisual [0] class precision: 0.996897\n",
      "2018-12-01 20:16:25.216935  [Epoch 2] indivisual [1] class recall: 0.976601\n",
      "2018-12-01 20:16:25.218681  [Epoch 2] indivisual [1] class precision: 0.974307\n",
      "2018-12-01 20:16:25.220332  [Epoch 2] indivisual [2] class recall: 0.982768\n",
      "2018-12-01 20:16:25.222001  [Epoch 2] indivisual [2] class precision: 0.980921\n",
      "2018-12-01 20:16:25.223624  [Epoch 2] indivisual [3] class recall: 0.978672\n",
      "2018-12-01 20:16:25.225260  [Epoch 2] indivisual [3] class precision: 0.980010\n",
      "2018-12-01 20:16:25.226823  [Epoch 2] indivisual [4] class recall: 0.965725\n",
      "2018-12-01 20:16:25.228483  [Epoch 2] indivisual [4] class precision: 0.969743\n",
      "2018-12-01 20:16:25.230040   Evaluation one (validation set) epoch   3 /  10\n"
     ]
    },
    {
     "name": "stderr",
     "output_type": "stream",
     "text": [
      "100%|██████████| 287/287 [00:18<00:00, 15.66it/s]\n"
     ]
    },
    {
     "name": "stdout",
     "output_type": "stream",
     "text": [
      "2018-12-01 20:16:43.836897  [Epoch 2] vali mean loss: 0.009261\n",
      "2018-12-01 20:16:43.838839  [Epoch 2] vali accuracy: 0.990801\n",
      "2018-12-01 20:16:43.840739  [Epoch 2] vali avg class acc: 1.000000\n",
      "2018-12-01 20:16:43.842248  [Epoch 2] vali indivisual [0] class recall: 1.000000\n",
      "2018-12-01 20:16:43.843870  [Epoch 2] vali indivisual [0] class precision: 1.000000\n",
      "2018-12-01 20:16:43.845452  [Epoch 2] vali indivisual [1] class recall: 1.000000\n",
      "2018-12-01 20:16:43.847052  [Epoch 2] vali indivisual [1] class precision: 1.000000\n",
      "2018-12-01 20:16:43.848695  [Epoch 2] vali indivisual [2] class recall: 1.000000\n",
      "2018-12-01 20:16:43.850205  [Epoch 2] vali indivisual [2] class precision: 1.000000\n",
      "2018-12-01 20:16:43.851554  [Epoch 2] vali indivisual [3] class recall: 1.000000\n",
      "2018-12-01 20:16:43.853068  [Epoch 2] vali indivisual [3] class precision: 1.000000\n",
      "2018-12-01 20:16:43.854444  [Epoch 2] vali indivisual [4] class recall: 1.000000\n",
      "2018-12-01 20:16:43.855833  [Epoch 2] vali indivisual [4] class precision: 1.000000\n",
      "2018-12-01 20:16:43.857302   Train one epoch   4 /  10\n"
     ]
    },
    {
     "name": "stderr",
     "output_type": "stream",
     "text": [
      "100%|██████████| 2124/2124 [09:39<00:00,  3.67it/s]\n"
     ]
    },
    {
     "name": "stdout",
     "output_type": "stream",
     "text": [
      "2018-12-01 20:26:24.362647  [Epoch 3] mean loss: 0.000918\n",
      "2018-12-01 20:26:24.364657  [Epoch 3] accuracy: 0.985951\n",
      "2018-12-01 20:26:24.366738  [Epoch 3] avg class acc: 0.985951\n",
      "2018-12-01 20:26:24.368627  [Epoch 3] indivisual [0] class recall: 0.998399\n",
      "2018-12-01 20:26:24.370535  [Epoch 3] indivisual [0] class precision: 0.997976\n",
      "2018-12-01 20:26:24.372404  [Epoch 3] indivisual [1] class recall: 0.983286\n",
      "2018-12-01 20:26:24.374135  [Epoch 3] indivisual [1] class precision: 0.982223\n",
      "2018-12-01 20:26:24.375718  [Epoch 3] indivisual [2] class recall: 0.987994\n",
      "2018-12-01 20:26:24.377355  [Epoch 3] indivisual [2] class precision: 0.986137\n",
      "2018-12-01 20:26:24.379043  [Epoch 3] indivisual [3] class recall: 0.984275\n",
      "2018-12-01 20:26:24.380727  [Epoch 3] indivisual [3] class precision: 0.985388\n",
      "2018-12-01 20:26:24.382292  [Epoch 3] indivisual [4] class recall: 0.975800\n",
      "2018-12-01 20:26:24.383781  [Epoch 3] indivisual [4] class precision: 0.978011\n",
      "2018-12-01 20:26:24.385283   Evaluation one (validation set) epoch   4 /  10\n"
     ]
    },
    {
     "name": "stderr",
     "output_type": "stream",
     "text": [
      "100%|██████████| 287/287 [00:18<00:00, 15.62it/s]\n"
     ]
    },
    {
     "name": "stdout",
     "output_type": "stream",
     "text": [
      "2018-12-01 20:26:43.050234  [Epoch 3] vali mean loss: 0.006790\n",
      "2018-12-01 20:26:43.052101  [Epoch 3] vali accuracy: 0.995679\n",
      "2018-12-01 20:26:43.054054  [Epoch 3] vali avg class acc: 1.000000\n",
      "2018-12-01 20:26:43.055757  [Epoch 3] vali indivisual [0] class recall: 1.000000\n",
      "2018-12-01 20:26:43.057386  [Epoch 3] vali indivisual [0] class precision: 1.000000\n",
      "2018-12-01 20:26:43.059247  [Epoch 3] vali indivisual [1] class recall: 1.000000\n",
      "2018-12-01 20:26:43.061326  [Epoch 3] vali indivisual [1] class precision: 1.000000\n",
      "2018-12-01 20:26:43.063067  [Epoch 3] vali indivisual [2] class recall: 1.000000\n",
      "2018-12-01 20:26:43.064757  [Epoch 3] vali indivisual [2] class precision: 1.000000\n",
      "2018-12-01 20:26:43.066449  [Epoch 3] vali indivisual [3] class recall: 1.000000\n",
      "2018-12-01 20:26:43.068113  [Epoch 3] vali indivisual [3] class precision: 1.000000\n",
      "2018-12-01 20:26:43.069880  [Epoch 3] vali indivisual [4] class recall: 1.000000\n",
      "2018-12-01 20:26:43.071510  [Epoch 3] vali indivisual [4] class precision: 1.000000\n",
      "2018-12-01 20:26:43.073175   Train one epoch   5 /  10\n"
     ]
    },
    {
     "name": "stderr",
     "output_type": "stream",
     "text": [
      "100%|██████████| 2124/2124 [09:39<00:00,  3.67it/s]\n"
     ]
    },
    {
     "name": "stdout",
     "output_type": "stream",
     "text": [
      "2018-12-01 20:36:23.406226  [Epoch 4] mean loss: 0.000456\n",
      "2018-12-01 20:36:23.408151  [Epoch 4] accuracy: 0.993597\n",
      "2018-12-01 20:36:23.410138  [Epoch 4] avg class acc: 0.993597\n",
      "2018-12-01 20:36:23.412264  [Epoch 4] indivisual [0] class recall: 0.999341\n",
      "2018-12-01 20:36:23.414360  [Epoch 4] indivisual [0] class precision: 0.998918\n",
      "2018-12-01 20:36:23.416109  [Epoch 4] indivisual [1] class recall: 0.991620\n",
      "2018-12-01 20:36:23.417865  [Epoch 4] indivisual [1] class precision: 0.991573\n",
      "2018-12-01 20:36:23.419515  [Epoch 4] indivisual [2] class recall: 0.994633\n",
      "2018-12-01 20:36:23.421202  [Epoch 4] indivisual [2] class precision: 0.993931\n",
      "2018-12-01 20:36:23.422857  [Epoch 4] indivisual [3] class recall: 0.993032\n",
      "2018-12-01 20:36:23.425194  [Epoch 4] indivisual [3] class precision: 0.993640\n",
      "2018-12-01 20:36:23.427045  [Epoch 4] indivisual [4] class recall: 0.989360\n",
      "2018-12-01 20:36:23.428801  [Epoch 4] indivisual [4] class precision: 0.989919\n",
      "2018-12-01 20:36:23.430714   Evaluation one (validation set) epoch   5 /  10\n"
     ]
    },
    {
     "name": "stderr",
     "output_type": "stream",
     "text": [
      "100%|██████████| 287/287 [00:18<00:00, 15.66it/s]\n"
     ]
    },
    {
     "name": "stdout",
     "output_type": "stream",
     "text": [
      "2018-12-01 20:36:42.045240  [Epoch 4] vali mean loss: 0.003373\n",
      "2018-12-01 20:36:42.047074  [Epoch 4] vali accuracy: 0.991707\n",
      "2018-12-01 20:36:42.049110  [Epoch 4] vali avg class acc: 1.000000\n",
      "2018-12-01 20:36:42.050883  [Epoch 4] vali indivisual [0] class recall: 1.000000\n",
      "2018-12-01 20:36:42.052660  [Epoch 4] vali indivisual [0] class precision: 1.000000\n",
      "2018-12-01 20:36:42.054562  [Epoch 4] vali indivisual [1] class recall: 1.000000\n",
      "2018-12-01 20:36:42.056558  [Epoch 4] vali indivisual [1] class precision: 1.000000\n",
      "2018-12-01 20:36:42.058411  [Epoch 4] vali indivisual [2] class recall: 1.000000\n",
      "2018-12-01 20:36:42.060194  [Epoch 4] vali indivisual [2] class precision: 1.000000\n",
      "2018-12-01 20:36:42.061948  [Epoch 4] vali indivisual [3] class recall: 1.000000\n",
      "2018-12-01 20:36:42.063684  [Epoch 4] vali indivisual [3] class precision: 1.000000\n",
      "2018-12-01 20:36:42.065419  [Epoch 4] vali indivisual [4] class recall: 1.000000\n",
      "2018-12-01 20:36:42.067103  [Epoch 4] vali indivisual [4] class precision: 1.000000\n",
      "2018-12-01 20:36:42.068913   Train one epoch   6 /  10\n"
     ]
    },
    {
     "name": "stderr",
     "output_type": "stream",
     "text": [
      "100%|██████████| 2124/2124 [09:38<00:00,  3.67it/s]\n"
     ]
    },
    {
     "name": "stdout",
     "output_type": "stream",
     "text": [
      "2018-12-01 20:46:22.353982  [Epoch 5] mean loss: 0.000364\n",
      "2018-12-01 20:46:22.356020  [Epoch 5] accuracy: 0.994859\n",
      "2018-12-01 20:46:22.357979  [Epoch 5] avg class acc: 0.994859\n",
      "2018-12-01 20:46:22.359970  [Epoch 5] indivisual [0] class recall: 0.999341\n",
      "2018-12-01 20:46:22.361999  [Epoch 5] indivisual [0] class precision: 0.999153\n",
      "2018-12-01 20:46:22.363687  [Epoch 5] indivisual [1] class recall: 0.992608\n",
      "2018-12-01 20:46:22.365347  [Epoch 5] indivisual [1] class precision: 0.993123\n",
      "2018-12-01 20:46:22.367008  [Epoch 5] indivisual [2] class recall: 0.995245\n",
      "2018-12-01 20:46:22.368822  [Epoch 5] indivisual [2] class precision: 0.993888\n",
      "2018-12-01 20:46:22.370557  [Epoch 5] indivisual [3] class recall: 0.995009\n",
      "2018-12-01 20:46:22.372263  [Epoch 5] indivisual [3] class precision: 0.995291\n",
      "2018-12-01 20:46:22.373995  [Epoch 5] indivisual [4] class recall: 0.992090\n",
      "2018-12-01 20:46:22.375603  [Epoch 5] indivisual [4] class precision: 0.992838\n",
      "2018-12-01 20:46:22.377208   Evaluation one (validation set) epoch   6 /  10\n"
     ]
    },
    {
     "name": "stderr",
     "output_type": "stream",
     "text": [
      "100%|██████████| 287/287 [00:18<00:00, 15.62it/s]\n"
     ]
    },
    {
     "name": "stdout",
     "output_type": "stream",
     "text": [
      "2018-12-01 20:46:41.044065  [Epoch 5] vali mean loss: 0.002693\n",
      "2018-12-01 20:46:41.045933  [Epoch 5] vali accuracy: 0.998606\n",
      "2018-12-01 20:46:41.047948  [Epoch 5] vali avg class acc: 1.000000\n",
      "2018-12-01 20:46:41.049674  [Epoch 5] vali indivisual [0] class recall: 1.000000\n",
      "2018-12-01 20:46:41.051597  [Epoch 5] vali indivisual [0] class precision: 1.000000\n",
      "2018-12-01 20:46:41.053667  [Epoch 5] vali indivisual [1] class recall: 1.000000\n",
      "2018-12-01 20:46:41.055349  [Epoch 5] vali indivisual [1] class precision: 1.000000\n",
      "2018-12-01 20:46:41.056984  [Epoch 5] vali indivisual [2] class recall: 1.000000\n",
      "2018-12-01 20:46:41.058652  [Epoch 5] vali indivisual [2] class precision: 1.000000\n",
      "2018-12-01 20:46:41.060358  [Epoch 5] vali indivisual [3] class recall: 1.000000\n",
      "2018-12-01 20:46:41.061996  [Epoch 5] vali indivisual [3] class precision: 1.000000\n",
      "2018-12-01 20:46:41.063630  [Epoch 5] vali indivisual [4] class recall: 1.000000\n",
      "2018-12-01 20:46:41.065361  [Epoch 5] vali indivisual [4] class precision: 1.000000\n",
      "2018-12-01 20:46:41.066950   Train one epoch   7 /  10\n"
     ]
    },
    {
     "name": "stderr",
     "output_type": "stream",
     "text": [
      "100%|██████████| 2124/2124 [09:38<00:00,  3.67it/s]\n"
     ]
    },
    {
     "name": "stdout",
     "output_type": "stream",
     "text": [
      "2018-12-01 20:56:21.273008  [Epoch 6] mean loss: 0.000218\n",
      "2018-12-01 20:56:21.274986  [Epoch 6] accuracy: 0.997062\n",
      "2018-12-01 20:56:21.276936  [Epoch 6] avg class acc: 0.997062\n",
      "2018-12-01 20:56:21.278741  [Epoch 6] indivisual [0] class recall: 0.999623\n",
      "2018-12-01 20:56:21.280517  [Epoch 6] indivisual [0] class precision: 0.999435\n",
      "2018-12-01 20:56:21.282167  [Epoch 6] indivisual [1] class recall: 0.996139\n",
      "2018-12-01 20:56:21.283689  [Epoch 6] indivisual [1] class precision: 0.996092\n",
      "2018-12-01 20:56:21.285377  [Epoch 6] indivisual [2] class recall: 0.997505\n",
      "2018-12-01 20:56:21.286938  [Epoch 6] indivisual [2] class precision: 0.996754\n",
      "2018-12-01 20:56:21.288703  [Epoch 6] indivisual [3] class recall: 0.997081\n",
      "2018-12-01 20:56:21.290509  [Epoch 6] indivisual [3] class precision: 0.996987\n",
      "2018-12-01 20:56:21.292567  [Epoch 6] indivisual [4] class recall: 0.994962\n",
      "2018-12-01 20:56:21.294331  [Epoch 6] indivisual [4] class precision: 0.996041\n",
      "2018-12-01 20:56:21.296182   Evaluation one (validation set) epoch   7 /  10\n"
     ]
    },
    {
     "name": "stderr",
     "output_type": "stream",
     "text": [
      "100%|██████████| 287/287 [00:18<00:00, 15.66it/s]\n"
     ]
    },
    {
     "name": "stdout",
     "output_type": "stream",
     "text": [
      "2018-12-01 20:56:39.925913  [Epoch 6] vali mean loss: 0.001612\n",
      "2018-12-01 20:56:39.927757  [Epoch 6] vali accuracy: 0.997770\n",
      "2018-12-01 20:56:39.930056  [Epoch 6] vali avg class acc: 0.800000\n",
      "2018-12-01 20:56:39.932063  [Epoch 6] vali indivisual [1] class recall: 1.000000\n",
      "2018-12-01 20:56:39.933990  [Epoch 6] vali indivisual [1] class precision: 1.000000\n",
      "2018-12-01 20:56:39.935780  [Epoch 6] vali indivisual [2] class recall: 1.000000\n",
      "2018-12-01 20:56:39.937520  [Epoch 6] vali indivisual [2] class precision: 1.000000\n",
      "2018-12-01 20:56:39.939177  [Epoch 6] vali indivisual [3] class recall: 1.000000\n",
      "2018-12-01 20:56:39.940945  [Epoch 6] vali indivisual [3] class precision: 1.000000\n",
      "2018-12-01 20:56:39.942646  [Epoch 6] vali indivisual [4] class recall: 1.000000\n",
      "2018-12-01 20:56:39.944339  [Epoch 6] vali indivisual [4] class precision: 1.000000\n",
      "2018-12-01 20:56:39.945956   Train one epoch   8 /  10\n"
     ]
    },
    {
     "name": "stderr",
     "output_type": "stream",
     "text": [
      "100%|██████████| 2124/2124 [09:39<00:00,  3.67it/s]\n"
     ]
    },
    {
     "name": "stdout",
     "output_type": "stream",
     "text": [
      "2018-12-01 21:06:20.347680  [Epoch 7] mean loss: 0.000189\n",
      "2018-12-01 21:06:20.349618  [Epoch 7] accuracy: 0.997947\n",
      "2018-12-01 21:06:20.351525  [Epoch 7] avg class acc: 0.997947\n",
      "2018-12-01 21:06:20.353102  [Epoch 7] indivisual [0] class recall: 0.999718\n",
      "2018-12-01 21:06:20.354876  [Epoch 7] indivisual [0] class precision: 0.999576\n",
      "2018-12-01 21:06:20.356622  [Epoch 7] indivisual [1] class recall: 0.997034\n",
      "2018-12-01 21:06:20.358178  [Epoch 7] indivisual [1] class precision: 0.997739\n",
      "2018-12-01 21:06:20.359722  [Epoch 7] indivisual [2] class recall: 0.997787\n",
      "2018-12-01 21:06:20.361252  [Epoch 7] indivisual [2] class precision: 0.997458\n",
      "2018-12-01 21:06:20.363177  [Epoch 7] indivisual [3] class recall: 0.998117\n",
      "2018-12-01 21:06:20.365250  [Epoch 7] indivisual [3] class precision: 0.997882\n",
      "2018-12-01 21:06:20.367017  [Epoch 7] indivisual [4] class recall: 0.997081\n",
      "2018-12-01 21:06:20.368766  [Epoch 7] indivisual [4] class precision: 0.997081\n",
      "2018-12-01 21:06:20.370542   Evaluation one (validation set) epoch   8 /  10\n"
     ]
    },
    {
     "name": "stderr",
     "output_type": "stream",
     "text": [
      "100%|██████████| 287/287 [00:18<00:00, 15.66it/s]\n"
     ]
    },
    {
     "name": "stdout",
     "output_type": "stream",
     "text": [
      "2018-12-01 21:06:38.988119  [Epoch 7] vali mean loss: 0.001402\n",
      "2018-12-01 21:06:38.990519  [Epoch 7] vali accuracy: 0.998188\n",
      "2018-12-01 21:06:38.992545  [Epoch 7] vali avg class acc: 1.000000\n",
      "2018-12-01 21:06:38.994266  [Epoch 7] vali indivisual [0] class recall: 1.000000\n",
      "2018-12-01 21:06:38.996008  [Epoch 7] vali indivisual [0] class precision: 1.000000\n",
      "2018-12-01 21:06:38.997933  [Epoch 7] vali indivisual [1] class recall: 1.000000\n",
      "2018-12-01 21:06:39.000027  [Epoch 7] vali indivisual [1] class precision: 1.000000\n",
      "2018-12-01 21:06:39.001803  [Epoch 7] vali indivisual [2] class recall: 1.000000\n",
      "2018-12-01 21:06:39.003489  [Epoch 7] vali indivisual [2] class precision: 1.000000\n",
      "2018-12-01 21:06:39.005271  [Epoch 7] vali indivisual [3] class recall: 1.000000\n",
      "2018-12-01 21:06:39.006970  [Epoch 7] vali indivisual [3] class precision: 1.000000\n",
      "2018-12-01 21:06:39.008701  [Epoch 7] vali indivisual [4] class recall: 1.000000\n",
      "2018-12-01 21:06:39.010383  [Epoch 7] vali indivisual [4] class precision: 1.000000\n",
      "2018-12-01 21:06:39.012000   Train one epoch   9 /  10\n"
     ]
    },
    {
     "name": "stderr",
     "output_type": "stream",
     "text": [
      "100%|██████████| 2124/2124 [09:38<00:00,  3.67it/s]\n"
     ]
    },
    {
     "name": "stdout",
     "output_type": "stream",
     "text": [
      "2018-12-01 21:16:19.167360  [Epoch 8] mean loss: 0.000124\n",
      "2018-12-01 21:16:19.169218  [Epoch 8] accuracy: 0.998446\n",
      "2018-12-01 21:16:19.171383  [Epoch 8] avg class acc: 0.998446\n",
      "2018-12-01 21:16:19.173287  [Epoch 8] indivisual [0] class recall: 0.999906\n",
      "2018-12-01 21:16:19.175036  [Epoch 8] indivisual [0] class precision: 0.999812\n",
      "2018-12-01 21:16:19.176711  [Epoch 8] indivisual [1] class recall: 0.997787\n",
      "2018-12-01 21:16:19.178669  [Epoch 8] indivisual [1] class precision: 0.997834\n",
      "2018-12-01 21:16:19.180553  [Epoch 8] indivisual [2] class recall: 0.998305\n",
      "2018-12-01 21:16:19.182244  [Epoch 8] indivisual [2] class precision: 0.998352\n",
      "2018-12-01 21:16:19.183900  [Epoch 8] indivisual [3] class recall: 0.998258\n",
      "2018-12-01 21:16:19.185636  [Epoch 8] indivisual [3] class precision: 0.998540\n",
      "2018-12-01 21:16:19.187302  [Epoch 8] indivisual [4] class recall: 0.997976\n",
      "2018-12-01 21:16:19.188986  [Epoch 8] indivisual [4] class precision: 0.997694\n",
      "2018-12-01 21:16:19.190693   Evaluation one (validation set) epoch   9 /  10\n"
     ]
    },
    {
     "name": "stderr",
     "output_type": "stream",
     "text": [
      "100%|██████████| 287/287 [00:18<00:00, 15.66it/s]\n"
     ]
    },
    {
     "name": "stdout",
     "output_type": "stream",
     "text": [
      "2018-12-01 21:16:37.797482  [Epoch 8] vali mean loss: 0.000915\n",
      "2018-12-01 21:16:37.799329  [Epoch 8] vali accuracy: 0.998467\n",
      "2018-12-01 21:16:37.801178  [Epoch 8] vali avg class acc: 1.000000\n",
      "2018-12-01 21:16:37.802826  [Epoch 8] vali indivisual [0] class recall: 1.000000\n",
      "2018-12-01 21:16:37.804716  [Epoch 8] vali indivisual [0] class precision: 1.000000\n",
      "2018-12-01 21:16:37.806676  [Epoch 8] vali indivisual [1] class recall: 1.000000\n",
      "2018-12-01 21:16:37.808450  [Epoch 8] vali indivisual [1] class precision: 1.000000\n",
      "2018-12-01 21:16:37.810243  [Epoch 8] vali indivisual [2] class recall: 1.000000\n",
      "2018-12-01 21:16:37.811995  [Epoch 8] vali indivisual [2] class precision: 1.000000\n",
      "2018-12-01 21:16:37.813806  [Epoch 8] vali indivisual [3] class recall: 1.000000\n",
      "2018-12-01 21:16:37.815488  [Epoch 8] vali indivisual [3] class precision: 1.000000\n",
      "2018-12-01 21:16:37.817141  [Epoch 8] vali indivisual [4] class recall: 1.000000\n",
      "2018-12-01 21:16:37.818808  [Epoch 8] vali indivisual [4] class precision: 1.000000\n",
      "2018-12-01 21:16:37.820566   Train one epoch  10 /  10\n"
     ]
    },
    {
     "name": "stderr",
     "output_type": "stream",
     "text": [
      "100%|██████████| 2124/2124 [09:39<00:00,  3.67it/s]\n"
     ]
    },
    {
     "name": "stdout",
     "output_type": "stream",
     "text": [
      "2018-12-01 21:26:18.254070  [Epoch 9] mean loss: 0.000100\n",
      "2018-12-01 21:26:18.256085  [Epoch 9] accuracy: 0.998851\n",
      "2018-12-01 21:26:18.258041  [Epoch 9] avg class acc: 0.998851\n",
      "2018-12-01 21:26:18.259649  [Epoch 9] indivisual [0] class recall: 0.999953\n",
      "2018-12-01 21:26:18.261278  [Epoch 9] indivisual [0] class precision: 0.999765\n",
      "2018-12-01 21:26:18.262944  [Epoch 9] indivisual [1] class recall: 0.998352\n",
      "2018-12-01 21:26:18.264867  [Epoch 9] indivisual [1] class precision: 0.998352\n",
      "2018-12-01 21:26:18.266983  [Epoch 9] indivisual [2] class recall: 0.998493\n",
      "2018-12-01 21:26:18.268802  [Epoch 9] indivisual [2] class precision: 0.998681\n",
      "2018-12-01 21:26:18.270490  [Epoch 9] indivisual [3] class recall: 0.999105\n",
      "2018-12-01 21:26:18.272107  [Epoch 9] indivisual [3] class precision: 0.999058\n",
      "2018-12-01 21:26:18.273772  [Epoch 9] indivisual [4] class recall: 0.998352\n",
      "2018-12-01 21:26:18.275396  [Epoch 9] indivisual [4] class precision: 0.998399\n",
      "2018-12-01 21:26:18.277080   Evaluation one (validation set) epoch  10 /  10\n"
     ]
    },
    {
     "name": "stderr",
     "output_type": "stream",
     "text": [
      "100%|██████████| 287/287 [00:18<00:00, 15.61it/s]\n"
     ]
    },
    {
     "name": "stdout",
     "output_type": "stream",
     "text": [
      "2018-12-01 21:26:36.954694  [Epoch 9] vali mean loss: 0.000743\n",
      "2018-12-01 21:26:36.956660  [Epoch 9] vali accuracy: 0.998815\n",
      "2018-12-01 21:26:36.958535  [Epoch 9] vali avg class acc: 0.800000\n",
      "2018-12-01 21:26:36.960255  [Epoch 9] vali indivisual [1] class recall: 1.000000\n",
      "2018-12-01 21:26:36.961869  [Epoch 9] vali indivisual [1] class precision: 1.000000\n",
      "2018-12-01 21:26:36.963475  [Epoch 9] vali indivisual [2] class recall: 1.000000\n",
      "2018-12-01 21:26:36.964999  [Epoch 9] vali indivisual [2] class precision: 1.000000\n",
      "2018-12-01 21:26:36.966491  [Epoch 9] vali indivisual [3] class recall: 1.000000\n",
      "2018-12-01 21:26:36.968004  [Epoch 9] vali indivisual [3] class precision: 1.000000\n",
      "2018-12-01 21:26:36.969579  [Epoch 9] vali indivisual [4] class recall: 1.000000\n",
      "2018-12-01 21:26:36.971105  [Epoch 9] vali indivisual [4] class precision: 1.000000\n",
      "2018-12-01 21:26:37.808923  Model saved in file: /home/gozilla/kyungpyo/git/MasterThesisProject/Network/notebook/train_log_20181201/model_opt2/model.ckpt\n"
     ]
    }
   ],
   "source": [
    "\"\"\" Import model \"\"\"\n",
    "sys.path.append( os.path.abspath('../../model') )\n",
    "\n",
    "from train import *\n",
    "import model_opt2 as MODEL\n",
    "\n",
    "def run_training(out_path):\n",
    "    \"\"\" Path \"\"\"\n",
    "    model_save_path = os.path.abspath(out_path)\n",
    "    if not os.path.isdir(model_save_path) : os.mkdir(model_save_path)\n",
    "    log_path = os.path.abspath(os.path.join(model_save_path, 'train_log.txt') )\n",
    "        \n",
    "    \"\"\" Parameters \"\"\"\n",
    "    GPU_INDEX = 0\n",
    "    NUM_POINT = 1024\n",
    "    NUM_CLASSES = 5\n",
    "\n",
    "    BN_INIT_DECAY = 0.5\n",
    "    BN_DECAY_DECAY_RATE = 0.5\n",
    "    BN_DECAY_DECAY_STEP = float(200000)\n",
    "    BN_DECAY_CLIP = 0.99\n",
    "    DECAY_STEP = BN_DECAY_DECAY_STEP\n",
    "    DECAY_RATE = BN_DECAY_DECAY_RATE\n",
    "\n",
    "    BATCH_SIZE = 50\n",
    "\n",
    "    MOMENTUM = 0.9\n",
    "\n",
    "    BASE_LEARNING_RATE = 0.001\n",
    "\n",
    "    OPTIMIZER = 'adam'\n",
    "\n",
    "    MAX_EPOCH = 10\n",
    "\n",
    "    \"\"\" log file \"\"\"\n",
    "    LOG_FOUT = open(log_path, 'w')\n",
    "\n",
    "    def log_string(out_str):\n",
    "        out_str = str( datetime.datetime.fromtimestamp( time.time() ) ) + \"  \" + out_str\n",
    "        LOG_FOUT.write(out_str+'\\n')\n",
    "        LOG_FOUT.flush()\n",
    "        print(out_str)\n",
    "\n",
    "\n",
    "    def get_learning_rate(batch):\n",
    "        learning_rate = tf.train.exponential_decay(\n",
    "                            BASE_LEARNING_RATE,  # Base learning rate.\n",
    "                            batch * BATCH_SIZE,  # Current index into the dataset.\n",
    "                            DECAY_STEP,          # Decay step.\n",
    "                            DECAY_RATE,          # Decay rate.\n",
    "                            staircase=True)\n",
    "        learning_rate = tf.maximum(learning_rate, 0.00001) # CLIP THE LEARNING RATE!\n",
    "        return learning_rate        \n",
    "\n",
    "    def get_bn_decay(batch):\n",
    "        bn_momentum = tf.train.exponential_decay(\n",
    "                          BN_INIT_DECAY,\n",
    "                          batch * BATCH_SIZE,\n",
    "                          BN_DECAY_DECAY_STEP,\n",
    "                          BN_DECAY_DECAY_RATE,\n",
    "                          staircase=True)\n",
    "        bn_decay = tf.minimum(BN_DECAY_CLIP, 1 - bn_momentum)\n",
    "        return bn_decay\n",
    "\n",
    "    \"\"\" load traing model \"\"\"\n",
    "    with tf.Graph().as_default():\n",
    "        with tf.device('/gpu:'+str(GPU_INDEX)):\n",
    "            pointclouds_pl, labels_pl = MODEL.placeholder_inputs(BATCH_SIZE, NUM_POINT)\n",
    "            is_training_pl = tf.placeholder(tf.bool, shape=())\n",
    "            print(is_training_pl)\n",
    "\n",
    "            # Note the global_step=batch parameter to minimize. \n",
    "            # That tells the optimizer to helpfully increment the 'batch' parameter for you every time it trains.\n",
    "            batch = tf.Variable(0)\n",
    "            bn_decay = get_bn_decay(batch)\n",
    "            tf.summary.scalar('bn_decay', bn_decay)\n",
    "\n",
    "            # Get model and loss \n",
    "            pred, end_points = MODEL.get_model(pointclouds_pl, is_training_pl, bn_decay=bn_decay)\n",
    "            loss = MODEL.get_loss(pred, labels_pl, end_points)\n",
    "            tf.summary.scalar('loss', loss)\n",
    "\n",
    "            correct = tf.equal(tf.argmax(pred, 1), tf.to_int64(labels_pl))\n",
    "            accuracy = tf.reduce_sum(tf.cast(correct, tf.float32)) / float(BATCH_SIZE)\n",
    "            tf.summary.scalar('accuracy', accuracy)\n",
    "\n",
    "            # Get training operator\n",
    "            learning_rate = get_learning_rate(batch)\n",
    "            tf.summary.scalar('learning_rate', learning_rate)\n",
    "            if OPTIMIZER == 'momentum':\n",
    "                optimizer = tf.train.MomentumOptimizer(learning_rate, momentum=MOMENTUM)\n",
    "            elif OPTIMIZER == 'adam':\n",
    "                optimizer = tf.train.AdamOptimizer(learning_rate)\n",
    "            train_op = optimizer.minimize(loss, global_step=batch)\n",
    "\n",
    "            # Add ops to save and restore all the variables.\n",
    "            saver = tf.train.Saver()\n",
    "\n",
    "        # Create a session\n",
    "        config = tf.ConfigProto()\n",
    "        config.gpu_options.allow_growth = True\n",
    "        config.allow_soft_placement = True\n",
    "        config.log_device_placement = False\n",
    "        sess = tf.Session(config=config)\n",
    "\n",
    "        # Add summary writers\n",
    "        #merged = tf.merge_all_summaries()\n",
    "        merged = tf.summary.merge_all()\n",
    "\n",
    "        train_writer_path = os.path.abspath( os.path.join(model_save_path, 'train') )\n",
    "        if os.path.isdir(train_writer_path): os.system('rm -r {}'.format(train_writer_path))\n",
    "        os.mkdir(train_writer_path)\n",
    "\n",
    "        test_writer_path = os.path.abspath( os.path.join(model_save_path, 'test') )\n",
    "        if os.path.isdir(test_writer_path): os.system('rm -r {}'.format(test_writer_path))\n",
    "        os.mkdir(test_writer_path)\n",
    "\n",
    "\n",
    "        train_writer = tf.summary.FileWriter(train_writer_path, sess.graph)\n",
    "        test_writer = tf.summary.FileWriter(test_writer_path)\n",
    "\n",
    "\n",
    "        # Init variables\n",
    "        init = tf.global_variables_initializer()\n",
    "        # To fix the bug introduced in TF 0.12.1 as in\n",
    "        # http://stackoverflow.com/questions/41543774/invalidargumenterror-for-tensor-bool-tensorflow-0-12-1\n",
    "        #sess.run(init)\n",
    "        sess.run(init, {is_training_pl: True})\n",
    "\n",
    "        ops = {'pointclouds_pl': pointclouds_pl,\n",
    "               'labels_pl': labels_pl,\n",
    "               'is_training_pl': is_training_pl,\n",
    "               'pred': pred,\n",
    "               'loss': loss,\n",
    "               'train_op': train_op,\n",
    "               'merged': merged,\n",
    "               'step': batch}\n",
    "\n",
    "\n",
    "        for epoch in range(MAX_EPOCH):\n",
    "\n",
    "            ## Training\n",
    "            log_string ( \" Train one epoch %3d / %3d\" % (epoch+1, MAX_EPOCH) )\n",
    "            sys.stdout.flush()\n",
    "\n",
    "            is_training = True\n",
    "\n",
    "            # Shuffle train files\n",
    "            train_file_idxs = np.arange(0, data_train.shape[0])\n",
    "            np.random.shuffle(train_file_idxs)\n",
    "\n",
    "            current_data = data_train[train_file_idxs] \n",
    "            current_label = label_train[train_file_idxs]\n",
    "            current_label.reshape((data_train.shape[0],))\n",
    "\n",
    "            ## Evaluation metric\n",
    "            total_correct = 0\n",
    "            total_seen = 0\n",
    "            loss_sum = 0\n",
    "\n",
    "            total_class = [0 for _ in range(NUM_CLASSES)]\n",
    "            total_detect_class = [0 for _ in range(NUM_CLASSES)]\n",
    "            total_correct_class = [0 for _ in range(NUM_CLASSES)]\n",
    "\n",
    "            num_batches = current_data.shape[0] // BATCH_SIZE\n",
    "\n",
    "            for batch_idx in trange(num_batches):\n",
    "\n",
    "                start_idx = batch_idx * BATCH_SIZE\n",
    "                end_idx = (batch_idx+1) * BATCH_SIZE           \n",
    "\n",
    "                # Augment batched point clouds by rotation and jittering\n",
    "                rotated_data = provider.rotate_point_cloud(current_data[start_idx:end_idx, :, :])\n",
    "                jittered_data = provider.jitter_point_cloud(rotated_data)\n",
    "\n",
    "                # Reashape\n",
    "                current_label_reshape = current_label[start_idx:end_idx].reshape((BATCH_SIZE,))\n",
    "\n",
    "                feed_dict = {ops['pointclouds_pl']: jittered_data,\n",
    "                             ops['labels_pl']: current_label_reshape,\n",
    "                             ops['is_training_pl']: is_training,}\n",
    "\n",
    "                summary, step, _, loss_val, pred_val = sess.run([ops['merged'], ops['step'],\n",
    "                    ops['train_op'], ops['loss'], ops['pred']], feed_dict=feed_dict)\n",
    "\n",
    "                train_writer.add_summary(summary, step)\n",
    "\n",
    "                pred_val = np.argmax(pred_val, 1)\n",
    "                correct = np.sum(pred_val == current_label_reshape)\n",
    "                total_correct += correct\n",
    "                total_seen += BATCH_SIZE\n",
    "                loss_sum += loss_val\n",
    "\n",
    "                for i in range(NUM_CLASSES):\n",
    "                    total_class[i] += np.sum( np.ones(BATCH_SIZE) * i == current_label_reshape )\n",
    "                    total_detect_class[i] += np.sum( np.ones(BATCH_SIZE) * i == pred_val )\n",
    "                    total_correct_class[i] += np.sum( (np.ones(BATCH_SIZE) * i == current_label_reshape) * \\\n",
    "                                                        (np.ones(BATCH_SIZE) * i == pred_val) )\n",
    "\n",
    "            log_string(  '[Epoch %d] mean loss: %f' % \\\n",
    "                       (  epoch, loss_sum / float(total_seen)  )   )\n",
    "            log_string(  '[Epoch %d] accuracy: %f'% \\\n",
    "                       (  epoch, total_correct / float(total_seen)  )   )\n",
    "            log_string(  '[Epoch %d] avg class acc: %f' % \\\n",
    "                       (  epoch, np.mean( np.array(total_correct_class)/np.array(total_class,dtype=np.float) )  )   )\n",
    "\n",
    "            for i_cls in range(NUM_CLASSES):\n",
    "                if not float(total_class[i_cls]) == 0:\n",
    "                    log_string(  '[Epoch %d] indivisual [%d] class recall: %f' % \\\n",
    "                           (  epoch, i_cls, float(total_correct_class[i_cls])/float(total_class[i_cls])))    \n",
    "                if not float(total_detect_class[i_cls]) == 0:\n",
    "                    log_string(  '[Epoch %d] indivisual [%d] class precision: %f' % \\\n",
    "                           (  epoch, i_cls, float(total_correct_class[i_cls])/float(total_detect_class[i_cls])))    \n",
    "\n",
    "\n",
    "            ## Evaluation using validation set    \n",
    "            log_string ( \" Evaluation one (validation set) epoch %3d / %3d\" % (epoch+1, MAX_EPOCH) )\n",
    "            sys.stdout.flush()\n",
    "\n",
    "            is_training = False\n",
    "            total_correct = 0\n",
    "            total_seen = 0\n",
    "            total_seen_class = [0 for _ in range(NUM_CLASSES)]\n",
    "            total_correct_class = [0 for _ in range(NUM_CLASSES)]\n",
    "            total_detect_class = [0 for _ in range(NUM_CLASSES)]\n",
    "            total_detect_true_class = [0 for _ in range(NUM_CLASSES)]\n",
    "\n",
    "            # Shuffle validation files\n",
    "            file_idxs = np.arange(0, data_vali.shape[0])\n",
    "            np.random.shuffle(file_idxs)\n",
    "\n",
    "            current_data = data_vali[file_idxs]\n",
    "            current_label = label_vali[file_idxs]\n",
    "\n",
    "            num_batches = current_data.shape[0] // BATCH_SIZE\n",
    "\n",
    "            for batch_idx in trange(num_batches):\n",
    "\n",
    "                start_idx = batch_idx * BATCH_SIZE\n",
    "                end_idx = (batch_idx+1) * BATCH_SIZE\n",
    "\n",
    "                # Reashape\n",
    "                current_label_reshape = current_label[start_idx:end_idx].reshape((BATCH_SIZE,))\n",
    "\n",
    "                feed_dict = {ops['pointclouds_pl']: current_data[start_idx:end_idx, :, :],\n",
    "                             ops['labels_pl']: current_label_reshape,\n",
    "                             ops['is_training_pl']: is_training}\n",
    "                summary, step, loss_val, pred_val = sess.run([ops['merged'], ops['step'],\n",
    "                    ops['loss'], ops['pred']], feed_dict=feed_dict)\n",
    "\n",
    "                # test_writer.add_summary(summary, step)\n",
    "\n",
    "                pred_val = np.argmax(pred_val, 1)\n",
    "                correct = np.sum(pred_val == current_label_reshape)\n",
    "                total_correct += correct\n",
    "                total_seen += BATCH_SIZE\n",
    "\n",
    "                for i in range(NUM_CLASSES):\n",
    "                    total_class[i] = np.sum( np.ones(BATCH_SIZE) * i == current_label_reshape )\n",
    "                    total_detect_class[i] = np.sum( np.ones(BATCH_SIZE) * i == pred_val )\n",
    "                    total_correct_class[i] = np.sum( (np.ones(BATCH_SIZE) * i == current_label_reshape) * \\\n",
    "                                                        (np.ones(BATCH_SIZE) * i == pred_val) )\n",
    "\n",
    "            log_string(  '[Epoch %d] vali mean loss: %f' % \\\n",
    "                       (  epoch, loss_sum / float(total_seen)  )   )\n",
    "            log_string(  '[Epoch %d] vali accuracy: %f'% \\\n",
    "                       (  epoch, total_correct / float(total_seen)  )   )\n",
    "            log_string(  '[Epoch %d] vali avg class acc: %f' % \\\n",
    "                       (  epoch, np.mean( np.array(total_correct_class) / np.array(total_class) )  )   )\n",
    "\n",
    "            for i_cls in range(NUM_CLASSES):\n",
    "                if not float(total_class[i_cls]) == 0:\n",
    "                    log_string(  '[Epoch %d] vali indivisual [%d] class recall: %f' % \\\n",
    "                           (  epoch, i_cls, float(total_correct_class[i_cls])/float(total_class[i_cls])))    \n",
    "                if not float(total_detect_class[i_cls]) == 0:\n",
    "                    log_string(  '[Epoch %d] vali indivisual [%d] class precision: %f' % \\\n",
    "                           (  epoch, i_cls, float(total_correct_class[i_cls])/float(total_detect_class[i_cls])))    \n",
    "\n",
    "\n",
    "            # Save the variables to disk.\n",
    "            if ( epoch + 1 ) % 10 == 0:\n",
    "                save_path = saver.save(sess, os.path.join(model_save_path, \"model.ckpt\"))\n",
    "                log_string(\"Model saved in file: %s\" % save_path)\n",
    "\n",
    "# option 1: execute code with extra process\n",
    "p = multiprocessing.Process(target=run_training, args = ('./model_opt2',))\n",
    "p.start()\n",
    "p.join()"
   ]
  },
  {
   "cell_type": "code",
   "execution_count": null,
   "metadata": {},
   "outputs": [],
   "source": []
  },
  {
   "cell_type": "code",
   "execution_count": 9,
   "metadata": {},
   "outputs": [
    {
     "name": "stdout",
     "output_type": "stream",
     "text": [
      "Tensor(\"Placeholder_2:0\", shape=(), dtype=bool, device=/device:GPU:0)\n",
      "INFO:tensorflow:Summary name classify loss is illegal; using classify_loss instead.\n",
      "INFO:tensorflow:Summary name mat loss is illegal; using mat_loss instead.\n",
      "2018-12-01 21:26:45.500835   Train one epoch   1 /  10\n"
     ]
    },
    {
     "name": "stderr",
     "output_type": "stream",
     "text": [
      "100%|██████████| 2124/2124 [10:28<00:00,  3.38it/s]\n"
     ]
    },
    {
     "name": "stdout",
     "output_type": "stream",
     "text": [
      "2018-12-01 21:37:15.305501  [Epoch 0] mean loss: 0.011391\n",
      "2018-12-01 21:37:15.307436  [Epoch 0] accuracy: 0.784275\n",
      "2018-12-01 21:37:15.309415  [Epoch 0] avg class acc: 0.784275\n",
      "2018-12-01 21:37:15.311164  [Epoch 0] indivisual [0] class recall: 0.960499\n",
      "2018-12-01 21:37:15.312995  [Epoch 0] indivisual [0] class precision: 0.957659\n",
      "2018-12-01 21:37:15.314912  [Epoch 0] indivisual [1] class recall: 0.755273\n",
      "2018-12-01 21:37:15.317203  [Epoch 0] indivisual [1] class precision: 0.701566\n",
      "2018-12-01 21:37:15.319070  [Epoch 0] indivisual [2] class recall: 0.682250\n",
      "2018-12-01 21:37:15.320827  [Epoch 0] indivisual [2] class precision: 0.761322\n",
      "2018-12-01 21:37:15.322645  [Epoch 0] indivisual [3] class recall: 0.767561\n",
      "2018-12-01 21:37:15.324560  [Epoch 0] indivisual [3] class precision: 0.734138\n",
      "2018-12-01 21:37:15.326302  [Epoch 0] indivisual [4] class recall: 0.755791\n",
      "2018-12-01 21:37:15.328138  [Epoch 0] indivisual [4] class precision: 0.772150\n",
      "2018-12-01 21:37:15.330206   Evaluation one (validation set) epoch   1 /  10\n"
     ]
    },
    {
     "name": "stderr",
     "output_type": "stream",
     "text": [
      "100%|██████████| 287/287 [00:20<00:00, 13.88it/s]\n"
     ]
    },
    {
     "name": "stdout",
     "output_type": "stream",
     "text": [
      "2018-12-01 21:37:36.342242  [Epoch 0] vali mean loss: 0.084304\n",
      "2018-12-01 21:37:36.344235  [Epoch 0] vali accuracy: 0.967944\n",
      "2018-12-01 21:37:36.346243  [Epoch 0] vali avg class acc: 0.600000\n",
      "2018-12-01 21:37:36.348098  [Epoch 0] vali indivisual [1] class recall: 0.916667\n",
      "2018-12-01 21:37:36.349874  [Epoch 0] vali indivisual [1] class precision: 1.000000\n",
      "2018-12-01 21:37:36.351565  [Epoch 0] vali indivisual [2] class recall: 1.000000\n",
      "2018-12-01 21:37:36.353273  [Epoch 0] vali indivisual [2] class precision: 0.818182\n",
      "2018-12-01 21:37:36.354949  [Epoch 0] vali indivisual [3] class recall: 1.000000\n",
      "2018-12-01 21:37:36.356763  [Epoch 0] vali indivisual [3] class precision: 1.000000\n",
      "2018-12-01 21:37:36.358646  [Epoch 0] vali indivisual [4] class recall: 1.000000\n",
      "2018-12-01 21:37:36.360421  [Epoch 0] vali indivisual [4] class precision: 1.000000\n",
      "2018-12-01 21:37:36.362219   Train one epoch   2 /  10\n"
     ]
    },
    {
     "name": "stderr",
     "output_type": "stream",
     "text": [
      "100%|██████████| 2124/2124 [10:25<00:00,  3.39it/s]\n"
     ]
    },
    {
     "name": "stdout",
     "output_type": "stream",
     "text": [
      "2018-12-01 21:48:03.605266  [Epoch 1] mean loss: 0.003904\n",
      "2018-12-01 21:48:03.607496  [Epoch 1] accuracy: 0.939661\n",
      "2018-12-01 21:48:03.609497  [Epoch 1] avg class acc: 0.939661\n",
      "2018-12-01 21:48:03.611270  [Epoch 1] indivisual [0] class recall: 0.988465\n",
      "2018-12-01 21:48:03.613000  [Epoch 1] indivisual [0] class precision: 0.981212\n",
      "2018-12-01 21:48:03.614598  [Epoch 1] indivisual [1] class recall: 0.929567\n",
      "2018-12-01 21:48:03.616257  [Epoch 1] indivisual [1] class precision: 0.920080\n",
      "2018-12-01 21:48:03.617913  [Epoch 1] indivisual [2] class recall: 0.943738\n",
      "2018-12-01 21:48:03.619479  [Epoch 1] indivisual [2] class precision: 0.937909\n",
      "2018-12-01 21:48:03.621110  [Epoch 1] indivisual [3] class recall: 0.935311\n",
      "2018-12-01 21:48:03.622826  [Epoch 1] indivisual [3] class precision: 0.936810\n",
      "2018-12-01 21:48:03.624595  [Epoch 1] indivisual [4] class recall: 0.901224\n",
      "2018-12-01 21:48:03.626592  [Epoch 1] indivisual [4] class precision: 0.921795\n",
      "2018-12-01 21:48:03.628773   Evaluation one (validation set) epoch   2 /  10\n"
     ]
    },
    {
     "name": "stderr",
     "output_type": "stream",
     "text": [
      "100%|██████████| 287/287 [00:20<00:00, 14.20it/s]\n"
     ]
    },
    {
     "name": "stdout",
     "output_type": "stream",
     "text": [
      "2018-12-01 21:48:24.137480  [Epoch 1] vali mean loss: 0.028895\n",
      "2018-12-01 21:48:24.139419  [Epoch 1] vali accuracy: 0.981672\n",
      "2018-12-01 21:48:24.141783  [Epoch 1] vali avg class acc: 0.800000\n",
      "2018-12-01 21:48:24.143502  [Epoch 1] vali indivisual [0] class recall: 1.000000\n",
      "2018-12-01 21:48:24.145192  [Epoch 1] vali indivisual [0] class precision: 1.000000\n",
      "2018-12-01 21:48:24.146959  [Epoch 1] vali indivisual [1] class recall: 0.958333\n",
      "2018-12-01 21:48:24.148848  [Epoch 1] vali indivisual [1] class precision: 1.000000\n",
      "2018-12-01 21:48:24.150721  [Epoch 1] vali indivisual [2] class recall: 1.000000\n",
      "2018-12-01 21:48:24.152484  [Epoch 1] vali indivisual [2] class precision: 1.000000\n",
      "2018-12-01 21:48:24.154237  [Epoch 1] vali indivisual [3] class recall: 1.000000\n",
      "2018-12-01 21:48:24.155952  [Epoch 1] vali indivisual [3] class precision: 1.000000\n",
      "2018-12-01 21:48:24.157655  [Epoch 1] vali indivisual [4] class recall: 1.000000\n",
      "2018-12-01 21:48:24.159286  [Epoch 1] vali indivisual [4] class precision: 0.750000\n",
      "2018-12-01 21:48:24.162064   Train one epoch   3 /  10\n"
     ]
    },
    {
     "name": "stderr",
     "output_type": "stream",
     "text": [
      "100%|██████████| 2124/2124 [10:26<00:00,  3.39it/s]\n"
     ]
    },
    {
     "name": "stdout",
     "output_type": "stream",
     "text": [
      "2018-12-01 21:58:51.474522  [Epoch 2] mean loss: 0.001498\n",
      "2018-12-01 21:58:51.476437  [Epoch 2] accuracy: 0.978296\n",
      "2018-12-01 21:58:51.478360  [Epoch 2] avg class acc: 0.978296\n",
      "2018-12-01 21:58:51.480096  [Epoch 2] indivisual [0] class recall: 0.996139\n",
      "2018-12-01 21:58:51.481884  [Epoch 2] indivisual [0] class precision: 0.992169\n",
      "2018-12-01 21:58:51.483889  [Epoch 2] indivisual [1] class recall: 0.974058\n",
      "2018-12-01 21:58:51.486020  [Epoch 2] indivisual [1] class precision: 0.970312\n",
      "2018-12-01 21:58:51.487736  [Epoch 2] indivisual [2] class recall: 0.981215\n",
      "2018-12-01 21:58:51.489397  [Epoch 2] indivisual [2] class precision: 0.978772\n",
      "2018-12-01 21:58:51.491017  [Epoch 2] indivisual [3] class recall: 0.978249\n",
      "2018-12-01 21:58:51.492966  [Epoch 2] indivisual [3] class precision: 0.981112\n",
      "2018-12-01 21:58:51.494643  [Epoch 2] indivisual [4] class recall: 0.961817\n",
      "2018-12-01 21:58:51.496204  [Epoch 2] indivisual [4] class precision: 0.969026\n",
      "2018-12-01 21:58:51.497912   Evaluation one (validation set) epoch   3 /  10\n"
     ]
    },
    {
     "name": "stderr",
     "output_type": "stream",
     "text": [
      "100%|██████████| 287/287 [00:20<00:00, 14.13it/s]\n"
     ]
    },
    {
     "name": "stdout",
     "output_type": "stream",
     "text": [
      "2018-12-01 21:59:12.103611  [Epoch 2] vali mean loss: 0.011083\n",
      "2018-12-01 21:59:12.105441  [Epoch 2] vali accuracy: 0.991777\n",
      "2018-12-01 21:59:12.107256  [Epoch 2] vali avg class acc: 1.000000\n",
      "2018-12-01 21:59:12.109007  [Epoch 2] vali indivisual [0] class recall: 1.000000\n",
      "2018-12-01 21:59:12.110617  [Epoch 2] vali indivisual [0] class precision: 1.000000\n",
      "2018-12-01 21:59:12.112331  [Epoch 2] vali indivisual [1] class recall: 1.000000\n",
      "2018-12-01 21:59:12.113978  [Epoch 2] vali indivisual [1] class precision: 1.000000\n",
      "2018-12-01 21:59:12.115549  [Epoch 2] vali indivisual [2] class recall: 1.000000\n",
      "2018-12-01 21:59:12.117111  [Epoch 2] vali indivisual [2] class precision: 1.000000\n",
      "2018-12-01 21:59:12.118675  [Epoch 2] vali indivisual [3] class recall: 1.000000\n",
      "2018-12-01 21:59:12.120540  [Epoch 2] vali indivisual [3] class precision: 1.000000\n",
      "2018-12-01 21:59:12.122552  [Epoch 2] vali indivisual [4] class recall: 1.000000\n",
      "2018-12-01 21:59:12.124330  [Epoch 2] vali indivisual [4] class precision: 1.000000\n",
      "2018-12-01 21:59:12.126090   Train one epoch   4 /  10\n"
     ]
    },
    {
     "name": "stderr",
     "output_type": "stream",
     "text": [
      "100%|██████████| 2124/2124 [10:26<00:00,  3.39it/s]\n"
     ]
    },
    {
     "name": "stdout",
     "output_type": "stream",
     "text": [
      "2018-12-01 22:09:39.603453  [Epoch 3] mean loss: 0.000908\n",
      "2018-12-01 22:09:39.605391  [Epoch 3] accuracy: 0.986789\n",
      "2018-12-01 22:09:39.607416  [Epoch 3] avg class acc: 0.986789\n",
      "2018-12-01 22:09:39.609232  [Epoch 3] indivisual [0] class recall: 0.997222\n",
      "2018-12-01 22:09:39.610959  [Epoch 3] indivisual [0] class precision: 0.995863\n",
      "2018-12-01 22:09:39.612999  [Epoch 3] indivisual [1] class recall: 0.984275\n",
      "2018-12-01 22:09:39.615109  [Epoch 3] indivisual [1] class precision: 0.982471\n",
      "2018-12-01 22:09:39.620863  [Epoch 3] indivisual [2] class recall: 0.987194\n",
      "2018-12-01 22:09:39.622743  [Epoch 3] indivisual [2] class precision: 0.985663\n",
      "2018-12-01 22:09:39.624530  [Epoch 3] indivisual [3] class recall: 0.986817\n",
      "2018-12-01 22:09:39.626420  [Epoch 3] indivisual [3] class precision: 0.989006\n",
      "2018-12-01 22:09:39.628186  [Epoch 3] indivisual [4] class recall: 0.978437\n",
      "2018-12-01 22:09:39.629873  [Epoch 3] indivisual [4] class precision: 0.980931\n",
      "2018-12-01 22:09:39.631521   Evaluation one (validation set) epoch   4 /  10\n"
     ]
    },
    {
     "name": "stderr",
     "output_type": "stream",
     "text": [
      "100%|██████████| 287/287 [00:20<00:00, 14.09it/s]\n"
     ]
    },
    {
     "name": "stdout",
     "output_type": "stream",
     "text": [
      "2018-12-01 22:10:00.295169  [Epoch 3] vali mean loss: 0.006722\n",
      "2018-12-01 22:10:00.297057  [Epoch 3] vali accuracy: 0.998676\n",
      "2018-12-01 22:10:00.299110  [Epoch 3] vali avg class acc: 1.000000\n",
      "2018-12-01 22:10:00.301025  [Epoch 3] vali indivisual [0] class recall: 1.000000\n",
      "2018-12-01 22:10:00.302935  [Epoch 3] vali indivisual [0] class precision: 1.000000\n",
      "2018-12-01 22:10:00.304925  [Epoch 3] vali indivisual [1] class recall: 1.000000\n",
      "2018-12-01 22:10:00.306685  [Epoch 3] vali indivisual [1] class precision: 1.000000\n",
      "2018-12-01 22:10:00.308420  [Epoch 3] vali indivisual [2] class recall: 1.000000\n",
      "2018-12-01 22:10:00.310138  [Epoch 3] vali indivisual [2] class precision: 1.000000\n",
      "2018-12-01 22:10:00.311761  [Epoch 3] vali indivisual [3] class recall: 1.000000\n",
      "2018-12-01 22:10:00.313441  [Epoch 3] vali indivisual [3] class precision: 1.000000\n",
      "2018-12-01 22:10:00.315031  [Epoch 3] vali indivisual [4] class recall: 1.000000\n",
      "2018-12-01 22:10:00.316721  [Epoch 3] vali indivisual [4] class precision: 1.000000\n",
      "2018-12-01 22:10:00.318296   Train one epoch   5 /  10\n"
     ]
    },
    {
     "name": "stderr",
     "output_type": "stream",
     "text": [
      "100%|██████████| 2124/2124 [10:26<00:00,  3.39it/s]\n"
     ]
    },
    {
     "name": "stdout",
     "output_type": "stream",
     "text": [
      "2018-12-01 22:20:27.885313  [Epoch 4] mean loss: 0.000500\n",
      "2018-12-01 22:20:27.887259  [Epoch 4] accuracy: 0.992985\n",
      "2018-12-01 22:20:27.889333  [Epoch 4] avg class acc: 0.992985\n",
      "2018-12-01 22:20:27.891540  [Epoch 4] indivisual [0] class recall: 0.998588\n",
      "2018-12-01 22:20:27.896045  [Epoch 4] indivisual [0] class precision: 0.997601\n",
      "2018-12-01 22:20:27.897918  [Epoch 4] indivisual [1] class recall: 0.990490\n",
      "2018-12-01 22:20:27.899613  [Epoch 4] indivisual [1] class precision: 0.990117\n",
      "2018-12-01 22:20:27.901397  [Epoch 4] indivisual [2] class recall: 0.993079\n",
      "2018-12-01 22:20:27.903210  [Epoch 4] indivisual [2] class precision: 0.992192\n",
      "2018-12-01 22:20:27.905027  [Epoch 4] indivisual [3] class recall: 0.993785\n",
      "2018-12-01 22:20:27.906879  [Epoch 4] indivisual [3] class precision: 0.994628\n",
      "2018-12-01 22:20:27.908935  [Epoch 4] indivisual [4] class recall: 0.988983\n",
      "2018-12-01 22:20:27.910595  [Epoch 4] indivisual [4] class precision: 0.990382\n",
      "2018-12-01 22:20:27.912267   Evaluation one (validation set) epoch   5 /  10\n"
     ]
    },
    {
     "name": "stderr",
     "output_type": "stream",
     "text": [
      "100%|██████████| 287/287 [00:20<00:00, 14.16it/s]\n"
     ]
    },
    {
     "name": "stdout",
     "output_type": "stream",
     "text": [
      "2018-12-01 22:20:48.457522  [Epoch 4] vali mean loss: 0.003699\n",
      "2018-12-01 22:20:48.459151  [Epoch 4] vali accuracy: 0.996725\n",
      "2018-12-01 22:20:48.461122  [Epoch 4] vali avg class acc: 0.800000\n",
      "2018-12-01 22:20:48.462801  [Epoch 4] vali indivisual [0] class recall: 1.000000\n",
      "2018-12-01 22:20:48.478590  [Epoch 4] vali indivisual [0] class precision: 1.000000\n",
      "2018-12-01 22:20:48.481423  [Epoch 4] vali indivisual [1] class recall: 0.966667\n",
      "2018-12-01 22:20:48.483195  [Epoch 4] vali indivisual [1] class precision: 1.000000\n",
      "2018-12-01 22:20:48.484816  [Epoch 4] vali indivisual [2] class recall: 1.000000\n",
      "2018-12-01 22:20:48.486403  [Epoch 4] vali indivisual [2] class precision: 0.900000\n",
      "2018-12-01 22:20:48.487918  [Epoch 4] vali indivisual [3] class recall: 1.000000\n",
      "2018-12-01 22:20:48.489497  [Epoch 4] vali indivisual [3] class precision: 1.000000\n",
      "2018-12-01 22:20:48.490998  [Epoch 4] vali indivisual [4] class recall: 1.000000\n",
      "2018-12-01 22:20:48.492541  [Epoch 4] vali indivisual [4] class precision: 1.000000\n",
      "2018-12-01 22:20:48.493974   Train one epoch   6 /  10\n"
     ]
    },
    {
     "name": "stderr",
     "output_type": "stream",
     "text": [
      "100%|██████████| 2124/2124 [10:26<00:00,  3.39it/s]\n"
     ]
    },
    {
     "name": "stdout",
     "output_type": "stream",
     "text": [
      "2018-12-01 22:31:16.129698  [Epoch 5] mean loss: 0.000411\n",
      "2018-12-01 22:31:16.131584  [Epoch 5] accuracy: 0.994228\n",
      "2018-12-01 22:31:16.133487  [Epoch 5] avg class acc: 0.994228\n",
      "2018-12-01 22:31:16.135346  [Epoch 5] indivisual [0] class recall: 0.999105\n",
      "2018-12-01 22:31:16.137212  [Epoch 5] indivisual [0] class precision: 0.997978\n",
      "2018-12-01 22:31:16.139279  [Epoch 5] indivisual [1] class recall: 0.992232\n",
      "2018-12-01 22:31:16.141408  [Epoch 5] indivisual [1] class precision: 0.992185\n",
      "2018-12-01 22:31:16.143146  [Epoch 5] indivisual [2] class recall: 0.993409\n",
      "2018-12-01 22:31:16.144902  [Epoch 5] indivisual [2] class precision: 0.993315\n",
      "2018-12-01 22:31:16.146578  [Epoch 5] indivisual [3] class recall: 0.995056\n",
      "2018-12-01 22:31:16.148293  [Epoch 5] indivisual [3] class precision: 0.995056\n",
      "2018-12-01 22:31:16.149881  [Epoch 5] indivisual [4] class recall: 0.991337\n",
      "2018-12-01 22:31:16.151436  [Epoch 5] indivisual [4] class precision: 0.992599\n",
      "2018-12-01 22:31:16.153150   Evaluation one (validation set) epoch   6 /  10\n"
     ]
    },
    {
     "name": "stderr",
     "output_type": "stream",
     "text": [
      "100%|██████████| 287/287 [00:20<00:00, 14.09it/s]\n"
     ]
    },
    {
     "name": "stdout",
     "output_type": "stream",
     "text": [
      "2018-12-01 22:31:36.811611  [Epoch 5] vali mean loss: 0.003044\n",
      "2018-12-01 22:31:36.813451  [Epoch 5] vali accuracy: 0.999373\n",
      "2018-12-01 22:31:36.815667  [Epoch 5] vali avg class acc: 1.000000\n",
      "2018-12-01 22:31:36.817323  [Epoch 5] vali indivisual [0] class recall: 1.000000\n",
      "2018-12-01 22:31:36.819007  [Epoch 5] vali indivisual [0] class precision: 1.000000\n",
      "2018-12-01 22:31:36.821058  [Epoch 5] vali indivisual [1] class recall: 1.000000\n",
      "2018-12-01 22:31:36.823130  [Epoch 5] vali indivisual [1] class precision: 1.000000\n",
      "2018-12-01 22:31:36.824949  [Epoch 5] vali indivisual [2] class recall: 1.000000\n",
      "2018-12-01 22:31:36.826676  [Epoch 5] vali indivisual [2] class precision: 1.000000\n",
      "2018-12-01 22:31:36.828420  [Epoch 5] vali indivisual [3] class recall: 1.000000\n",
      "2018-12-01 22:31:36.830073  [Epoch 5] vali indivisual [3] class precision: 1.000000\n",
      "2018-12-01 22:31:36.831718  [Epoch 5] vali indivisual [4] class recall: 1.000000\n",
      "2018-12-01 22:31:36.833340  [Epoch 5] vali indivisual [4] class precision: 1.000000\n",
      "2018-12-01 22:31:36.834928   Train one epoch   7 /  10\n"
     ]
    },
    {
     "name": "stderr",
     "output_type": "stream",
     "text": [
      "100%|██████████| 2124/2124 [10:26<00:00,  3.39it/s]\n"
     ]
    },
    {
     "name": "stdout",
     "output_type": "stream",
     "text": [
      "2018-12-01 22:42:04.427389  [Epoch 6] mean loss: 0.000226\n",
      "2018-12-01 22:42:04.429331  [Epoch 6] accuracy: 0.997137\n",
      "2018-12-01 22:42:04.431293  [Epoch 6] avg class acc: 0.997137\n",
      "2018-12-01 22:42:04.433044  [Epoch 6] indivisual [0] class recall: 0.999388\n",
      "2018-12-01 22:42:04.434775  [Epoch 6] indivisual [0] class precision: 0.998683\n",
      "2018-12-01 22:42:04.436741  [Epoch 6] indivisual [1] class recall: 0.996893\n",
      "2018-12-01 22:42:04.438463  [Epoch 6] indivisual [1] class precision: 0.995674\n",
      "2018-12-01 22:42:04.440376  [Epoch 6] indivisual [2] class recall: 0.996610\n",
      "2018-12-01 22:42:04.442413  [Epoch 6] indivisual [2] class precision: 0.997080\n",
      "2018-12-01 22:42:04.444109  [Epoch 6] indivisual [3] class recall: 0.997269\n",
      "2018-12-01 22:42:04.445805  [Epoch 6] indivisual [3] class precision: 0.997927\n",
      "2018-12-01 22:42:04.447369  [Epoch 6] indivisual [4] class recall: 0.995527\n",
      "2018-12-01 22:42:04.449186  [Epoch 6] indivisual [4] class precision: 0.996325\n",
      "2018-12-01 22:42:04.451049   Evaluation one (validation set) epoch   7 /  10\n"
     ]
    },
    {
     "name": "stderr",
     "output_type": "stream",
     "text": [
      "100%|██████████| 287/287 [00:20<00:00, 14.13it/s]\n"
     ]
    },
    {
     "name": "stdout",
     "output_type": "stream",
     "text": [
      "2018-12-01 22:42:25.041092  [Epoch 6] vali mean loss: 0.001674\n",
      "2018-12-01 22:42:25.043026  [Epoch 6] vali accuracy: 0.998188\n",
      "2018-12-01 22:42:25.045019  [Epoch 6] vali avg class acc: 0.800000\n",
      "2018-12-01 22:42:25.046853  [Epoch 6] vali indivisual [1] class recall: 1.000000\n",
      "2018-12-01 22:42:25.048670  [Epoch 6] vali indivisual [1] class precision: 1.000000\n",
      "2018-12-01 22:42:25.050387  [Epoch 6] vali indivisual [2] class recall: 1.000000\n",
      "2018-12-01 22:42:25.052105  [Epoch 6] vali indivisual [2] class precision: 1.000000\n",
      "2018-12-01 22:42:25.053916  [Epoch 6] vali indivisual [3] class recall: 1.000000\n",
      "2018-12-01 22:42:25.055723  [Epoch 6] vali indivisual [3] class precision: 1.000000\n",
      "2018-12-01 22:42:25.057420  [Epoch 6] vali indivisual [4] class recall: 1.000000\n",
      "2018-12-01 22:42:25.059052  [Epoch 6] vali indivisual [4] class precision: 1.000000\n",
      "2018-12-01 22:42:25.060689   Train one epoch   8 /  10\n"
     ]
    },
    {
     "name": "stderr",
     "output_type": "stream",
     "text": [
      "100%|██████████| 2124/2124 [10:26<00:00,  3.39it/s]\n"
     ]
    },
    {
     "name": "stdout",
     "output_type": "stream",
     "text": [
      "2018-12-01 22:52:52.774496  [Epoch 7] mean loss: 0.000204\n",
      "2018-12-01 22:52:52.776368  [Epoch 7] accuracy: 0.997288\n",
      "2018-12-01 22:52:52.778238  [Epoch 7] avg class acc: 0.997288\n",
      "2018-12-01 22:52:52.779817  [Epoch 7] indivisual [0] class recall: 0.999105\n",
      "2018-12-01 22:52:52.781383  [Epoch 7] indivisual [0] class precision: 0.998964\n",
      "2018-12-01 22:52:52.782881  [Epoch 7] indivisual [1] class recall: 0.996469\n",
      "2018-12-01 22:52:52.784449  [Epoch 7] indivisual [1] class precision: 0.996234\n",
      "2018-12-01 22:52:52.785962  [Epoch 7] indivisual [2] class recall: 0.996846\n",
      "2018-12-01 22:52:52.787492  [Epoch 7] indivisual [2] class precision: 0.996893\n",
      "2018-12-01 22:52:52.788945  [Epoch 7] indivisual [3] class recall: 0.997599\n",
      "2018-12-01 22:52:52.790354  [Epoch 7] indivisual [3] class precision: 0.997693\n",
      "2018-12-01 22:52:52.791763  [Epoch 7] indivisual [4] class recall: 0.996422\n",
      "2018-12-01 22:52:52.793259  [Epoch 7] indivisual [4] class precision: 0.996656\n",
      "2018-12-01 22:52:52.794672   Evaluation one (validation set) epoch   8 /  10\n"
     ]
    },
    {
     "name": "stderr",
     "output_type": "stream",
     "text": [
      "100%|██████████| 287/287 [00:20<00:00, 14.13it/s]\n"
     ]
    },
    {
     "name": "stdout",
     "output_type": "stream",
     "text": [
      "2018-12-01 22:53:13.394462  [Epoch 7] vali mean loss: 0.001508\n",
      "2018-12-01 22:53:13.396141  [Epoch 7] vali accuracy: 0.998815\n",
      "2018-12-01 22:53:13.398159  [Epoch 7] vali avg class acc: 1.000000\n",
      "2018-12-01 22:53:13.399816  [Epoch 7] vali indivisual [0] class recall: 1.000000\n",
      "2018-12-01 22:53:13.401493  [Epoch 7] vali indivisual [0] class precision: 1.000000\n",
      "2018-12-01 22:53:13.403115  [Epoch 7] vali indivisual [1] class recall: 1.000000\n",
      "2018-12-01 22:53:13.405024  [Epoch 7] vali indivisual [1] class precision: 1.000000\n",
      "2018-12-01 22:53:13.406955  [Epoch 7] vali indivisual [2] class recall: 1.000000\n",
      "2018-12-01 22:53:13.408757  [Epoch 7] vali indivisual [2] class precision: 1.000000\n",
      "2018-12-01 22:53:13.410531  [Epoch 7] vali indivisual [3] class recall: 1.000000\n",
      "2018-12-01 22:53:13.412234  [Epoch 7] vali indivisual [3] class precision: 1.000000\n",
      "2018-12-01 22:53:13.413989  [Epoch 7] vali indivisual [4] class recall: 1.000000\n",
      "2018-12-01 22:53:13.415627  [Epoch 7] vali indivisual [4] class precision: 1.000000\n",
      "2018-12-01 22:53:13.417266   Train one epoch   9 /  10\n"
     ]
    },
    {
     "name": "stderr",
     "output_type": "stream",
     "text": [
      "100%|██████████| 2124/2124 [10:26<00:00,  3.39it/s]\n"
     ]
    },
    {
     "name": "stdout",
     "output_type": "stream",
     "text": [
      "2018-12-01 23:03:40.862859  [Epoch 8] mean loss: 0.000140\n",
      "2018-12-01 23:03:40.864845  [Epoch 8] accuracy: 0.998333\n",
      "2018-12-01 23:03:40.866766  [Epoch 8] avg class acc: 0.998333\n",
      "2018-12-01 23:03:40.868630  [Epoch 8] indivisual [0] class recall: 0.999576\n",
      "2018-12-01 23:03:40.870268  [Epoch 8] indivisual [0] class precision: 0.999482\n",
      "2018-12-01 23:03:40.872014  [Epoch 8] indivisual [1] class recall: 0.997458\n",
      "2018-12-01 23:03:40.873885  [Epoch 8] indivisual [1] class precision: 0.998021\n",
      "2018-12-01 23:03:40.875473  [Epoch 8] indivisual [2] class recall: 0.998305\n",
      "2018-12-01 23:03:40.877239  [Epoch 8] indivisual [2] class precision: 0.998070\n",
      "2018-12-01 23:03:40.878919  [Epoch 8] indivisual [3] class recall: 0.998635\n",
      "2018-12-01 23:03:40.880689  [Epoch 8] indivisual [3] class precision: 0.998541\n",
      "2018-12-01 23:03:40.882289  [Epoch 8] indivisual [4] class recall: 0.997693\n",
      "2018-12-01 23:03:40.883794  [Epoch 8] indivisual [4] class precision: 0.997552\n",
      "2018-12-01 23:03:40.885251   Evaluation one (validation set) epoch   9 /  10\n"
     ]
    },
    {
     "name": "stderr",
     "output_type": "stream",
     "text": [
      "100%|██████████| 287/287 [00:20<00:00, 14.10it/s]\n"
     ]
    },
    {
     "name": "stdout",
     "output_type": "stream",
     "text": [
      "2018-12-01 23:04:01.532704  [Epoch 8] vali mean loss: 0.001034\n",
      "2018-12-01 23:04:01.534544  [Epoch 8] vali accuracy: 0.999303\n",
      "2018-12-01 23:04:01.536430  [Epoch 8] vali avg class acc: 1.000000\n",
      "2018-12-01 23:04:01.538221  [Epoch 8] vali indivisual [0] class recall: 1.000000\n",
      "2018-12-01 23:04:01.543671  [Epoch 8] vali indivisual [0] class precision: 1.000000\n",
      "2018-12-01 23:04:01.545364  [Epoch 8] vali indivisual [1] class recall: 1.000000\n",
      "2018-12-01 23:04:01.546979  [Epoch 8] vali indivisual [1] class precision: 1.000000\n",
      "2018-12-01 23:04:01.548786  [Epoch 8] vali indivisual [2] class recall: 1.000000\n",
      "2018-12-01 23:04:01.550660  [Epoch 8] vali indivisual [2] class precision: 1.000000\n",
      "2018-12-01 23:04:01.552477  [Epoch 8] vali indivisual [3] class recall: 1.000000\n",
      "2018-12-01 23:04:01.554230  [Epoch 8] vali indivisual [3] class precision: 1.000000\n",
      "2018-12-01 23:04:01.555930  [Epoch 8] vali indivisual [4] class recall: 1.000000\n",
      "2018-12-01 23:04:01.557674  [Epoch 8] vali indivisual [4] class precision: 1.000000\n",
      "2018-12-01 23:04:01.559295   Train one epoch  10 /  10\n"
     ]
    },
    {
     "name": "stderr",
     "output_type": "stream",
     "text": [
      "100%|██████████| 2124/2124 [10:25<00:00,  3.39it/s]\n"
     ]
    },
    {
     "name": "stdout",
     "output_type": "stream",
     "text": [
      "2018-12-01 23:14:28.598703  [Epoch 9] mean loss: 0.000117\n",
      "2018-12-01 23:14:28.600631  [Epoch 9] accuracy: 0.998701\n",
      "2018-12-01 23:14:28.602456  [Epoch 9] avg class acc: 0.998701\n",
      "2018-12-01 23:14:28.604158  [Epoch 9] indivisual [0] class recall: 0.999812\n",
      "2018-12-01 23:14:28.606041  [Epoch 9] indivisual [0] class precision: 0.999529\n",
      "2018-12-01 23:14:28.607840  [Epoch 9] indivisual [1] class recall: 0.998164\n",
      "2018-12-01 23:14:28.609746  [Epoch 9] indivisual [1] class precision: 0.997882\n",
      "2018-12-01 23:14:28.611533  [Epoch 9] indivisual [2] class recall: 0.998258\n",
      "2018-12-01 23:14:28.613407  [Epoch 9] indivisual [2] class precision: 0.998211\n",
      "2018-12-01 23:14:28.615224  [Epoch 9] indivisual [3] class recall: 0.999200\n",
      "2018-12-01 23:14:28.617048  [Epoch 9] indivisual [3] class precision: 0.999059\n",
      "2018-12-01 23:14:28.618595  [Epoch 9] indivisual [4] class recall: 0.998070\n",
      "2018-12-01 23:14:28.620033  [Epoch 9] indivisual [4] class precision: 0.998822\n",
      "2018-12-01 23:14:28.621429   Evaluation one (validation set) epoch  10 /  10\n"
     ]
    },
    {
     "name": "stderr",
     "output_type": "stream",
     "text": [
      "100%|██████████| 287/287 [00:20<00:00, 14.13it/s]\n"
     ]
    },
    {
     "name": "stdout",
     "output_type": "stream",
     "text": [
      "2018-12-01 23:14:49.207076  [Epoch 9] vali mean loss: 0.000869\n",
      "2018-12-01 23:14:49.209142  [Epoch 9] vali accuracy: 0.999652\n",
      "2018-12-01 23:14:49.211198  [Epoch 9] vali avg class acc: 0.800000\n",
      "2018-12-01 23:14:49.213065  [Epoch 9] vali indivisual [1] class recall: 1.000000\n",
      "2018-12-01 23:14:49.214973  [Epoch 9] vali indivisual [1] class precision: 1.000000\n",
      "2018-12-01 23:14:49.216876  [Epoch 9] vali indivisual [2] class recall: 1.000000\n",
      "2018-12-01 23:14:49.218561  [Epoch 9] vali indivisual [2] class precision: 1.000000\n",
      "2018-12-01 23:14:49.220218  [Epoch 9] vali indivisual [3] class recall: 1.000000\n",
      "2018-12-01 23:14:49.221943  [Epoch 9] vali indivisual [3] class precision: 1.000000\n",
      "2018-12-01 23:14:49.223509  [Epoch 9] vali indivisual [4] class recall: 1.000000\n",
      "2018-12-01 23:14:49.225185  [Epoch 9] vali indivisual [4] class precision: 1.000000\n",
      "2018-12-01 23:14:50.082310  Model saved in file: /home/gozilla/kyungpyo/git/MasterThesisProject/Network/notebook/train_log_20181201/model_opt1/model.ckpt\n"
     ]
    }
   ],
   "source": [
    "\"\"\" Import model \"\"\"\n",
    "sys.path.append( os.path.abspath('../../model') )\n",
    "\n",
    "from train import *\n",
    "import model_opt1 as MODEL\n",
    "\n",
    "def run_training(out_path):\n",
    "    \"\"\" Path \"\"\"\n",
    "    model_save_path = os.path.abspath(out_path)\n",
    "    if not os.path.isdir(model_save_path) : os.mkdir(model_save_path)\n",
    "    log_path = os.path.abspath(os.path.join(model_save_path, 'train_log.txt') )\n",
    "        \n",
    "    \"\"\" Parameters \"\"\"\n",
    "    GPU_INDEX = 0\n",
    "    NUM_POINT = 1024\n",
    "    NUM_CLASSES = 5\n",
    "\n",
    "    BN_INIT_DECAY = 0.5\n",
    "    BN_DECAY_DECAY_RATE = 0.5\n",
    "    BN_DECAY_DECAY_STEP = float(200000)\n",
    "    BN_DECAY_CLIP = 0.99\n",
    "    DECAY_STEP = BN_DECAY_DECAY_STEP\n",
    "    DECAY_RATE = BN_DECAY_DECAY_RATE\n",
    "\n",
    "    BATCH_SIZE = 50\n",
    "\n",
    "    MOMENTUM = 0.9\n",
    "\n",
    "    BASE_LEARNING_RATE = 0.001\n",
    "\n",
    "    OPTIMIZER = 'adam'\n",
    "\n",
    "    MAX_EPOCH = 10\n",
    "\n",
    "    \"\"\" log file \"\"\"\n",
    "    LOG_FOUT = open(log_path, 'w')\n",
    "\n",
    "    def log_string(out_str):\n",
    "        out_str = str( datetime.datetime.fromtimestamp( time.time() ) ) + \"  \" + out_str\n",
    "        LOG_FOUT.write(out_str+'\\n')\n",
    "        LOG_FOUT.flush()\n",
    "        print(out_str)\n",
    "\n",
    "\n",
    "    def get_learning_rate(batch):\n",
    "        learning_rate = tf.train.exponential_decay(\n",
    "                            BASE_LEARNING_RATE,  # Base learning rate.\n",
    "                            batch * BATCH_SIZE,  # Current index into the dataset.\n",
    "                            DECAY_STEP,          # Decay step.\n",
    "                            DECAY_RATE,          # Decay rate.\n",
    "                            staircase=True)\n",
    "        learning_rate = tf.maximum(learning_rate, 0.00001) # CLIP THE LEARNING RATE!\n",
    "        return learning_rate        \n",
    "\n",
    "    def get_bn_decay(batch):\n",
    "        bn_momentum = tf.train.exponential_decay(\n",
    "                          BN_INIT_DECAY,\n",
    "                          batch * BATCH_SIZE,\n",
    "                          BN_DECAY_DECAY_STEP,\n",
    "                          BN_DECAY_DECAY_RATE,\n",
    "                          staircase=True)\n",
    "        bn_decay = tf.minimum(BN_DECAY_CLIP, 1 - bn_momentum)\n",
    "        return bn_decay\n",
    "\n",
    "    \"\"\" load traing model \"\"\"\n",
    "    with tf.Graph().as_default():\n",
    "        with tf.device('/gpu:'+str(GPU_INDEX)):\n",
    "            pointclouds_pl, labels_pl = MODEL.placeholder_inputs(BATCH_SIZE, NUM_POINT)\n",
    "            is_training_pl = tf.placeholder(tf.bool, shape=())\n",
    "            print(is_training_pl)\n",
    "\n",
    "            # Note the global_step=batch parameter to minimize. \n",
    "            # That tells the optimizer to helpfully increment the 'batch' parameter for you every time it trains.\n",
    "            batch = tf.Variable(0)\n",
    "            bn_decay = get_bn_decay(batch)\n",
    "            tf.summary.scalar('bn_decay', bn_decay)\n",
    "\n",
    "            # Get model and loss \n",
    "            pred, end_points = MODEL.get_model(pointclouds_pl, is_training_pl, bn_decay=bn_decay)\n",
    "            loss = MODEL.get_loss(pred, labels_pl, end_points)\n",
    "            tf.summary.scalar('loss', loss)\n",
    "\n",
    "            correct = tf.equal(tf.argmax(pred, 1), tf.to_int64(labels_pl))\n",
    "            accuracy = tf.reduce_sum(tf.cast(correct, tf.float32)) / float(BATCH_SIZE)\n",
    "            tf.summary.scalar('accuracy', accuracy)\n",
    "\n",
    "            # Get training operator\n",
    "            learning_rate = get_learning_rate(batch)\n",
    "            tf.summary.scalar('learning_rate', learning_rate)\n",
    "            if OPTIMIZER == 'momentum':\n",
    "                optimizer = tf.train.MomentumOptimizer(learning_rate, momentum=MOMENTUM)\n",
    "            elif OPTIMIZER == 'adam':\n",
    "                optimizer = tf.train.AdamOptimizer(learning_rate)\n",
    "            train_op = optimizer.minimize(loss, global_step=batch)\n",
    "\n",
    "            # Add ops to save and restore all the variables.\n",
    "            saver = tf.train.Saver()\n",
    "\n",
    "        # Create a session\n",
    "        config = tf.ConfigProto()\n",
    "        config.gpu_options.allow_growth = True\n",
    "        config.allow_soft_placement = True\n",
    "        config.log_device_placement = False\n",
    "        sess = tf.Session(config=config)\n",
    "\n",
    "        # Add summary writers\n",
    "        #merged = tf.merge_all_summaries()\n",
    "        merged = tf.summary.merge_all()\n",
    "\n",
    "        train_writer_path = os.path.abspath( os.path.join(model_save_path, 'train') )\n",
    "        if os.path.isdir(train_writer_path): os.system('rm -r {}'.format(train_writer_path))\n",
    "        os.mkdir(train_writer_path)\n",
    "\n",
    "        test_writer_path = os.path.abspath( os.path.join(model_save_path, 'test') )\n",
    "        if os.path.isdir(test_writer_path): os.system('rm -r {}'.format(test_writer_path))\n",
    "        os.mkdir(test_writer_path)\n",
    "\n",
    "\n",
    "        train_writer = tf.summary.FileWriter(train_writer_path, sess.graph)\n",
    "        test_writer = tf.summary.FileWriter(test_writer_path)\n",
    "\n",
    "\n",
    "        # Init variables\n",
    "        init = tf.global_variables_initializer()\n",
    "        # To fix the bug introduced in TF 0.12.1 as in\n",
    "        # http://stackoverflow.com/questions/41543774/invalidargumenterror-for-tensor-bool-tensorflow-0-12-1\n",
    "        #sess.run(init)\n",
    "        sess.run(init, {is_training_pl: True})\n",
    "\n",
    "        ops = {'pointclouds_pl': pointclouds_pl,\n",
    "               'labels_pl': labels_pl,\n",
    "               'is_training_pl': is_training_pl,\n",
    "               'pred': pred,\n",
    "               'loss': loss,\n",
    "               'train_op': train_op,\n",
    "               'merged': merged,\n",
    "               'step': batch}\n",
    "\n",
    "\n",
    "        for epoch in range(MAX_EPOCH):\n",
    "\n",
    "            ## Training\n",
    "            log_string ( \" Train one epoch %3d / %3d\" % (epoch+1, MAX_EPOCH) )\n",
    "            sys.stdout.flush()\n",
    "\n",
    "            is_training = True\n",
    "\n",
    "            # Shuffle train files\n",
    "            train_file_idxs = np.arange(0, data_train.shape[0])\n",
    "            np.random.shuffle(train_file_idxs)\n",
    "\n",
    "            current_data = data_train[train_file_idxs] \n",
    "            current_label = label_train[train_file_idxs]\n",
    "            current_label.reshape((data_train.shape[0],))\n",
    "\n",
    "            ## Evaluation metric\n",
    "            total_correct = 0\n",
    "            total_seen = 0\n",
    "            loss_sum = 0\n",
    "\n",
    "            total_class = [0 for _ in range(NUM_CLASSES)]\n",
    "            total_detect_class = [0 for _ in range(NUM_CLASSES)]\n",
    "            total_correct_class = [0 for _ in range(NUM_CLASSES)]\n",
    "\n",
    "            num_batches = current_data.shape[0] // BATCH_SIZE\n",
    "\n",
    "            for batch_idx in trange(num_batches):\n",
    "\n",
    "                start_idx = batch_idx * BATCH_SIZE\n",
    "                end_idx = (batch_idx+1) * BATCH_SIZE           \n",
    "\n",
    "                # Augment batched point clouds by rotation and jittering\n",
    "                rotated_data = provider.rotate_point_cloud(current_data[start_idx:end_idx, :, :])\n",
    "                jittered_data = provider.jitter_point_cloud(rotated_data)\n",
    "\n",
    "                # Reashape\n",
    "                current_label_reshape = current_label[start_idx:end_idx].reshape((BATCH_SIZE,))\n",
    "\n",
    "                feed_dict = {ops['pointclouds_pl']: jittered_data,\n",
    "                             ops['labels_pl']: current_label_reshape,\n",
    "                             ops['is_training_pl']: is_training,}\n",
    "\n",
    "                summary, step, _, loss_val, pred_val = sess.run([ops['merged'], ops['step'],\n",
    "                    ops['train_op'], ops['loss'], ops['pred']], feed_dict=feed_dict)\n",
    "\n",
    "                train_writer.add_summary(summary, step)\n",
    "\n",
    "                pred_val = np.argmax(pred_val, 1)\n",
    "                correct = np.sum(pred_val == current_label_reshape)\n",
    "                total_correct += correct\n",
    "                total_seen += BATCH_SIZE\n",
    "                loss_sum += loss_val\n",
    "\n",
    "                for i in range(NUM_CLASSES):\n",
    "                    total_class[i] += np.sum( np.ones(BATCH_SIZE) * i == current_label_reshape )\n",
    "                    total_detect_class[i] += np.sum( np.ones(BATCH_SIZE) * i == pred_val )\n",
    "                    total_correct_class[i] += np.sum( (np.ones(BATCH_SIZE) * i == current_label_reshape) * \\\n",
    "                                                        (np.ones(BATCH_SIZE) * i == pred_val) )\n",
    "\n",
    "            log_string(  '[Epoch %d] mean loss: %f' % \\\n",
    "                       (  epoch, loss_sum / float(total_seen)  )   )\n",
    "            log_string(  '[Epoch %d] accuracy: %f'% \\\n",
    "                       (  epoch, total_correct / float(total_seen)  )   )\n",
    "            log_string(  '[Epoch %d] avg class acc: %f' % \\\n",
    "                       (  epoch, np.mean( np.array(total_correct_class)/np.array(total_class,dtype=np.float) )  )   )\n",
    "\n",
    "            for i_cls in range(NUM_CLASSES):\n",
    "                if not float(total_class[i_cls]) == 0:\n",
    "                    log_string(  '[Epoch %d] indivisual [%d] class recall: %f' % \\\n",
    "                           (  epoch, i_cls, float(total_correct_class[i_cls])/float(total_class[i_cls])))    \n",
    "                if not float(total_detect_class[i_cls]) == 0:\n",
    "                    log_string(  '[Epoch %d] indivisual [%d] class precision: %f' % \\\n",
    "                           (  epoch, i_cls, float(total_correct_class[i_cls])/float(total_detect_class[i_cls])))    \n",
    "\n",
    "\n",
    "            ## Evaluation using validation set    \n",
    "            log_string ( \" Evaluation one (validation set) epoch %3d / %3d\" % (epoch+1, MAX_EPOCH) )\n",
    "            sys.stdout.flush()\n",
    "\n",
    "            is_training = False\n",
    "            total_correct = 0\n",
    "            total_seen = 0\n",
    "            total_seen_class = [0 for _ in range(NUM_CLASSES)]\n",
    "            total_correct_class = [0 for _ in range(NUM_CLASSES)]\n",
    "            total_detect_class = [0 for _ in range(NUM_CLASSES)]\n",
    "            total_detect_true_class = [0 for _ in range(NUM_CLASSES)]\n",
    "\n",
    "            # Shuffle validation files\n",
    "            file_idxs = np.arange(0, data_vali.shape[0])\n",
    "            np.random.shuffle(file_idxs)\n",
    "\n",
    "            current_data = data_vali[file_idxs]\n",
    "            current_label = label_vali[file_idxs]\n",
    "\n",
    "            num_batches = current_data.shape[0] // BATCH_SIZE\n",
    "\n",
    "            for batch_idx in trange(num_batches):\n",
    "\n",
    "                start_idx = batch_idx * BATCH_SIZE\n",
    "                end_idx = (batch_idx+1) * BATCH_SIZE\n",
    "\n",
    "                # Reashape\n",
    "                current_label_reshape = current_label[start_idx:end_idx].reshape((BATCH_SIZE,))\n",
    "\n",
    "                feed_dict = {ops['pointclouds_pl']: current_data[start_idx:end_idx, :, :],\n",
    "                             ops['labels_pl']: current_label_reshape,\n",
    "                             ops['is_training_pl']: is_training}\n",
    "                summary, step, loss_val, pred_val = sess.run([ops['merged'], ops['step'],\n",
    "                    ops['loss'], ops['pred']], feed_dict=feed_dict)\n",
    "\n",
    "                # test_writer.add_summary(summary, step)\n",
    "\n",
    "                pred_val = np.argmax(pred_val, 1)\n",
    "                correct = np.sum(pred_val == current_label_reshape)\n",
    "                total_correct += correct\n",
    "                total_seen += BATCH_SIZE\n",
    "\n",
    "                for i in range(NUM_CLASSES):\n",
    "                    total_class[i] = np.sum( np.ones(BATCH_SIZE) * i == current_label_reshape )\n",
    "                    total_detect_class[i] = np.sum( np.ones(BATCH_SIZE) * i == pred_val )\n",
    "                    total_correct_class[i] = np.sum( (np.ones(BATCH_SIZE) * i == current_label_reshape) * \\\n",
    "                                                        (np.ones(BATCH_SIZE) * i == pred_val) )\n",
    "\n",
    "            log_string(  '[Epoch %d] vali mean loss: %f' % \\\n",
    "                       (  epoch, loss_sum / float(total_seen)  )   )\n",
    "            log_string(  '[Epoch %d] vali accuracy: %f'% \\\n",
    "                       (  epoch, total_correct / float(total_seen)  )   )\n",
    "            log_string(  '[Epoch %d] vali avg class acc: %f' % \\\n",
    "                       (  epoch, np.mean( np.array(total_correct_class) / np.array(total_class) )  )   )\n",
    "\n",
    "            for i_cls in range(NUM_CLASSES):\n",
    "                if not float(total_class[i_cls]) == 0:\n",
    "                    log_string(  '[Epoch %d] vali indivisual [%d] class recall: %f' % \\\n",
    "                           (  epoch, i_cls, float(total_correct_class[i_cls])/float(total_class[i_cls])))    \n",
    "                if not float(total_detect_class[i_cls]) == 0:\n",
    "                    log_string(  '[Epoch %d] vali indivisual [%d] class precision: %f' % \\\n",
    "                           (  epoch, i_cls, float(total_correct_class[i_cls])/float(total_detect_class[i_cls])))    \n",
    "\n",
    "\n",
    "            # Save the variables to disk.\n",
    "            if ( epoch + 1 ) % 10 == 0:\n",
    "                save_path = saver.save(sess, os.path.join(model_save_path, \"model.ckpt\"))\n",
    "                log_string(\"Model saved in file: %s\" % save_path)\n",
    "\n",
    "# option 1: execute code with extra process\n",
    "p = multiprocessing.Process(target=run_training, args = ('./model_opt1',))\n",
    "p.start()\n",
    "p.join()"
   ]
  }
 ],
 "metadata": {
  "kernelspec": {
   "display_name": "Python 2",
   "language": "python",
   "name": "python2"
  },
  "language_info": {
   "codemirror_mode": {
    "name": "ipython",
    "version": 2
   },
   "file_extension": ".py",
   "mimetype": "text/x-python",
   "name": "python",
   "nbconvert_exporter": "python",
   "pygments_lexer": "ipython2",
   "version": "2.7.12"
  }
 },
 "nbformat": 4,
 "nbformat_minor": 2
}
