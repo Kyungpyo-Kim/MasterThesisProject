{
 "cells": [
  {
   "cell_type": "markdown",
   "metadata": {},
   "source": [
    "# Train Log 20181101\n",
    "\n",
    "## Results\n",
    "```\n",
    "2018-11-01 03:09:38.996653   Train one epoch  10 /  10\n",
    "\n",
    "\n",
    "100%|██████████| 1679/1679 [20:55<00:00,  1.34it/s]\n",
    "\n",
    "2018-11-01 03:30:36.147181  [Epoch 9] mean loss: 0.000067\n",
    "2018-11-01 03:30:36.147677  [Epoch 9] accuracy: 0.994394\n",
    "2018-11-01 03:30:36.148391  [Epoch 9] avg class acc: 0.997297\n",
    "2018-11-01 03:30:36.148750  [Epoch 9] indivisual [0] class recall: 1.000000\n",
    "2018-11-01 03:30:36.148995  [Epoch 9] indivisual [0] class precision: 1.000000\n",
    "2018-11-01 03:30:36.149164  [Epoch 9] indivisual [1] class recall: 0.986486\n",
    "2018-11-01 03:30:36.149561  [Epoch 9] indivisual [1] class precision: 1.000000\n",
    "2018-11-01 03:30:36.149833  [Epoch 9] indivisual [2] class recall: 1.000000\n",
    "2018-11-01 03:30:36.150209  [Epoch 9] indivisual [2] class precision: 0.970588\n",
    "2018-11-01 03:30:36.150491  [Epoch 9] indivisual [3] class recall: 1.000000\n",
    "2018-11-01 03:30:36.150653  [Epoch 9] indivisual [3] class precision: 1.000000\n",
    "2018-11-01 03:30:36.150810  [Epoch 9] indivisual [4] class recall: 1.000000\n",
    "2018-11-01 03:30:36.150902  [Epoch 9] indivisual [4] class precision: 1.000000\n",
    "2018-11-01 03:30:36.151611   Evaluation one (validation set) epoch  10 /  10\n",
    "\n",
    "\n",
    "100%|██████████| 419/419 [01:14<00:00,  5.59it/s]\n",
    "\n",
    "2018-11-01 03:31:51.564680  [Epoch 9] vali mean loss: 0.000268\n",
    "2018-11-01 03:31:51.564980  [Epoch 9] vali accuracy: 0.999618\n",
    "2018-11-01 03:31:51.565380  [Epoch 9] vali avg class acc: 1.000000\n",
    "2018-11-01 03:31:51.566020  [Epoch 9] vali indivisual [0] class recall: 1.000000\n",
    "2018-11-01 03:31:51.566168  [Epoch 9] vali indivisual [0] class precision: 1.000000\n",
    "2018-11-01 03:31:51.566507  [Epoch 9] vali indivisual [1] class recall: 1.000000\n",
    "2018-11-01 03:31:51.566815  [Epoch 9] vali indivisual [1] class precision: 1.000000\n",
    "2018-11-01 03:31:51.567116  [Epoch 9] vali indivisual [2] class recall: 1.000000\n",
    "2018-11-01 03:31:51.567381  [Epoch 9] vali indivisual [2] class precision: 1.000000\n",
    "2018-11-01 03:31:51.567781  [Epoch 9] vali indivisual [3] class recall: 1.000000\n",
    "2018-11-01 03:31:51.567875  [Epoch 9] vali indivisual [3] class precision: 1.000000\n",
    "2018-11-01 03:31:51.568244  [Epoch 9] vali indivisual [4] class recall: 1.000000\n",
    "2018-11-01 03:31:51.568596  [Epoch 9] vali indivisual [4] class precision: 1.000000\n",
    "2018-11-01 03:31:51.568699   Evaluation one (test set) epoch  10 /  10\n",
    "\n",
    "\n",
    "100%|██████████| 419/419 [01:14<00:00,  5.59it/s]\n",
    "\n",
    "2018-11-01 03:33:06.949805  [Epoch 9] test mean loss: 0.000268\n",
    "2018-11-01 03:33:06.950114  [Epoch 9] test accuracy: 0.999809\n",
    "2018-11-01 03:33:06.950640  [Epoch 9] test avg class acc: 1.000000\n",
    "2018-11-01 03:33:06.951251  [Epoch 9] test indivisual [0] class recall: 1.000000\n",
    "2018-11-01 03:33:06.951505  [Epoch 9] test indivisual [0] class precision: 1.000000\n",
    "2018-11-01 03:33:06.951698  [Epoch 9] test indivisual [1] class recall: 1.000000\n",
    "2018-11-01 03:33:06.951864  [Epoch 9] test indivisual [1] class precision: 1.000000\n",
    "2018-11-01 03:33:06.952000  [Epoch 9] test indivisual [2] class recall: 1.000000\n",
    "2018-11-01 03:33:06.952136  [Epoch 9] test indivisual [2] class precision: 1.000000\n",
    "2018-11-01 03:33:06.952968  [Epoch 9] test indivisual [3] class recall: 1.000000\n",
    "2018-11-01 03:33:06.953192  [Epoch 9] test indivisual [3] class precision: 1.000000\n",
    "2018-11-01 03:33:06.953348  [Epoch 9] test indivisual [4] class recall: 1.000000\n",
    "2018-11-01 03:33:06.953724  [Epoch 9] test indivisual [4] class precision: 1.000000\n",
    "2018-11-01 03:33:08.031235  Model saved in file: /home/gozilla/kyungpyo/git/MasterThesisProject/Network/notebook/train_log_20181101_opt01/model/model.ckpt\n",
    "\n",
    "```\n",
    "\n",
    "## Trained model\n",
    "* [Download link](https://drive.google.com/open?id=1-XVGrPdpj_qLviDUc_1yULDt8YCfGBsq)\n",
    "\n",
    "## Evaluation\n",
    "* Incorrect sample\n",
    "![results]()"
   ]
  },
  {
   "cell_type": "code",
   "execution_count": 5,
   "metadata": {},
   "outputs": [],
   "source": [
    "import os, sys\n",
    "import numpy as np\n",
    "import matplotlib.pyplot as plt\n",
    "import time , datetime\n",
    "\n",
    "sys.path.append( os.path.abspath('../../../Dataset/scripts'))\n",
    "from utils import *\n",
    "\n",
    "sys.path.append( os.path.abspath('../../model') )\n",
    "from train import *\n",
    "import model_opt1 as MODEL"
   ]
  },
  {
   "cell_type": "code",
   "execution_count": 6,
   "metadata": {},
   "outputs": [],
   "source": [
    "\"\"\" Path \"\"\"\n",
    "\n",
    "data_train_path_list = []\n",
    "data_test_path_list = []\n",
    "data_vali_path_list = []\n",
    "\n",
    "data_train_path = os.path.abspath('../../../Dataset/dataset/db_aug_v4_20181031_ndb_aug_v2_20181020/train.h5')\n",
    "data_test_path = os.path.abspath('../../../Dataset/dataset/db_aug_v4_20181031_ndb_aug_v2_20181020/test.h5')\n",
    "data_vali_path = os.path.abspath('../../../Dataset/dataset/db_aug_v4_20181031_ndb_aug_v2_20181020/vali.h5')\n",
    "data_train_path_list.append(data_train_path)\n",
    "data_test_path_list.append(data_test_path)\n",
    "data_vali_path_list.append(data_vali_path)\n",
    "\n",
    "data_train_path = os.path.abspath('../../../Dataset/dataset/db_aug_v4_v_500_20181031_ndb_aug_v2_20181020/train.h5')\n",
    "data_test_path = os.path.abspath('../../../Dataset/dataset/db_aug_v4_v_500_20181031_ndb_aug_v2_20181020/test.h5')\n",
    "data_vali_path = os.path.abspath('../../../Dataset/dataset/db_aug_v4_v_500_20181031_ndb_aug_v2_20181020/vali.h5')\n",
    "data_train_path_list.append(data_train_path)\n",
    "data_test_path_list.append(data_test_path)\n",
    "data_vali_path_list.append(data_vali_path)\n",
    "\n",
    "data_train_path = os.path.abspath('../../../Dataset/dataset/db_aug_v4_v_400_20181031_ndb_aug_v2_20181020/train.h5')\n",
    "data_test_path = os.path.abspath('../../../Dataset/dataset/db_aug_v4_v_400_20181031_ndb_aug_v2_20181020/test.h5')\n",
    "data_vali_path = os.path.abspath('../../../Dataset/dataset/db_aug_v4_v_400_20181031_ndb_aug_v2_20181020/vali.h5')\n",
    "data_train_path_list.append(data_train_path)\n",
    "data_test_path_list.append(data_test_path)\n",
    "data_vali_path_list.append(data_vali_path)\n",
    "\n",
    "data_train_path = os.path.abspath('../../../Dataset/dataset/db_aug_v4_v_300_20181031_ndb_aug_v2_20181020/train.h5')\n",
    "data_test_path = os.path.abspath('../../../Dataset/dataset/db_aug_v4_v_300_20181031_ndb_aug_v2_20181020/test.h5')\n",
    "data_vali_path = os.path.abspath('../../../Dataset/dataset/db_aug_v4_v_300_20181031_ndb_aug_v2_20181020/vali.h5')\n",
    "data_train_path_list.append(data_train_path)\n",
    "data_test_path_list.append(data_test_path)\n",
    "data_vali_path_list.append(data_vali_path)\n",
    "\n",
    "data_train_path = os.path.abspath('../../../Dataset/dataset/db_aug_v4_v_200_20181031_ndb_aug_v2_20181020/train.h5')\n",
    "data_test_path = os.path.abspath('../../../Dataset/dataset/db_aug_v4_v_200_20181031_ndb_aug_v2_20181020/test.h5')\n",
    "data_vali_path = os.path.abspath('../../../Dataset/dataset/db_aug_v4_v_200_20181031_ndb_aug_v2_20181020/vali.h5')\n",
    "data_train_path_list.append(data_train_path)\n",
    "data_test_path_list.append(data_test_path)\n",
    "data_vali_path_list.append(data_vali_path)\n",
    "\n",
    "data_train_path = os.path.abspath('../../../Dataset/dataset/db_aug_v4_v_100_20181031_ndb_aug_v2_20181020/train.h5')\n",
    "data_test_path = os.path.abspath('../../../Dataset/dataset/db_aug_v4_v_100_20181031_ndb_aug_v2_20181020/test.h5')\n",
    "data_vali_path = os.path.abspath('../../../Dataset/dataset/db_aug_v4_v_100_20181031_ndb_aug_v2_20181020/vali.h5')\n",
    "data_train_path_list.append(data_train_path)\n",
    "data_test_path_list.append(data_test_path)\n",
    "data_vali_path_list.append(data_vali_path)\n",
    "\n",
    "\n",
    "\n",
    "log_path = os.path.abspath('./train_log_20181101.txt')\n",
    "\n",
    "model_save_path = os.path.abspath('./model')\n",
    "if not os.path.isdir(model_save_path) : os.mkdir(model_save_path)\n",
    "\n",
    "\"\"\" Parameters \"\"\"\n",
    "GPU_INDEX = 0\n",
    "NUM_POINT = 256\n",
    "NUM_CLASSES = 5\n",
    "\n",
    "BN_INIT_DECAY = 0.5\n",
    "BN_DECAY_DECAY_RATE = 0.5\n",
    "BN_DECAY_DECAY_STEP = float(200000)\n",
    "BN_DECAY_CLIP = 0.99\n",
    "DECAY_STEP = BN_DECAY_DECAY_STEP\n",
    "DECAY_RATE = BN_DECAY_DECAY_RATE\n",
    "\n",
    "BATCH_SIZE = 250\n",
    "\n",
    "MOMENTUM = 0.9\n",
    "\n",
    "BASE_LEARNING_RATE = 0.001\n",
    "\n",
    "OPTIMIZER = 'adam'\n",
    "\n",
    "MAX_EPOCH = 10"
   ]
  },
  {
   "cell_type": "code",
   "execution_count": 7,
   "metadata": {},
   "outputs": [
    {
     "data": {
      "image/png": "[encoded data removed]",
      "text/plain": [
       "<Figure size 1080x360 with 1 Axes>"
      ]
     },
     "metadata": {
      "needs_background": "light"
     },
     "output_type": "display_data"
    }
   ],
   "source": [
    "\"\"\" Load dataset\"\"\"\n",
    "\n",
    "data = []\n",
    "label = []\n",
    "\n",
    "data_train, label_train = load_h5(data_train_path_list[0])\n",
    "data_vali, label_vali = load_h5(data_vali_path_list[0])\n",
    "data_test, label_test = load_h5(data_test_path_list[0])\n",
    "    \n",
    "for i in range( 1, len(data_train_path_list) ):\n",
    "\n",
    "    d_train, l_train = load_h5(data_train_path_list[i])\n",
    "    d_vali, l_vali = load_h5(data_vali_path_list[i])\n",
    "    d_test, l_test = load_h5(data_test_path_list[i])\n",
    "    \n",
    "    data_train = np.concatenate( (data_train, d_train), axis = 0 )\n",
    "    data_vali = np.concatenate( (data_vali, d_vali), axis = 0 )\n",
    "    data_test = np.concatenate( (data_test, d_test), axis = 0 )\n",
    "    \n",
    "    label_train = np.concatenate( (label_train, l_train), axis = 0 )\n",
    "    label_vali = np.concatenate( (label_vali, l_vali), axis = 0 )\n",
    "    label_test = np.concatenate( (label_test, l_test), axis = 0 )\n",
    "    \n",
    "\n",
    "data.append(data_train)\n",
    "data.append(data_vali)\n",
    "data.append(data_test)\n",
    "\n",
    "label.append(label_train)\n",
    "label.append(label_vali)\n",
    "label.append(label_test)\n",
    "\n",
    "\"\"\" Data statistics \"\"\"\n",
    "\n",
    "label_list = [0,1,2,3,4]\n",
    "\n",
    "y_val = []\n",
    "for i in range( len ( data) ):\n",
    "    for j in range ( len ( label_list ) ):\n",
    "        y_val.append(np.sum(label[i] == label_list[j]))\n",
    "\n",
    "x_name=('unknown-train', 'cars-train', 'trucks-train', 'pedestrian-train', 'bike-train',\n",
    "        'unknown-test', 'cars-test', 'trucks-test', 'pedestrian-test', 'bike-test',\n",
    "        'unknown-vali', 'cars-vali', 'trucks-vali', 'pedestrian-vali', 'bike-vali')\n",
    "\n",
    "index = range( len(x_name) )\n",
    "\n",
    "plt.figure(figsize=(15,5))\n",
    "plt.bar(index, y_val, tick_label=x_name, align='center')\n",
    "plt.ylabel('Number of dataset')\n",
    "plt.title('Label distribution')\n",
    "plt.xlim( -1, len(x_name))\n",
    "plt.ylim( 0, np.max(y_val) * 1.1 )\n",
    "plt.show()"
   ]
  },
  {
   "cell_type": "code",
   "execution_count": 4,
   "metadata": {},
   "outputs": [
    {
     "name": "stdout",
     "output_type": "stream",
     "text": [
      "Tensor(\"Placeholder_2:0\", shape=(), dtype=bool, device=/device:GPU:0)\n",
      "INFO:tensorflow:Summary name classify loss is illegal; using classify_loss instead.\n",
      "INFO:tensorflow:Summary name mat loss is illegal; using mat_loss instead.\n",
      "(419904, 256, 3)\n",
      "(419904,)\n",
      "2018-10-31 23:38:23.260397   Train one epoch   1 /  10\n"
     ]
    },
    {
     "name": "stderr",
     "output_type": "stream",
     "text": [
      "100%|██████████| 1679/1679 [20:57<00:00,  1.34it/s]"
     ]
    },
    {
     "name": "stdout",
     "output_type": "stream",
     "text": [
      "2018-10-31 23:59:21.939480  [Epoch 0] mean loss: 0.001725\n",
      "2018-10-31 23:59:21.940333  [Epoch 0] accuracy: 0.852865\n",
      "2018-10-31 23:59:21.941097  [Epoch 0] avg class acc: 0.897393\n",
      "2018-10-31 23:59:21.941321  [Epoch 0] indivisual [0] class recall: 0.920354\n",
      "2018-10-31 23:59:21.941500  [Epoch 0] indivisual [0] class precision: 0.920354\n",
      "2018-10-31 23:59:21.941931  [Epoch 0] indivisual [1] class recall: 0.982759\n",
      "2018-10-31 23:59:21.942280  [Epoch 0] indivisual [1] class precision: 0.890625\n",
      "2018-10-31 23:59:21.942646  [Epoch 0] indivisual [2] class recall: 0.821429\n",
      "2018-10-31 23:59:21.942743  [Epoch 0] indivisual [2] class precision: 0.884615\n",
      "2018-10-31 23:59:21.943009  [Epoch 0] indivisual [3] class recall: 0.869565\n",
      "2018-10-31 23:59:21.943331  [Epoch 0] indivisual [3] class precision: 1.000000\n",
      "2018-10-31 23:59:21.943464  [Epoch 0] indivisual [4] class recall: 0.892857\n",
      "2018-10-31 23:59:21.943690  [Epoch 0] indivisual [4] class precision: 0.925926\n",
      "2018-10-31 23:59:21.943778   Evaluation one (validation set) epoch   1 /  10\n"
     ]
    },
    {
     "name": "stderr",
     "output_type": "stream",
     "text": [
      "\n",
      "100%|██████████| 419/419 [01:14<00:00,  5.60it/s]\n"
     ]
    },
    {
     "name": "stdout",
     "output_type": "stream",
     "text": [
      "2018-11-01 00:00:37.381971  [Epoch 0] vali mean loss: 0.006911\n",
      "2018-11-01 00:00:37.383024  [Epoch 0] vali accuracy: 0.971733\n",
      "2018-11-01 00:00:37.384236  [Epoch 0] vali avg class acc: 0.400000\n",
      "2018-11-01 00:00:37.384405  [Epoch 0] vali indivisual [0] class recall: 0.967213\n",
      "2018-11-01 00:00:37.384549  [Epoch 0] vali indivisual [0] class precision: 0.951613\n",
      "2018-11-01 00:00:37.384768  [Epoch 0] vali indivisual [1] class recall: 1.000000\n",
      "2018-11-01 00:00:37.385720  [Epoch 0] vali indivisual [1] class precision: 1.000000\n",
      "2018-11-01 00:00:37.385995  [Epoch 0] vali indivisual [2] class recall: 0.821429\n",
      "2018-11-01 00:00:37.386094  [Epoch 0] vali indivisual [2] class precision: 0.920000\n",
      "2018-11-01 00:00:37.386324  [Epoch 0] vali indivisual [3] class recall: 1.000000\n",
      "2018-11-01 00:00:37.386755  [Epoch 0] vali indivisual [3] class precision: 0.866667\n",
      "2018-11-01 00:00:37.387250  [Epoch 0] vali indivisual [4] class recall: 0.947368\n",
      "2018-11-01 00:00:37.387392  [Epoch 0] vali indivisual [4] class precision: 1.000000\n",
      "2018-11-01 00:00:37.387596   Evaluation one (test set) epoch   1 /  10\n"
     ]
    },
    {
     "name": "stderr",
     "output_type": "stream",
     "text": [
      "100%|██████████| 419/419 [01:14<00:00,  5.59it/s]"
     ]
    },
    {
     "name": "stdout",
     "output_type": "stream",
     "text": [
      "2018-11-01 00:01:52.820164  [Epoch 0] test mean loss: 0.006911\n",
      "2018-11-01 00:01:52.820942  [Epoch 0] test accuracy: 0.971599\n",
      "2018-11-01 00:01:52.821591  [Epoch 0] test avg class acc: 0.960797\n",
      "2018-11-01 00:01:52.821974  [Epoch 0] test indivisual [0] class recall: 0.980000\n",
      "2018-11-01 00:01:52.822283  [Epoch 0] test indivisual [0] class precision: 0.960784\n",
      "2018-11-01 00:01:52.822439  [Epoch 0] test indivisual [1] class recall: 0.986486\n",
      "2018-11-01 00:01:52.822845  [Epoch 0] test indivisual [1] class precision: 1.000000\n",
      "2018-11-01 00:01:52.823093  [Epoch 0] test indivisual [2] class recall: 0.900000\n",
      "2018-11-01 00:01:52.823241  [Epoch 0] test indivisual [2] class precision: 0.931034\n",
      "2018-11-01 00:01:52.823835  [Epoch 0] test indivisual [3] class recall: 0.937500\n",
      "2018-11-01 00:01:52.823942  [Epoch 0] test indivisual [3] class precision: 1.000000\n",
      "2018-11-01 00:01:52.824303  [Epoch 0] test indivisual [4] class recall: 1.000000\n",
      "2018-11-01 00:01:52.824448  [Epoch 0] test indivisual [4] class precision: 0.967742\n",
      "2018-11-01 00:01:52.825002   Train one epoch   2 /  10\n"
     ]
    },
    {
     "name": "stderr",
     "output_type": "stream",
     "text": [
      "\n",
      "100%|██████████| 1679/1679 [20:53<00:00,  1.34it/s]"
     ]
    },
    {
     "name": "stdout",
     "output_type": "stream",
     "text": [
      "2018-11-01 00:22:47.802089  [Epoch 1] mean loss: 0.000350\n",
      "2018-11-01 00:22:47.802748  [Epoch 1] accuracy: 0.969830\n",
      "2018-11-01 00:22:47.803151  [Epoch 1] avg class acc: 0.995516\n",
      "2018-11-01 00:22:47.803892  [Epoch 1] indivisual [0] class recall: 0.991667\n",
      "2018-11-01 00:22:47.804166  [Epoch 1] indivisual [0] class precision: 0.991667\n",
      "2018-11-01 00:22:47.804360  [Epoch 1] indivisual [1] class recall: 0.985915\n",
      "2018-11-01 00:22:47.804488  [Epoch 1] indivisual [1] class precision: 1.000000\n",
      "2018-11-01 00:22:47.805082  [Epoch 1] indivisual [2] class recall: 1.000000\n",
      "2018-11-01 00:22:47.805444  [Epoch 1] indivisual [2] class precision: 0.960000\n",
      "2018-11-01 00:22:47.805542  [Epoch 1] indivisual [3] class recall: 1.000000\n",
      "2018-11-01 00:22:47.805910  [Epoch 1] indivisual [3] class precision: 1.000000\n",
      "2018-11-01 00:22:47.806270  [Epoch 1] indivisual [4] class recall: 1.000000\n",
      "2018-11-01 00:22:47.806393  [Epoch 1] indivisual [4] class precision: 1.000000\n",
      "2018-11-01 00:22:47.806623   Evaluation one (validation set) epoch   2 /  10\n"
     ]
    },
    {
     "name": "stderr",
     "output_type": "stream",
     "text": [
      "\n",
      "100%|██████████| 419/419 [01:14<00:00,  5.60it/s]"
     ]
    },
    {
     "name": "stdout",
     "output_type": "stream",
     "text": [
      "2018-11-01 00:24:03.202955  [Epoch 1] vali mean loss: 0.001402\n",
      "2018-11-01 00:24:03.203324  [Epoch 1] vali accuracy: 0.997232\n",
      "2018-11-01 00:24:03.203940  [Epoch 1] vali avg class acc: 1.000000\n",
      "2018-11-01 00:24:03.204351  [Epoch 1] vali indivisual [0] class recall: 1.000000\n",
      "2018-11-01 00:24:03.204560  [Epoch 1] vali indivisual [0] class precision: 1.000000\n",
      "2018-11-01 00:24:03.204830  [Epoch 1] vali indivisual [1] class recall: 1.000000\n",
      "2018-11-01 00:24:03.204969  [Epoch 1] vali indivisual [1] class precision: 1.000000\n",
      "2018-11-01 00:24:03.205818  [Epoch 1] vali indivisual [2] class recall: 1.000000\n",
      "2018-11-01 00:24:03.205915  [Epoch 1] vali indivisual [2] class precision: 1.000000\n",
      "2018-11-01 00:24:03.206270  [Epoch 1] vali indivisual [3] class recall: 1.000000\n",
      "2018-11-01 00:24:03.206539  [Epoch 1] vali indivisual [3] class precision: 1.000000\n",
      "2018-11-01 00:24:03.206966  [Epoch 1] vali indivisual [4] class recall: 1.000000\n",
      "2018-11-01 00:24:03.207083  [Epoch 1] vali indivisual [4] class precision: 1.000000\n",
      "2018-11-01 00:24:03.207194   Evaluation one (test set) epoch   2 /  10\n"
     ]
    },
    {
     "name": "stderr",
     "output_type": "stream",
     "text": [
      "\n",
      "100%|██████████| 419/419 [01:14<00:00,  5.60it/s]"
     ]
    },
    {
     "name": "stdout",
     "output_type": "stream",
     "text": [
      "2018-11-01 00:25:18.677427  [Epoch 1] test mean loss: 0.001402\n",
      "2018-11-01 00:25:18.678206  [Epoch 1] test accuracy: 0.997356\n",
      "2018-11-01 00:25:18.678773  [Epoch 1] test avg class acc: 0.994595\n",
      "2018-11-01 00:25:18.679106  [Epoch 1] test indivisual [0] class recall: 0.972973\n",
      "2018-11-01 00:25:18.679516  [Epoch 1] test indivisual [0] class precision: 1.000000\n",
      "2018-11-01 00:25:18.679862  [Epoch 1] test indivisual [1] class recall: 1.000000\n",
      "2018-11-01 00:25:18.680001  [Epoch 1] test indivisual [1] class precision: 1.000000\n",
      "2018-11-01 00:25:18.680182  [Epoch 1] test indivisual [2] class recall: 1.000000\n",
      "2018-11-01 00:25:18.680336  [Epoch 1] test indivisual [2] class precision: 0.896552\n",
      "2018-11-01 00:25:18.680490  [Epoch 1] test indivisual [3] class recall: 1.000000\n",
      "2018-11-01 00:25:18.681157  [Epoch 1] test indivisual [3] class precision: 1.000000\n",
      "2018-11-01 00:25:18.681429  [Epoch 1] test indivisual [4] class recall: 1.000000\n",
      "2018-11-01 00:25:18.681557  [Epoch 1] test indivisual [4] class precision: 1.000000\n",
      "2018-11-01 00:25:18.681755   Train one epoch   3 /  10\n"
     ]
    },
    {
     "name": "stderr",
     "output_type": "stream",
     "text": [
      "\n",
      "100%|██████████| 1679/1679 [20:56<00:00,  1.34it/s]"
     ]
    },
    {
     "name": "stdout",
     "output_type": "stream",
     "text": [
      "2018-11-01 00:46:16.893487  [Epoch 2] mean loss: 0.000197\n",
      "2018-11-01 00:46:16.894638  [Epoch 2] accuracy: 0.982399\n",
      "2018-11-01 00:46:16.895075  [Epoch 2] avg class acc: 0.988889\n",
      "2018-11-01 00:46:16.895328  [Epoch 2] indivisual [0] class recall: 1.000000\n",
      "2018-11-01 00:46:16.895705  [Epoch 2] indivisual [0] class precision: 0.980952\n",
      "2018-11-01 00:46:16.895997  [Epoch 2] indivisual [1] class recall: 1.000000\n",
      "2018-11-01 00:46:16.896332  [Epoch 2] indivisual [1] class precision: 1.000000\n",
      "2018-11-01 00:46:16.896680  [Epoch 2] indivisual [2] class recall: 0.944444\n",
      "2018-11-01 00:46:16.896771  [Epoch 2] indivisual [2] class precision: 1.000000\n",
      "2018-11-01 00:46:16.897128  [Epoch 2] indivisual [3] class recall: 1.000000\n",
      "2018-11-01 00:46:16.897472  [Epoch 2] indivisual [3] class precision: 1.000000\n",
      "2018-11-01 00:46:16.897598  [Epoch 2] indivisual [4] class recall: 1.000000\n",
      "2018-11-01 00:46:16.897815  [Epoch 2] indivisual [4] class precision: 1.000000\n",
      "2018-11-01 00:46:16.898068   Evaluation one (validation set) epoch   3 /  10\n"
     ]
    },
    {
     "name": "stderr",
     "output_type": "stream",
     "text": [
      "\n",
      "100%|██████████| 419/419 [01:14<00:00,  5.61it/s]"
     ]
    },
    {
     "name": "stdout",
     "output_type": "stream",
     "text": [
      "2018-11-01 00:47:32.206700  [Epoch 2] vali mean loss: 0.000788\n",
      "2018-11-01 00:47:32.207542  [Epoch 2] vali accuracy: 0.998644\n",
      "2018-11-01 00:47:32.208103  [Epoch 2] vali avg class acc: 0.800000\n",
      "2018-11-01 00:47:32.208419  [Epoch 2] vali indivisual [0] class recall: 1.000000\n",
      "2018-11-01 00:47:32.208597  [Epoch 2] vali indivisual [0] class precision: 0.991071\n",
      "2018-11-01 00:47:32.209226  [Epoch 2] vali indivisual [1] class recall: 1.000000\n",
      "2018-11-01 00:47:32.209695  [Epoch 2] vali indivisual [1] class precision: 1.000000\n",
      "2018-11-01 00:47:32.209993  [Epoch 2] vali indivisual [2] class recall: 0.970588\n",
      "2018-11-01 00:47:32.210091  [Epoch 2] vali indivisual [2] class precision: 1.000000\n",
      "2018-11-01 00:47:32.210534  [Epoch 2] vali indivisual [3] class recall: 1.000000\n",
      "2018-11-01 00:47:32.210653  [Epoch 2] vali indivisual [3] class precision: 1.000000\n",
      "2018-11-01 00:47:32.210783  [Epoch 2] vali indivisual [4] class recall: 1.000000\n",
      "2018-11-01 00:47:32.211006  [Epoch 2] vali indivisual [4] class precision: 1.000000\n",
      "2018-11-01 00:47:32.211216   Evaluation one (test set) epoch   3 /  10\n"
     ]
    },
    {
     "name": "stderr",
     "output_type": "stream",
     "text": [
      "\n",
      "100%|██████████| 419/419 [01:14<00:00,  5.60it/s]\n"
     ]
    },
    {
     "name": "stdout",
     "output_type": "stream",
     "text": [
      "2018-11-01 00:48:47.519136  [Epoch 2] test mean loss: 0.000788\n",
      "2018-11-01 00:48:47.519945  [Epoch 2] test accuracy: 0.998654\n",
      "2018-11-01 00:48:47.520661  [Epoch 2] test avg class acc: 1.000000\n",
      "2018-11-01 00:48:47.520852  [Epoch 2] test indivisual [0] class recall: 1.000000\n",
      "2018-11-01 00:48:47.521101  [Epoch 2] test indivisual [0] class precision: 1.000000\n",
      "2018-11-01 00:48:47.521349  [Epoch 2] test indivisual [1] class recall: 1.000000\n",
      "2018-11-01 00:48:47.521563  [Epoch 2] test indivisual [1] class precision: 1.000000\n",
      "2018-11-01 00:48:47.522216  [Epoch 2] test indivisual [2] class recall: 1.000000\n",
      "2018-11-01 00:48:47.522415  [Epoch 2] test indivisual [2] class precision: 1.000000\n",
      "2018-11-01 00:48:47.522542  [Epoch 2] test indivisual [3] class recall: 1.000000\n",
      "2018-11-01 00:48:47.523031  [Epoch 2] test indivisual [3] class precision: 1.000000\n",
      "2018-11-01 00:48:47.523509  [Epoch 2] test indivisual [4] class recall: 1.000000\n",
      "2018-11-01 00:48:47.523939  [Epoch 2] test indivisual [4] class precision: 1.000000\n",
      "2018-11-01 00:48:47.524845   Train one epoch   4 /  10\n"
     ]
    },
    {
     "name": "stderr",
     "output_type": "stream",
     "text": [
      "100%|██████████| 1679/1679 [20:55<00:00,  1.34it/s]"
     ]
    },
    {
     "name": "stdout",
     "output_type": "stream",
     "text": [
      "2018-11-01 01:09:45.149812  [Epoch 3] mean loss: 0.000137\n",
      "2018-11-01 01:09:45.150548  [Epoch 3] accuracy: 0.988238\n",
      "2018-11-01 01:09:45.150986  [Epoch 3] avg class acc: 0.995362\n",
      "2018-11-01 01:09:45.151331  [Epoch 3] indivisual [0] class recall: 0.991304\n",
      "2018-11-01 01:09:45.151469  [Epoch 3] indivisual [0] class precision: 0.991304\n",
      "2018-11-01 01:09:45.151833  [Epoch 3] indivisual [1] class recall: 0.985507\n",
      "2018-11-01 01:09:45.152293  [Epoch 3] indivisual [1] class precision: 1.000000\n",
      "2018-11-01 01:09:45.152553  [Epoch 3] indivisual [2] class recall: 1.000000\n",
      "2018-11-01 01:09:45.152703  [Epoch 3] indivisual [2] class precision: 0.960000\n",
      "2018-11-01 01:09:45.153030  [Epoch 3] indivisual [3] class recall: 1.000000\n",
      "2018-11-01 01:09:45.153267  [Epoch 3] indivisual [3] class precision: 1.000000\n",
      "2018-11-01 01:09:45.153694  [Epoch 3] indivisual [4] class recall: 1.000000\n",
      "2018-11-01 01:09:45.153782  [Epoch 3] indivisual [4] class precision: 1.000000\n",
      "2018-11-01 01:09:45.154205   Evaluation one (validation set) epoch   4 /  10\n"
     ]
    },
    {
     "name": "stderr",
     "output_type": "stream",
     "text": [
      "\n",
      "100%|██████████| 419/419 [01:14<00:00,  5.62it/s]"
     ]
    },
    {
     "name": "stdout",
     "output_type": "stream",
     "text": [
      "2018-11-01 01:11:00.379232  [Epoch 3] vali mean loss: 0.000551\n",
      "2018-11-01 01:11:00.380003  [Epoch 3] vali accuracy: 0.998568\n",
      "2018-11-01 01:11:00.381105  [Epoch 3] vali avg class acc: 1.000000\n",
      "2018-11-01 01:11:00.381280  [Epoch 3] vali indivisual [0] class recall: 1.000000\n",
      "2018-11-01 01:11:00.381976  [Epoch 3] vali indivisual [0] class precision: 1.000000\n",
      "2018-11-01 01:11:00.382284  [Epoch 3] vali indivisual [1] class recall: 1.000000\n",
      "2018-11-01 01:11:00.382463  [Epoch 3] vali indivisual [1] class precision: 1.000000\n",
      "2018-11-01 01:11:00.382684  [Epoch 3] vali indivisual [2] class recall: 1.000000\n",
      "2018-11-01 01:11:00.383135  [Epoch 3] vali indivisual [2] class precision: 1.000000\n",
      "2018-11-01 01:11:00.383236  [Epoch 3] vali indivisual [3] class recall: 1.000000\n",
      "2018-11-01 01:11:00.383365  [Epoch 3] vali indivisual [3] class precision: 1.000000\n",
      "2018-11-01 01:11:00.383577  [Epoch 3] vali indivisual [4] class recall: 1.000000\n",
      "2018-11-01 01:11:00.384145  [Epoch 3] vali indivisual [4] class precision: 1.000000\n",
      "2018-11-01 01:11:00.384517   Evaluation one (test set) epoch   4 /  10\n"
     ]
    },
    {
     "name": "stderr",
     "output_type": "stream",
     "text": [
      "\n",
      "100%|██████████| 419/419 [01:14<00:00,  5.59it/s]"
     ]
    },
    {
     "name": "stdout",
     "output_type": "stream",
     "text": [
      "2018-11-01 01:12:15.765177  [Epoch 3] test mean loss: 0.000551\n",
      "2018-11-01 01:12:15.765925  [Epoch 3] test accuracy: 0.998835\n",
      "2018-11-01 01:12:15.766526  [Epoch 3] test avg class acc: 1.000000\n",
      "2018-11-01 01:12:15.766915  [Epoch 3] test indivisual [0] class recall: 1.000000\n",
      "2018-11-01 01:12:15.767584  [Epoch 3] test indivisual [0] class precision: 1.000000\n",
      "2018-11-01 01:12:15.767911  [Epoch 3] test indivisual [1] class recall: 1.000000\n",
      "2018-11-01 01:12:15.768230  [Epoch 3] test indivisual [1] class precision: 1.000000\n",
      "2018-11-01 01:12:15.768603  [Epoch 3] test indivisual [2] class recall: 1.000000\n",
      "2018-11-01 01:12:15.768746  [Epoch 3] test indivisual [2] class precision: 1.000000\n",
      "2018-11-01 01:12:15.769023  [Epoch 3] test indivisual [3] class recall: 1.000000\n",
      "2018-11-01 01:12:15.769193  [Epoch 3] test indivisual [3] class precision: 1.000000\n",
      "2018-11-01 01:12:15.769569  [Epoch 3] test indivisual [4] class recall: 1.000000\n",
      "2018-11-01 01:12:15.769737  [Epoch 3] test indivisual [4] class precision: 1.000000\n",
      "2018-11-01 01:12:15.769985   Train one epoch   5 /  10\n"
     ]
    },
    {
     "name": "stderr",
     "output_type": "stream",
     "text": [
      "\n",
      "100%|██████████| 1679/1679 [20:57<00:00,  1.33it/s]"
     ]
    },
    {
     "name": "stdout",
     "output_type": "stream",
     "text": [
      "2018-11-01 01:33:15.241634  [Epoch 4] mean loss: 0.000117\n",
      "2018-11-01 01:33:15.241965  [Epoch 4] accuracy: 0.990156\n",
      "2018-11-01 01:33:15.242396  [Epoch 4] avg class acc: 0.996667\n",
      "2018-11-01 01:33:15.243115  [Epoch 4] indivisual [0] class recall: 0.983333\n",
      "2018-11-01 01:33:15.243329  [Epoch 4] indivisual [0] class precision: 1.000000\n",
      "2018-11-01 01:33:15.243632  [Epoch 4] indivisual [1] class recall: 1.000000\n",
      "2018-11-01 01:33:15.243828  [Epoch 4] indivisual [1] class precision: 1.000000\n",
      "2018-11-01 01:33:15.244524  [Epoch 4] indivisual [2] class recall: 1.000000\n",
      "2018-11-01 01:33:15.244646  [Epoch 4] indivisual [2] class precision: 0.961538\n",
      "2018-11-01 01:33:15.245075  [Epoch 4] indivisual [3] class recall: 1.000000\n",
      "2018-11-01 01:33:15.245186  [Epoch 4] indivisual [3] class precision: 1.000000\n",
      "2018-11-01 01:33:15.245459  [Epoch 4] indivisual [4] class recall: 1.000000\n",
      "2018-11-01 01:33:15.245733  [Epoch 4] indivisual [4] class precision: 0.961538\n",
      "2018-11-01 01:33:15.246154   Evaluation one (validation set) epoch   5 /  10\n"
     ]
    },
    {
     "name": "stderr",
     "output_type": "stream",
     "text": [
      "\n",
      "100%|██████████| 419/419 [01:14<00:00,  5.61it/s]\n"
     ]
    },
    {
     "name": "stdout",
     "output_type": "stream",
     "text": [
      "2018-11-01 01:34:30.478899  [Epoch 4] vali mean loss: 0.000467\n",
      "2018-11-01 01:34:30.479273  [Epoch 4] vali accuracy: 0.998520\n",
      "2018-11-01 01:34:30.479722  [Epoch 4] vali avg class acc: 0.800000\n",
      "2018-11-01 01:34:30.480684  [Epoch 4] vali indivisual [0] class recall: 0.990826\n",
      "2018-11-01 01:34:30.480866  [Epoch 4] vali indivisual [0] class precision: 1.000000\n",
      "2018-11-01 01:34:30.481828  [Epoch 4] vali indivisual [1] class recall: 1.000000\n",
      "2018-11-01 01:34:30.482107  [Epoch 4] vali indivisual [1] class precision: 1.000000\n",
      "2018-11-01 01:34:30.482233  [Epoch 4] vali indivisual [2] class recall: 1.000000\n",
      "2018-11-01 01:34:30.482363  [Epoch 4] vali indivisual [2] class precision: 0.970588\n",
      "2018-11-01 01:34:30.482626  [Epoch 4] vali indivisual [3] class recall: 1.000000\n",
      "2018-11-01 01:34:30.482877  [Epoch 4] vali indivisual [3] class precision: 1.000000\n",
      "2018-11-01 01:34:30.483325  [Epoch 4] vali indivisual [4] class recall: 1.000000\n",
      "2018-11-01 01:34:30.483461  [Epoch 4] vali indivisual [4] class precision: 1.000000\n",
      "2018-11-01 01:34:30.484241   Evaluation one (test set) epoch   5 /  10\n"
     ]
    },
    {
     "name": "stderr",
     "output_type": "stream",
     "text": [
      "100%|██████████| 419/419 [01:14<00:00,  5.59it/s]"
     ]
    },
    {
     "name": "stdout",
     "output_type": "stream",
     "text": [
      "2018-11-01 01:35:45.864852  [Epoch 4] test mean loss: 0.000467\n",
      "2018-11-01 01:35:45.865557  [Epoch 4] test accuracy: 0.998702\n",
      "2018-11-01 01:35:45.866291  [Epoch 4] test avg class acc: 1.000000\n",
      "2018-11-01 01:35:45.866519  [Epoch 4] test indivisual [0] class recall: 1.000000\n",
      "2018-11-01 01:35:45.866836  [Epoch 4] test indivisual [0] class precision: 1.000000\n",
      "2018-11-01 01:35:45.867395  [Epoch 4] test indivisual [1] class recall: 1.000000\n",
      "2018-11-01 01:35:45.867499  [Epoch 4] test indivisual [1] class precision: 1.000000\n",
      "2018-11-01 01:35:45.867882  [Epoch 4] test indivisual [2] class recall: 1.000000\n",
      "2018-11-01 01:35:45.867975  [Epoch 4] test indivisual [2] class precision: 1.000000\n",
      "2018-11-01 01:35:45.868319  [Epoch 4] test indivisual [3] class recall: 1.000000\n",
      "2018-11-01 01:35:45.868577  [Epoch 4] test indivisual [3] class precision: 1.000000\n",
      "2018-11-01 01:35:45.868732  [Epoch 4] test indivisual [4] class recall: 1.000000\n",
      "2018-11-01 01:35:45.868972  [Epoch 4] test indivisual [4] class precision: 1.000000\n",
      "2018-11-01 01:35:45.869140   Train one epoch   6 /  10\n"
     ]
    },
    {
     "name": "stderr",
     "output_type": "stream",
     "text": [
      "\n",
      "100%|██████████| 1679/1679 [20:55<00:00,  1.34it/s]"
     ]
    },
    {
     "name": "stdout",
     "output_type": "stream",
     "text": [
      "2018-11-01 01:56:43.252091  [Epoch 5] mean loss: 0.000101\n",
      "2018-11-01 01:56:43.252682  [Epoch 5] accuracy: 0.991490\n",
      "2018-11-01 01:56:43.253153  [Epoch 5] avg class acc: 0.992892\n",
      "2018-11-01 01:56:43.253709  [Epoch 5] indivisual [0] class recall: 0.990099\n",
      "2018-11-01 01:56:43.253936  [Epoch 5] indivisual [0] class precision: 0.990099\n",
      "2018-11-01 01:56:43.254097  [Epoch 5] indivisual [1] class recall: 1.000000\n",
      "2018-11-01 01:56:43.254339  [Epoch 5] indivisual [1] class precision: 0.986301\n",
      "2018-11-01 01:56:43.254459  [Epoch 5] indivisual [2] class recall: 0.974359\n",
      "2018-11-01 01:56:43.255002  [Epoch 5] indivisual [2] class precision: 1.000000\n",
      "2018-11-01 01:56:43.255474  [Epoch 5] indivisual [3] class recall: 1.000000\n",
      "2018-11-01 01:56:43.255566  [Epoch 5] indivisual [3] class precision: 1.000000\n",
      "2018-11-01 01:56:43.255688  [Epoch 5] indivisual [4] class recall: 1.000000\n",
      "2018-11-01 01:56:43.255883  [Epoch 5] indivisual [4] class precision: 1.000000\n",
      "2018-11-01 01:56:43.256452   Evaluation one (validation set) epoch   6 /  10\n"
     ]
    },
    {
     "name": "stderr",
     "output_type": "stream",
     "text": [
      "\n",
      "100%|██████████| 419/419 [01:15<00:00,  5.55it/s]"
     ]
    },
    {
     "name": "stdout",
     "output_type": "stream",
     "text": [
      "2018-11-01 01:57:59.305042  [Epoch 5] vali mean loss: 0.000406\n",
      "2018-11-01 01:57:59.305788  [Epoch 5] vali accuracy: 0.998902\n",
      "2018-11-01 01:57:59.306152  [Epoch 5] vali avg class acc: 1.000000\n",
      "2018-11-01 01:57:59.306662  [Epoch 5] vali indivisual [0] class recall: 1.000000\n",
      "2018-11-01 01:57:59.306799  [Epoch 5] vali indivisual [0] class precision: 1.000000\n",
      "2018-11-01 01:57:59.307354  [Epoch 5] vali indivisual [1] class recall: 1.000000\n",
      "2018-11-01 01:57:59.307698  [Epoch 5] vali indivisual [1] class precision: 1.000000\n",
      "2018-11-01 01:57:59.307792  [Epoch 5] vali indivisual [2] class recall: 1.000000\n",
      "2018-11-01 01:57:59.308008  [Epoch 5] vali indivisual [2] class precision: 1.000000\n",
      "2018-11-01 01:57:59.308296  [Epoch 5] vali indivisual [3] class recall: 1.000000\n",
      "2018-11-01 01:57:59.308415  [Epoch 5] vali indivisual [3] class precision: 1.000000\n",
      "2018-11-01 01:57:59.308620  [Epoch 5] vali indivisual [4] class recall: 1.000000\n",
      "2018-11-01 01:57:59.308782  [Epoch 5] vali indivisual [4] class precision: 1.000000\n",
      "2018-11-01 01:57:59.308923   Evaluation one (test set) epoch   6 /  10\n"
     ]
    },
    {
     "name": "stderr",
     "output_type": "stream",
     "text": [
      "\n",
      "100%|██████████| 419/419 [01:15<00:00,  5.53it/s]"
     ]
    },
    {
     "name": "stdout",
     "output_type": "stream",
     "text": [
      "2018-11-01 01:59:15.490803  [Epoch 5] test mean loss: 0.000406\n",
      "2018-11-01 01:59:15.491234  [Epoch 5] test accuracy: 0.999122\n",
      "2018-11-01 01:59:15.491785  [Epoch 5] test avg class acc: 1.000000\n",
      "2018-11-01 01:59:15.492246  [Epoch 5] test indivisual [0] class recall: 1.000000\n",
      "2018-11-01 01:59:15.492442  [Epoch 5] test indivisual [0] class precision: 1.000000\n",
      "2018-11-01 01:59:15.492623  [Epoch 5] test indivisual [1] class recall: 1.000000\n",
      "2018-11-01 01:59:15.492888  [Epoch 5] test indivisual [1] class precision: 1.000000\n",
      "2018-11-01 01:59:15.493397  [Epoch 5] test indivisual [2] class recall: 1.000000\n",
      "2018-11-01 01:59:15.493685  [Epoch 5] test indivisual [2] class precision: 1.000000\n",
      "2018-11-01 01:59:15.493856  [Epoch 5] test indivisual [3] class recall: 1.000000\n",
      "2018-11-01 01:59:15.494015  [Epoch 5] test indivisual [3] class precision: 1.000000\n",
      "2018-11-01 01:59:15.494481  [Epoch 5] test indivisual [4] class recall: 1.000000\n",
      "2018-11-01 01:59:15.494762  [Epoch 5] test indivisual [4] class precision: 1.000000\n",
      "2018-11-01 01:59:15.495066   Train one epoch   7 /  10\n"
     ]
    },
    {
     "name": "stderr",
     "output_type": "stream",
     "text": [
      "\n",
      "100%|██████████| 1679/1679 [20:55<00:00,  1.34it/s]"
     ]
    },
    {
     "name": "stdout",
     "output_type": "stream",
     "text": [
      "2018-11-01 02:20:12.550864  [Epoch 6] mean loss: 0.000090\n",
      "2018-11-01 02:20:12.551601  [Epoch 6] accuracy: 0.992334\n",
      "2018-11-01 02:20:12.552282  [Epoch 6] avg class acc: 0.996774\n",
      "2018-11-01 02:20:12.552619  [Epoch 6] indivisual [0] class recall: 1.000000\n",
      "2018-11-01 02:20:12.552772  [Epoch 6] indivisual [0] class precision: 0.991935\n",
      "2018-11-01 02:20:12.552959  [Epoch 6] indivisual [1] class recall: 0.983871\n",
      "2018-11-01 02:20:12.553216  [Epoch 6] indivisual [1] class precision: 1.000000\n",
      "2018-11-01 02:20:12.553374  [Epoch 6] indivisual [2] class recall: 1.000000\n",
      "2018-11-01 02:20:12.553985  [Epoch 6] indivisual [2] class precision: 1.000000\n",
      "2018-11-01 02:20:12.554413  [Epoch 6] indivisual [3] class recall: 1.000000\n",
      "2018-11-01 02:20:12.554672  [Epoch 6] indivisual [3] class precision: 1.000000\n",
      "2018-11-01 02:20:12.554768  [Epoch 6] indivisual [4] class recall: 1.000000\n",
      "2018-11-01 02:20:12.555154  [Epoch 6] indivisual [4] class precision: 1.000000\n",
      "2018-11-01 02:20:12.555353   Evaluation one (validation set) epoch   7 /  10\n"
     ]
    },
    {
     "name": "stderr",
     "output_type": "stream",
     "text": [
      "\n",
      "100%|██████████| 419/419 [01:14<00:00,  5.62it/s]"
     ]
    },
    {
     "name": "stdout",
     "output_type": "stream",
     "text": [
      "2018-11-01 02:21:27.652796  [Epoch 6] vali mean loss: 0.000362\n",
      "2018-11-01 02:21:27.653099  [Epoch 6] vali accuracy: 0.998912\n",
      "2018-11-01 02:21:27.653508  [Epoch 6] vali avg class acc: 1.000000\n",
      "2018-11-01 02:21:27.654167  [Epoch 6] vali indivisual [0] class recall: 1.000000\n",
      "2018-11-01 02:21:27.654362  [Epoch 6] vali indivisual [0] class precision: 1.000000\n",
      "2018-11-01 02:21:27.654617  [Epoch 6] vali indivisual [1] class recall: 1.000000\n",
      "2018-11-01 02:21:27.654742  [Epoch 6] vali indivisual [1] class precision: 1.000000\n",
      "2018-11-01 02:21:27.655453  [Epoch 6] vali indivisual [2] class recall: 1.000000\n",
      "2018-11-01 02:21:27.655814  [Epoch 6] vali indivisual [2] class precision: 1.000000\n",
      "2018-11-01 02:21:27.655907  [Epoch 6] vali indivisual [3] class recall: 1.000000\n",
      "2018-11-01 02:21:27.656176  [Epoch 6] vali indivisual [3] class precision: 1.000000\n",
      "2018-11-01 02:21:27.656332  [Epoch 6] vali indivisual [4] class recall: 1.000000\n",
      "2018-11-01 02:21:27.656419  [Epoch 6] vali indivisual [4] class precision: 1.000000\n",
      "2018-11-01 02:21:27.656635   Evaluation one (test set) epoch   7 /  10\n"
     ]
    },
    {
     "name": "stderr",
     "output_type": "stream",
     "text": [
      "\n",
      "100%|██████████| 419/419 [01:14<00:00,  5.61it/s]"
     ]
    },
    {
     "name": "stdout",
     "output_type": "stream",
     "text": [
      "2018-11-01 02:22:42.831835  [Epoch 6] test mean loss: 0.000362\n",
      "2018-11-01 02:22:42.832420  [Epoch 6] test accuracy: 0.999112\n",
      "2018-11-01 02:22:42.832932  [Epoch 6] test avg class acc: 1.000000\n",
      "2018-11-01 02:22:42.833291  [Epoch 6] test indivisual [0] class recall: 1.000000\n",
      "2018-11-01 02:22:42.833919  [Epoch 6] test indivisual [0] class precision: 1.000000\n",
      "2018-11-01 02:22:42.834071  [Epoch 6] test indivisual [1] class recall: 1.000000\n",
      "2018-11-01 02:22:42.834303  [Epoch 6] test indivisual [1] class precision: 1.000000\n",
      "2018-11-01 02:22:42.834487  [Epoch 6] test indivisual [2] class recall: 1.000000\n",
      "2018-11-01 02:22:42.834848  [Epoch 6] test indivisual [2] class precision: 1.000000\n",
      "2018-11-01 02:22:42.835149  [Epoch 6] test indivisual [3] class recall: 1.000000\n",
      "2018-11-01 02:22:42.835601  [Epoch 6] test indivisual [3] class precision: 1.000000\n",
      "2018-11-01 02:22:42.835745  [Epoch 6] test indivisual [4] class recall: 1.000000\n",
      "2018-11-01 02:22:42.836302  [Epoch 6] test indivisual [4] class precision: 1.000000\n",
      "2018-11-01 02:22:42.836420   Train one epoch   8 /  10\n"
     ]
    },
    {
     "name": "stderr",
     "output_type": "stream",
     "text": [
      "\n",
      "100%|██████████| 1679/1679 [20:55<00:00,  1.34it/s]"
     ]
    },
    {
     "name": "stdout",
     "output_type": "stream",
     "text": [
      "2018-11-01 02:43:39.573169  [Epoch 7] mean loss: 0.000081\n",
      "2018-11-01 02:43:39.573805  [Epoch 7] accuracy: 0.993151\n",
      "2018-11-01 02:43:39.574213  [Epoch 7] avg class acc: 0.983150\n",
      "2018-11-01 02:43:39.574706  [Epoch 7] indivisual [0] class recall: 0.955752\n",
      "2018-11-01 02:43:39.574827  [Epoch 7] indivisual [0] class precision: 0.990826\n",
      "2018-11-01 02:43:39.575247  [Epoch 7] indivisual [1] class recall: 1.000000\n",
      "2018-11-01 02:43:39.575617  [Epoch 7] indivisual [1] class precision: 0.983333\n",
      "2018-11-01 02:43:39.575717  [Epoch 7] indivisual [2] class recall: 0.960000\n",
      "2018-11-01 02:43:39.575977  [Epoch 7] indivisual [2] class precision: 0.857143\n",
      "2018-11-01 02:43:39.576251  [Epoch 7] indivisual [3] class recall: 1.000000\n",
      "2018-11-01 02:43:39.576667  [Epoch 7] indivisual [3] class precision: 1.000000\n",
      "2018-11-01 02:43:39.576767  [Epoch 7] indivisual [4] class recall: 1.000000\n",
      "2018-11-01 02:43:39.577022  [Epoch 7] indivisual [4] class precision: 1.000000\n",
      "2018-11-01 02:43:39.577197   Evaluation one (validation set) epoch   8 /  10\n"
     ]
    },
    {
     "name": "stderr",
     "output_type": "stream",
     "text": [
      "\n",
      "100%|██████████| 419/419 [01:14<00:00,  5.61it/s]"
     ]
    },
    {
     "name": "stdout",
     "output_type": "stream",
     "text": [
      "2018-11-01 02:44:54.727916  [Epoch 7] vali mean loss: 0.000324\n",
      "2018-11-01 02:44:54.728494  [Epoch 7] vali accuracy: 0.998893\n",
      "2018-11-01 02:44:54.729018  [Epoch 7] vali avg class acc: 1.000000\n",
      "2018-11-01 02:44:54.729592  [Epoch 7] vali indivisual [0] class recall: 1.000000\n",
      "2018-11-01 02:44:54.729797  [Epoch 7] vali indivisual [0] class precision: 1.000000\n",
      "2018-11-01 02:44:54.730259  [Epoch 7] vali indivisual [1] class recall: 1.000000\n",
      "2018-11-01 02:44:54.730355  [Epoch 7] vali indivisual [1] class precision: 1.000000\n",
      "2018-11-01 02:44:54.730693  [Epoch 7] vali indivisual [2] class recall: 1.000000\n",
      "2018-11-01 02:44:54.730947  [Epoch 7] vali indivisual [2] class precision: 1.000000\n",
      "2018-11-01 02:44:54.731402  [Epoch 7] vali indivisual [3] class recall: 1.000000\n",
      "2018-11-01 02:44:54.731508  [Epoch 7] vali indivisual [3] class precision: 1.000000\n",
      "2018-11-01 02:44:54.731877  [Epoch 7] vali indivisual [4] class recall: 1.000000\n",
      "2018-11-01 02:44:54.732235  [Epoch 7] vali indivisual [4] class precision: 1.000000\n",
      "2018-11-01 02:44:54.732348   Evaluation one (test set) epoch   8 /  10\n"
     ]
    },
    {
     "name": "stderr",
     "output_type": "stream",
     "text": [
      "\n",
      "100%|██████████| 419/419 [01:14<00:00,  5.60it/s]"
     ]
    },
    {
     "name": "stdout",
     "output_type": "stream",
     "text": [
      "2018-11-01 02:46:10.070783  [Epoch 7] test mean loss: 0.000324\n",
      "2018-11-01 02:46:10.071283  [Epoch 7] test accuracy: 0.999217\n",
      "2018-11-01 02:46:10.071715  [Epoch 7] test avg class acc: 1.000000\n",
      "2018-11-01 02:46:10.072174  [Epoch 7] test indivisual [0] class recall: 1.000000\n",
      "2018-11-01 02:46:10.072377  [Epoch 7] test indivisual [0] class precision: 1.000000\n",
      "2018-11-01 02:46:10.072576  [Epoch 7] test indivisual [1] class recall: 1.000000\n",
      "2018-11-01 02:46:10.073033  [Epoch 7] test indivisual [1] class precision: 1.000000\n",
      "2018-11-01 02:46:10.073376  [Epoch 7] test indivisual [2] class recall: 1.000000\n",
      "2018-11-01 02:46:10.073464  [Epoch 7] test indivisual [2] class precision: 1.000000\n",
      "2018-11-01 02:46:10.073677  [Epoch 7] test indivisual [3] class recall: 1.000000\n",
      "2018-11-01 02:46:10.073960  [Epoch 7] test indivisual [3] class precision: 1.000000\n",
      "2018-11-01 02:46:10.074078  [Epoch 7] test indivisual [4] class recall: 1.000000\n",
      "2018-11-01 02:46:10.074287  [Epoch 7] test indivisual [4] class precision: 1.000000\n",
      "2018-11-01 02:46:10.074406   Train one epoch   9 /  10\n"
     ]
    },
    {
     "name": "stderr",
     "output_type": "stream",
     "text": [
      "\n",
      "100%|██████████| 1679/1679 [20:57<00:00,  1.34it/s]"
     ]
    },
    {
     "name": "stdout",
     "output_type": "stream",
     "text": [
      "2018-11-01 03:07:08.595474  [Epoch 8] mean loss: 0.000072\n",
      "2018-11-01 03:07:08.596278  [Epoch 8] accuracy: 0.993932\n",
      "2018-11-01 03:07:08.596818  [Epoch 8] avg class acc: 1.000000\n",
      "2018-11-01 03:07:08.597260  [Epoch 8] indivisual [0] class recall: 1.000000\n",
      "2018-11-01 03:07:08.597402  [Epoch 8] indivisual [0] class precision: 1.000000\n",
      "2018-11-01 03:07:08.597537  [Epoch 8] indivisual [1] class recall: 1.000000\n",
      "2018-11-01 03:07:08.598176  [Epoch 8] indivisual [1] class precision: 1.000000\n",
      "2018-11-01 03:07:08.598271  [Epoch 8] indivisual [2] class recall: 1.000000\n",
      "2018-11-01 03:07:08.598612  [Epoch 8] indivisual [2] class precision: 1.000000\n",
      "2018-11-01 03:07:08.598741  [Epoch 8] indivisual [3] class recall: 1.000000\n",
      "2018-11-01 03:07:08.599301  [Epoch 8] indivisual [3] class precision: 1.000000\n",
      "2018-11-01 03:07:08.599400  [Epoch 8] indivisual [4] class recall: 1.000000\n",
      "2018-11-01 03:07:08.599755  [Epoch 8] indivisual [4] class precision: 1.000000\n",
      "2018-11-01 03:07:08.599945   Evaluation one (validation set) epoch   9 /  10\n"
     ]
    },
    {
     "name": "stderr",
     "output_type": "stream",
     "text": [
      "\n",
      "100%|██████████| 419/419 [01:14<00:00,  5.61it/s]"
     ]
    },
    {
     "name": "stdout",
     "output_type": "stream",
     "text": [
      "2018-11-01 03:08:23.765304  [Epoch 8] vali mean loss: 0.000290\n",
      "2018-11-01 03:08:23.766010  [Epoch 8] vali accuracy: 0.999504\n",
      "2018-11-01 03:08:23.766825  [Epoch 8] vali avg class acc: 1.000000\n",
      "2018-11-01 03:08:23.766976  [Epoch 8] vali indivisual [0] class recall: 1.000000\n",
      "2018-11-01 03:08:23.767187  [Epoch 8] vali indivisual [0] class precision: 1.000000\n",
      "2018-11-01 03:08:23.767490  [Epoch 8] vali indivisual [1] class recall: 1.000000\n",
      "2018-11-01 03:08:23.767844  [Epoch 8] vali indivisual [1] class precision: 1.000000\n",
      "2018-11-01 03:08:23.768133  [Epoch 8] vali indivisual [2] class recall: 1.000000\n",
      "2018-11-01 03:08:23.768336  [Epoch 8] vali indivisual [2] class precision: 1.000000\n",
      "2018-11-01 03:08:23.768797  [Epoch 8] vali indivisual [3] class recall: 1.000000\n",
      "2018-11-01 03:08:23.768897  [Epoch 8] vali indivisual [3] class precision: 1.000000\n",
      "2018-11-01 03:08:23.769240  [Epoch 8] vali indivisual [4] class recall: 1.000000\n",
      "2018-11-01 03:08:23.769549  [Epoch 8] vali indivisual [4] class precision: 1.000000\n",
      "2018-11-01 03:08:23.769980   Evaluation one (test set) epoch   9 /  10\n"
     ]
    },
    {
     "name": "stderr",
     "output_type": "stream",
     "text": [
      "\n",
      "100%|██████████| 419/419 [01:14<00:00,  5.60it/s]"
     ]
    },
    {
     "name": "stdout",
     "output_type": "stream",
     "text": [
      "2018-11-01 03:09:38.992155  [Epoch 8] test mean loss: 0.000290\n",
      "2018-11-01 03:09:38.992922  [Epoch 8] test accuracy: 0.999666\n",
      "2018-11-01 03:09:38.993580  [Epoch 8] test avg class acc: 1.000000\n",
      "2018-11-01 03:09:38.993922  [Epoch 8] test indivisual [0] class recall: 1.000000\n",
      "2018-11-01 03:09:38.994220  [Epoch 8] test indivisual [0] class precision: 1.000000\n",
      "2018-11-01 03:09:38.994374  [Epoch 8] test indivisual [1] class recall: 1.000000\n",
      "2018-11-01 03:09:38.994913  [Epoch 8] test indivisual [1] class precision: 1.000000\n",
      "2018-11-01 03:09:38.995018  [Epoch 8] test indivisual [2] class recall: 1.000000\n",
      "2018-11-01 03:09:38.995322  [Epoch 8] test indivisual [2] class precision: 1.000000\n",
      "2018-11-01 03:09:38.995588  [Epoch 8] test indivisual [3] class recall: 1.000000\n",
      "2018-11-01 03:09:38.995995  [Epoch 8] test indivisual [3] class precision: 1.000000\n",
      "2018-11-01 03:09:38.996108  [Epoch 8] test indivisual [4] class recall: 1.000000\n",
      "2018-11-01 03:09:38.996382  [Epoch 8] test indivisual [4] class precision: 1.000000\n",
      "2018-11-01 03:09:38.996653   Train one epoch  10 /  10\n"
     ]
    },
    {
     "name": "stderr",
     "output_type": "stream",
     "text": [
      "\n",
      "100%|██████████| 1679/1679 [20:55<00:00,  1.34it/s]"
     ]
    },
    {
     "name": "stdout",
     "output_type": "stream",
     "text": [
      "2018-11-01 03:30:36.147181  [Epoch 9] mean loss: 0.000067\n",
      "2018-11-01 03:30:36.147677  [Epoch 9] accuracy: 0.994394\n",
      "2018-11-01 03:30:36.148391  [Epoch 9] avg class acc: 0.997297\n",
      "2018-11-01 03:30:36.148750  [Epoch 9] indivisual [0] class recall: 1.000000\n",
      "2018-11-01 03:30:36.148995  [Epoch 9] indivisual [0] class precision: 1.000000\n",
      "2018-11-01 03:30:36.149164  [Epoch 9] indivisual [1] class recall: 0.986486\n",
      "2018-11-01 03:30:36.149561  [Epoch 9] indivisual [1] class precision: 1.000000\n",
      "2018-11-01 03:30:36.149833  [Epoch 9] indivisual [2] class recall: 1.000000\n",
      "2018-11-01 03:30:36.150209  [Epoch 9] indivisual [2] class precision: 0.970588\n",
      "2018-11-01 03:30:36.150491  [Epoch 9] indivisual [3] class recall: 1.000000\n",
      "2018-11-01 03:30:36.150653  [Epoch 9] indivisual [3] class precision: 1.000000\n",
      "2018-11-01 03:30:36.150810  [Epoch 9] indivisual [4] class recall: 1.000000\n",
      "2018-11-01 03:30:36.150902  [Epoch 9] indivisual [4] class precision: 1.000000\n",
      "2018-11-01 03:30:36.151611   Evaluation one (validation set) epoch  10 /  10\n"
     ]
    },
    {
     "name": "stderr",
     "output_type": "stream",
     "text": [
      "\n",
      "100%|██████████| 419/419 [01:14<00:00,  5.59it/s]"
     ]
    },
    {
     "name": "stdout",
     "output_type": "stream",
     "text": [
      "2018-11-01 03:31:51.564680  [Epoch 9] vali mean loss: 0.000268\n",
      "2018-11-01 03:31:51.564980  [Epoch 9] vali accuracy: 0.999618\n",
      "2018-11-01 03:31:51.565380  [Epoch 9] vali avg class acc: 1.000000\n",
      "2018-11-01 03:31:51.566020  [Epoch 9] vali indivisual [0] class recall: 1.000000\n",
      "2018-11-01 03:31:51.566168  [Epoch 9] vali indivisual [0] class precision: 1.000000\n",
      "2018-11-01 03:31:51.566507  [Epoch 9] vali indivisual [1] class recall: 1.000000\n",
      "2018-11-01 03:31:51.566815  [Epoch 9] vali indivisual [1] class precision: 1.000000\n",
      "2018-11-01 03:31:51.567116  [Epoch 9] vali indivisual [2] class recall: 1.000000\n",
      "2018-11-01 03:31:51.567381  [Epoch 9] vali indivisual [2] class precision: 1.000000\n",
      "2018-11-01 03:31:51.567781  [Epoch 9] vali indivisual [3] class recall: 1.000000\n",
      "2018-11-01 03:31:51.567875  [Epoch 9] vali indivisual [3] class precision: 1.000000\n",
      "2018-11-01 03:31:51.568244  [Epoch 9] vali indivisual [4] class recall: 1.000000\n",
      "2018-11-01 03:31:51.568596  [Epoch 9] vali indivisual [4] class precision: 1.000000\n",
      "2018-11-01 03:31:51.568699   Evaluation one (test set) epoch  10 /  10\n"
     ]
    },
    {
     "name": "stderr",
     "output_type": "stream",
     "text": [
      "\n",
      "100%|██████████| 419/419 [01:14<00:00,  5.59it/s]\n"
     ]
    },
    {
     "name": "stdout",
     "output_type": "stream",
     "text": [
      "2018-11-01 03:33:06.949805  [Epoch 9] test mean loss: 0.000268\n",
      "2018-11-01 03:33:06.950114  [Epoch 9] test accuracy: 0.999809\n",
      "2018-11-01 03:33:06.950640  [Epoch 9] test avg class acc: 1.000000\n",
      "2018-11-01 03:33:06.951251  [Epoch 9] test indivisual [0] class recall: 1.000000\n",
      "2018-11-01 03:33:06.951505  [Epoch 9] test indivisual [0] class precision: 1.000000\n",
      "2018-11-01 03:33:06.951698  [Epoch 9] test indivisual [1] class recall: 1.000000\n",
      "2018-11-01 03:33:06.951864  [Epoch 9] test indivisual [1] class precision: 1.000000\n",
      "2018-11-01 03:33:06.952000  [Epoch 9] test indivisual [2] class recall: 1.000000\n",
      "2018-11-01 03:33:06.952136  [Epoch 9] test indivisual [2] class precision: 1.000000\n",
      "2018-11-01 03:33:06.952968  [Epoch 9] test indivisual [3] class recall: 1.000000\n",
      "2018-11-01 03:33:06.953192  [Epoch 9] test indivisual [3] class precision: 1.000000\n",
      "2018-11-01 03:33:06.953348  [Epoch 9] test indivisual [4] class recall: 1.000000\n",
      "2018-11-01 03:33:06.953724  [Epoch 9] test indivisual [4] class precision: 1.000000\n",
      "2018-11-01 03:33:08.031235  Model saved in file: /home/gozilla/kyungpyo/git/MasterThesisProject/Network/notebook/train_log_20181101_opt01/model/model.ckpt\n"
     ]
    }
   ],
   "source": [
    "\"\"\" log file \"\"\"\n",
    "LOG_FOUT = open(log_path, 'w')\n",
    "\n",
    "def log_string(out_str):\n",
    "    out_str = str( datetime.datetime.fromtimestamp( time.time() ) ) + \"  \" + out_str\n",
    "    LOG_FOUT.write(out_str+'\\n')\n",
    "    LOG_FOUT.flush()\n",
    "    print(out_str)\n",
    "    \n",
    "    \n",
    "def get_learning_rate(batch):\n",
    "    learning_rate = tf.train.exponential_decay(\n",
    "                        BASE_LEARNING_RATE,  # Base learning rate.\n",
    "                        batch * BATCH_SIZE,  # Current index into the dataset.\n",
    "                        DECAY_STEP,          # Decay step.\n",
    "                        DECAY_RATE,          # Decay rate.\n",
    "                        staircase=True)\n",
    "    learning_rate = tf.maximum(learning_rate, 0.00001) # CLIP THE LEARNING RATE!\n",
    "    return learning_rate        \n",
    "\n",
    "def get_bn_decay(batch):\n",
    "    bn_momentum = tf.train.exponential_decay(\n",
    "                      BN_INIT_DECAY,\n",
    "                      batch * BATCH_SIZE,\n",
    "                      BN_DECAY_DECAY_STEP,\n",
    "                      BN_DECAY_DECAY_RATE,\n",
    "                      staircase=True)\n",
    "    bn_decay = tf.minimum(BN_DECAY_CLIP, 1 - bn_momentum)\n",
    "    return bn_decay\n",
    "\n",
    "\"\"\" load traing model \"\"\"\n",
    "with tf.Graph().as_default():\n",
    "    with tf.device('/gpu:'+str(GPU_INDEX)):\n",
    "        pointclouds_pl, labels_pl = MODEL.placeholder_inputs(BATCH_SIZE, NUM_POINT)\n",
    "        is_training_pl = tf.placeholder(tf.bool, shape=())\n",
    "        print(is_training_pl)\n",
    "\n",
    "        # Note the global_step=batch parameter to minimize. \n",
    "        # That tells the optimizer to helpfully increment the 'batch' parameter for you every time it trains.\n",
    "        batch = tf.Variable(0)\n",
    "        bn_decay = get_bn_decay(batch)\n",
    "        tf.summary.scalar('bn_decay', bn_decay)\n",
    "\n",
    "        # Get model and loss \n",
    "        pred, end_points = MODEL.get_model(pointclouds_pl, is_training_pl, bn_decay=bn_decay)\n",
    "        loss = MODEL.get_loss(pred, labels_pl, end_points)\n",
    "        tf.summary.scalar('loss', loss)\n",
    "\n",
    "        correct = tf.equal(tf.argmax(pred, 1), tf.to_int64(labels_pl))\n",
    "        accuracy = tf.reduce_sum(tf.cast(correct, tf.float32)) / float(BATCH_SIZE)\n",
    "        tf.summary.scalar('accuracy', accuracy)\n",
    "\n",
    "        # Get training operator\n",
    "        learning_rate = get_learning_rate(batch)\n",
    "        tf.summary.scalar('learning_rate', learning_rate)\n",
    "        if OPTIMIZER == 'momentum':\n",
    "            optimizer = tf.train.MomentumOptimizer(learning_rate, momentum=MOMENTUM)\n",
    "        elif OPTIMIZER == 'adam':\n",
    "            optimizer = tf.train.AdamOptimizer(learning_rate)\n",
    "        train_op = optimizer.minimize(loss, global_step=batch)\n",
    "\n",
    "        # Add ops to save and restore all the variables.\n",
    "        saver = tf.train.Saver()\n",
    "\n",
    "    # Create a session\n",
    "    config = tf.ConfigProto()\n",
    "    config.gpu_options.allow_growth = True\n",
    "    config.allow_soft_placement = True\n",
    "    config.log_device_placement = False\n",
    "    sess = tf.Session(config=config)\n",
    "\n",
    "    # Add summary writers\n",
    "    #merged = tf.merge_all_summaries()\n",
    "    merged = tf.summary.merge_all()\n",
    "\n",
    "    train_writer_path = os.path.abspath('./train')\n",
    "    if os.path.isdir(train_writer_path): os.system('rm -r {}'.format(train_writer_path))\n",
    "    os.mkdir(train_writer_path)\n",
    "        \n",
    "    test_writer_path = os.path.abspath('./test')\n",
    "    if os.path.isdir(test_writer_path): os.system('rm -r {}'.format(test_writer_path))\n",
    "    os.mkdir(test_writer_path)\n",
    "    \n",
    "    \n",
    "    train_writer = tf.summary.FileWriter(train_writer_path, sess.graph)\n",
    "    test_writer = tf.summary.FileWriter(test_writer_path)\n",
    "    \n",
    "    \n",
    "    # Init variables\n",
    "    init = tf.global_variables_initializer()\n",
    "    # To fix the bug introduced in TF 0.12.1 as in\n",
    "    # http://stackoverflow.com/questions/41543774/invalidargumenterror-for-tensor-bool-tensorflow-0-12-1\n",
    "    #sess.run(init)\n",
    "    sess.run(init, {is_training_pl: True})\n",
    "\n",
    "    ops = {'pointclouds_pl': pointclouds_pl,\n",
    "           'labels_pl': labels_pl,\n",
    "           'is_training_pl': is_training_pl,\n",
    "           'pred': pred,\n",
    "           'loss': loss,\n",
    "           'train_op': train_op,\n",
    "           'merged': merged,\n",
    "           'step': batch}\n",
    "    \n",
    "    data_train = np.concatenate(data[:2])\n",
    "    print data_train.shape\n",
    "    label_train = np.concatenate(label[:2])\n",
    "    print label_train.shape\n",
    "        \n",
    "    data_vali = data[1]\n",
    "    label_vali = label[1]\n",
    "    \n",
    "    data_test = data[2]\n",
    "    label_test = label[2]\n",
    "    \n",
    "        \n",
    "    for epoch in range(MAX_EPOCH):\n",
    "        \n",
    "        ## Training\n",
    "        log_string ( \" Train one epoch %3d / %3d\" % (epoch+1, MAX_EPOCH) )\n",
    "        sys.stdout.flush()\n",
    "        \n",
    "        is_training = True\n",
    "        \n",
    "        # Shuffle train files\n",
    "        train_file_idxs = np.arange(0, data_train.shape[0])\n",
    "        np.random.shuffle(train_file_idxs)\n",
    "        \n",
    "        current_data = data_train[train_file_idxs] \n",
    "        current_label = label_train[train_file_idxs]\n",
    "              \n",
    "        ## Evaluation metric\n",
    "        total_correct = 0\n",
    "        total_seen = 0\n",
    "        loss_sum = 0\n",
    "        \n",
    "        total_class = [0 for _ in range(NUM_CLASSES)]\n",
    "        total_detect_class = [0 for _ in range(NUM_CLASSES)]\n",
    "        total_correct_class = [0 for _ in range(NUM_CLASSES)]\n",
    "            \n",
    "        num_batches = current_data.shape[0] // BATCH_SIZE\n",
    "               \n",
    "        for batch_idx in trange(num_batches):\n",
    "            \n",
    "            start_idx = batch_idx * BATCH_SIZE\n",
    "            end_idx = (batch_idx+1) * BATCH_SIZE           \n",
    "\n",
    "            # Augment batched point clouds by rotation and jittering\n",
    "            rotated_data = provider.rotate_point_cloud(current_data[start_idx:end_idx, :, :])\n",
    "            jittered_data = provider.jitter_point_cloud(rotated_data)\n",
    "            \n",
    "            feed_dict = {ops['pointclouds_pl']: jittered_data,\n",
    "                         ops['labels_pl']: current_label[start_idx:end_idx],\n",
    "                         ops['is_training_pl']: is_training,}\n",
    "            \n",
    "            summary, step, _, loss_val, pred_val = sess.run([ops['merged'], ops['step'],\n",
    "                ops['train_op'], ops['loss'], ops['pred']], feed_dict=feed_dict)\n",
    "            \n",
    "            train_writer.add_summary(summary, step)\n",
    "            \n",
    "            pred_val = np.argmax(pred_val, 1)\n",
    "            correct = np.sum(pred_val == current_label[start_idx:end_idx])\n",
    "            total_correct += correct\n",
    "            total_seen += BATCH_SIZE\n",
    "            loss_sum += loss_val\n",
    "            \n",
    "            for i in range(NUM_CLASSES):\n",
    "                total_class[i] = np.sum( np.ones(BATCH_SIZE) * i == current_label[start_idx:end_idx] )\n",
    "                total_detect_class[i] = np.sum( np.ones(BATCH_SIZE) * i == pred_val )\n",
    "                total_correct_class[i] = np.sum( (np.ones(BATCH_SIZE) * i == current_label[start_idx:end_idx]) * \\\n",
    "                                                    (np.ones(BATCH_SIZE) * i == pred_val) )\n",
    "                                \n",
    "        log_string(  '[Epoch %d] mean loss: %f' % \\\n",
    "                   (  epoch, loss_sum / float(total_seen)  )   )\n",
    "        log_string(  '[Epoch %d] accuracy: %f'% \\\n",
    "                   (  epoch, total_correct / float(total_seen)  )   )\n",
    "        log_string(  '[Epoch %d] avg class acc: %f' % \\\n",
    "                   (  epoch, np.mean( np.array(total_correct_class)/np.array(total_class,dtype=np.float) )  )   )\n",
    "        \n",
    "        for i_cls in range(NUM_CLASSES):\n",
    "            log_string(  '[Epoch %d] indivisual [%d] class recall: %f' % \\\n",
    "                       (  epoch, i_cls, float(total_correct_class[i_cls])/float(total_class[i_cls])))    \n",
    "            log_string(  '[Epoch %d] indivisual [%d] class precision: %f' % \\\n",
    "                       (  epoch, i_cls, float(total_correct_class[i_cls])/float(total_detect_class[i_cls])))    \n",
    "\n",
    "\n",
    "        ## Evaluation using validation set    \n",
    "        log_string ( \" Evaluation one (validation set) epoch %3d / %3d\" % (epoch+1, MAX_EPOCH) )\n",
    "        sys.stdout.flush()\n",
    "        \n",
    "        is_training = False\n",
    "        total_correct = 0\n",
    "        total_seen = 0\n",
    "        total_seen_class = [0 for _ in range(NUM_CLASSES)]\n",
    "        total_correct_class = [0 for _ in range(NUM_CLASSES)]\n",
    "        total_detect_class = [0 for _ in range(NUM_CLASSES)]\n",
    "        total_detect_true_class = [0 for _ in range(NUM_CLASSES)]\n",
    "        \n",
    "        # Shuffle validation files\n",
    "        file_idxs = np.arange(0, data_vali.shape[0])\n",
    "        np.random.shuffle(file_idxs)\n",
    "        \n",
    "        current_data = data_vali[file_idxs]\n",
    "        current_label = label_vali[file_idxs]\n",
    "        \n",
    "        num_batches = current_data.shape[0] // BATCH_SIZE\n",
    "               \n",
    "        for batch_idx in trange(num_batches):\n",
    "            start_idx = batch_idx * BATCH_SIZE\n",
    "            end_idx = (batch_idx+1) * BATCH_SIZE\n",
    "\n",
    "            feed_dict = {ops['pointclouds_pl']: current_data[start_idx:end_idx, :, :],\n",
    "                         ops['labels_pl']: current_label[start_idx:end_idx],\n",
    "                         ops['is_training_pl']: is_training}\n",
    "            summary, step, loss_val, pred_val = sess.run([ops['merged'], ops['step'],\n",
    "                ops['loss'], ops['pred']], feed_dict=feed_dict)\n",
    "            \n",
    "            # test_writer.add_summary(summary, step)\n",
    "            \n",
    "            pred_val = np.argmax(pred_val, 1)\n",
    "            correct = np.sum(pred_val == current_label[start_idx:end_idx])\n",
    "            total_correct += correct\n",
    "            total_seen += BATCH_SIZE\n",
    "            \n",
    "            for i in range(NUM_CLASSES):\n",
    "                total_class[i] = np.sum( np.ones(BATCH_SIZE) * i == current_label[start_idx:end_idx] )\n",
    "                total_detect_class[i] = np.sum( np.ones(BATCH_SIZE) * i == pred_val )\n",
    "                total_correct_class[i] = np.sum( (np.ones(BATCH_SIZE) * i == current_label[start_idx:end_idx]) * \\\n",
    "                                                    (np.ones(BATCH_SIZE) * i == pred_val) )\n",
    "                                \n",
    "        log_string(  '[Epoch %d] vali mean loss: %f' % \\\n",
    "                   (  epoch, loss_sum / float(total_seen)  )   )\n",
    "        log_string(  '[Epoch %d] vali accuracy: %f'% \\\n",
    "                   (  epoch, total_correct / float(total_seen)  )   )\n",
    "        log_string(  '[Epoch %d] vali avg class acc: %f' % \\\n",
    "                   (  epoch, np.mean( np.array(total_correct_class) / np.array(total_class) )  )   )\n",
    "        \n",
    "        for i_cls in range(NUM_CLASSES):\n",
    "            log_string(  '[Epoch %d] vali indivisual [%d] class recall: %f' % \\\n",
    "                       (  epoch, i_cls, float(total_correct_class[i_cls])/float(total_class[i_cls])))    \n",
    "            log_string(  '[Epoch %d] vali indivisual [%d] class precision: %f' % \\\n",
    "                       (  epoch, i_cls, float(total_correct_class[i_cls])/float(total_detect_class[i_cls])))    \n",
    "            \n",
    "        ## Evaluation using test set    \n",
    "        log_string ( \" Evaluation one (test set) epoch %3d / %3d\" % (epoch+1, MAX_EPOCH) )\n",
    "        sys.stdout.flush()\n",
    "        \n",
    "        is_training = False\n",
    "        total_correct = 0\n",
    "        total_seen = 0\n",
    "        total_seen_class = [0 for _ in range(NUM_CLASSES)]\n",
    "        total_correct_class = [0 for _ in range(NUM_CLASSES)]\n",
    "        total_detect_class = [0 for _ in range(NUM_CLASSES)]\n",
    "        total_detect_true_class = [0 for _ in range(NUM_CLASSES)]\n",
    "        \n",
    "        # Shuffle test files\n",
    "        file_idxs = np.arange(0, data_test.shape[0])\n",
    "        np.random.shuffle(file_idxs)\n",
    "        \n",
    "        current_data = data_test[file_idxs]\n",
    "        current_label = label_test[file_idxs]\n",
    "        \n",
    "        \n",
    "        num_batches = current_data.shape[0] // BATCH_SIZE\n",
    "               \n",
    "        for batch_idx in trange(num_batches):\n",
    "            start_idx = batch_idx * BATCH_SIZE\n",
    "            end_idx = (batch_idx+1) * BATCH_SIZE\n",
    "\n",
    "            feed_dict = {ops['pointclouds_pl']: current_data[start_idx:end_idx, :, :],\n",
    "                         ops['labels_pl']: current_label[start_idx:end_idx],\n",
    "                         ops['is_training_pl']: is_training}\n",
    "            summary, step, loss_val, pred_val = sess.run([ops['merged'], ops['step'],\n",
    "                ops['loss'], ops['pred']], feed_dict=feed_dict)\n",
    "            \n",
    "            test_writer.add_summary(summary, step)\n",
    "            \n",
    "            pred_val = np.argmax(pred_val, 1)\n",
    "            correct = np.sum(pred_val == current_label[start_idx:end_idx])\n",
    "            total_correct += correct\n",
    "            total_seen += BATCH_SIZE\n",
    "            \n",
    "            for i in range(NUM_CLASSES):\n",
    "                total_class[i] = np.sum( np.ones(BATCH_SIZE) * i == current_label[start_idx:end_idx] )\n",
    "                total_detect_class[i] = np.sum( np.ones(BATCH_SIZE) * i == pred_val )\n",
    "                total_correct_class[i] = np.sum( (np.ones(BATCH_SIZE) * i == current_label[start_idx:end_idx]) * \\\n",
    "                                                    (np.ones(BATCH_SIZE) * i == pred_val) )\n",
    "                                \n",
    "        log_string(  '[Epoch %d] test mean loss: %f' % \\\n",
    "                   (  epoch, loss_sum / float(total_seen)  )   )\n",
    "        log_string(  '[Epoch %d] test accuracy: %f'% \\\n",
    "                   (  epoch, total_correct / float(total_seen)  )   )\n",
    "        log_string(  '[Epoch %d] test avg class acc: %f' % \\\n",
    "                   (  epoch, np.mean( np.array(total_correct_class)/np.array(total_class,dtype=np.float) )  )   )\n",
    "        \n",
    "        for i_cls in range(NUM_CLASSES):\n",
    "            log_string(  '[Epoch %d] test indivisual [%d] class recall: %f' % \\\n",
    "                       (  epoch, i_cls, float(total_correct_class[i_cls])/float(total_class[i_cls])))    \n",
    "            log_string(  '[Epoch %d] test indivisual [%d] class precision: %f' % \\\n",
    "                       (  epoch, i_cls, float(total_correct_class[i_cls])/float(total_detect_class[i_cls])))    \n",
    " \n",
    "        # Save the variables to disk.\n",
    "        if ( epoch + 1 ) % 10 == 0:\n",
    "            save_path = saver.save(sess, os.path.join(model_save_path, \"model.ckpt\"))\n",
    "            log_string(\"Model saved in file: %s\" % save_path)\n",
    "                "
   ]
  },
  {
   "cell_type": "code",
   "execution_count": null,
   "metadata": {},
   "outputs": [],
   "source": []
  }
 ],
 "metadata": {
  "kernelspec": {
   "display_name": "Python 2",
   "language": "python",
   "name": "python2"
  },
  "language_info": {
   "codemirror_mode": {
    "name": "ipython",
    "version": 2
   },
   "file_extension": ".py",
   "mimetype": "text/x-python",
   "name": "python",
   "nbconvert_exporter": "python",
   "pygments_lexer": "ipython2",
   "version": "2.7.12"
  }
 },
 "nbformat": 4,
 "nbformat_minor": 2
}
