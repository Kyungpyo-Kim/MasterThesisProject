{
 "cells": [
  {
   "cell_type": "markdown",
   "metadata": {},
   "source": [
    "# Train Log 20181101\n",
    "\n",
    "## Results\n",
    "```\n",
    "2018-11-01 20:16:54.282781   Train one epoch  10 /  10\n",
    "\n",
    "\n",
    "100%|██████████| 1679/1679 [14:45<00:00,  1.90it/s]\n",
    "\n",
    "2018-11-01 20:31:40.782895  [Epoch 9] mean loss: 0.000119\n",
    "2018-11-01 20:31:40.783322  [Epoch 9] accuracy: 0.991602\n",
    "2018-11-01 20:31:40.783977  [Epoch 9] avg class acc: 0.982711\n",
    "2018-11-01 20:31:40.784165  [Epoch 9] indivisual [0] class recall: 0.990476\n",
    "2018-11-01 20:31:40.784319  [Epoch 9] indivisual [0] class precision: 0.971963\n",
    "2018-11-01 20:31:40.784572  [Epoch 9] indivisual [1] class recall: 1.000000\n",
    "2018-11-01 20:31:40.785246  [Epoch 9] indivisual [1] class precision: 0.985075\n",
    "2018-11-01 20:31:40.785346  [Epoch 9] indivisual [2] class recall: 0.923077\n",
    "2018-11-01 20:31:40.785739  [Epoch 9] indivisual [2] class precision: 1.000000\n",
    "2018-11-01 20:31:40.785906  [Epoch 9] indivisual [3] class recall: 1.000000\n",
    "2018-11-01 20:31:40.786033  [Epoch 9] indivisual [3] class precision: 1.000000\n",
    "2018-11-01 20:31:40.786550  [Epoch 9] indivisual [4] class recall: 1.000000\n",
    "2018-11-01 20:31:40.786645  [Epoch 9] indivisual [4] class precision: 1.000000\n",
    "2018-11-01 20:31:40.786907   Evaluation one (validation set) epoch  10 /  10\n",
    "\n",
    "\n",
    "100%|██████████| 419/419 [00:54<00:00,  7.75it/s]\n",
    "\n",
    "2018-11-01 20:32:35.311486  [Epoch 9] vali mean loss: 0.000475\n",
    "2018-11-01 20:32:35.312394  [Epoch 9] vali accuracy: 0.999523\n",
    "2018-11-01 20:32:35.312889  [Epoch 9] vali avg class acc: 1.000000\n",
    "2018-11-01 20:32:35.313215  [Epoch 9] vali indivisual [0] class recall: 1.000000\n",
    "2018-11-01 20:32:35.313681  [Epoch 9] vali indivisual [0] class precision: 1.000000\n",
    "2018-11-01 20:32:35.313958  [Epoch 9] vali indivisual [1] class recall: 1.000000\n",
    "2018-11-01 20:32:35.314059  [Epoch 9] vali indivisual [1] class precision: 1.000000\n",
    "2018-11-01 20:32:35.314333  [Epoch 9] vali indivisual [2] class recall: 1.000000\n",
    "2018-11-01 20:32:35.314766  [Epoch 9] vali indivisual [2] class precision: 1.000000\n",
    "2018-11-01 20:32:35.315029  [Epoch 9] vali indivisual [3] class recall: 1.000000\n",
    "2018-11-01 20:32:35.315150  [Epoch 9] vali indivisual [3] class precision: 1.000000\n",
    "2018-11-01 20:32:35.315417  [Epoch 9] vali indivisual [4] class recall: 1.000000\n",
    "2018-11-01 20:32:35.315679  [Epoch 9] vali indivisual [4] class precision: 1.000000\n",
    "2018-11-01 20:32:35.315888   Evaluation one (test set) epoch  10 /  10\n",
    "\n",
    "\n",
    "100%|██████████| 419/419 [00:54<00:00,  7.70it/s]\n",
    "\n",
    "2018-11-01 20:33:30.190010  [Epoch 9] test mean loss: 0.000475\n",
    "2018-11-01 20:33:30.190756  [Epoch 9] test accuracy: 0.999418\n",
    "2018-11-01 20:33:30.191341  [Epoch 9] test avg class acc: 1.000000\n",
    "2018-11-01 20:33:30.191544  [Epoch 9] test indivisual [0] class recall: 1.000000\n",
    "2018-11-01 20:33:30.192131  [Epoch 9] test indivisual [0] class precision: 1.000000\n",
    "2018-11-01 20:33:30.192405  [Epoch 9] test indivisual [1] class recall: 1.000000\n",
    "2018-11-01 20:33:30.192550  [Epoch 9] test indivisual [1] class precision: 1.000000\n",
    "2018-11-01 20:33:30.192765  [Epoch 9] test indivisual [2] class recall: 1.000000\n",
    "2018-11-01 20:33:30.193136  [Epoch 9] test indivisual [2] class precision: 1.000000\n",
    "2018-11-01 20:33:30.193346  [Epoch 9] test indivisual [3] class recall: 1.000000\n",
    "2018-11-01 20:33:30.193584  [Epoch 9] test indivisual [3] class precision: 1.000000\n",
    "2018-11-01 20:33:30.194052  [Epoch 9] test indivisual [4] class recall: 1.000000\n",
    "2018-11-01 20:33:30.194145  [Epoch 9] test indivisual [4] class precision: 1.000000\n",
    "2018-11-01 20:33:30.961082  Model saved in file: /home/gozilla/kyungpyo/git/MasterThesisProject/Network/notebook/train_log_20181101_opt04/model/model.ckpt\n",
    "\n",
    "```\n",
    "\n",
    "## Trained model\n",
    "* [Download link](https://drive.google.com/open?id=1mrBZ0kZZ421j8Q7ti0x7x8PnAPLSC89I)\n",
    "\n",
    "## Evaluation\n",
    "* Incorrect sample\n",
    "![results]()"
   ]
  },
  {
   "cell_type": "code",
   "execution_count": 1,
   "metadata": {},
   "outputs": [],
   "source": [
    "import os, sys\n",
    "import numpy as np\n",
    "import matplotlib.pyplot as plt\n",
    "import time , datetime\n",
    "\n",
    "sys.path.append( os.path.abspath('../../../Dataset/scripts'))\n",
    "from utils import *\n",
    "\n",
    "sys.path.append( os.path.abspath('../../model') )\n",
    "from train import *\n",
    "import model_opt4 as MODEL"
   ]
  },
  {
   "cell_type": "code",
   "execution_count": 2,
   "metadata": {},
   "outputs": [],
   "source": [
    "\"\"\" Path \"\"\"\n",
    "\n",
    "data_train_path_list = []\n",
    "data_test_path_list = []\n",
    "data_vali_path_list = []\n",
    "\n",
    "data_train_path = os.path.abspath('../../../Dataset/dataset/db_aug_v4_20181031_ndb_aug_v2_20181020/train.h5')\n",
    "data_test_path = os.path.abspath('../../../Dataset/dataset/db_aug_v4_20181031_ndb_aug_v2_20181020/test.h5')\n",
    "data_vali_path = os.path.abspath('../../../Dataset/dataset/db_aug_v4_20181031_ndb_aug_v2_20181020/vali.h5')\n",
    "data_train_path_list.append(data_train_path)\n",
    "data_test_path_list.append(data_test_path)\n",
    "data_vali_path_list.append(data_vali_path)\n",
    "\n",
    "data_train_path = os.path.abspath('../../../Dataset/dataset/db_aug_v4_v_500_20181031_ndb_aug_v2_20181020/train.h5')\n",
    "data_test_path = os.path.abspath('../../../Dataset/dataset/db_aug_v4_v_500_20181031_ndb_aug_v2_20181020/test.h5')\n",
    "data_vali_path = os.path.abspath('../../../Dataset/dataset/db_aug_v4_v_500_20181031_ndb_aug_v2_20181020/vali.h5')\n",
    "data_train_path_list.append(data_train_path)\n",
    "data_test_path_list.append(data_test_path)\n",
    "data_vali_path_list.append(data_vali_path)\n",
    "\n",
    "data_train_path = os.path.abspath('../../../Dataset/dataset/db_aug_v4_v_400_20181031_ndb_aug_v2_20181020/train.h5')\n",
    "data_test_path = os.path.abspath('../../../Dataset/dataset/db_aug_v4_v_400_20181031_ndb_aug_v2_20181020/test.h5')\n",
    "data_vali_path = os.path.abspath('../../../Dataset/dataset/db_aug_v4_v_400_20181031_ndb_aug_v2_20181020/vali.h5')\n",
    "data_train_path_list.append(data_train_path)\n",
    "data_test_path_list.append(data_test_path)\n",
    "data_vali_path_list.append(data_vali_path)\n",
    "\n",
    "data_train_path = os.path.abspath('../../../Dataset/dataset/db_aug_v4_v_300_20181031_ndb_aug_v2_20181020/train.h5')\n",
    "data_test_path = os.path.abspath('../../../Dataset/dataset/db_aug_v4_v_300_20181031_ndb_aug_v2_20181020/test.h5')\n",
    "data_vali_path = os.path.abspath('../../../Dataset/dataset/db_aug_v4_v_300_20181031_ndb_aug_v2_20181020/vali.h5')\n",
    "data_train_path_list.append(data_train_path)\n",
    "data_test_path_list.append(data_test_path)\n",
    "data_vali_path_list.append(data_vali_path)\n",
    "\n",
    "data_train_path = os.path.abspath('../../../Dataset/dataset/db_aug_v4_v_200_20181031_ndb_aug_v2_20181020/train.h5')\n",
    "data_test_path = os.path.abspath('../../../Dataset/dataset/db_aug_v4_v_200_20181031_ndb_aug_v2_20181020/test.h5')\n",
    "data_vali_path = os.path.abspath('../../../Dataset/dataset/db_aug_v4_v_200_20181031_ndb_aug_v2_20181020/vali.h5')\n",
    "data_train_path_list.append(data_train_path)\n",
    "data_test_path_list.append(data_test_path)\n",
    "data_vali_path_list.append(data_vali_path)\n",
    "\n",
    "data_train_path = os.path.abspath('../../../Dataset/dataset/db_aug_v4_v_100_20181031_ndb_aug_v2_20181020/train.h5')\n",
    "data_test_path = os.path.abspath('../../../Dataset/dataset/db_aug_v4_v_100_20181031_ndb_aug_v2_20181020/test.h5')\n",
    "data_vali_path = os.path.abspath('../../../Dataset/dataset/db_aug_v4_v_100_20181031_ndb_aug_v2_20181020/vali.h5')\n",
    "data_train_path_list.append(data_train_path)\n",
    "data_test_path_list.append(data_test_path)\n",
    "data_vali_path_list.append(data_vali_path)\n",
    "\n",
    "\n",
    "\n",
    "log_path = os.path.abspath('./train_log_20181101.txt')\n",
    "\n",
    "model_save_path = os.path.abspath('./model')\n",
    "if not os.path.isdir(model_save_path) : os.mkdir(model_save_path)\n",
    "\n",
    "\"\"\" Parameters \"\"\"\n",
    "GPU_INDEX = 0\n",
    "NUM_POINT = 256\n",
    "NUM_CLASSES = 5\n",
    "\n",
    "BN_INIT_DECAY = 0.5\n",
    "BN_DECAY_DECAY_RATE = 0.5\n",
    "BN_DECAY_DECAY_STEP = float(200000)\n",
    "BN_DECAY_CLIP = 0.99\n",
    "DECAY_STEP = BN_DECAY_DECAY_STEP\n",
    "DECAY_RATE = BN_DECAY_DECAY_RATE\n",
    "\n",
    "BATCH_SIZE = 250\n",
    "\n",
    "MOMENTUM = 0.9\n",
    "\n",
    "BASE_LEARNING_RATE = 0.001\n",
    "\n",
    "OPTIMIZER = 'adam'\n",
    "\n",
    "MAX_EPOCH = 10"
   ]
  },
  {
   "cell_type": "code",
   "execution_count": 3,
   "metadata": {},
   "outputs": [
    {
     "data": {
      "image/png": "[encoded data removed]",
      "text/plain": [
       "<Figure size 1080x360 with 1 Axes>"
      ]
     },
     "metadata": {
      "needs_background": "light"
     },
     "output_type": "display_data"
    }
   ],
   "source": [
    "\"\"\" Load dataset\"\"\"\n",
    "\n",
    "data = []\n",
    "label = []\n",
    "\n",
    "data_train, label_train = load_h5(data_train_path_list[0])\n",
    "data_vali, label_vali = load_h5(data_vali_path_list[0])\n",
    "data_test, label_test = load_h5(data_test_path_list[0])\n",
    "    \n",
    "for i in range( 1, len(data_train_path_list) ):\n",
    "\n",
    "    d_train, l_train = load_h5(data_train_path_list[i])\n",
    "    d_vali, l_vali = load_h5(data_vali_path_list[i])\n",
    "    d_test, l_test = load_h5(data_test_path_list[i])\n",
    "    \n",
    "    data_train = np.concatenate( (data_train, d_train), axis = 0 )\n",
    "    data_vali = np.concatenate( (data_vali, d_vali), axis = 0 )\n",
    "    data_test = np.concatenate( (data_test, d_test), axis = 0 )\n",
    "    \n",
    "    label_train = np.concatenate( (label_train, l_train), axis = 0 )\n",
    "    label_vali = np.concatenate( (label_vali, l_vali), axis = 0 )\n",
    "    label_test = np.concatenate( (label_test, l_test), axis = 0 )\n",
    "    \n",
    "\n",
    "data.append(data_train)\n",
    "data.append(data_vali)\n",
    "data.append(data_test)\n",
    "\n",
    "label.append(label_train)\n",
    "label.append(label_vali)\n",
    "label.append(label_test)\n",
    "\n",
    "\"\"\" Data statistics \"\"\"\n",
    "\n",
    "label_list = [0,1,2,3,4]\n",
    "\n",
    "y_val = []\n",
    "for i in range( len ( data) ):\n",
    "    for j in range ( len ( label_list ) ):\n",
    "        y_val.append(np.sum(label[i] == label_list[j]))\n",
    "\n",
    "x_name=('unknown-train', 'cars-train', 'trucks-train', 'pedestrian-train', 'bike-train',\n",
    "        'unknown-test', 'cars-test', 'trucks-test', 'pedestrian-test', 'bike-test',\n",
    "        'unknown-vali', 'cars-vali', 'trucks-vali', 'pedestrian-vali', 'bike-vali')\n",
    "\n",
    "index = range( len(x_name) )\n",
    "\n",
    "plt.figure(figsize=(15,5))\n",
    "plt.bar(index, y_val, tick_label=x_name, align='center')\n",
    "plt.ylabel('Number of dataset')\n",
    "plt.title('Label distribution')\n",
    "plt.xlim( -1, len(x_name))\n",
    "plt.ylim( 0, np.max(y_val) * 1.1 )\n",
    "plt.show()"
   ]
  },
  {
   "cell_type": "code",
   "execution_count": 4,
   "metadata": {},
   "outputs": [
    {
     "name": "stdout",
     "output_type": "stream",
     "text": [
      "Tensor(\"Placeholder_2:0\", shape=(), dtype=bool, device=/device:GPU:0)\n",
      "INFO:tensorflow:Summary name classify loss is illegal; using classify_loss instead.\n",
      "INFO:tensorflow:Summary name mat loss is illegal; using mat_loss instead.\n",
      "(419904, 256, 3)\n",
      "(419904,)\n",
      "2018-11-01 17:47:34.593037   Train one epoch   1 /  10\n"
     ]
    },
    {
     "name": "stderr",
     "output_type": "stream",
     "text": [
      "100%|██████████| 1679/1679 [14:45<00:00,  1.90it/s]"
     ]
    },
    {
     "name": "stdout",
     "output_type": "stream",
     "text": [
      "2018-11-01 18:02:20.676103  [Epoch 0] mean loss: 0.001599\n",
      "2018-11-01 18:02:20.676708  [Epoch 0] accuracy: 0.868719\n",
      "2018-11-01 18:02:20.677273  [Epoch 0] avg class acc: 0.966400\n",
      "2018-11-01 18:02:20.677660  [Epoch 0] indivisual [0] class recall: 0.933884\n",
      "2018-11-01 18:02:20.677919  [Epoch 0] indivisual [0] class precision: 0.974138\n",
      "2018-11-01 18:02:20.678188  [Epoch 0] indivisual [1] class recall: 0.985075\n",
      "2018-11-01 18:02:20.678392  [Epoch 0] indivisual [1] class precision: 0.942857\n",
      "2018-11-01 18:02:20.678789  [Epoch 0] indivisual [2] class recall: 0.913043\n",
      "2018-11-01 18:02:20.679019  [Epoch 0] indivisual [2] class precision: 0.913043\n",
      "2018-11-01 18:02:20.679150  [Epoch 0] indivisual [3] class recall: 1.000000\n",
      "2018-11-01 18:02:20.679384  [Epoch 0] indivisual [3] class precision: 1.000000\n",
      "2018-11-01 18:02:20.679754  [Epoch 0] indivisual [4] class recall: 1.000000\n",
      "2018-11-01 18:02:20.679848  [Epoch 0] indivisual [4] class precision: 0.928571\n",
      "2018-11-01 18:02:20.680078   Evaluation one (validation set) epoch   1 /  10\n"
     ]
    },
    {
     "name": "stderr",
     "output_type": "stream",
     "text": [
      "\n",
      "100%|██████████| 419/419 [00:53<00:00,  7.79it/s]"
     ]
    },
    {
     "name": "stdout",
     "output_type": "stream",
     "text": [
      "2018-11-01 18:03:14.951620  [Epoch 0] vali mean loss: 0.006406\n",
      "2018-11-01 18:03:14.952186  [Epoch 0] vali accuracy: 0.988105\n",
      "2018-11-01 18:03:14.952812  [Epoch 0] vali avg class acc: 0.800000\n",
      "2018-11-01 18:03:14.953197  [Epoch 0] vali indivisual [0] class recall: 0.964602\n",
      "2018-11-01 18:03:14.953530  [Epoch 0] vali indivisual [0] class precision: 1.000000\n",
      "2018-11-01 18:03:14.953852  [Epoch 0] vali indivisual [1] class recall: 1.000000\n",
      "2018-11-01 18:03:14.954122  [Epoch 0] vali indivisual [1] class precision: 1.000000\n",
      "2018-11-01 18:03:14.954285  [Epoch 0] vali indivisual [2] class recall: 1.000000\n",
      "2018-11-01 18:03:14.954587  [Epoch 0] vali indivisual [2] class precision: 0.884615\n",
      "2018-11-01 18:03:14.954858  [Epoch 0] vali indivisual [3] class recall: 1.000000\n",
      "2018-11-01 18:03:14.955264  [Epoch 0] vali indivisual [3] class precision: 0.937500\n",
      "2018-11-01 18:03:14.955705  [Epoch 0] vali indivisual [4] class recall: 1.000000\n",
      "2018-11-01 18:03:14.955968  [Epoch 0] vali indivisual [4] class precision: 1.000000\n",
      "2018-11-01 18:03:14.956075   Evaluation one (test set) epoch   1 /  10\n"
     ]
    },
    {
     "name": "stderr",
     "output_type": "stream",
     "text": [
      "\n",
      "100%|██████████| 419/419 [00:54<00:00,  7.74it/s]"
     ]
    },
    {
     "name": "stdout",
     "output_type": "stream",
     "text": [
      "2018-11-01 18:04:09.530094  [Epoch 0] test mean loss: 0.006406\n",
      "2018-11-01 18:04:09.530779  [Epoch 0] test accuracy: 0.988716\n",
      "2018-11-01 18:04:09.531203  [Epoch 0] test avg class acc: 0.994340\n",
      "2018-11-01 18:04:09.531455  [Epoch 0] test indivisual [0] class recall: 0.971698\n",
      "2018-11-01 18:04:09.531744  [Epoch 0] test indivisual [0] class precision: 1.000000\n",
      "2018-11-01 18:04:09.532002  [Epoch 0] test indivisual [1] class recall: 1.000000\n",
      "2018-11-01 18:04:09.532402  [Epoch 0] test indivisual [1] class precision: 1.000000\n",
      "2018-11-01 18:04:09.532637  [Epoch 0] test indivisual [2] class recall: 1.000000\n",
      "2018-11-01 18:04:09.532720  [Epoch 0] test indivisual [2] class precision: 0.931034\n",
      "2018-11-01 18:04:09.532867  [Epoch 0] test indivisual [3] class recall: 1.000000\n",
      "2018-11-01 18:04:09.532950  [Epoch 0] test indivisual [3] class precision: 0.916667\n",
      "2018-11-01 18:04:09.533590  [Epoch 0] test indivisual [4] class recall: 1.000000\n",
      "2018-11-01 18:04:09.533675  [Epoch 0] test indivisual [4] class precision: 1.000000\n",
      "2018-11-01 18:04:09.533929   Train one epoch   2 /  10\n"
     ]
    },
    {
     "name": "stderr",
     "output_type": "stream",
     "text": [
      "\n",
      "100%|██████████| 1679/1679 [14:45<00:00,  1.90it/s]"
     ]
    },
    {
     "name": "stdout",
     "output_type": "stream",
     "text": [
      "2018-11-01 18:18:56.789298  [Epoch 1] mean loss: 0.000359\n",
      "2018-11-01 18:18:56.790171  [Epoch 1] accuracy: 0.972586\n",
      "2018-11-01 18:18:56.791747  [Epoch 1] avg class acc: 0.996667\n",
      "2018-11-01 18:18:56.791962  [Epoch 1] indivisual [0] class recall: 0.983333\n",
      "2018-11-01 18:18:56.792451  [Epoch 1] indivisual [0] class precision: 1.000000\n",
      "2018-11-01 18:18:56.792717  [Epoch 1] indivisual [1] class recall: 1.000000\n",
      "2018-11-01 18:18:56.792867  [Epoch 1] indivisual [1] class precision: 0.982456\n",
      "2018-11-01 18:18:56.793060  [Epoch 1] indivisual [2] class recall: 1.000000\n",
      "2018-11-01 18:18:56.793171  [Epoch 1] indivisual [2] class precision: 1.000000\n",
      "2018-11-01 18:18:56.793431  [Epoch 1] indivisual [3] class recall: 1.000000\n",
      "2018-11-01 18:18:56.793971  [Epoch 1] indivisual [3] class precision: 0.909091\n",
      "2018-11-01 18:18:56.794090  [Epoch 1] indivisual [4] class recall: 1.000000\n",
      "2018-11-01 18:18:56.794568  [Epoch 1] indivisual [4] class precision: 1.000000\n",
      "2018-11-01 18:18:56.794757   Evaluation one (validation set) epoch   2 /  10\n"
     ]
    },
    {
     "name": "stderr",
     "output_type": "stream",
     "text": [
      "\n",
      "100%|██████████| 419/419 [00:54<00:00,  7.76it/s]"
     ]
    },
    {
     "name": "stdout",
     "output_type": "stream",
     "text": [
      "2018-11-01 18:19:51.267593  [Epoch 1] vali mean loss: 0.001441\n",
      "2018-11-01 18:19:51.267959  [Epoch 1] vali accuracy: 0.997613\n",
      "2018-11-01 18:19:51.268527  [Epoch 1] vali avg class acc: 1.000000\n",
      "2018-11-01 18:19:51.269073  [Epoch 1] vali indivisual [0] class recall: 1.000000\n",
      "2018-11-01 18:19:51.269298  [Epoch 1] vali indivisual [0] class precision: 1.000000\n",
      "2018-11-01 18:19:51.269476  [Epoch 1] vali indivisual [1] class recall: 1.000000\n",
      "2018-11-01 18:19:51.269715  [Epoch 1] vali indivisual [1] class precision: 1.000000\n",
      "2018-11-01 18:19:51.269962  [Epoch 1] vali indivisual [2] class recall: 1.000000\n",
      "2018-11-01 18:19:51.270514  [Epoch 1] vali indivisual [2] class precision: 1.000000\n",
      "2018-11-01 18:19:51.270884  [Epoch 1] vali indivisual [3] class recall: 1.000000\n",
      "2018-11-01 18:19:51.270977  [Epoch 1] vali indivisual [3] class precision: 1.000000\n",
      "2018-11-01 18:19:51.271251  [Epoch 1] vali indivisual [4] class recall: 1.000000\n",
      "2018-11-01 18:19:51.271612  [Epoch 1] vali indivisual [4] class precision: 1.000000\n",
      "2018-11-01 18:19:51.271901   Evaluation one (test set) epoch   2 /  10\n"
     ]
    },
    {
     "name": "stderr",
     "output_type": "stream",
     "text": [
      "\n",
      "100%|██████████| 419/419 [00:54<00:00,  7.73it/s]"
     ]
    },
    {
     "name": "stdout",
     "output_type": "stream",
     "text": [
      "2018-11-01 18:20:45.937447  [Epoch 1] test mean loss: 0.001441\n",
      "2018-11-01 18:20:45.938148  [Epoch 1] test accuracy: 0.997050\n",
      "2018-11-01 18:20:45.938817  [Epoch 1] test avg class acc: 0.992857\n",
      "2018-11-01 18:20:45.939144  [Epoch 1] test indivisual [0] class recall: 1.000000\n",
      "2018-11-01 18:20:45.939366  [Epoch 1] test indivisual [0] class precision: 0.991736\n",
      "2018-11-01 18:20:45.939525  [Epoch 1] test indivisual [1] class recall: 1.000000\n",
      "2018-11-01 18:20:45.939733  [Epoch 1] test indivisual [1] class precision: 1.000000\n",
      "2018-11-01 18:20:45.939988  [Epoch 1] test indivisual [2] class recall: 0.964286\n",
      "2018-11-01 18:20:45.940573  [Epoch 1] test indivisual [2] class precision: 1.000000\n",
      "2018-11-01 18:20:45.940762  [Epoch 1] test indivisual [3] class recall: 1.000000\n",
      "2018-11-01 18:20:45.940883  [Epoch 1] test indivisual [3] class precision: 1.000000\n",
      "2018-11-01 18:20:45.941156  [Epoch 1] test indivisual [4] class recall: 1.000000\n",
      "2018-11-01 18:20:45.941639  [Epoch 1] test indivisual [4] class precision: 1.000000\n",
      "2018-11-01 18:20:45.941740   Train one epoch   3 /  10\n"
     ]
    },
    {
     "name": "stderr",
     "output_type": "stream",
     "text": [
      "\n",
      "100%|██████████| 1679/1679 [14:45<00:00,  1.90it/s]"
     ]
    },
    {
     "name": "stdout",
     "output_type": "stream",
     "text": [
      "2018-11-01 18:35:33.074339  [Epoch 2] mean loss: 0.000193\n",
      "2018-11-01 18:35:33.075082  [Epoch 2] accuracy: 0.986044\n",
      "2018-11-01 18:35:33.075650  [Epoch 2] avg class acc: 0.990079\n",
      "2018-11-01 18:35:33.076009  [Epoch 2] indivisual [0] class recall: 0.992063\n",
      "2018-11-01 18:35:33.076180  [Epoch 2] indivisual [0] class precision: 0.992063\n",
      "2018-11-01 18:35:33.076470  [Epoch 2] indivisual [1] class recall: 1.000000\n",
      "2018-11-01 18:35:33.076686  [Epoch 2] indivisual [1] class precision: 1.000000\n",
      "2018-11-01 18:35:33.077047  [Epoch 2] indivisual [2] class recall: 1.000000\n",
      "2018-11-01 18:35:33.077170  [Epoch 2] indivisual [2] class precision: 0.966667\n",
      "2018-11-01 18:35:33.077618  [Epoch 2] indivisual [3] class recall: 1.000000\n",
      "2018-11-01 18:35:33.077764  [Epoch 2] indivisual [3] class precision: 1.000000\n",
      "2018-11-01 18:35:33.077901  [Epoch 2] indivisual [4] class recall: 0.958333\n",
      "2018-11-01 18:35:33.078369  [Epoch 2] indivisual [4] class precision: 1.000000\n",
      "2018-11-01 18:35:33.078551   Evaluation one (validation set) epoch   3 /  10\n"
     ]
    },
    {
     "name": "stderr",
     "output_type": "stream",
     "text": [
      "\n",
      "100%|██████████| 419/419 [00:53<00:00,  7.78it/s]"
     ]
    },
    {
     "name": "stdout",
     "output_type": "stream",
     "text": [
      "2018-11-01 18:36:27.448845  [Epoch 2] vali mean loss: 0.000772\n",
      "2018-11-01 18:36:27.449143  [Epoch 2] vali accuracy: 0.998940\n",
      "2018-11-01 18:36:27.449543  [Epoch 2] vali avg class acc: 1.000000\n",
      "2018-11-01 18:36:27.450178  [Epoch 2] vali indivisual [0] class recall: 1.000000\n",
      "2018-11-01 18:36:27.450414  [Epoch 2] vali indivisual [0] class precision: 1.000000\n",
      "2018-11-01 18:36:27.450614  [Epoch 2] vali indivisual [1] class recall: 1.000000\n",
      "2018-11-01 18:36:27.450888  [Epoch 2] vali indivisual [1] class precision: 1.000000\n",
      "2018-11-01 18:36:27.451105  [Epoch 2] vali indivisual [2] class recall: 1.000000\n",
      "2018-11-01 18:36:27.451536  [Epoch 2] vali indivisual [2] class precision: 1.000000\n",
      "2018-11-01 18:36:27.451737  [Epoch 2] vali indivisual [3] class recall: 1.000000\n",
      "2018-11-01 18:36:27.451922  [Epoch 2] vali indivisual [3] class precision: 1.000000\n",
      "2018-11-01 18:36:27.452168  [Epoch 2] vali indivisual [4] class recall: 1.000000\n",
      "2018-11-01 18:36:27.452394  [Epoch 2] vali indivisual [4] class precision: 1.000000\n",
      "2018-11-01 18:36:27.452951   Evaluation one (test set) epoch   3 /  10\n"
     ]
    },
    {
     "name": "stderr",
     "output_type": "stream",
     "text": [
      "\n",
      "100%|██████████| 419/419 [00:54<00:00,  7.74it/s]"
     ]
    },
    {
     "name": "stdout",
     "output_type": "stream",
     "text": [
      "2018-11-01 18:37:22.023545  [Epoch 2] test mean loss: 0.000772\n",
      "2018-11-01 18:37:22.024065  [Epoch 2] test accuracy: 0.998988\n",
      "2018-11-01 18:37:22.024606  [Epoch 2] test avg class acc: 1.000000\n",
      "2018-11-01 18:37:22.024905  [Epoch 2] test indivisual [0] class recall: 1.000000\n",
      "2018-11-01 18:37:22.025262  [Epoch 2] test indivisual [0] class precision: 1.000000\n",
      "2018-11-01 18:37:22.025583  [Epoch 2] test indivisual [1] class recall: 1.000000\n",
      "2018-11-01 18:37:22.025935  [Epoch 2] test indivisual [1] class precision: 1.000000\n",
      "2018-11-01 18:37:22.026062  [Epoch 2] test indivisual [2] class recall: 1.000000\n",
      "2018-11-01 18:37:22.026296  [Epoch 2] test indivisual [2] class precision: 1.000000\n",
      "2018-11-01 18:37:22.026440  [Epoch 2] test indivisual [3] class recall: 1.000000\n",
      "2018-11-01 18:37:22.026983  [Epoch 2] test indivisual [3] class precision: 1.000000\n",
      "2018-11-01 18:37:22.027355  [Epoch 2] test indivisual [4] class recall: 1.000000\n",
      "2018-11-01 18:37:22.027449  [Epoch 2] test indivisual [4] class precision: 1.000000\n",
      "2018-11-01 18:37:22.027680   Train one epoch   4 /  10\n"
     ]
    },
    {
     "name": "stderr",
     "output_type": "stream",
     "text": [
      "\n",
      "100%|██████████| 1679/1679 [14:45<00:00,  1.90it/s]"
     ]
    },
    {
     "name": "stdout",
     "output_type": "stream",
     "text": [
      "2018-11-01 18:52:09.196377  [Epoch 3] mean loss: 0.000154\n",
      "2018-11-01 18:52:09.197035  [Epoch 3] accuracy: 0.989384\n",
      "2018-11-01 18:52:09.197528  [Epoch 3] avg class acc: 0.977067\n",
      "2018-11-01 18:52:09.197813  [Epoch 3] indivisual [0] class recall: 1.000000\n",
      "2018-11-01 18:52:09.198507  [Epoch 3] indivisual [0] class precision: 0.972477\n",
      "2018-11-01 18:52:09.198704  [Epoch 3] indivisual [1] class recall: 0.986486\n",
      "2018-11-01 18:52:09.198825  [Epoch 3] indivisual [1] class precision: 1.000000\n",
      "2018-11-01 18:52:09.199220  [Epoch 3] indivisual [2] class recall: 1.000000\n",
      "2018-11-01 18:52:09.199561  [Epoch 3] indivisual [2] class precision: 1.000000\n",
      "2018-11-01 18:52:09.199892  [Epoch 3] indivisual [3] class recall: 0.933333\n",
      "2018-11-01 18:52:09.199984  [Epoch 3] indivisual [3] class precision: 1.000000\n",
      "2018-11-01 18:52:09.200226  [Epoch 3] indivisual [4] class recall: 0.965517\n",
      "2018-11-01 18:52:09.200634  [Epoch 3] indivisual [4] class precision: 1.000000\n",
      "2018-11-01 18:52:09.200882   Evaluation one (validation set) epoch   4 /  10\n"
     ]
    },
    {
     "name": "stderr",
     "output_type": "stream",
     "text": [
      "\n",
      "100%|██████████| 419/419 [00:53<00:00,  7.78it/s]"
     ]
    },
    {
     "name": "stdout",
     "output_type": "stream",
     "text": [
      "2018-11-01 18:53:03.582236  [Epoch 3] vali mean loss: 0.000617\n",
      "2018-11-01 18:53:03.582986  [Epoch 3] vali accuracy: 0.999351\n",
      "2018-11-01 18:53:03.583705  [Epoch 3] vali avg class acc: 1.000000\n",
      "2018-11-01 18:53:03.584017  [Epoch 3] vali indivisual [0] class recall: 1.000000\n",
      "2018-11-01 18:53:03.584379  [Epoch 3] vali indivisual [0] class precision: 1.000000\n",
      "2018-11-01 18:53:03.584530  [Epoch 3] vali indivisual [1] class recall: 1.000000\n",
      "2018-11-01 18:53:03.585106  [Epoch 3] vali indivisual [1] class precision: 1.000000\n",
      "2018-11-01 18:53:03.585205  [Epoch 3] vali indivisual [2] class recall: 1.000000\n",
      "2018-11-01 18:53:03.585485  [Epoch 3] vali indivisual [2] class precision: 1.000000\n",
      "2018-11-01 18:53:03.585944  [Epoch 3] vali indivisual [3] class recall: 1.000000\n",
      "2018-11-01 18:53:03.586223  [Epoch 3] vali indivisual [3] class precision: 1.000000\n",
      "2018-11-01 18:53:03.586488  [Epoch 3] vali indivisual [4] class recall: 1.000000\n",
      "2018-11-01 18:53:03.586695  [Epoch 3] vali indivisual [4] class precision: 1.000000\n",
      "2018-11-01 18:53:03.586907   Evaluation one (test set) epoch   4 /  10\n"
     ]
    },
    {
     "name": "stderr",
     "output_type": "stream",
     "text": [
      "\n",
      "100%|██████████| 419/419 [00:53<00:00,  7.76it/s]"
     ]
    },
    {
     "name": "stdout",
     "output_type": "stream",
     "text": [
      "2018-11-01 18:53:58.009440  [Epoch 3] test mean loss: 0.000617\n",
      "2018-11-01 18:53:58.009721  [Epoch 3] test accuracy: 0.999274\n",
      "2018-11-01 18:53:58.010479  [Epoch 3] test avg class acc: 1.000000\n",
      "2018-11-01 18:53:58.010825  [Epoch 3] test indivisual [0] class recall: 1.000000\n",
      "2018-11-01 18:53:58.011299  [Epoch 3] test indivisual [0] class precision: 1.000000\n",
      "2018-11-01 18:53:58.011537  [Epoch 3] test indivisual [1] class recall: 1.000000\n",
      "2018-11-01 18:53:58.011696  [Epoch 3] test indivisual [1] class precision: 1.000000\n",
      "2018-11-01 18:53:58.011966  [Epoch 3] test indivisual [2] class recall: 1.000000\n",
      "2018-11-01 18:53:58.012100  [Epoch 3] test indivisual [2] class precision: 1.000000\n",
      "2018-11-01 18:53:58.012353  [Epoch 3] test indivisual [3] class recall: 1.000000\n",
      "2018-11-01 18:53:58.012543  [Epoch 3] test indivisual [3] class precision: 1.000000\n",
      "2018-11-01 18:53:58.013009  [Epoch 3] test indivisual [4] class recall: 1.000000\n",
      "2018-11-01 18:53:58.013101  [Epoch 3] test indivisual [4] class precision: 1.000000\n",
      "2018-11-01 18:53:58.013271   Train one epoch   5 /  10\n"
     ]
    },
    {
     "name": "stderr",
     "output_type": "stream",
     "text": [
      "\n",
      "100%|██████████| 1679/1679 [14:45<00:00,  1.90it/s]"
     ]
    },
    {
     "name": "stdout",
     "output_type": "stream",
     "text": [
      "2018-11-01 19:08:44.567304  [Epoch 4] mean loss: 0.000144\n",
      "2018-11-01 19:08:44.568295  [Epoch 4] accuracy: 0.990073\n",
      "2018-11-01 19:08:44.568677  [Epoch 4] avg class acc: 0.996460\n",
      "2018-11-01 19:08:44.569083  [Epoch 4] indivisual [0] class recall: 0.982301\n",
      "2018-11-01 19:08:44.569309  [Epoch 4] indivisual [0] class precision: 1.000000\n",
      "2018-11-01 19:08:44.569468  [Epoch 4] indivisual [1] class recall: 1.000000\n",
      "2018-11-01 19:08:44.569914  [Epoch 4] indivisual [1] class precision: 0.983607\n",
      "2018-11-01 19:08:44.570291  [Epoch 4] indivisual [2] class recall: 1.000000\n",
      "2018-11-01 19:08:44.570382  [Epoch 4] indivisual [2] class precision: 0.967742\n",
      "2018-11-01 19:08:44.570723  [Epoch 4] indivisual [3] class recall: 1.000000\n",
      "2018-11-01 19:08:44.571186  [Epoch 4] indivisual [3] class precision: 1.000000\n",
      "2018-11-01 19:08:44.571478  [Epoch 4] indivisual [4] class recall: 1.000000\n",
      "2018-11-01 19:08:44.571571  [Epoch 4] indivisual [4] class precision: 1.000000\n",
      "2018-11-01 19:08:44.571827   Evaluation one (validation set) epoch   5 /  10\n"
     ]
    },
    {
     "name": "stderr",
     "output_type": "stream",
     "text": [
      "\n",
      "100%|██████████| 419/419 [00:53<00:00,  7.77it/s]"
     ]
    },
    {
     "name": "stdout",
     "output_type": "stream",
     "text": [
      "2018-11-01 19:09:38.984511  [Epoch 4] vali mean loss: 0.000578\n",
      "2018-11-01 19:09:38.985416  [Epoch 4] vali accuracy: 0.998940\n",
      "2018-11-01 19:09:38.985773  [Epoch 4] vali avg class acc: 1.000000\n",
      "2018-11-01 19:09:38.986034  [Epoch 4] vali indivisual [0] class recall: 1.000000\n",
      "2018-11-01 19:09:38.986349  [Epoch 4] vali indivisual [0] class precision: 1.000000\n",
      "2018-11-01 19:09:38.986531  [Epoch 4] vali indivisual [1] class recall: 1.000000\n",
      "2018-11-01 19:09:38.986699  [Epoch 4] vali indivisual [1] class precision: 1.000000\n",
      "2018-11-01 19:09:38.986841  [Epoch 4] vali indivisual [2] class recall: 1.000000\n",
      "2018-11-01 19:09:38.986965  [Epoch 4] vali indivisual [2] class precision: 1.000000\n",
      "2018-11-01 19:09:38.987695  [Epoch 4] vali indivisual [3] class recall: 1.000000\n",
      "2018-11-01 19:09:38.987822  [Epoch 4] vali indivisual [3] class precision: 1.000000\n",
      "2018-11-01 19:09:38.988124  [Epoch 4] vali indivisual [4] class recall: 1.000000\n",
      "2018-11-01 19:09:38.988294  [Epoch 4] vali indivisual [4] class precision: 1.000000\n",
      "2018-11-01 19:09:38.988446   Evaluation one (test set) epoch   5 /  10\n"
     ]
    },
    {
     "name": "stderr",
     "output_type": "stream",
     "text": [
      "\n",
      "100%|██████████| 419/419 [00:54<00:00,  7.73it/s]"
     ]
    },
    {
     "name": "stdout",
     "output_type": "stream",
     "text": [
      "2018-11-01 19:10:33.609786  [Epoch 4] test mean loss: 0.000578\n",
      "2018-11-01 19:10:33.610469  [Epoch 4] test accuracy: 0.998749\n",
      "2018-11-01 19:10:33.610929  [Epoch 4] test avg class acc: 1.000000\n",
      "2018-11-01 19:10:33.611509  [Epoch 4] test indivisual [0] class recall: 1.000000\n",
      "2018-11-01 19:10:33.611910  [Epoch 4] test indivisual [0] class precision: 1.000000\n",
      "2018-11-01 19:10:33.612186  [Epoch 4] test indivisual [1] class recall: 1.000000\n",
      "2018-11-01 19:10:33.612281  [Epoch 4] test indivisual [1] class precision: 1.000000\n",
      "2018-11-01 19:10:33.612556  [Epoch 4] test indivisual [2] class recall: 1.000000\n",
      "2018-11-01 19:10:33.612996  [Epoch 4] test indivisual [2] class precision: 1.000000\n",
      "2018-11-01 19:10:33.613261  [Epoch 4] test indivisual [3] class recall: 1.000000\n",
      "2018-11-01 19:10:33.613353  [Epoch 4] test indivisual [3] class precision: 1.000000\n",
      "2018-11-01 19:10:33.613729  [Epoch 4] test indivisual [4] class recall: 1.000000\n",
      "2018-11-01 19:10:33.613924  [Epoch 4] test indivisual [4] class precision: 1.000000\n",
      "2018-11-01 19:10:33.614071   Train one epoch   6 /  10\n"
     ]
    },
    {
     "name": "stderr",
     "output_type": "stream",
     "text": [
      "\n",
      "100%|██████████| 1679/1679 [14:44<00:00,  1.90it/s]"
     ]
    },
    {
     "name": "stdout",
     "output_type": "stream",
     "text": [
      "2018-11-01 19:25:19.737122  [Epoch 5] mean loss: 0.000136\n",
      "2018-11-01 19:25:19.737753  [Epoch 5] accuracy: 0.990721\n",
      "2018-11-01 19:25:19.738085  [Epoch 5] avg class acc: 0.988946\n",
      "2018-11-01 19:25:19.738437  [Epoch 5] indivisual [0] class recall: 0.983193\n",
      "2018-11-01 19:25:19.738629  [Epoch 5] indivisual [0] class precision: 0.991525\n",
      "2018-11-01 19:25:19.738880  [Epoch 5] indivisual [1] class recall: 1.000000\n",
      "2018-11-01 19:25:19.739158  [Epoch 5] indivisual [1] class precision: 0.985507\n",
      "2018-11-01 19:25:19.739595  [Epoch 5] indivisual [2] class recall: 1.000000\n",
      "2018-11-01 19:25:19.740032  [Epoch 5] indivisual [2] class precision: 0.956522\n",
      "2018-11-01 19:25:19.740293  [Epoch 5] indivisual [3] class recall: 1.000000\n",
      "2018-11-01 19:25:19.740387  [Epoch 5] indivisual [3] class precision: 1.000000\n",
      "2018-11-01 19:25:19.740824  [Epoch 5] indivisual [4] class recall: 0.961538\n",
      "2018-11-01 19:25:19.740920  [Epoch 5] indivisual [4] class precision: 1.000000\n",
      "2018-11-01 19:25:19.741049   Evaluation one (validation set) epoch   6 /  10\n"
     ]
    },
    {
     "name": "stderr",
     "output_type": "stream",
     "text": [
      "\n",
      "100%|██████████| 419/419 [00:53<00:00,  7.79it/s]"
     ]
    },
    {
     "name": "stdout",
     "output_type": "stream",
     "text": [
      "2018-11-01 19:26:13.961926  [Epoch 5] vali mean loss: 0.000547\n",
      "2018-11-01 19:26:13.962846  [Epoch 5] vali accuracy: 0.999265\n",
      "2018-11-01 19:26:13.963432  [Epoch 5] vali avg class acc: 1.000000\n",
      "2018-11-01 19:26:13.963697  [Epoch 5] vali indivisual [0] class recall: 1.000000\n",
      "2018-11-01 19:26:13.964118  [Epoch 5] vali indivisual [0] class precision: 1.000000\n",
      "2018-11-01 19:26:13.964404  [Epoch 5] vali indivisual [1] class recall: 1.000000\n",
      "2018-11-01 19:26:13.964781  [Epoch 5] vali indivisual [1] class precision: 1.000000\n",
      "2018-11-01 19:26:13.964982  [Epoch 5] vali indivisual [2] class recall: 1.000000\n",
      "2018-11-01 19:26:13.965139  [Epoch 5] vali indivisual [2] class precision: 1.000000\n",
      "2018-11-01 19:26:13.965374  [Epoch 5] vali indivisual [3] class recall: 1.000000\n",
      "2018-11-01 19:26:13.965495  [Epoch 5] vali indivisual [3] class precision: 1.000000\n",
      "2018-11-01 19:26:13.966053  [Epoch 5] vali indivisual [4] class recall: 1.000000\n",
      "2018-11-01 19:26:13.966315  [Epoch 5] vali indivisual [4] class precision: 1.000000\n",
      "2018-11-01 19:26:13.966744   Evaluation one (test set) epoch   6 /  10\n"
     ]
    },
    {
     "name": "stderr",
     "output_type": "stream",
     "text": [
      "\n",
      "100%|██████████| 419/419 [00:53<00:00,  7.77it/s]"
     ]
    },
    {
     "name": "stdout",
     "output_type": "stream",
     "text": [
      "2018-11-01 19:27:08.345345  [Epoch 5] test mean loss: 0.000547\n",
      "2018-11-01 19:27:08.346051  [Epoch 5] test accuracy: 0.999227\n",
      "2018-11-01 19:27:08.346849  [Epoch 5] test avg class acc: 0.997959\n",
      "2018-11-01 19:27:08.346999  [Epoch 5] test indivisual [0] class recall: 0.989796\n",
      "2018-11-01 19:27:08.347386  [Epoch 5] test indivisual [0] class precision: 1.000000\n",
      "2018-11-01 19:27:08.347754  [Epoch 5] test indivisual [1] class recall: 1.000000\n",
      "2018-11-01 19:27:08.347855  [Epoch 5] test indivisual [1] class precision: 1.000000\n",
      "2018-11-01 19:27:08.348112  [Epoch 5] test indivisual [2] class recall: 1.000000\n",
      "2018-11-01 19:27:08.348369  [Epoch 5] test indivisual [2] class precision: 0.969697\n",
      "2018-11-01 19:27:08.348567  [Epoch 5] test indivisual [3] class recall: 1.000000\n",
      "2018-11-01 19:27:08.348713  [Epoch 5] test indivisual [3] class precision: 1.000000\n",
      "2018-11-01 19:27:08.349046  [Epoch 5] test indivisual [4] class recall: 1.000000\n",
      "2018-11-01 19:27:08.349191  [Epoch 5] test indivisual [4] class precision: 1.000000\n",
      "2018-11-01 19:27:08.349760   Train one epoch   7 /  10\n"
     ]
    },
    {
     "name": "stderr",
     "output_type": "stream",
     "text": [
      "\n",
      "100%|██████████| 1679/1679 [14:45<00:00,  1.90it/s]"
     ]
    },
    {
     "name": "stdout",
     "output_type": "stream",
     "text": [
      "2018-11-01 19:41:54.838998  [Epoch 6] mean loss: 0.000132\n",
      "2018-11-01 19:41:54.839943  [Epoch 6] accuracy: 0.990899\n",
      "2018-11-01 19:41:54.840381  [Epoch 6] avg class acc: 1.000000\n",
      "2018-11-01 19:41:54.840597  [Epoch 6] indivisual [0] class recall: 1.000000\n",
      "2018-11-01 19:41:54.840844  [Epoch 6] indivisual [0] class precision: 1.000000\n",
      "2018-11-01 19:41:54.840998  [Epoch 6] indivisual [1] class recall: 1.000000\n",
      "2018-11-01 19:41:54.841266  [Epoch 6] indivisual [1] class precision: 1.000000\n",
      "2018-11-01 19:41:54.841383  [Epoch 6] indivisual [2] class recall: 1.000000\n",
      "2018-11-01 19:41:54.842077  [Epoch 6] indivisual [2] class precision: 1.000000\n",
      "2018-11-01 19:41:54.842424  [Epoch 6] indivisual [3] class recall: 1.000000\n",
      "2018-11-01 19:41:54.842661  [Epoch 6] indivisual [3] class precision: 1.000000\n",
      "2018-11-01 19:41:54.842753  [Epoch 6] indivisual [4] class recall: 1.000000\n",
      "2018-11-01 19:41:54.842999  [Epoch 6] indivisual [4] class precision: 1.000000\n",
      "2018-11-01 19:41:54.843144   Evaluation one (validation set) epoch   7 /  10\n"
     ]
    },
    {
     "name": "stderr",
     "output_type": "stream",
     "text": [
      "\n",
      "100%|██████████| 419/419 [00:53<00:00,  7.80it/s]"
     ]
    },
    {
     "name": "stdout",
     "output_type": "stream",
     "text": [
      "2018-11-01 19:42:49.068172  [Epoch 6] vali mean loss: 0.000527\n",
      "2018-11-01 19:42:49.068653  [Epoch 6] vali accuracy: 0.999332\n",
      "2018-11-01 19:42:49.069324  [Epoch 6] vali avg class acc: 1.000000\n",
      "2018-11-01 19:42:49.069581  [Epoch 6] vali indivisual [0] class recall: 1.000000\n",
      "2018-11-01 19:42:49.070038  [Epoch 6] vali indivisual [0] class precision: 1.000000\n",
      "2018-11-01 19:42:49.070432  [Epoch 6] vali indivisual [1] class recall: 1.000000\n",
      "2018-11-01 19:42:49.070707  [Epoch 6] vali indivisual [1] class precision: 1.000000\n",
      "2018-11-01 19:42:49.070863  [Epoch 6] vali indivisual [2] class recall: 1.000000\n",
      "2018-11-01 19:42:49.071208  [Epoch 6] vali indivisual [2] class precision: 1.000000\n",
      "2018-11-01 19:42:49.071452  [Epoch 6] vali indivisual [3] class recall: 1.000000\n",
      "2018-11-01 19:42:49.071910  [Epoch 6] vali indivisual [3] class precision: 1.000000\n",
      "2018-11-01 19:42:49.072255  [Epoch 6] vali indivisual [4] class recall: 1.000000\n",
      "2018-11-01 19:42:49.072344  [Epoch 6] vali indivisual [4] class precision: 1.000000\n",
      "2018-11-01 19:42:49.072596   Evaluation one (test set) epoch   7 /  10\n"
     ]
    },
    {
     "name": "stderr",
     "output_type": "stream",
     "text": [
      "\n",
      "100%|██████████| 419/419 [00:54<00:00,  7.75it/s]"
     ]
    },
    {
     "name": "stdout",
     "output_type": "stream",
     "text": [
      "2018-11-01 19:43:43.541799  [Epoch 6] test mean loss: 0.000527\n",
      "2018-11-01 19:43:43.542510  [Epoch 6] test accuracy: 0.999370\n",
      "2018-11-01 19:43:43.542998  [Epoch 6] test avg class acc: 1.000000\n",
      "2018-11-01 19:43:43.543160  [Epoch 6] test indivisual [0] class recall: 1.000000\n",
      "2018-11-01 19:43:43.543439  [Epoch 6] test indivisual [0] class precision: 1.000000\n",
      "2018-11-01 19:43:43.543673  [Epoch 6] test indivisual [1] class recall: 1.000000\n",
      "2018-11-01 19:43:43.544094  [Epoch 6] test indivisual [1] class precision: 1.000000\n",
      "2018-11-01 19:43:43.544180  [Epoch 6] test indivisual [2] class recall: 1.000000\n",
      "2018-11-01 19:43:43.544466  [Epoch 6] test indivisual [2] class precision: 1.000000\n",
      "2018-11-01 19:43:43.544697  [Epoch 6] test indivisual [3] class recall: 1.000000\n",
      "2018-11-01 19:43:43.544995  [Epoch 6] test indivisual [3] class precision: 1.000000\n",
      "2018-11-01 19:43:43.545125  [Epoch 6] test indivisual [4] class recall: 1.000000\n",
      "2018-11-01 19:43:43.545342  [Epoch 6] test indivisual [4] class precision: 1.000000\n",
      "2018-11-01 19:43:43.545637   Train one epoch   8 /  10\n"
     ]
    },
    {
     "name": "stderr",
     "output_type": "stream",
     "text": [
      "\n",
      "100%|██████████| 1679/1679 [14:44<00:00,  1.90it/s]"
     ]
    },
    {
     "name": "stdout",
     "output_type": "stream",
     "text": [
      "2018-11-01 19:58:29.745283  [Epoch 7] mean loss: 0.000124\n",
      "2018-11-01 19:58:29.746034  [Epoch 7] accuracy: 0.991342\n",
      "2018-11-01 19:58:29.746573  [Epoch 7] avg class acc: 0.986652\n",
      "2018-11-01 19:58:29.746889  [Epoch 7] indivisual [0] class recall: 1.000000\n",
      "2018-11-01 19:58:29.747023  [Epoch 7] indivisual [0] class precision: 0.982759\n",
      "2018-11-01 19:58:29.747173  [Epoch 7] indivisual [1] class recall: 1.000000\n",
      "2018-11-01 19:58:29.747768  [Epoch 7] indivisual [1] class precision: 1.000000\n",
      "2018-11-01 19:58:29.748025  [Epoch 7] indivisual [2] class recall: 0.965517\n",
      "2018-11-01 19:58:29.748175  [Epoch 7] indivisual [2] class precision: 1.000000\n",
      "2018-11-01 19:58:29.748401  [Epoch 7] indivisual [3] class recall: 1.000000\n",
      "2018-11-01 19:58:29.748635  [Epoch 7] indivisual [3] class precision: 1.000000\n",
      "2018-11-01 19:58:29.749033  [Epoch 7] indivisual [4] class recall: 0.967742\n",
      "2018-11-01 19:58:29.749349  [Epoch 7] indivisual [4] class precision: 1.000000\n",
      "2018-11-01 19:58:29.749693   Evaluation one (validation set) epoch   8 /  10\n"
     ]
    },
    {
     "name": "stderr",
     "output_type": "stream",
     "text": [
      "\n",
      "100%|██████████| 419/419 [00:53<00:00,  7.78it/s]"
     ]
    },
    {
     "name": "stdout",
     "output_type": "stream",
     "text": [
      "2018-11-01 19:59:24.062510  [Epoch 7] vali mean loss: 0.000498\n",
      "2018-11-01 19:59:24.063379  [Epoch 7] vali accuracy: 0.999456\n",
      "2018-11-01 19:59:24.063901  [Epoch 7] vali avg class acc: 1.000000\n",
      "2018-11-01 19:59:24.064118  [Epoch 7] vali indivisual [0] class recall: 1.000000\n",
      "2018-11-01 19:59:24.064485  [Epoch 7] vali indivisual [0] class precision: 1.000000\n",
      "2018-11-01 19:59:24.064800  [Epoch 7] vali indivisual [1] class recall: 1.000000\n",
      "2018-11-01 19:59:24.064933  [Epoch 7] vali indivisual [1] class precision: 1.000000\n",
      "2018-11-01 19:59:24.065429  [Epoch 7] vali indivisual [2] class recall: 1.000000\n",
      "2018-11-01 19:59:24.065695  [Epoch 7] vali indivisual [2] class precision: 1.000000\n",
      "2018-11-01 19:59:24.066045  [Epoch 7] vali indivisual [3] class recall: 1.000000\n",
      "2018-11-01 19:59:24.066141  [Epoch 7] vali indivisual [3] class precision: 1.000000\n",
      "2018-11-01 19:59:24.066405  [Epoch 7] vali indivisual [4] class recall: 1.000000\n",
      "2018-11-01 19:59:24.066730  [Epoch 7] vali indivisual [4] class precision: 1.000000\n",
      "2018-11-01 19:59:24.067109   Evaluation one (test set) epoch   8 /  10\n"
     ]
    },
    {
     "name": "stderr",
     "output_type": "stream",
     "text": [
      "\n",
      "100%|██████████| 419/419 [00:54<00:00,  7.74it/s]"
     ]
    },
    {
     "name": "stdout",
     "output_type": "stream",
     "text": [
      "2018-11-01 20:00:18.636783  [Epoch 7] test mean loss: 0.000498\n",
      "2018-11-01 20:00:18.637581  [Epoch 7] test accuracy: 0.999465\n",
      "2018-11-01 20:00:18.638238  [Epoch 7] test avg class acc: 1.000000\n",
      "2018-11-01 20:00:18.638589  [Epoch 7] test indivisual [0] class recall: 1.000000\n",
      "2018-11-01 20:00:18.638892  [Epoch 7] test indivisual [0] class precision: 1.000000\n",
      "2018-11-01 20:00:18.639209  [Epoch 7] test indivisual [1] class recall: 1.000000\n",
      "2018-11-01 20:00:18.639451  [Epoch 7] test indivisual [1] class precision: 1.000000\n",
      "2018-11-01 20:00:18.639788  [Epoch 7] test indivisual [2] class recall: 1.000000\n",
      "2018-11-01 20:00:18.639937  [Epoch 7] test indivisual [2] class precision: 1.000000\n",
      "2018-11-01 20:00:18.640322  [Epoch 7] test indivisual [3] class recall: 1.000000\n",
      "2018-11-01 20:00:18.640707  [Epoch 7] test indivisual [3] class precision: 1.000000\n",
      "2018-11-01 20:00:18.640871  [Epoch 7] test indivisual [4] class recall: 1.000000\n",
      "2018-11-01 20:00:18.641106  [Epoch 7] test indivisual [4] class precision: 1.000000\n",
      "2018-11-01 20:00:18.641362   Train one epoch   9 /  10\n"
     ]
    },
    {
     "name": "stderr",
     "output_type": "stream",
     "text": [
      "\n",
      "100%|██████████| 1679/1679 [14:44<00:00,  1.90it/s]"
     ]
    },
    {
     "name": "stdout",
     "output_type": "stream",
     "text": [
      "2018-11-01 20:15:04.958599  [Epoch 8] mean loss: 0.000120\n",
      "2018-11-01 20:15:04.959180  [Epoch 8] accuracy: 0.991538\n",
      "2018-11-01 20:15:04.959917  [Epoch 8] avg class acc: 0.998214\n",
      "2018-11-01 20:15:04.960257  [Epoch 8] indivisual [0] class recall: 0.991071\n",
      "2018-11-01 20:15:04.960481  [Epoch 8] indivisual [0] class precision: 1.000000\n",
      "2018-11-01 20:15:04.960644  [Epoch 8] indivisual [1] class recall: 1.000000\n",
      "2018-11-01 20:15:04.960914  [Epoch 8] indivisual [1] class precision: 1.000000\n",
      "2018-11-01 20:15:04.961131  [Epoch 8] indivisual [2] class recall: 1.000000\n",
      "2018-11-01 20:15:04.961698  [Epoch 8] indivisual [2] class precision: 0.950000\n",
      "2018-11-01 20:15:04.962044  [Epoch 8] indivisual [3] class recall: 1.000000\n",
      "2018-11-01 20:15:04.962138  [Epoch 8] indivisual [3] class precision: 1.000000\n",
      "2018-11-01 20:15:04.962386  [Epoch 8] indivisual [4] class recall: 1.000000\n",
      "2018-11-01 20:15:04.962640  [Epoch 8] indivisual [4] class precision: 1.000000\n",
      "2018-11-01 20:15:04.962852   Evaluation one (validation set) epoch   9 /  10\n"
     ]
    },
    {
     "name": "stderr",
     "output_type": "stream",
     "text": [
      "\n",
      "100%|██████████| 419/419 [00:54<00:00,  7.75it/s]"
     ]
    },
    {
     "name": "stdout",
     "output_type": "stream",
     "text": [
      "2018-11-01 20:15:59.548501  [Epoch 8] vali mean loss: 0.000479\n",
      "2018-11-01 20:15:59.548818  [Epoch 8] vali accuracy: 0.999561\n",
      "2018-11-01 20:15:59.549425  [Epoch 8] vali avg class acc: 1.000000\n",
      "2018-11-01 20:15:59.550130  [Epoch 8] vali indivisual [0] class recall: 1.000000\n",
      "2018-11-01 20:15:59.550370  [Epoch 8] vali indivisual [0] class precision: 1.000000\n",
      "2018-11-01 20:15:59.550503  [Epoch 8] vali indivisual [1] class recall: 1.000000\n",
      "2018-11-01 20:15:59.550827  [Epoch 8] vali indivisual [1] class precision: 1.000000\n",
      "2018-11-01 20:15:59.551126  [Epoch 8] vali indivisual [2] class recall: 1.000000\n",
      "2018-11-01 20:15:59.551293  [Epoch 8] vali indivisual [2] class precision: 1.000000\n",
      "2018-11-01 20:15:59.551584  [Epoch 8] vali indivisual [3] class recall: 1.000000\n",
      "2018-11-01 20:15:59.551765  [Epoch 8] vali indivisual [3] class precision: 1.000000\n",
      "2018-11-01 20:15:59.552247  [Epoch 8] vali indivisual [4] class recall: 1.000000\n",
      "2018-11-01 20:15:59.552702  [Epoch 8] vali indivisual [4] class precision: 1.000000\n",
      "2018-11-01 20:15:59.552800   Evaluation one (test set) epoch   9 /  10\n"
     ]
    },
    {
     "name": "stderr",
     "output_type": "stream",
     "text": [
      "\n",
      "100%|██████████| 419/419 [00:54<00:00,  7.72it/s]"
     ]
    },
    {
     "name": "stdout",
     "output_type": "stream",
     "text": [
      "2018-11-01 20:16:54.278358  [Epoch 8] test mean loss: 0.000479\n",
      "2018-11-01 20:16:54.278873  [Epoch 8] test accuracy: 0.999504\n",
      "2018-11-01 20:16:54.279544  [Epoch 8] test avg class acc: 1.000000\n",
      "2018-11-01 20:16:54.279891  [Epoch 8] test indivisual [0] class recall: 1.000000\n",
      "2018-11-01 20:16:54.280237  [Epoch 8] test indivisual [0] class precision: 1.000000\n",
      "2018-11-01 20:16:54.280811  [Epoch 8] test indivisual [1] class recall: 1.000000\n",
      "2018-11-01 20:16:54.280902  [Epoch 8] test indivisual [1] class precision: 1.000000\n",
      "2018-11-01 20:16:54.281246  [Epoch 8] test indivisual [2] class recall: 1.000000\n",
      "2018-11-01 20:16:54.281368  [Epoch 8] test indivisual [2] class precision: 1.000000\n",
      "2018-11-01 20:16:54.281578  [Epoch 8] test indivisual [3] class recall: 1.000000\n",
      "2018-11-01 20:16:54.281693  [Epoch 8] test indivisual [3] class precision: 1.000000\n",
      "2018-11-01 20:16:54.281890  [Epoch 8] test indivisual [4] class recall: 1.000000\n",
      "2018-11-01 20:16:54.282585  [Epoch 8] test indivisual [4] class precision: 1.000000\n",
      "2018-11-01 20:16:54.282781   Train one epoch  10 /  10\n"
     ]
    },
    {
     "name": "stderr",
     "output_type": "stream",
     "text": [
      "\n",
      "100%|██████████| 1679/1679 [14:45<00:00,  1.90it/s]"
     ]
    },
    {
     "name": "stdout",
     "output_type": "stream",
     "text": [
      "2018-11-01 20:31:40.782895  [Epoch 9] mean loss: 0.000119\n",
      "2018-11-01 20:31:40.783322  [Epoch 9] accuracy: 0.991602\n",
      "2018-11-01 20:31:40.783977  [Epoch 9] avg class acc: 0.982711\n",
      "2018-11-01 20:31:40.784165  [Epoch 9] indivisual [0] class recall: 0.990476\n",
      "2018-11-01 20:31:40.784319  [Epoch 9] indivisual [0] class precision: 0.971963\n",
      "2018-11-01 20:31:40.784572  [Epoch 9] indivisual [1] class recall: 1.000000\n",
      "2018-11-01 20:31:40.785246  [Epoch 9] indivisual [1] class precision: 0.985075\n",
      "2018-11-01 20:31:40.785346  [Epoch 9] indivisual [2] class recall: 0.923077\n",
      "2018-11-01 20:31:40.785739  [Epoch 9] indivisual [2] class precision: 1.000000\n",
      "2018-11-01 20:31:40.785906  [Epoch 9] indivisual [3] class recall: 1.000000\n",
      "2018-11-01 20:31:40.786033  [Epoch 9] indivisual [3] class precision: 1.000000\n",
      "2018-11-01 20:31:40.786550  [Epoch 9] indivisual [4] class recall: 1.000000\n",
      "2018-11-01 20:31:40.786645  [Epoch 9] indivisual [4] class precision: 1.000000\n",
      "2018-11-01 20:31:40.786907   Evaluation one (validation set) epoch  10 /  10\n"
     ]
    },
    {
     "name": "stderr",
     "output_type": "stream",
     "text": [
      "\n",
      "100%|██████████| 419/419 [00:54<00:00,  7.75it/s]"
     ]
    },
    {
     "name": "stdout",
     "output_type": "stream",
     "text": [
      "2018-11-01 20:32:35.311486  [Epoch 9] vali mean loss: 0.000475\n",
      "2018-11-01 20:32:35.312394  [Epoch 9] vali accuracy: 0.999523\n",
      "2018-11-01 20:32:35.312889  [Epoch 9] vali avg class acc: 1.000000\n",
      "2018-11-01 20:32:35.313215  [Epoch 9] vali indivisual [0] class recall: 1.000000\n",
      "2018-11-01 20:32:35.313681  [Epoch 9] vali indivisual [0] class precision: 1.000000\n",
      "2018-11-01 20:32:35.313958  [Epoch 9] vali indivisual [1] class recall: 1.000000\n",
      "2018-11-01 20:32:35.314059  [Epoch 9] vali indivisual [1] class precision: 1.000000\n",
      "2018-11-01 20:32:35.314333  [Epoch 9] vali indivisual [2] class recall: 1.000000\n",
      "2018-11-01 20:32:35.314766  [Epoch 9] vali indivisual [2] class precision: 1.000000\n",
      "2018-11-01 20:32:35.315029  [Epoch 9] vali indivisual [3] class recall: 1.000000\n",
      "2018-11-01 20:32:35.315150  [Epoch 9] vali indivisual [3] class precision: 1.000000\n",
      "2018-11-01 20:32:35.315417  [Epoch 9] vali indivisual [4] class recall: 1.000000\n",
      "2018-11-01 20:32:35.315679  [Epoch 9] vali indivisual [4] class precision: 1.000000\n",
      "2018-11-01 20:32:35.315888   Evaluation one (test set) epoch  10 /  10\n"
     ]
    },
    {
     "name": "stderr",
     "output_type": "stream",
     "text": [
      "\n",
      "100%|██████████| 419/419 [00:54<00:00,  7.70it/s]\n"
     ]
    },
    {
     "name": "stdout",
     "output_type": "stream",
     "text": [
      "2018-11-01 20:33:30.190010  [Epoch 9] test mean loss: 0.000475\n",
      "2018-11-01 20:33:30.190756  [Epoch 9] test accuracy: 0.999418\n",
      "2018-11-01 20:33:30.191341  [Epoch 9] test avg class acc: 1.000000\n",
      "2018-11-01 20:33:30.191544  [Epoch 9] test indivisual [0] class recall: 1.000000\n",
      "2018-11-01 20:33:30.192131  [Epoch 9] test indivisual [0] class precision: 1.000000\n",
      "2018-11-01 20:33:30.192405  [Epoch 9] test indivisual [1] class recall: 1.000000\n",
      "2018-11-01 20:33:30.192550  [Epoch 9] test indivisual [1] class precision: 1.000000\n",
      "2018-11-01 20:33:30.192765  [Epoch 9] test indivisual [2] class recall: 1.000000\n",
      "2018-11-01 20:33:30.193136  [Epoch 9] test indivisual [2] class precision: 1.000000\n",
      "2018-11-01 20:33:30.193346  [Epoch 9] test indivisual [3] class recall: 1.000000\n",
      "2018-11-01 20:33:30.193584  [Epoch 9] test indivisual [3] class precision: 1.000000\n",
      "2018-11-01 20:33:30.194052  [Epoch 9] test indivisual [4] class recall: 1.000000\n",
      "2018-11-01 20:33:30.194145  [Epoch 9] test indivisual [4] class precision: 1.000000\n",
      "2018-11-01 20:33:30.961082  Model saved in file: /home/gozilla/kyungpyo/git/MasterThesisProject/Network/notebook/train_log_20181101_opt04/model/model.ckpt\n"
     ]
    }
   ],
   "source": [
    "\"\"\" log file \"\"\"\n",
    "LOG_FOUT = open(log_path, 'w')\n",
    "\n",
    "def log_string(out_str):\n",
    "    out_str = str( datetime.datetime.fromtimestamp( time.time() ) ) + \"  \" + out_str\n",
    "    LOG_FOUT.write(out_str+'\\n')\n",
    "    LOG_FOUT.flush()\n",
    "    print(out_str)\n",
    "    \n",
    "    \n",
    "def get_learning_rate(batch):\n",
    "    learning_rate = tf.train.exponential_decay(\n",
    "                        BASE_LEARNING_RATE,  # Base learning rate.\n",
    "                        batch * BATCH_SIZE,  # Current index into the dataset.\n",
    "                        DECAY_STEP,          # Decay step.\n",
    "                        DECAY_RATE,          # Decay rate.\n",
    "                        staircase=True)\n",
    "    learning_rate = tf.maximum(learning_rate, 0.00001) # CLIP THE LEARNING RATE!\n",
    "    return learning_rate        \n",
    "\n",
    "def get_bn_decay(batch):\n",
    "    bn_momentum = tf.train.exponential_decay(\n",
    "                      BN_INIT_DECAY,\n",
    "                      batch * BATCH_SIZE,\n",
    "                      BN_DECAY_DECAY_STEP,\n",
    "                      BN_DECAY_DECAY_RATE,\n",
    "                      staircase=True)\n",
    "    bn_decay = tf.minimum(BN_DECAY_CLIP, 1 - bn_momentum)\n",
    "    return bn_decay\n",
    "\n",
    "\"\"\" load traing model \"\"\"\n",
    "with tf.Graph().as_default():\n",
    "    with tf.device('/gpu:'+str(GPU_INDEX)):\n",
    "        pointclouds_pl, labels_pl = MODEL.placeholder_inputs(BATCH_SIZE, NUM_POINT)\n",
    "        is_training_pl = tf.placeholder(tf.bool, shape=())\n",
    "        print(is_training_pl)\n",
    "\n",
    "        # Note the global_step=batch parameter to minimize. \n",
    "        # That tells the optimizer to helpfully increment the 'batch' parameter for you every time it trains.\n",
    "        batch = tf.Variable(0)\n",
    "        bn_decay = get_bn_decay(batch)\n",
    "        tf.summary.scalar('bn_decay', bn_decay)\n",
    "\n",
    "        # Get model and loss \n",
    "        pred, end_points = MODEL.get_model(pointclouds_pl, is_training_pl, bn_decay=bn_decay)\n",
    "        loss = MODEL.get_loss(pred, labels_pl, end_points)\n",
    "        tf.summary.scalar('loss', loss)\n",
    "\n",
    "        correct = tf.equal(tf.argmax(pred, 1), tf.to_int64(labels_pl))\n",
    "        accuracy = tf.reduce_sum(tf.cast(correct, tf.float32)) / float(BATCH_SIZE)\n",
    "        tf.summary.scalar('accuracy', accuracy)\n",
    "\n",
    "        # Get training operator\n",
    "        learning_rate = get_learning_rate(batch)\n",
    "        tf.summary.scalar('learning_rate', learning_rate)\n",
    "        if OPTIMIZER == 'momentum':\n",
    "            optimizer = tf.train.MomentumOptimizer(learning_rate, momentum=MOMENTUM)\n",
    "        elif OPTIMIZER == 'adam':\n",
    "            optimizer = tf.train.AdamOptimizer(learning_rate)\n",
    "        train_op = optimizer.minimize(loss, global_step=batch)\n",
    "\n",
    "        # Add ops to save and restore all the variables.\n",
    "        saver = tf.train.Saver()\n",
    "\n",
    "    # Create a session\n",
    "    config = tf.ConfigProto()\n",
    "    config.gpu_options.allow_growth = True\n",
    "    config.allow_soft_placement = True\n",
    "    config.log_device_placement = False\n",
    "    sess = tf.Session(config=config)\n",
    "\n",
    "    # Add summary writers\n",
    "    #merged = tf.merge_all_summaries()\n",
    "    merged = tf.summary.merge_all()\n",
    "\n",
    "    train_writer_path = os.path.abspath('./train')\n",
    "    if os.path.isdir(train_writer_path): os.system('rm -r {}'.format(train_writer_path))\n",
    "    os.mkdir(train_writer_path)\n",
    "        \n",
    "    test_writer_path = os.path.abspath('./test')\n",
    "    if os.path.isdir(test_writer_path): os.system('rm -r {}'.format(test_writer_path))\n",
    "    os.mkdir(test_writer_path)\n",
    "    \n",
    "    \n",
    "    train_writer = tf.summary.FileWriter(train_writer_path, sess.graph)\n",
    "    test_writer = tf.summary.FileWriter(test_writer_path)\n",
    "    \n",
    "    \n",
    "    # Init variables\n",
    "    init = tf.global_variables_initializer()\n",
    "    # To fix the bug introduced in TF 0.12.1 as in\n",
    "    # http://stackoverflow.com/questions/41543774/invalidargumenterror-for-tensor-bool-tensorflow-0-12-1\n",
    "    #sess.run(init)\n",
    "    sess.run(init, {is_training_pl: True})\n",
    "\n",
    "    ops = {'pointclouds_pl': pointclouds_pl,\n",
    "           'labels_pl': labels_pl,\n",
    "           'is_training_pl': is_training_pl,\n",
    "           'pred': pred,\n",
    "           'loss': loss,\n",
    "           'train_op': train_op,\n",
    "           'merged': merged,\n",
    "           'step': batch}\n",
    "    \n",
    "    data_train = np.concatenate(data[:2])\n",
    "    print data_train.shape\n",
    "    label_train = np.concatenate(label[:2])\n",
    "    print label_train.shape\n",
    "        \n",
    "    data_vali = data[1]\n",
    "    label_vali = label[1]\n",
    "    \n",
    "    data_test = data[2]\n",
    "    label_test = label[2]\n",
    "    \n",
    "        \n",
    "    for epoch in range(MAX_EPOCH):\n",
    "        \n",
    "        ## Training\n",
    "        log_string ( \" Train one epoch %3d / %3d\" % (epoch+1, MAX_EPOCH) )\n",
    "        sys.stdout.flush()\n",
    "        \n",
    "        is_training = True\n",
    "        \n",
    "        # Shuffle train files\n",
    "        train_file_idxs = np.arange(0, data_train.shape[0])\n",
    "        np.random.shuffle(train_file_idxs)\n",
    "        \n",
    "        current_data = data_train[train_file_idxs] \n",
    "        current_label = label_train[train_file_idxs]\n",
    "              \n",
    "        ## Evaluation metric\n",
    "        total_correct = 0\n",
    "        total_seen = 0\n",
    "        loss_sum = 0\n",
    "        \n",
    "        total_class = [0 for _ in range(NUM_CLASSES)]\n",
    "        total_detect_class = [0 for _ in range(NUM_CLASSES)]\n",
    "        total_correct_class = [0 for _ in range(NUM_CLASSES)]\n",
    "            \n",
    "        num_batches = current_data.shape[0] // BATCH_SIZE\n",
    "               \n",
    "        for batch_idx in trange(num_batches):\n",
    "            \n",
    "            start_idx = batch_idx * BATCH_SIZE\n",
    "            end_idx = (batch_idx+1) * BATCH_SIZE           \n",
    "\n",
    "            # Augment batched point clouds by rotation and jittering\n",
    "            rotated_data = provider.rotate_point_cloud(current_data[start_idx:end_idx, :, :])\n",
    "            jittered_data = provider.jitter_point_cloud(rotated_data)\n",
    "            \n",
    "            feed_dict = {ops['pointclouds_pl']: jittered_data,\n",
    "                         ops['labels_pl']: current_label[start_idx:end_idx],\n",
    "                         ops['is_training_pl']: is_training,}\n",
    "            \n",
    "            summary, step, _, loss_val, pred_val = sess.run([ops['merged'], ops['step'],\n",
    "                ops['train_op'], ops['loss'], ops['pred']], feed_dict=feed_dict)\n",
    "            \n",
    "            train_writer.add_summary(summary, step)\n",
    "            \n",
    "            pred_val = np.argmax(pred_val, 1)\n",
    "            correct = np.sum(pred_val == current_label[start_idx:end_idx])\n",
    "            total_correct += correct\n",
    "            total_seen += BATCH_SIZE\n",
    "            loss_sum += loss_val\n",
    "            \n",
    "            for i in range(NUM_CLASSES):\n",
    "                total_class[i] = np.sum( np.ones(BATCH_SIZE) * i == current_label[start_idx:end_idx] )\n",
    "                total_detect_class[i] = np.sum( np.ones(BATCH_SIZE) * i == pred_val )\n",
    "                total_correct_class[i] = np.sum( (np.ones(BATCH_SIZE) * i == current_label[start_idx:end_idx]) * \\\n",
    "                                                    (np.ones(BATCH_SIZE) * i == pred_val) )\n",
    "                                \n",
    "        log_string(  '[Epoch %d] mean loss: %f' % \\\n",
    "                   (  epoch, loss_sum / float(total_seen)  )   )\n",
    "        log_string(  '[Epoch %d] accuracy: %f'% \\\n",
    "                   (  epoch, total_correct / float(total_seen)  )   )\n",
    "        log_string(  '[Epoch %d] avg class acc: %f' % \\\n",
    "                   (  epoch, np.mean( np.array(total_correct_class)/np.array(total_class,dtype=np.float) )  )   )\n",
    "        \n",
    "        for i_cls in range(NUM_CLASSES):\n",
    "            log_string(  '[Epoch %d] indivisual [%d] class recall: %f' % \\\n",
    "                       (  epoch, i_cls, float(total_correct_class[i_cls])/float(total_class[i_cls])))    \n",
    "            log_string(  '[Epoch %d] indivisual [%d] class precision: %f' % \\\n",
    "                       (  epoch, i_cls, float(total_correct_class[i_cls])/float(total_detect_class[i_cls])))    \n",
    "\n",
    "\n",
    "        ## Evaluation using validation set    \n",
    "        log_string ( \" Evaluation one (validation set) epoch %3d / %3d\" % (epoch+1, MAX_EPOCH) )\n",
    "        sys.stdout.flush()\n",
    "        \n",
    "        is_training = False\n",
    "        total_correct = 0\n",
    "        total_seen = 0\n",
    "        total_seen_class = [0 for _ in range(NUM_CLASSES)]\n",
    "        total_correct_class = [0 for _ in range(NUM_CLASSES)]\n",
    "        total_detect_class = [0 for _ in range(NUM_CLASSES)]\n",
    "        total_detect_true_class = [0 for _ in range(NUM_CLASSES)]\n",
    "        \n",
    "        # Shuffle validation files\n",
    "        file_idxs = np.arange(0, data_vali.shape[0])\n",
    "        np.random.shuffle(file_idxs)\n",
    "        \n",
    "        current_data = data_vali[file_idxs]\n",
    "        current_label = label_vali[file_idxs]\n",
    "        \n",
    "        num_batches = current_data.shape[0] // BATCH_SIZE\n",
    "               \n",
    "        for batch_idx in trange(num_batches):\n",
    "            start_idx = batch_idx * BATCH_SIZE\n",
    "            end_idx = (batch_idx+1) * BATCH_SIZE\n",
    "\n",
    "            feed_dict = {ops['pointclouds_pl']: current_data[start_idx:end_idx, :, :],\n",
    "                         ops['labels_pl']: current_label[start_idx:end_idx],\n",
    "                         ops['is_training_pl']: is_training}\n",
    "            summary, step, loss_val, pred_val = sess.run([ops['merged'], ops['step'],\n",
    "                ops['loss'], ops['pred']], feed_dict=feed_dict)\n",
    "            \n",
    "            # test_writer.add_summary(summary, step)\n",
    "            \n",
    "            pred_val = np.argmax(pred_val, 1)\n",
    "            correct = np.sum(pred_val == current_label[start_idx:end_idx])\n",
    "            total_correct += correct\n",
    "            total_seen += BATCH_SIZE\n",
    "            \n",
    "            for i in range(NUM_CLASSES):\n",
    "                total_class[i] = np.sum( np.ones(BATCH_SIZE) * i == current_label[start_idx:end_idx] )\n",
    "                total_detect_class[i] = np.sum( np.ones(BATCH_SIZE) * i == pred_val )\n",
    "                total_correct_class[i] = np.sum( (np.ones(BATCH_SIZE) * i == current_label[start_idx:end_idx]) * \\\n",
    "                                                    (np.ones(BATCH_SIZE) * i == pred_val) )\n",
    "                                \n",
    "        log_string(  '[Epoch %d] vali mean loss: %f' % \\\n",
    "                   (  epoch, loss_sum / float(total_seen)  )   )\n",
    "        log_string(  '[Epoch %d] vali accuracy: %f'% \\\n",
    "                   (  epoch, total_correct / float(total_seen)  )   )\n",
    "        log_string(  '[Epoch %d] vali avg class acc: %f' % \\\n",
    "                   (  epoch, np.mean( np.array(total_correct_class) / np.array(total_class) )  )   )\n",
    "        \n",
    "        for i_cls in range(NUM_CLASSES):\n",
    "            log_string(  '[Epoch %d] vali indivisual [%d] class recall: %f' % \\\n",
    "                       (  epoch, i_cls, float(total_correct_class[i_cls])/float(total_class[i_cls])))    \n",
    "            log_string(  '[Epoch %d] vali indivisual [%d] class precision: %f' % \\\n",
    "                       (  epoch, i_cls, float(total_correct_class[i_cls])/float(total_detect_class[i_cls])))    \n",
    "            \n",
    "        ## Evaluation using test set    \n",
    "        log_string ( \" Evaluation one (test set) epoch %3d / %3d\" % (epoch+1, MAX_EPOCH) )\n",
    "        sys.stdout.flush()\n",
    "        \n",
    "        is_training = False\n",
    "        total_correct = 0\n",
    "        total_seen = 0\n",
    "        total_seen_class = [0 for _ in range(NUM_CLASSES)]\n",
    "        total_correct_class = [0 for _ in range(NUM_CLASSES)]\n",
    "        total_detect_class = [0 for _ in range(NUM_CLASSES)]\n",
    "        total_detect_true_class = [0 for _ in range(NUM_CLASSES)]\n",
    "        \n",
    "        # Shuffle test files\n",
    "        file_idxs = np.arange(0, data_test.shape[0])\n",
    "        np.random.shuffle(file_idxs)\n",
    "        \n",
    "        current_data = data_test[file_idxs]\n",
    "        current_label = label_test[file_idxs]\n",
    "        \n",
    "        \n",
    "        num_batches = current_data.shape[0] // BATCH_SIZE\n",
    "               \n",
    "        for batch_idx in trange(num_batches):\n",
    "            start_idx = batch_idx * BATCH_SIZE\n",
    "            end_idx = (batch_idx+1) * BATCH_SIZE\n",
    "\n",
    "            feed_dict = {ops['pointclouds_pl']: current_data[start_idx:end_idx, :, :],\n",
    "                         ops['labels_pl']: current_label[start_idx:end_idx],\n",
    "                         ops['is_training_pl']: is_training}\n",
    "            summary, step, loss_val, pred_val = sess.run([ops['merged'], ops['step'],\n",
    "                ops['loss'], ops['pred']], feed_dict=feed_dict)\n",
    "            \n",
    "            test_writer.add_summary(summary, step)\n",
    "            \n",
    "            pred_val = np.argmax(pred_val, 1)\n",
    "            correct = np.sum(pred_val == current_label[start_idx:end_idx])\n",
    "            total_correct += correct\n",
    "            total_seen += BATCH_SIZE\n",
    "            \n",
    "            for i in range(NUM_CLASSES):\n",
    "                total_class[i] = np.sum( np.ones(BATCH_SIZE) * i == current_label[start_idx:end_idx] )\n",
    "                total_detect_class[i] = np.sum( np.ones(BATCH_SIZE) * i == pred_val )\n",
    "                total_correct_class[i] = np.sum( (np.ones(BATCH_SIZE) * i == current_label[start_idx:end_idx]) * \\\n",
    "                                                    (np.ones(BATCH_SIZE) * i == pred_val) )\n",
    "                                \n",
    "        log_string(  '[Epoch %d] test mean loss: %f' % \\\n",
    "                   (  epoch, loss_sum / float(total_seen)  )   )\n",
    "        log_string(  '[Epoch %d] test accuracy: %f'% \\\n",
    "                   (  epoch, total_correct / float(total_seen)  )   )\n",
    "        log_string(  '[Epoch %d] test avg class acc: %f' % \\\n",
    "                   (  epoch, np.mean( np.array(total_correct_class)/np.array(total_class,dtype=np.float) )  )   )\n",
    "        \n",
    "        for i_cls in range(NUM_CLASSES):\n",
    "            log_string(  '[Epoch %d] test indivisual [%d] class recall: %f' % \\\n",
    "                       (  epoch, i_cls, float(total_correct_class[i_cls])/float(total_class[i_cls])))    \n",
    "            log_string(  '[Epoch %d] test indivisual [%d] class precision: %f' % \\\n",
    "                       (  epoch, i_cls, float(total_correct_class[i_cls])/float(total_detect_class[i_cls])))    \n",
    " \n",
    "        # Save the variables to disk.\n",
    "        if ( epoch + 1 ) % 10 == 0:\n",
    "            save_path = saver.save(sess, os.path.join(model_save_path, \"model.ckpt\"))\n",
    "            log_string(\"Model saved in file: %s\" % save_path)\n",
    "                "
   ]
  },
  {
   "cell_type": "code",
   "execution_count": null,
   "metadata": {},
   "outputs": [],
   "source": []
  }
 ],
 "metadata": {
  "kernelspec": {
   "display_name": "Python 2",
   "language": "python",
   "name": "python2"
  },
  "language_info": {
   "codemirror_mode": {
    "name": "ipython",
    "version": 2
   },
   "file_extension": ".py",
   "mimetype": "text/x-python",
   "name": "python",
   "nbconvert_exporter": "python",
   "pygments_lexer": "ipython2",
   "version": "2.7.12"
  }
 },
 "nbformat": 4,
 "nbformat_minor": 2
}
